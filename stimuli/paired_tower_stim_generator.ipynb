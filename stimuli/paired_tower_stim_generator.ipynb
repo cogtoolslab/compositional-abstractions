{
 "cells": [
  {
   "cell_type": "code",
   "execution_count": 3,
   "metadata": {},
   "outputs": [
    {
     "name": "stderr",
     "output_type": "stream",
     "text": [
      "/Users/will/anaconda3/lib/python3.7/site-packages/statsmodels/tools/_testing.py:19: FutureWarning: pandas.util.testing is deprecated. Use the functions in the public API at pandas.testing instead.\n",
      "  import pandas.util.testing as tm\n"
     ]
    }
   ],
   "source": [
    "from __future__ import division\n",
    "\n",
    "import numpy as np\n",
    "import os, sys\n",
    "from PIL import Image\n",
    "import pandas as pd\n",
    "\n",
    "from matplotlib import pylab, mlab, pyplot\n",
    "import matplotlib.pyplot as plt\n",
    "import matplotlib.image as mpimg\n",
    "from matplotlib.path import Path\n",
    "import matplotlib.patches as patches\n",
    "%matplotlib inline\n",
    "\n",
    "from IPython.core.pylabtools import figsize, getfigs\n",
    "\n",
    "import seaborn as sns\n",
    "\n",
    "import random\n",
    "\n",
    "from scipy.stats import norm\n",
    "from IPython.display import clear_output\n",
    "\n",
    "import copy\n",
    "import importlib\n",
    "\n",
    "\n",
    "### Add Paths\n",
    "\n",
    "## root paths\n",
    "curr_dir = os.getcwd()\n",
    "proj_dir = os.path.abspath(os.path.join(curr_dir,'..','..')) ## use relative paths\n",
    "\n",
    "## add helpers to python path\n",
    "import sys\n",
    "if os.path.join(proj_dir, 'stimuli') not in sys.path:\n",
    "    sys.path.append(os.path.join(proj_dir, 'stimuli'))\n",
    "\n",
    "## custom helper modules\n",
    "import blockworld_helpers as utils"
   ]
  },
  {
   "cell_type": "code",
   "execution_count": 4,
   "metadata": {},
   "outputs": [
    {
     "data": {
      "text/plain": [
       "<module 'blockworld_helpers' from '/Users/will/compositional-abstractions/stimuli/blockworld_helpers.py'>"
      ]
     },
     "execution_count": 4,
     "metadata": {},
     "output_type": "execute_result"
    }
   ],
   "source": [
    "importlib.reload(utils)"
   ]
  },
  {
   "cell_type": "code",
   "execution_count": 9,
   "metadata": {},
   "outputs": [],
   "source": [
    "# setup\n",
    "block_dims = [(2,1),(1,2)]\n",
    "block_colors = ['#B32F0A','#0A2FB3']\n",
    "black = ['#000000','#000000'] # used to display silhouettes\n",
    "world_width = 8\n",
    "world_height = 8\n",
    "world_center = int((world_width-1)/2)\n",
    "\n",
    "# convert dictionary representations of towers to (hashable) tuple and back\n",
    "def world_dicts_to_tuples(wd):\n",
    "    wt = tuple((block['x'],block['y'],block['height'],block['width']) for block in wd)\n",
    "    return wt\n",
    "\n",
    "def world_tuples_to_dicts(wt):\n",
    "    wd = [{'x': block[0],\n",
    "             'y': block[1],\n",
    "             'height': block[2],\n",
    "             'width': block[3]} for block in wt]\n",
    "    return wd\n",
    "\n",
    "\n",
    "# helper functions to reduce set of towers\n",
    "\n",
    "def sort_blocks(stim_list):\n",
    "    # sort the blocks within a tower to find unique towers\n",
    "    sorted_list = [sorted(tower, key = lambda block: (block['y'],block['x'],block['height'],block['width'])) # SWAPPED X AND Y POSITIONS IN TUPLE HERE\n",
    "     for tower in stim_list]\n",
    "    \n",
    "    return sorted_list\n",
    "\n",
    "\n",
    "def align_towers(stim_list):\n",
    "    # place leftmost block in position 0\n",
    "    # by subtracting min x ordinate from all x-values\n",
    "\n",
    "    min_xs = [min([block['x'] for block in tower]) for tower in stim_list]\n",
    "\n",
    "    aligned_towers = [[{'x': block['x'] - min_x,\n",
    "       'y': block['y'],\n",
    "       'height': block['height'],\n",
    "       'width': block['width']}\n",
    "      for block in tower] for (tower, min_x) in zip(stim_list, min_xs)]\n",
    "    \n",
    "    return aligned_towers\n",
    "\n",
    "def convert_to_tuples(stim_list):\n",
    "    return [world_dicts_to_tuples(tower) for tower in stim_list]\n",
    "\n",
    "def find_unique_towers(stim_list):\n",
    "    return set(stim_list)\n"
   ]
  },
  {
   "cell_type": "markdown",
   "metadata": {},
   "source": [
    "## Create all 4-block towers"
   ]
  },
  {
   "cell_type": "code",
   "execution_count": 8,
   "metadata": {},
   "outputs": [],
   "source": [
    "# generate stims\n",
    "\n",
    "max_blocks = 5\n",
    "\n",
    "stims = {}\n",
    "\n",
    "# single block in center of world\n",
    "stims[1] = []\n",
    "\n",
    "for block in block_dims:\n",
    "    w = utils.World(block_dims = block_dims,\n",
    "                block_colors = block_colors)\n",
    "    w.add_block(block[0], # width\n",
    "                block[1], # height\n",
    "                world_center,0)\n",
    "    stims[1].append(w.get_block_dict()['blocks'])\n",
    "\n",
    "\n",
    "# add a block in all available locations to all existing towers of n-1 blocks\n",
    "for n_blocks in range(2,max_blocks+1):\n",
    "    stims[n_blocks] = []\n",
    "\n",
    "    # add block in position\n",
    "    for stim_blocks in stims[n_blocks-1]:\n",
    "        for block in block_dims:\n",
    "            for x in range(0, world_width-1):\n",
    "                #repopulate world\n",
    "                w = utils.World(block_dims = block_dims,\n",
    "                                block_colors = block_colors)\n",
    "                w.populate_from_block_list(stim_blocks)\n",
    "\n",
    "                #add new block\n",
    "                w.snap_to_floor(block[0], # width\n",
    "                            block[1], # height\n",
    "                            x)\n",
    "                stims[n_blocks].append(w.get_block_dict()['blocks'])\n"
   ]
  },
  {
   "cell_type": "code",
   "execution_count": 14,
   "metadata": {},
   "outputs": [
    {
     "name": "stdout",
     "output_type": "stream",
     "text": [
      "1 block towers: 2\n",
      "2 block towers: 28\n",
      "3 block towers: 392\n",
      "4 block towers: 5488\n",
      "5 block towers: 76832\n"
     ]
    }
   ],
   "source": [
    "# how many of each? (not necessarily unique)\n",
    "_ = [print(str(i) + ' block towers: ' + str(len(stims[i]))) for i in stims.keys()]"
   ]
  },
  {
   "cell_type": "markdown",
   "metadata": {},
   "source": [
    "### Filter duplicate towers\n",
    "\n",
    "#### sort blocks in tower"
   ]
  },
  {
   "cell_type": "code",
   "execution_count": 10,
   "metadata": {},
   "outputs": [],
   "source": [
    "stims_sorted_blocks = {i : sort_blocks(stim_list) for _, (i, stim_list) in enumerate(stims.items())}"
   ]
  },
  {
   "cell_type": "markdown",
   "metadata": {},
   "source": [
    "####  translational invariance- align all towers to left"
   ]
  },
  {
   "cell_type": "code",
   "execution_count": 11,
   "metadata": {},
   "outputs": [],
   "source": [
    "stims_aligned_blocks = {i : align_towers(stim_list) for _, (i, stim_list) in enumerate(stims_sorted_blocks.items())}"
   ]
  },
  {
   "cell_type": "markdown",
   "metadata": {},
   "source": [
    "####  find unique towers (i.e. same blocks in same place)"
   ]
  },
  {
   "cell_type": "code",
   "execution_count": 12,
   "metadata": {},
   "outputs": [],
   "source": [
    "# convert to tuples for easy set operations\n",
    "tower_tuples = {i : convert_to_tuples(stim_list) for _, (i, stim_list) in enumerate(stims_aligned_blocks.items())}\n",
    "\n",
    "# now towers are sorted and aligned, find unique towers\n",
    "unique_towers_tuples = {i : find_unique_towers(stim_list) for _, (i, stim_list) in enumerate(tower_tuples.items())}\n",
    "\n",
    "# convert back to dictionary for easier tower-operations\n",
    "unique_towers_dicts = {i : [world_tuples_to_dicts(tower) for tower in stim_list]\n",
    "                           for _, (i, stim_list) in enumerate(unique_towers_tuples.items())}"
   ]
  },
  {
   "cell_type": "code",
   "execution_count": 13,
   "metadata": {
    "scrolled": false
   },
   "outputs": [
    {
     "name": "stdout",
     "output_type": "stream",
     "text": [
      "Unique block towers (same blocks in same place):\n",
      "1 block: 2\n",
      "2 block: 18\n",
      "3 block: 162\n",
      "4 block: 1234\n",
      "5 block: 8384\n"
     ]
    }
   ],
   "source": [
    "print('Unique block towers (same blocks in same place):')\n",
    "_ = [print(str(i) + ' block: ' + str(len(unique_towers_dicts[i]))) for i in unique_towers_dicts.keys()]"
   ]
  },
  {
   "cell_type": "markdown",
   "metadata": {},
   "source": [
    "## Filter towers based on constraints"
   ]
  },
  {
   "cell_type": "markdown",
   "metadata": {},
   "source": [
    "#### Create dataframe with properties of towers"
   ]
  },
  {
   "cell_type": "code",
   "execution_count": 16,
   "metadata": {},
   "outputs": [
    {
     "name": "stdout",
     "output_type": "stream",
     "text": [
      "WARNING: tower not aligned left. Do this manually\n"
     ]
    }
   ],
   "source": [
    "df_stim = pd.DataFrame()\n",
    "\n",
    "for _, (i, stim_list) in enumerate(unique_towers_dicts.items()):\n",
    "    for stim in stim_list:\n",
    "        world = utils.worldify(stim) # convert to world object\n",
    "        \n",
    "        df_stim = df_stim.append(\n",
    "        {\n",
    "            'stim': stim,\n",
    "            'stim_tuple': world_dicts_to_tuples(stim),\n",
    "            'n_blocks': i,\n",
    "            'fully_connected': world.fully_connected(connectivity=1),\n",
    "            'fully_connected_diag': world.fully_connected(connectivity=2),\n",
    "            'blocks_above_ground': world.n_blocks_above_ground(),\n",
    "            'tower_height': world.tower_height(),\n",
    "            'tower_width': world.tower_width(),\n",
    "            'two_h_two_v': world.two_h_two_v(),\n",
    "            'silhouette': world.block_map\n",
    "        }, ignore_index=True).astype(object)\n",
    "        \n",
    "df_stim['fully_connected'] = df_stim['fully_connected'].astype(np.bool)\n",
    "df_stim['fully_connected_diag'] = df_stim['fully_connected_diag'].astype(np.bool)\n",
    "df_stim['two_h_two_v'] = df_stim['two_h_two_v'].astype(np.bool)\n",
    "\n",
    "df_stim['silhouette_str'] = df_stim['silhouette'].apply(utils.convert_to_str)\n",
    "\n",
    "df_stim = df_stim.sort_values('silhouette_str').reset_index()"
   ]
  },
  {
   "cell_type": "code",
   "execution_count": 20,
   "metadata": {},
   "outputs": [],
   "source": [
    "# All 4-block towers that meet our contraints\n",
    "four_block_superset = df_stim[(df_stim.n_blocks==4) &\n",
    "                                    (df_stim.fully_connected) & \n",
    "                                    (df_stim.two_h_two_v) &\n",
    "                                    (df_stim.blocks_above_ground>=2)]"
   ]
  },
  {
   "cell_type": "code",
   "execution_count": 21,
   "metadata": {},
   "outputs": [
    {
     "data": {
      "image/png": "[encoded data removed]",
      "text/plain": [
       "<Figure size 864x1872 with 140 Axes>"
      ]
     },
     "metadata": {
      "needs_background": "light"
     },
     "output_type": "display_data"
    }
   ],
   "source": [
    "utils.draw_towers([utils.worldify(w, \n",
    "                                  block_dims = block_dims, \n",
    "                                  block_colors = block_colors) \n",
    "                   for w in four_block_superset['stim']],\n",
    "                 figsize=(12,26))"
   ]
  },
  {
   "cell_type": "code",
   "execution_count": 64,
   "metadata": {
    "scrolled": false
   },
   "outputs": [],
   "source": [
    "# set of silhouettes to be used in prior elicitation study\n",
    "render = False\n",
    "\n",
    "silhouette_superset = four_block_superset.groupby('silhouette_str').agg('first').reset_index()\n",
    "silhouette_superset['tower_number'] = silhouette_superset.index\n",
    "\n",
    "if render:\n",
    "    utils.draw_towers([utils.worldify(w, \n",
    "                                      block_dims = block_dims, \n",
    "                                      block_colors = black) \n",
    "                       for w in silhouette_superset['stim']],\n",
    "                     figsize=(12,26))"
   ]
  },
  {
   "cell_type": "markdown",
   "metadata": {},
   "source": [
    "## Find tall and wide towers\n",
    "\n",
    "Tall subset and wide subset to be combined in composite towers.\n",
    "\n",
    "First find maximal subsets, i.e.\n",
    "\n",
    "Wide:\n",
    "- height <=3\n",
    "\n",
    "Tall:\n",
    "- height >= 5\n",
    "- width <= 5\n",
    "\n",
    "These settings exclude e.g. 'L' used in previous study."
   ]
  },
  {
   "cell_type": "code",
   "execution_count": 38,
   "metadata": {},
   "outputs": [],
   "source": [
    "unique_by_silhoutte = False"
   ]
  },
  {
   "cell_type": "code",
   "execution_count": 65,
   "metadata": {},
   "outputs": [
    {
     "name": "stdout",
     "output_type": "stream",
     "text": [
      "22 horizontal towers\n"
     ]
    },
    {
     "data": {
      "image/png": "[encoded data removed]",
      "text/plain": [
       "<Figure size 864x432 with 30 Axes>"
      ]
     },
     "metadata": {
      "needs_background": "light"
     },
     "output_type": "display_data"
    }
   ],
   "source": [
    "# Wide tower constraints\n",
    "\n",
    "wide_subset = four_block_superset[(four_block_superset.tower_height <= 3)].reset_index()\n",
    "\n",
    "# get unique silhouettes\n",
    "\n",
    "if unique_by_silhoutte:\n",
    "    wide_subset = wide_subset.groupby('silhouette_str').agg('first').reset_index()\n",
    "\n",
    "utils.draw_towers([utils.worldify(w, \n",
    "                                  block_dims = block_dims, \n",
    "#                                   block_colors = black,\n",
    "                                  block_colors = block_colors,\n",
    "                                 ) \n",
    "                   for w in wide_subset['stim']],\n",
    "                 figsize=(12,6))\n",
    "\n",
    "\n",
    "print(str(len(wide_subset))+ ' horizontal towers')"
   ]
  },
  {
   "cell_type": "code",
   "execution_count": 66,
   "metadata": {},
   "outputs": [
    {
     "name": "stdout",
     "output_type": "stream",
     "text": [
      "56 vertical towers\n"
     ]
    },
    {
     "data": {
      "image/png": "[encoded data removed]",
      "text/plain": [
       "<Figure size 864x864 with 60 Axes>"
      ]
     },
     "metadata": {
      "needs_background": "light"
     },
     "output_type": "display_data"
    }
   ],
   "source": [
    "# Tall tower constraints\n",
    "\n",
    "tall_subset = four_block_superset[(four_block_superset.tower_height >= 5) &\n",
    "                                  (four_block_superset.tower_width <= 3)].reset_index()\n",
    "\n",
    "# get unique silhouettes\n",
    "if unique_by_silhoutte:\n",
    "    tall_subset = tall_subset.groupby('silhouette_str').agg('first').reset_index()\n",
    "\n",
    "\n",
    "utils.draw_towers([utils.worldify(w, \n",
    "                                  block_dims = block_dims, \n",
    "#                                   block_colors = black,\n",
    "                                  block_colors = block_colors,\n",
    "                                 ) \n",
    "                   for w in tall_subset['stim']],\n",
    "                 figsize=(12,12))\n",
    "\n",
    "print(str(len(tall_subset))+ ' vertical towers')"
   ]
  },
  {
   "cell_type": "markdown",
   "metadata": {},
   "source": [
    "## Combine towers"
   ]
  },
  {
   "cell_type": "code",
   "execution_count": null,
   "metadata": {},
   "outputs": [],
   "source": []
  },
  {
   "cell_type": "markdown",
   "metadata": {},
   "source": [
    "### Wide towers smooshed directly on top of each other\n",
    "\n",
    "Notes:\n",
    "- Square-aperture towers \n",
    "    - Special case because a) they're 3-blocks wide not 4, and hence b) aligning them to the left misses out on a bunch of interesting structures.\n",
    "    - Consider adding a right-aligned square-aperture.\n"
   ]
  },
  {
   "cell_type": "code",
   "execution_count": 49,
   "metadata": {},
   "outputs": [],
   "source": [
    "def compose_vertically(stim_a, stim_b): \n",
    "    \n",
    "    world = utils.worldify(stim_a, \n",
    "                         block_dims = block_dims, \n",
    "                         block_colors = block_colors,)\n",
    "\n",
    "    tower_a_height = world.tower_height()\n",
    "    \n",
    "    still_good = True\n",
    "    \n",
    "    for block in stim_b:\n",
    "        placed_block = world.snap_to_floor(block['width'], block['height'], block['x'])\n",
    "#         print(placed_block.y)\n",
    "#         print(block['y']+tower_a_height)\n",
    "#         print('this block good: ' + str(placed_block.y == (block['y'] + tower_a_height)))\n",
    "        still_good = still_good and (placed_block.y == (block['y'] + tower_a_height))\n",
    "#         print(still_good)\n",
    "        \n",
    "    return (still_good, world)\n"
   ]
  },
  {
   "cell_type": "code",
   "execution_count": 50,
   "metadata": {},
   "outputs": [],
   "source": [
    "vert_composition_attempts_matrix = np.array([[compose_vertically(stim_a, stim_b)\\\n",
    "                             for stim_a in wide_subset['stim']]\\\n",
    "                                 for stim_b in wide_subset['stim']])"
   ]
  },
  {
   "cell_type": "code",
   "execution_count": 51,
   "metadata": {},
   "outputs": [
    {
     "data": {
      "image/png": "[encoded data removed]",
      "text/plain": [
       "<Figure size 2160x2880 with 529 Axes>"
      ]
     },
     "metadata": {
      "needs_background": "light"
     },
     "output_type": "display_data"
    }
   ],
   "source": [
    "n_towers = vert_composition_attempts_matrix.shape[0]\n",
    "\n",
    "fig, axs = plt.subplots(n_towers+1, n_towers+1, figsize = (30, 40))\n",
    "\n",
    "for ax in axs.flatten():\n",
    "    ax.axis('off')\n",
    "\n",
    "# Add tower-chunks as titles\n",
    "for i in range(0, n_towers):\n",
    "    #grab tower\n",
    "    world = utils.worldify(wide_subset['stim'][i], block_dims = block_dims, block_colors = block_colors)\n",
    "    utils.tower_subplot(utils.patches_for_world(world.blocks), axs[i+1,0])\n",
    "    utils.tower_subplot(utils.patches_for_world(world.blocks), axs[0,i+1])\n",
    "    \n",
    "# iterate over towers\n",
    "for i in range(0, n_towers):\n",
    "    for j in range(0, n_towers):\n",
    "        if vert_composition_attempts_matrix[i,j,0]:\n",
    "            world = vert_composition_attempts_matrix[i,j,1]\n",
    "            utils.tower_subplot(utils.patches_for_world(world.blocks), axs[i+1,j+1])"
   ]
  },
  {
   "cell_type": "markdown",
   "metadata": {},
   "source": [
    "### Tall towers smooshed as close as possible"
   ]
  },
  {
   "cell_type": "code",
   "execution_count": 52,
   "metadata": {},
   "outputs": [],
   "source": [
    "# compose horizontally\n",
    "\n",
    "def compose_horizontally(stim_a, stim_b): \n",
    "    '''\n",
    "    Composes two tall stimuli by placing them side by side.\n",
    "    \n",
    "    Tries placing tower 1, then 2 blocks to the right of it's left-aligned position.\n",
    "\n",
    "    Rejects tower if width > 4 squares\n",
    "    \n",
    "    \n",
    "    Want to assume that if you can build the towers one after the other, you can build them the other way around\n",
    "    This should work given that each is an independent standing tower, but:\n",
    "    NEED TO CHECK THAT IN EXPERIMENT YOU CAN SNAP A BLOCK UNDER ANOTHER IF NEEDED\n",
    "    \n",
    "    PRE: stims are maximum 3 wide\n",
    "    '''\n",
    "    \n",
    "    still_good = False\n",
    "    successful_alignment = None\n",
    "    \n",
    "    \n",
    "    for alignment in [1,2]:\n",
    "        \n",
    "        if still_good == False:\n",
    "\n",
    "            # Try placing left tower first\n",
    "            world = utils.worldify(stim_a, \n",
    "                                 block_dims = block_dims, \n",
    "                                 block_colors = block_colors,)\n",
    "\n",
    "            still_good = True\n",
    "\n",
    "            for block in stim_b:\n",
    "                # place block 'alignment' squares to the right of its default position\n",
    "                placed_block = world.snap_to_floor(block['width'], block['height'], block['x'] + alignment)\n",
    "                # if it stays at the predefined height, we're good\n",
    "                still_good = still_good and (placed_block.y == (block['y']))\n",
    "\n",
    "\n",
    "            if not still_good:\n",
    "                # Try placing right tower\n",
    "                \n",
    "                realigned_tower = [{'x': b['x'] + alignment,\n",
    "                                     'y': b['y'],\n",
    "                                     'height': b['height'],\n",
    "                                     'width': b['width']}\n",
    "                                              for b in stim_b]\n",
    "\n",
    "                world = utils.worldify(realigned_tower, \n",
    "                                     block_dims = block_dims, \n",
    "                                     block_colors = block_colors,)\n",
    "\n",
    "                still_good = True\n",
    "\n",
    "                for block in stim_a:\n",
    "                    # place block 'alignment' squares to the right of its default position\n",
    "                    placed_block = world.snap_to_floor(block['width'], block['height'], block['x'])\n",
    "                    # if it stays at the predefined height, we're good\n",
    "                    still_good = still_good and (placed_block.y == (block['y']))\n",
    "                    \n",
    "                still_good = still_good and world.tower_width() <=4\n",
    "                    \n",
    "                \n",
    "                \n",
    "                if not still_good:\n",
    "                    # try sorting\n",
    "                    \n",
    "                    stim_a_copy = stim_a.copy()\n",
    "                    \n",
    "                    sorted_stims = sort_blocks([stim_a_copy + realigned_tower])[0]\n",
    "\n",
    "                    world = utils.World(block_dims = block_dims, \n",
    "                                        block_colors = block_colors,)\n",
    "                    still_good = True\n",
    "\n",
    "                    for block in sorted_stims:\n",
    "                        # place block 'alignment' squares to the right of its default position\n",
    "                        placed_block = world.snap_to_floor(block['width'], block['height'], block['x'])\n",
    "                        # if it stays at the predefined height, we're good\n",
    "                        still_good = still_good and (placed_block.y == (block['y']))\n",
    "                \n",
    "                \n",
    "\n",
    "\n",
    "            still_good = still_good and world.tower_width() <=4\n",
    "            \n",
    "            if still_good:\n",
    "                successful_alignment = alignment\n",
    "            \n",
    "\n",
    "    return (still_good, world, successful_alignment)\n",
    "\n"
   ]
  },
  {
   "cell_type": "code",
   "execution_count": 67,
   "metadata": {},
   "outputs": [],
   "source": [
    "horz_composition_attempts_matrix = np.array([[compose_horizontally(stim_a, stim_b)\\\n",
    "                             for stim_a in tall_subset['stim']]\\\n",
    "                                 for stim_b in tall_subset['stim']])"
   ]
  },
  {
   "cell_type": "code",
   "execution_count": null,
   "metadata": {},
   "outputs": [],
   "source": [
    "n_towers = horz_composition_attempts_matrix.shape[0]\n",
    "\n",
    "fig, axs = plt.subplots(n_towers+1, n_towers+1, figsize = (30, 36) )\n",
    "\n",
    "for ax in axs.flatten():\n",
    "    ax.axis('off')\n",
    "\n",
    "# Add tower-chunks as titles\n",
    "for i in range(0, n_towers):\n",
    "    world = utils.worldify(tall_subset['stim'][i], block_dims = block_dims, block_colors = block_colors)\n",
    "    utils.tower_subplot(utils.patches_for_world(world.blocks), axs[i+1,0])\n",
    "    utils.tower_subplot(utils.patches_for_world(world.blocks), axs[0,i+1])\n",
    "    \n",
    "# iterate over towers\n",
    "for i in range(0, n_towers):\n",
    "    for j in range(0, n_towers):\n",
    "        if horz_composition_attempts_matrix[i,j,0]:\n",
    "            world = horz_composition_attempts_matrix[i,j,1]\n",
    "            utils.tower_subplot(utils.patches_for_world(world.blocks), axs[i+1,j+1])"
   ]
  },
  {
   "cell_type": "code",
   "execution_count": null,
   "metadata": {},
   "outputs": [],
   "source": []
  }
 ],
 "metadata": {
  "kernelspec": {
   "display_name": "Python 3",
   "language": "python",
   "name": "python3"
  },
  "language_info": {
   "codemirror_mode": {
    "name": "ipython",
    "version": 3
   },
   "file_extension": ".py",
   "mimetype": "text/x-python",
   "name": "python",
   "nbconvert_exporter": "python",
   "pygments_lexer": "ipython3",
   "version": "3.7.4"
  }
 },
 "nbformat": 4,
 "nbformat_minor": 2
}
