{
 "cells": [
  {
   "cell_type": "code",
   "execution_count": 1,
   "metadata": {},
   "outputs": [
    {
     "name": "stderr",
     "output_type": "stream",
     "text": [
      "/Users/will/anaconda3/lib/python3.7/site-packages/statsmodels/tools/_testing.py:19: FutureWarning: pandas.util.testing is deprecated. Use the functions in the public API at pandas.testing instead.\n",
      "  import pandas.util.testing as tm\n"
     ]
    }
   ],
   "source": [
    "from __future__ import division\n",
    "\n",
    "import numpy as np\n",
    "import os, sys\n",
    "from PIL import Image\n",
    "import pandas as pd\n",
    "import json\n",
    "import pickle\n",
    "\n",
    "from matplotlib import pylab, mlab, pyplot\n",
    "import matplotlib.pyplot as plt\n",
    "import matplotlib.image as mpimg\n",
    "from matplotlib.path import Path\n",
    "import matplotlib.patches as patches\n",
    "%matplotlib inline\n",
    "\n",
    "from IPython.core.pylabtools import figsize, getfigs\n",
    "\n",
    "import seaborn as sns\n",
    "\n",
    "import random\n",
    "\n",
    "from scipy.stats import norm\n",
    "from IPython.display import clear_output\n",
    "\n",
    "import copy\n",
    "import importlib\n",
    "\n",
    "\n",
    "### Add Paths\n",
    "\n",
    "## root paths\n",
    "curr_dir = os.getcwd()\n",
    "proj_dir = os.path.abspath(os.path.join(curr_dir,'..')) ## use relative paths\n",
    "\n",
    "## add helpers to python path\n",
    "import sys\n",
    "if os.path.join(proj_dir, 'stimuli') not in sys.path:\n",
    "    sys.path.append(os.path.join(proj_dir, 'stimuli'))\n",
    "\n",
    "## custom helper modules\n",
    "import blockworld_helpers as utils"
   ]
  },
  {
   "cell_type": "code",
   "execution_count": 42,
   "metadata": {},
   "outputs": [],
   "source": [
    "# setup\n",
    "block_dims = [(2,1),(1,2)]\n",
    "block_colors = ['#B32F0A','#0A2FB3']\n",
    "black = ['#000000','#000000'] # used to display silhouettes\n",
    "grey = ['#333333','#333333']\n",
    "world_width = 8\n",
    "world_height = 8\n",
    "world_center = int((world_width-1)/2)"
   ]
  },
  {
   "cell_type": "code",
   "execution_count": 52,
   "metadata": {},
   "outputs": [],
   "source": [
    "def world(block_dict):\n",
    "    return utils.worldify(block_dict,\n",
    "                   block_dims = block_dims,\n",
    "                   block_colors = block_colors,\n",
    "                   world_width = world_width,\n",
    "                   world_height = world_height\n",
    "                  )\n",
    "\n",
    "def inspect_composite(composite_row):\n",
    "    print('tower A')\n",
    "    utils.draw_tower(world(composite_row['tower_A_dict']))\n",
    "    print('tower B')\n",
    "    utils.draw_tower(world(composite_row['tower_B_dict']))\n",
    "    print('composite')\n",
    "    utils.draw_tower(world(composite_row['block_dict']))\n"
   ]
  },
  {
   "cell_type": "code",
   "execution_count": 5,
   "metadata": {},
   "outputs": [],
   "source": [
    "df_4_block = pd.read_pickle(\"./tower_4_block_unique_silhouettes/\\\n",
    "                               tower_4_block_unique_silhouettes.pkl\")\n",
    "\n",
    "df_composite = pd.read_pickle(\"./tower_4_block_unique_silhouettes_composites_json/\\\n",
    "                                 tower_4_block_unique_silhouettes_composites.pkl\")\n",
    "\n",
    "df_4_block['block_dict'] = df_4_block['stim']"
   ]
  },
  {
   "cell_type": "code",
   "execution_count": 21,
   "metadata": {},
   "outputs": [
    {
     "data": {
      "text/plain": [
       "[{'x': 0, 'y': 0, 'height': 1, 'width': 2},\n",
       " {'x': 0, 'y': 1, 'height': 1, 'width': 2},\n",
       " {'x': 1, 'y': 2, 'height': 2, 'width': 1},\n",
       " {'x': 1, 'y': 4, 'height': 2, 'width': 1},\n",
       " {'x': 2, 'y': 0, 'height': 1, 'width': 2},\n",
       " {'x': 2, 'y': 1, 'height': 1, 'width': 2},\n",
       " {'x': 3, 'y': 2, 'height': 2, 'width': 1},\n",
       " {'x': 3, 'y': 4, 'height': 2, 'width': 1}]"
      ]
     },
     "execution_count": 21,
     "metadata": {},
     "output_type": "execute_result"
    }
   ],
   "source": [
    "df_composite['block_dict'][0]"
   ]
  },
  {
   "cell_type": "code",
   "execution_count": 92,
   "metadata": {},
   "outputs": [
    {
     "name": "stdout",
     "output_type": "stream",
     "text": [
      "tower A\n"
     ]
    },
    {
     "data": {
      "image/png": "[encoded data removed]",
      "text/plain": [
       "<Figure size 144x216 with 1 Axes>"
      ]
     },
     "metadata": {
      "needs_background": "light"
     },
     "output_type": "display_data"
    },
    {
     "name": "stdout",
     "output_type": "stream",
     "text": [
      "tower B\n"
     ]
    },
    {
     "data": {
      "image/png": "[encoded data removed]",
      "text/plain": [
       "<Figure size 144x216 with 1 Axes>"
      ]
     },
     "metadata": {
      "needs_background": "light"
     },
     "output_type": "display_data"
    },
    {
     "name": "stdout",
     "output_type": "stream",
     "text": [
      "composite\n"
     ]
    },
    {
     "data": {
      "image/png": "[encoded data removed]",
      "text/plain": [
       "<Figure size 144x216 with 1 Axes>"
      ]
     },
     "metadata": {
      "needs_background": "light"
     },
     "output_type": "display_data"
    }
   ],
   "source": [
    "inspect_composite(df_composite.loc[1])"
   ]
  },
  {
   "cell_type": "code",
   "execution_count": 93,
   "metadata": {},
   "outputs": [],
   "source": [
    "tower = df_composite['block_dict'][1]"
   ]
  },
  {
   "cell_type": "code",
   "execution_count": 94,
   "metadata": {},
   "outputs": [],
   "source": [
    "def get_movement(old_x_location, new_x_location):\n",
    "    diff = new_x_location - old_x_location\n",
    "    \n",
    "    if diff == 0:\n",
    "        return ''\n",
    "    elif diff > 0:\n",
    "        return '(r ' + str(diff) + ') '\n",
    "    elif diff < 0:\n",
    "        return '(l ' + str(-diff) + ') '\n",
    "\n",
    "\n",
    "def parse(block_dict):\n",
    "\n",
    "    program = '('\n",
    "    old_x_location = 0\n",
    "\n",
    "    for block in tower:\n",
    "        \n",
    "        new_x_location = block['x']\n",
    "        \n",
    "        movement = get_movement(old_x_location, new_x_location)\n",
    "        program += movement\n",
    "        \n",
    "        if (block['height'] == 2) & (block['width'] == 1):\n",
    "            program += 't '\n",
    "        elif (block['height'] == 1) & (block['width'] == 2):\n",
    "            program += 'h '\n",
    "        else:\n",
    "            print('Incorrect block size')\n",
    "        \n",
    "        old_x_location = new_x_location\n",
    "        \n",
    "    program = program[:-1] #remove trailing space\n",
    "    program += ')'\n",
    "    return program"
   ]
  },
  {
   "cell_type": "code",
   "execution_count": 95,
   "metadata": {},
   "outputs": [
    {
     "data": {
      "text/plain": [
       "'(h h (r 1) t t (r 1) h (r 1) t (l 1) h (r 1) t)'"
      ]
     },
     "execution_count": 95,
     "metadata": {},
     "output_type": "execute_result"
    }
   ],
   "source": [
    "parse(tower)"
   ]
  },
  {
   "cell_type": "code",
   "execution_count": null,
   "metadata": {},
   "outputs": [],
   "source": []
  }
 ],
 "metadata": {
  "kernelspec": {
   "display_name": "Python 3",
   "language": "python",
   "name": "python3"
  },
  "language_info": {
   "codemirror_mode": {
    "name": "ipython",
    "version": 3
   },
   "file_extension": ".py",
   "mimetype": "text/x-python",
   "name": "python",
   "nbconvert_exporter": "python",
   "pygments_lexer": "ipython3",
   "version": "3.7.4"
  }
 },
 "nbformat": 4,
 "nbformat_minor": 2
}
