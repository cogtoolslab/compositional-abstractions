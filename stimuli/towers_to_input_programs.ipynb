{
 "cells": [
  {
   "cell_type": "code",
   "execution_count": 203,
   "metadata": {},
   "outputs": [],
   "source": [
    "from __future__ import division\n",
    "\n",
    "import numpy as np\n",
    "import os, sys\n",
    "from PIL import Image\n",
    "import pandas as pd\n",
    "import json\n",
    "import pickle\n",
    "\n",
    "from matplotlib import pylab, mlab, pyplot\n",
    "import matplotlib.pyplot as plt\n",
    "import matplotlib.image as mpimg\n",
    "from matplotlib.path import Path\n",
    "import matplotlib.patches as patches\n",
    "%matplotlib inline\n",
    "\n",
    "from IPython.core.pylabtools import figsize, getfigs\n",
    "\n",
    "import seaborn as sns\n",
    "\n",
    "import random\n",
    "\n",
    "from scipy.stats import norm\n",
    "from IPython.display import clear_output\n",
    "\n",
    "import copy\n",
    "import importlib\n",
    "\n",
    "\n",
    "### Add Paths\n",
    "\n",
    "## root paths\n",
    "curr_dir = os.getcwd()\n",
    "proj_dir = os.path.abspath(os.path.join(curr_dir,'..')) ## use relative paths\n",
    "\n",
    "## add helpers to python path\n",
    "import sys\n",
    "if os.path.join(proj_dir, 'stimuli') not in sys.path:\n",
    "    sys.path.append(os.path.join(proj_dir, 'stimuli'))\n",
    "\n",
    "## import utils from git submodule\n",
    "sys.path.append(\"./block_utils/\")\n",
    "import blockworld_utils as utils"
   ]
  },
  {
   "cell_type": "code",
   "execution_count": 209,
   "metadata": {},
   "outputs": [],
   "source": [
    "# setup\n",
    "block_dims = [(2,1),(1,2)]\n",
    "block_colors = ['#B32F0A','#0A2FB3']\n",
    "black = ['#000000','#000000'] # used to display silhouettes\n",
    "grey = ['#333333','#333333']\n",
    "world_width = 8\n",
    "world_height = 8\n",
    "world_center = int((world_width-1)/2)"
   ]
  },
  {
   "cell_type": "code",
   "execution_count": 210,
   "metadata": {},
   "outputs": [],
   "source": [
    "def world(block_dict):\n",
    "    return utils.worldify(block_dict,\n",
    "                   block_dims = block_dims,\n",
    "                   block_colors = block_colors,\n",
    "                   world_width = world_width,\n",
    "                   world_height = world_height\n",
    "                  )\n",
    "\n",
    "def inspect_composite(composite_row):\n",
    "    print('tower A')\n",
    "    utils.draw_tower(world(composite_row['tower_A_dict']))\n",
    "    print('tower B')\n",
    "    utils.draw_tower(world(composite_row['tower_B_dict']))\n",
    "    print('composite')\n",
    "    utils.draw_tower(world(composite_row['block_dict']))\n"
   ]
  },
  {
   "cell_type": "code",
   "execution_count": 211,
   "metadata": {},
   "outputs": [],
   "source": [
    "df_4_block = pd.read_pickle(\"./tower_4_block_unique_silhouettes/tower_4_block_unique_silhouettes.pkl\")\n",
    "\n",
    "df_composite = pd.read_pickle(\"./tower_4_block_unique_silhouettes_composites_json/tower_4_block_unique_silhouettes_composites.pkl\")\n",
    "\n",
    "df_4_block['block_dict'] = df_4_block['stim']"
   ]
  },
  {
   "cell_type": "code",
   "execution_count": 212,
   "metadata": {},
   "outputs": [
    {
     "name": "stdout",
     "output_type": "stream",
     "text": [
      "tower A\n"
     ]
    },
    {
     "data": {
      "image/png": "[encoded data removed]",
      "text/plain": [
       "<Figure size 144x216 with 1 Axes>"
      ]
     },
     "metadata": {
      "needs_background": "light"
     },
     "output_type": "display_data"
    },
    {
     "name": "stdout",
     "output_type": "stream",
     "text": [
      "tower B\n"
     ]
    },
    {
     "data": {
      "image/png": "[encoded data removed]",
      "text/plain": [
       "<Figure size 144x216 with 1 Axes>"
      ]
     },
     "metadata": {
      "needs_background": "light"
     },
     "output_type": "display_data"
    },
    {
     "name": "stdout",
     "output_type": "stream",
     "text": [
      "composite\n"
     ]
    },
    {
     "data": {
      "image/png": "[encoded data removed]",
      "text/plain": [
       "<Figure size 144x216 with 1 Axes>"
      ]
     },
     "metadata": {
      "needs_background": "light"
     },
     "output_type": "display_data"
    }
   ],
   "source": [
    "inspect_composite(df_composite.loc[1])"
   ]
  },
  {
   "cell_type": "code",
   "execution_count": 191,
   "metadata": {},
   "outputs": [],
   "source": [
    "tower = df_composite['block_dict'][1]"
   ]
  },
  {
   "cell_type": "code",
   "execution_count": 192,
   "metadata": {},
   "outputs": [],
   "source": [
    "\n",
    "# def get_movement(old_x_location, new_x_location, whole_squares=False, block_type=None):\n",
    "    \n",
    "#     if whole_squares: \n",
    "#         diff = new_x_location - old_x_location\n",
    "\n",
    "#         if diff == 0:\n",
    "#             return ''\n",
    "#         elif diff > 0:\n",
    "#             return '(r ' + str(diff) + ') '\n",
    "#         elif diff < 0:\n",
    "#             return '(l ' + str(-diff) + ') '\n",
    "        \n",
    "#     else:\n",
    "#         if block_type==None:\n",
    "#             print('block_type must be specified when not using whole squares. h or v.')\n",
    "#         else:\n",
    "            \n",
    "            \n",
    "def get_movement(old_x_location, new_x_location):\n",
    "\n",
    "    diff = new_x_location - old_x_location\n",
    "\n",
    "    if diff == 0:\n",
    "        return ''\n",
    "    elif diff > 0:\n",
    "        return '(r ' + str(diff) + ') '\n",
    "    elif diff < 0:\n",
    "        return '(l ' + str(-diff) + ') '\n",
    "\n",
    "    \n",
    "def get_block_type(block):\n",
    "    if (block['height'] == 2) & (block['width'] == 1):\n",
    "        block_type = 't'\n",
    "    elif (block['height'] == 1) & (block['width'] == 2):\n",
    "        block_type = 'h'\n",
    "    else:\n",
    "        print('Incorrect block size')\n",
    "    return block_type\n",
    "\n",
    "\n",
    "def convert_to_dreamcoder_double_squares(block_dict):\n",
    "    #NOTE: DOES NOT RETURN A VALID WORLD\n",
    "    # This is for temporary use within these functions only\n",
    "    new_block_dict = []\n",
    "    \n",
    "    for block in block_dict:\n",
    "        block_type = get_block_type(block)\n",
    "        new_block = {}\n",
    "        \n",
    "        new_block['width'] = block['width'] #these are broken now\n",
    "        new_block['height'] = block['height'] #these are broken now\n",
    "\n",
    "        if block_type == 'h':\n",
    "            new_block['x'] = block['x'] * 2\n",
    "        else:\n",
    "            new_block['x'] = (block['x'] * 2) - 1\n",
    "        \n",
    "        new_block_dict.append(new_block)\n",
    "        \n",
    "    return new_block_dict\n",
    "\n",
    "\n",
    "def parse(block_dict, whole_squares=False):\n",
    "    \n",
    "    if (whole_squares==False):\n",
    "        block_dict = convert_to_dreamcoder_double_squares(block_dict)\n",
    "\n",
    "    program = '('\n",
    "    old_x_location = 0\n",
    "\n",
    "    for block in block_dict:\n",
    "        \n",
    "        block_type = get_block_type(block)\n",
    "        \n",
    "        movement = get_movement(old_x_location, block['x'])\n",
    "        \n",
    "        program += movement\n",
    "        program += block_type + ' '\n",
    "        \n",
    "        old_x_location = block['x']\n",
    "        \n",
    "    program = program[:-1] #remove trailing space\n",
    "    program += ')'\n",
    "    return program"
   ]
  },
  {
   "cell_type": "code",
   "execution_count": 193,
   "metadata": {},
   "outputs": [],
   "source": [
    "df_composite['dreamcoder_program'] = df_composite['block_dict'].apply(lambda x: parse(x, whole_squares=False))\n",
    "df_composite['program_whole_squares'] = \\\n",
    "        df_composite['block_dict'].apply(lambda x: parse(x, whole_squares=True))\n",
    "\n",
    "df_4_block['dreamcoder_program'] = df_4_block['block_dict'].apply(lambda x: parse(x, whole_squares=False))\n",
    "df_4_block['program_whole_squares'] = \\\n",
    "            df_4_block['block_dict'].apply(lambda x: parse(x, whole_squares=True))"
   ]
  },
  {
   "cell_type": "code",
   "execution_count": 201,
   "metadata": {},
   "outputs": [
    {
     "name": "stdout",
     "output_type": "stream",
     "text": [
      "tower A\n"
     ]
    },
    {
     "data": {
      "image/png": "[encoded data removed]",
      "text/plain": [
       "<Figure size 144x216 with 1 Axes>"
      ]
     },
     "metadata": {
      "needs_background": "light"
     },
     "output_type": "display_data"
    },
    {
     "name": "stdout",
     "output_type": "stream",
     "text": [
      "tower B\n"
     ]
    },
    {
     "data": {
      "image/png": "[encoded data removed]",
      "text/plain": [
       "<Figure size 144x216 with 1 Axes>"
      ]
     },
     "metadata": {
      "needs_background": "light"
     },
     "output_type": "display_data"
    },
    {
     "name": "stdout",
     "output_type": "stream",
     "text": [
      "composite\n"
     ]
    },
    {
     "data": {
      "image/png": "[encoded data removed]",
      "text/plain": [
       "<Figure size 144x216 with 1 Axes>"
      ]
     },
     "metadata": {
      "needs_background": "light"
     },
     "output_type": "display_data"
    },
    {
     "name": "stdout",
     "output_type": "stream",
     "text": [
      "dreamcoder program (half-squares, location is center of block): \n",
      " (h (r 3) t (l 4) t (r 5) h (l 5) t (r 6) t (l 5) h (r 4) h)\n",
      "alternative program (whole-squares, location is bottom left of block ): \n",
      " (h (r 2) t (l 2) t (r 2) h (l 2) t (r 3) t (l 3) h (r 2) h)\n"
     ]
    }
   ],
   "source": [
    "tower = df_composite.loc[400]\n",
    "inspect_composite(tower)\n",
    "print('dreamcoder program (half-squares, location is center of block): \\n' , parse(tower['block_dict'], whole_squares=False))\n",
    "print('alternative program (whole-squares, location is bottom left of block ): \\n' , parse(tower['block_dict'], whole_squares=True))"
   ]
  },
  {
   "cell_type": "code",
   "execution_count": null,
   "metadata": {},
   "outputs": [],
   "source": []
  }
 ],
 "metadata": {
  "kernelspec": {
   "display_name": "Python 3",
   "language": "python",
   "name": "python3"
  },
  "language_info": {
   "codemirror_mode": {
    "name": "ipython",
    "version": 3
   },
   "file_extension": ".py",
   "mimetype": "text/x-python",
   "name": "python",
   "nbconvert_exporter": "python",
   "pygments_lexer": "ipython3",
   "version": "3.7.4"
  }
 },
 "nbformat": 4,
 "nbformat_minor": 2
}
