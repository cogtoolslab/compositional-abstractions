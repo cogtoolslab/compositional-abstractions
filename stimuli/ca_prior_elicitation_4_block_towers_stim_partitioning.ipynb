{
 "cells": [
  {
   "cell_type": "code",
   "execution_count": 49,
   "metadata": {},
   "outputs": [],
   "source": [
    "from __future__ import division\n",
    "\n",
    "import numpy as np\n",
    "import os, sys\n",
    "from PIL import Image\n",
    "import pandas as pd\n",
    "import json\n",
    "import pickle\n",
    "\n",
    "from matplotlib import pylab, mlab, pyplot\n",
    "import matplotlib.pyplot as plt\n",
    "import matplotlib.image as mpimg\n",
    "from matplotlib.path import Path\n",
    "import matplotlib.patches as patches\n",
    "%matplotlib inline\n",
    "\n",
    "from IPython.core.pylabtools import figsize, getfigs\n",
    "\n",
    "import seaborn as sns\n",
    "from sklearn.model_selection import StratifiedKFold\n",
    "\n",
    "import random\n",
    "\n",
    "from scipy.stats import norm\n",
    "from IPython.display import clear_output\n",
    "\n",
    "import copy\n",
    "import importlib\n",
    "\n",
    "\n",
    "### Add Paths\n",
    "\n",
    "## root paths\n",
    "curr_dir = os.getcwd()\n",
    "proj_dir = os.path.abspath(os.path.join(curr_dir,'..')) ## use relative paths\n",
    "\n",
    "## add helpers to python path\n",
    "import sys\n",
    "if os.path.join(proj_dir, 'stimuli') not in sys.path:\n",
    "    sys.path.append(os.path.join(proj_dir, 'stimuli'))\n",
    "\n",
    "## custom helper modules\n",
    "import blockworld_helpers as utils"
   ]
  },
  {
   "cell_type": "code",
   "execution_count": 157,
   "metadata": {},
   "outputs": [],
   "source": [
    "# setup\n",
    "block_dims = [(2,1),(1,2)]\n",
    "block_colors = ['#B32F0A','#0A2FB3']\n",
    "black = ['#000000','#000000'] # used to display silhouettes\n",
    "grey = ['#333333','#333333']\n",
    "world_width = 8\n",
    "world_height = 8\n",
    "world_center = int((world_width-1)/2)\n"
   ]
  },
  {
   "cell_type": "code",
   "execution_count": 6,
   "metadata": {},
   "outputs": [],
   "source": [
    "silhouette_superset = pd.read_pickle(\"./tower_4_block_unique_silhouettes/tower_4_block_unique_silhouettes.pkl\")"
   ]
  },
  {
   "cell_type": "markdown",
   "metadata": {},
   "source": [
    "Goal:\n",
    "10 annotations total of each stim.\n",
    "Each participant should annotate a small number of towers (say less than 40).\n",
    "We should be able to check if different contexts change the annotations.\n",
    "\n",
    "\n",
    "Partition towers into 5 sets of 26 with roughly equal numbers of tall/ wide/ neither.\n",
    "Collect annotations from 5 ppts for each set.\n",
    "Find 2 such partitions."
   ]
  },
  {
   "cell_type": "code",
   "execution_count": 137,
   "metadata": {},
   "outputs": [
    {
     "data": {
      "text/plain": [
       "neither    94\n",
       "wide       18\n",
       "tall       18\n",
       "Name: group, dtype: int64"
      ]
     },
     "execution_count": 137,
     "metadata": {},
     "output_type": "execute_result"
    }
   ],
   "source": [
    "groups = silhouette_superset[['tower_number_str','group']]\n",
    "groups['group'].value_counts()"
   ]
  },
  {
   "cell_type": "markdown",
   "metadata": {},
   "source": [
    "We have 18 wide and 18 tall towers.\n",
    "So each set should have 3 or 4 wides and 3 or 4 tall."
   ]
  },
  {
   "cell_type": "code",
   "execution_count": 69,
   "metadata": {},
   "outputs": [],
   "source": [
    "# neither = list(groups.loc[groups['group'] == 'neither','tower_number_str'])\n",
    "# wide = list(groups.loc[groups['group'] == 'wide','tower_number_str'])\n",
    "# tall = list(groups.loc[groups['group'] == 'tall','tower_number_str'])"
   ]
  },
  {
   "cell_type": "code",
   "execution_count": 136,
   "metadata": {},
   "outputs": [
    {
     "data": {
      "text/html": [
       "<div>\n",
       "<style scoped>\n",
       "    .dataframe tbody tr th:only-of-type {\n",
       "        vertical-align: middle;\n",
       "    }\n",
       "\n",
       "    .dataframe tbody tr th {\n",
       "        vertical-align: top;\n",
       "    }\n",
       "\n",
       "    .dataframe thead th {\n",
       "        text-align: right;\n",
       "    }\n",
       "</style>\n",
       "<table border=\"1\" class=\"dataframe\">\n",
       "  <thead>\n",
       "    <tr style=\"text-align: right;\">\n",
       "      <th></th>\n",
       "      <th>silhouette_str</th>\n",
       "      <th>index</th>\n",
       "      <th>blocks_above_ground</th>\n",
       "      <th>fully_connected</th>\n",
       "      <th>fully_connected_diag</th>\n",
       "      <th>n_blocks</th>\n",
       "      <th>silhouette</th>\n",
       "      <th>stim</th>\n",
       "      <th>stim_tuple</th>\n",
       "      <th>tower_height</th>\n",
       "      <th>tower_width</th>\n",
       "      <th>two_h_two_v</th>\n",
       "      <th>tower_number</th>\n",
       "      <th>tower_number_str</th>\n",
       "      <th>tower_name</th>\n",
       "      <th>group</th>\n",
       "      <th>family_0</th>\n",
       "      <th>family_1</th>\n",
       "    </tr>\n",
       "  </thead>\n",
       "  <tbody>\n",
       "    <tr>\n",
       "      <th>0</th>\n",
       "      <td>0000000000000000000000000000000000000000000000...</td>\n",
       "      <td>1385</td>\n",
       "      <td>1</td>\n",
       "      <td>True</td>\n",
       "      <td>True</td>\n",
       "      <td>4</td>\n",
       "      <td>[[0, 0, 0, 0, 0, 0, 0, 0], [0, 0, 0, 0, 0, 0, ...</td>\n",
       "      <td>[{'x': 0, 'y': 0, 'height': 2, 'width': 1}, {'...</td>\n",
       "      <td>((0, 0, 2, 1), (1, 0, 1, 2), (3, 0, 2, 1), (1,...</td>\n",
       "      <td>2</td>\n",
       "      <td>4</td>\n",
       "      <td>True</td>\n",
       "      <td>0</td>\n",
       "      <td>000</td>\n",
       "      <td>tower_4_block_unique_silhouette_000</td>\n",
       "      <td>neither</td>\n",
       "      <td>0.0</td>\n",
       "      <td>2.0</td>\n",
       "    </tr>\n",
       "    <tr>\n",
       "      <th>1</th>\n",
       "      <td>0000000000000000000000000000000000000000000100...</td>\n",
       "      <td>1249</td>\n",
       "      <td>2</td>\n",
       "      <td>True</td>\n",
       "      <td>True</td>\n",
       "      <td>4</td>\n",
       "      <td>[[0, 0, 0, 0, 0, 0, 0, 0], [0, 0, 0, 0, 0, 0, ...</td>\n",
       "      <td>[{'x': 0, 'y': 0, 'height': 2, 'width': 1}, {'...</td>\n",
       "      <td>((0, 0, 2, 1), (2, 0, 1, 2), (1, 1, 1, 2), (3,...</td>\n",
       "      <td>3</td>\n",
       "      <td>4</td>\n",
       "      <td>True</td>\n",
       "      <td>1</td>\n",
       "      <td>001</td>\n",
       "      <td>tower_4_block_unique_silhouette_001</td>\n",
       "      <td>wide</td>\n",
       "      <td>2.0</td>\n",
       "      <td>2.0</td>\n",
       "    </tr>\n",
       "    <tr>\n",
       "      <th>2</th>\n",
       "      <td>0000000000000000000000000000000000000000001000...</td>\n",
       "      <td>791</td>\n",
       "      <td>2</td>\n",
       "      <td>True</td>\n",
       "      <td>True</td>\n",
       "      <td>4</td>\n",
       "      <td>[[0, 0, 0, 0, 0, 0, 0, 0], [0, 0, 0, 0, 0, 0, ...</td>\n",
       "      <td>[{'x': 1, 'y': 0, 'height': 1, 'width': 2}, {'...</td>\n",
       "      <td>((1, 0, 1, 2), (3, 0, 2, 1), (0, 1, 1, 2), (2,...</td>\n",
       "      <td>3</td>\n",
       "      <td>4</td>\n",
       "      <td>True</td>\n",
       "      <td>2</td>\n",
       "      <td>002</td>\n",
       "      <td>tower_4_block_unique_silhouette_002</td>\n",
       "      <td>wide</td>\n",
       "      <td>1.0</td>\n",
       "      <td>0.0</td>\n",
       "    </tr>\n",
       "    <tr>\n",
       "      <th>3</th>\n",
       "      <td>0000000000000000000000000000000000000000001100...</td>\n",
       "      <td>1362</td>\n",
       "      <td>1</td>\n",
       "      <td>True</td>\n",
       "      <td>True</td>\n",
       "      <td>4</td>\n",
       "      <td>[[0, 0, 0, 0, 0, 0, 0, 0], [0, 0, 0, 0, 0, 0, ...</td>\n",
       "      <td>[{'x': 0, 'y': 0, 'height': 1, 'width': 2}, {'...</td>\n",
       "      <td>((0, 0, 1, 2), (2, 0, 2, 1), (3, 0, 2, 1), (2,...</td>\n",
       "      <td>3</td>\n",
       "      <td>4</td>\n",
       "      <td>True</td>\n",
       "      <td>3</td>\n",
       "      <td>003</td>\n",
       "      <td>tower_4_block_unique_silhouette_003</td>\n",
       "      <td>neither</td>\n",
       "      <td>1.0</td>\n",
       "      <td>1.0</td>\n",
       "    </tr>\n",
       "    <tr>\n",
       "      <th>4</th>\n",
       "      <td>0000000000000000000000000000000000000000001100...</td>\n",
       "      <td>605</td>\n",
       "      <td>1</td>\n",
       "      <td>True</td>\n",
       "      <td>True</td>\n",
       "      <td>4</td>\n",
       "      <td>[[0, 0, 0, 0, 0, 0, 0, 0], [0, 0, 0, 0, 0, 0, ...</td>\n",
       "      <td>[{'x': 0, 'y': 0, 'height': 2, 'width': 1}, {'...</td>\n",
       "      <td>((0, 0, 2, 1), (1, 0, 1, 2), (3, 0, 2, 1), (2,...</td>\n",
       "      <td>3</td>\n",
       "      <td>4</td>\n",
       "      <td>True</td>\n",
       "      <td>4</td>\n",
       "      <td>004</td>\n",
       "      <td>tower_4_block_unique_silhouette_004</td>\n",
       "      <td>neither</td>\n",
       "      <td>2.0</td>\n",
       "      <td>2.0</td>\n",
       "    </tr>\n",
       "    <tr>\n",
       "      <th>...</th>\n",
       "      <td>...</td>\n",
       "      <td>...</td>\n",
       "      <td>...</td>\n",
       "      <td>...</td>\n",
       "      <td>...</td>\n",
       "      <td>...</td>\n",
       "      <td>...</td>\n",
       "      <td>...</td>\n",
       "      <td>...</td>\n",
       "      <td>...</td>\n",
       "      <td>...</td>\n",
       "      <td>...</td>\n",
       "      <td>...</td>\n",
       "      <td>...</td>\n",
       "      <td>...</td>\n",
       "      <td>...</td>\n",
       "      <td>...</td>\n",
       "      <td>...</td>\n",
       "    </tr>\n",
       "    <tr>\n",
       "      <th>125</th>\n",
       "      <td>0000000000000000110000001000000010000000100000...</td>\n",
       "      <td>308</td>\n",
       "      <td>3</td>\n",
       "      <td>True</td>\n",
       "      <td>True</td>\n",
       "      <td>4</td>\n",
       "      <td>[[0, 0, 0, 0, 0, 0, 0, 0], [0, 0, 0, 0, 0, 0, ...</td>\n",
       "      <td>[{'x': 0, 'y': 0, 'height': 1, 'width': 2}, {'...</td>\n",
       "      <td>((0, 0, 1, 2), (0, 1, 2, 1), (0, 3, 2, 1), (0,...</td>\n",
       "      <td>6</td>\n",
       "      <td>2</td>\n",
       "      <td>True</td>\n",
       "      <td>125</td>\n",
       "      <td>125</td>\n",
       "      <td>tower_4_block_unique_silhouette_125</td>\n",
       "      <td>tall</td>\n",
       "      <td>3.0</td>\n",
       "      <td>0.0</td>\n",
       "    </tr>\n",
       "    <tr>\n",
       "      <th>126</th>\n",
       "      <td>0000000000000000110000001000000010000000110000...</td>\n",
       "      <td>1336</td>\n",
       "      <td>3</td>\n",
       "      <td>True</td>\n",
       "      <td>True</td>\n",
       "      <td>4</td>\n",
       "      <td>[[0, 0, 0, 0, 0, 0, 0, 0], [0, 0, 0, 0, 0, 0, ...</td>\n",
       "      <td>[{'x': 1, 'y': 0, 'height': 2, 'width': 1}, {'...</td>\n",
       "      <td>((1, 0, 2, 1), (0, 2, 1, 2), (0, 3, 2, 1), (0,...</td>\n",
       "      <td>6</td>\n",
       "      <td>2</td>\n",
       "      <td>True</td>\n",
       "      <td>126</td>\n",
       "      <td>126</td>\n",
       "      <td>tower_4_block_unique_silhouette_126</td>\n",
       "      <td>tall</td>\n",
       "      <td>1.0</td>\n",
       "      <td>2.0</td>\n",
       "    </tr>\n",
       "    <tr>\n",
       "      <th>127</th>\n",
       "      <td>0000000000000000110000001000000010000000110000...</td>\n",
       "      <td>696</td>\n",
       "      <td>3</td>\n",
       "      <td>True</td>\n",
       "      <td>True</td>\n",
       "      <td>4</td>\n",
       "      <td>[[0, 0, 0, 0, 0, 0, 0, 0], [0, 0, 0, 0, 0, 0, ...</td>\n",
       "      <td>[{'x': 0, 'y': 0, 'height': 2, 'width': 1}, {'...</td>\n",
       "      <td>((0, 0, 2, 1), (0, 2, 1, 2), (0, 3, 2, 1), (0,...</td>\n",
       "      <td>6</td>\n",
       "      <td>2</td>\n",
       "      <td>True</td>\n",
       "      <td>127</td>\n",
       "      <td>127</td>\n",
       "      <td>tower_4_block_unique_silhouette_127</td>\n",
       "      <td>tall</td>\n",
       "      <td>4.0</td>\n",
       "      <td>1.0</td>\n",
       "    </tr>\n",
       "    <tr>\n",
       "      <th>128</th>\n",
       "      <td>0000000000000000110000001100000001000000010000...</td>\n",
       "      <td>1072</td>\n",
       "      <td>3</td>\n",
       "      <td>True</td>\n",
       "      <td>True</td>\n",
       "      <td>4</td>\n",
       "      <td>[[0, 0, 0, 0, 0, 0, 0, 0], [0, 0, 0, 0, 0, 0, ...</td>\n",
       "      <td>[{'x': 1, 'y': 0, 'height': 2, 'width': 1}, {'...</td>\n",
       "      <td>((1, 0, 2, 1), (1, 2, 2, 1), (0, 4, 1, 2), (0,...</td>\n",
       "      <td>6</td>\n",
       "      <td>2</td>\n",
       "      <td>True</td>\n",
       "      <td>128</td>\n",
       "      <td>128</td>\n",
       "      <td>tower_4_block_unique_silhouette_128</td>\n",
       "      <td>tall</td>\n",
       "      <td>4.0</td>\n",
       "      <td>3.0</td>\n",
       "    </tr>\n",
       "    <tr>\n",
       "      <th>129</th>\n",
       "      <td>0000000000000000110000001100000010000000100000...</td>\n",
       "      <td>814</td>\n",
       "      <td>3</td>\n",
       "      <td>True</td>\n",
       "      <td>True</td>\n",
       "      <td>4</td>\n",
       "      <td>[[0, 0, 0, 0, 0, 0, 0, 0], [0, 0, 0, 0, 0, 0, ...</td>\n",
       "      <td>[{'x': 0, 'y': 0, 'height': 2, 'width': 1}, {'...</td>\n",
       "      <td>((0, 0, 2, 1), (0, 2, 2, 1), (0, 4, 1, 2), (0,...</td>\n",
       "      <td>6</td>\n",
       "      <td>2</td>\n",
       "      <td>True</td>\n",
       "      <td>129</td>\n",
       "      <td>129</td>\n",
       "      <td>tower_4_block_unique_silhouette_129</td>\n",
       "      <td>tall</td>\n",
       "      <td>0.0</td>\n",
       "      <td>2.0</td>\n",
       "    </tr>\n",
       "  </tbody>\n",
       "</table>\n",
       "<p>130 rows × 18 columns</p>\n",
       "</div>"
      ],
      "text/plain": [
       "                                        silhouette_str  index  \\\n",
       "0    0000000000000000000000000000000000000000000000...   1385   \n",
       "1    0000000000000000000000000000000000000000000100...   1249   \n",
       "2    0000000000000000000000000000000000000000001000...    791   \n",
       "3    0000000000000000000000000000000000000000001100...   1362   \n",
       "4    0000000000000000000000000000000000000000001100...    605   \n",
       "..                                                 ...    ...   \n",
       "125  0000000000000000110000001000000010000000100000...    308   \n",
       "126  0000000000000000110000001000000010000000110000...   1336   \n",
       "127  0000000000000000110000001000000010000000110000...    696   \n",
       "128  0000000000000000110000001100000001000000010000...   1072   \n",
       "129  0000000000000000110000001100000010000000100000...    814   \n",
       "\n",
       "     blocks_above_ground  fully_connected  fully_connected_diag  n_blocks  \\\n",
       "0                      1             True                  True         4   \n",
       "1                      2             True                  True         4   \n",
       "2                      2             True                  True         4   \n",
       "3                      1             True                  True         4   \n",
       "4                      1             True                  True         4   \n",
       "..                   ...              ...                   ...       ...   \n",
       "125                    3             True                  True         4   \n",
       "126                    3             True                  True         4   \n",
       "127                    3             True                  True         4   \n",
       "128                    3             True                  True         4   \n",
       "129                    3             True                  True         4   \n",
       "\n",
       "                                            silhouette  \\\n",
       "0    [[0, 0, 0, 0, 0, 0, 0, 0], [0, 0, 0, 0, 0, 0, ...   \n",
       "1    [[0, 0, 0, 0, 0, 0, 0, 0], [0, 0, 0, 0, 0, 0, ...   \n",
       "2    [[0, 0, 0, 0, 0, 0, 0, 0], [0, 0, 0, 0, 0, 0, ...   \n",
       "3    [[0, 0, 0, 0, 0, 0, 0, 0], [0, 0, 0, 0, 0, 0, ...   \n",
       "4    [[0, 0, 0, 0, 0, 0, 0, 0], [0, 0, 0, 0, 0, 0, ...   \n",
       "..                                                 ...   \n",
       "125  [[0, 0, 0, 0, 0, 0, 0, 0], [0, 0, 0, 0, 0, 0, ...   \n",
       "126  [[0, 0, 0, 0, 0, 0, 0, 0], [0, 0, 0, 0, 0, 0, ...   \n",
       "127  [[0, 0, 0, 0, 0, 0, 0, 0], [0, 0, 0, 0, 0, 0, ...   \n",
       "128  [[0, 0, 0, 0, 0, 0, 0, 0], [0, 0, 0, 0, 0, 0, ...   \n",
       "129  [[0, 0, 0, 0, 0, 0, 0, 0], [0, 0, 0, 0, 0, 0, ...   \n",
       "\n",
       "                                                  stim  \\\n",
       "0    [{'x': 0, 'y': 0, 'height': 2, 'width': 1}, {'...   \n",
       "1    [{'x': 0, 'y': 0, 'height': 2, 'width': 1}, {'...   \n",
       "2    [{'x': 1, 'y': 0, 'height': 1, 'width': 2}, {'...   \n",
       "3    [{'x': 0, 'y': 0, 'height': 1, 'width': 2}, {'...   \n",
       "4    [{'x': 0, 'y': 0, 'height': 2, 'width': 1}, {'...   \n",
       "..                                                 ...   \n",
       "125  [{'x': 0, 'y': 0, 'height': 1, 'width': 2}, {'...   \n",
       "126  [{'x': 1, 'y': 0, 'height': 2, 'width': 1}, {'...   \n",
       "127  [{'x': 0, 'y': 0, 'height': 2, 'width': 1}, {'...   \n",
       "128  [{'x': 1, 'y': 0, 'height': 2, 'width': 1}, {'...   \n",
       "129  [{'x': 0, 'y': 0, 'height': 2, 'width': 1}, {'...   \n",
       "\n",
       "                                            stim_tuple  tower_height  \\\n",
       "0    ((0, 0, 2, 1), (1, 0, 1, 2), (3, 0, 2, 1), (1,...             2   \n",
       "1    ((0, 0, 2, 1), (2, 0, 1, 2), (1, 1, 1, 2), (3,...             3   \n",
       "2    ((1, 0, 1, 2), (3, 0, 2, 1), (0, 1, 1, 2), (2,...             3   \n",
       "3    ((0, 0, 1, 2), (2, 0, 2, 1), (3, 0, 2, 1), (2,...             3   \n",
       "4    ((0, 0, 2, 1), (1, 0, 1, 2), (3, 0, 2, 1), (2,...             3   \n",
       "..                                                 ...           ...   \n",
       "125  ((0, 0, 1, 2), (0, 1, 2, 1), (0, 3, 2, 1), (0,...             6   \n",
       "126  ((1, 0, 2, 1), (0, 2, 1, 2), (0, 3, 2, 1), (0,...             6   \n",
       "127  ((0, 0, 2, 1), (0, 2, 1, 2), (0, 3, 2, 1), (0,...             6   \n",
       "128  ((1, 0, 2, 1), (1, 2, 2, 1), (0, 4, 1, 2), (0,...             6   \n",
       "129  ((0, 0, 2, 1), (0, 2, 2, 1), (0, 4, 1, 2), (0,...             6   \n",
       "\n",
       "     tower_width  two_h_two_v  tower_number tower_number_str  \\\n",
       "0              4         True             0              000   \n",
       "1              4         True             1              001   \n",
       "2              4         True             2              002   \n",
       "3              4         True             3              003   \n",
       "4              4         True             4              004   \n",
       "..           ...          ...           ...              ...   \n",
       "125            2         True           125              125   \n",
       "126            2         True           126              126   \n",
       "127            2         True           127              127   \n",
       "128            2         True           128              128   \n",
       "129            2         True           129              129   \n",
       "\n",
       "                              tower_name    group  family_0  family_1  \n",
       "0    tower_4_block_unique_silhouette_000  neither       0.0       2.0  \n",
       "1    tower_4_block_unique_silhouette_001     wide       2.0       2.0  \n",
       "2    tower_4_block_unique_silhouette_002     wide       1.0       0.0  \n",
       "3    tower_4_block_unique_silhouette_003  neither       1.0       1.0  \n",
       "4    tower_4_block_unique_silhouette_004  neither       2.0       2.0  \n",
       "..                                   ...      ...       ...       ...  \n",
       "125  tower_4_block_unique_silhouette_125     tall       3.0       0.0  \n",
       "126  tower_4_block_unique_silhouette_126     tall       1.0       2.0  \n",
       "127  tower_4_block_unique_silhouette_127     tall       4.0       1.0  \n",
       "128  tower_4_block_unique_silhouette_128     tall       4.0       3.0  \n",
       "129  tower_4_block_unique_silhouette_129     tall       0.0       2.0  \n",
       "\n",
       "[130 rows x 18 columns]"
      ]
     },
     "execution_count": 136,
     "metadata": {},
     "output_type": "execute_result"
    }
   ],
   "source": [
    "n_families = 2\n",
    "n_splits = 5\n",
    "X = silhouette_superset['tower_number_str']\n",
    "y = silhouette_superset['group']\n",
    "\n",
    "for i in range(0, n_families):\n",
    "    \n",
    "    # set up partitioning\n",
    "    skf = StratifiedKFold(n_splits=n_splits, \n",
    "                          random_state=i, \n",
    "                          shuffle=True) # tie random state to group num\n",
    "    \n",
    "    # apply partitioning and save to df\n",
    "    for split_num, (train_index, test_index) in enumerate(skf.split(X, y)):\n",
    "        silhouette_superset.loc[test_index,'family_'+str(i)] = split_num\n",
    "#         print(groups.loc[test_index])\n",
    "\n",
    "silhouette_superset"
   ]
  },
  {
   "cell_type": "code",
   "execution_count": null,
   "metadata": {},
   "outputs": [],
   "source": []
  },
  {
   "cell_type": "code",
   "execution_count": 160,
   "metadata": {
    "scrolled": false
   },
   "outputs": [
    {
     "data": {
      "image/png": "[encoded data removed]",
      "text/plain": [
       "<Figure size 144x216 with 1 Axes>"
      ]
     },
     "metadata": {
      "needs_background": "light"
     },
     "output_type": "display_data"
    },
    {
     "name": "stdout",
     "output_type": "stream",
     "text": [
      "wide\n"
     ]
    },
    {
     "data": {
      "image/png": "[encoded data removed]",
      "text/plain": [
       "<Figure size 144x216 with 1 Axes>"
      ]
     },
     "metadata": {
      "needs_background": "light"
     },
     "output_type": "display_data"
    },
    {
     "name": "stdout",
     "output_type": "stream",
     "text": [
      "wide\n"
     ]
    },
    {
     "data": {
      "image/png": "[encoded data removed]",
      "text/plain": [
       "<Figure size 144x216 with 1 Axes>"
      ]
     },
     "metadata": {
      "needs_background": "light"
     },
     "output_type": "display_data"
    },
    {
     "name": "stdout",
     "output_type": "stream",
     "text": [
      "wide\n"
     ]
    },
    {
     "data": {
      "image/png": "[encoded data removed]",
      "text/plain": [
       "<Figure size 144x216 with 1 Axes>"
      ]
     },
     "metadata": {
      "needs_background": "light"
     },
     "output_type": "display_data"
    },
    {
     "name": "stdout",
     "output_type": "stream",
     "text": [
      "wide\n"
     ]
    },
    {
     "data": {
      "image/png": "[encoded data removed]",
      "text/plain": [
       "<Figure size 144x216 with 1 Axes>"
      ]
     },
     "metadata": {
      "needs_background": "light"
     },
     "output_type": "display_data"
    },
    {
     "name": "stdout",
     "output_type": "stream",
     "text": [
      "neither\n"
     ]
    },
    {
     "data": {
      "image/png": "[encoded data removed]",
      "text/plain": [
       "<Figure size 144x216 with 1 Axes>"
      ]
     },
     "metadata": {
      "needs_background": "light"
     },
     "output_type": "display_data"
    },
    {
     "name": "stdout",
     "output_type": "stream",
     "text": [
      "neither\n"
     ]
    },
    {
     "data": {
      "image/png": "[encoded data removed]",
      "text/plain": [
       "<Figure size 144x216 with 1 Axes>"
      ]
     },
     "metadata": {
      "needs_background": "light"
     },
     "output_type": "display_data"
    },
    {
     "name": "stdout",
     "output_type": "stream",
     "text": [
      "neither\n"
     ]
    },
    {
     "data": {
      "image/png": "[encoded data removed]",
      "text/plain": [
       "<Figure size 144x216 with 1 Axes>"
      ]
     },
     "metadata": {
      "needs_background": "light"
     },
     "output_type": "display_data"
    },
    {
     "name": "stdout",
     "output_type": "stream",
     "text": [
      "neither\n"
     ]
    },
    {
     "data": {
      "image/png": "[encoded data removed]",
      "text/plain": [
       "<Figure size 144x216 with 1 Axes>"
      ]
     },
     "metadata": {
      "needs_background": "light"
     },
     "output_type": "display_data"
    },
    {
     "name": "stdout",
     "output_type": "stream",
     "text": [
      "neither\n"
     ]
    },
    {
     "data": {
      "image/png": "[encoded data removed]",
      "text/plain": [
       "<Figure size 144x216 with 1 Axes>"
      ]
     },
     "metadata": {
      "needs_background": "light"
     },
     "output_type": "display_data"
    },
    {
     "name": "stdout",
     "output_type": "stream",
     "text": [
      "neither\n"
     ]
    },
    {
     "data": {
      "image/png": "[encoded data removed]",
      "text/plain": [
       "<Figure size 144x216 with 1 Axes>"
      ]
     },
     "metadata": {
      "needs_background": "light"
     },
     "output_type": "display_data"
    },
    {
     "name": "stdout",
     "output_type": "stream",
     "text": [
      "neither\n"
     ]
    },
    {
     "data": {
      "image/png": "[encoded data removed]",
      "text/plain": [
       "<Figure size 144x216 with 1 Axes>"
      ]
     },
     "metadata": {
      "needs_background": "light"
     },
     "output_type": "display_data"
    },
    {
     "name": "stdout",
     "output_type": "stream",
     "text": [
      "neither\n"
     ]
    },
    {
     "data": {
      "image/png": "[encoded data removed]",
      "text/plain": [
       "<Figure size 144x216 with 1 Axes>"
      ]
     },
     "metadata": {
      "needs_background": "light"
     },
     "output_type": "display_data"
    },
    {
     "name": "stdout",
     "output_type": "stream",
     "text": [
      "neither\n"
     ]
    },
    {
     "data": {
      "image/png": "[encoded data removed]",
      "text/plain": [
       "<Figure size 144x216 with 1 Axes>"
      ]
     },
     "metadata": {
      "needs_background": "light"
     },
     "output_type": "display_data"
    },
    {
     "name": "stdout",
     "output_type": "stream",
     "text": [
      "neither\n"
     ]
    },
    {
     "data": {
      "image/png": "[encoded data removed]",
      "text/plain": [
       "<Figure size 144x216 with 1 Axes>"
      ]
     },
     "metadata": {
      "needs_background": "light"
     },
     "output_type": "display_data"
    },
    {
     "name": "stdout",
     "output_type": "stream",
     "text": [
      "neither\n"
     ]
    },
    {
     "data": {
      "image/png": "[encoded data removed]",
      "text/plain": [
       "<Figure size 144x216 with 1 Axes>"
      ]
     },
     "metadata": {
      "needs_background": "light"
     },
     "output_type": "display_data"
    },
    {
     "name": "stdout",
     "output_type": "stream",
     "text": [
      "neither\n"
     ]
    },
    {
     "data": {
      "image/png": "[encoded data removed]",
      "text/plain": [
       "<Figure size 144x216 with 1 Axes>"
      ]
     },
     "metadata": {
      "needs_background": "light"
     },
     "output_type": "display_data"
    },
    {
     "name": "stdout",
     "output_type": "stream",
     "text": [
      "neither\n"
     ]
    },
    {
     "data": {
      "image/png": "[encoded data removed]",
      "text/plain": [
       "<Figure size 144x216 with 1 Axes>"
      ]
     },
     "metadata": {
      "needs_background": "light"
     },
     "output_type": "display_data"
    },
    {
     "name": "stdout",
     "output_type": "stream",
     "text": [
      "neither\n"
     ]
    },
    {
     "data": {
      "image/png": "[encoded data removed]",
      "text/plain": [
       "<Figure size 144x216 with 1 Axes>"
      ]
     },
     "metadata": {
      "needs_background": "light"
     },
     "output_type": "display_data"
    },
    {
     "name": "stdout",
     "output_type": "stream",
     "text": [
      "neither\n"
     ]
    },
    {
     "data": {
      "image/png": "[encoded data removed]",
      "text/plain": [
       "<Figure size 144x216 with 1 Axes>"
      ]
     },
     "metadata": {
      "needs_background": "light"
     },
     "output_type": "display_data"
    },
    {
     "name": "stdout",
     "output_type": "stream",
     "text": [
      "neither\n"
     ]
    },
    {
     "data": {
      "image/png": "[encoded data removed]",
      "text/plain": [
       "<Figure size 144x216 with 1 Axes>"
      ]
     },
     "metadata": {
      "needs_background": "light"
     },
     "output_type": "display_data"
    },
    {
     "name": "stdout",
     "output_type": "stream",
     "text": [
      "neither\n"
     ]
    },
    {
     "data": {
      "image/png": "[encoded data removed]",
      "text/plain": [
       "<Figure size 144x216 with 1 Axes>"
      ]
     },
     "metadata": {
      "needs_background": "light"
     },
     "output_type": "display_data"
    },
    {
     "name": "stdout",
     "output_type": "stream",
     "text": [
      "tall\n"
     ]
    },
    {
     "data": {
      "image/png": "[encoded data removed]",
      "text/plain": [
       "<Figure size 144x216 with 1 Axes>"
      ]
     },
     "metadata": {
      "needs_background": "light"
     },
     "output_type": "display_data"
    },
    {
     "name": "stdout",
     "output_type": "stream",
     "text": [
      "neither\n"
     ]
    },
    {
     "data": {
      "image/png": "[encoded data removed]",
      "text/plain": [
       "<Figure size 144x216 with 1 Axes>"
      ]
     },
     "metadata": {
      "needs_background": "light"
     },
     "output_type": "display_data"
    },
    {
     "name": "stdout",
     "output_type": "stream",
     "text": [
      "tall\n"
     ]
    },
    {
     "data": {
      "image/png": "[encoded data removed]",
      "text/plain": [
       "<Figure size 144x216 with 1 Axes>"
      ]
     },
     "metadata": {
      "needs_background": "light"
     },
     "output_type": "display_data"
    },
    {
     "name": "stdout",
     "output_type": "stream",
     "text": [
      "neither\n"
     ]
    },
    {
     "data": {
      "image/png": "[encoded data removed]",
      "text/plain": [
       "<Figure size 144x216 with 1 Axes>"
      ]
     },
     "metadata": {
      "needs_background": "light"
     },
     "output_type": "display_data"
    },
    {
     "name": "stdout",
     "output_type": "stream",
     "text": [
      "tall\n"
     ]
    }
   ],
   "source": [
    "# verify\n",
    "\n",
    "family = 1\n",
    "split = 0\n",
    "\n",
    "tower_worlds = [utils.worldify(w,\n",
    "                               block_dims = block_dims, \n",
    "                               block_colors = block_colors)\\\n",
    "                    for w in silhouette_superset.groupby('family_'+str(family)).get_group(split)['stim']]\n",
    "\n",
    "for i, w in enumerate(tower_worlds):\n",
    "    fig = utils.draw_tower(w)\n",
    "    print(silhouette_superset.groupby('family_'+str(family)).get_group(split).reset_index(split).loc[i,'group'])"
   ]
  },
  {
   "cell_type": "code",
   "execution_count": 164,
   "metadata": {
    "scrolled": false
   },
   "outputs": [
    {
     "name": "stdout",
     "output_type": "stream",
     "text": [
      "['000', '007', '009', '011', '019', '023', '025', '029', '034', '041', '049', '053', '060', '061', '062', '065', '068', '072', '076', '081', '084', '100', '106', '113', '115', '129']\n",
      "['002', '003', '012', '013', '024', '026', '035', '038', '040', '052', '069', '070', '073', '074', '077', '082', '086', '087', '093', '096', '098', '101', '108', '110', '116', '126']\n",
      "['001', '004', '010', '015', '030', '037', '039', '042', '043', '054', '055', '059', '063', '064', '067', '071', '075', '088', '092', '097', '099', '102', '103', '109', '123', '124']\n",
      "['005', '008', '016', '017', '020', '033', '036', '044', '050', '057', '058', '078', '079', '080', '085', '091', '095', '104', '105', '107', '111', '114', '118', '119', '120', '125']\n",
      "['006', '014', '018', '021', '022', '027', '028', '031', '032', '045', '046', '047', '048', '051', '056', '066', '083', '089', '090', '094', '112', '117', '121', '122', '127', '128']\n",
      "['002', '005', '012', '019', '035', '036', '057', '064', '068', '077', '078', '080', '086', '088', '091', '095', '096', '104', '107', '108', '113', '115', '119', '121', '123', '125']\n",
      "['003', '014', '022', '023', '024', '029', '032', '040', '043', '044', '049', '052', '053', '060', '066', '070', '076', '083', '093', '094', '098', '100', '101', '103', '124', '127']\n",
      "['000', '001', '004', '010', '013', '016', '021', '033', '034', '037', '038', '039', '045', '048', '050', '051', '055', '062', '072', '073', '074', '092', '099', '111', '126', '129']\n",
      "['006', '017', '018', '025', '027', '028', '030', '046', '047', '056', '063', '071', '075', '079', '082', '084', '085', '089', '102', '105', '109', '110', '117', '120', '122', '128']\n",
      "['007', '008', '009', '011', '015', '020', '026', '031', '041', '042', '054', '058', '059', '061', '065', '067', '069', '081', '087', '090', '097', '106', '112', '114', '116', '118']\n"
     ]
    }
   ],
   "source": [
    "# convert to lists of stimulus names\n",
    "\n",
    "for f in range(0, n_families):\n",
    "    for s in range(0,n_splits):\n",
    "        print(list(silhouette_superset.groupby('family_'+str(f)).get_group(s)['tower_number_str']))"
   ]
  },
  {
   "cell_type": "code",
   "execution_count": null,
   "metadata": {},
   "outputs": [],
   "source": [
    "# create metadata to add to mongo\n",
    "\n",
    "# includes: family, split, numbers, types, \n",
    "\n",
    "\n"
   ]
  }
 ],
 "metadata": {
  "kernelspec": {
   "display_name": "Python 3",
   "language": "python",
   "name": "python3"
  },
  "language_info": {
   "codemirror_mode": {
    "name": "ipython",
    "version": 3
   },
   "file_extension": ".py",
   "mimetype": "text/x-python",
   "name": "python",
   "nbconvert_exporter": "python",
   "pygments_lexer": "ipython3",
   "version": "3.7.4"
  }
 },
 "nbformat": 4,
 "nbformat_minor": 2
}
