{
 "cells": [
  {
   "cell_type": "markdown",
   "metadata": {},
   "source": [
    "### Purpose of this notebook\n",
    "\n",
    "- Generate a bunch of worlds and analyze their relational properties to help identify which are interesting, and to measure those properties in the population\n"
   ]
  },
  {
   "cell_type": "code",
   "execution_count": 669,
   "metadata": {},
   "outputs": [],
   "source": [
    "from __future__ import division\n",
    "\n",
    "import numpy as np\n",
    "import os, sys\n",
    "from PIL import Image\n",
    "import pandas as pd\n",
    "\n",
    "from matplotlib import pylab, mlab, pyplot\n",
    "import matplotlib.pyplot as plt\n",
    "import matplotlib.image as mpimg\n",
    "from matplotlib.path import Path\n",
    "import matplotlib.patches as patches\n",
    "%matplotlib inline\n",
    "\n",
    "from IPython.core.pylabtools import figsize, getfigs\n",
    "\n",
    "import seaborn as sns\n",
    "\n",
    "import random\n",
    "\n",
    "from scipy.stats import norm\n",
    "from IPython.display import clear_output\n",
    "\n",
    "import copy\n",
    "import importlib\n",
    "\n",
    "\n",
    "### Add Paths\n",
    "\n",
    "## root paths\n",
    "curr_dir = os.getcwd()\n",
    "proj_dir = os.path.abspath(os.path.join(curr_dir,'..','..')) ## use relative paths\n",
    "\n",
    "## add helpers to python path\n",
    "import sys\n",
    "if os.path.join(proj_dir, 'stimuli') not in sys.path:\n",
    "    sys.path.append(os.path.join(proj_dir, 'stimuli'))\n",
    "\n",
    "## custom helper modules\n",
    "import blockworld_helpers as utils"
   ]
  },
  {
   "cell_type": "code",
   "execution_count": 730,
   "metadata": {},
   "outputs": [
    {
     "data": {
      "text/plain": [
       "<module 'blockworld_helpers' from '/Users/will/compositional-abstractions/stimuli/blockworld_helpers.py'>"
      ]
     },
     "execution_count": 730,
     "metadata": {},
     "output_type": "execute_result"
    }
   ],
   "source": [
    "importlib.reload(utils)"
   ]
  },
  {
   "cell_type": "markdown",
   "metadata": {},
   "source": [
    "### generate stimuli for norming/ prior study"
   ]
  },
  {
   "cell_type": "code",
   "execution_count": null,
   "metadata": {},
   "outputs": [],
   "source": [
    "# setup\n",
    "block_dims = [(2,1),(1,2)]\n",
    "block_colors = ['#B32F0A','#0A2FB3']\n",
    "black = ['#000000','#000000'] # used to display silhouettes\n",
    "world_width = 8\n",
    "world_height = 8\n",
    "world_center = int((world_width-1)/2)"
   ]
  },
  {
   "cell_type": "code",
   "execution_count": 671,
   "metadata": {},
   "outputs": [
    {
     "data": {
      "image/png": "[encoded data removed]",
      "text/plain": [
       "<Figure size 288x288 with 1 Axes>"
      ]
     },
     "metadata": {
      "needs_background": "light"
     },
     "output_type": "display_data"
    }
   ],
   "source": [
    "w = utils.World(block_dims = block_dims,\n",
    "                block_colors = block_colors)\n",
    "\n",
    "w.add_block(2,1,0,0)\n",
    "w.snap_to_floor(1,2,0)\n",
    "w.snap_to_floor(1,2,0)\n",
    "w.snap_to_floor(1,2,0)\n",
    "utils.draw_world(w)"
   ]
  },
  {
   "cell_type": "markdown",
   "metadata": {},
   "source": [
    "### Enumerate upper bound of n-block towers\n",
    "\n",
    "generate upper bound of stims by placing blocks in all x-positions, then adding a block to each of these in all positions\n",
    "\n",
    "These define unique sequences of *block placements*, however many of the towers consist of the same blocks in the same place"
   ]
  },
  {
   "cell_type": "code",
   "execution_count": 674,
   "metadata": {},
   "outputs": [],
   "source": [
    "# generate stims\n",
    "\n",
    "max_blocks = 5\n",
    "\n",
    "stims = {}\n",
    "\n",
    "# single block in center of world\n",
    "stims[1] = []\n",
    "\n",
    "for block in block_dims:\n",
    "    w = utils.World(block_dims = block_dims,\n",
    "                block_colors = block_colors)\n",
    "    w.add_block(block[0], # width\n",
    "                block[1], # height\n",
    "                world_center,0)\n",
    "    stims[1].append(w.get_block_dict()['blocks'])\n",
    "\n",
    "\n",
    "# add a block in all available locations to all existing towers of n-1 blocks\n",
    "for n_blocks in range(2,max_blocks+1):\n",
    "    stims[n_blocks] = []\n",
    "\n",
    "    # add block in position\n",
    "    for stim_blocks in stims[n_blocks-1]:\n",
    "        for block in block_dims:\n",
    "            for x in range(0, world_width-1):\n",
    "                #repopulate world\n",
    "                w = utils.World(block_dims = block_dims,\n",
    "                                block_colors = block_colors)\n",
    "                w.populate_from_block_list(stim_blocks)\n",
    "\n",
    "                #add new block\n",
    "                w.snap_to_floor(block[0], # width\n",
    "                            block[1], # height\n",
    "                            x)\n",
    "                stims[n_blocks].append(w.get_block_dict()['blocks'])\n"
   ]
  },
  {
   "cell_type": "code",
   "execution_count": 675,
   "metadata": {},
   "outputs": [
    {
     "name": "stdout",
     "output_type": "stream",
     "text": [
      "1 block towers: 2\n",
      "2 block towers: 28\n",
      "3 block towers: 392\n",
      "4 block towers: 5488\n",
      "5 block towers: 76832\n"
     ]
    }
   ],
   "source": [
    "# how many of each? (not necessarily unique)\n",
    "_ = [print(str(i) + ' block towers: ' + str(len(stims[i]))) for i in stims.keys()]"
   ]
  },
  {
   "cell_type": "markdown",
   "metadata": {},
   "source": [
    "### Equate towers of same blocks generated in different order"
   ]
  },
  {
   "cell_type": "code",
   "execution_count": 676,
   "metadata": {},
   "outputs": [],
   "source": [
    "# convert dictionary representations of towers to (hashable) tuple and back\n",
    "def world_dicts_to_tuples(wd):\n",
    "    wt = tuple((block['x'],block['y'],block['height'],block['width']) for block in wd)\n",
    "    return wt\n",
    "\n",
    "def world_tuples_to_dicts(wt):\n",
    "    wd = [{'x': block[0],\n",
    "             'y': block[1],\n",
    "             'height': block[2],\n",
    "             'width': block[3]} for block in wt]\n",
    "    return wd\n",
    "\n",
    "\n",
    "# helper functions to reduce set of towers\n",
    "\n",
    "def sort_blocks(stim_list):\n",
    "    # sort the blocks within a tower to find unique towers\n",
    "    sorted_list = [sorted(tower, key = lambda block: (block['y'],block['x'],block['height'],block['width'])) # SWAPPED X AND Y POSITIONS IN TUPLE HERE\n",
    "     for tower in stim_list]\n",
    "    \n",
    "    return sorted_list\n",
    "\n",
    "\n",
    "def align_towers(stim_list):\n",
    "    # place leftmost block in position 0\n",
    "    # by subtracting min x ordinate from all x-values\n",
    "\n",
    "    min_xs = [min([block['x'] for block in tower]) for tower in stim_list]\n",
    "\n",
    "    aligned_towers = [[{'x': block['x'] - min_x,\n",
    "       'y': block['y'],\n",
    "       'height': block['height'],\n",
    "       'width': block['width']}\n",
    "      for block in tower] for (tower, min_x) in zip(stim_list, min_xs)]\n",
    "    \n",
    "    return aligned_towers\n",
    "\n",
    "def convert_to_tuples(stim_list):\n",
    "    return [world_dicts_to_tuples(tower) for tower in stim_list]\n",
    "\n",
    "def find_unique_towers(stim_list):\n",
    "    return set(stim_list)\n"
   ]
  },
  {
   "cell_type": "markdown",
   "metadata": {},
   "source": [
    "#### sort blocks in tower"
   ]
  },
  {
   "cell_type": "code",
   "execution_count": 677,
   "metadata": {},
   "outputs": [],
   "source": [
    "stims_sorted_blocks = {i : sort_blocks(stim_list) for _, (i, stim_list) in enumerate(stims.items())}"
   ]
  },
  {
   "cell_type": "markdown",
   "metadata": {},
   "source": [
    "####  translational invariance- align all towers to left"
   ]
  },
  {
   "cell_type": "code",
   "execution_count": 678,
   "metadata": {},
   "outputs": [],
   "source": [
    "stims_aligned_blocks = {i : align_towers(stim_list) for _, (i, stim_list) in enumerate(stims_sorted_blocks.items())}"
   ]
  },
  {
   "cell_type": "markdown",
   "metadata": {},
   "source": [
    "####  find unique towers (i.e. same blocks in same place)"
   ]
  },
  {
   "cell_type": "code",
   "execution_count": 679,
   "metadata": {},
   "outputs": [],
   "source": [
    "# convert to tuples for easy set operations\n",
    "tower_tuples = {i : convert_to_tuples(stim_list) for _, (i, stim_list) in enumerate(stims_aligned_blocks.items())}\n",
    "\n",
    "# now towers are sorted and aligned, find unique towers\n",
    "unique_towers_tuples = {i : find_unique_towers(stim_list) for _, (i, stim_list) in enumerate(tower_tuples.items())}\n",
    "\n",
    "# convert back to dictionary for easier tower-operations\n",
    "unique_towers_dicts = {i : [world_tuples_to_dicts(tower) for tower in stim_list]\n",
    "                           for _, (i, stim_list) in enumerate(unique_towers_tuples.items())}"
   ]
  },
  {
   "cell_type": "code",
   "execution_count": 680,
   "metadata": {
    "scrolled": false
   },
   "outputs": [
    {
     "name": "stdout",
     "output_type": "stream",
     "text": [
      "Unique block towers (same blocks in same place):\n",
      "1 block: 2\n",
      "2 block: 18\n",
      "3 block: 162\n",
      "4 block: 1234\n",
      "5 block: 8384\n"
     ]
    }
   ],
   "source": [
    "print('Unique block towers (same blocks in same place):')\n",
    "_ = [print(str(i) + ' block: ' + str(len(unique_towers_dicts[i]))) for i in unique_towers_dicts.keys()]"
   ]
  },
  {
   "cell_type": "markdown",
   "metadata": {},
   "source": [
    "### Create dataframe with properties of towers"
   ]
  },
  {
   "cell_type": "code",
   "execution_count": 681,
   "metadata": {},
   "outputs": [
    {
     "name": "stdout",
     "output_type": "stream",
     "text": [
      "WARNING: tower not aligned left. Do this manually\n"
     ]
    }
   ],
   "source": [
    "df_stim = pd.DataFrame()\n",
    "\n",
    "for _, (i, stim_list) in enumerate(unique_towers_dicts.items()):\n",
    "    for stim in stim_list:\n",
    "        world = utils.worldify(stim) # convert to world object\n",
    "        \n",
    "        df_stim = df_stim.append(\n",
    "        {\n",
    "            'stim': stim,\n",
    "            'stim_tuple': world_dicts_to_tuples(stim),\n",
    "            'n_blocks': i,\n",
    "            'fully_connected': world.fully_connected(connectivity=1),\n",
    "            'fully_connected_diag': world.fully_connected(connectivity=2),\n",
    "            'blocks_above_ground': world.n_blocks_above_ground(),\n",
    "            'tower_height': world.tower_height(),\n",
    "            'tower_width': world.tower_width(),\n",
    "            'two_h_two_v': world.two_h_two_v(),\n",
    "            'silhouette': world.block_map\n",
    "        }, ignore_index=True).astype(object)\n",
    "        \n",
    "df_stim['fully_connected'] = df_stim['fully_connected'].astype(np.bool)\n",
    "df_stim['fully_connected_diag'] = df_stim['fully_connected_diag'].astype(np.bool)\n",
    "df_stim['two_h_two_v'] = df_stim['two_h_two_v'].astype(np.bool)\n",
    "\n",
    "df_stim['silhouette_str'] = df_stim['silhouette'].apply(utils.convert_to_str)"
   ]
  },
  {
   "cell_type": "code",
   "execution_count": 682,
   "metadata": {},
   "outputs": [],
   "source": [
    "df_stim_full = df_stim"
   ]
  },
  {
   "cell_type": "code",
   "execution_count": 683,
   "metadata": {},
   "outputs": [],
   "source": [
    "df_stim_full = df_stim_full.sort_values('silhouette_str').reset_index()"
   ]
  },
  {
   "cell_type": "code",
   "execution_count": 266,
   "metadata": {},
   "outputs": [],
   "source": [
    "#df_stim = df_stim[df_stim.n_blocks<=4]"
   ]
  },
  {
   "cell_type": "markdown",
   "metadata": {},
   "source": [
    "####  find unique towers (same silhouette)"
   ]
  },
  {
   "cell_type": "code",
   "execution_count": 267,
   "metadata": {},
   "outputs": [],
   "source": [
    "df_stim_silhouettes = df_stim.groupby(['n_blocks','silhouette_str']).agg('first').reset_index()"
   ]
  },
  {
   "cell_type": "markdown",
   "metadata": {},
   "source": [
    "### Visualize effect of params on number of stims"
   ]
  },
  {
   "cell_type": "code",
   "execution_count": 482,
   "metadata": {},
   "outputs": [
    {
     "data": {
      "text/plain": [
       "{'all': 1061,\n",
       " '+fully_connected': 405,\n",
       " '+2h_2v': 148,\n",
       " '+1_above_ground': 144,\n",
       " '+2_above_ground': 115}"
      ]
     },
     "execution_count": 482,
     "metadata": {},
     "output_type": "execute_result"
    }
   ],
   "source": [
    "silhouette_counts = {\n",
    "    'all': len(df_stim_silhouettes[(df_stim_silhouettes.n_blocks==4)]),\n",
    "    '+fully_connected':len(df_stim_silhouettes[(df_stim_silhouettes.n_blocks==4) &\n",
    "            (df_stim_silhouettes.fully_connected)]),\n",
    "    '+2h_2v':len(df_stim_silhouettes[(df_stim_silhouettes.n_blocks==4) &\n",
    "            (df_stim_silhouettes.fully_connected) & \n",
    "            (df_stim_silhouettes.two_h_two_v)]),\n",
    "    '+1_above_ground' : len(df_stim_silhouettes[(df_stim_silhouettes.n_blocks==4) &\n",
    "            (df_stim_silhouettes.fully_connected) & \n",
    "            (df_stim_silhouettes.two_h_two_v) &\n",
    "            (df_stim_silhouettes.blocks_above_ground>=1)]),\n",
    "    '+2_above_ground' : len(df_stim_silhouettes[(df_stim_silhouettes.n_blocks==4) &\n",
    "            (df_stim_silhouettes.fully_connected) & \n",
    "            (df_stim_silhouettes.two_h_two_v) &\n",
    "            (df_stim_silhouettes.blocks_above_ground>=2)])\n",
    "}\n",
    "silhouette_counts"
   ]
  },
  {
   "cell_type": "code",
   "execution_count": 269,
   "metadata": {},
   "outputs": [
    {
     "data": {
      "text/plain": [
       "{'all': 1234,\n",
       " '+fully_connected': 491,\n",
       " '+2h_2v': 173,\n",
       " '+1_above_ground': 167,\n",
       " '+2_above_ground': 133}"
      ]
     },
     "execution_count": 269,
     "metadata": {},
     "output_type": "execute_result"
    }
   ],
   "source": [
    "full_counts = {\n",
    "    'all': len(df_stim_full[(df_stim_full.n_blocks==4)]),\n",
    "    '+fully_connected':len(df_stim_full[(df_stim_full.n_blocks==4) &\n",
    "            (df_stim_full.fully_connected)]),\n",
    "    '+2h_2v':len(df_stim_full[(df_stim_full.n_blocks==4) &\n",
    "            (df_stim_full.fully_connected) & \n",
    "            (df_stim_full.two_h_two_v)]),\n",
    "    '+1_above_ground':len(df_stim_full[(df_stim_full.n_blocks==4) &\n",
    "            (df_stim_full.fully_connected) & \n",
    "            (df_stim_full.two_h_two_v) &\n",
    "            (df_stim_full.blocks_above_ground>=1)]),\n",
    "    '+2_above_ground':len(df_stim_full[(df_stim_full.n_blocks==4) &\n",
    "            (df_stim_full.fully_connected) & \n",
    "            (df_stim_full.two_h_two_v) &\n",
    "            (df_stim_full.blocks_above_ground>=2)])\n",
    "}\n",
    "full_counts"
   ]
  },
  {
   "cell_type": "code",
   "execution_count": 270,
   "metadata": {},
   "outputs": [
    {
     "data": {
      "text/plain": [
       "{'all': 1061,\n",
       " '+fully_connected': 405,\n",
       " '+1_above_ground': 396,\n",
       " '+2_above_ground': 326}"
      ]
     },
     "execution_count": 270,
     "metadata": {},
     "output_type": "execute_result"
    }
   ],
   "source": [
    "silhouette_counts = {\n",
    "    'all': len(df_stim_silhouettes[(df_stim_silhouettes.n_blocks==4)]),\n",
    "    '+fully_connected':len(df_stim_silhouettes[(df_stim_silhouettes.n_blocks==4) &\n",
    "            (df_stim_silhouettes.fully_connected)]),\n",
    "    '+1_above_ground' : len(df_stim_silhouettes[(df_stim_silhouettes.n_blocks==4) &\n",
    "            (df_stim_silhouettes.fully_connected) & \n",
    "            (df_stim_silhouettes.blocks_above_ground>=1)]),\n",
    "    '+2_above_ground' : len(df_stim_silhouettes[(df_stim_silhouettes.n_blocks==4) &\n",
    "            (df_stim_silhouettes.fully_connected) & \n",
    "            (df_stim_silhouettes.blocks_above_ground>=2)])\n",
    "}\n",
    "silhouette_counts"
   ]
  },
  {
   "cell_type": "code",
   "execution_count": 271,
   "metadata": {},
   "outputs": [
    {
     "data": {
      "text/plain": [
       "{'all': 1234,\n",
       " '+fully_connected': 491,\n",
       " '+1_above_ground': 477,\n",
       " '+2_above_ground': 389}"
      ]
     },
     "execution_count": 271,
     "metadata": {},
     "output_type": "execute_result"
    }
   ],
   "source": [
    "full_counts = {\n",
    "    'all': len(df_stim_full[(df_stim_full.n_blocks==4)]),\n",
    "    '+fully_connected':len(df_stim_full[(df_stim_full.n_blocks==4) &\n",
    "            (df_stim_full.fully_connected)]),\n",
    "    '+1_above_ground':len(df_stim_full[(df_stim_full.n_blocks==4) &\n",
    "            (df_stim_full.fully_connected) & \n",
    "            (df_stim_full.blocks_above_ground>=1)]),\n",
    "    '+2_above_ground':len(df_stim_full[(df_stim_full.n_blocks==4) &\n",
    "            (df_stim_full.fully_connected) & \n",
    "            (df_stim_full.blocks_above_ground>=2)])\n",
    "}\n",
    "full_counts"
   ]
  },
  {
   "cell_type": "code",
   "execution_count": 272,
   "metadata": {},
   "outputs": [
    {
     "data": {
      "text/plain": [
       "<matplotlib.legend.Legend at 0x7ff0867303d0>"
      ]
     },
     "execution_count": 272,
     "metadata": {},
     "output_type": "execute_result"
    },
    {
     "data": {
      "image/png": "[encoded data removed]",
      "text/plain": [
       "<Figure size 432x288 with 1 Axes>"
      ]
     },
     "metadata": {
      "needs_background": "light"
     },
     "output_type": "display_data"
    }
   ],
   "source": [
    "sns.lineplot(x=list(full_counts.keys()), y=list(full_counts.values()) ,sort=False)\n",
    "sns.lineplot(x=list(silhouette_counts.keys()), y=list(silhouette_counts.values()), sort=False)\n",
    "plt.legend(['unique structures','unique silhouttes'])"
   ]
  },
  {
   "cell_type": "markdown",
   "metadata": {},
   "source": [
    "#### plot\n",
    "\n",
    "uniqueness\n",
    "\n",
    "fully_connected\n",
    "blocks_above_ground > 1\n",
    "two_h_two_v\n",
    "\n",
    "\n",
    "#### subtowers\n",
    "\n",
    "marginal (just label the chunk) vs. conditional (label the chunk conditional on certain blocks already being there)\n",
    "\n",
    "\n",
    "spatial contiguity within chunk\n",
    "consecutive commands\n",
    "\n",
    "\n",
    "1. Which subtowers?\n",
    "- spatially contiguous\n",
    "   - yes: prunes annotations, show no consistent names for weird chunks\n",
    "   - no: biases annotations\n",
    "- can be produced consecutive commands\n",
    "- more than one block?\n",
    "    - because they'll likely always be called 'horizontal/ blue'\n",
    "- \n",
    "\n",
    "Less exhaustive with towers, but exhaustive with subtowers\n",
    "\n",
    "\n",
    "2. How do we present each subtower?\n",
    "- presented in isolation\n",
    "    - 'what do you call this chunk?' (may or may not be correct for CA task)\n",
    "- presented with entire tower context\n",
    "    - 'what do you call the part of this tower?'\n",
    "    - can collapse across chunks in different places\n",
    "- presented with subtower context\n",
    "\n",
    "\n",
    "1. How does a speaker chunk a tower? (perceptual priors)\n",
    "2. What priors do people have for labelling these chunks? (linguistic priors conditioned on percepts)\n",
    "3. Perceptual learning throughout task\n",
    "4. Conventional learning\n",
    "\n",
    "\n",
    "todo:\n",
    "- draft instructions. What are we saying to annotators?\n",
    "- Think about subtower space: confirm that it's a 10x multiplier\n",
    "- Think about subtower context\n",
    "- plots\n"
   ]
  },
  {
   "cell_type": "code",
   "execution_count": 273,
   "metadata": {},
   "outputs": [
    {
     "data": {
      "image/png": "[encoded data removed]",
      "text/plain": [
       "<Figure size 432x288 with 1 Axes>"
      ]
     },
     "metadata": {
      "needs_background": "light"
     },
     "output_type": "display_data"
    }
   ],
   "source": [
    "# unique by blocks\n",
    "fully_connected_counts = df_stim.groupby(['n_blocks','fully_connected']).agg('count').reset_index()\n",
    "sns.lineplot(x='n_blocks', y='stim', style='fully_connected', data=fully_connected_counts)\n",
    "\n",
    "# unique by silhouette\n",
    "fully_connected_counts = df_stim_silhouettes.groupby(['n_blocks','fully_connected']).agg('count').reset_index()\n",
    "sns.lineplot(x='n_blocks', y='stim', style='fully_connected', data=fully_connected_counts)\n",
    "\n",
    "_ = plt.ylabel('n_towers')"
   ]
  },
  {
   "cell_type": "code",
   "execution_count": 274,
   "metadata": {},
   "outputs": [
    {
     "data": {
      "image/png": "[encoded data removed]",
      "text/plain": [
       "<Figure size 432x288 with 1 Axes>"
      ]
     },
     "metadata": {
      "needs_background": "light"
     },
     "output_type": "display_data"
    }
   ],
   "source": [
    "# unique by blocks\n",
    "blocks_above_ground_counts = df_stim.groupby(['n_blocks','blocks_above_ground']).agg('count').reset_index()\n",
    "sns.lineplot(x='n_blocks', y='stim', hue='blocks_above_ground', data=blocks_above_ground_counts)\n",
    "\n",
    "# unique by silhouettes\n",
    "# blocks_above_ground_counts = df_stim_silhouettes.groupby(['n_blocks','blocks_above_ground']).agg('count').reset_index()\n",
    "# sns.lineplot(x='n_blocks', y='stim', hue='blocks_above_ground', data=blocks_above_ground_counts)\n",
    "\n",
    "_ = plt.ylabel('n_towers')\n"
   ]
  },
  {
   "cell_type": "code",
   "execution_count": 275,
   "metadata": {},
   "outputs": [
    {
     "data": {
      "image/png": "[encoded data removed]",
      "text/plain": [
       "<Figure size 1800x720 with 10 Axes>"
      ]
     },
     "metadata": {
      "needs_background": "light"
     },
     "output_type": "display_data"
    }
   ],
   "source": [
    "g = sns.catplot(data = df_stim, x='n_blocks', row='fully_connected', col='blocks_above_ground', kind=\"count\")"
   ]
  },
  {
   "cell_type": "markdown",
   "metadata": {},
   "source": [
    "### Apply filters to towers\n",
    "\n",
    "- connected\n",
    "- at least 1 or 2 blocks off ground\n",
    "- 2 horizontal, 2 vertical\n",
    "- height\n",
    "- max width\n",
    "\n",
    "\n"
   ]
  },
  {
   "cell_type": "markdown",
   "metadata": {},
   "source": [
    "#### unique by blocks used"
   ]
  },
  {
   "cell_type": "code",
   "execution_count": 684,
   "metadata": {},
   "outputs": [],
   "source": [
    "reduced = df_stim_full[(df_stim_full.n_blocks==4) &\n",
    "                (df_stim_full.fully_connected) & \n",
    "                (df_stim_full.two_h_two_v) &\n",
    "                (df_stim_full.blocks_above_ground>=2)]"
   ]
  },
  {
   "cell_type": "code",
   "execution_count": 685,
   "metadata": {},
   "outputs": [
    {
     "data": {
      "image/png": "[encoded data removed]",
      "text/plain": [
       "<Figure size 864x1872 with 140 Axes>"
      ]
     },
     "metadata": {
      "needs_background": "light"
     },
     "output_type": "display_data"
    }
   ],
   "source": [
    "utils.draw_towers([utils.worldify(w, \n",
    "                                  block_dims = block_dims, \n",
    "                                  block_colors = block_colors) \n",
    "                   for w in reduced['stim']],\n",
    "                 figsize=(12,26))"
   ]
  },
  {
   "cell_type": "code",
   "execution_count": 732,
   "metadata": {},
   "outputs": [],
   "source": [
    "tower_worlds = [utils.worldify(w,\n",
    "                               block_dims = block_dims, \n",
    "                               block_colors = black)\\\n",
    "                    for w in reduced['stim']]"
   ]
  },
  {
   "cell_type": "code",
   "execution_count": 733,
   "metadata": {},
   "outputs": [
    {
     "data": {
      "image/png": "[encoded data removed]",
      "text/plain": [
       "<Figure size 144x216 with 1 Axes>"
      ]
     },
     "metadata": {
      "needs_background": "light"
     },
     "output_type": "display_data"
    },
    {
     "data": {
      "image/png": "[encoded data removed]",
      "text/plain": [
       "<Figure size 144x216 with 1 Axes>"
      ]
     },
     "metadata": {
      "needs_background": "light"
     },
     "output_type": "display_data"
    },
    {
     "data": {
      "image/png": "[encoded data removed]",
      "text/plain": [
       "<Figure size 144x216 with 1 Axes>"
      ]
     },
     "metadata": {
      "needs_background": "light"
     },
     "output_type": "display_data"
    },
    {
     "data": {
      "image/png": "[encoded data removed]",
      "text/plain": [
       "<Figure size 144x216 with 1 Axes>"
      ]
     },
     "metadata": {
      "needs_background": "light"
     },
     "output_type": "display_data"
    },
    {
     "data": {
      "image/png": "[encoded data removed]",
      "text/plain": [
       "<Figure size 144x216 with 1 Axes>"
      ]
     },
     "metadata": {
      "needs_background": "light"
     },
     "output_type": "display_data"
    },
    {
     "data": {
      "image/png": "[encoded data removed]",
      "text/plain": [
       "<Figure size 144x216 with 1 Axes>"
      ]
     },
     "metadata": {
      "needs_background": "light"
     },
     "output_type": "display_data"
    },
    {
     "data": {
      "image/png": "[encoded data removed]",
      "text/plain": [
       "<Figure size 144x216 with 1 Axes>"
      ]
     },
     "metadata": {
      "needs_background": "light"
     },
     "output_type": "display_data"
    },
    {
     "data": {
      "image/png": "[encoded data removed]",
      "text/plain": [
       "<Figure size 144x216 with 1 Axes>"
      ]
     },
     "metadata": {
      "needs_background": "light"
     },
     "output_type": "display_data"
    },
    {
     "data": {
      "image/png": "[encoded data removed]",
      "text/plain": [
       "<Figure size 144x216 with 1 Axes>"
      ]
     },
     "metadata": {
      "needs_background": "light"
     },
     "output_type": "display_data"
    },
    {
     "data": {
      "image/png": "[encoded data removed]",
      "text/plain": [
       "<Figure size 144x216 with 1 Axes>"
      ]
     },
     "metadata": {
      "needs_background": "light"
     },
     "output_type": "display_data"
    },
    {
     "data": {
      "image/png": "[encoded data removed]",
      "text/plain": [
       "<Figure size 144x216 with 1 Axes>"
      ]
     },
     "metadata": {
      "needs_background": "light"
     },
     "output_type": "display_data"
    },
    {
     "data": {
      "image/png": "[encoded data removed]",
      "text/plain": [
       "<Figure size 144x216 with 1 Axes>"
      ]
     },
     "metadata": {
      "needs_background": "light"
     },
     "output_type": "display_data"
    },
    {
     "data": {
      "image/png": "[encoded data removed]",
      "text/plain": [
       "<Figure size 144x216 with 1 Axes>"
      ]
     },
     "metadata": {
      "needs_background": "light"
     },
     "output_type": "display_data"
    },
    {
     "data": {
      "image/png": "[encoded data removed]",
      "text/plain": [
       "<Figure size 144x216 with 1 Axes>"
      ]
     },
     "metadata": {
      "needs_background": "light"
     },
     "output_type": "display_data"
    },
    {
     "data": {
      "image/png": "[encoded data removed]",
      "text/plain": [
       "<Figure size 144x216 with 1 Axes>"
      ]
     },
     "metadata": {
      "needs_background": "light"
     },
     "output_type": "display_data"
    },
    {
     "data": {
      "image/png": "[encoded data removed]",
      "text/plain": [
       "<Figure size 144x216 with 1 Axes>"
      ]
     },
     "metadata": {
      "needs_background": "light"
     },
     "output_type": "display_data"
    },
    {
     "data": {
      "image/png": "[encoded data removed]",
      "text/plain": [
       "<Figure size 144x216 with 1 Axes>"
      ]
     },
     "metadata": {
      "needs_background": "light"
     },
     "output_type": "display_data"
    },
    {
     "data": {
      "image/png": "[encoded data removed]",
      "text/plain": [
       "<Figure size 144x216 with 1 Axes>"
      ]
     },
     "metadata": {
      "needs_background": "light"
     },
     "output_type": "display_data"
    },
    {
     "data": {
      "image/png": "[encoded data removed]",
      "text/plain": [
       "<Figure size 144x216 with 1 Axes>"
      ]
     },
     "metadata": {
      "needs_background": "light"
     },
     "output_type": "display_data"
    },
    {
     "data": {
      "image/png": "[encoded data removed]",
      "text/plain": [
       "<Figure size 144x216 with 1 Axes>"
      ]
     },
     "metadata": {
      "needs_background": "light"
     },
     "output_type": "display_data"
    },
    {
     "data": {
      "image/png": "[encoded data removed]",
      "text/plain": [
       "<Figure size 144x216 with 1 Axes>"
      ]
     },
     "metadata": {
      "needs_background": "light"
     },
     "output_type": "display_data"
    },
    {
     "data": {
      "image/png": "[encoded data removed]",
      "text/plain": [
       "<Figure size 144x216 with 1 Axes>"
      ]
     },
     "metadata": {
      "needs_background": "light"
     },
     "output_type": "display_data"
    },
    {
     "data": {
      "image/png": "[encoded data removed]",
      "text/plain": [
       "<Figure size 144x216 with 1 Axes>"
      ]
     },
     "metadata": {
      "needs_background": "light"
     },
     "output_type": "display_data"
    },
    {
     "data": {
      "image/png": "[encoded data removed]",
      "text/plain": [
       "<Figure size 144x216 with 1 Axes>"
      ]
     },
     "metadata": {
      "needs_background": "light"
     },
     "output_type": "display_data"
    },
    {
     "data": {
      "image/png": "[encoded data removed]",
      "text/plain": [
       "<Figure size 144x216 with 1 Axes>"
      ]
     },
     "metadata": {
      "needs_background": "light"
     },
     "output_type": "display_data"
    },
    {
     "data": {
      "image/png": "[encoded data removed]",
      "text/plain": [
       "<Figure size 144x216 with 1 Axes>"
      ]
     },
     "metadata": {
      "needs_background": "light"
     },
     "output_type": "display_data"
    },
    {
     "data": {
      "image/png": "[encoded data removed]",
      "text/plain": [
       "<Figure size 144x216 with 1 Axes>"
      ]
     },
     "metadata": {
      "needs_background": "light"
     },
     "output_type": "display_data"
    },
    {
     "data": {
      "image/png": "[encoded data removed]",
      "text/plain": [
       "<Figure size 144x216 with 1 Axes>"
      ]
     },
     "metadata": {
      "needs_background": "light"
     },
     "output_type": "display_data"
    },
    {
     "data": {
      "image/png": "[encoded data removed]",
      "text/plain": [
       "<Figure size 144x216 with 1 Axes>"
      ]
     },
     "metadata": {
      "needs_background": "light"
     },
     "output_type": "display_data"
    },
    {
     "data": {
      "image/png": "[encoded data removed]",
      "text/plain": [
       "<Figure size 144x216 with 1 Axes>"
      ]
     },
     "metadata": {
      "needs_background": "light"
     },
     "output_type": "display_data"
    },
    {
     "data": {
      "image/png": "[encoded data removed]",
      "text/plain": [
       "<Figure size 144x216 with 1 Axes>"
      ]
     },
     "metadata": {
      "needs_background": "light"
     },
     "output_type": "display_data"
    },
    {
     "data": {
      "image/png": "[encoded data removed]",
      "text/plain": [
       "<Figure size 144x216 with 1 Axes>"
      ]
     },
     "metadata": {
      "needs_background": "light"
     },
     "output_type": "display_data"
    },
    {
     "data": {
      "image/png": "[encoded data removed]",
      "text/plain": [
       "<Figure size 144x216 with 1 Axes>"
      ]
     },
     "metadata": {
      "needs_background": "light"
     },
     "output_type": "display_data"
    },
    {
     "data": {
      "image/png": "[encoded data removed]",
      "text/plain": [
       "<Figure size 144x216 with 1 Axes>"
      ]
     },
     "metadata": {
      "needs_background": "light"
     },
     "output_type": "display_data"
    },
    {
     "data": {
      "image/png": "[encoded data removed]",
      "text/plain": [
       "<Figure size 144x216 with 1 Axes>"
      ]
     },
     "metadata": {
      "needs_background": "light"
     },
     "output_type": "display_data"
    },
    {
     "data": {
      "image/png": "[encoded data removed]",
      "text/plain": [
       "<Figure size 144x216 with 1 Axes>"
      ]
     },
     "metadata": {
      "needs_background": "light"
     },
     "output_type": "display_data"
    },
    {
     "data": {
      "image/png": "[encoded data removed]",
      "text/plain": [
       "<Figure size 144x216 with 1 Axes>"
      ]
     },
     "metadata": {
      "needs_background": "light"
     },
     "output_type": "display_data"
    },
    {
     "data": {
      "image/png": "[encoded data removed]",
      "text/plain": [
       "<Figure size 144x216 with 1 Axes>"
      ]
     },
     "metadata": {
      "needs_background": "light"
     },
     "output_type": "display_data"
    },
    {
     "data": {
      "image/png": "[encoded data removed]",
      "text/plain": [
       "<Figure size 144x216 with 1 Axes>"
      ]
     },
     "metadata": {
      "needs_background": "light"
     },
     "output_type": "display_data"
    },
    {
     "data": {
      "image/png": "[encoded data removed]",
      "text/plain": [
       "<Figure size 144x216 with 1 Axes>"
      ]
     },
     "metadata": {
      "needs_background": "light"
     },
     "output_type": "display_data"
    },
    {
     "data": {
      "image/png": "[encoded data removed]",
      "text/plain": [
       "<Figure size 144x216 with 1 Axes>"
      ]
     },
     "metadata": {
      "needs_background": "light"
     },
     "output_type": "display_data"
    },
    {
     "data": {
      "image/png": "[encoded data removed]",
      "text/plain": [
       "<Figure size 144x216 with 1 Axes>"
      ]
     },
     "metadata": {
      "needs_background": "light"
     },
     "output_type": "display_data"
    },
    {
     "data": {
      "image/png": "[encoded data removed]",
      "text/plain": [
       "<Figure size 144x216 with 1 Axes>"
      ]
     },
     "metadata": {
      "needs_background": "light"
     },
     "output_type": "display_data"
    },
    {
     "data": {
      "image/png": "[encoded data removed]",
      "text/plain": [
       "<Figure size 144x216 with 1 Axes>"
      ]
     },
     "metadata": {
      "needs_background": "light"
     },
     "output_type": "display_data"
    },
    {
     "data": {
      "image/png": "[encoded data removed]",
      "text/plain": [
       "<Figure size 144x216 with 1 Axes>"
      ]
     },
     "metadata": {
      "needs_background": "light"
     },
     "output_type": "display_data"
    },
    {
     "data": {
      "image/png": "[encoded data removed]",
      "text/plain": [
       "<Figure size 144x216 with 1 Axes>"
      ]
     },
     "metadata": {
      "needs_background": "light"
     },
     "output_type": "display_data"
    },
    {
     "data": {
      "image/png": "[encoded data removed]",
      "text/plain": [
       "<Figure size 144x216 with 1 Axes>"
      ]
     },
     "metadata": {
      "needs_background": "light"
     },
     "output_type": "display_data"
    },
    {
     "data": {
      "image/png": "[encoded data removed]",
      "text/plain": [
       "<Figure size 144x216 with 1 Axes>"
      ]
     },
     "metadata": {
      "needs_background": "light"
     },
     "output_type": "display_data"
    },
    {
     "data": {
      "image/png": "[encoded data removed]",
      "text/plain": [
       "<Figure size 144x216 with 1 Axes>"
      ]
     },
     "metadata": {
      "needs_background": "light"
     },
     "output_type": "display_data"
    },
    {
     "data": {
      "image/png": "[encoded data removed]",
      "text/plain": [
       "<Figure size 144x216 with 1 Axes>"
      ]
     },
     "metadata": {
      "needs_background": "light"
     },
     "output_type": "display_data"
    },
    {
     "data": {
      "image/png": "[encoded data removed]",
      "text/plain": [
       "<Figure size 144x216 with 1 Axes>"
      ]
     },
     "metadata": {
      "needs_background": "light"
     },
     "output_type": "display_data"
    },
    {
     "data": {
      "image/png": "[encoded data removed]",
      "text/plain": [
       "<Figure size 144x216 with 1 Axes>"
      ]
     },
     "metadata": {
      "needs_background": "light"
     },
     "output_type": "display_data"
    },
    {
     "data": {
      "image/png": "[encoded data removed]",
      "text/plain": [
       "<Figure size 144x216 with 1 Axes>"
      ]
     },
     "metadata": {
      "needs_background": "light"
     },
     "output_type": "display_data"
    },
    {
     "data": {
      "image/png": "[encoded data removed]",
      "text/plain": [
       "<Figure size 144x216 with 1 Axes>"
      ]
     },
     "metadata": {
      "needs_background": "light"
     },
     "output_type": "display_data"
    },
    {
     "data": {
      "image/png": "[encoded data removed]",
      "text/plain": [
       "<Figure size 144x216 with 1 Axes>"
      ]
     },
     "metadata": {
      "needs_background": "light"
     },
     "output_type": "display_data"
    },
    {
     "data": {
      "image/png": "[encoded data removed]",
      "text/plain": [
       "<Figure size 144x216 with 1 Axes>"
      ]
     },
     "metadata": {
      "needs_background": "light"
     },
     "output_type": "display_data"
    },
    {
     "data": {
      "image/png": "[encoded data removed]",
      "text/plain": [
       "<Figure size 144x216 with 1 Axes>"
      ]
     },
     "metadata": {
      "needs_background": "light"
     },
     "output_type": "display_data"
    },
    {
     "data": {
      "image/png": "[encoded data removed]",
      "text/plain": [
       "<Figure size 144x216 with 1 Axes>"
      ]
     },
     "metadata": {
      "needs_background": "light"
     },
     "output_type": "display_data"
    },
    {
     "data": {
      "image/png": "[encoded data removed]",
      "text/plain": [
       "<Figure size 144x216 with 1 Axes>"
      ]
     },
     "metadata": {
      "needs_background": "light"
     },
     "output_type": "display_data"
    },
    {
     "data": {
      "image/png": "[encoded data removed]",
      "text/plain": [
       "<Figure size 144x216 with 1 Axes>"
      ]
     },
     "metadata": {
      "needs_background": "light"
     },
     "output_type": "display_data"
    },
    {
     "data": {
      "image/png": "[encoded data removed]",
      "text/plain": [
       "<Figure size 144x216 with 1 Axes>"
      ]
     },
     "metadata": {
      "needs_background": "light"
     },
     "output_type": "display_data"
    },
    {
     "data": {
      "image/png": "[encoded data removed]",
      "text/plain": [
       "<Figure size 144x216 with 1 Axes>"
      ]
     },
     "metadata": {
      "needs_background": "light"
     },
     "output_type": "display_data"
    },
    {
     "data": {
      "image/png": "[encoded data removed]",
      "text/plain": [
       "<Figure size 144x216 with 1 Axes>"
      ]
     },
     "metadata": {
      "needs_background": "light"
     },
     "output_type": "display_data"
    },
    {
     "data": {
      "image/png": "[encoded data removed]",
      "text/plain": [
       "<Figure size 144x216 with 1 Axes>"
      ]
     },
     "metadata": {
      "needs_background": "light"
     },
     "output_type": "display_data"
    },
    {
     "data": {
      "image/png": "[encoded data removed]",
      "text/plain": [
       "<Figure size 144x216 with 1 Axes>"
      ]
     },
     "metadata": {
      "needs_background": "light"
     },
     "output_type": "display_data"
    },
    {
     "data": {
      "image/png": "[encoded data removed]",
      "text/plain": [
       "<Figure size 144x216 with 1 Axes>"
      ]
     },
     "metadata": {
      "needs_background": "light"
     },
     "output_type": "display_data"
    },
    {
     "data": {
      "image/png": "[encoded data removed]",
      "text/plain": [
       "<Figure size 144x216 with 1 Axes>"
      ]
     },
     "metadata": {
      "needs_background": "light"
     },
     "output_type": "display_data"
    },
    {
     "data": {
      "image/png": "[encoded data removed]",
      "text/plain": [
       "<Figure size 144x216 with 1 Axes>"
      ]
     },
     "metadata": {
      "needs_background": "light"
     },
     "output_type": "display_data"
    },
    {
     "data": {
      "image/png": "[encoded data removed]",
      "text/plain": [
       "<Figure size 144x216 with 1 Axes>"
      ]
     },
     "metadata": {
      "needs_background": "light"
     },
     "output_type": "display_data"
    },
    {
     "data": {
      "image/png": "[encoded data removed]",
      "text/plain": [
       "<Figure size 144x216 with 1 Axes>"
      ]
     },
     "metadata": {
      "needs_background": "light"
     },
     "output_type": "display_data"
    },
    {
     "data": {
      "image/png": "[encoded data removed]",
      "text/plain": [
       "<Figure size 144x216 with 1 Axes>"
      ]
     },
     "metadata": {
      "needs_background": "light"
     },
     "output_type": "display_data"
    },
    {
     "data": {
      "image/png": "[encoded data removed]",
      "text/plain": [
       "<Figure size 144x216 with 1 Axes>"
      ]
     },
     "metadata": {
      "needs_background": "light"
     },
     "output_type": "display_data"
    },
    {
     "data": {
      "image/png": "[encoded data removed]",
      "text/plain": [
       "<Figure size 144x216 with 1 Axes>"
      ]
     },
     "metadata": {
      "needs_background": "light"
     },
     "output_type": "display_data"
    },
    {
     "data": {
      "image/png": "[encoded data removed]",
      "text/plain": [
       "<Figure size 144x216 with 1 Axes>"
      ]
     },
     "metadata": {
      "needs_background": "light"
     },
     "output_type": "display_data"
    },
    {
     "data": {
      "image/png": "[encoded data removed]",
      "text/plain": [
       "<Figure size 144x216 with 1 Axes>"
      ]
     },
     "metadata": {
      "needs_background": "light"
     },
     "output_type": "display_data"
    },
    {
     "data": {
      "image/png": "[encoded data removed]",
      "text/plain": [
       "<Figure size 144x216 with 1 Axes>"
      ]
     },
     "metadata": {
      "needs_background": "light"
     },
     "output_type": "display_data"
    },
    {
     "data": {
      "image/png": "[encoded data removed]",
      "text/plain": [
       "<Figure size 144x216 with 1 Axes>"
      ]
     },
     "metadata": {
      "needs_background": "light"
     },
     "output_type": "display_data"
    },
    {
     "data": {
      "image/png": "[encoded data removed]",
      "text/plain": [
       "<Figure size 144x216 with 1 Axes>"
      ]
     },
     "metadata": {
      "needs_background": "light"
     },
     "output_type": "display_data"
    },
    {
     "data": {
      "image/png": "[encoded data removed]",
      "text/plain": [
       "<Figure size 144x216 with 1 Axes>"
      ]
     },
     "metadata": {
      "needs_background": "light"
     },
     "output_type": "display_data"
    },
    {
     "data": {
      "image/png": "[encoded data removed]",
      "text/plain": [
       "<Figure size 144x216 with 1 Axes>"
      ]
     },
     "metadata": {
      "needs_background": "light"
     },
     "output_type": "display_data"
    },
    {
     "data": {
      "image/png": "[encoded data removed]",
      "text/plain": [
       "<Figure size 144x216 with 1 Axes>"
      ]
     },
     "metadata": {
      "needs_background": "light"
     },
     "output_type": "display_data"
    },
    {
     "data": {
      "image/png": "[encoded data removed]",
      "text/plain": [
       "<Figure size 144x216 with 1 Axes>"
      ]
     },
     "metadata": {
      "needs_background": "light"
     },
     "output_type": "display_data"
    },
    {
     "data": {
      "image/png": "[encoded data removed]",
      "text/plain": [
       "<Figure size 144x216 with 1 Axes>"
      ]
     },
     "metadata": {
      "needs_background": "light"
     },
     "output_type": "display_data"
    },
    {
     "data": {
      "image/png": "[encoded data removed]",
      "text/plain": [
       "<Figure size 144x216 with 1 Axes>"
      ]
     },
     "metadata": {
      "needs_background": "light"
     },
     "output_type": "display_data"
    },
    {
     "data": {
      "image/png": "[encoded data removed]",
      "text/plain": [
       "<Figure size 144x216 with 1 Axes>"
      ]
     },
     "metadata": {
      "needs_background": "light"
     },
     "output_type": "display_data"
    },
    {
     "data": {
      "image/png": "[encoded data removed]",
      "text/plain": [
       "<Figure size 144x216 with 1 Axes>"
      ]
     },
     "metadata": {
      "needs_background": "light"
     },
     "output_type": "display_data"
    },
    {
     "data": {
      "image/png": "[encoded data removed]",
      "text/plain": [
       "<Figure size 144x216 with 1 Axes>"
      ]
     },
     "metadata": {
      "needs_background": "light"
     },
     "output_type": "display_data"
    },
    {
     "data": {
      "image/png": "[encoded data removed]",
      "text/plain": [
       "<Figure size 144x216 with 1 Axes>"
      ]
     },
     "metadata": {
      "needs_background": "light"
     },
     "output_type": "display_data"
    },
    {
     "data": {
      "image/png": "[encoded data removed]",
      "text/plain": [
       "<Figure size 144x216 with 1 Axes>"
      ]
     },
     "metadata": {
      "needs_background": "light"
     },
     "output_type": "display_data"
    },
    {
     "data": {
      "image/png": "[encoded data removed]",
      "text/plain": [
       "<Figure size 144x216 with 1 Axes>"
      ]
     },
     "metadata": {
      "needs_background": "light"
     },
     "output_type": "display_data"
    },
    {
     "data": {
      "image/png": "[encoded data removed]",
      "text/plain": [
       "<Figure size 144x216 with 1 Axes>"
      ]
     },
     "metadata": {
      "needs_background": "light"
     },
     "output_type": "display_data"
    },
    {
     "data": {
      "image/png": "[encoded data removed]",
      "text/plain": [
       "<Figure size 144x216 with 1 Axes>"
      ]
     },
     "metadata": {
      "needs_background": "light"
     },
     "output_type": "display_data"
    },
    {
     "data": {
      "image/png": "[encoded data removed]",
      "text/plain": [
       "<Figure size 144x216 with 1 Axes>"
      ]
     },
     "metadata": {
      "needs_background": "light"
     },
     "output_type": "display_data"
    },
    {
     "data": {
      "image/png": "[encoded data removed]",
      "text/plain": [
       "<Figure size 144x216 with 1 Axes>"
      ]
     },
     "metadata": {
      "needs_background": "light"
     },
     "output_type": "display_data"
    },
    {
     "data": {
      "image/png": "[encoded data removed]",
      "text/plain": [
       "<Figure size 144x216 with 1 Axes>"
      ]
     },
     "metadata": {
      "needs_background": "light"
     },
     "output_type": "display_data"
    },
    {
     "data": {
      "image/png": "[encoded data removed]",
      "text/plain": [
       "<Figure size 144x216 with 1 Axes>"
      ]
     },
     "metadata": {
      "needs_background": "light"
     },
     "output_type": "display_data"
    },
    {
     "data": {
      "image/png": "[encoded data removed]",
      "text/plain": [
       "<Figure size 144x216 with 1 Axes>"
      ]
     },
     "metadata": {
      "needs_background": "light"
     },
     "output_type": "display_data"
    },
    {
     "data": {
      "image/png": "[encoded data removed]",
      "text/plain": [
       "<Figure size 144x216 with 1 Axes>"
      ]
     },
     "metadata": {
      "needs_background": "light"
     },
     "output_type": "display_data"
    },
    {
     "data": {
      "image/png": "[encoded data removed]",
      "text/plain": [
       "<Figure size 144x216 with 1 Axes>"
      ]
     },
     "metadata": {
      "needs_background": "light"
     },
     "output_type": "display_data"
    },
    {
     "data": {
      "image/png": "[encoded data removed]",
      "text/plain": [
       "<Figure size 144x216 with 1 Axes>"
      ]
     },
     "metadata": {
      "needs_background": "light"
     },
     "output_type": "display_data"
    },
    {
     "data": {
      "image/png": "[encoded data removed]",
      "text/plain": [
       "<Figure size 144x216 with 1 Axes>"
      ]
     },
     "metadata": {
      "needs_background": "light"
     },
     "output_type": "display_data"
    },
    {
     "data": {
      "image/png": "[encoded data removed]",
      "text/plain": [
       "<Figure size 144x216 with 1 Axes>"
      ]
     },
     "metadata": {
      "needs_background": "light"
     },
     "output_type": "display_data"
    },
    {
     "data": {
      "image/png": "[encoded data removed]",
      "text/plain": [
       "<Figure size 144x216 with 1 Axes>"
      ]
     },
     "metadata": {
      "needs_background": "light"
     },
     "output_type": "display_data"
    },
    {
     "data": {
      "image/png": "[encoded data removed]",
      "text/plain": [
       "<Figure size 144x216 with 1 Axes>"
      ]
     },
     "metadata": {
      "needs_background": "light"
     },
     "output_type": "display_data"
    },
    {
     "data": {
      "image/png": "[encoded data removed]",
      "text/plain": [
       "<Figure size 144x216 with 1 Axes>"
      ]
     },
     "metadata": {
      "needs_background": "light"
     },
     "output_type": "display_data"
    },
    {
     "data": {
      "image/png": "[encoded data removed]",
      "text/plain": [
       "<Figure size 144x216 with 1 Axes>"
      ]
     },
     "metadata": {
      "needs_background": "light"
     },
     "output_type": "display_data"
    },
    {
     "data": {
      "image/png": "[encoded data removed]",
      "text/plain": [
       "<Figure size 144x216 with 1 Axes>"
      ]
     },
     "metadata": {
      "needs_background": "light"
     },
     "output_type": "display_data"
    },
    {
     "data": {
      "image/png": "[encoded data removed]",
      "text/plain": [
       "<Figure size 144x216 with 1 Axes>"
      ]
     },
     "metadata": {
      "needs_background": "light"
     },
     "output_type": "display_data"
    },
    {
     "data": {
      "image/png": "[encoded data removed]",
      "text/plain": [
       "<Figure size 144x216 with 1 Axes>"
      ]
     },
     "metadata": {
      "needs_background": "light"
     },
     "output_type": "display_data"
    },
    {
     "data": {
      "image/png": "[encoded data removed]",
      "text/plain": [
       "<Figure size 144x216 with 1 Axes>"
      ]
     },
     "metadata": {
      "needs_background": "light"
     },
     "output_type": "display_data"
    },
    {
     "data": {
      "image/png": "[encoded data removed]",
      "text/plain": [
       "<Figure size 144x216 with 1 Axes>"
      ]
     },
     "metadata": {
      "needs_background": "light"
     },
     "output_type": "display_data"
    },
    {
     "data": {
      "image/png": "[encoded data removed]",
      "text/plain": [
       "<Figure size 144x216 with 1 Axes>"
      ]
     },
     "metadata": {
      "needs_background": "light"
     },
     "output_type": "display_data"
    },
    {
     "data": {
      "image/png": "[encoded data removed]",
      "text/plain": [
       "<Figure size 144x216 with 1 Axes>"
      ]
     },
     "metadata": {
      "needs_background": "light"
     },
     "output_type": "display_data"
    },
    {
     "data": {
      "image/png": "[encoded data removed]",
      "text/plain": [
       "<Figure size 144x216 with 1 Axes>"
      ]
     },
     "metadata": {
      "needs_background": "light"
     },
     "output_type": "display_data"
    },
    {
     "data": {
      "image/png": "[encoded data removed]",
      "text/plain": [
       "<Figure size 144x216 with 1 Axes>"
      ]
     },
     "metadata": {
      "needs_background": "light"
     },
     "output_type": "display_data"
    },
    {
     "data": {
      "image/png": "[encoded data removed]",
      "text/plain": [
       "<Figure size 144x216 with 1 Axes>"
      ]
     },
     "metadata": {
      "needs_background": "light"
     },
     "output_type": "display_data"
    },
    {
     "data": {
      "image/png": "[encoded data removed]",
      "text/plain": [
       "<Figure size 144x216 with 1 Axes>"
      ]
     },
     "metadata": {
      "needs_background": "light"
     },
     "output_type": "display_data"
    },
    {
     "data": {
      "image/png": "[encoded data removed]",
      "text/plain": [
       "<Figure size 144x216 with 1 Axes>"
      ]
     },
     "metadata": {
      "needs_background": "light"
     },
     "output_type": "display_data"
    },
    {
     "data": {
      "image/png": "[encoded data removed]",
      "text/plain": [
       "<Figure size 144x216 with 1 Axes>"
      ]
     },
     "metadata": {
      "needs_background": "light"
     },
     "output_type": "display_data"
    },
    {
     "data": {
      "image/png": "[encoded data removed]",
      "text/plain": [
       "<Figure size 144x216 with 1 Axes>"
      ]
     },
     "metadata": {
      "needs_background": "light"
     },
     "output_type": "display_data"
    },
    {
     "data": {
      "image/png": "[encoded data removed]",
      "text/plain": [
       "<Figure size 144x216 with 1 Axes>"
      ]
     },
     "metadata": {
      "needs_background": "light"
     },
     "output_type": "display_data"
    },
    {
     "data": {
      "image/png": "[encoded data removed]",
      "text/plain": [
       "<Figure size 144x216 with 1 Axes>"
      ]
     },
     "metadata": {
      "needs_background": "light"
     },
     "output_type": "display_data"
    },
    {
     "data": {
      "image/png": "[encoded data removed]",
      "text/plain": [
       "<Figure size 144x216 with 1 Axes>"
      ]
     },
     "metadata": {
      "needs_background": "light"
     },
     "output_type": "display_data"
    },
    {
     "data": {
      "image/png": "[encoded data removed]",
      "text/plain": [
       "<Figure size 144x216 with 1 Axes>"
      ]
     },
     "metadata": {
      "needs_background": "light"
     },
     "output_type": "display_data"
    },
    {
     "data": {
      "image/png": "[encoded data removed]",
      "text/plain": [
       "<Figure size 144x216 with 1 Axes>"
      ]
     },
     "metadata": {
      "needs_background": "light"
     },
     "output_type": "display_data"
    },
    {
     "data": {
      "image/png": "[encoded data removed]",
      "text/plain": [
       "<Figure size 144x216 with 1 Axes>"
      ]
     },
     "metadata": {
      "needs_background": "light"
     },
     "output_type": "display_data"
    },
    {
     "data": {
      "image/png": "[encoded data removed]",
      "text/plain": [
       "<Figure size 144x216 with 1 Axes>"
      ]
     },
     "metadata": {
      "needs_background": "light"
     },
     "output_type": "display_data"
    },
    {
     "data": {
      "image/png": "[encoded data removed]",
      "text/plain": [
       "<Figure size 144x216 with 1 Axes>"
      ]
     },
     "metadata": {
      "needs_background": "light"
     },
     "output_type": "display_data"
    },
    {
     "data": {
      "image/png": "[encoded data removed]",
      "text/plain": [
       "<Figure size 144x216 with 1 Axes>"
      ]
     },
     "metadata": {
      "needs_background": "light"
     },
     "output_type": "display_data"
    },
    {
     "data": {
      "image/png": "[encoded data removed]",
      "text/plain": [
       "<Figure size 144x216 with 1 Axes>"
      ]
     },
     "metadata": {
      "needs_background": "light"
     },
     "output_type": "display_data"
    },
    {
     "data": {
      "image/png": "[encoded data removed]",
      "text/plain": [
       "<Figure size 144x216 with 1 Axes>"
      ]
     },
     "metadata": {
      "needs_background": "light"
     },
     "output_type": "display_data"
    },
    {
     "data": {
      "image/png": "[encoded data removed]",
      "text/plain": [
       "<Figure size 144x216 with 1 Axes>"
      ]
     },
     "metadata": {
      "needs_background": "light"
     },
     "output_type": "display_data"
    },
    {
     "data": {
      "image/png": "[encoded data removed]",
      "text/plain": [
       "<Figure size 144x216 with 1 Axes>"
      ]
     },
     "metadata": {
      "needs_background": "light"
     },
     "output_type": "display_data"
    }
   ],
   "source": [
    "for i, w in enumerate(tower_worlds):\n",
    "    fig = utils.draw_tower(w)\n",
    "    fig.savefig('./tower_stim_silhouettes/tower_'+str(i))"
   ]
  },
  {
   "cell_type": "code",
   "execution_count": 686,
   "metadata": {},
   "outputs": [
    {
     "data": {
      "text/plain": [
       "133"
      ]
     },
     "execution_count": 686,
     "metadata": {},
     "output_type": "execute_result"
    }
   ],
   "source": [
    "len(reduced)"
   ]
  },
  {
   "cell_type": "markdown",
   "metadata": {},
   "source": [
    "#### unique by silhouette"
   ]
  },
  {
   "cell_type": "code",
   "execution_count": 688,
   "metadata": {},
   "outputs": [],
   "source": [
    "unique_silhouettes_reduced = reduced.groupby('silhouette_str').agg('first').reset_index()"
   ]
  },
  {
   "cell_type": "code",
   "execution_count": 689,
   "metadata": {
    "scrolled": false
   },
   "outputs": [
    {
     "data": {
      "image/png": "[encoded data removed]",
      "text/plain": [
       "<Figure size 864x1728 with 130 Axes>"
      ]
     },
     "metadata": {
      "needs_background": "light"
     },
     "output_type": "display_data"
    }
   ],
   "source": [
    "utils.draw_towers([utils.worldify(w, \n",
    "                                  block_dims = block_dims, \n",
    "#                                   block_colors = black,\n",
    "                                  block_colors = block_colors,\n",
    "                                 ) \n",
    "                   for w in unique_silhouettes_reduced['stim']],\n",
    "                 figsize=(12,24))"
   ]
  },
  {
   "cell_type": "code",
   "execution_count": null,
   "metadata": {},
   "outputs": [],
   "source": [
    "tower_stim_unique_silhouettes"
   ]
  },
  {
   "cell_type": "code",
   "execution_count": null,
   "metadata": {},
   "outputs": [],
   "source": [
    "tower_stim_unique_silhouettes"
   ]
  },
  {
   "cell_type": "code",
   "execution_count": 735,
   "metadata": {},
   "outputs": [],
   "source": [
    "# save unique silhouettes (indices will be different)\n",
    "\n",
    "tower_worlds = [utils.worldify(w,\n",
    "                               block_dims = block_dims, \n",
    "                               block_colors = black)\\\n",
    "                    for w in unique_silhouettes_reduced['stim']]\n",
    "\n",
    "for i, w in enumerate(tower_worlds):\n",
    "    fig = utils.draw_tower(w)\n",
    "    fig.savefig('./tower_stim_unique_silhouettes/tower_unique_'+str(i))"
   ]
  },
  {
   "cell_type": "code",
   "execution_count": 690,
   "metadata": {},
   "outputs": [
    {
     "data": {
      "text/plain": [
       "125"
      ]
     },
     "execution_count": 690,
     "metadata": {},
     "output_type": "execute_result"
    }
   ],
   "source": [
    "len(unique_silhouettes_reduced)"
   ]
  },
  {
   "cell_type": "code",
   "execution_count": 691,
   "metadata": {},
   "outputs": [
    {
     "name": "stdout",
     "output_type": "stream",
     "text": [
      "21 horizontal towers\n"
     ]
    },
    {
     "data": {
      "image/png": "[encoded data removed]",
      "text/plain": [
       "<Figure size 864x432 with 30 Axes>"
      ]
     },
     "metadata": {
      "needs_background": "light"
     },
     "output_type": "display_data"
    }
   ],
   "source": [
    "# Horizontal Towers\n",
    "\n",
    "wide_subset = df_stim_full[(df_stim_full.n_blocks==4) &\n",
    "                (df_stim_full.fully_connected) & \n",
    "                (df_stim_full.two_h_two_v) &\n",
    "                (df_stim_full.tower_height <= 3) &\n",
    "                (df_stim_full.blocks_above_ground>=2)]\n",
    "\n",
    "# get unique silhouettes\n",
    "wide_subset = wide_subset.groupby('silhouette_str').agg('first').reset_index()\n",
    "\n",
    "\n",
    "utils.draw_towers([utils.worldify(w, \n",
    "                                  block_dims = block_dims, \n",
    "#                                   block_colors = black,\n",
    "                                  block_colors = block_colors,\n",
    "                                 ) \n",
    "                   for w in wide_subset['stim']],\n",
    "                 figsize=(12,6))\n",
    "\n",
    "\n",
    "print(str(len(wide_subset))+ ' horizontal towers')"
   ]
  },
  {
   "cell_type": "code",
   "execution_count": 692,
   "metadata": {},
   "outputs": [
    {
     "name": "stdout",
     "output_type": "stream",
     "text": [
      "66 vertical towers\n"
     ]
    },
    {
     "data": {
      "image/png": "[encoded data removed]",
      "text/plain": [
       "<Figure size 864x864 with 70 Axes>"
      ]
     },
     "metadata": {
      "needs_background": "light"
     },
     "output_type": "display_data"
    }
   ],
   "source": [
    "# Vertical Towers\n",
    "\n",
    "tall_subset = df_stim_full[(df_stim_full.n_blocks==4) &\n",
    "                (df_stim_full.fully_connected) & \n",
    "                (df_stim_full.two_h_two_v) &\n",
    "                (df_stim_full.tower_height >= 5) &\n",
    "                (df_stim_full.tower_width <= 5)]\n",
    "\n",
    "# get unique silhouettes\n",
    "tall_subset = tall_subset.groupby('silhouette_str').agg('first').reset_index()\n",
    "\n",
    "\n",
    "utils.draw_towers([utils.worldify(w, \n",
    "                                  block_dims = block_dims, \n",
    "#                                   block_colors = black,\n",
    "                                  block_colors = block_colors,\n",
    "                                 ) \n",
    "                   for w in tall_subset['stim']],\n",
    "                 figsize=(12,12))\n",
    "\n",
    "print(str(len(tall_subset))+ ' vertical towers')"
   ]
  },
  {
   "cell_type": "code",
   "execution_count": 717,
   "metadata": {},
   "outputs": [
    {
     "name": "stdout",
     "output_type": "stream",
     "text": [
      "56 vertical towers with width <=3\n"
     ]
    },
    {
     "data": {
      "image/png": "[encoded data removed]",
      "text/plain": [
       "<Figure size 864x864 with 60 Axes>"
      ]
     },
     "metadata": {
      "needs_background": "light"
     },
     "output_type": "display_data"
    }
   ],
   "source": [
    "# Vertical Towers\n",
    "\n",
    "tall_subset_width_3 = df_stim_full[(df_stim_full.n_blocks==4) &\n",
    "                (df_stim_full.fully_connected) & \n",
    "                (df_stim_full.two_h_two_v) &\n",
    "                (df_stim_full.tower_height >= 5) &\n",
    "                (df_stim_full.tower_width <= 3)]\n",
    "\n",
    "# get unique silhouettes\n",
    "tall_subset_width_3 = tall_subset_width_3.groupby('silhouette_str').agg('first').reset_index()\n",
    "\n",
    "\n",
    "utils.draw_towers([utils.worldify(w, \n",
    "                                  block_dims = block_dims, \n",
    "#                                   block_colors = black,\n",
    "                                  block_colors = block_colors,\n",
    "                                 ) \n",
    "                   for w in tall_subset_width_3['stim']],\n",
    "                 figsize=(12,12))\n",
    "\n",
    "print(str(len(tall_subset_width_3))+ ' vertical towers with width <=3')"
   ]
  },
  {
   "cell_type": "code",
   "execution_count": 694,
   "metadata": {},
   "outputs": [],
   "source": [
    "# Find cross product of all horizontal and all vertical towers\n",
    "\n",
    "\n",
    "stim_a = wide_subset['stim'][9]\n",
    "stim_b = wide_subset['stim'][19]\n",
    "\n",
    "world_a = utils.worldify(stim_a, \n",
    "                         block_dims = block_dims, \n",
    "                         block_colors = block_colors,)\n",
    "\n",
    "world_b = utils.worldify(stim_b, \n",
    "                         block_dims = block_dims, \n",
    "                         block_colors = block_colors,)\n"
   ]
  },
  {
   "cell_type": "code",
   "execution_count": 695,
   "metadata": {},
   "outputs": [
    {
     "data": {
      "image/png": "[encoded data removed]",
      "text/plain": [
       "<Figure size 144x216 with 1 Axes>"
      ]
     },
     "metadata": {
      "needs_background": "light"
     },
     "output_type": "display_data"
    }
   ],
   "source": [
    "utils.draw_tower(world_b)"
   ]
  },
  {
   "cell_type": "code",
   "execution_count": 696,
   "metadata": {},
   "outputs": [],
   "source": [
    "def compose_vertically(stim_a, stim_b): \n",
    "    \n",
    "    world = utils.worldify(stim_a, \n",
    "                         block_dims = block_dims, \n",
    "                         block_colors = block_colors,)\n",
    "\n",
    "    tower_a_height = world.tower_height()\n",
    "    \n",
    "    still_good = True\n",
    "    \n",
    "    for block in stim_b:\n",
    "        placed_block = world.snap_to_floor(block['width'], block['height'], block['x'])\n",
    "#         print(placed_block.y)\n",
    "#         print(block['y']+tower_a_height)\n",
    "#         print('this block good: ' + str(placed_block.y == (block['y'] + tower_a_height)))\n",
    "        still_good = still_good and (placed_block.y == (block['y'] + tower_a_height))\n",
    "#         print(still_good)\n",
    "        \n",
    "    return (still_good, world)\n"
   ]
  },
  {
   "cell_type": "code",
   "execution_count": 698,
   "metadata": {},
   "outputs": [
    {
     "data": {
      "image/png": "[encoded data removed]",
      "text/plain": [
       "<Figure size 144x216 with 1 Axes>"
      ]
     },
     "metadata": {
      "needs_background": "light"
     },
     "output_type": "display_data"
    },
    {
     "data": {
      "image/png": "[encoded data removed]",
      "text/plain": [
       "<Figure size 144x216 with 1 Axes>"
      ]
     },
     "metadata": {
      "needs_background": "light"
     },
     "output_type": "display_data"
    },
    {
     "name": "stdout",
     "output_type": "stream",
     "text": [
      "False\n"
     ]
    },
    {
     "data": {
      "image/png": "[encoded data removed]",
      "text/plain": [
       "<Figure size 144x216 with 1 Axes>"
      ]
     },
     "metadata": {
      "needs_background": "light"
     },
     "output_type": "display_data"
    }
   ],
   "source": [
    "stim_a = wide_subset['stim'][0]\n",
    "stim_b = wide_subset['stim'][19]\n",
    "\n",
    "world_a = utils.worldify(stim_a, \n",
    "                         block_dims = block_dims, \n",
    "                         block_colors = block_colors,)\n",
    "\n",
    "world_b = utils.worldify(stim_b, \n",
    "                         block_dims = block_dims, \n",
    "                         block_colors = block_colors,)\n",
    "\n",
    "utils.draw_tower(world_a)\n",
    "\n",
    "utils.draw_tower(world_b)\n",
    "\n",
    "print(compose_vertically(stim_a, stim_b)[0])\n",
    "utils.draw_tower(compose_vertically(stim_a, stim_b)[1])"
   ]
  },
  {
   "cell_type": "code",
   "execution_count": 714,
   "metadata": {
    "scrolled": false
   },
   "outputs": [
    {
     "data": {
      "image/png": "[encoded data removed]",
      "text/plain": [
       "<Figure size 864x3312 with 250 Axes>"
      ]
     },
     "metadata": {
      "needs_background": "light"
     },
     "output_type": "display_data"
    }
   ],
   "source": [
    "vert_composition_attempts = [compose_vertically(stim_a, stim_b)\\\n",
    "                             for stim_a in wide_subset['stim'] \\\n",
    "                                 for stim_b in wide_subset['stim']]\n",
    "\n",
    "utils.draw_towers([utils.worldify(w, \n",
    "                                  block_dims = block_dims, \n",
    "#                                   block_colors = black,\n",
    "                                   block_colors = block_colors,\n",
    "                                 ) \n",
    "                   for w in [attempt[1].get_block_dict()['blocks'] for attempt in vert_composition_attempts if attempt[0]]],\n",
    "                 figsize=(12,46))\n"
   ]
  },
  {
   "cell_type": "code",
   "execution_count": 715,
   "metadata": {
    "scrolled": false
   },
   "outputs": [
    {
     "data": {
      "image/png": "[encoded data removed]",
      "text/plain": [
       "<Figure size 864x3312 with 250 Axes>"
      ]
     },
     "metadata": {
      "needs_background": "light"
     },
     "output_type": "display_data"
    }
   ],
   "source": [
    "utils.draw_towers([utils.worldify(w, \n",
    "                                  block_dims = block_dims, \n",
    "                                   block_colors = black,\n",
    "#                                   block_colors = block_colors,\n",
    "                                 ) \n",
    "                   for w in [attempt[1].get_block_dict()['blocks'] \\\n",
    "                             for attempt in vert_composition_attempts if attempt[0]]],\n",
    "                 figsize=(12,46))"
   ]
  },
  {
   "cell_type": "code",
   "execution_count": 716,
   "metadata": {},
   "outputs": [
    {
     "data": {
      "text/plain": [
       "246"
      ]
     },
     "execution_count": 716,
     "metadata": {},
     "output_type": "execute_result"
    }
   ],
   "source": [
    "len([attempt[1].get_block_dict() for attempt in vert_composition_attempts if attempt[0]])"
   ]
  },
  {
   "cell_type": "code",
   "execution_count": 705,
   "metadata": {},
   "outputs": [],
   "source": [
    "# compose horizontally\n",
    "\n",
    "def compose_horizontally(stim_a, stim_b): \n",
    "    '''\n",
    "    Composes two tall stimuli by placing them side by side.\n",
    "    \n",
    "    Tries placing tower 1, then 2 blocks to the right of it's left-aligned position.\n",
    "\n",
    "    Rejects tower if width > 4 squares\n",
    "    \n",
    "    \n",
    "    Want to assume that if you can build the towers one after the other, you can build them the other way around\n",
    "    This should work given that each is an independent standing tower, but:\n",
    "    NEED TO CHECK THAT IN EXPERIMENT YOU CAN SNAP A BLOCK UNDER ANOTHER IF NEEDED\n",
    "    \n",
    "    PRE: stims are maximum 3 wide\n",
    "    '''\n",
    "    \n",
    "    still_good = False\n",
    "    successful_alignment = None\n",
    "    \n",
    "    \n",
    "    for alignment in [1,2]:\n",
    "        \n",
    "        if still_good == False:\n",
    "\n",
    "            # Try placing left tower first\n",
    "            world = utils.worldify(stim_a, \n",
    "                                 block_dims = block_dims, \n",
    "                                 block_colors = block_colors,)\n",
    "\n",
    "            still_good = True\n",
    "\n",
    "            for block in stim_b:\n",
    "                # place block 'alignment' squares to the right of its default position\n",
    "                placed_block = world.snap_to_floor(block['width'], block['height'], block['x'] + alignment)\n",
    "                # if it stays at the predefined height, we're good\n",
    "                still_good = still_good and (placed_block.y == (block['y']))\n",
    "\n",
    "\n",
    "            if not still_good:\n",
    "                # Try placing right tower\n",
    "                \n",
    "                realigned_tower = [{'x': b['x'] + alignment,\n",
    "                                     'y': b['y'],\n",
    "                                     'height': b['height'],\n",
    "                                     'width': b['width']}\n",
    "                                              for b in stim_b]\n",
    "\n",
    "                world = utils.worldify(realigned_tower, \n",
    "                                     block_dims = block_dims, \n",
    "                                     block_colors = block_colors,)\n",
    "\n",
    "                still_good = True\n",
    "\n",
    "                for block in stim_a:\n",
    "                    # place block 'alignment' squares to the right of its default position\n",
    "                    placed_block = world.snap_to_floor(block['width'], block['height'], block['x'])\n",
    "                    # if it stays at the predefined height, we're good\n",
    "                    still_good = still_good and (placed_block.y == (block['y']))\n",
    "                    \n",
    "                still_good = still_good and world.tower_width() <=4\n",
    "                    \n",
    "                \n",
    "                \n",
    "                if not still_good:\n",
    "                    # try sorting\n",
    "                    \n",
    "                    stim_a_copy = stim_a.copy()\n",
    "                    \n",
    "                    sorted_stims = sort_blocks([stim_a_copy + realigned_tower])[0]\n",
    "\n",
    "                    world = utils.World(block_dims = block_dims, \n",
    "                                        block_colors = block_colors,)\n",
    "                    still_good = True\n",
    "\n",
    "                    for block in sorted_stims:\n",
    "                        # place block 'alignment' squares to the right of its default position\n",
    "                        placed_block = world.snap_to_floor(block['width'], block['height'], block['x'])\n",
    "                        # if it stays at the predefined height, we're good\n",
    "                        still_good = still_good and (placed_block.y == (block['y']))\n",
    "                \n",
    "                \n",
    "\n",
    "\n",
    "            still_good = still_good and world.tower_width() <=4\n",
    "            \n",
    "            if still_good:\n",
    "                successful_alignment = alignment\n",
    "            \n",
    "\n",
    "    return (still_good, world, successful_alignment)\n",
    "\n"
   ]
  },
  {
   "cell_type": "code",
   "execution_count": 702,
   "metadata": {},
   "outputs": [
    {
     "data": {
      "image/png": "[encoded data removed]",
      "text/plain": [
       "<Figure size 144x216 with 1 Axes>"
      ]
     },
     "metadata": {
      "needs_background": "light"
     },
     "output_type": "display_data"
    },
    {
     "data": {
      "image/png": "[encoded data removed]",
      "text/plain": [
       "<Figure size 144x216 with 1 Axes>"
      ]
     },
     "metadata": {
      "needs_background": "light"
     },
     "output_type": "display_data"
    },
    {
     "name": "stdout",
     "output_type": "stream",
     "text": [
      "False\n"
     ]
    },
    {
     "data": {
      "image/png": "[encoded data removed]",
      "text/plain": [
       "<Figure size 144x216 with 1 Axes>"
      ]
     },
     "metadata": {
      "needs_background": "light"
     },
     "output_type": "display_data"
    }
   ],
   "source": [
    "stim_a = tall_subset['stim'][4]\n",
    "stim_b = tall_subset['stim'][7]\n",
    "\n",
    "world_a = utils.worldify(stim_a, \n",
    "                         block_dims = block_dims, \n",
    "                         block_colors = block_colors,)\n",
    "\n",
    "world_b = utils.worldify(stim_b, \n",
    "                         block_dims = block_dims, \n",
    "                         block_colors = block_colors,)\n",
    "\n",
    "utils.draw_tower(world_a)\n",
    "\n",
    "utils.draw_tower(world_b)\n",
    "\n",
    "print(compose_horizontally(stim_a, stim_b)[0])\n",
    "utils.draw_tower(compose_horizontally(stim_a, stim_b)[1], xlim=(0,6))"
   ]
  },
  {
   "cell_type": "code",
   "execution_count": 710,
   "metadata": {
    "scrolled": false
   },
   "outputs": [
    {
     "data": {
      "image/png": "[encoded data removed]",
      "text/plain": [
       "<Figure size 864x6480 with 660 Axes>"
      ]
     },
     "metadata": {
      "needs_background": "light"
     },
     "output_type": "display_data"
    }
   ],
   "source": [
    "horz_composition_attempts = [compose_horizontally(stim_a, stim_b)\\\n",
    "                             for stim_a in tall_subset_width_3['stim']\\\n",
    "                                 for stim_b in tall_subset_width_3['stim']]\n",
    "\n",
    "utils.draw_towers([utils.worldify(w, \n",
    "                                  block_dims = block_dims, \n",
    "#                                   block_colors = black,\n",
    "                                   block_colors = block_colors,\n",
    "                                 ) \n",
    "                   for w in [attempt[1].get_block_dict()['blocks'] for attempt in horz_composition_attempts if attempt[0]]],\n",
    "                 figsize=(12,90))"
   ]
  },
  {
   "cell_type": "code",
   "execution_count": 711,
   "metadata": {
    "scrolled": false
   },
   "outputs": [
    {
     "data": {
      "image/png": "[encoded data removed]",
      "text/plain": [
       "<Figure size 864x6480 with 660 Axes>"
      ]
     },
     "metadata": {
      "needs_background": "light"
     },
     "output_type": "display_data"
    }
   ],
   "source": [
    "utils.draw_towers([utils.worldify(w, \n",
    "                                  block_dims = block_dims, \n",
    "                                   block_colors = black,\n",
    "#                                   block_colors = block_colors,\n",
    "                                 ) \n",
    "                   for w in [attempt[1].get_block_dict()['blocks'] for attempt in horz_composition_attempts if attempt[0]]],\n",
    "                 figsize=(12,90))"
   ]
  },
  {
   "cell_type": "code",
   "execution_count": 707,
   "metadata": {},
   "outputs": [
    {
     "data": {
      "text/plain": [
       "656"
      ]
     },
     "execution_count": 707,
     "metadata": {},
     "output_type": "execute_result"
    }
   ],
   "source": [
    "len([attempt[1].get_block_dict() for attempt in horz_composition_attempts if attempt[0]])"
   ]
  },
  {
   "cell_type": "code",
   "execution_count": null,
   "metadata": {},
   "outputs": [],
   "source": [
    "# arrange to see which chunks contribute\n",
    "\n"
   ]
  },
  {
   "cell_type": "code",
   "execution_count": 564,
   "metadata": {},
   "outputs": [
    {
     "data": {
      "text/plain": [
       "<module 'blockworld_helpers' from '/Users/will/compositional-abstractions/stimuli/blockworld_helpers.py'>"
      ]
     },
     "execution_count": 564,
     "metadata": {},
     "output_type": "execute_result"
    }
   ],
   "source": [
    "importlib.reload(utils)"
   ]
  },
  {
   "cell_type": "code",
   "execution_count": null,
   "metadata": {},
   "outputs": [],
   "source": []
  }
 ],
 "metadata": {
  "kernelspec": {
   "display_name": "Python 3",
   "language": "python",
   "name": "python3"
  },
  "language_info": {
   "codemirror_mode": {
    "name": "ipython",
    "version": 3
   },
   "file_extension": ".py",
   "mimetype": "text/x-python",
   "name": "python",
   "nbconvert_exporter": "python",
   "pygments_lexer": "ipython3",
   "version": "3.7.4"
  }
 },
 "nbformat": 4,
 "nbformat_minor": 2
}
