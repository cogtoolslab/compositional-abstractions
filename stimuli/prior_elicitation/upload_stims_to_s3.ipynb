{
 "cells": [
  {
   "cell_type": "markdown",
   "metadata": {},
   "source": [
    "# Upload tower stimuli to s3"
   ]
  },
  {
   "cell_type": "code",
   "execution_count": 13,
   "metadata": {},
   "outputs": [],
   "source": [
    "#Which experiment? bucket_name is the name of the experiment and will be name of the databases both on mongoDB and S3\n",
    "bucket_name = 'lax-tower-4-block-unique-silhouettes-json' #containment\n",
    "stim_version = 'tower_4_block_unique_silhouettes_json'"
   ]
  },
  {
   "cell_type": "code",
   "execution_count": 14,
   "metadata": {},
   "outputs": [],
   "source": [
    "import os\n",
    "from glob import glob\n",
    "import boto3\n",
    "import botocore\n",
    "from IPython.display import clear_output\n",
    "import json\n",
    "import pandas as pd\n",
    "from PIL import Image"
   ]
  },
  {
   "cell_type": "code",
   "execution_count": 15,
   "metadata": {},
   "outputs": [],
   "source": [
    "def list_files(paths, ext='json'):\n",
    "    \"\"\"Pass list of folders if there are stimuli in multiple folders. \n",
    "    Make sure that the containing folder is informative, as the rest of the path is ignored in naming. \n",
    "    Also returns filenames as uploaded to S3\"\"\"\n",
    "    if type(paths) is not list:\n",
    "        paths = [paths]\n",
    "    results = []\n",
    "    names = []\n",
    "    for path in paths:\n",
    "        results += [y for x in os.walk(path) for y in glob(os.path.join(x[0], '*.%s' % ext))]\n",
    "        names += [os.path.split(y)[1] for x in os.walk(path) for y in glob(os.path.join(x[0], '*.%s' % ext))]\n",
    "    return results,names"
   ]
  },
  {
   "cell_type": "code",
   "execution_count": 16,
   "metadata": {},
   "outputs": [],
   "source": [
    "## helper to speed things up by not uploading images if they already exist, can be overriden \n",
    "def check_exists(s3, bucket_name, stim_name):\n",
    "    try:\n",
    "        s3.Object(bucket_name,stim_name).load()    \n",
    "        return True\n",
    "    except botocore.exceptions.ClientError as e:    \n",
    "        if (e.response['Error']['Code'] == \"404\"):\n",
    "            print('The object does not exist.')\n",
    "            return False\n",
    "        else:\n",
    "            print('Something else has gone wrong with {}'.format(stim_name))"
   ]
  },
  {
   "cell_type": "markdown",
   "metadata": {},
   "source": [
    "Pass list of folders if there are stimuli in multiple folders. Make sure that the containing folder is informative, as the rest of the path is ignored in naming."
   ]
  },
  {
   "cell_type": "code",
   "execution_count": 17,
   "metadata": {},
   "outputs": [
    {
     "name": "stdout",
     "output_type": "stream",
     "text": [
      "We have 130 stimuli to upload.\n"
     ]
    }
   ],
   "source": [
    "## set up paths, etc.\n",
    "# paths_to_stim = ['./example'] ## provide a list of full paths here.\n",
    "paths_to_stim = [\n",
    "    \n",
    "    # tower silhouettes\n",
    "    \"../\" + stim_version,\n",
    "    \n",
    "]\n",
    "\n",
    "# paths_to_stim = glob.glob()\n",
    "full_stim_paths, filenames = [x for x in list_files(paths_to_stim) if x !='.DS_Store'] #generate filenames and stimpaths\n",
    "print('We have {} stimuli to upload.'.format(len(full_stim_paths)))"
   ]
  },
  {
   "cell_type": "markdown",
   "metadata": {},
   "source": [
    "Upload to S3. This expects the `.aws/credentials` file in your home directory."
   ]
  },
  {
   "cell_type": "code",
   "execution_count": 21,
   "metadata": {},
   "outputs": [
    {
     "name": "stdout",
     "output_type": "stream",
     "text": [
      "Done!\n"
     ]
    }
   ],
   "source": [
    "reallyRun = True\n",
    "if reallyRun:\n",
    "\n",
    "    ## establish connection to s3 \n",
    "    s3 = boto3.resource('s3')\n",
    "\n",
    "    ## create a bucket with the appropriate bucket name\n",
    "    try: \n",
    "        b = s3.create_bucket(Bucket=bucket_name) \n",
    "        print('Created new bucket.')\n",
    "#     except NoCredentialsError:\n",
    "#         print(\"Credential missing\") #.aws/credentials should be in home folder, not in repo folder\n",
    "    except:\n",
    "        b = s3.Bucket(bucket_name)\n",
    "        print('Bucket already exists.')\n",
    "\n",
    "    ## do we want to overwrite files on s3?\n",
    "    overwrite = True\n",
    "    \n",
    "    ## set bucket and objects to public\n",
    "    b.Acl().put(ACL='public-read') ## sets bucket to public\n",
    "\n",
    "    ## now let's loop through stim paths and actually upload to s3 (woot!)\n",
    "    for i,path_to_file in enumerate(full_stim_paths):        # use sorted(full_stim_paths) when not using photodraw32\n",
    "        stim_name = filenames[i]\n",
    "        if ((check_exists(s3, bucket_name, stim_name)==False) | (overwrite==True)):\n",
    "            print('Now uploading {} as {} | {} of {}'.format(os.path.split(path_to_file)[-1],stim_name,(i+1),len(full_stim_paths)))\n",
    "            s3.Object(bucket_name,stim_name).put(Body=open(path_to_file,'rb')) ## upload stimuli\n",
    "            s3.Object(bucket_name,stim_name).Acl().put(ACL='public-read') ## set access controls\n",
    "        else: \n",
    "            print('Skipping {} | {} of {} because it already exists.'.format(os.path.split(path_to_file)[-1],(i+1),len(full_stim_paths)))\n",
    "        clear_output(wait=True)\n",
    "print('Done!')"
   ]
  },
  {
   "cell_type": "code",
   "execution_count": 22,
   "metadata": {},
   "outputs": [
    {
     "name": "stdout",
     "output_type": "stream",
     "text": [
      "s3.ObjectSummary(bucket_name='lax-tower-4-block-unique-silhouettes-json', key='tower_4_block_unique_silhouettes_000.json')\n",
      "s3.ObjectSummary(bucket_name='lax-tower-4-block-unique-silhouettes-json', key='tower_4_block_unique_silhouettes_001.json')\n",
      "s3.ObjectSummary(bucket_name='lax-tower-4-block-unique-silhouettes-json', key='tower_4_block_unique_silhouettes_002.json')\n",
      "s3.ObjectSummary(bucket_name='lax-tower-4-block-unique-silhouettes-json', key='tower_4_block_unique_silhouettes_003.json')\n",
      "s3.ObjectSummary(bucket_name='lax-tower-4-block-unique-silhouettes-json', key='tower_4_block_unique_silhouettes_004.json')\n",
      "s3.ObjectSummary(bucket_name='lax-tower-4-block-unique-silhouettes-json', key='tower_4_block_unique_silhouettes_005.json')\n",
      "s3.ObjectSummary(bucket_name='lax-tower-4-block-unique-silhouettes-json', key='tower_4_block_unique_silhouettes_006.json')\n",
      "s3.ObjectSummary(bucket_name='lax-tower-4-block-unique-silhouettes-json', key='tower_4_block_unique_silhouettes_007.json')\n",
      "s3.ObjectSummary(bucket_name='lax-tower-4-block-unique-silhouettes-json', key='tower_4_block_unique_silhouettes_008.json')\n",
      "s3.ObjectSummary(bucket_name='lax-tower-4-block-unique-silhouettes-json', key='tower_4_block_unique_silhouettes_009.json')\n",
      "s3.ObjectSummary(bucket_name='lax-tower-4-block-unique-silhouettes-json', key='tower_4_block_unique_silhouettes_010.json')\n",
      "s3.ObjectSummary(bucket_name='lax-tower-4-block-unique-silhouettes-json', key='tower_4_block_unique_silhouettes_011.json')\n",
      "s3.ObjectSummary(bucket_name='lax-tower-4-block-unique-silhouettes-json', key='tower_4_block_unique_silhouettes_012.json')\n",
      "s3.ObjectSummary(bucket_name='lax-tower-4-block-unique-silhouettes-json', key='tower_4_block_unique_silhouettes_013.json')\n",
      "s3.ObjectSummary(bucket_name='lax-tower-4-block-unique-silhouettes-json', key='tower_4_block_unique_silhouettes_014.json')\n",
      "s3.ObjectSummary(bucket_name='lax-tower-4-block-unique-silhouettes-json', key='tower_4_block_unique_silhouettes_015.json')\n",
      "s3.ObjectSummary(bucket_name='lax-tower-4-block-unique-silhouettes-json', key='tower_4_block_unique_silhouettes_016.json')\n",
      "s3.ObjectSummary(bucket_name='lax-tower-4-block-unique-silhouettes-json', key='tower_4_block_unique_silhouettes_017.json')\n",
      "s3.ObjectSummary(bucket_name='lax-tower-4-block-unique-silhouettes-json', key='tower_4_block_unique_silhouettes_018.json')\n",
      "s3.ObjectSummary(bucket_name='lax-tower-4-block-unique-silhouettes-json', key='tower_4_block_unique_silhouettes_019.json')\n",
      "s3.ObjectSummary(bucket_name='lax-tower-4-block-unique-silhouettes-json', key='tower_4_block_unique_silhouettes_020.json')\n",
      "s3.ObjectSummary(bucket_name='lax-tower-4-block-unique-silhouettes-json', key='tower_4_block_unique_silhouettes_021.json')\n",
      "s3.ObjectSummary(bucket_name='lax-tower-4-block-unique-silhouettes-json', key='tower_4_block_unique_silhouettes_022.json')\n",
      "s3.ObjectSummary(bucket_name='lax-tower-4-block-unique-silhouettes-json', key='tower_4_block_unique_silhouettes_023.json')\n",
      "s3.ObjectSummary(bucket_name='lax-tower-4-block-unique-silhouettes-json', key='tower_4_block_unique_silhouettes_024.json')\n",
      "s3.ObjectSummary(bucket_name='lax-tower-4-block-unique-silhouettes-json', key='tower_4_block_unique_silhouettes_025.json')\n",
      "s3.ObjectSummary(bucket_name='lax-tower-4-block-unique-silhouettes-json', key='tower_4_block_unique_silhouettes_026.json')\n",
      "s3.ObjectSummary(bucket_name='lax-tower-4-block-unique-silhouettes-json', key='tower_4_block_unique_silhouettes_027.json')\n",
      "s3.ObjectSummary(bucket_name='lax-tower-4-block-unique-silhouettes-json', key='tower_4_block_unique_silhouettes_028.json')\n",
      "s3.ObjectSummary(bucket_name='lax-tower-4-block-unique-silhouettes-json', key='tower_4_block_unique_silhouettes_029.json')\n",
      "s3.ObjectSummary(bucket_name='lax-tower-4-block-unique-silhouettes-json', key='tower_4_block_unique_silhouettes_030.json')\n",
      "s3.ObjectSummary(bucket_name='lax-tower-4-block-unique-silhouettes-json', key='tower_4_block_unique_silhouettes_031.json')\n",
      "s3.ObjectSummary(bucket_name='lax-tower-4-block-unique-silhouettes-json', key='tower_4_block_unique_silhouettes_032.json')\n",
      "s3.ObjectSummary(bucket_name='lax-tower-4-block-unique-silhouettes-json', key='tower_4_block_unique_silhouettes_033.json')\n",
      "s3.ObjectSummary(bucket_name='lax-tower-4-block-unique-silhouettes-json', key='tower_4_block_unique_silhouettes_034.json')\n",
      "s3.ObjectSummary(bucket_name='lax-tower-4-block-unique-silhouettes-json', key='tower_4_block_unique_silhouettes_035.json')\n",
      "s3.ObjectSummary(bucket_name='lax-tower-4-block-unique-silhouettes-json', key='tower_4_block_unique_silhouettes_036.json')\n",
      "s3.ObjectSummary(bucket_name='lax-tower-4-block-unique-silhouettes-json', key='tower_4_block_unique_silhouettes_037.json')\n",
      "s3.ObjectSummary(bucket_name='lax-tower-4-block-unique-silhouettes-json', key='tower_4_block_unique_silhouettes_038.json')\n",
      "s3.ObjectSummary(bucket_name='lax-tower-4-block-unique-silhouettes-json', key='tower_4_block_unique_silhouettes_039.json')\n",
      "s3.ObjectSummary(bucket_name='lax-tower-4-block-unique-silhouettes-json', key='tower_4_block_unique_silhouettes_040.json')\n",
      "s3.ObjectSummary(bucket_name='lax-tower-4-block-unique-silhouettes-json', key='tower_4_block_unique_silhouettes_041.json')\n",
      "s3.ObjectSummary(bucket_name='lax-tower-4-block-unique-silhouettes-json', key='tower_4_block_unique_silhouettes_042.json')\n",
      "s3.ObjectSummary(bucket_name='lax-tower-4-block-unique-silhouettes-json', key='tower_4_block_unique_silhouettes_043.json')\n",
      "s3.ObjectSummary(bucket_name='lax-tower-4-block-unique-silhouettes-json', key='tower_4_block_unique_silhouettes_044.json')\n",
      "s3.ObjectSummary(bucket_name='lax-tower-4-block-unique-silhouettes-json', key='tower_4_block_unique_silhouettes_045.json')\n",
      "s3.ObjectSummary(bucket_name='lax-tower-4-block-unique-silhouettes-json', key='tower_4_block_unique_silhouettes_046.json')\n",
      "s3.ObjectSummary(bucket_name='lax-tower-4-block-unique-silhouettes-json', key='tower_4_block_unique_silhouettes_047.json')\n",
      "s3.ObjectSummary(bucket_name='lax-tower-4-block-unique-silhouettes-json', key='tower_4_block_unique_silhouettes_048.json')\n",
      "s3.ObjectSummary(bucket_name='lax-tower-4-block-unique-silhouettes-json', key='tower_4_block_unique_silhouettes_049.json')\n",
      "s3.ObjectSummary(bucket_name='lax-tower-4-block-unique-silhouettes-json', key='tower_4_block_unique_silhouettes_050.json')\n",
      "s3.ObjectSummary(bucket_name='lax-tower-4-block-unique-silhouettes-json', key='tower_4_block_unique_silhouettes_051.json')\n",
      "s3.ObjectSummary(bucket_name='lax-tower-4-block-unique-silhouettes-json', key='tower_4_block_unique_silhouettes_052.json')\n",
      "s3.ObjectSummary(bucket_name='lax-tower-4-block-unique-silhouettes-json', key='tower_4_block_unique_silhouettes_053.json')\n",
      "s3.ObjectSummary(bucket_name='lax-tower-4-block-unique-silhouettes-json', key='tower_4_block_unique_silhouettes_054.json')\n",
      "s3.ObjectSummary(bucket_name='lax-tower-4-block-unique-silhouettes-json', key='tower_4_block_unique_silhouettes_055.json')\n",
      "s3.ObjectSummary(bucket_name='lax-tower-4-block-unique-silhouettes-json', key='tower_4_block_unique_silhouettes_056.json')\n",
      "s3.ObjectSummary(bucket_name='lax-tower-4-block-unique-silhouettes-json', key='tower_4_block_unique_silhouettes_057.json')\n",
      "s3.ObjectSummary(bucket_name='lax-tower-4-block-unique-silhouettes-json', key='tower_4_block_unique_silhouettes_058.json')\n",
      "s3.ObjectSummary(bucket_name='lax-tower-4-block-unique-silhouettes-json', key='tower_4_block_unique_silhouettes_059.json')\n",
      "s3.ObjectSummary(bucket_name='lax-tower-4-block-unique-silhouettes-json', key='tower_4_block_unique_silhouettes_060.json')\n",
      "s3.ObjectSummary(bucket_name='lax-tower-4-block-unique-silhouettes-json', key='tower_4_block_unique_silhouettes_061.json')\n",
      "s3.ObjectSummary(bucket_name='lax-tower-4-block-unique-silhouettes-json', key='tower_4_block_unique_silhouettes_062.json')\n",
      "s3.ObjectSummary(bucket_name='lax-tower-4-block-unique-silhouettes-json', key='tower_4_block_unique_silhouettes_063.json')\n",
      "s3.ObjectSummary(bucket_name='lax-tower-4-block-unique-silhouettes-json', key='tower_4_block_unique_silhouettes_064.json')\n",
      "s3.ObjectSummary(bucket_name='lax-tower-4-block-unique-silhouettes-json', key='tower_4_block_unique_silhouettes_065.json')\n",
      "s3.ObjectSummary(bucket_name='lax-tower-4-block-unique-silhouettes-json', key='tower_4_block_unique_silhouettes_066.json')\n",
      "s3.ObjectSummary(bucket_name='lax-tower-4-block-unique-silhouettes-json', key='tower_4_block_unique_silhouettes_067.json')\n",
      "s3.ObjectSummary(bucket_name='lax-tower-4-block-unique-silhouettes-json', key='tower_4_block_unique_silhouettes_068.json')\n",
      "s3.ObjectSummary(bucket_name='lax-tower-4-block-unique-silhouettes-json', key='tower_4_block_unique_silhouettes_069.json')\n",
      "s3.ObjectSummary(bucket_name='lax-tower-4-block-unique-silhouettes-json', key='tower_4_block_unique_silhouettes_070.json')\n",
      "s3.ObjectSummary(bucket_name='lax-tower-4-block-unique-silhouettes-json', key='tower_4_block_unique_silhouettes_071.json')\n",
      "s3.ObjectSummary(bucket_name='lax-tower-4-block-unique-silhouettes-json', key='tower_4_block_unique_silhouettes_072.json')\n",
      "s3.ObjectSummary(bucket_name='lax-tower-4-block-unique-silhouettes-json', key='tower_4_block_unique_silhouettes_073.json')\n",
      "s3.ObjectSummary(bucket_name='lax-tower-4-block-unique-silhouettes-json', key='tower_4_block_unique_silhouettes_074.json')\n",
      "s3.ObjectSummary(bucket_name='lax-tower-4-block-unique-silhouettes-json', key='tower_4_block_unique_silhouettes_075.json')\n",
      "s3.ObjectSummary(bucket_name='lax-tower-4-block-unique-silhouettes-json', key='tower_4_block_unique_silhouettes_076.json')\n",
      "s3.ObjectSummary(bucket_name='lax-tower-4-block-unique-silhouettes-json', key='tower_4_block_unique_silhouettes_077.json')\n",
      "s3.ObjectSummary(bucket_name='lax-tower-4-block-unique-silhouettes-json', key='tower_4_block_unique_silhouettes_078.json')\n",
      "s3.ObjectSummary(bucket_name='lax-tower-4-block-unique-silhouettes-json', key='tower_4_block_unique_silhouettes_079.json')\n",
      "s3.ObjectSummary(bucket_name='lax-tower-4-block-unique-silhouettes-json', key='tower_4_block_unique_silhouettes_080.json')\n",
      "s3.ObjectSummary(bucket_name='lax-tower-4-block-unique-silhouettes-json', key='tower_4_block_unique_silhouettes_081.json')\n",
      "s3.ObjectSummary(bucket_name='lax-tower-4-block-unique-silhouettes-json', key='tower_4_block_unique_silhouettes_082.json')\n",
      "s3.ObjectSummary(bucket_name='lax-tower-4-block-unique-silhouettes-json', key='tower_4_block_unique_silhouettes_083.json')\n",
      "s3.ObjectSummary(bucket_name='lax-tower-4-block-unique-silhouettes-json', key='tower_4_block_unique_silhouettes_084.json')\n",
      "s3.ObjectSummary(bucket_name='lax-tower-4-block-unique-silhouettes-json', key='tower_4_block_unique_silhouettes_085.json')\n",
      "s3.ObjectSummary(bucket_name='lax-tower-4-block-unique-silhouettes-json', key='tower_4_block_unique_silhouettes_086.json')\n",
      "s3.ObjectSummary(bucket_name='lax-tower-4-block-unique-silhouettes-json', key='tower_4_block_unique_silhouettes_087.json')\n",
      "s3.ObjectSummary(bucket_name='lax-tower-4-block-unique-silhouettes-json', key='tower_4_block_unique_silhouettes_088.json')\n",
      "s3.ObjectSummary(bucket_name='lax-tower-4-block-unique-silhouettes-json', key='tower_4_block_unique_silhouettes_089.json')\n",
      "s3.ObjectSummary(bucket_name='lax-tower-4-block-unique-silhouettes-json', key='tower_4_block_unique_silhouettes_090.json')\n",
      "s3.ObjectSummary(bucket_name='lax-tower-4-block-unique-silhouettes-json', key='tower_4_block_unique_silhouettes_091.json')\n",
      "s3.ObjectSummary(bucket_name='lax-tower-4-block-unique-silhouettes-json', key='tower_4_block_unique_silhouettes_092.json')\n",
      "s3.ObjectSummary(bucket_name='lax-tower-4-block-unique-silhouettes-json', key='tower_4_block_unique_silhouettes_093.json')\n",
      "s3.ObjectSummary(bucket_name='lax-tower-4-block-unique-silhouettes-json', key='tower_4_block_unique_silhouettes_094.json')\n",
      "s3.ObjectSummary(bucket_name='lax-tower-4-block-unique-silhouettes-json', key='tower_4_block_unique_silhouettes_095.json')\n",
      "s3.ObjectSummary(bucket_name='lax-tower-4-block-unique-silhouettes-json', key='tower_4_block_unique_silhouettes_096.json')\n",
      "s3.ObjectSummary(bucket_name='lax-tower-4-block-unique-silhouettes-json', key='tower_4_block_unique_silhouettes_097.json')\n",
      "s3.ObjectSummary(bucket_name='lax-tower-4-block-unique-silhouettes-json', key='tower_4_block_unique_silhouettes_098.json')\n",
      "s3.ObjectSummary(bucket_name='lax-tower-4-block-unique-silhouettes-json', key='tower_4_block_unique_silhouettes_099.json')\n",
      "s3.ObjectSummary(bucket_name='lax-tower-4-block-unique-silhouettes-json', key='tower_4_block_unique_silhouettes_100.json')\n",
      "s3.ObjectSummary(bucket_name='lax-tower-4-block-unique-silhouettes-json', key='tower_4_block_unique_silhouettes_101.json')\n",
      "s3.ObjectSummary(bucket_name='lax-tower-4-block-unique-silhouettes-json', key='tower_4_block_unique_silhouettes_102.json')\n",
      "s3.ObjectSummary(bucket_name='lax-tower-4-block-unique-silhouettes-json', key='tower_4_block_unique_silhouettes_103.json')\n",
      "s3.ObjectSummary(bucket_name='lax-tower-4-block-unique-silhouettes-json', key='tower_4_block_unique_silhouettes_104.json')\n",
      "s3.ObjectSummary(bucket_name='lax-tower-4-block-unique-silhouettes-json', key='tower_4_block_unique_silhouettes_105.json')\n",
      "s3.ObjectSummary(bucket_name='lax-tower-4-block-unique-silhouettes-json', key='tower_4_block_unique_silhouettes_106.json')\n",
      "s3.ObjectSummary(bucket_name='lax-tower-4-block-unique-silhouettes-json', key='tower_4_block_unique_silhouettes_107.json')\n",
      "s3.ObjectSummary(bucket_name='lax-tower-4-block-unique-silhouettes-json', key='tower_4_block_unique_silhouettes_108.json')\n",
      "s3.ObjectSummary(bucket_name='lax-tower-4-block-unique-silhouettes-json', key='tower_4_block_unique_silhouettes_109.json')\n",
      "s3.ObjectSummary(bucket_name='lax-tower-4-block-unique-silhouettes-json', key='tower_4_block_unique_silhouettes_110.json')\n",
      "s3.ObjectSummary(bucket_name='lax-tower-4-block-unique-silhouettes-json', key='tower_4_block_unique_silhouettes_111.json')\n",
      "s3.ObjectSummary(bucket_name='lax-tower-4-block-unique-silhouettes-json', key='tower_4_block_unique_silhouettes_112.json')\n",
      "s3.ObjectSummary(bucket_name='lax-tower-4-block-unique-silhouettes-json', key='tower_4_block_unique_silhouettes_113.json')\n",
      "s3.ObjectSummary(bucket_name='lax-tower-4-block-unique-silhouettes-json', key='tower_4_block_unique_silhouettes_114.json')\n",
      "s3.ObjectSummary(bucket_name='lax-tower-4-block-unique-silhouettes-json', key='tower_4_block_unique_silhouettes_115.json')\n",
      "s3.ObjectSummary(bucket_name='lax-tower-4-block-unique-silhouettes-json', key='tower_4_block_unique_silhouettes_116.json')\n",
      "s3.ObjectSummary(bucket_name='lax-tower-4-block-unique-silhouettes-json', key='tower_4_block_unique_silhouettes_117.json')\n",
      "s3.ObjectSummary(bucket_name='lax-tower-4-block-unique-silhouettes-json', key='tower_4_block_unique_silhouettes_118.json')\n",
      "s3.ObjectSummary(bucket_name='lax-tower-4-block-unique-silhouettes-json', key='tower_4_block_unique_silhouettes_119.json')\n",
      "s3.ObjectSummary(bucket_name='lax-tower-4-block-unique-silhouettes-json', key='tower_4_block_unique_silhouettes_120.json')\n",
      "s3.ObjectSummary(bucket_name='lax-tower-4-block-unique-silhouettes-json', key='tower_4_block_unique_silhouettes_121.json')\n",
      "s3.ObjectSummary(bucket_name='lax-tower-4-block-unique-silhouettes-json', key='tower_4_block_unique_silhouettes_122.json')\n",
      "s3.ObjectSummary(bucket_name='lax-tower-4-block-unique-silhouettes-json', key='tower_4_block_unique_silhouettes_123.json')\n",
      "s3.ObjectSummary(bucket_name='lax-tower-4-block-unique-silhouettes-json', key='tower_4_block_unique_silhouettes_124.json')\n",
      "s3.ObjectSummary(bucket_name='lax-tower-4-block-unique-silhouettes-json', key='tower_4_block_unique_silhouettes_125.json')\n",
      "s3.ObjectSummary(bucket_name='lax-tower-4-block-unique-silhouettes-json', key='tower_4_block_unique_silhouettes_126.json')\n",
      "s3.ObjectSummary(bucket_name='lax-tower-4-block-unique-silhouettes-json', key='tower_4_block_unique_silhouettes_127.json')\n",
      "s3.ObjectSummary(bucket_name='lax-tower-4-block-unique-silhouettes-json', key='tower_4_block_unique_silhouettes_128.json')\n",
      "s3.ObjectSummary(bucket_name='lax-tower-4-block-unique-silhouettes-json', key='tower_4_block_unique_silhouettes_129.json')\n"
     ]
    }
   ],
   "source": [
    "for my_bucket_object in b.objects.all():\n",
    "    print(my_bucket_object)"
   ]
  },
  {
   "cell_type": "code",
   "execution_count": null,
   "metadata": {},
   "outputs": [],
   "source": []
  },
  {
   "cell_type": "code",
   "execution_count": 34,
   "metadata": {},
   "outputs": [],
   "source": [
    "### add burn-in trials"
   ]
  },
  {
   "cell_type": "code",
   "execution_count": 35,
   "metadata": {},
   "outputs": [],
   "source": [
    "### add catch trials"
   ]
  },
  {
   "cell_type": "code",
   "execution_count": null,
   "metadata": {},
   "outputs": [],
   "source": []
  }
 ],
 "metadata": {
  "kernelspec": {
   "display_name": "Python 3",
   "language": "python",
   "name": "python3"
  },
  "language_info": {
   "codemirror_mode": {
    "name": "ipython",
    "version": 3
   },
   "file_extension": ".py",
   "mimetype": "text/x-python",
   "name": "python",
   "nbconvert_exporter": "python",
   "pygments_lexer": "ipython3",
   "version": "3.7.4"
  }
 },
 "nbformat": 4,
 "nbformat_minor": 4
}
