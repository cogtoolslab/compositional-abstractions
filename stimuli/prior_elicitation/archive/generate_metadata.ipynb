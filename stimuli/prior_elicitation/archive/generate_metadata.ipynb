{
 "cells": [
  {
   "cell_type": "markdown",
   "metadata": {},
   "source": [
    "# Generating metadata\n",
    "\n",
    "### What this notebook does\n",
    "**Step 1:** Create metadata file, containing a bunch of JSON-formatted trial metadata objects\n",
    "\n",
    "**Step 2:**  Insert each trial as a record into a mongo database\n",
    "\n",
    "This assumes that the stimuli have been uploaded to the S3 bucket using `upload_stims_to_s3.ipynb`."
   ]
  },
  {
   "cell_type": "code",
   "execution_count": 19,
   "metadata": {},
   "outputs": [],
   "source": [
    "#Which experiment? bucket_name is the name of the experiment and will be name of the databases both on mongoDB and S3\n",
    "bucket_name = 'compositional-abstractions-prior-elicitation'\n",
    "stim_version = 'example'"
   ]
  },
  {
   "cell_type": "code",
   "execution_count": 20,
   "metadata": {},
   "outputs": [],
   "source": [
    "import os\n",
    "import numpy as np\n",
    "from PIL import Image\n",
    "import pandas as pd\n",
    "import json\n",
    "import pymongo as pm\n",
    "from glob import glob\n",
    "from IPython.display import clear_output\n",
    "import ast\n",
    "import itertools\n",
    "import random\n",
    "import h5py"
   ]
  },
  {
   "cell_type": "code",
   "execution_count": 21,
   "metadata": {},
   "outputs": [],
   "source": [
    "def list_files(paths, ext='png'):\n",
    "    \"\"\"Pass list of folders if there are stimuli in multiple folders. \n",
    "    Make sure that the containing folder is informative, as the rest of the path is ignored in naming. \n",
    "    Also returns filenames as uploaded to S3\"\"\"\n",
    "    if type(paths) is not list:\n",
    "        paths = [paths]\n",
    "    results = []\n",
    "    names = []\n",
    "    for path in paths:\n",
    "        results += [y for x in os.walk(path) for y in glob(os.path.join(x[0], '*.%s' % ext))]\n",
    "        names += [os.path.basename(os.path.dirname(y))+'_'+os.path.split(y)[1] for x in os.walk(path) for y in glob(os.path.join(x[0], '*.%s' % ext))]\n",
    "    return results,names"
   ]
  },
  {
   "cell_type": "code",
   "execution_count": 22,
   "metadata": {},
   "outputs": [
    {
     "name": "stdout",
     "output_type": "stream",
     "text": [
      "We have 2 stimuli to evaluate.\n"
     ]
    }
   ],
   "source": [
    "## where are your stimulus images stored?\n",
    "#Where on disk are the stimuli stored?\n",
    "data_dirs = [\n",
    "    \"/Users/choldawa/Documents/Projects/composition-abstractions/stimuli/prior-elicitation-example-stims/\"\n",
    "]\n",
    "\n",
    "dataset_name = '{}_{}'.format(bucket_name, stim_version)\n",
    "stimulus_extension = \"png\" #what's the file extension for the stims? Provide without dot\n",
    "\n",
    "## get a list of paths to each one\n",
    "full_stim_paths,filenames = list_files(data_dirs,stimulus_extension)\n",
    "print('We have {} stimuli to evaluate.'.format(len(full_stim_paths)))"
   ]
  },
  {
   "cell_type": "markdown",
   "metadata": {},
   "source": [
    "We also want to have a number of familiarization trials. Put a couple of hand selected filenames here. The stims are expected in the S3 bucket with that filename. "
   ]
  },
  {
   "cell_type": "code",
   "execution_count": 23,
   "metadata": {},
   "outputs": [],
   "source": [
    "# # familiarization_stem = 'pilot_dominoes_default_boxroom'\n",
    "# familiarization_stems = [\n",
    "#     'pilot_towers_nb4_SJ025_mono1_boxroom',\n",
    "#     'pilot_towers_nb2_fr015_SJ010_mono1_tdwroom'\n",
    "# ]\n",
    "# familiarization_filenames = [(familiarization_stems[0] + ('_%04d_img.mp4' % d)) \n",
    "#                              for d in range(4,10)]\n",
    "# familiarization_filenames.extend([(familiarization_stems[1] + ('_%04d_img.mp4' % d)) \n",
    "#                              for d in range(3,7)])\n",
    "# rng = np.random.RandomState(seed=0)\n",
    "# familiarization_filenames = list(rng.permutation(familiarization_filenames))\n",
    "# familiarization_filenames"
   ]
  },
  {
   "cell_type": "code",
   "execution_count": 24,
   "metadata": {},
   "outputs": [],
   "source": [
    "## helper to build stim urls\n",
    "def build_s3_url(filename, bucket_name):    \n",
    "    return 'https://{}.s3.amazonaws.com/{}'.format(bucket_name, filename)"
   ]
  },
  {
   "cell_type": "code",
   "execution_count": 25,
   "metadata": {},
   "outputs": [],
   "source": [
    "## basic metadata lists\n",
    "stim_urls = [build_s3_url(p,bucket_name) for p in filenames]\n",
    "stim_IDs = [name.split('.')[0] for name in filenames]\n",
    "# familiarization_stim_urls = [build_s3_url(p,bucket_name) for p in familiarization_filenames]\n",
    "# familiarization_stim_IDs = [name.split('.')[0] for name in familiarization_filenames]\n",
    "# len(familiarization_stim_urls)"
   ]
  },
  {
   "cell_type": "code",
   "execution_count": 26,
   "metadata": {},
   "outputs": [],
   "source": [
    "## convert to pandas dataframe\n",
    "M = pd.DataFrame([stim_IDs,stim_urls]).transpose()\n",
    "M.columns = ['stim_ID', 'stim_url']\n",
    "\n",
    "## drop the stims that have the same stem as the familiarization trials\n",
    "# for fstem in familiarization_stems:\n",
    "#     M = M[~M['stim_ID'].str.contains(fstem)]\n",
    "\n",
    "# familiarization_M = pd.DataFrame([familiarization_stim_IDs,familiarization_stim_urls]).transpose()\n",
    "# familiarization_M.columns = ['stim_ID', 'stim_url']\n",
    "# # save the familiariaziation dict\n",
    "# familiarization_trials = familiarization_M.transpose().to_dict()\n",
    "# # needs to have strings as keys\n",
    "# familiarization_trials = {str(key):value for key, value in familiarization_trials.items()}"
   ]
  },
  {
   "cell_type": "code",
   "execution_count": 27,
   "metadata": {},
   "outputs": [],
   "source": [
    "# len(familiarization_M)"
   ]
  },
  {
   "cell_type": "code",
   "execution_count": 28,
   "metadata": {},
   "outputs": [],
   "source": [
    "# remove some bad stimuli -- regenerate these\n",
    "# bad_stimuli = [\n",
    "#     \"pilot_dominoes_1mid_J025R45_o1flex_tdwroom_0006_img\",\n",
    "#     \"pilot_dominoes_1mid_J025R45_o1flex_tdwroom_0009_img\"\n",
    "# ]\n",
    "# bad_stimuli = []\n",
    "\n",
    "# for nm in bad_stimuli:\n",
    "#     M = M[~M['stim_ID'].str.contains(nm)]"
   ]
  },
  {
   "cell_type": "code",
   "execution_count": 29,
   "metadata": {},
   "outputs": [
    {
     "data": {
      "text/plain": [
       "2"
      ]
     },
     "execution_count": 29,
     "metadata": {},
     "output_type": "execute_result"
    }
   ],
   "source": [
    "len(M)"
   ]
  },
  {
   "cell_type": "code",
   "execution_count": 30,
   "metadata": {},
   "outputs": [
    {
     "data": {
      "text/html": [
       "<div>\n",
       "<style scoped>\n",
       "    .dataframe tbody tr th:only-of-type {\n",
       "        vertical-align: middle;\n",
       "    }\n",
       "\n",
       "    .dataframe tbody tr th {\n",
       "        vertical-align: top;\n",
       "    }\n",
       "\n",
       "    .dataframe thead th {\n",
       "        text-align: right;\n",
       "    }\n",
       "</style>\n",
       "<table border=\"1\" class=\"dataframe\">\n",
       "  <thead>\n",
       "    <tr style=\"text-align: right;\">\n",
       "      <th></th>\n",
       "      <th>stim_ID</th>\n",
       "      <th>stim_url</th>\n",
       "    </tr>\n",
       "  </thead>\n",
       "  <tbody>\n",
       "    <tr>\n",
       "      <th>0</th>\n",
       "      <td>prior-elicitation-example-stims_image_1</td>\n",
       "      <td>https://compositional-abstractions-prior-elici...</td>\n",
       "    </tr>\n",
       "    <tr>\n",
       "      <th>1</th>\n",
       "      <td>prior-elicitation-example-stims_image_0</td>\n",
       "      <td>https://compositional-abstractions-prior-elici...</td>\n",
       "    </tr>\n",
       "  </tbody>\n",
       "</table>\n",
       "</div>"
      ],
      "text/plain": [
       "                                   stim_ID  \\\n",
       "0  prior-elicitation-example-stims_image_1   \n",
       "1  prior-elicitation-example-stims_image_0   \n",
       "\n",
       "                                            stim_url  \n",
       "0  https://compositional-abstractions-prior-elici...  \n",
       "1  https://compositional-abstractions-prior-elici...  "
      ]
     },
     "execution_count": 30,
     "metadata": {},
     "output_type": "execute_result"
    }
   ],
   "source": [
    "M.head()"
   ]
  },
  {
   "cell_type": "markdown",
   "metadata": {},
   "source": [
    "Add metadata to the stimuli"
   ]
  },
  {
   "cell_type": "code",
   "execution_count": 38,
   "metadata": {},
   "outputs": [],
   "source": [
    "M['games'] = '[]' ## empty games list for marking records when retrieved from mongo (see store.js)\n",
    "M['games'] = M['games'].apply(lambda x: ast.literal_eval(x))\n",
    "\n",
    "\n",
    "assert len(M) == 2"
   ]
  },
  {
   "cell_type": "code",
   "execution_count": 39,
   "metadata": {},
   "outputs": [
    {
     "data": {
      "text/plain": [
       "[{'meta': [{'stim_ID': 'prior-elicitation-example-stims_image_1',\n",
       "    'stim_url': 'https://compositional-abstractions-prior-elicitation.s3.amazonaws.com/prior-elicitation-example-stims_image_1.png',\n",
       "    'games': []},\n",
       "   {'stim_ID': 'prior-elicitation-example-stims_image_0',\n",
       "    'stim_url': 'https://compositional-abstractions-prior-elicitation.s3.amazonaws.com/prior-elicitation-example-stims_image_0.png',\n",
       "    'games': []}],\n",
       "  'games': [],\n",
       "  'experimentName': 'compositional-abstractions-prior-elicitation_example'}]"
      ]
     },
     "execution_count": 39,
     "metadata": {},
     "output_type": "execute_result"
    }
   ],
   "source": [
    "#initalize list of all version dictionaries\n",
    "Meta = []\n",
    "stimList = M.to_dict(orient='records')\n",
    "stimDict = {}\n",
    "stimDict['meta'] = stimList\n",
    "stimDict['games'] = [] \n",
    "stimDict['experimentName'] = dataset_name\n",
    "Meta.append(stimDict)\n",
    "Meta"
   ]
  },
  {
   "cell_type": "code",
   "execution_count": 40,
   "metadata": {},
   "outputs": [
    {
     "name": "stdout",
     "output_type": "stream",
     "text": [
      "Saving out json dictionary out to file...\n",
      "Done!\n"
     ]
    }
   ],
   "source": [
    "print('Saving out json dictionary out to file...') \n",
    "with open('{}_meta.js'.format(dataset_name), 'w') as fout:\n",
    "    json.dump(Meta, fout)\n",
    "print('Done!')"
   ]
  },
  {
   "cell_type": "markdown",
   "metadata": {},
   "source": [
    "Set up ssh bridge to write to mongodb. Insert your username. If you don't have an SSH secret set yet, run `ssh -fNL 27017:127.0.0.1:27017 USERNAME@cogtoolslab.org` in your shell."
   ]
  },
  {
   "cell_type": "code",
   "execution_count": 41,
   "metadata": {},
   "outputs": [],
   "source": [
    "#ssh -fNL 27017:127.0.0.1:27017 choldawa@cogtoolslab.org"
   ]
  },
  {
   "cell_type": "code",
   "execution_count": 42,
   "metadata": {},
   "outputs": [],
   "source": [
    "# set vars \n",
    "auth = pd.read_csv('../analysis/auth.txt', header = None) # this auth.txt file contains the password for the sketchloop user. Place it in the toplevel of the repo\n",
    "pswd = auth.values[0][0]\n",
    "user = 'sketchloop'\n",
    "host = 'cogtoolslab.org' ## cogtoolslab ip address\n",
    "\n",
    "conn = pm.MongoClient('mongodb://sketchloop:' + pswd + '@127.0.0.1')\n",
    "db = conn['stimuli']\n",
    "coll = db[dataset_name]"
   ]
  },
  {
   "cell_type": "code",
   "execution_count": 43,
   "metadata": {},
   "outputs": [
    {
     "name": "stdout",
     "output_type": "stream",
     "text": [
      "dataset_name: compositional-abstractions-prior-elicitation_example\n",
      "Length of J is: 1\n"
     ]
    }
   ],
   "source": [
    "J = json.loads(open('{}_meta.js'.format(dataset_name),mode='r').read())\n",
    "print('dataset_name: {}'.format(dataset_name))\n",
    "print('Length of J is: {}'.format(len(J)))"
   ]
  },
  {
   "cell_type": "code",
   "execution_count": 44,
   "metadata": {},
   "outputs": [
    {
     "data": {
      "text/plain": [
       "{'ok': 0.0,\n",
       " 'errmsg': 'ns not found',\n",
       " 'code': 26,\n",
       " 'codeName': 'NamespaceNotFound'}"
      ]
     },
     "execution_count": 44,
     "metadata": {},
     "output_type": "execute_result"
    }
   ],
   "source": [
    "#⚠️drop collection if necessary. \n",
    "if False: #change to run\n",
    "    db.drop_collection(dataset_name) "
   ]
  },
  {
   "cell_type": "code",
   "execution_count": 49,
   "metadata": {},
   "outputs": [
    {
     "data": {
      "text/plain": [
       "['block-construction-silhouette-exp01',\n",
       " 'block-construction-silhouette-exp02',\n",
       " 'causaldraw',\n",
       " 'causaldraw_annotations',\n",
       " 'causaldraw_annotations_patching',\n",
       " 'causaldraw_identification',\n",
       " 'causaldraw_intervention',\n",
       " 'causaldraw_intervention_patching',\n",
       " 'collabdraw_collab8_recog',\n",
       " 'compositional-abstractions-prior-elicitation_example',\n",
       " 'curiotower-tdw',\n",
       " 'curiotower-tdw-height3Jitter3',\n",
       " 'curiotower_curiodrop',\n",
       " 'dominoes-pilot_example',\n",
       " 'graphical_conventions_object_annotation',\n",
       " 'graphical_conventions_semantic_mapping',\n",
       " 'graphical_conventions_semantic_mapping_patching',\n",
       " 'graphical_conventions_semantic_mapping_spline_version_old',\n",
       " 'human-physics-benchmarking-dominoes-pilot_example',\n",
       " 'human-physics-benchmarking-gravity-pilot_example',\n",
       " 'human-physics-benchmarking-linking-pilot_example',\n",
       " 'human-physics-benchmarking-towers-pilot_example',\n",
       " 'iternum_classification',\n",
       " 'photodraw2',\n",
       " 'semantic_parts_graphical_conventions',\n",
       " 'svg_annotation_sketchpad_basic_allcats',\n",
       " 'tools_for_block_construction_given_subgoals']"
      ]
     },
     "execution_count": 49,
     "metadata": {},
     "output_type": "execute_result"
    }
   ],
   "source": [
    "#get list of current collections\n",
    "sorted(db.list_collection_names())"
   ]
  },
  {
   "cell_type": "markdown",
   "metadata": {},
   "source": [
    "Let's **do it**!"
   ]
  },
  {
   "cell_type": "code",
   "execution_count": 46,
   "metadata": {},
   "outputs": [
    {
     "name": "stdout",
     "output_type": "stream",
     "text": [
      "Done inserting records into mongo!\n"
     ]
    }
   ],
   "source": [
    "for (i,m) in enumerate(J):\n",
    "    coll.insert_one(m)\n",
    "    print('{} of {}'.format(i+1, len(J)))\n",
    "    clear_output(wait=True)\n",
    "\n",
    "print('Done inserting records into mongo!')"
   ]
  },
  {
   "cell_type": "code",
   "execution_count": 47,
   "metadata": {},
   "outputs": [
    {
     "data": {
      "text/plain": [
       "1"
      ]
     },
     "execution_count": 47,
     "metadata": {},
     "output_type": "execute_result"
    }
   ],
   "source": [
    "coll.estimated_document_count()"
   ]
  },
  {
   "cell_type": "code",
   "execution_count": 48,
   "metadata": {
    "scrolled": true
   },
   "outputs": [
    {
     "data": {
      "text/plain": [
       "{'_id': ObjectId('6073c5823b522a4208bb416b'),\n",
       " 'meta': [{'stim_ID': 'prior-elicitation-example-stims_image_1',\n",
       "   'stim_url': 'https://compositional-abstractions-prior-elicitation.s3.amazonaws.com/prior-elicitation-example-stims_image_1.png',\n",
       "   'games': []},\n",
       "  {'stim_ID': 'prior-elicitation-example-stims_image_0',\n",
       "   'stim_url': 'https://compositional-abstractions-prior-elicitation.s3.amazonaws.com/prior-elicitation-example-stims_image_0.png',\n",
       "   'games': []}],\n",
       " 'games': [],\n",
       " 'experimentName': 'compositional-abstractions-prior-elicitation_example'}"
      ]
     },
     "execution_count": 48,
     "metadata": {},
     "output_type": "execute_result"
    }
   ],
   "source": [
    "coll.find_one()"
   ]
  },
  {
   "cell_type": "code",
   "execution_count": null,
   "metadata": {},
   "outputs": [],
   "source": [
    "list(coll.find())"
   ]
  },
  {
   "cell_type": "code",
   "execution_count": null,
   "metadata": {},
   "outputs": [],
   "source": []
  },
  {
   "cell_type": "code",
   "execution_count": null,
   "metadata": {},
   "outputs": [],
   "source": []
  }
 ],
 "metadata": {
  "kernelspec": {
   "display_name": "Python 3",
   "language": "python",
   "name": "python3"
  },
  "language_info": {
   "codemirror_mode": {
    "name": "ipython",
    "version": 3
   },
   "file_extension": ".py",
   "mimetype": "text/x-python",
   "name": "python",
   "nbconvert_exporter": "python",
   "pygments_lexer": "ipython3",
   "version": "3.7.4"
  }
 },
 "nbformat": 4,
 "nbformat_minor": 4
}
