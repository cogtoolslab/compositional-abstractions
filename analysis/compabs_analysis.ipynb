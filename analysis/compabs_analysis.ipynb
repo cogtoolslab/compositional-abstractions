{
 "cells": [
  {
   "cell_type": "code",
   "execution_count": 1,
   "metadata": {},
   "outputs": [],
   "source": [
    "import os\n",
    "import sys\n",
    "import urllib, io\n",
    "os.getcwd()\n",
    "sys.path.append(\"..\")\n",
    "sys.path.append(\"../utils\")\n",
    "sys.path.append(\"../analysis/utils\")\n",
    "\n",
    "\n",
    "import numpy as np\n",
    "import scipy.stats as stats\n",
    "import pandas as pd\n",
    "\n",
    "import pymongo as pm\n",
    "from collections import Counter\n",
    "import json\n",
    "import re\n",
    "import ast\n",
    "\n",
    "from PIL import Image, ImageOps, ImageDraw, ImageFont \n",
    "\n",
    "from io import BytesIO\n",
    "import base64\n",
    "\n",
    "import  matplotlib\n",
    "from matplotlib import pylab, mlab, pyplot\n",
    "%matplotlib inline\n",
    "from IPython.core.pylabtools import figsize, getfigs\n",
    "plt = pyplot\n",
    "import matplotlib as mpl\n",
    "mpl.rcParams['pdf.fonttype'] = 42\n",
    "\n",
    "import seaborn as sns\n",
    "sns.set_context('talk')\n",
    "sns.set_style('darkgrid')\n",
    "\n",
    "from IPython.display import clear_output\n",
    "\n",
    "import warnings\n",
    "warnings.filterwarnings(\"ignore\", category=DeprecationWarning)\n",
    "warnings.filterwarnings(\"ignore\", message=\"numpy.dtype size changed\")\n",
    "warnings.filterwarnings(\"ignore\", message=\"numpy.ufunc size changed\")\n",
    "\n",
    "import drawing_utils as drawing\n",
    "import importlib\n",
    "import scoring"
   ]
  },
  {
   "cell_type": "code",
   "execution_count": 2,
   "metadata": {},
   "outputs": [],
   "source": [
    "## directory & file hierarchy\n",
    "proj_dir = os.path.abspath('..')\n",
    "datavol_dir = os.path.join(proj_dir,'data')\n",
    "analysis_dir =  os.path.abspath('.')\n",
    "results_dir = os.path.join(proj_dir,'results')\n",
    "plot_dir = os.path.join(results_dir,'plots')\n",
    "csv_dir = os.path.join(results_dir,'csv')\n",
    "json_dir = os.path.join(results_dir,'json')\n",
    "exp_dir = os.path.abspath(os.path.join(proj_dir,'behavioral_experiments'))\n",
    "png_dir = os.path.abspath(os.path.join(datavol_dir,'png'))\n",
    "\n",
    "## add helpers to python path\n",
    "if os.path.join(proj_dir,'stimuli') not in sys.path:\n",
    "    sys.path.append(os.path.join(proj_dir,'stimuli'))\n",
    "    \n",
    "if not os.path.exists(results_dir):\n",
    "    os.makedirs(results_dir)\n",
    "    \n",
    "if not os.path.exists(plot_dir):\n",
    "    os.makedirs(plot_dir)   \n",
    "    \n",
    "if not os.path.exists(csv_dir):\n",
    "    os.makedirs(csv_dir)       "
   ]
  },
  {
   "cell_type": "code",
   "execution_count": 3,
   "metadata": {},
   "outputs": [],
   "source": [
    "# set vars \n",
    "auth = pd.read_csv(os.path.join(analysis_dir,'auth.txt'), header = None) # this auth.txt file contains the password for the sketchloop user\n",
    "pswd = auth.values[0][0]\n",
    "user = 'sketchloop'\n",
    "host = 'cogtoolslab.org'\n",
    "\n",
    "# have to fix this to be able to analyze from local\n",
    "import pymongo as pm\n",
    "conn = pm.MongoClient('mongodb://sketchloop:' + pswd + '@127.0.0.1')\n",
    "db = conn['compositional-abstractions']\n",
    "coll = db['two-towers']\n",
    "\n",
    "# which iteration name should we use?\n",
    "iterationName = 'livetest0'\n",
    "\n",
    "## look up number of trials\n",
    "trialNumDict = {'testing':13, 'livetest0':13}\n",
    "numTrials = trialNumDict[iterationName]"
   ]
  },
  {
   "cell_type": "markdown",
   "metadata": {},
   "source": [
    "### construct tidy dataframe with game data"
   ]
  },
  {
   "cell_type": "markdown",
   "metadata": {},
   "source": [
    "### establish connection to mongo\n",
    "First thing you need to do is to establish an ssh tunnel (aka remote port forwarding) to the server, so that requests to the mongodb can be made \"as if\" the mongodb server is running on your local computer. Run this from the command line before you begin data analysis if you plan to fetch data from mongo:\n",
    "\n",
    "`ssh -fNL 27017:127.0.0.1:27017 USERNAME@cogtoolslab.org`"
   ]
  },
  {
   "cell_type": "code",
   "execution_count": 4,
   "metadata": {},
   "outputs": [
    {
     "name": "stdout",
     "output_type": "stream",
     "text": [
      "There are 2 total games.\n",
      "There are 1 complete games.\n"
     ]
    }
   ],
   "source": [
    "## get list of all gameIDs in database\n",
    "total_games = coll.find({'iterationName':iterationName}).distinct('gameid')\n",
    "print('There are {} total games.'.format(len(total_games)))\n",
    "\n",
    "## get list of complete gameIDs\n",
    "gameIDs = coll.find({'iterationName':iterationName}).distinct('gameid')\n",
    "complete_games = [g for g in gameIDs if len(coll.find({'gameid':g}).distinct('trialNum')) == numTrials]\n",
    "print('There are {} complete games.'.format(len(complete_games)))"
   ]
  },
  {
   "cell_type": "code",
   "execution_count": 5,
   "metadata": {},
   "outputs": [],
   "source": [
    "broken_games = []\n",
    "complete_games = [g for g in complete_games if g not in broken_games]\n",
    "\n",
    "def construct_tidy_dataframe(eventType = 'chatMessage', \n",
    "                             complete_games = [],\n",
    "                             iterationName = 'pilot1',\n",
    "                             remove_workerID = True):\n",
    "    '''\n",
    "    input: list of complete games and name of event Type\n",
    "    '''\n",
    "    event2name = {'chatMessage':'chat', 'block':'block', 'endTrial':'trial', 'exitSurvey':'exit'}\n",
    "    L = pd.DataFrame()\n",
    "    for g, this_gameID in enumerate(complete_games):\n",
    "        print('Analyzing game {} | {} of {}'.format(this_gameID, g+1, len(complete_games)))\n",
    "        clear_output(wait=True) \n",
    "\n",
    "        ### extract records \n",
    "        X = coll.find({ '$and': [{'iterationName':iterationName}, \n",
    "                                 {'gameid': this_gameID}, {'eventType': eventType}]}).sort('time') \n",
    "        li = list(X)        \n",
    "        _L = pd.DataFrame(li)  \n",
    "\n",
    "        ## concat with previous game's dataframe\n",
    "        if L.shape[0]==0:\n",
    "            L = _L\n",
    "        else: \n",
    "            L = pd.concat([L,_L], axis=0)     \n",
    "\n",
    "    ## postprocessing\n",
    "    if remove_workerID and 'workerId' in L.columns:\n",
    "        L = L.drop('workerId',axis=1)\n",
    "\n",
    "    ## save out group dataframe to csv dir\n",
    "    out_path = os.path.join(csv_dir,'compabs_{}_{}.csv'.format(event2name[eventType],iterationName))\n",
    "    print('Saving dataframe out to CSV dir at path: {}'.format(out_path))    \n",
    "    L.to_csv(out_path)             \n",
    "\n",
    "    return L\n"
   ]
  },
  {
   "cell_type": "code",
   "execution_count": 6,
   "metadata": {},
   "outputs": [
    {
     "name": "stdout",
     "output_type": "stream",
     "text": [
      "Saving dataframe out to CSV dir at path: /Users/choldawa/Documents/Projects/composition-abstractions/results/csv/compabs_exit_livetest0.csv\n"
     ]
    }
   ],
   "source": [
    "## construct dataframe for each datatype\n",
    "dataTypes = coll.distinct('eventType')\n",
    "for thisDataType in dataTypes:\n",
    "    X = construct_tidy_dataframe(eventType=thisDataType, complete_games=complete_games, iterationName=iterationName)\n"
   ]
  },
  {
   "cell_type": "markdown",
   "metadata": {},
   "source": [
    "## Full DF from DB"
   ]
  },
  {
   "cell_type": "code",
   "execution_count": 7,
   "metadata": {},
   "outputs": [],
   "source": [
    "# Ensure one to one gameID and workerId \n",
    "# Should only happen if a repeat worker gets through\n",
    "\n",
    "# query = coll.find({\"$and\":[\n",
    "# #                         {'workerId':{'$exists':True}},\n",
    "# #                         {'condition':{'$ne':'practice'}},\n",
    "# #                         {'eventType':'trial_end'},\n",
    "#                         {\"$or\":[{'iterationName':'testing'}]}]\n",
    "#                      })\n",
    "\n",
    "#df_trial_end_full = pd.DataFrame(list(query.sort('timeAbsolute')))\n",
    "#df_trial_end_full[['workerId','gameID']]\n",
    "\n",
    "query = coll.find()\n",
    "\n",
    "df_trial_end_full = pd.DataFrame(list(query))\n",
    "\n",
    "#assert (np.mean(df_trial_end_full['workerId'].value_counts()) == np.mean(df_trial_end_full['gameID'].value_counts()))"
   ]
  },
  {
   "cell_type": "code",
   "execution_count": 8,
   "metadata": {},
   "outputs": [
    {
     "data": {
      "text/plain": [
       "598"
      ]
     },
     "execution_count": 8,
     "metadata": {},
     "output_type": "execute_result"
    }
   ],
   "source": [
    "## How many records?\n",
    "coll.estimated_document_count()"
   ]
  },
  {
   "cell_type": "code",
   "execution_count": 9,
   "metadata": {},
   "outputs": [
    {
     "data": {
      "text/plain": [
       "Index(['_id', 'iterationName', 'gameid', 'time', 'workerId', 'assignmentId',\n",
       "       'leftTarget', 'rightTarget', 'trialNum', 'turnNum', 'repNum', 'content',\n",
       "       'timeElapsedInTurn', 'timeElapsedInTrial', 'eventType', 'x', 'y',\n",
       "       'width', 'height', 'color', 'block', 'blockNum', 'discreteWorld',\n",
       "       'trialStartTime', 'turnStartTime', 'score', 'gameID', 'nativeEnglish',\n",
       "       'isHuman', 'confused', 'comments', 'strategy', 'role', 'totalLength',\n",
       "       'cumulativeScore', 'cumulativeBonus'],\n",
       "      dtype='object')"
      ]
     },
     "execution_count": 9,
     "metadata": {},
     "output_type": "execute_result"
    }
   ],
   "source": [
    "df_trial_end_full.columns"
   ]
  },
  {
   "cell_type": "code",
   "execution_count": 10,
   "metadata": {},
   "outputs": [
    {
     "data": {
      "text/html": [
       "<div>\n",
       "<style scoped>\n",
       "    .dataframe tbody tr th:only-of-type {\n",
       "        vertical-align: middle;\n",
       "    }\n",
       "\n",
       "    .dataframe tbody tr th {\n",
       "        vertical-align: top;\n",
       "    }\n",
       "\n",
       "    .dataframe thead th {\n",
       "        text-align: right;\n",
       "    }\n",
       "</style>\n",
       "<table border=\"1\" class=\"dataframe\">\n",
       "  <thead>\n",
       "    <tr style=\"text-align: right;\">\n",
       "      <th></th>\n",
       "      <th>_id</th>\n",
       "      <th>iterationName</th>\n",
       "      <th>gameid</th>\n",
       "      <th>time</th>\n",
       "      <th>workerId</th>\n",
       "      <th>assignmentId</th>\n",
       "      <th>leftTarget</th>\n",
       "      <th>rightTarget</th>\n",
       "      <th>trialNum</th>\n",
       "      <th>turnNum</th>\n",
       "      <th>repNum</th>\n",
       "      <th>content</th>\n",
       "      <th>eventType</th>\n",
       "      <th>blockNum</th>\n",
       "      <th>x</th>\n",
       "      <th>y</th>\n",
       "      <th>width</th>\n",
       "      <th>height</th>\n",
       "      <th>color</th>\n",
       "      <th>discreteWorld</th>\n",
       "    </tr>\n",
       "  </thead>\n",
       "  <tbody>\n",
       "    <tr>\n",
       "      <th>596</th>\n",
       "      <td>5ef40aa7d9af2d3a85dcb755</td>\n",
       "      <td>testing2</td>\n",
       "      <td>7144-ea23d822-1418-43d9-bce2-4f7894a9b23f</td>\n",
       "      <td>1.593052e+12</td>\n",
       "      <td></td>\n",
       "      <td></td>\n",
       "      <td>C</td>\n",
       "      <td>Pi</td>\n",
       "      <td>0</td>\n",
       "      <td>1</td>\n",
       "      <td>0</td>\n",
       "      <td>NaN</td>\n",
       "      <td>block</td>\n",
       "      <td>7.0</td>\n",
       "      <td>9.0</td>\n",
       "      <td>2.0</td>\n",
       "      <td>2.0</td>\n",
       "      <td>1.0</td>\n",
       "      <td>[10, 47, 179, 155]</td>\n",
       "      <td>[[False, False, False, False, False, False, Fa...</td>\n",
       "    </tr>\n",
       "    <tr>\n",
       "      <th>597</th>\n",
       "      <td>5ef40aa7d9af2d3a85dcb756</td>\n",
       "      <td>testing2</td>\n",
       "      <td>7144-ea23d822-1418-43d9-bce2-4f7894a9b23f</td>\n",
       "      <td>1.593052e+12</td>\n",
       "      <td></td>\n",
       "      <td></td>\n",
       "      <td>C</td>\n",
       "      <td>Pi</td>\n",
       "      <td>0</td>\n",
       "      <td>0</td>\n",
       "      <td>0</td>\n",
       "      <td>NaN</td>\n",
       "      <td>endTrial</td>\n",
       "      <td>NaN</td>\n",
       "      <td>NaN</td>\n",
       "      <td>NaN</td>\n",
       "      <td>NaN</td>\n",
       "      <td>NaN</td>\n",
       "      <td>NaN</td>\n",
       "      <td>NaN</td>\n",
       "    </tr>\n",
       "  </tbody>\n",
       "</table>\n",
       "</div>"
      ],
      "text/plain": [
       "                          _id iterationName  \\\n",
       "596  5ef40aa7d9af2d3a85dcb755      testing2   \n",
       "597  5ef40aa7d9af2d3a85dcb756      testing2   \n",
       "\n",
       "                                        gameid          time workerId  \\\n",
       "596  7144-ea23d822-1418-43d9-bce2-4f7894a9b23f  1.593052e+12            \n",
       "597  7144-ea23d822-1418-43d9-bce2-4f7894a9b23f  1.593052e+12            \n",
       "\n",
       "    assignmentId leftTarget rightTarget trialNum  turnNum repNum content  \\\n",
       "596                       C          Pi        0        1      0     NaN   \n",
       "597                       C          Pi        0        0      0     NaN   \n",
       "\n",
       "    eventType  blockNum    x    y  width  height               color  \\\n",
       "596     block       7.0  9.0  2.0    2.0     1.0  [10, 47, 179, 155]   \n",
       "597  endTrial       NaN  NaN  NaN    NaN     NaN                 NaN   \n",
       "\n",
       "                                         discreteWorld  \n",
       "596  [[False, False, False, False, False, False, Fa...  \n",
       "597                                                NaN  "
      ]
     },
     "execution_count": 10,
     "metadata": {},
     "output_type": "execute_result"
    }
   ],
   "source": [
    "df_trial_end_full[['_id', 'iterationName', 'gameid', 'time', 'workerId', 'assignmentId',\\\n",
    "       'leftTarget', 'rightTarget', 'trialNum', 'turnNum', 'repNum', 'content',\\\n",
    "       'eventType', 'blockNum','x', 'y', 'width', 'height', 'color','discreteWorld']].tail(2)"
   ]
  },
  {
   "cell_type": "markdown",
   "metadata": {},
   "source": [
    "## Trial Level Data"
   ]
  },
  {
   "cell_type": "code",
   "execution_count": 11,
   "metadata": {},
   "outputs": [],
   "source": [
    "# # Assuming that if trial 23 saves, then 0-22 have also saved \n",
    "# # get ids of people with trial 23 data\n",
    "# query = coll.find({\"$and\":[\n",
    "#                         {'condition':{'$ne':'practice'}},\n",
    "#                         {'eventType':'trial_end'},\n",
    "#                         {\"$or\":[{'iterationName':'Exp2Pilot3'},\n",
    "#                                 {'iterationName':'Exp2Pilot3_batch2'}]},\n",
    "#                         #{'iterationName': iterationName}, #use this if one iteration name\n",
    "#                         {'trialNum': numTrials-1}]\n",
    "#                      })\n",
    "# complete_data_df = pd.DataFrame(query)\n",
    "# complete_data_ids = list(complete_data_df['workerId'])"
   ]
  },
  {
   "cell_type": "code",
   "execution_count": 12,
   "metadata": {},
   "outputs": [],
   "source": [
    "# # Filter for full datasets\n",
    "# query = coll.find({\"$and\":[\n",
    "#                         {'condition':{'$ne':'practice'}},\n",
    "#                         {'eventType':'trial_end'},\n",
    "#                         #{'iterationName': iterationName}, #use this if one iteration name\n",
    "#                         {\"$or\":[{'iterationName':'Exp2Pilot3'},\n",
    "#                                 {'iterationName':'Exp2Pilot3_batch2'}]}]\n",
    "#                      })\n",
    "\n",
    "# df_trial_end_full = pd.DataFrame(list(query.sort('timeAbsolute')))\n",
    "\n",
    "\n",
    "# # filter dataframe for complete datasets\n",
    "# df_trial_end_full_filtered = df_trial_end_full[df_trial_end_full.workerId.isin(complete_data_ids)]\n",
    "\n",
    "# # reduce to crucial information\n",
    "# df_trial_end_reduced_filtered = df_trial_end_full_filtered[[\n",
    "#     'gameID','trialNum','phase','condition','eventType','targetName','repetition','targetID', #trial identifiers\n",
    "#     'nullScore','F1Score','normedScore','rawScoreDiscrete','nullScoreDiscrete','normedScoreDiscrete','scoreGapDiscrete', #scoring\n",
    "#     'numBlocks','nPracticeAttempts','blockColor','blockColorID','blockFell','doNothingRepeats',#misc. trial info\n",
    "#     'score','currBonus','timeBonus', #bonusing\n",
    "#     'timeAbsolute','timeRelative','buildTime','buildStartTime','buildFinishTime','timeToBuild', #timing \n",
    "#     'discreteWorld','allVertices', #world reconstruction\n",
    "#     'browser','browserVersion','os','devMode', #developer info\n",
    "#     #below here should be the same for every trial in a dataset\n",
    "#     'iterationName',\n",
    "#     'numTargets', 'prePostSetSize','numRepetitions', #pre-post info\n",
    "#     'bonusThresholdLow','bonusThresholdMid','bonusThresholdHigh','timeThresholdYellow','timeThresholdRed', #bonus info\n",
    "#     ]]\n",
    "\n",
    "# #Fix error in data-saving- normedScoreDiscrete saved as rawScoreDiscrete\n",
    "# df_trial_end_reduced_filtered['normedScoreDiscrete'] = df_trial_end_reduced_filtered['rawScoreDiscrete']\n",
    "# df_trial_end_reduced_filtered.drop(['rawScoreDiscrete'], axis=1)\n",
    "\n",
    "\n",
    "# df = df_trial_end_reduced_filtered.sort_values(by=['gameID', 'timeAbsolute'])"
   ]
  },
  {
   "cell_type": "markdown",
   "metadata": {},
   "source": [
    "## Create DF for each event"
   ]
  },
  {
   "cell_type": "code",
   "execution_count": 13,
   "metadata": {},
   "outputs": [],
   "source": [
    "#read in dataframes from each eventType\n",
    "df_block = pd.read_csv('../results/csv/compabs_block_livetest0.csv')\n",
    "df_chat = pd.read_csv('../results/csv/compabs_chat_livetest0.csv')\n",
    "df_exit = pd.read_csv('../results/csv/compabs_exit_livetest0.csv')\n",
    "df_trial = pd.read_csv('../results/csv/compabs_trial_livetest0.csv')"
   ]
  },
  {
   "cell_type": "markdown",
   "metadata": {},
   "source": [
    "### Inspect some raw data: language"
   ]
  },
  {
   "cell_type": "code",
   "execution_count": 14,
   "metadata": {},
   "outputs": [
    {
     "data": {
      "text/html": [
       "<div>\n",
       "<style scoped>\n",
       "    .dataframe tbody tr th:only-of-type {\n",
       "        vertical-align: middle;\n",
       "    }\n",
       "\n",
       "    .dataframe tbody tr th {\n",
       "        vertical-align: top;\n",
       "    }\n",
       "\n",
       "    .dataframe thead th {\n",
       "        text-align: right;\n",
       "    }\n",
       "</style>\n",
       "<table border=\"1\" class=\"dataframe\">\n",
       "  <thead>\n",
       "    <tr style=\"text-align: right;\">\n",
       "      <th></th>\n",
       "      <th>Unnamed: 0</th>\n",
       "      <th>_id</th>\n",
       "      <th>iterationName</th>\n",
       "      <th>gameid</th>\n",
       "      <th>time</th>\n",
       "      <th>assignmentId</th>\n",
       "      <th>leftTarget</th>\n",
       "      <th>rightTarget</th>\n",
       "      <th>trialNum</th>\n",
       "      <th>turnNum</th>\n",
       "      <th>repNum</th>\n",
       "      <th>content</th>\n",
       "      <th>timeElapsedInTurn</th>\n",
       "      <th>timeElapsedInTrial</th>\n",
       "      <th>eventType</th>\n",
       "    </tr>\n",
       "  </thead>\n",
       "  <tbody>\n",
       "    <tr>\n",
       "      <th>0</th>\n",
       "      <td>0</td>\n",
       "      <td>5ef3a6059bd44a067577f502</td>\n",
       "      <td>livetest0</td>\n",
       "      <td>1560-7c8a5938-8ca4-4d37-8a0d-a600a04650ce</td>\n",
       "      <td>1.593026e+12</td>\n",
       "      <td>33L7PJKHCKYV51US1KPA7UKWIPO8TH</td>\n",
       "      <td>vertical</td>\n",
       "      <td>horizontal</td>\n",
       "      <td>practice</td>\n",
       "      <td>0</td>\n",
       "      <td>practice</td>\n",
       "      <td>Place the red domino to the left of the left t...</td>\n",
       "      <td>85734</td>\n",
       "      <td>85734</td>\n",
       "      <td>chatMessage</td>\n",
       "    </tr>\n",
       "    <tr>\n",
       "      <th>1</th>\n",
       "      <td>1</td>\n",
       "      <td>5ef3a6399bd44a067577f506</td>\n",
       "      <td>livetest0</td>\n",
       "      <td>1560-7c8a5938-8ca4-4d37-8a0d-a600a04650ce</td>\n",
       "      <td>1.593026e+12</td>\n",
       "      <td>33L7PJKHCKYV51US1KPA7UKWIPO8TH</td>\n",
       "      <td>L</td>\n",
       "      <td>Pi</td>\n",
       "      <td>0</td>\n",
       "      <td>0</td>\n",
       "      <td>0</td>\n",
       "      <td>Place two blue dominos to left and right of le...</td>\n",
       "      <td>31497</td>\n",
       "      <td>31497</td>\n",
       "      <td>chatMessage</td>\n",
       "    </tr>\n",
       "  </tbody>\n",
       "</table>\n",
       "</div>"
      ],
      "text/plain": [
       "   Unnamed: 0                       _id iterationName  \\\n",
       "0           0  5ef3a6059bd44a067577f502     livetest0   \n",
       "1           1  5ef3a6399bd44a067577f506     livetest0   \n",
       "\n",
       "                                      gameid          time  \\\n",
       "0  1560-7c8a5938-8ca4-4d37-8a0d-a600a04650ce  1.593026e+12   \n",
       "1  1560-7c8a5938-8ca4-4d37-8a0d-a600a04650ce  1.593026e+12   \n",
       "\n",
       "                     assignmentId leftTarget rightTarget  trialNum  turnNum  \\\n",
       "0  33L7PJKHCKYV51US1KPA7UKWIPO8TH   vertical  horizontal  practice        0   \n",
       "1  33L7PJKHCKYV51US1KPA7UKWIPO8TH          L          Pi         0        0   \n",
       "\n",
       "     repNum                                            content  \\\n",
       "0  practice  Place the red domino to the left of the left t...   \n",
       "1         0  Place two blue dominos to left and right of le...   \n",
       "\n",
       "   timeElapsedInTurn  timeElapsedInTrial    eventType  \n",
       "0              85734               85734  chatMessage  \n",
       "1              31497               31497  chatMessage  "
      ]
     },
     "execution_count": 14,
     "metadata": {},
     "output_type": "execute_result"
    }
   ],
   "source": [
    "df_chat.head(2)"
   ]
  },
  {
   "cell_type": "code",
   "execution_count": 15,
   "metadata": {},
   "outputs": [],
   "source": [
    "#create columns for char and word counts\n",
    "df_chat['word_count'] = df_chat['content'].str.split(' ').str.len()\n",
    "df_chat['char_count'] = df_chat['content'].str.len()"
   ]
  },
  {
   "cell_type": "code",
   "execution_count": 16,
   "metadata": {},
   "outputs": [
    {
     "data": {
      "text/html": [
       "<div>\n",
       "<style scoped>\n",
       "    .dataframe tbody tr th:only-of-type {\n",
       "        vertical-align: middle;\n",
       "    }\n",
       "\n",
       "    .dataframe tbody tr th {\n",
       "        vertical-align: top;\n",
       "    }\n",
       "\n",
       "    .dataframe thead th {\n",
       "        text-align: right;\n",
       "    }\n",
       "</style>\n",
       "<table border=\"1\" class=\"dataframe\">\n",
       "  <thead>\n",
       "    <tr style=\"text-align: right;\">\n",
       "      <th></th>\n",
       "      <th>Unnamed: 0</th>\n",
       "      <th>_id</th>\n",
       "      <th>iterationName</th>\n",
       "      <th>gameid</th>\n",
       "      <th>time</th>\n",
       "      <th>assignmentId</th>\n",
       "      <th>leftTarget</th>\n",
       "      <th>rightTarget</th>\n",
       "      <th>trialNum</th>\n",
       "      <th>turnNum</th>\n",
       "      <th>repNum</th>\n",
       "      <th>content</th>\n",
       "      <th>timeElapsedInTurn</th>\n",
       "      <th>timeElapsedInTrial</th>\n",
       "      <th>eventType</th>\n",
       "      <th>word_count</th>\n",
       "      <th>char_count</th>\n",
       "    </tr>\n",
       "  </thead>\n",
       "  <tbody>\n",
       "    <tr>\n",
       "      <th>0</th>\n",
       "      <td>0</td>\n",
       "      <td>5ef3a6059bd44a067577f502</td>\n",
       "      <td>livetest0</td>\n",
       "      <td>1560-7c8a5938-8ca4-4d37-8a0d-a600a04650ce</td>\n",
       "      <td>1.593026e+12</td>\n",
       "      <td>33L7PJKHCKYV51US1KPA7UKWIPO8TH</td>\n",
       "      <td>vertical</td>\n",
       "      <td>horizontal</td>\n",
       "      <td>practice</td>\n",
       "      <td>0</td>\n",
       "      <td>practice</td>\n",
       "      <td>Place the red domino to the left of the left t...</td>\n",
       "      <td>85734</td>\n",
       "      <td>85734</td>\n",
       "      <td>chatMessage</td>\n",
       "      <td>20</td>\n",
       "      <td>100</td>\n",
       "    </tr>\n",
       "    <tr>\n",
       "      <th>1</th>\n",
       "      <td>1</td>\n",
       "      <td>5ef3a6399bd44a067577f506</td>\n",
       "      <td>livetest0</td>\n",
       "      <td>1560-7c8a5938-8ca4-4d37-8a0d-a600a04650ce</td>\n",
       "      <td>1.593026e+12</td>\n",
       "      <td>33L7PJKHCKYV51US1KPA7UKWIPO8TH</td>\n",
       "      <td>L</td>\n",
       "      <td>Pi</td>\n",
       "      <td>0</td>\n",
       "      <td>0</td>\n",
       "      <td>0</td>\n",
       "      <td>Place two blue dominos to left and right of le...</td>\n",
       "      <td>31497</td>\n",
       "      <td>31497</td>\n",
       "      <td>chatMessage</td>\n",
       "      <td>12</td>\n",
       "      <td>58</td>\n",
       "    </tr>\n",
       "  </tbody>\n",
       "</table>\n",
       "</div>"
      ],
      "text/plain": [
       "   Unnamed: 0                       _id iterationName  \\\n",
       "0           0  5ef3a6059bd44a067577f502     livetest0   \n",
       "1           1  5ef3a6399bd44a067577f506     livetest0   \n",
       "\n",
       "                                      gameid          time  \\\n",
       "0  1560-7c8a5938-8ca4-4d37-8a0d-a600a04650ce  1.593026e+12   \n",
       "1  1560-7c8a5938-8ca4-4d37-8a0d-a600a04650ce  1.593026e+12   \n",
       "\n",
       "                     assignmentId leftTarget rightTarget  trialNum  turnNum  \\\n",
       "0  33L7PJKHCKYV51US1KPA7UKWIPO8TH   vertical  horizontal  practice        0   \n",
       "1  33L7PJKHCKYV51US1KPA7UKWIPO8TH          L          Pi         0        0   \n",
       "\n",
       "     repNum                                            content  \\\n",
       "0  practice  Place the red domino to the left of the left t...   \n",
       "1         0  Place two blue dominos to left and right of le...   \n",
       "\n",
       "   timeElapsedInTurn  timeElapsedInTrial    eventType  word_count  char_count  \n",
       "0              85734               85734  chatMessage          20         100  \n",
       "1              31497               31497  chatMessage          12          58  "
      ]
     },
     "execution_count": 16,
     "metadata": {},
     "output_type": "execute_result"
    }
   ],
   "source": [
    "df_chat.head(2)"
   ]
  },
  {
   "cell_type": "markdown",
   "metadata": {},
   "source": [
    "### Inspect some raw data: display block towers"
   ]
  },
  {
   "cell_type": "code",
   "execution_count": 17,
   "metadata": {},
   "outputs": [],
   "source": [
    "importlib.reload(drawing)\n",
    "df_block['w'] = df_block['width']\n",
    "df_block['h'] = df_block['height']"
   ]
  },
  {
   "cell_type": "code",
   "execution_count": 18,
   "metadata": {},
   "outputs": [
    {
     "data": {
      "image/png": "[encoded data removed]",
      "text/plain": [
       "<Figure size 720x720 with 1 Axes>"
      ]
     },
     "metadata": {},
     "output_type": "display_data"
    }
   ],
   "source": [
    "fig = plt.figure(figsize=(10,10))\n",
    "ax = fig.add_subplot(1,1,1)\n",
    "drawing.draw_from_actions_subplot(df_block[df_block.trialNum=='0'], \n",
    "                                  ax, \n",
    "                                  world_size = [12,8])"
   ]
  },
  {
   "cell_type": "markdown",
   "metadata": {},
   "source": [
    "## Make basic visualizations and calculate descriptives"
   ]
  },
  {
   "cell_type": "markdown",
   "metadata": {},
   "source": [
    "### Architect: mean number of words across trials"
   ]
  },
  {
   "cell_type": "code",
   "execution_count": 19,
   "metadata": {},
   "outputs": [],
   "source": [
    "#Coerce trialNum to numeric -- will remove \"practice\". Thoughts?\n",
    "df_chat['trialNum'] = pd.to_numeric(df_chat['trialNum'], errors = 'coerce')"
   ]
  },
  {
   "cell_type": "code",
   "execution_count": 20,
   "metadata": {},
   "outputs": [
    {
     "name": "stdout",
     "output_type": "stream",
     "text": [
      "trialNum\n",
      "0.0     59\n",
      "1.0     44\n",
      "2.0     22\n",
      "3.0     20\n",
      "4.0     13\n",
      "5.0      9\n",
      "6.0     11\n",
      "7.0      7\n",
      "8.0      7\n",
      "9.0      4\n",
      "10.0     7\n",
      "11.0     8\n",
      "Name: word_count, dtype: int64\n"
     ]
    }
   ],
   "source": [
    "#Get sum of words for each trial, group by game then average across games\n",
    "print(df_chat.groupby(['gameid','trialNum'])['word_count'].sum().groupby(['trialNum']).mean())"
   ]
  },
  {
   "cell_type": "code",
   "execution_count": 21,
   "metadata": {},
   "outputs": [
    {
     "data": {
      "text/plain": [
       "Text(0, 0.5, 'Word Count')"
      ]
     },
     "execution_count": 21,
     "metadata": {},
     "output_type": "execute_result"
    },
    {
     "data": {
      "image/png": "[encoded data removed]",
      "text/plain": [
       "<Figure size 1080x504 with 1 Axes>"
      ]
     },
     "metadata": {},
     "output_type": "display_data"
    }
   ],
   "source": [
    "## line plots\n",
    "fig, ax = plt.subplots(figsize=(15,7))\n",
    "df_chat.groupby(['gameid','trialNum'])['word_count'].sum().groupby(['trialNum']).mean().plot(ax = ax)\n",
    "plt.ylabel('Word Count')"
   ]
  },
  {
   "cell_type": "code",
   "execution_count": 22,
   "metadata": {},
   "outputs": [],
   "source": [
    "## print summary stat to console?"
   ]
  },
  {
   "cell_type": "markdown",
   "metadata": {},
   "source": [
    "###  Architect: mean number of characters across trials"
   ]
  },
  {
   "cell_type": "code",
   "execution_count": 23,
   "metadata": {},
   "outputs": [
    {
     "data": {
      "text/plain": [
       "Text(0, 0.5, 'Char Count')"
      ]
     },
     "execution_count": 23,
     "metadata": {},
     "output_type": "execute_result"
    },
    {
     "data": {
      "image/png": "[encoded data removed]",
      "text/plain": [
       "<Figure size 1080x504 with 1 Axes>"
      ]
     },
     "metadata": {},
     "output_type": "display_data"
    }
   ],
   "source": [
    "fig, ax = plt.subplots(figsize=(15,7))\n",
    "df_chat.groupby(['gameid','trialNum'])['char_count'].sum().groupby(['trialNum']).mean().plot(ax = ax)\n",
    "plt.ylabel('Char Count')"
   ]
  },
  {
   "cell_type": "markdown",
   "metadata": {},
   "source": [
    "### Architect: mean number of messages (across turns within a trial) across trials"
   ]
  },
  {
   "cell_type": "code",
   "execution_count": 24,
   "metadata": {},
   "outputs": [
    {
     "data": {
      "text/plain": [
       "Text(0, 0.5, 'Messages per trial')"
      ]
     },
     "execution_count": 24,
     "metadata": {},
     "output_type": "execute_result"
    },
    {
     "data": {
      "image/png": "[encoded data removed]",
      "text/plain": [
       "<Figure size 1080x504 with 1 Axes>"
      ]
     },
     "metadata": {},
     "output_type": "display_data"
    }
   ],
   "source": [
    "fig, ax = plt.subplots(figsize=(15,7))\n",
    "df_chat.groupby(['gameid','trialNum'])['_id'].count().groupby(['trialNum']).mean().plot(ax = ax)\n",
    "plt.ylabel('Messages per trial')"
   ]
  },
  {
   "cell_type": "markdown",
   "metadata": {},
   "source": [
    "### Architect: Total typing time (across turns within at trial) across trials"
   ]
  },
  {
   "cell_type": "code",
   "execution_count": 25,
   "metadata": {},
   "outputs": [],
   "source": [
    "#check time elapsed\n",
    "df_chat[\"timeElapsedInTurn\"] = pd.to_numeric(df_chat['timeElapsedInTurn'])"
   ]
  },
  {
   "cell_type": "code",
   "execution_count": 26,
   "metadata": {},
   "outputs": [
    {
     "data": {
      "text/plain": [
       "Text(0, 0.5, 'Average Time elapsed, Architect')"
      ]
     },
     "execution_count": 26,
     "metadata": {},
     "output_type": "execute_result"
    },
    {
     "data": {
      "image/png": "[encoded data removed]",
      "text/plain": [
       "<Figure size 1080x504 with 1 Axes>"
      ]
     },
     "metadata": {},
     "output_type": "display_data"
    }
   ],
   "source": [
    "## line plots\n",
    "fig, ax = plt.subplots(figsize=(15,7))\n",
    "df_chat.groupby(['gameid','trialNum'])['timeElapsedInTurn'].sum().groupby(['trialNum']).mean().plot(ax = ax)\n",
    "plt.ylabel('Average Time elapsed, Architect')"
   ]
  },
  {
   "cell_type": "code",
   "execution_count": 27,
   "metadata": {},
   "outputs": [
    {
     "data": {
      "text/plain": [
       "trialNum\n",
       "0.0     119268\n",
       "1.0      62690\n",
       "2.0      29315\n",
       "3.0      30704\n",
       "4.0      17183\n",
       "5.0      12572\n",
       "6.0      17894\n",
       "7.0       8176\n",
       "8.0       6702\n",
       "9.0       8972\n",
       "10.0      6058\n",
       "11.0      7063\n",
       "Name: timeElapsedInTurn, dtype: int64"
      ]
     },
     "execution_count": 27,
     "metadata": {},
     "output_type": "execute_result"
    }
   ],
   "source": [
    "df_chat.groupby(['gameid','trialNum'])['timeElapsedInTurn'].sum().groupby(['trialNum']).mean()"
   ]
  },
  {
   "cell_type": "markdown",
   "metadata": {},
   "source": [
    "### Builder: Reconstruction accuracy (intersection over union, IOU) across trials"
   ]
  },
  {
   "cell_type": "code",
   "execution_count": 28,
   "metadata": {},
   "outputs": [],
   "source": [
    "#Coerce trialNum to numeric -- will remove \"practice\". Thoughts?\n",
    "df_trial['trialNum'] = pd.to_numeric(df_trial['trialNum'], errors = 'coerce')\n",
    "#Coerce trialNum to numeric -- will remove \"practice\". Thoughts?\n",
    "df_block['trialNum'] = pd.to_numeric(df_block['trialNum'], errors = 'coerce')"
   ]
  },
  {
   "cell_type": "code",
   "execution_count": 29,
   "metadata": {},
   "outputs": [
    {
     "data": {
      "text/plain": [
       "Text(0, 0.5, 'Trial Score')"
      ]
     },
     "execution_count": 29,
     "metadata": {},
     "output_type": "execute_result"
    },
    {
     "data": {
      "image/png": "[encoded data removed]",
      "text/plain": [
       "<Figure size 1080x504 with 1 Axes>"
      ]
     },
     "metadata": {},
     "output_type": "display_data"
    }
   ],
   "source": [
    "fig, ax = plt.subplots(figsize=(15,7))\n",
    "df_trial.groupby(['gameid','trialNum'])['score'].sum().groupby(['trialNum']).mean().plot(ax = ax)\n",
    "plt.ylabel('Trial Score')"
   ]
  },
  {
   "cell_type": "markdown",
   "metadata": {},
   "source": [
    "### Builder: Mean number of block placements per utterance across trials\n",
    "\n",
    "is this just 8/#utterances?"
   ]
  },
  {
   "cell_type": "code",
   "execution_count": 30,
   "metadata": {},
   "outputs": [
    {
     "name": "stdout",
     "output_type": "stream",
     "text": [
      "gameid                                     trialNum\n",
      "1560-7c8a5938-8ca4-4d37-8a0d-a600a04650ce  0.0         4\n",
      "                                           1.0         3\n",
      "                                           2.0         2\n",
      "                                           3.0         1\n",
      "                                           4.0         1\n",
      "                                           5.0         1\n",
      "                                           6.0         1\n",
      "                                           7.0         1\n",
      "                                           8.0         1\n",
      "                                           9.0         1\n",
      "                                           10.0        1\n",
      "                                           11.0        1\n",
      "Name: _id, dtype: int64\n",
      "gameid                                     trialNum  turnNum\n",
      "1560-7c8a5938-8ca4-4d37-8a0d-a600a04650ce  0.0       1          2\n",
      "                                                     3          2\n",
      "                                                     5          2\n",
      "                                                     7          2\n",
      "                                           1.0       1          4\n",
      "                                                     3          3\n",
      "                                                     5          1\n",
      "                                           2.0       1          4\n",
      "                                                     3          4\n",
      "                                           3.0       1          8\n",
      "                                           4.0       1          8\n",
      "                                           5.0       1          8\n",
      "                                           6.0       1          8\n",
      "                                           7.0       1          8\n",
      "                                           8.0       1          8\n",
      "                                           9.0       1          8\n",
      "                                           10.0      1          8\n",
      "                                           11.0      1          8\n",
      "Name: _id, dtype: int64\n"
     ]
    }
   ],
   "source": [
    "#TBD\n",
    "#merge chat history (for number of messages) with block placement (for blocks placed)\n",
    "print(df_chat.groupby(['gameid','trialNum'])['_id'].count())\n",
    "print(df_block.groupby(['gameid','trialNum', 'turnNum'])['_id'].count())"
   ]
  },
  {
   "cell_type": "markdown",
   "metadata": {},
   "source": [
    "### Builder: Total reconstruction time (summed build time across turns, within each trial) across trials"
   ]
  },
  {
   "cell_type": "code",
   "execution_count": 31,
   "metadata": {},
   "outputs": [],
   "source": [
    "#check time elapsed\n",
    "df_block[\"timeElapsedInTurn\"] = pd.to_numeric(df_block['timeElapsedInTurn'])"
   ]
  },
  {
   "cell_type": "code",
   "execution_count": 32,
   "metadata": {},
   "outputs": [
    {
     "data": {
      "text/plain": [
       "Text(0, 0.5, 'Average Time elapsed, Builder')"
      ]
     },
     "execution_count": 32,
     "metadata": {},
     "output_type": "execute_result"
    },
    {
     "data": {
      "image/png": "[encoded data removed]",
      "text/plain": [
       "<Figure size 1080x504 with 1 Axes>"
      ]
     },
     "metadata": {},
     "output_type": "display_data"
    }
   ],
   "source": [
    "## line plots\n",
    "fig, ax = plt.subplots(figsize=(15,7))\n",
    "df_block.groupby(['gameid','trialNum'])['timeElapsedInTurn'].sum().groupby(['trialNum']).mean().plot(ax = ax)\n",
    "plt.ylabel('Average Time elapsed, Builder')"
   ]
  },
  {
   "cell_type": "markdown",
   "metadata": {},
   "source": [
    "### Now, let's look at the DVs above, w.r.t. repetition of scenes, IGNORING which side a tower appears on... so across four repetitions (where [A,B] is equivalent to [B,A])"
   ]
  },
  {
   "cell_type": "code",
   "execution_count": 33,
   "metadata": {},
   "outputs": [],
   "source": [
    "#\n",
    "def convert(list): \n",
    "    return tuple(i for i in list)\n",
    "df_chat['targetSet'] = convert(df_chat[['leftTarget', 'rightTarget']].values.tolist())"
   ]
  },
  {
   "cell_type": "code",
   "execution_count": 34,
   "metadata": {},
   "outputs": [
    {
     "data": {
      "text/html": [
       "<div>\n",
       "<style scoped>\n",
       "    .dataframe tbody tr th:only-of-type {\n",
       "        vertical-align: middle;\n",
       "    }\n",
       "\n",
       "    .dataframe tbody tr th {\n",
       "        vertical-align: top;\n",
       "    }\n",
       "\n",
       "    .dataframe thead th {\n",
       "        text-align: right;\n",
       "    }\n",
       "</style>\n",
       "<table border=\"1\" class=\"dataframe\">\n",
       "  <thead>\n",
       "    <tr style=\"text-align: right;\">\n",
       "      <th></th>\n",
       "      <th>Unnamed: 0</th>\n",
       "      <th>_id</th>\n",
       "      <th>iterationName</th>\n",
       "      <th>gameid</th>\n",
       "      <th>time</th>\n",
       "      <th>assignmentId</th>\n",
       "      <th>leftTarget</th>\n",
       "      <th>rightTarget</th>\n",
       "      <th>trialNum</th>\n",
       "      <th>turnNum</th>\n",
       "      <th>repNum</th>\n",
       "      <th>content</th>\n",
       "      <th>timeElapsedInTurn</th>\n",
       "      <th>timeElapsedInTrial</th>\n",
       "      <th>eventType</th>\n",
       "      <th>word_count</th>\n",
       "      <th>char_count</th>\n",
       "      <th>targetSet</th>\n",
       "    </tr>\n",
       "  </thead>\n",
       "  <tbody>\n",
       "    <tr>\n",
       "      <th>0</th>\n",
       "      <td>0</td>\n",
       "      <td>5ef3a6059bd44a067577f502</td>\n",
       "      <td>livetest0</td>\n",
       "      <td>1560-7c8a5938-8ca4-4d37-8a0d-a600a04650ce</td>\n",
       "      <td>1.593026e+12</td>\n",
       "      <td>33L7PJKHCKYV51US1KPA7UKWIPO8TH</td>\n",
       "      <td>vertical</td>\n",
       "      <td>horizontal</td>\n",
       "      <td>NaN</td>\n",
       "      <td>0</td>\n",
       "      <td>practice</td>\n",
       "      <td>Place the red domino to the left of the left t...</td>\n",
       "      <td>85734</td>\n",
       "      <td>85734</td>\n",
       "      <td>chatMessage</td>\n",
       "      <td>20</td>\n",
       "      <td>100</td>\n",
       "      <td>(vertical, horizontal)</td>\n",
       "    </tr>\n",
       "    <tr>\n",
       "      <th>1</th>\n",
       "      <td>1</td>\n",
       "      <td>5ef3a6399bd44a067577f506</td>\n",
       "      <td>livetest0</td>\n",
       "      <td>1560-7c8a5938-8ca4-4d37-8a0d-a600a04650ce</td>\n",
       "      <td>1.593026e+12</td>\n",
       "      <td>33L7PJKHCKYV51US1KPA7UKWIPO8TH</td>\n",
       "      <td>L</td>\n",
       "      <td>Pi</td>\n",
       "      <td>0.0</td>\n",
       "      <td>0</td>\n",
       "      <td>0</td>\n",
       "      <td>Place two blue dominos to left and right of le...</td>\n",
       "      <td>31497</td>\n",
       "      <td>31497</td>\n",
       "      <td>chatMessage</td>\n",
       "      <td>12</td>\n",
       "      <td>58</td>\n",
       "      <td>(L, Pi)</td>\n",
       "    </tr>\n",
       "  </tbody>\n",
       "</table>\n",
       "</div>"
      ],
      "text/plain": [
       "   Unnamed: 0                       _id iterationName  \\\n",
       "0           0  5ef3a6059bd44a067577f502     livetest0   \n",
       "1           1  5ef3a6399bd44a067577f506     livetest0   \n",
       "\n",
       "                                      gameid          time  \\\n",
       "0  1560-7c8a5938-8ca4-4d37-8a0d-a600a04650ce  1.593026e+12   \n",
       "1  1560-7c8a5938-8ca4-4d37-8a0d-a600a04650ce  1.593026e+12   \n",
       "\n",
       "                     assignmentId leftTarget rightTarget  trialNum  turnNum  \\\n",
       "0  33L7PJKHCKYV51US1KPA7UKWIPO8TH   vertical  horizontal       NaN        0   \n",
       "1  33L7PJKHCKYV51US1KPA7UKWIPO8TH          L          Pi       0.0        0   \n",
       "\n",
       "     repNum                                            content  \\\n",
       "0  practice  Place the red domino to the left of the left t...   \n",
       "1         0  Place two blue dominos to left and right of le...   \n",
       "\n",
       "   timeElapsedInTurn  timeElapsedInTrial    eventType  word_count  char_count  \\\n",
       "0              85734               85734  chatMessage          20         100   \n",
       "1              31497               31497  chatMessage          12          58   \n",
       "\n",
       "                targetSet  \n",
       "0  (vertical, horizontal)  \n",
       "1                 (L, Pi)  "
      ]
     },
     "execution_count": 34,
     "metadata": {},
     "output_type": "execute_result"
    }
   ],
   "source": [
    "df_chat.head(2)"
   ]
  },
  {
   "cell_type": "code",
   "execution_count": 39,
   "metadata": {},
   "outputs": [
    {
     "name": "stdout",
     "output_type": "stream",
     "text": [
      "gameid                                     trialNum  targetSet\n",
      "1560-7c8a5938-8ca4-4d37-8a0d-a600a04650ce  0.0       (L, Pi)      59\n",
      "                                           1.0       (L, C)       44\n",
      "                                           2.0       (C, Pi)      22\n",
      "                                           3.0       (L, C)       20\n",
      "                                           4.0       (C, Pi)      13\n",
      "                                           5.0       (L, Pi)       9\n",
      "                                           6.0       (L, C)       11\n",
      "                                           7.0       (L, Pi)       7\n",
      "                                           8.0       (C, Pi)       7\n",
      "                                           9.0       (C, Pi)       4\n",
      "                                           10.0      (L, Pi)       7\n",
      "                                           11.0      (L, C)        8\n",
      "Name: word_count, dtype: int64\n"
     ]
    }
   ],
   "source": [
    "print(df_chat.groupby(['gameid','trialNum','targetSet'])['word_count'].sum())"
   ]
  },
  {
   "cell_type": "code",
   "execution_count": 36,
   "metadata": {},
   "outputs": [
    {
     "data": {
      "text/plain": [
       "Text(0, 0.5, 'Words Per figure')"
      ]
     },
     "execution_count": 36,
     "metadata": {},
     "output_type": "execute_result"
    },
    {
     "data": {
      "image/png": "[encoded data removed]",
      "text/plain": [
       "<Figure size 1080x504 with 1 Axes>"
      ]
     },
     "metadata": {},
     "output_type": "display_data"
    }
   ],
   "source": [
    "fig, ax = plt.subplots(figsize=(15,7))\n",
    "df_chat.groupby(['gameid','targetSet'])['word_count'].sum().groupby(['targetSet']).mean().plot.bar(ax = ax)\n",
    "plt.ylabel('Words Per figure')"
   ]
  },
  {
   "cell_type": "code",
   "execution_count": null,
   "metadata": {},
   "outputs": [],
   "source": []
  },
  {
   "cell_type": "code",
   "execution_count": null,
   "metadata": {},
   "outputs": [],
   "source": []
  },
  {
   "cell_type": "code",
   "execution_count": null,
   "metadata": {},
   "outputs": [],
   "source": []
  },
  {
   "cell_type": "code",
   "execution_count": null,
   "metadata": {},
   "outputs": [],
   "source": []
  }
 ],
 "metadata": {
  "kernelspec": {
   "display_name": "Python 3",
   "language": "python",
   "name": "python3"
  },
  "language_info": {
   "codemirror_mode": {
    "name": "ipython",
    "version": 3
   },
   "file_extension": ".py",
   "mimetype": "text/x-python",
   "name": "python",
   "nbconvert_exporter": "python",
   "pygments_lexer": "ipython3",
   "version": "3.7.6"
  }
 },
 "nbformat": 4,
 "nbformat_minor": 2
}
