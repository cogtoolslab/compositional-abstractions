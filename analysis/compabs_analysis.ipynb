{
 "cells": [
  {
   "cell_type": "code",
   "execution_count": 1,
   "metadata": {},
   "outputs": [],
   "source": [
    "import os\n",
    "import sys\n",
    "import urllib, io\n",
    "\n",
    "import numpy as np\n",
    "import scipy.stats as stats\n",
    "import pandas as pd\n",
    "\n",
    "import pymongo as pm\n",
    "from collections import Counter\n",
    "import json\n",
    "import re\n",
    "import ast\n",
    "\n",
    "from PIL import Image, ImageOps, ImageDraw, ImageFont \n",
    "\n",
    "from io import BytesIO\n",
    "import base64\n",
    "\n",
    "import  matplotlib\n",
    "from matplotlib import pylab, mlab, pyplot\n",
    "%matplotlib inline\n",
    "from IPython.core.pylabtools import figsize, getfigs\n",
    "plt = pyplot\n",
    "import matplotlib as mpl\n",
    "mpl.rcParams['pdf.fonttype'] = 42\n",
    "\n",
    "import seaborn as sns\n",
    "sns.set_context('talk')\n",
    "sns.set_style('darkgrid')\n",
    "\n",
    "from IPython.display import clear_output\n",
    "\n",
    "import warnings\n",
    "warnings.filterwarnings(\"ignore\", category=DeprecationWarning)\n",
    "warnings.filterwarnings(\"ignore\", message=\"numpy.dtype size changed\")\n",
    "warnings.filterwarnings(\"ignore\", message=\"numpy.ufunc size changed\")"
   ]
  },
  {
   "cell_type": "code",
   "execution_count": 2,
   "metadata": {},
   "outputs": [],
   "source": [
    "## directory & file hierarchy\n",
    "proj_dir = os.path.abspath('..')\n",
    "datavol_dir = os.path.join(proj_dir,'data')\n",
    "analysis_dir =  os.path.abspath('.')\n",
    "results_dir = os.path.join(proj_dir,'results')\n",
    "plot_dir = os.path.join(results_dir,'plots')\n",
    "csv_dir = os.path.join(results_dir,'csv')\n",
    "json_dir = os.path.join(results_dir,'json')\n",
    "exp_dir = os.path.abspath(os.path.join(proj_dir,'behavioral_experiments'))\n",
    "png_dir = os.path.abspath(os.path.join(datavol_dir,'png'))\n",
    "\n",
    "## add helpers to python path\n",
    "if os.path.join(proj_dir,'stimuli') not in sys.path:\n",
    "    sys.path.append(os.path.join(proj_dir,'stimuli'))\n",
    "    \n",
    "if not os.path.exists(results_dir):\n",
    "    os.makedirs(results_dir)\n",
    "    \n",
    "if not os.path.exists(plot_dir):\n",
    "    os.makedirs(plot_dir)   \n",
    "    \n",
    "if not os.path.exists(csv_dir):\n",
    "    os.makedirs(csv_dir)       "
   ]
  },
  {
   "cell_type": "code",
   "execution_count": 3,
   "metadata": {},
   "outputs": [],
   "source": [
    "# set vars \n",
    "auth = pd.read_csv(os.path.join(analysis_dir,'auth.txt'), header = None) # this auth.txt file contains the password for the sketchloop user\n",
    "pswd = auth.values[0][0]\n",
    "user = 'sketchloop'\n",
    "host = 'cogtoolslab.org'\n",
    "\n",
    "# have to fix this to be able to analyze from local\n",
    "import pymongo as pm\n",
    "conn = pm.MongoClient('mongodb://sketchloop:' + pswd + '@127.0.0.1')\n",
    "db = conn['compositional-abstractions']\n",
    "coll = db['two-towers']\n",
    "\n",
    "# which iteration name should we use?\n",
    "iterationName = 'livetest0'\n",
    "\n",
    "## look up number of trials\n",
    "trialNumDict = {'testing':13, 'livetest0':13}\n",
    "numTrials = trialNumDict[iterationName]"
   ]
  },
  {
   "cell_type": "markdown",
   "metadata": {},
   "source": [
    "### construct tidy dataframe with game data"
   ]
  },
  {
   "cell_type": "markdown",
   "metadata": {},
   "source": [
    "### establish connection to mongo\n",
    "First thing you need to do is to establish an ssh tunnel (aka remote port forwarding) to the server, so that requests to the mongodb can be made \"as if\" the mongodb server is running on your local computer. Run this from the command line before you begin data analysis if you plan to fetch data from mongo:\n",
    "\n",
    "`ssh -fNL 27017:127.0.0.1:27017 USERNAME@cogtoolslab.org`"
   ]
  },
  {
   "cell_type": "code",
   "execution_count": 4,
   "metadata": {},
   "outputs": [
    {
     "name": "stdout",
     "output_type": "stream",
     "text": [
      "There are 2 total games.\n",
      "There are 1 complete games.\n"
     ]
    }
   ],
   "source": [
    "## get list of all gameIDs in database\n",
    "total_games = coll.find({'iterationName':iterationName}).distinct('gameid')\n",
    "print('There are {} total games.'.format(len(total_games)))\n",
    "\n",
    "## get list of complete gameIDs\n",
    "gameIDs = coll.find({'iterationName':iterationName}).distinct('gameid')\n",
    "complete_games = [g for g in gameIDs if len(coll.find({'gameid':g}).distinct('trialNum')) == numTrials]\n",
    "print('There are {} complete games.'.format(len(complete_games)))"
   ]
  },
  {
   "cell_type": "code",
   "execution_count": null,
   "metadata": {},
   "outputs": [],
   "source": []
  },
  {
   "cell_type": "code",
   "execution_count": 5,
   "metadata": {},
   "outputs": [],
   "source": [
    "## filter out scribble games\n",
    "broken_games = []\n",
    "complete_games = [g for g in complete_games if g not in broken_games]\n",
    "\n",
    "def construct_tidy_dataframe(eventType = 'chatMessage', \n",
    "                             complete_games = [],\n",
    "                             iterationName = 'pilot1',\n",
    "                             remove_workerID = True):\n",
    "    '''\n",
    "    input: list of complete games and name of event Type\n",
    "    '''\n",
    "    event2name = {'chatMessage':'chat', 'block':'block', 'endTrial':'trial', 'exitSurvey':'exit'}\n",
    "    L = pd.DataFrame()\n",
    "    for g, this_gameID in enumerate(complete_games):\n",
    "        print('Analyzing game {} | {} of {}'.format(this_gameID, g+1, len(complete_games)))\n",
    "        clear_output(wait=True) \n",
    "\n",
    "        ### extract records \n",
    "        X = coll.find({ '$and': [{'iterationName':iterationName}, {'gameid': this_gameID}, {'eventType': eventType}]}).sort('time') \n",
    "        li = list(X)        \n",
    "        _L = pd.DataFrame(li)  \n",
    "\n",
    "        ## concat with previous game's dataframe\n",
    "        if L.shape[0]==0:\n",
    "            L = _L\n",
    "        else: \n",
    "            L = pd.concat([L,_L], axis=0)     \n",
    "\n",
    "    ## postprocessing\n",
    "    if remove_workerID and 'workerId' in L.columns:\n",
    "        L = L.drop('workerId',axis=1)\n",
    "\n",
    "    ## save out group dataframe to csv dir\n",
    "    out_path = os.path.join(csv_dir,'compabs_{}_{}.csv'.format(event2name[eventType],iterationName))\n",
    "    print('Saving dataframe out to CSV dir at path: {}'.format(out_path))    \n",
    "    L.to_csv(out_path)             \n",
    "\n",
    "    return L\n"
   ]
  },
  {
   "cell_type": "code",
   "execution_count": 6,
   "metadata": {},
   "outputs": [
    {
     "name": "stdout",
     "output_type": "stream",
     "text": [
      "Saving dataframe out to CSV dir at path: /Users/choldawa/Documents/Projects/composition-abstractions/results/csv/compabs_exit_livetest0.csv\n"
     ]
    }
   ],
   "source": [
    "## construct dataframe for each datatype\n",
    "dataTypes = coll.distinct('eventType')\n",
    "for thisDataType in dataTypes:\n",
    "    X = construct_tidy_dataframe(eventType=thisDataType, complete_games=complete_games, iterationName=iterationName)\n"
   ]
  },
  {
   "cell_type": "code",
   "execution_count": null,
   "metadata": {},
   "outputs": [],
   "source": []
  },
  {
   "cell_type": "code",
   "execution_count": 7,
   "metadata": {},
   "outputs": [],
   "source": [
    "# Ensure one to one gameID and workerId \n",
    "# Should only happen if a repeat worker gets through\n",
    "\n",
    "# query = coll.find({\"$and\":[\n",
    "# #                         {'workerId':{'$exists':True}},\n",
    "# #                         {'condition':{'$ne':'practice'}},\n",
    "# #                         {'eventType':'trial_end'},\n",
    "#                         {\"$or\":[{'iterationName':'testing'}]}]\n",
    "#                      })\n",
    "\n",
    "#df_trial_end_full = pd.DataFrame(list(query.sort('timeAbsolute')))\n",
    "#df_trial_end_full[['workerId','gameID']]\n",
    "\n",
    "query = coll.find()\n",
    "\n",
    "df_trial_end_full = pd.DataFrame(list(query))\n",
    "\n",
    "#assert (np.mean(df_trial_end_full['workerId'].value_counts()) == np.mean(df_trial_end_full['gameID'].value_counts()))"
   ]
  },
  {
   "cell_type": "code",
   "execution_count": 8,
   "metadata": {},
   "outputs": [
    {
     "data": {
      "text/plain": [
       "598"
      ]
     },
     "execution_count": 8,
     "metadata": {},
     "output_type": "execute_result"
    }
   ],
   "source": [
    "## How many records?\n",
    "coll.estimated_document_count()"
   ]
  },
  {
   "cell_type": "code",
   "execution_count": 9,
   "metadata": {},
   "outputs": [
    {
     "data": {
      "text/plain": [
       "['0541-f9e6ef08-9c16-419b-86ca-7ab446764fed',\n",
       " '5541-746b2d7c-6092-4c1e-8fb5-9295525a2a0d',\n",
       " '1457-2759c961-f045-4965-9037-93162bcca64d',\n",
       " '8817-a7b72ab2-531a-42cb-b88a-9e07ae6ccbea',\n",
       " '9758-95aeeaf7-865e-4bc1-a4ec-a2db2ff597fb',\n",
       " '9274-858a9786-b73f-40d5-9348-338e1534a86c',\n",
       " '1388-b44ee6d6-1e2f-444f-a280-68979d8f4273',\n",
       " '7567-4a2ba09c-c8e4-4638-a900-d44a90e9f2f2',\n",
       " '4825-41c8f55d-5aec-41bd-bf8d-e1e93cc733d4',\n",
       " '8964-f8197d72-c11f-48d9-88ba-a05e01f52b84',\n",
       " '1560-7c8a5938-8ca4-4d37-8a0d-a600a04650ce',\n",
       " '7815-70daffec-c22a-4494-a36e-3afca3373223',\n",
       " '3993-5427281d-2b68-45c9-ac93-14980d30d668',\n",
       " '8729-11d40c40-c29f-4efb-a362-5361472bf715',\n",
       " '4525-363b98cf-e443-4026-a74a-b0ab4b24ff3e',\n",
       " '5423-2fb6ff73-84b2-4dc4-b380-b6fc9f9624ae',\n",
       " '3407-1b10e3d3-a783-4942-a2f4-df46b54cc921',\n",
       " '2237-a98e67ba-dbb9-4fd4-96d7-4872c8475009',\n",
       " '6517-37b65805-679b-465f-8c17-e974aa4be663',\n",
       " '7144-ea23d822-1418-43d9-bce2-4f7894a9b23f']"
      ]
     },
     "execution_count": 9,
     "metadata": {},
     "output_type": "execute_result"
    }
   ],
   "source": [
    "coll.distinct('gameid')"
   ]
  },
  {
   "cell_type": "code",
   "execution_count": 10,
   "metadata": {},
   "outputs": [
    {
     "data": {
      "text/plain": [
       "Index(['_id', 'iterationName', 'gameid', 'time', 'workerId', 'assignmentId',\n",
       "       'leftTarget', 'rightTarget', 'trialNum', 'turnNum', 'repNum', 'content',\n",
       "       'timeElapsedInTurn', 'timeElapsedInTrial', 'eventType', 'x', 'y',\n",
       "       'width', 'height', 'color', 'block', 'blockNum', 'discreteWorld',\n",
       "       'trialStartTime', 'turnStartTime', 'score', 'gameID', 'nativeEnglish',\n",
       "       'isHuman', 'confused', 'comments', 'strategy', 'role', 'totalLength',\n",
       "       'cumulativeScore', 'cumulativeBonus'],\n",
       "      dtype='object')"
      ]
     },
     "execution_count": 10,
     "metadata": {},
     "output_type": "execute_result"
    }
   ],
   "source": [
    "df_trial_end_full.columns"
   ]
  },
  {
   "cell_type": "code",
   "execution_count": 11,
   "metadata": {},
   "outputs": [
    {
     "data": {
      "text/plain": [
       "array([nan, 'yes'], dtype=object)"
      ]
     },
     "execution_count": 11,
     "metadata": {},
     "output_type": "execute_result"
    }
   ],
   "source": [
    "df_trial_end_full['confused'].unique()"
   ]
  },
  {
   "cell_type": "code",
   "execution_count": 12,
   "metadata": {},
   "outputs": [
    {
     "data": {
      "text/html": [
       "<div>\n",
       "<style scoped>\n",
       "    .dataframe tbody tr th:only-of-type {\n",
       "        vertical-align: middle;\n",
       "    }\n",
       "\n",
       "    .dataframe tbody tr th {\n",
       "        vertical-align: top;\n",
       "    }\n",
       "\n",
       "    .dataframe thead th {\n",
       "        text-align: right;\n",
       "    }\n",
       "</style>\n",
       "<table border=\"1\" class=\"dataframe\">\n",
       "  <thead>\n",
       "    <tr style=\"text-align: right;\">\n",
       "      <th></th>\n",
       "      <th>_id</th>\n",
       "      <th>iterationName</th>\n",
       "      <th>gameid</th>\n",
       "      <th>time</th>\n",
       "      <th>workerId</th>\n",
       "      <th>assignmentId</th>\n",
       "      <th>leftTarget</th>\n",
       "      <th>rightTarget</th>\n",
       "      <th>trialNum</th>\n",
       "      <th>turnNum</th>\n",
       "      <th>repNum</th>\n",
       "      <th>content</th>\n",
       "      <th>eventType</th>\n",
       "      <th>blockNum</th>\n",
       "      <th>x</th>\n",
       "      <th>y</th>\n",
       "      <th>width</th>\n",
       "      <th>height</th>\n",
       "      <th>color</th>\n",
       "      <th>discreteWorld</th>\n",
       "    </tr>\n",
       "  </thead>\n",
       "  <tbody>\n",
       "    <tr>\n",
       "      <th>593</th>\n",
       "      <td>5ef40aa4d9af2d3a85dcb752</td>\n",
       "      <td>testing2</td>\n",
       "      <td>7144-ea23d822-1418-43d9-bce2-4f7894a9b23f</td>\n",
       "      <td>1.593052e+12</td>\n",
       "      <td></td>\n",
       "      <td></td>\n",
       "      <td>C</td>\n",
       "      <td>Pi</td>\n",
       "      <td>0</td>\n",
       "      <td>1</td>\n",
       "      <td>0</td>\n",
       "      <td>NaN</td>\n",
       "      <td>block</td>\n",
       "      <td>4.0</td>\n",
       "      <td>7.0</td>\n",
       "      <td>0.0</td>\n",
       "      <td>1.0</td>\n",
       "      <td>2.0</td>\n",
       "      <td>[179, 47, 10, 155]</td>\n",
       "      <td>[[False, False, False, False, False, False, Fa...</td>\n",
       "    </tr>\n",
       "    <tr>\n",
       "      <th>594</th>\n",
       "      <td>5ef40aa5d9af2d3a85dcb753</td>\n",
       "      <td>testing2</td>\n",
       "      <td>7144-ea23d822-1418-43d9-bce2-4f7894a9b23f</td>\n",
       "      <td>1.593052e+12</td>\n",
       "      <td></td>\n",
       "      <td></td>\n",
       "      <td>C</td>\n",
       "      <td>Pi</td>\n",
       "      <td>0</td>\n",
       "      <td>1</td>\n",
       "      <td>0</td>\n",
       "      <td>NaN</td>\n",
       "      <td>block</td>\n",
       "      <td>5.0</td>\n",
       "      <td>10.0</td>\n",
       "      <td>0.0</td>\n",
       "      <td>1.0</td>\n",
       "      <td>2.0</td>\n",
       "      <td>[179, 47, 10, 155]</td>\n",
       "      <td>[[False, False, False, False, False, False, Fa...</td>\n",
       "    </tr>\n",
       "    <tr>\n",
       "      <th>595</th>\n",
       "      <td>5ef40aa6d9af2d3a85dcb754</td>\n",
       "      <td>testing2</td>\n",
       "      <td>7144-ea23d822-1418-43d9-bce2-4f7894a9b23f</td>\n",
       "      <td>1.593052e+12</td>\n",
       "      <td></td>\n",
       "      <td></td>\n",
       "      <td>C</td>\n",
       "      <td>Pi</td>\n",
       "      <td>0</td>\n",
       "      <td>1</td>\n",
       "      <td>0</td>\n",
       "      <td>NaN</td>\n",
       "      <td>block</td>\n",
       "      <td>6.0</td>\n",
       "      <td>7.0</td>\n",
       "      <td>2.0</td>\n",
       "      <td>2.0</td>\n",
       "      <td>1.0</td>\n",
       "      <td>[10, 47, 179, 155]</td>\n",
       "      <td>[[False, False, False, False, False, False, Fa...</td>\n",
       "    </tr>\n",
       "    <tr>\n",
       "      <th>596</th>\n",
       "      <td>5ef40aa7d9af2d3a85dcb755</td>\n",
       "      <td>testing2</td>\n",
       "      <td>7144-ea23d822-1418-43d9-bce2-4f7894a9b23f</td>\n",
       "      <td>1.593052e+12</td>\n",
       "      <td></td>\n",
       "      <td></td>\n",
       "      <td>C</td>\n",
       "      <td>Pi</td>\n",
       "      <td>0</td>\n",
       "      <td>1</td>\n",
       "      <td>0</td>\n",
       "      <td>NaN</td>\n",
       "      <td>block</td>\n",
       "      <td>7.0</td>\n",
       "      <td>9.0</td>\n",
       "      <td>2.0</td>\n",
       "      <td>2.0</td>\n",
       "      <td>1.0</td>\n",
       "      <td>[10, 47, 179, 155]</td>\n",
       "      <td>[[False, False, False, False, False, False, Fa...</td>\n",
       "    </tr>\n",
       "    <tr>\n",
       "      <th>597</th>\n",
       "      <td>5ef40aa7d9af2d3a85dcb756</td>\n",
       "      <td>testing2</td>\n",
       "      <td>7144-ea23d822-1418-43d9-bce2-4f7894a9b23f</td>\n",
       "      <td>1.593052e+12</td>\n",
       "      <td></td>\n",
       "      <td></td>\n",
       "      <td>C</td>\n",
       "      <td>Pi</td>\n",
       "      <td>0</td>\n",
       "      <td>0</td>\n",
       "      <td>0</td>\n",
       "      <td>NaN</td>\n",
       "      <td>endTrial</td>\n",
       "      <td>NaN</td>\n",
       "      <td>NaN</td>\n",
       "      <td>NaN</td>\n",
       "      <td>NaN</td>\n",
       "      <td>NaN</td>\n",
       "      <td>NaN</td>\n",
       "      <td>NaN</td>\n",
       "    </tr>\n",
       "  </tbody>\n",
       "</table>\n",
       "</div>"
      ],
      "text/plain": [
       "                          _id iterationName  \\\n",
       "593  5ef40aa4d9af2d3a85dcb752      testing2   \n",
       "594  5ef40aa5d9af2d3a85dcb753      testing2   \n",
       "595  5ef40aa6d9af2d3a85dcb754      testing2   \n",
       "596  5ef40aa7d9af2d3a85dcb755      testing2   \n",
       "597  5ef40aa7d9af2d3a85dcb756      testing2   \n",
       "\n",
       "                                        gameid          time workerId  \\\n",
       "593  7144-ea23d822-1418-43d9-bce2-4f7894a9b23f  1.593052e+12            \n",
       "594  7144-ea23d822-1418-43d9-bce2-4f7894a9b23f  1.593052e+12            \n",
       "595  7144-ea23d822-1418-43d9-bce2-4f7894a9b23f  1.593052e+12            \n",
       "596  7144-ea23d822-1418-43d9-bce2-4f7894a9b23f  1.593052e+12            \n",
       "597  7144-ea23d822-1418-43d9-bce2-4f7894a9b23f  1.593052e+12            \n",
       "\n",
       "    assignmentId leftTarget rightTarget trialNum  turnNum repNum content  \\\n",
       "593                       C          Pi        0        1      0     NaN   \n",
       "594                       C          Pi        0        1      0     NaN   \n",
       "595                       C          Pi        0        1      0     NaN   \n",
       "596                       C          Pi        0        1      0     NaN   \n",
       "597                       C          Pi        0        0      0     NaN   \n",
       "\n",
       "    eventType  blockNum     x    y  width  height               color  \\\n",
       "593     block       4.0   7.0  0.0    1.0     2.0  [179, 47, 10, 155]   \n",
       "594     block       5.0  10.0  0.0    1.0     2.0  [179, 47, 10, 155]   \n",
       "595     block       6.0   7.0  2.0    2.0     1.0  [10, 47, 179, 155]   \n",
       "596     block       7.0   9.0  2.0    2.0     1.0  [10, 47, 179, 155]   \n",
       "597  endTrial       NaN   NaN  NaN    NaN     NaN                 NaN   \n",
       "\n",
       "                                         discreteWorld  \n",
       "593  [[False, False, False, False, False, False, Fa...  \n",
       "594  [[False, False, False, False, False, False, Fa...  \n",
       "595  [[False, False, False, False, False, False, Fa...  \n",
       "596  [[False, False, False, False, False, False, Fa...  \n",
       "597                                                NaN  "
      ]
     },
     "execution_count": 12,
     "metadata": {},
     "output_type": "execute_result"
    }
   ],
   "source": [
    "df_trial_end_full[['_id', 'iterationName', 'gameid', 'time', 'workerId', 'assignmentId',\\\n",
    "       'leftTarget', 'rightTarget', 'trialNum', 'turnNum', 'repNum', 'content',\\\n",
    "       'eventType', 'blockNum','x', 'y', 'width', 'height', 'color','discreteWorld']].tail(5)"
   ]
  },
  {
   "cell_type": "code",
   "execution_count": 13,
   "metadata": {},
   "outputs": [
    {
     "data": {
      "text/plain": [
       "(598, 36)"
      ]
     },
     "execution_count": 13,
     "metadata": {},
     "output_type": "execute_result"
    }
   ],
   "source": [
    "df = df_trial_end_full\n",
    "df.shape"
   ]
  },
  {
   "cell_type": "code",
   "execution_count": 14,
   "metadata": {},
   "outputs": [
    {
     "data": {
      "text/plain": [
       "array(['tall on left, flat on right', 'C on left; arch on right',\n",
       "       'L on left, arch on right\\n', 'arch on right',\n",
       "       'L on left, C on right', 'L on left, arch on right',\n",
       "       'C on left, arch on right', 'L on left; C on right',\n",
       "       'flat left; tall right', 'L left, C right', 'blah blah blah',\n",
       "       'doop be boop', 'doop wop', 'shoop', 'adsfadfdf', 'asdfadfadf',\n",
       "       'wertwret', 'adsfasdf', 'fgfsfgsfg', 'adfasdf', 'fwsfgfadsfasdf',\n",
       "       'rwgfsdgsdfg', 'asdfasfd', 'fadsrgsdfgsdfg', 'fgfdsgdfgsfg',\n",
       "       'grsdfgsdfgsfg', 'asdf', 'asdfadf', 'asdfasdf',\n",
       "       'put the bleep on the bloop\\n', 'put a red blcok',\n",
       "       'put a red block two squares to the left of the right red line\\n',\n",
       "       'ccc', 'flat tall', 'acawwa',\n",
       "       'blue on left, red on left of right\\n', 'svsr', 'awewe', 'dd',\n",
       "       'Place the red domino to the left of the left tick mark, and the blue domino directly above the right',\n",
       "       'Place two blue dominos to left and right of left tick mark',\n",
       "       'Place two red dominos above the left part of the leftmost blue domino stacked',\n",
       "       'Place two red dominos left and right of the right tick mark, but with two spaces between them',\n",
       "       'Place two blue dominos above the red ones you just placed, to make an arch',\n",
       "       'First make the same L shape you made in the last trial',\n",
       "       'Now place a blue domino above the right tick mark, and then stack two red dominos above it on left',\n",
       "       'Place one blue domino on top of red stack, to the right',\n",
       "       'Make the last shape from the previous trial, but above the left tick mark',\n",
       "       'Make the arch shape from the first trial',\n",
       "       'Make the L shape from the first trial above the left tick mark and then first shape from last trial',\n",
       "       'Last shape from last trial above left tick, then arch above right tick',\n",
       "       'L shape above left tick, arch above right tick',\n",
       "       'L shape above left tick, elongated C shape above right tick',\n",
       "       'L shape on left, arch on right', 'C shape on left, arch on right',\n",
       "       'Same as last trial', 'L shape on left, C shape on right',\n",
       "       'Do the thing to the stuff!',\n",
       "       'Make the thing, then the other thing!',\n",
       "       'Bleep the bleep; bloop the bloop!', 'A!', 'B!', 'Deep the beep!',\n",
       "       'Bop the top!', 'BOOOOOOOP', 'BOOOOOP', 'DOOP', 'BEEP',\n",
       "       'make the thing then the other thing!', 'yarples\\n', 'CA!'],\n",
       "      dtype=object)"
      ]
     },
     "execution_count": 14,
     "metadata": {},
     "output_type": "execute_result"
    }
   ],
   "source": [
    "df[df['eventType'] == 'chatMessage']['content'].unique()"
   ]
  },
  {
   "cell_type": "markdown",
   "metadata": {},
   "source": [
    "## Trial Level Data"
   ]
  },
  {
   "cell_type": "code",
   "execution_count": null,
   "metadata": {},
   "outputs": [],
   "source": [
    "# # Assuming that if trial 23 saves, then 0-22 have also saved \n",
    "# # get ids of people with trial 23 data\n",
    "# query = coll.find({\"$and\":[\n",
    "#                         {'condition':{'$ne':'practice'}},\n",
    "#                         {'eventType':'trial_end'},\n",
    "#                         {\"$or\":[{'iterationName':'Exp2Pilot3'},\n",
    "#                                 {'iterationName':'Exp2Pilot3_batch2'}]},\n",
    "#                         #{'iterationName': iterationName}, #use this if one iteration name\n",
    "#                         {'trialNum': numTrials-1}]\n",
    "#                      })\n",
    "# complete_data_df = pd.DataFrame(query)\n",
    "# complete_data_ids = list(complete_data_df['workerId'])"
   ]
  },
  {
   "cell_type": "code",
   "execution_count": null,
   "metadata": {},
   "outputs": [],
   "source": [
    "# # Filter for full datasets\n",
    "# query = coll.find({\"$and\":[\n",
    "#                         {'condition':{'$ne':'practice'}},\n",
    "#                         {'eventType':'trial_end'},\n",
    "#                         #{'iterationName': iterationName}, #use this if one iteration name\n",
    "#                         {\"$or\":[{'iterationName':'Exp2Pilot3'},\n",
    "#                                 {'iterationName':'Exp2Pilot3_batch2'}]}]\n",
    "#                      })\n",
    "\n",
    "# df_trial_end_full = pd.DataFrame(list(query.sort('timeAbsolute')))\n",
    "\n",
    "\n",
    "# # filter dataframe for complete datasets\n",
    "# df_trial_end_full_filtered = df_trial_end_full[df_trial_end_full.workerId.isin(complete_data_ids)]\n",
    "\n",
    "# # reduce to crucial information\n",
    "# df_trial_end_reduced_filtered = df_trial_end_full_filtered[[\n",
    "#     'gameID','trialNum','phase','condition','eventType','targetName','repetition','targetID', #trial identifiers\n",
    "#     'nullScore','F1Score','normedScore','rawScoreDiscrete','nullScoreDiscrete','normedScoreDiscrete','scoreGapDiscrete', #scoring\n",
    "#     'numBlocks','nPracticeAttempts','blockColor','blockColorID','blockFell','doNothingRepeats',#misc. trial info\n",
    "#     'score','currBonus','timeBonus', #bonusing\n",
    "#     'timeAbsolute','timeRelative','buildTime','buildStartTime','buildFinishTime','timeToBuild', #timing \n",
    "#     'discreteWorld','allVertices', #world reconstruction\n",
    "#     'browser','browserVersion','os','devMode', #developer info\n",
    "#     #below here should be the same for every trial in a dataset\n",
    "#     'iterationName',\n",
    "#     'numTargets', 'prePostSetSize','numRepetitions', #pre-post info\n",
    "#     'bonusThresholdLow','bonusThresholdMid','bonusThresholdHigh','timeThresholdYellow','timeThresholdRed', #bonus info\n",
    "#     ]]\n",
    "\n",
    "# #Fix error in data-saving- normedScoreDiscrete saved as rawScoreDiscrete\n",
    "# df_trial_end_reduced_filtered['normedScoreDiscrete'] = df_trial_end_reduced_filtered['rawScoreDiscrete']\n",
    "# df_trial_end_reduced_filtered.drop(['rawScoreDiscrete'], axis=1)\n",
    "\n",
    "\n",
    "# df = df_trial_end_reduced_filtered.sort_values(by=['gameID', 'timeAbsolute'])"
   ]
  },
  {
   "cell_type": "markdown",
   "metadata": {},
   "source": [
    "### Inspect some raw data: language"
   ]
  },
  {
   "cell_type": "code",
   "execution_count": 16,
   "metadata": {},
   "outputs": [],
   "source": [
    "# df[df['eventType'] == 'chatMessage' && 'content' != ].unique()\n",
    "df_test = df[(df.eventType == 'chatMessage') & \n",
    "   (df.iterationName == 'livetest0')][['_id', 'iterationName', 'gameid', \n",
    "                                       'trialNum', 'timeElapsedInTurn', 'timeElapsedInTrial',\n",
    "                                       'score',\n",
    "                                       'content', 'cumulativeScore', 'cumulativeBonus']]"
   ]
  },
  {
   "cell_type": "code",
   "execution_count": 19,
   "metadata": {},
   "outputs": [
    {
     "data": {
      "text/html": [
       "<div>\n",
       "<style scoped>\n",
       "    .dataframe tbody tr th:only-of-type {\n",
       "        vertical-align: middle;\n",
       "    }\n",
       "\n",
       "    .dataframe tbody tr th {\n",
       "        vertical-align: top;\n",
       "    }\n",
       "\n",
       "    .dataframe thead th {\n",
       "        text-align: right;\n",
       "    }\n",
       "</style>\n",
       "<table border=\"1\" class=\"dataframe\">\n",
       "  <thead>\n",
       "    <tr style=\"text-align: right;\">\n",
       "      <th></th>\n",
       "      <th>_id</th>\n",
       "      <th>iterationName</th>\n",
       "      <th>gameid</th>\n",
       "      <th>trialNum</th>\n",
       "      <th>timeElapsedInTurn</th>\n",
       "      <th>timeElapsedInTrial</th>\n",
       "      <th>score</th>\n",
       "      <th>content</th>\n",
       "      <th>cumulativeScore</th>\n",
       "      <th>cumulativeBonus</th>\n",
       "      <th>word_count</th>\n",
       "      <th>char_count</th>\n",
       "    </tr>\n",
       "  </thead>\n",
       "  <tbody>\n",
       "    <tr>\n",
       "      <th>373</th>\n",
       "      <td>5ef3a6059bd44a067577f502</td>\n",
       "      <td>livetest0</td>\n",
       "      <td>1560-7c8a5938-8ca4-4d37-8a0d-a600a04650ce</td>\n",
       "      <td>practice</td>\n",
       "      <td>85734</td>\n",
       "      <td>85734</td>\n",
       "      <td>NaN</td>\n",
       "      <td>Place the red domino to the left of the left t...</td>\n",
       "      <td>NaN</td>\n",
       "      <td>NaN</td>\n",
       "      <td>20</td>\n",
       "      <td>100</td>\n",
       "    </tr>\n",
       "    <tr>\n",
       "      <th>377</th>\n",
       "      <td>5ef3a6399bd44a067577f506</td>\n",
       "      <td>livetest0</td>\n",
       "      <td>1560-7c8a5938-8ca4-4d37-8a0d-a600a04650ce</td>\n",
       "      <td>0</td>\n",
       "      <td>31497</td>\n",
       "      <td>31497</td>\n",
       "      <td>NaN</td>\n",
       "      <td>Place two blue dominos to left and right of le...</td>\n",
       "      <td>NaN</td>\n",
       "      <td>NaN</td>\n",
       "      <td>12</td>\n",
       "      <td>58</td>\n",
       "    </tr>\n",
       "    <tr>\n",
       "      <th>380</th>\n",
       "      <td>5ef3a6669bd44a067577f509</td>\n",
       "      <td>livetest0</td>\n",
       "      <td>1560-7c8a5938-8ca4-4d37-8a0d-a600a04650ce</td>\n",
       "      <td>0</td>\n",
       "      <td>32452</td>\n",
       "      <td>75831</td>\n",
       "      <td>NaN</td>\n",
       "      <td>Place two red dominos above the left part of t...</td>\n",
       "      <td>NaN</td>\n",
       "      <td>NaN</td>\n",
       "      <td>14</td>\n",
       "      <td>77</td>\n",
       "    </tr>\n",
       "    <tr>\n",
       "      <th>383</th>\n",
       "      <td>5ef3a68d9bd44a067577f50c</td>\n",
       "      <td>livetest0</td>\n",
       "      <td>1560-7c8a5938-8ca4-4d37-8a0d-a600a04650ce</td>\n",
       "      <td>0</td>\n",
       "      <td>23777</td>\n",
       "      <td>114957</td>\n",
       "      <td>NaN</td>\n",
       "      <td>Place two red dominos left and right of the ri...</td>\n",
       "      <td>NaN</td>\n",
       "      <td>NaN</td>\n",
       "      <td>18</td>\n",
       "      <td>93</td>\n",
       "    </tr>\n",
       "    <tr>\n",
       "      <th>386</th>\n",
       "      <td>5ef3a6bf9bd44a067577f50f</td>\n",
       "      <td>livetest0</td>\n",
       "      <td>1560-7c8a5938-8ca4-4d37-8a0d-a600a04650ce</td>\n",
       "      <td>0</td>\n",
       "      <td>31542</td>\n",
       "      <td>164892</td>\n",
       "      <td>NaN</td>\n",
       "      <td>Place two blue dominos above the red ones you ...</td>\n",
       "      <td>NaN</td>\n",
       "      <td>NaN</td>\n",
       "      <td>15</td>\n",
       "      <td>74</td>\n",
       "    </tr>\n",
       "  </tbody>\n",
       "</table>\n",
       "</div>"
      ],
      "text/plain": [
       "                          _id iterationName  \\\n",
       "373  5ef3a6059bd44a067577f502     livetest0   \n",
       "377  5ef3a6399bd44a067577f506     livetest0   \n",
       "380  5ef3a6669bd44a067577f509     livetest0   \n",
       "383  5ef3a68d9bd44a067577f50c     livetest0   \n",
       "386  5ef3a6bf9bd44a067577f50f     livetest0   \n",
       "\n",
       "                                        gameid  trialNum timeElapsedInTurn  \\\n",
       "373  1560-7c8a5938-8ca4-4d37-8a0d-a600a04650ce  practice             85734   \n",
       "377  1560-7c8a5938-8ca4-4d37-8a0d-a600a04650ce         0             31497   \n",
       "380  1560-7c8a5938-8ca4-4d37-8a0d-a600a04650ce         0             32452   \n",
       "383  1560-7c8a5938-8ca4-4d37-8a0d-a600a04650ce         0             23777   \n",
       "386  1560-7c8a5938-8ca4-4d37-8a0d-a600a04650ce         0             31542   \n",
       "\n",
       "    timeElapsedInTrial  score  \\\n",
       "373              85734    NaN   \n",
       "377              31497    NaN   \n",
       "380              75831    NaN   \n",
       "383             114957    NaN   \n",
       "386             164892    NaN   \n",
       "\n",
       "                                               content  cumulativeScore  \\\n",
       "373  Place the red domino to the left of the left t...              NaN   \n",
       "377  Place two blue dominos to left and right of le...              NaN   \n",
       "380  Place two red dominos above the left part of t...              NaN   \n",
       "383  Place two red dominos left and right of the ri...              NaN   \n",
       "386  Place two blue dominos above the red ones you ...              NaN   \n",
       "\n",
       "     cumulativeBonus  word_count  char_count  \n",
       "373              NaN          20         100  \n",
       "377              NaN          12          58  \n",
       "380              NaN          14          77  \n",
       "383              NaN          18          93  \n",
       "386              NaN          15          74  "
      ]
     },
     "execution_count": 19,
     "metadata": {},
     "output_type": "execute_result"
    }
   ],
   "source": [
    "df_test['word_count'] = df_test['content'].str.split(' ').str.len()\n",
    "df_test.head()"
   ]
  },
  {
   "cell_type": "code",
   "execution_count": 18,
   "metadata": {},
   "outputs": [
    {
     "data": {
      "text/html": [
       "<div>\n",
       "<style scoped>\n",
       "    .dataframe tbody tr th:only-of-type {\n",
       "        vertical-align: middle;\n",
       "    }\n",
       "\n",
       "    .dataframe tbody tr th {\n",
       "        vertical-align: top;\n",
       "    }\n",
       "\n",
       "    .dataframe thead th {\n",
       "        text-align: right;\n",
       "    }\n",
       "</style>\n",
       "<table border=\"1\" class=\"dataframe\">\n",
       "  <thead>\n",
       "    <tr style=\"text-align: right;\">\n",
       "      <th></th>\n",
       "      <th>_id</th>\n",
       "      <th>iterationName</th>\n",
       "      <th>gameid</th>\n",
       "      <th>trialNum</th>\n",
       "      <th>timeElapsedInTurn</th>\n",
       "      <th>timeElapsedInTrial</th>\n",
       "      <th>score</th>\n",
       "      <th>content</th>\n",
       "      <th>cumulativeScore</th>\n",
       "      <th>cumulativeBonus</th>\n",
       "      <th>word_count</th>\n",
       "      <th>char_count</th>\n",
       "    </tr>\n",
       "  </thead>\n",
       "  <tbody>\n",
       "    <tr>\n",
       "      <th>373</th>\n",
       "      <td>5ef3a6059bd44a067577f502</td>\n",
       "      <td>livetest0</td>\n",
       "      <td>1560-7c8a5938-8ca4-4d37-8a0d-a600a04650ce</td>\n",
       "      <td>practice</td>\n",
       "      <td>85734</td>\n",
       "      <td>85734</td>\n",
       "      <td>NaN</td>\n",
       "      <td>Place the red domino to the left of the left t...</td>\n",
       "      <td>NaN</td>\n",
       "      <td>NaN</td>\n",
       "      <td>20</td>\n",
       "      <td>100</td>\n",
       "    </tr>\n",
       "    <tr>\n",
       "      <th>377</th>\n",
       "      <td>5ef3a6399bd44a067577f506</td>\n",
       "      <td>livetest0</td>\n",
       "      <td>1560-7c8a5938-8ca4-4d37-8a0d-a600a04650ce</td>\n",
       "      <td>0</td>\n",
       "      <td>31497</td>\n",
       "      <td>31497</td>\n",
       "      <td>NaN</td>\n",
       "      <td>Place two blue dominos to left and right of le...</td>\n",
       "      <td>NaN</td>\n",
       "      <td>NaN</td>\n",
       "      <td>12</td>\n",
       "      <td>58</td>\n",
       "    </tr>\n",
       "    <tr>\n",
       "      <th>380</th>\n",
       "      <td>5ef3a6669bd44a067577f509</td>\n",
       "      <td>livetest0</td>\n",
       "      <td>1560-7c8a5938-8ca4-4d37-8a0d-a600a04650ce</td>\n",
       "      <td>0</td>\n",
       "      <td>32452</td>\n",
       "      <td>75831</td>\n",
       "      <td>NaN</td>\n",
       "      <td>Place two red dominos above the left part of t...</td>\n",
       "      <td>NaN</td>\n",
       "      <td>NaN</td>\n",
       "      <td>14</td>\n",
       "      <td>77</td>\n",
       "    </tr>\n",
       "    <tr>\n",
       "      <th>383</th>\n",
       "      <td>5ef3a68d9bd44a067577f50c</td>\n",
       "      <td>livetest0</td>\n",
       "      <td>1560-7c8a5938-8ca4-4d37-8a0d-a600a04650ce</td>\n",
       "      <td>0</td>\n",
       "      <td>23777</td>\n",
       "      <td>114957</td>\n",
       "      <td>NaN</td>\n",
       "      <td>Place two red dominos left and right of the ri...</td>\n",
       "      <td>NaN</td>\n",
       "      <td>NaN</td>\n",
       "      <td>18</td>\n",
       "      <td>93</td>\n",
       "    </tr>\n",
       "    <tr>\n",
       "      <th>386</th>\n",
       "      <td>5ef3a6bf9bd44a067577f50f</td>\n",
       "      <td>livetest0</td>\n",
       "      <td>1560-7c8a5938-8ca4-4d37-8a0d-a600a04650ce</td>\n",
       "      <td>0</td>\n",
       "      <td>31542</td>\n",
       "      <td>164892</td>\n",
       "      <td>NaN</td>\n",
       "      <td>Place two blue dominos above the red ones you ...</td>\n",
       "      <td>NaN</td>\n",
       "      <td>NaN</td>\n",
       "      <td>15</td>\n",
       "      <td>74</td>\n",
       "    </tr>\n",
       "  </tbody>\n",
       "</table>\n",
       "</div>"
      ],
      "text/plain": [
       "                          _id iterationName  \\\n",
       "373  5ef3a6059bd44a067577f502     livetest0   \n",
       "377  5ef3a6399bd44a067577f506     livetest0   \n",
       "380  5ef3a6669bd44a067577f509     livetest0   \n",
       "383  5ef3a68d9bd44a067577f50c     livetest0   \n",
       "386  5ef3a6bf9bd44a067577f50f     livetest0   \n",
       "\n",
       "                                        gameid  trialNum timeElapsedInTurn  \\\n",
       "373  1560-7c8a5938-8ca4-4d37-8a0d-a600a04650ce  practice             85734   \n",
       "377  1560-7c8a5938-8ca4-4d37-8a0d-a600a04650ce         0             31497   \n",
       "380  1560-7c8a5938-8ca4-4d37-8a0d-a600a04650ce         0             32452   \n",
       "383  1560-7c8a5938-8ca4-4d37-8a0d-a600a04650ce         0             23777   \n",
       "386  1560-7c8a5938-8ca4-4d37-8a0d-a600a04650ce         0             31542   \n",
       "\n",
       "    timeElapsedInTrial  score  \\\n",
       "373              85734    NaN   \n",
       "377              31497    NaN   \n",
       "380              75831    NaN   \n",
       "383             114957    NaN   \n",
       "386             164892    NaN   \n",
       "\n",
       "                                               content  cumulativeScore  \\\n",
       "373  Place the red domino to the left of the left t...              NaN   \n",
       "377  Place two blue dominos to left and right of le...              NaN   \n",
       "380  Place two red dominos above the left part of t...              NaN   \n",
       "383  Place two red dominos left and right of the ri...              NaN   \n",
       "386  Place two blue dominos above the red ones you ...              NaN   \n",
       "\n",
       "     cumulativeBonus  word_count  char_count  \n",
       "373              NaN          20         100  \n",
       "377              NaN          12          58  \n",
       "380              NaN          14          77  \n",
       "383              NaN          18          93  \n",
       "386              NaN          15          74  "
      ]
     },
     "execution_count": 18,
     "metadata": {},
     "output_type": "execute_result"
    }
   ],
   "source": [
    "df_test['char_count'] = df_test['content'].str.len()\n",
    "df_test.head()"
   ]
  },
  {
   "cell_type": "markdown",
   "metadata": {},
   "source": [
    "### Inspect some raw data: display block towers"
   ]
  },
  {
   "cell_type": "code",
   "execution_count": null,
   "metadata": {},
   "outputs": [],
   "source": []
  },
  {
   "cell_type": "code",
   "execution_count": null,
   "metadata": {},
   "outputs": [],
   "source": []
  },
  {
   "cell_type": "code",
   "execution_count": null,
   "metadata": {},
   "outputs": [],
   "source": []
  },
  {
   "cell_type": "markdown",
   "metadata": {},
   "source": [
    "## Make basic visualizations and calculate descriptives"
   ]
  },
  {
   "cell_type": "code",
   "execution_count": null,
   "metadata": {},
   "outputs": [],
   "source": []
  },
  {
   "cell_type": "markdown",
   "metadata": {},
   "source": [
    "### Architect: mean number of words across trials"
   ]
  },
  {
   "cell_type": "code",
   "execution_count": 25,
   "metadata": {},
   "outputs": [
    {
     "name": "stdout",
     "output_type": "stream",
     "text": [
      "trialNum\n",
      "0           59\n",
      "1           44\n",
      "2           22\n",
      "3           20\n",
      "4           13\n",
      "5            9\n",
      "6           11\n",
      "7            7\n",
      "8            7\n",
      "9            4\n",
      "10           7\n",
      "11           8\n",
      "practice    20\n",
      "Name: word_count, dtype: int64\n"
     ]
    }
   ],
   "source": [
    "#Get sum of words for each trial, group by game then average across games\n",
    "print(df_test.groupby(['gameid','trialNum'])['word_count'].sum().groupby(['trialNum']).mean())"
   ]
  },
  {
   "cell_type": "code",
   "execution_count": 24,
   "metadata": {},
   "outputs": [
    {
     "data": {
      "text/plain": [
       "Text(0, 0.5, 'wordCount')"
      ]
     },
     "execution_count": 24,
     "metadata": {},
     "output_type": "execute_result"
    },
    {
     "data": {
      "image/png": "[encoded data removed]",
      "text/plain": [
       "<Figure size 1080x504 with 1 Axes>"
      ]
     },
     "metadata": {},
     "output_type": "display_data"
    }
   ],
   "source": [
    "## line plots?\n",
    "fig, ax = plt.subplots(figsize=(15,7))\n",
    "df_test.groupby(['gameid','trialNum'])['word_count'].sum().groupby(['trialNum']).mean().plot(ax = ax)\n",
    "plt.ylabel('Word Count')"
   ]
  },
  {
   "cell_type": "code",
   "execution_count": null,
   "metadata": {},
   "outputs": [],
   "source": [
    "## print summary stat to console?"
   ]
  },
  {
   "cell_type": "markdown",
   "metadata": {},
   "source": [
    "###  Architect: mean number of characters across trials"
   ]
  },
  {
   "cell_type": "code",
   "execution_count": 26,
   "metadata": {},
   "outputs": [
    {
     "data": {
      "text/plain": [
       "Text(0, 0.5, 'Char Count')"
      ]
     },
     "execution_count": 26,
     "metadata": {},
     "output_type": "execute_result"
    },
    {
     "data": {
      "image/png": "[encoded data removed]",
      "text/plain": [
       "<Figure size 1080x504 with 1 Axes>"
      ]
     },
     "metadata": {},
     "output_type": "display_data"
    }
   ],
   "source": [
    "fig, ax = plt.subplots(figsize=(15,7))\n",
    "df_test.groupby(['gameid','trialNum'])['char_count'].sum().groupby(['trialNum']).mean().plot(ax = ax)\n",
    "plt.ylabel('Char Count')"
   ]
  },
  {
   "cell_type": "code",
   "execution_count": null,
   "metadata": {},
   "outputs": [],
   "source": []
  },
  {
   "cell_type": "markdown",
   "metadata": {},
   "source": [
    "### Architect: mean number of messages (across turns within a trial) across trials"
   ]
  },
  {
   "cell_type": "code",
   "execution_count": 31,
   "metadata": {},
   "outputs": [
    {
     "data": {
      "text/plain": [
       "Text(0, 0.5, 'Messages per trial')"
      ]
     },
     "execution_count": 31,
     "metadata": {},
     "output_type": "execute_result"
    },
    {
     "data": {
      "image/png": "[encoded data removed]",
      "text/plain": [
       "<Figure size 1080x504 with 1 Axes>"
      ]
     },
     "metadata": {},
     "output_type": "display_data"
    }
   ],
   "source": [
    "fig, ax = plt.subplots(figsize=(15,7))\n",
    "df_test.groupby(['gameid','trialNum'])['_id'].count().groupby(['trialNum']).mean().plot(ax = ax)\n",
    "plt.ylabel('Messages per trial')"
   ]
  },
  {
   "cell_type": "code",
   "execution_count": 41,
   "metadata": {},
   "outputs": [
    {
     "data": {
      "text/plain": [
       "373    85734\n",
       "377    31497\n",
       "380    32452\n",
       "383    23777\n",
       "386    31542\n",
       "390    17591\n",
       "395    30500\n",
       "399    14599\n",
       "402    21172\n",
       "407     8143\n",
       "413    30704\n",
       "423    17183\n",
       "433    12572\n",
       "443    17894\n",
       "453     8176\n",
       "463     6702\n",
       "473     8972\n",
       "483     6058\n",
       "493     7063\n",
       "Name: timeElapsedInTurn, dtype: int64"
      ]
     },
     "execution_count": 41,
     "metadata": {},
     "output_type": "execute_result"
    }
   ],
   "source": [
    "df_test[\"timeElapsedInTurn\"] = pd.to_numeric(df_test['timeElapsedInTurn'])\n",
    "df_test[\"timeElapsedInTurn\"]"
   ]
  },
  {
   "cell_type": "markdown",
   "metadata": {},
   "source": [
    "### Architect: Total typing time (across turns within at trial) across trials"
   ]
  },
  {
   "cell_type": "code",
   "execution_count": 42,
   "metadata": {},
   "outputs": [
    {
     "data": {
      "text/plain": [
       "Text(0, 0.5, 'Word Count')"
      ]
     },
     "execution_count": 42,
     "metadata": {},
     "output_type": "execute_result"
    },
    {
     "data": {
      "image/png": "[encoded data removed]",
      "text/plain": [
       "<Figure size 1080x504 with 1 Axes>"
      ]
     },
     "metadata": {},
     "output_type": "display_data"
    }
   ],
   "source": [
    "## line plots\n",
    "fig, ax = plt.subplots(figsize=(15,7))\n",
    "df_test.groupby(['gameid','trialNum'])['timeElapsedInTurn'].sum().groupby(['trialNum']).mean().plot(ax = ax)\n",
    "plt.ylabel('Average Time elapsed in Trial')"
   ]
  },
  {
   "cell_type": "code",
   "execution_count": null,
   "metadata": {},
   "outputs": [],
   "source": []
  },
  {
   "cell_type": "markdown",
   "metadata": {},
   "source": [
    "### Builder: Reconstruction accuracy (intersection over union, IOU) across trials"
   ]
  },
  {
   "cell_type": "code",
   "execution_count": 57,
   "metadata": {},
   "outputs": [],
   "source": [
    "#create df for score\n",
    "df_score = df[(df.eventType == 'endTrial') & \n",
    "   (df.iterationName == 'livetest0')][['_id', 'iterationName', 'gameid', 'trialNum', \n",
    "                                       'score','cumulativeScore', 'cumulativeBonus']]"
   ]
  },
  {
   "cell_type": "code",
   "execution_count": 52,
   "metadata": {},
   "outputs": [
    {
     "data": {
      "text/plain": [
       "Text(0, 0.5, 'Average Time elapsed in Trial')"
      ]
     },
     "execution_count": 52,
     "metadata": {},
     "output_type": "execute_result"
    },
    {
     "data": {
      "image/png": "[encoded data removed]",
      "text/plain": [
       "<Figure size 1080x504 with 1 Axes>"
      ]
     },
     "metadata": {},
     "output_type": "display_data"
    }
   ],
   "source": [
    "fig, ax = plt.subplots(figsize=(15,7))\n",
    "df_score.groupby(['gameid','trialNum'])['score'].sum().groupby(['trialNum']).mean().plot(ax = ax)\n",
    "plt.ylabel('Trial Score')"
   ]
  },
  {
   "cell_type": "markdown",
   "metadata": {},
   "source": [
    "### Builder: Mean number of block placements per utterance across trials"
   ]
  },
  {
   "cell_type": "code",
   "execution_count": null,
   "metadata": {},
   "outputs": [],
   "source": []
  },
  {
   "cell_type": "code",
   "execution_count": null,
   "metadata": {},
   "outputs": [],
   "source": []
  },
  {
   "cell_type": "markdown",
   "metadata": {},
   "source": [
    "### Builder: Total reconstruction time (summed build time across turns, within each trial) across trials"
   ]
  },
  {
   "cell_type": "code",
   "execution_count": null,
   "metadata": {},
   "outputs": [],
   "source": []
  },
  {
   "cell_type": "code",
   "execution_count": null,
   "metadata": {},
   "outputs": [],
   "source": []
  },
  {
   "cell_type": "markdown",
   "metadata": {},
   "source": [
    "### Now, let's look at the DVs above, w.r.t. repetition of scenes, IGNORING which side a tower appears on... so across four repetitions (where [A,B] is equivalent to [B,A])"
   ]
  },
  {
   "cell_type": "code",
   "execution_count": null,
   "metadata": {},
   "outputs": [],
   "source": []
  },
  {
   "cell_type": "code",
   "execution_count": null,
   "metadata": {},
   "outputs": [],
   "source": []
  },
  {
   "cell_type": "code",
   "execution_count": null,
   "metadata": {},
   "outputs": [],
   "source": []
  },
  {
   "cell_type": "code",
   "execution_count": null,
   "metadata": {},
   "outputs": [],
   "source": []
  },
  {
   "cell_type": "code",
   "execution_count": null,
   "metadata": {},
   "outputs": [],
   "source": []
  },
  {
   "cell_type": "code",
   "execution_count": null,
   "metadata": {},
   "outputs": [],
   "source": []
  },
  {
   "cell_type": "code",
   "execution_count": null,
   "metadata": {},
   "outputs": [],
   "source": []
  },
  {
   "cell_type": "code",
   "execution_count": null,
   "metadata": {},
   "outputs": [],
   "source": []
  },
  {
   "cell_type": "code",
   "execution_count": null,
   "metadata": {},
   "outputs": [],
   "source": []
  }
 ],
 "metadata": {
  "kernelspec": {
   "display_name": "Python 3",
   "language": "python",
   "name": "python3"
  },
  "language_info": {
   "codemirror_mode": {
    "name": "ipython",
    "version": 3
   },
   "file_extension": ".py",
   "mimetype": "text/x-python",
   "name": "python",
   "nbconvert_exporter": "python",
   "pygments_lexer": "ipython3",
   "version": "3.7.6"
  }
 },
 "nbformat": 4,
 "nbformat_minor": 2
}
