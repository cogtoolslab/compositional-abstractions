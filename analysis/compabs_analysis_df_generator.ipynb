{
 "cells": [
  {
   "cell_type": "markdown",
   "metadata": {},
   "source": [
    "# Notebook for testing data for pilot 3\n",
    "\n",
    "Pilot 3 added more checks for engagement early in the experiment.\n",
    "Iteration names:\n",
    "'pre-pilot3':"
   ]
  },
  {
   "cell_type": "markdown",
   "metadata": {},
   "source": [
    "## 1. Read in packages and set up server connection\n",
    "This first section will read in necessary packages for anaysis and establish file paths and connections to the mongo db server"
   ]
  },
  {
   "cell_type": "code",
   "execution_count": 1,
   "metadata": {},
   "outputs": [],
   "source": [
    "import os\n",
    "import sys\n",
    "import urllib, io\n",
    "os.getcwd()\n",
    "sys.path.append(\"..\")\n",
    "sys.path.append(\"../utils\")\n",
    "sys.path.append(\"../analysis/utils\")\n",
    "\n",
    "\n",
    "import numpy as np\n",
    "import scipy.stats as stats\n",
    "import pandas as pd\n",
    "\n",
    "import pymongo as pm\n",
    "from collections import Counter\n",
    "import json\n",
    "import re\n",
    "import ast\n",
    "\n",
    "from PIL import Image, ImageOps, ImageDraw, ImageFont \n",
    "\n",
    "from io import BytesIO\n",
    "import base64\n",
    "\n",
    "import  matplotlib\n",
    "from matplotlib import pylab, mlab, pyplot\n",
    "%matplotlib inline\n",
    "from IPython.core.pylabtools import figsize, getfigs\n",
    "plt = pyplot\n",
    "import matplotlib as mpl\n",
    "mpl.rcParams['pdf.fonttype'] = 42\n",
    "\n",
    "import seaborn as sns\n",
    "sns.set_context('talk')\n",
    "sns.set_style('darkgrid')\n",
    "\n",
    "from IPython.display import clear_output\n",
    "\n",
    "import warnings\n",
    "warnings.filterwarnings(\"ignore\", category=DeprecationWarning)\n",
    "warnings.filterwarnings(\"ignore\", message=\"numpy.dtype size changed\")\n",
    "warnings.filterwarnings(\"ignore\", message=\"numpy.ufunc size changed\")\n",
    "\n",
    "import drawing_utils as drawing\n",
    "import importlib\n",
    "import scoring"
   ]
  },
  {
   "cell_type": "code",
   "execution_count": 2,
   "metadata": {},
   "outputs": [],
   "source": [
    "## directory & file hierarchy\n",
    "proj_dir = os.path.abspath('..')\n",
    "datavol_dir = os.path.join(proj_dir,'data')\n",
    "analysis_dir =  os.path.abspath('.')\n",
    "results_dir = os.path.join(proj_dir,'results')\n",
    "plot_dir = os.path.join(results_dir,'plots')\n",
    "csv_dir = os.path.join(results_dir,'csv')\n",
    "json_dir = os.path.join(results_dir,'json')\n",
    "exp_dir = os.path.abspath(os.path.join(proj_dir,'behavioral_experiments'))\n",
    "png_dir = os.path.abspath(os.path.join(datavol_dir,'png'))\n",
    "\n",
    "## add helpers to python path\n",
    "if os.path.join(proj_dir,'stimuli') not in sys.path:\n",
    "    sys.path.append(os.path.join(proj_dir,'stimuli'))\n",
    "    \n",
    "if not os.path.exists(results_dir):\n",
    "    os.makedirs(results_dir)\n",
    "    \n",
    "if not os.path.exists(plot_dir):\n",
    "    os.makedirs(plot_dir)   \n",
    "    \n",
    "if not os.path.exists(csv_dir):\n",
    "    os.makedirs(csv_dir)       "
   ]
  },
  {
   "cell_type": "code",
   "execution_count": 3,
   "metadata": {},
   "outputs": [],
   "source": [
    "# set vars \n",
    "auth = pd.read_csv(os.path.join(analysis_dir,'auth.txt'), header = None) # this auth.txt file contains the password for the sketchloop user\n",
    "pswd = auth.values[0][0]\n",
    "user = 'sketchloop'\n",
    "host = 'cogtoolslab.org'\n",
    "\n",
    "# have to fix this to be able to analyze from local\n",
    "import pymongo as pm\n",
    "conn = pm.MongoClient('mongodb://sketchloop:' + pswd + '@127.0.0.1')\n",
    "db = conn['compositional-abstractions']\n",
    "coll = db['two-towers']\n",
    "\n",
    "# which iteration name should we use?\n",
    "iterationName = 'pilot3'\n",
    "\n",
    "## look up number of trials (including paired-practice)\n",
    "numTrials = 13"
   ]
  },
  {
   "cell_type": "code",
   "execution_count": null,
   "metadata": {},
   "outputs": [],
   "source": [
    "# look into failType"
   ]
  },
  {
   "cell_type": "markdown",
   "metadata": {},
   "source": [
    "## 2. Construct tidy dataframe with game data"
   ]
  },
  {
   "cell_type": "markdown",
   "metadata": {},
   "source": [
    "### establish connection to mongo\n",
    "First thing you need to do is to establish an ssh tunnel (aka remote port forwarding) to the server, so that requests to the mongodb can be made \"as if\" the mongodb server is running on your local computer. Run this from the command line before you begin data analysis if you plan to fetch data from mongo:\n",
    "\n",
    "`ssh -fNL 27017:127.0.0.1:27017 USERNAME@cogtoolslab.org`"
   ]
  },
  {
   "cell_type": "markdown",
   "metadata": {},
   "source": [
    "#### Pass in list of iterations, returns list of total games and completed games for each"
   ]
  },
  {
   "cell_type": "code",
   "execution_count": 4,
   "metadata": {
    "scrolled": true
   },
   "outputs": [
    {
     "name": "stdout",
     "output_type": "stream",
     "text": [
      "There are 2 total games in iteration: pilot3.\n",
      "There are 2 complete games in iteration: pilot3.\n"
     ]
    }
   ],
   "source": [
    "## get list of all gameIDs in database\n",
    "#iterationList = ['livetest0','pilot0','pilot2']\n",
    "\n",
    "iterationList = ['pilot3']\n",
    "\n",
    "for iteration in iterationList:\n",
    "    #get total games\n",
    "    total_games = coll.find({'iterationName':iteration}).distinct('gameid')\n",
    "    print('There are {} total games in iteration: {}.'.format(len(total_games), iteration))\n",
    "\n",
    "    ## get list of complete gameIDs\n",
    "    gameIDs = coll.find({'iterationName':iteration}).distinct('gameid')\n",
    "    complete_games = [g for g in gameIDs if len(coll.find({'gameid':g}).distinct('trialNum')) == numTrials]\n",
    "    print('There are {} complete games in iteration: {}.'.format(len(complete_games), iteration))"
   ]
  },
  {
   "cell_type": "code",
   "execution_count": 5,
   "metadata": {},
   "outputs": [],
   "source": [
    "broken_games = []\n",
    "complete_games = [g for g in complete_games if g not in broken_games]\n",
    "\n",
    "def construct_tidy_dataframe(eventType = 'chatMessage', \n",
    "                             complete_games = [],\n",
    "                             iterationName = 'pilot3',\n",
    "                             remove_workerID = True):\n",
    "    '''\n",
    "    input: list of complete games and name of event Type\n",
    "    '''\n",
    "    event2name = {'chatMessage':'chat', 'block':'block', 'endTrial':'trial', 'exitSurvey':'exit'}\n",
    "    L = pd.DataFrame()\n",
    "    for g, this_gameID in enumerate(complete_games):\n",
    "        print('Analyzing game {} | {} of {}'.format(this_gameID, g+1, len(complete_games)))\n",
    "        clear_output(wait=True) \n",
    "\n",
    "        ### extract records \n",
    "        #loop over iteration names??\n",
    "        X = coll.find({ '$and': [{'iterationName':iterationName}, \n",
    "#                                  {\"$or\":[{'iterationName':'Exp2Pilot3'},\n",
    "#                                  {'iterationName':'Exp2Pilot3_batch2'}]}\n",
    "                                 {'gameid': this_gameID}, {'eventType': eventType}]}).sort('time') \n",
    "        \n",
    "        li = list(X)        \n",
    "        _L = pd.DataFrame(li)  \n",
    "\n",
    "        ## concat with previous game's dataframe\n",
    "        if L.shape[0]==0:\n",
    "            L = _L\n",
    "        else: \n",
    "            L = pd.concat([L,_L], axis=0)     \n",
    "\n",
    "    ## postprocessing\n",
    "    if remove_workerID and 'workerId' in L.columns:\n",
    "        L = L.drop('workerId',axis=1)\n",
    "        \n",
    "    if eventType in ['block','endTrial','chatMessage']:\n",
    "        L['practice'] = L.trialNum == 'practice'\n",
    "        L.trialNum = pd.to_numeric(L['trialNum'], errors='coerce')\n",
    "\n",
    "    ## save out group dataframe to csv dir\n",
    "    out_path = os.path.join(csv_dir,'compabs_{}_{}.csv'.format(event2name[eventType],iterationName))\n",
    "    print('Saving dataframe out to CSV dir at path: {}'.format(out_path))    \n",
    "    L.to_csv(out_path)             \n",
    "\n",
    "    return L\n"
   ]
  },
  {
   "cell_type": "code",
   "execution_count": 6,
   "metadata": {},
   "outputs": [
    {
     "name": "stdout",
     "output_type": "stream",
     "text": [
      "Saving dataframe out to CSV dir at path: /Users/will/compositional-abstractions/results/csv/compabs_exit_pilot3.csv\n"
     ]
    }
   ],
   "source": [
    "## construct dataframe for each datatype\n",
    "dataTypes = coll.distinct('eventType')\n",
    "for thisDataType in dataTypes:\n",
    "    X = construct_tidy_dataframe(eventType=thisDataType, complete_games=complete_games, iterationName=iterationName)\n"
   ]
  },
  {
   "cell_type": "markdown",
   "metadata": {},
   "source": [
    "## 3. Create a full DF from DB\n",
    "We can read in a full df from the db and do some basic checks to make sure the data look right"
   ]
  },
  {
   "cell_type": "markdown",
   "metadata": {},
   "source": [
    "#### check outcome for specific workerID\n",
    "Must pass in workerID and corresponding iteration"
   ]
  },
  {
   "cell_type": "code",
   "execution_count": 169,
   "metadata": {},
   "outputs": [
    {
     "data": {
      "text/plain": [
       "array(['5809-2a5e096b-a425-4bc7-b495-cf74cb60ded6',\n",
       "       '6598-80d65299-0654-43b4-9f27-08572427cb2d'], dtype=object)"
      ]
     },
     "execution_count": 169,
     "metadata": {},
     "output_type": "execute_result"
    }
   ],
   "source": [
    "f = pd.DataFrame(coll.find({'iterationName': 'pilot3'}))\n",
    "f['gameid'].unique()"
   ]
  },
  {
   "cell_type": "code",
   "execution_count": 168,
   "metadata": {},
   "outputs": [
    {
     "data": {
      "text/html": [
       "<div>\n",
       "<style scoped>\n",
       "    .dataframe tbody tr th:only-of-type {\n",
       "        vertical-align: middle;\n",
       "    }\n",
       "\n",
       "    .dataframe tbody tr th {\n",
       "        vertical-align: top;\n",
       "    }\n",
       "\n",
       "    .dataframe thead th {\n",
       "        text-align: right;\n",
       "    }\n",
       "</style>\n",
       "<table border=\"1\" class=\"dataframe\">\n",
       "  <thead>\n",
       "    <tr style=\"text-align: right;\">\n",
       "      <th></th>\n",
       "      <th>_id</th>\n",
       "      <th>workerId</th>\n",
       "      <th>failType</th>\n",
       "      <th>iterationName</th>\n",
       "    </tr>\n",
       "  </thead>\n",
       "  <tbody>\n",
       "    <tr>\n",
       "      <td>0</td>\n",
       "      <td>5f47c827df57f9222c29cc11</td>\n",
       "      <td>A21WWDLXGJQHWZ</td>\n",
       "      <td>instructionsQuiz</td>\n",
       "      <td>NaN</td>\n",
       "    </tr>\n",
       "    <tr>\n",
       "      <td>1</td>\n",
       "      <td>5f47c83fdf57f9222c29cc12</td>\n",
       "      <td>A2UUZ3WDQBQ21A</td>\n",
       "      <td>instructionsQuiz</td>\n",
       "      <td>NaN</td>\n",
       "    </tr>\n",
       "    <tr>\n",
       "      <td>2</td>\n",
       "      <td>5f47d778df57f9222c29cc22</td>\n",
       "      <td>A3ENDV5PRQI2U2</td>\n",
       "      <td>instructionsQuiz</td>\n",
       "      <td>NaN</td>\n",
       "    </tr>\n",
       "    <tr>\n",
       "      <td>3</td>\n",
       "      <td>5f47d871df57f9222c29cc29</td>\n",
       "      <td>AQ8B4BC1EUWN</td>\n",
       "      <td>instructionsQuiz</td>\n",
       "      <td>NaN</td>\n",
       "    </tr>\n",
       "    <tr>\n",
       "      <td>4</td>\n",
       "      <td>5f47def1df57f9222c29ccbb</td>\n",
       "      <td>A2K4X1QPAZ0DZX</td>\n",
       "      <td>instructionsQuiz</td>\n",
       "      <td>NaN</td>\n",
       "    </tr>\n",
       "    <tr>\n",
       "      <td>5</td>\n",
       "      <td>5f4d42543c9d171947610dad</td>\n",
       "      <td>undefined</td>\n",
       "      <td>instructionsQuiz</td>\n",
       "      <td>pilot3_debug</td>\n",
       "    </tr>\n",
       "  </tbody>\n",
       "</table>\n",
       "</div>"
      ],
      "text/plain": [
       "                        _id        workerId          failType iterationName\n",
       "0  5f47c827df57f9222c29cc11  A21WWDLXGJQHWZ  instructionsQuiz           NaN\n",
       "1  5f47c83fdf57f9222c29cc12  A2UUZ3WDQBQ21A  instructionsQuiz           NaN\n",
       "2  5f47d778df57f9222c29cc22  A3ENDV5PRQI2U2  instructionsQuiz           NaN\n",
       "3  5f47d871df57f9222c29cc29    AQ8B4BC1EUWN  instructionsQuiz           NaN\n",
       "4  5f47def1df57f9222c29ccbb  A2K4X1QPAZ0DZX  instructionsQuiz           NaN\n",
       "5  5f4d42543c9d171947610dad       undefined  instructionsQuiz  pilot3_debug"
      ]
     },
     "execution_count": 168,
     "metadata": {},
     "output_type": "execute_result"
    }
   ],
   "source": [
    "a = pd.DataFrame(coll.find({'failType': 'instructionsQuiz'}))\n",
    "a"
   ]
  },
  {
   "cell_type": "code",
   "execution_count": 165,
   "metadata": {},
   "outputs": [
    {
     "data": {
      "text/html": [
       "<div>\n",
       "<style scoped>\n",
       "    .dataframe tbody tr th:only-of-type {\n",
       "        vertical-align: middle;\n",
       "    }\n",
       "\n",
       "    .dataframe tbody tr th {\n",
       "        vertical-align: top;\n",
       "    }\n",
       "\n",
       "    .dataframe thead th {\n",
       "        text-align: right;\n",
       "    }\n",
       "</style>\n",
       "<table border=\"1\" class=\"dataframe\">\n",
       "  <thead>\n",
       "    <tr style=\"text-align: right;\">\n",
       "      <th></th>\n",
       "      <th>_id</th>\n",
       "      <th>workerId</th>\n",
       "      <th>failType</th>\n",
       "      <th>iterationName</th>\n",
       "    </tr>\n",
       "  </thead>\n",
       "  <tbody>\n",
       "    <tr>\n",
       "      <td>0</td>\n",
       "      <td>5f4d42293c9d171947610dac</td>\n",
       "      <td>undefined</td>\n",
       "      <td>soloPractice</td>\n",
       "      <td>pilot3_debug</td>\n",
       "    </tr>\n",
       "  </tbody>\n",
       "</table>\n",
       "</div>"
      ],
      "text/plain": [
       "                        _id   workerId      failType iterationName\n",
       "0  5f4d42293c9d171947610dac  undefined  soloPractice  pilot3_debug"
      ]
     },
     "execution_count": 165,
     "metadata": {},
     "output_type": "execute_result"
    }
   ],
   "source": [
    "b = pd.DataFrame(coll.find({'failType': 'soloPractice'}))\n",
    "b"
   ]
  },
  {
   "cell_type": "code",
   "execution_count": 160,
   "metadata": {},
   "outputs": [
    {
     "data": {
      "text/html": [
       "<div>\n",
       "<style scoped>\n",
       "    .dataframe tbody tr th:only-of-type {\n",
       "        vertical-align: middle;\n",
       "    }\n",
       "\n",
       "    .dataframe tbody tr th {\n",
       "        vertical-align: top;\n",
       "    }\n",
       "\n",
       "    .dataframe thead th {\n",
       "        text-align: right;\n",
       "    }\n",
       "</style>\n",
       "<table border=\"1\" class=\"dataframe\">\n",
       "  <thead>\n",
       "    <tr style=\"text-align: right;\">\n",
       "      <th></th>\n",
       "      <th>_id</th>\n",
       "      <th>iterationName</th>\n",
       "      <th>gameid</th>\n",
       "      <th>time</th>\n",
       "      <th>workerId</th>\n",
       "      <th>assignmentId</th>\n",
       "      <th>leftTarget</th>\n",
       "      <th>rightTarget</th>\n",
       "      <th>trialNum</th>\n",
       "      <th>turnNum</th>\n",
       "      <th>...</th>\n",
       "      <th>strategy</th>\n",
       "      <th>role</th>\n",
       "      <th>totalLength</th>\n",
       "      <th>cumulativeScore</th>\n",
       "      <th>cumulativeBonus</th>\n",
       "      <th>trialScore</th>\n",
       "      <th>workerID</th>\n",
       "      <th>individualPracticeAttempts</th>\n",
       "      <th>failType</th>\n",
       "      <th>pairedPracticeFails</th>\n",
       "    </tr>\n",
       "  </thead>\n",
       "  <tbody>\n",
       "    <tr>\n",
       "      <td>6754</td>\n",
       "      <td>5f4d40de3c9d171947610dab</td>\n",
       "      <td>pilot3_debug</td>\n",
       "      <td>1068-ffe5a500-3e57-41ef-ac07-79b48edfcab3</td>\n",
       "      <td>1.598898e+12</td>\n",
       "      <td></td>\n",
       "      <td></td>\n",
       "      <td>vertical</td>\n",
       "      <td>horizontal</td>\n",
       "      <td>NaN</td>\n",
       "      <td>0.0</td>\n",
       "      <td>...</td>\n",
       "      <td>aervwav</td>\n",
       "      <td>listener</td>\n",
       "      <td>30657.0</td>\n",
       "      <td>NaN</td>\n",
       "      <td>NaN</td>\n",
       "      <td>NaN</td>\n",
       "      <td>NaN</td>\n",
       "      <td>None</td>\n",
       "      <td>NaN</td>\n",
       "      <td>3.0</td>\n",
       "    </tr>\n",
       "  </tbody>\n",
       "</table>\n",
       "<p>1 rows × 41 columns</p>\n",
       "</div>"
      ],
      "text/plain": [
       "                           _id iterationName  \\\n",
       "6754  5f4d40de3c9d171947610dab  pilot3_debug   \n",
       "\n",
       "                                         gameid          time workerId  \\\n",
       "6754  1068-ffe5a500-3e57-41ef-ac07-79b48edfcab3  1.598898e+12            \n",
       "\n",
       "     assignmentId leftTarget rightTarget trialNum  turnNum  ... strategy  \\\n",
       "6754                vertical  horizontal      NaN      0.0  ...  aervwav   \n",
       "\n",
       "          role totalLength cumulativeScore cumulativeBonus  trialScore  \\\n",
       "6754  listener     30657.0             NaN             NaN         NaN   \n",
       "\n",
       "      workerID  individualPracticeAttempts  failType pairedPracticeFails  \n",
       "6754       NaN                        None       NaN                 3.0  \n",
       "\n",
       "[1 rows x 41 columns]"
      ]
     },
     "execution_count": 160,
     "metadata": {},
     "output_type": "execute_result"
    }
   ],
   "source": [
    "c = pd.DataFrame(coll.find())\n",
    "\n",
    "c[c.pairedPracticeFails==3]"
   ]
  },
  {
   "cell_type": "markdown",
   "metadata": {},
   "source": [
    "## 4. Trial Level Data\n",
    "We're going to construct a spearate df for each event type (chat, block, endTrial, Survey) which will make analysis a little easier.\n",
    "We also want to be able to concatenate multiple iterations for grouped analysis of previous versions."
   ]
  },
  {
   "cell_type": "markdown",
   "metadata": {},
   "source": [
    "### Create DF for each event\n"
   ]
  },
  {
   "cell_type": "code",
   "execution_count": 8,
   "metadata": {},
   "outputs": [],
   "source": [
    "event_types = ['block', 'chat','exit','trial']\n",
    "iteration_list = ['pilot3']\n",
    "df_dict = {}\n",
    "for event in event_types:\n",
    "    event_dict = {}\n",
    "    df_name = 'df_'+ event\n",
    "    for iteration in iteration_list:\n",
    "        df_temp = 'df_'+event+\"_\"+iteration # the name for the dataframe\n",
    "        file_name = '../results/csv/compabs_{}_{}.csv'.format(event,iteration)\n",
    "        event_dict[df_temp] = pd.read_csv(file_name)\n",
    "    df_dict[df_name] = pd.concat(event_dict.values(), ignore_index = True)"
   ]
  },
  {
   "cell_type": "markdown",
   "metadata": {},
   "source": [
    "##### Light data cleaning"
   ]
  },
  {
   "cell_type": "code",
   "execution_count": 98,
   "metadata": {},
   "outputs": [],
   "source": [
    "#create columns for char and word counts\n",
    "df_chat['word_count'] = df_chat['content'].str.split(' ').str.len()\n",
    "df_chat['char_count'] = df_chat['content'].str.len()\n",
    "df_chat[\"timeElapsedInTurn\"] = pd.to_numeric(df_chat['timeElapsedInTurn'])"
   ]
  },
  {
   "cell_type": "code",
   "execution_count": null,
   "metadata": {},
   "outputs": [],
   "source": [
    "df_block['w'] = df_block['width']\n",
    "df_block['h'] = df_block['height']\n",
    "df_block[\"timeElapsedInTurn\"] = pd.to_numeric(df_block['timeElapsedInTurn'])"
   ]
  },
  {
   "cell_type": "markdown",
   "metadata": {},
   "source": [
    "#### Write to data frames"
   ]
  },
  {
   "cell_type": "code",
   "execution_count": 9,
   "metadata": {},
   "outputs": [],
   "source": [
    "df_dict['df_block'].to_csv('df_block.csv', header=True, index=False) \n",
    "df_dict['df_chat'].to_csv('df_chat.csv', header=True, index=False) \n",
    "df_dict['df_exit'].to_csv('df_exit.csv', header=True, index=False) \n",
    "df_dict['df_trial'].to_csv('df_trial.csv', header=True, index=False) "
   ]
  },
  {
   "cell_type": "code",
   "execution_count": 10,
   "metadata": {},
   "outputs": [],
   "source": [
    "#read in dataframes from each eventType\n",
    "df_block = pd.read_csv('df_block.csv')\n",
    "df_chat = pd.read_csv('df_chat.csv')\n",
    "df_exit = pd.read_csv('df_exit.csv')\n",
    "df_trial = pd.read_csv('df_trial.csv')"
   ]
  }
 ],
 "metadata": {
  "kernelspec": {
   "display_name": "Python 3",
   "language": "python",
   "name": "python3"
  },
  "language_info": {
   "codemirror_mode": {
    "name": "ipython",
    "version": 3
   },
   "file_extension": ".py",
   "mimetype": "text/x-python",
   "name": "python",
   "nbconvert_exporter": "python",
   "pygments_lexer": "ipython3",
   "version": "3.7.6"
  }
 },
 "nbformat": 4,
 "nbformat_minor": 2
}
