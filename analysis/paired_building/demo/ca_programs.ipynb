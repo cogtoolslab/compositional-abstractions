{
 "cells": [
  {
   "cell_type": "markdown",
   "id": "ad028769",
   "metadata": {},
   "source": [
    "# Formalizing communicative efficiency as program abstraction\n",
    "\n",
    "In the previous section, we saw that Architects used increasingly concise language to describe the scenes they were viewing. In particular, we saw that the entities they referred to became increasingly complex, from individual blocks to entire towers.  \n",
    "\n",
    "Here we try to make sense of this process through the lens of *abstraction learning*. We assume that, as people are exposed to scenes with a number of shared elements, they acquire *abstractions*-- patterns they can use to represent the scenes more efficiently (either in perception or language).\n",
    "\n",
    "In this section, we formalize the notion of abstraction with the concept of *program abstraction*. By representing scenes as simple computer programs, we can apply abstraction learning algorithms to propose the set of abstractions participants have in their heads after seeing each scene."
   ]
  },
  {
   "cell_type": "code",
   "execution_count": 1,
   "id": "c330338c",
   "metadata": {},
   "outputs": [],
   "source": [
    "import os\n",
    "import sys\n",
    "import urllib, io\n",
    "os.getcwd()\n",
    "\n",
    "import numpy as np\n",
    "import scipy.stats as stats\n",
    "import pandas as pd\n",
    "\n",
    "import pymongo as pm\n",
    "from collections import Counter\n",
    "import json\n",
    "import re\n",
    "import ast\n",
    "\n",
    "from PIL import Image, ImageOps, ImageDraw, ImageFont \n",
    "\n",
    "from io import BytesIO\n",
    "import base64\n",
    "\n",
    "from IPython.display import clear_output\n",
    "\n",
    "import warnings\n",
    "warnings.filterwarnings(\"ignore\", category=DeprecationWarning)\n",
    "warnings.filterwarnings(\"ignore\", message=\"numpy.dtype size changed\")\n",
    "warnings.filterwarnings(\"ignore\", message=\"numpy.ufunc size changed\")"
   ]
  },
  {
   "cell_type": "markdown",
   "id": "ba4c8c8b",
   "metadata": {},
   "source": [
    "## Representing block towers as programs\n",
    "\n",
    "We assume a basic level of understanding of block building concepts, encapsulated by a *domain specific language* (DSL).  \n",
    "\n",
    "Our *base DSL* (adapted from the [Dreamcoder building task](https://arxiv.org/abs/2006.08381)), contains primitives:\n",
    "- **h**: horizontal domino\n",
    "- **v**: vertical domino\n",
    "- **r_x**: move right x places, where x in {1,2,3,4,5,6,7,8,9}\n",
    "- **l_x**: move left x places,  where x in {1,2,3,4,5,6,7,8,9}"
   ]
  },
  {
   "cell_type": "code",
   "execution_count": null,
   "id": "51212c21",
   "metadata": {},
   "outputs": [],
   "source": []
  },
  {
   "cell_type": "markdown",
   "id": "24a2b728",
   "metadata": {},
   "source": [
    "## Library learning\n",
    "\n",
    "\n",
    "In this section we formalize abstraction learning as the acquiring of *program abstractions*. Programs provide a natural analog of abstraction-- program fragments, which are substrings of programs expressed in our *base DSL*.\n",
    "\n",
    "By augmenting the base DSL with additional program fragments, we create new libraries that can express individual block towers more efficiently (i.e. with fewer tokens). This benefit comes at the cost of storing the new abstractions in memory.\n",
    "\n",
    "Here we aim to capture the change in DSL across trials, as people are exposed to more and more scenes (programs) that share subunits (program fragments). For each participants, we use run the Abstraction phase from [Dreamcoder](https://arxiv.org/abs/2006.08381) to propose new fragments after every trial.\n",
    "\n",
    "\n"
   ]
  },
  {
   "cell_type": "code",
   "execution_count": null,
   "id": "a3e80889",
   "metadata": {},
   "outputs": [],
   "source": [
    "# learned libraries\n"
   ]
  },
  {
   "cell_type": "markdown",
   "id": "1a89d50e",
   "metadata": {},
   "source": [
    "## Program generation\n",
    "\n",
    "Now we have a library of abstractions available to each participant at each trial. Next we need to know how people use these abstractions to represent each scene. In other words, what is the program, expressed in the current DSL, that most efficiently expresses the block tower the participant is looking at?\n",
    "\n",
    "How people search for programs using their abstraction libraries is an interesting question in itself. Here, however, our focus is on a different question-- how do people choose between more or less efficient ways of expressing a concept, given uncertainty about how \n",
    "\n",
    "It's therefore most important for us to find the single most efficient program that represents each tower. Fortunately for us, Dreamcoder libraries uniquely determine this most efficient programs. Programs involving larger abstractions can be found through enumeration. For less compressed programs, enumeration takes too long. However, we can simply swap in the learned abstractions from our DSLs through text-matching.\n",
    "\n"
   ]
  },
  {
   "cell_type": "markdown",
   "id": "e95fbce3",
   "metadata": {},
   "source": []
  },
  {
   "cell_type": "code",
   "execution_count": null,
   "id": "d58765a9",
   "metadata": {},
   "outputs": [],
   "source": []
  }
 ],
 "metadata": {
  "kernelspec": {
   "display_name": "Python 3 (ipykernel)",
   "language": "python",
   "name": "python3"
  },
  "language_info": {
   "codemirror_mode": {
    "name": "ipython",
    "version": 3
   },
   "file_extension": ".py",
   "mimetype": "text/x-python",
   "name": "python",
   "nbconvert_exporter": "python",
   "pygments_lexer": "ipython3",
   "version": "3.9.16"
  }
 },
 "nbformat": 4,
 "nbformat_minor": 5
}
