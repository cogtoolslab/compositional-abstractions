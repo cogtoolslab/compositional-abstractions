{
 "cells": [
  {
   "cell_type": "markdown",
   "id": "5b0ef775",
   "metadata": {},
   "source": [
    "# Linguistic Analyses for Compositional Abstractions (COSMOS)"
   ]
  },
  {
   "cell_type": "markdown",
   "id": "3ed9056e",
   "metadata": {},
   "source": [
    "*Note: this notebook serves as the instructor version and should be altered to the student version before being presented*\n",
    "\n",
    "This section is divided into two sections, where each section has multiple parts. **Section 1** covers basic linguistic analyses. **Section 2** covers analyzing referring expressions."
   ]
  },
  {
   "cell_type": "markdown",
   "id": "939d2271",
   "metadata": {},
   "source": [
    "*important to note that students may have to access https://www.nltk.org/data.html to download the NLTK package (Zoe had to do this) & pip install `num2words`*"
   ]
  },
  {
   "cell_type": "markdown",
   "id": "b31aab87",
   "metadata": {},
   "source": [
    "### Load in Required Packages"
   ]
  },
  {
   "cell_type": "code",
   "execution_count": 1,
   "id": "308c89be",
   "metadata": {},
   "outputs": [],
   "source": [
    "## Run this code to load the required packages\n",
    "\n",
    "import os\n",
    "import sys\n",
    "import urllib, io\n",
    "os.getcwd()\n",
    "\n",
    "import numpy as np\n",
    "import scipy.stats as stats\n",
    "import pandas as pd\n",
    "from sklearn.cluster import AffinityPropagation\n",
    "from sklearn.manifold import TSNE\n",
    "\n",
    "import pymongo as pm\n",
    "from collections import Counter\n",
    "import json\n",
    "import re\n",
    "import ast\n",
    "\n",
    "from PIL import Image, ImageOps, ImageDraw, ImageFont \n",
    "\n",
    "from io import BytesIO\n",
    "import base64\n",
    "\n",
    "import  matplotlib\n",
    "from matplotlib import pylab, mlab, pyplot\n",
    "%matplotlib inline\n",
    "from IPython.core.pylabtools import figsize, getfigs\n",
    "plt = pyplot\n",
    "import matplotlib as mpl\n",
    "mpl.rcParams['pdf.fonttype'] = 42\n",
    "\n",
    "import seaborn as sns\n",
    "sns.set_context('talk')\n",
    "sns.set_style('darkgrid')\n",
    "\n",
    "from IPython.display import clear_output\n",
    "\n",
    "import warnings\n",
    "warnings.filterwarnings(\"ignore\", category=DeprecationWarning)\n",
    "warnings.filterwarnings(\"ignore\", message=\"numpy.dtype size changed\")\n",
    "warnings.filterwarnings(\"ignore\", message=\"numpy.ufunc size changed\")\n",
    "\n",
    "import nltk\n",
    "from nltk.tokenize import RegexpTokenizer\n",
    "\n",
    "from nltk.corpus import stopwords\n",
    "stop = stopwords.words('english')\n",
    "\n",
    "import num2words\n",
    "from num2words import num2words"
   ]
  },
  {
   "cell_type": "markdown",
   "id": "93bf8c20",
   "metadata": {},
   "source": [
    "# Section 1: Basic Linguistic Analyses"
   ]
  },
  {
   "cell_type": "markdown",
   "id": "1d0c4619",
   "metadata": {},
   "source": [
    "## Part 1.0: Preview the Data\n",
    "\n",
    "In **Part 1.0** we will preview the data by reading in two different dataframes then examining the structure of them."
   ]
  },
  {
   "cell_type": "markdown",
   "id": "ed817953",
   "metadata": {},
   "source": [
    "**1.0.1** We will begin by reading in two different dataframes:\n",
    "- `df_chat`: a dataframe that includes our data and the messages that we are interested in examining.\n",
    "- `df_trial`: a dataframe that includes more data on the accuracy of participants in addition to the messages we are interested in examining."
   ]
  },
  {
   "cell_type": "markdown",
   "id": "d4c27adc",
   "metadata": {},
   "source": [
    "*Note: Can we define what eventType means?*"
   ]
  },
  {
   "cell_type": "code",
   "execution_count": 2,
   "id": "fcd94690",
   "metadata": {},
   "outputs": [],
   "source": [
    "# Run this code to read in dataframes from each eventType\n",
    "df_chat = pd.read_csv('data/df_chat.csv')\n",
    "df_trial = pd.read_csv('data/df_trial.csv')"
   ]
  },
  {
   "cell_type": "markdown",
   "id": "574b80ac",
   "metadata": {},
   "source": [
    "**1.0.2** Now, we will remove datasets that didn't meet accuracy threshold (75% accuracy) as a basic preprocessing step before beginning any analyses."
   ]
  },
  {
   "cell_type": "code",
   "execution_count": 42,
   "id": "ae61f0fd",
   "metadata": {},
   "outputs": [
    {
     "name": "stdout",
     "output_type": "stream",
     "text": [
      "Total dyads achieving 75% Accuracy on 75% of trials: 49\n"
     ]
    }
   ],
   "source": [
    "# extract data where there is 75% Accuracy on 75% of trials\n",
    "df75 = pd.DataFrame(df_trial.groupby(['gameid', 'trialNum'])['trialScore'].sum()>75).groupby(['gameid']).sum()\n",
    "df75['trials'] = df75['trialScore']\n",
    "\n",
    "df75 = df75[df75['trials']>=9]\n",
    "includedGames = list(df75.reset_index().gameid)\n",
    "\n",
    "print(\"Total dyads achieving 75% Accuracy on 75% of trials:\",len(df75))"
   ]
  },
  {
   "cell_type": "code",
   "execution_count": 43,
   "id": "4e666475",
   "metadata": {},
   "outputs": [],
   "source": [
    "# exclude the data that did not meet the threshold from analysis\n",
    "df_chat = df_chat[df_chat.gameid.isin(includedGames)]\n",
    "df_trial = df_trial[df_trial.gameid.isin(includedGames)]"
   ]
  },
  {
   "cell_type": "markdown",
   "id": "289bc7af",
   "metadata": {},
   "source": [
    "**1.0.3** Now, we will preview the data."
   ]
  },
  {
   "cell_type": "code",
   "execution_count": 46,
   "id": "de925da1",
   "metadata": {},
   "outputs": [
    {
     "data": {
      "text/html": [
       "<div>\n",
       "<style scoped>\n",
       "    .dataframe tbody tr th:only-of-type {\n",
       "        vertical-align: middle;\n",
       "    }\n",
       "\n",
       "    .dataframe tbody tr th {\n",
       "        vertical-align: top;\n",
       "    }\n",
       "\n",
       "    .dataframe thead th {\n",
       "        text-align: right;\n",
       "    }\n",
       "</style>\n",
       "<table border=\"1\" class=\"dataframe\">\n",
       "  <thead>\n",
       "    <tr style=\"text-align: right;\">\n",
       "      <th></th>\n",
       "      <th>Unnamed: 0</th>\n",
       "      <th>_id</th>\n",
       "      <th>iterationName</th>\n",
       "      <th>gameid</th>\n",
       "      <th>time</th>\n",
       "      <th>assignmentId</th>\n",
       "      <th>leftTarget</th>\n",
       "      <th>rightTarget</th>\n",
       "      <th>trialNum</th>\n",
       "      <th>turnNum</th>\n",
       "      <th>...</th>\n",
       "      <th>timeElapsedInTurn</th>\n",
       "      <th>timeElapsedInTrial</th>\n",
       "      <th>eventType</th>\n",
       "      <th>practice</th>\n",
       "      <th>individualPracticeAttempts</th>\n",
       "      <th>turnStartTime</th>\n",
       "      <th>trialStartTime</th>\n",
       "      <th>flagged</th>\n",
       "      <th>word_count</th>\n",
       "      <th>char_count</th>\n",
       "    </tr>\n",
       "  </thead>\n",
       "  <tbody>\n",
       "    <tr>\n",
       "      <th>0</th>\n",
       "      <td>0</td>\n",
       "      <td>5ef78389ce2f7f58fcd0a350</td>\n",
       "      <td>pilot0</td>\n",
       "      <td>1494-029e2297-bd3f-4cfe-be00-d06d36724e4e</td>\n",
       "      <td>1.593279e+12</td>\n",
       "      <td>3E47SOBEYUW78Q4UOK6BV9E6YCECIM</td>\n",
       "      <td>vertical</td>\n",
       "      <td>horizontal</td>\n",
       "      <td>NaN</td>\n",
       "      <td>0</td>\n",
       "      <td>...</td>\n",
       "      <td>60567</td>\n",
       "      <td>60567</td>\n",
       "      <td>chatMessage</td>\n",
       "      <td>True</td>\n",
       "      <td>NaN</td>\n",
       "      <td>NaN</td>\n",
       "      <td>NaN</td>\n",
       "      <td>False</td>\n",
       "      <td>15</td>\n",
       "      <td>63</td>\n",
       "    </tr>\n",
       "    <tr>\n",
       "      <th>1</th>\n",
       "      <td>1</td>\n",
       "      <td>5ef783bace2f7f58fcd0a358</td>\n",
       "      <td>pilot0</td>\n",
       "      <td>1494-029e2297-bd3f-4cfe-be00-d06d36724e4e</td>\n",
       "      <td>1.593279e+12</td>\n",
       "      <td>3E47SOBEYUW78Q4UOK6BV9E6YCECIM</td>\n",
       "      <td>vertical</td>\n",
       "      <td>horizontal</td>\n",
       "      <td>NaN</td>\n",
       "      <td>0</td>\n",
       "      <td>...</td>\n",
       "      <td>20018</td>\n",
       "      <td>20018</td>\n",
       "      <td>chatMessage</td>\n",
       "      <td>True</td>\n",
       "      <td>NaN</td>\n",
       "      <td>NaN</td>\n",
       "      <td>NaN</td>\n",
       "      <td>False</td>\n",
       "      <td>13</td>\n",
       "      <td>70</td>\n",
       "    </tr>\n",
       "    <tr>\n",
       "      <th>2</th>\n",
       "      <td>2</td>\n",
       "      <td>5ef783e4ce2f7f58fcd0a35e</td>\n",
       "      <td>pilot0</td>\n",
       "      <td>1494-029e2297-bd3f-4cfe-be00-d06d36724e4e</td>\n",
       "      <td>1.593279e+12</td>\n",
       "      <td>3E47SOBEYUW78Q4UOK6BV9E6YCECIM</td>\n",
       "      <td>C</td>\n",
       "      <td>Pi</td>\n",
       "      <td>0.0</td>\n",
       "      <td>0</td>\n",
       "      <td>...</td>\n",
       "      <td>28166</td>\n",
       "      <td>28166</td>\n",
       "      <td>chatMessage</td>\n",
       "      <td>False</td>\n",
       "      <td>NaN</td>\n",
       "      <td>NaN</td>\n",
       "      <td>NaN</td>\n",
       "      <td>False</td>\n",
       "      <td>9</td>\n",
       "      <td>40</td>\n",
       "    </tr>\n",
       "    <tr>\n",
       "      <th>3</th>\n",
       "      <td>3</td>\n",
       "      <td>5ef78401ce2f7f58fcd0a365</td>\n",
       "      <td>pilot0</td>\n",
       "      <td>1494-029e2297-bd3f-4cfe-be00-d06d36724e4e</td>\n",
       "      <td>1.593279e+12</td>\n",
       "      <td>3E47SOBEYUW78Q4UOK6BV9E6YCECIM</td>\n",
       "      <td>C</td>\n",
       "      <td>Pi</td>\n",
       "      <td>0.0</td>\n",
       "      <td>2</td>\n",
       "      <td>...</td>\n",
       "      <td>21993</td>\n",
       "      <td>57512</td>\n",
       "      <td>chatMessage</td>\n",
       "      <td>False</td>\n",
       "      <td>NaN</td>\n",
       "      <td>NaN</td>\n",
       "      <td>NaN</td>\n",
       "      <td>False</td>\n",
       "      <td>23</td>\n",
       "      <td>99</td>\n",
       "    </tr>\n",
       "    <tr>\n",
       "      <th>4</th>\n",
       "      <td>4</td>\n",
       "      <td>5ef7842ace2f7f58fcd0a36e</td>\n",
       "      <td>pilot0</td>\n",
       "      <td>1494-029e2297-bd3f-4cfe-be00-d06d36724e4e</td>\n",
       "      <td>1.593280e+12</td>\n",
       "      <td>3E47SOBEYUW78Q4UOK6BV9E6YCECIM</td>\n",
       "      <td>C</td>\n",
       "      <td>Pi</td>\n",
       "      <td>0.0</td>\n",
       "      <td>4</td>\n",
       "      <td>...</td>\n",
       "      <td>24789</td>\n",
       "      <td>98193</td>\n",
       "      <td>chatMessage</td>\n",
       "      <td>False</td>\n",
       "      <td>NaN</td>\n",
       "      <td>NaN</td>\n",
       "      <td>NaN</td>\n",
       "      <td>False</td>\n",
       "      <td>17</td>\n",
       "      <td>78</td>\n",
       "    </tr>\n",
       "  </tbody>\n",
       "</table>\n",
       "<p>5 rows × 22 columns</p>\n",
       "</div>"
      ],
      "text/plain": [
       "   Unnamed: 0                       _id iterationName  \\\n",
       "0           0  5ef78389ce2f7f58fcd0a350        pilot0   \n",
       "1           1  5ef783bace2f7f58fcd0a358        pilot0   \n",
       "2           2  5ef783e4ce2f7f58fcd0a35e        pilot0   \n",
       "3           3  5ef78401ce2f7f58fcd0a365        pilot0   \n",
       "4           4  5ef7842ace2f7f58fcd0a36e        pilot0   \n",
       "\n",
       "                                      gameid          time  \\\n",
       "0  1494-029e2297-bd3f-4cfe-be00-d06d36724e4e  1.593279e+12   \n",
       "1  1494-029e2297-bd3f-4cfe-be00-d06d36724e4e  1.593279e+12   \n",
       "2  1494-029e2297-bd3f-4cfe-be00-d06d36724e4e  1.593279e+12   \n",
       "3  1494-029e2297-bd3f-4cfe-be00-d06d36724e4e  1.593279e+12   \n",
       "4  1494-029e2297-bd3f-4cfe-be00-d06d36724e4e  1.593280e+12   \n",
       "\n",
       "                     assignmentId leftTarget rightTarget  trialNum  turnNum  \\\n",
       "0  3E47SOBEYUW78Q4UOK6BV9E6YCECIM   vertical  horizontal       NaN        0   \n",
       "1  3E47SOBEYUW78Q4UOK6BV9E6YCECIM   vertical  horizontal       NaN        0   \n",
       "2  3E47SOBEYUW78Q4UOK6BV9E6YCECIM          C          Pi       0.0        0   \n",
       "3  3E47SOBEYUW78Q4UOK6BV9E6YCECIM          C          Pi       0.0        2   \n",
       "4  3E47SOBEYUW78Q4UOK6BV9E6YCECIM          C          Pi       0.0        4   \n",
       "\n",
       "   ... timeElapsedInTurn timeElapsedInTrial    eventType  practice  \\\n",
       "0  ...             60567              60567  chatMessage      True   \n",
       "1  ...             20018              20018  chatMessage      True   \n",
       "2  ...             28166              28166  chatMessage     False   \n",
       "3  ...             21993              57512  chatMessage     False   \n",
       "4  ...             24789              98193  chatMessage     False   \n",
       "\n",
       "  individualPracticeAttempts  turnStartTime  trialStartTime  flagged  \\\n",
       "0                        NaN            NaN             NaN    False   \n",
       "1                        NaN            NaN             NaN    False   \n",
       "2                        NaN            NaN             NaN    False   \n",
       "3                        NaN            NaN             NaN    False   \n",
       "4                        NaN            NaN             NaN    False   \n",
       "\n",
       "   word_count  char_count  \n",
       "0          15          63  \n",
       "1          13          70  \n",
       "2           9          40  \n",
       "3          23          99  \n",
       "4          17          78  \n",
       "\n",
       "[5 rows x 22 columns]"
      ]
     },
     "execution_count": 46,
     "metadata": {},
     "output_type": "execute_result"
    }
   ],
   "source": [
    "# Here is a preview of the df_chat dataframe\n",
    "df_chat.head()"
   ]
  },
  {
   "cell_type": "code",
   "execution_count": 47,
   "id": "d51b4859",
   "metadata": {},
   "outputs": [
    {
     "data": {
      "text/html": [
       "<div>\n",
       "<style scoped>\n",
       "    .dataframe tbody tr th:only-of-type {\n",
       "        vertical-align: middle;\n",
       "    }\n",
       "\n",
       "    .dataframe tbody tr th {\n",
       "        vertical-align: top;\n",
       "    }\n",
       "\n",
       "    .dataframe thead th {\n",
       "        text-align: right;\n",
       "    }\n",
       "</style>\n",
       "<table border=\"1\" class=\"dataframe\">\n",
       "  <thead>\n",
       "    <tr style=\"text-align: right;\">\n",
       "      <th></th>\n",
       "      <th>Unnamed: 0</th>\n",
       "      <th>_id</th>\n",
       "      <th>iterationName</th>\n",
       "      <th>gameid</th>\n",
       "      <th>time</th>\n",
       "      <th>assignmentId</th>\n",
       "      <th>leftTarget</th>\n",
       "      <th>rightTarget</th>\n",
       "      <th>trialNum</th>\n",
       "      <th>turnNum</th>\n",
       "      <th>...</th>\n",
       "      <th>individualPracticeAttempts</th>\n",
       "      <th>flagged</th>\n",
       "      <th>time_final_block</th>\n",
       "      <th>total_block_duration</th>\n",
       "      <th>total_chat_duration</th>\n",
       "      <th>total_duration</th>\n",
       "      <th>diff</th>\n",
       "      <th>word_count</th>\n",
       "      <th>char_count</th>\n",
       "      <th>n_messages</th>\n",
       "    </tr>\n",
       "  </thead>\n",
       "  <tbody>\n",
       "    <tr>\n",
       "      <th>0</th>\n",
       "      <td>0</td>\n",
       "      <td>5ef783a1ce2f7f58fcd0a354</td>\n",
       "      <td>pilot0</td>\n",
       "      <td>1494-029e2297-bd3f-4cfe-be00-d06d36724e4e</td>\n",
       "      <td>1.593279e+12</td>\n",
       "      <td>3E47SOBEYUW78Q4UOK6BV9E6YCECIM</td>\n",
       "      <td>vertical</td>\n",
       "      <td>horizontal</td>\n",
       "      <td>NaN</td>\n",
       "      <td>0</td>\n",
       "      <td>...</td>\n",
       "      <td>NaN</td>\n",
       "      <td>False</td>\n",
       "      <td>NaN</td>\n",
       "      <td>NaN</td>\n",
       "      <td>NaN</td>\n",
       "      <td>NaN</td>\n",
       "      <td>NaN</td>\n",
       "      <td>NaN</td>\n",
       "      <td>NaN</td>\n",
       "      <td>NaN</td>\n",
       "    </tr>\n",
       "    <tr>\n",
       "      <th>1</th>\n",
       "      <td>1</td>\n",
       "      <td>5ef783c3ce2f7f58fcd0a35b</td>\n",
       "      <td>pilot0</td>\n",
       "      <td>1494-029e2297-bd3f-4cfe-be00-d06d36724e4e</td>\n",
       "      <td>1.593279e+12</td>\n",
       "      <td>3E47SOBEYUW78Q4UOK6BV9E6YCECIM</td>\n",
       "      <td>vertical</td>\n",
       "      <td>horizontal</td>\n",
       "      <td>NaN</td>\n",
       "      <td>0</td>\n",
       "      <td>...</td>\n",
       "      <td>NaN</td>\n",
       "      <td>False</td>\n",
       "      <td>NaN</td>\n",
       "      <td>NaN</td>\n",
       "      <td>NaN</td>\n",
       "      <td>NaN</td>\n",
       "      <td>NaN</td>\n",
       "      <td>NaN</td>\n",
       "      <td>NaN</td>\n",
       "      <td>NaN</td>\n",
       "    </tr>\n",
       "    <tr>\n",
       "      <th>2</th>\n",
       "      <td>2</td>\n",
       "      <td>5ef784d6ce2f7f58fcd0a3a0</td>\n",
       "      <td>pilot0</td>\n",
       "      <td>1494-029e2297-bd3f-4cfe-be00-d06d36724e4e</td>\n",
       "      <td>1.593280e+12</td>\n",
       "      <td>3E47SOBEYUW78Q4UOK6BV9E6YCECIM</td>\n",
       "      <td>C</td>\n",
       "      <td>Pi</td>\n",
       "      <td>0.0</td>\n",
       "      <td>0</td>\n",
       "      <td>...</td>\n",
       "      <td>NaN</td>\n",
       "      <td>False</td>\n",
       "      <td>270221.0</td>\n",
       "      <td>95525.0</td>\n",
       "      <td>163658.0</td>\n",
       "      <td>259183.0</td>\n",
       "      <td>11038.0</td>\n",
       "      <td>106.0</td>\n",
       "      <td>494.0</td>\n",
       "      <td>7.0</td>\n",
       "    </tr>\n",
       "    <tr>\n",
       "      <th>3</th>\n",
       "      <td>3</td>\n",
       "      <td>5ef7859cce2f7f58fcd0a3d3</td>\n",
       "      <td>pilot0</td>\n",
       "      <td>1494-029e2297-bd3f-4cfe-be00-d06d36724e4e</td>\n",
       "      <td>1.593280e+12</td>\n",
       "      <td>3E47SOBEYUW78Q4UOK6BV9E6YCECIM</td>\n",
       "      <td>L</td>\n",
       "      <td>C</td>\n",
       "      <td>1.0</td>\n",
       "      <td>0</td>\n",
       "      <td>...</td>\n",
       "      <td>NaN</td>\n",
       "      <td>False</td>\n",
       "      <td>191955.0</td>\n",
       "      <td>63542.0</td>\n",
       "      <td>120868.0</td>\n",
       "      <td>184410.0</td>\n",
       "      <td>7545.0</td>\n",
       "      <td>88.0</td>\n",
       "      <td>421.0</td>\n",
       "      <td>6.0</td>\n",
       "    </tr>\n",
       "    <tr>\n",
       "      <th>4</th>\n",
       "      <td>4</td>\n",
       "      <td>5ef7863ece2f7f58fcd0a405</td>\n",
       "      <td>pilot0</td>\n",
       "      <td>1494-029e2297-bd3f-4cfe-be00-d06d36724e4e</td>\n",
       "      <td>1.593280e+12</td>\n",
       "      <td>3E47SOBEYUW78Q4UOK6BV9E6YCECIM</td>\n",
       "      <td>L</td>\n",
       "      <td>Pi</td>\n",
       "      <td>2.0</td>\n",
       "      <td>0</td>\n",
       "      <td>...</td>\n",
       "      <td>NaN</td>\n",
       "      <td>False</td>\n",
       "      <td>157681.0</td>\n",
       "      <td>67865.0</td>\n",
       "      <td>87195.0</td>\n",
       "      <td>155060.0</td>\n",
       "      <td>2621.0</td>\n",
       "      <td>58.0</td>\n",
       "      <td>257.0</td>\n",
       "      <td>3.0</td>\n",
       "    </tr>\n",
       "  </tbody>\n",
       "</table>\n",
       "<p>5 rows × 26 columns</p>\n",
       "</div>"
      ],
      "text/plain": [
       "   Unnamed: 0                       _id iterationName  \\\n",
       "0           0  5ef783a1ce2f7f58fcd0a354        pilot0   \n",
       "1           1  5ef783c3ce2f7f58fcd0a35b        pilot0   \n",
       "2           2  5ef784d6ce2f7f58fcd0a3a0        pilot0   \n",
       "3           3  5ef7859cce2f7f58fcd0a3d3        pilot0   \n",
       "4           4  5ef7863ece2f7f58fcd0a405        pilot0   \n",
       "\n",
       "                                      gameid          time  \\\n",
       "0  1494-029e2297-bd3f-4cfe-be00-d06d36724e4e  1.593279e+12   \n",
       "1  1494-029e2297-bd3f-4cfe-be00-d06d36724e4e  1.593279e+12   \n",
       "2  1494-029e2297-bd3f-4cfe-be00-d06d36724e4e  1.593280e+12   \n",
       "3  1494-029e2297-bd3f-4cfe-be00-d06d36724e4e  1.593280e+12   \n",
       "4  1494-029e2297-bd3f-4cfe-be00-d06d36724e4e  1.593280e+12   \n",
       "\n",
       "                     assignmentId leftTarget rightTarget  trialNum  turnNum  \\\n",
       "0  3E47SOBEYUW78Q4UOK6BV9E6YCECIM   vertical  horizontal       NaN        0   \n",
       "1  3E47SOBEYUW78Q4UOK6BV9E6YCECIM   vertical  horizontal       NaN        0   \n",
       "2  3E47SOBEYUW78Q4UOK6BV9E6YCECIM          C          Pi       0.0        0   \n",
       "3  3E47SOBEYUW78Q4UOK6BV9E6YCECIM          L           C       1.0        0   \n",
       "4  3E47SOBEYUW78Q4UOK6BV9E6YCECIM          L          Pi       2.0        0   \n",
       "\n",
       "   ... individualPracticeAttempts  flagged  time_final_block  \\\n",
       "0  ...                        NaN    False               NaN   \n",
       "1  ...                        NaN    False               NaN   \n",
       "2  ...                        NaN    False          270221.0   \n",
       "3  ...                        NaN    False          191955.0   \n",
       "4  ...                        NaN    False          157681.0   \n",
       "\n",
       "   total_block_duration total_chat_duration  total_duration     diff  \\\n",
       "0                   NaN                 NaN             NaN      NaN   \n",
       "1                   NaN                 NaN             NaN      NaN   \n",
       "2               95525.0            163658.0        259183.0  11038.0   \n",
       "3               63542.0            120868.0        184410.0   7545.0   \n",
       "4               67865.0             87195.0        155060.0   2621.0   \n",
       "\n",
       "   word_count  char_count  n_messages  \n",
       "0         NaN         NaN         NaN  \n",
       "1         NaN         NaN         NaN  \n",
       "2       106.0       494.0         7.0  \n",
       "3        88.0       421.0         6.0  \n",
       "4        58.0       257.0         3.0  \n",
       "\n",
       "[5 rows x 26 columns]"
      ]
     },
     "execution_count": 47,
     "metadata": {},
     "output_type": "execute_result"
    }
   ],
   "source": [
    "# Here is a preview of the df_trial dataframe\n",
    "df_trial.head()"
   ]
  },
  {
   "cell_type": "markdown",
   "id": "b481df1b",
   "metadata": {},
   "source": [
    "## Part 1.1: Word Count and Character Count Linguistic Analyses"
   ]
  },
  {
   "cell_type": "markdown",
   "id": "d7850ee9",
   "metadata": {},
   "source": [
    "In **Part 1.1**, we will be conducting some basic linguistic analyses to understand more about our data and the messages that make up the data. The goal of this part is to get a better understanding of both the **word count** and **character count** of these messages, and how these counts changed across trials."
   ]
  },
  {
   "cell_type": "markdown",
   "id": "22ae4ee6",
   "metadata": {},
   "source": [
    "**1.1.1** We will begin by creating 2 columns in the `df_chat` dataframe. 1 column will be for the word count of the messages and the other column will be for the character count of the messages."
   ]
  },
  {
   "cell_type": "code",
   "execution_count": 5,
   "id": "5757c1fa",
   "metadata": {},
   "outputs": [],
   "source": [
    "# create a column for word count\n",
    "df_chat['word_count'] = df_chat['content'].str.split(' ').str.len()\n",
    "\n",
    "# create a column for character count\n",
    "df_chat['char_count'] = df_chat['content'].str.len()"
   ]
  },
  {
   "cell_type": "markdown",
   "id": "61142711",
   "metadata": {},
   "source": [
    "**1.1.2** We will now add the **word count** and **character count** values to the `df_trial` dataframe, which we will use for plotting these distributions at the end of this part."
   ]
  },
  {
   "cell_type": "code",
   "execution_count": 6,
   "id": "31affe90",
   "metadata": {},
   "outputs": [],
   "source": [
    "# df_chat[\"timeElapsedInTurn\"] = pd.to_numeric(df_chat['timeElapsedInTurn'])\n",
    "\n",
    "# add word count and character count to df_trial dataframe\n",
    "trial_sums = df_chat[['gameid','trialNum','word_count','char_count']].groupby(['gameid','trialNum']).sum().reset_index()\n",
    "df_trial = df_trial.merge(trial_sums, how='outer',on=['gameid','trialNum'])"
   ]
  },
  {
   "cell_type": "markdown",
   "id": "d7161d09",
   "metadata": {},
   "source": [
    "**1.1.3** Finally, we will count the number of messages that were sent by using the `df_chat` dataframe. We will then add this number to the `df_trial` dataframe."
   ]
  },
  {
   "cell_type": "code",
   "execution_count": null,
   "id": "f7861c91",
   "metadata": {},
   "outputs": [],
   "source": [
    "# message counts\n",
    "counts = df_chat.groupby(['gameid','trialNum'])[['iterationName']].count().reset_index()\\\n",
    "    .rename(columns={'iterationName':'n_messages'})\n",
    "df_trial = df_trial.merge(counts, how='left', on=['gameid','trialNum'])"
   ]
  },
  {
   "cell_type": "markdown",
   "id": "a6a6386b",
   "metadata": {},
   "source": [
    "### Part 1.2: Visualizing Word Count and Character Count"
   ]
  },
  {
   "cell_type": "markdown",
   "id": "f8756e8f",
   "metadata": {},
   "source": [
    "We just conducted some basic linguistic analyses. Now, in **Part 1.2**,  will visualize the analyses we just completed. The following plots shows the distribution of the mean word count and mean character count so that we can understand how these counts change across repetition."
   ]
  },
  {
   "cell_type": "markdown",
   "id": "f7b2c43c",
   "metadata": {},
   "source": [
    "**1.2.1** Here, we are first finding the mean for each repetition."
   ]
  },
  {
   "cell_type": "code",
   "execution_count": null,
   "id": "e613536e",
   "metadata": {},
   "outputs": [],
   "source": [
    "# group by repNum and create means\n",
    "repNum_grouped = df_trial.groupby('repNum')\n",
    "means = repNum_grouped.mean()"
   ]
  },
  {
   "cell_type": "markdown",
   "id": "664b0a9b",
   "metadata": {},
   "source": [
    "**1.2.2** Here, we are plotting **word count** over repetitions."
   ]
  },
  {
   "cell_type": "code",
   "execution_count": 41,
   "id": "429f36b2",
   "metadata": {},
   "outputs": [
    {
     "data": {
      "image/png": "[encoded data removed]",
      "text/plain": [
       "<Figure size 432x288 with 1 Axes>"
      ]
     },
     "metadata": {},
     "output_type": "display_data"
    }
   ],
   "source": [
    "# plot word count over repetitions\n",
    "repNum_grouped = df_trial.groupby('repNum')\n",
    "means = repNum_grouped.mean()\n",
    "\n",
    "plt.plot(means['word_count'], linestyle='-', marker='o', markersize=10)\n",
    "plt.xlabel('repetition')\n",
    "plt.ylabel('words')\n",
    "#plt.xlim(0.5, 4.5)\n",
    "plt.ylim(0, 70)\n",
    "plt.show()"
   ]
  },
  {
   "cell_type": "markdown",
   "id": "c299dd97",
   "metadata": {},
   "source": [
    "**1.2.3** Here we are plotting **character count** over reptitions."
   ]
  },
  {
   "cell_type": "code",
   "execution_count": 40,
   "id": "d80f9136",
   "metadata": {},
   "outputs": [
    {
     "data": {
      "image/png": "[encoded data removed]",
      "text/plain": [
       "<Figure size 432x288 with 1 Axes>"
      ]
     },
     "metadata": {},
     "output_type": "display_data"
    }
   ],
   "source": [
    "# plot char count over repetitions\n",
    "plt.plot(means['char_count'], linestyle='-', marker='o', markersize=10)\n",
    "plt.xlabel('repetition')\n",
    "plt.ylabel('characters')\n",
    "#plt.xlim(0.75, 4.25)\n",
    "plt.ylim(0, 350)\n",
    "plt.show()"
   ]
  },
  {
   "cell_type": "markdown",
   "id": "26b89aea",
   "metadata": {},
   "source": [
    "# Section 2: Analyzing Referring Expressions \n",
    "\n",
    "While our analyses so far tell us about language use in general, we're primarily interested in how the expressions used to refer to certain entities in our experiment change over time. In particular, we want to know when people transition from providing instructions about lower-level, block by block placements, to higher-level tower abstractions. While we could in principle use NLP techniques to extract noun phrases and assess their meaning, people might use a wide variety of expressions to refer to blocks and towers.  \n",
    "\n",
    "Because of this, we asked naive raters to **identify the referring expressions** used in each message, as well as the **number of abstractions at each level (block vs. tower)**. In **Section 2**, we will analyze these referring expressions."
   ]
  },
  {
   "cell_type": "markdown",
   "id": "489c4507",
   "metadata": {},
   "source": [
    "## Part 2.1: Preview the Data\n",
    "\n",
    "First, we will load in these referring expression annotations that were completed by the naive raters."
   ]
  },
  {
   "cell_type": "code",
   "execution_count": 48,
   "id": "c428e65d",
   "metadata": {},
   "outputs": [],
   "source": [
    "# Run this code to read in the referring expressions dataframe\n",
    "df_ref_exps = pd.read_csv('data/df_ref_exps.csv')"
   ]
  },
  {
   "cell_type": "markdown",
   "id": "664d1d00",
   "metadata": {},
   "source": [
    "*Note to anonymize `workerID` before presenting this notebook*"
   ]
  },
  {
   "cell_type": "markdown",
   "id": "c2e85283",
   "metadata": {},
   "source": [
    "#### Here is a preview of the `df_ref_exps` dataframe, which includes the referring expressions annotations:"
   ]
  },
  {
   "cell_type": "code",
   "execution_count": 9,
   "id": "56909813",
   "metadata": {},
   "outputs": [
    {
     "data": {
      "text/html": [
       "<div>\n",
       "<style scoped>\n",
       "    .dataframe tbody tr th:only-of-type {\n",
       "        vertical-align: middle;\n",
       "    }\n",
       "\n",
       "    .dataframe tbody tr th {\n",
       "        vertical-align: top;\n",
       "    }\n",
       "\n",
       "    .dataframe thead th {\n",
       "        text-align: right;\n",
       "    }\n",
       "</style>\n",
       "<table border=\"1\" class=\"dataframe\">\n",
       "  <thead>\n",
       "    <tr style=\"text-align: right;\">\n",
       "      <th></th>\n",
       "      <th>Unnamed: 0</th>\n",
       "      <th>dyad_gameid</th>\n",
       "      <th>trial_num</th>\n",
       "      <th>turn_num</th>\n",
       "      <th>message_id</th>\n",
       "      <th>workerID</th>\n",
       "      <th>block</th>\n",
       "      <th>phrases</th>\n",
       "      <th>scene</th>\n",
       "      <th>tower</th>\n",
       "      <th>message_num</th>\n",
       "      <th>message</th>\n",
       "      <th>content</th>\n",
       "      <th>refExps</th>\n",
       "      <th>leftTarget</th>\n",
       "      <th>rightTarget</th>\n",
       "      <th>tower_pair</th>\n",
       "      <th>rep</th>\n",
       "    </tr>\n",
       "  </thead>\n",
       "  <tbody>\n",
       "    <tr>\n",
       "      <th>0</th>\n",
       "      <td>0</td>\n",
       "      <td>0110-5784fec9-109a-4d7a-a343-4820f4d42144</td>\n",
       "      <td>0.0</td>\n",
       "      <td>0</td>\n",
       "      <td>e5b3a67b-aa0e-563e-efe1-633cb87c6dd3</td>\n",
       "      <td>julia</td>\n",
       "      <td>2</td>\n",
       "      <td>two blue</td>\n",
       "      <td>0.0</td>\n",
       "      <td>0</td>\n",
       "      <td>0</td>\n",
       "      <td>two blue blocks on left and right side of left...</td>\n",
       "      <td>two blue</td>\n",
       "      <td>NaN</td>\n",
       "      <td>L</td>\n",
       "      <td>Pi</td>\n",
       "      <td>L_Pi</td>\n",
       "      <td>1</td>\n",
       "    </tr>\n",
       "    <tr>\n",
       "      <th>1</th>\n",
       "      <td>1</td>\n",
       "      <td>0110-5784fec9-109a-4d7a-a343-4820f4d42144</td>\n",
       "      <td>0.0</td>\n",
       "      <td>0</td>\n",
       "      <td>e5b3a67b-aa0e-563e-efe1-633cb87c6dd3</td>\n",
       "      <td>justin</td>\n",
       "      <td>2</td>\n",
       "      <td>two blue blocks</td>\n",
       "      <td>0.0</td>\n",
       "      <td>0</td>\n",
       "      <td>0</td>\n",
       "      <td>two blue blocks on left and right side of left...</td>\n",
       "      <td>two blue blocks</td>\n",
       "      <td>NaN</td>\n",
       "      <td>L</td>\n",
       "      <td>Pi</td>\n",
       "      <td>L_Pi</td>\n",
       "      <td>1</td>\n",
       "    </tr>\n",
       "    <tr>\n",
       "      <th>2</th>\n",
       "      <td>2</td>\n",
       "      <td>0110-5784fec9-109a-4d7a-a343-4820f4d42144</td>\n",
       "      <td>0.0</td>\n",
       "      <td>2</td>\n",
       "      <td>abbd2fe0-e095-bbfd-4c26-52d8b6eaf241</td>\n",
       "      <td>julia</td>\n",
       "      <td>2</td>\n",
       "      <td>two red</td>\n",
       "      <td>0.0</td>\n",
       "      <td>0</td>\n",
       "      <td>1</td>\n",
       "      <td>two red block on top of left blue block just p...</td>\n",
       "      <td>two red</td>\n",
       "      <td>NaN</td>\n",
       "      <td>L</td>\n",
       "      <td>Pi</td>\n",
       "      <td>L_Pi</td>\n",
       "      <td>1</td>\n",
       "    </tr>\n",
       "    <tr>\n",
       "      <th>3</th>\n",
       "      <td>3</td>\n",
       "      <td>0110-5784fec9-109a-4d7a-a343-4820f4d42144</td>\n",
       "      <td>0.0</td>\n",
       "      <td>2</td>\n",
       "      <td>abbd2fe0-e095-bbfd-4c26-52d8b6eaf241</td>\n",
       "      <td>justin</td>\n",
       "      <td>2</td>\n",
       "      <td>two red block</td>\n",
       "      <td>0.0</td>\n",
       "      <td>0</td>\n",
       "      <td>1</td>\n",
       "      <td>two red block on top of left blue block just p...</td>\n",
       "      <td>two red block</td>\n",
       "      <td>NaN</td>\n",
       "      <td>L</td>\n",
       "      <td>Pi</td>\n",
       "      <td>L_Pi</td>\n",
       "      <td>1</td>\n",
       "    </tr>\n",
       "    <tr>\n",
       "      <th>4</th>\n",
       "      <td>4</td>\n",
       "      <td>0110-5784fec9-109a-4d7a-a343-4820f4d42144</td>\n",
       "      <td>0.0</td>\n",
       "      <td>4</td>\n",
       "      <td>d39dd7ca-1fde-56c1-9d41-a10b16b3d17d</td>\n",
       "      <td>julia</td>\n",
       "      <td>2</td>\n",
       "      <td>two red</td>\n",
       "      <td>0.0</td>\n",
       "      <td>0</td>\n",
       "      <td>2</td>\n",
       "      <td>two red block one space apart on right line</td>\n",
       "      <td>two red</td>\n",
       "      <td>NaN</td>\n",
       "      <td>L</td>\n",
       "      <td>Pi</td>\n",
       "      <td>L_Pi</td>\n",
       "      <td>1</td>\n",
       "    </tr>\n",
       "  </tbody>\n",
       "</table>\n",
       "</div>"
      ],
      "text/plain": [
       "   Unnamed: 0                                dyad_gameid  trial_num  turn_num  \\\n",
       "0           0  0110-5784fec9-109a-4d7a-a343-4820f4d42144        0.0         0   \n",
       "1           1  0110-5784fec9-109a-4d7a-a343-4820f4d42144        0.0         0   \n",
       "2           2  0110-5784fec9-109a-4d7a-a343-4820f4d42144        0.0         2   \n",
       "3           3  0110-5784fec9-109a-4d7a-a343-4820f4d42144        0.0         2   \n",
       "4           4  0110-5784fec9-109a-4d7a-a343-4820f4d42144        0.0         4   \n",
       "\n",
       "                             message_id workerID  block          phrases  \\\n",
       "0  e5b3a67b-aa0e-563e-efe1-633cb87c6dd3    julia      2         two blue   \n",
       "1  e5b3a67b-aa0e-563e-efe1-633cb87c6dd3   justin      2  two blue blocks   \n",
       "2  abbd2fe0-e095-bbfd-4c26-52d8b6eaf241    julia      2          two red   \n",
       "3  abbd2fe0-e095-bbfd-4c26-52d8b6eaf241   justin      2    two red block   \n",
       "4  d39dd7ca-1fde-56c1-9d41-a10b16b3d17d    julia      2          two red   \n",
       "\n",
       "   scene  tower  message_num  \\\n",
       "0    0.0      0            0   \n",
       "1    0.0      0            0   \n",
       "2    0.0      0            1   \n",
       "3    0.0      0            1   \n",
       "4    0.0      0            2   \n",
       "\n",
       "                                             message          content refExps  \\\n",
       "0  two blue blocks on left and right side of left...         two blue     NaN   \n",
       "1  two blue blocks on left and right side of left...  two blue blocks     NaN   \n",
       "2  two red block on top of left blue block just p...          two red     NaN   \n",
       "3  two red block on top of left blue block just p...    two red block     NaN   \n",
       "4        two red block one space apart on right line          two red     NaN   \n",
       "\n",
       "  leftTarget rightTarget tower_pair  rep  \n",
       "0          L          Pi       L_Pi    1  \n",
       "1          L          Pi       L_Pi    1  \n",
       "2          L          Pi       L_Pi    1  \n",
       "3          L          Pi       L_Pi    1  \n",
       "4          L          Pi       L_Pi    1  "
      ]
     },
     "execution_count": 9,
     "metadata": {},
     "output_type": "execute_result"
    }
   ],
   "source": [
    "# Run this code to preview the df_ref_exps dataframe\n",
    "df_ref_exps.head()"
   ]
  },
  {
   "cell_type": "markdown",
   "id": "71666c68",
   "metadata": {},
   "source": [
    "**2.1.1** Here, the goal is to preview the referring expressions that were identified by the raters. We are particularly interested in the `message`, `content`, `block`, and `tower` columns to do this."
   ]
  },
  {
   "cell_type": "code",
   "execution_count": 10,
   "id": "f84de4e6",
   "metadata": {},
   "outputs": [
    {
     "data": {
      "text/html": [
       "<div>\n",
       "<style scoped>\n",
       "    .dataframe tbody tr th:only-of-type {\n",
       "        vertical-align: middle;\n",
       "    }\n",
       "\n",
       "    .dataframe tbody tr th {\n",
       "        vertical-align: top;\n",
       "    }\n",
       "\n",
       "    .dataframe thead th {\n",
       "        text-align: right;\n",
       "    }\n",
       "</style>\n",
       "<table border=\"1\" class=\"dataframe\">\n",
       "  <thead>\n",
       "    <tr style=\"text-align: right;\">\n",
       "      <th></th>\n",
       "      <th>message</th>\n",
       "      <th>content</th>\n",
       "      <th>block</th>\n",
       "      <th>tower</th>\n",
       "    </tr>\n",
       "  </thead>\n",
       "  <tbody>\n",
       "    <tr>\n",
       "      <th>0</th>\n",
       "      <td>two blue blocks on left and right side of left...</td>\n",
       "      <td>two blue</td>\n",
       "      <td>2</td>\n",
       "      <td>0</td>\n",
       "    </tr>\n",
       "    <tr>\n",
       "      <th>1</th>\n",
       "      <td>two blue blocks on left and right side of left...</td>\n",
       "      <td>two blue blocks</td>\n",
       "      <td>2</td>\n",
       "      <td>0</td>\n",
       "    </tr>\n",
       "    <tr>\n",
       "      <th>2</th>\n",
       "      <td>two red block on top of left blue block just p...</td>\n",
       "      <td>two red</td>\n",
       "      <td>2</td>\n",
       "      <td>0</td>\n",
       "    </tr>\n",
       "    <tr>\n",
       "      <th>3</th>\n",
       "      <td>two red block on top of left blue block just p...</td>\n",
       "      <td>two red block</td>\n",
       "      <td>2</td>\n",
       "      <td>0</td>\n",
       "    </tr>\n",
       "    <tr>\n",
       "      <th>4</th>\n",
       "      <td>two red block one space apart on right line</td>\n",
       "      <td>two red</td>\n",
       "      <td>2</td>\n",
       "      <td>0</td>\n",
       "    </tr>\n",
       "  </tbody>\n",
       "</table>\n",
       "</div>"
      ],
      "text/plain": [
       "                                             message          content  block  \\\n",
       "0  two blue blocks on left and right side of left...         two blue      2   \n",
       "1  two blue blocks on left and right side of left...  two blue blocks      2   \n",
       "2  two red block on top of left blue block just p...          two red      2   \n",
       "3  two red block on top of left blue block just p...    two red block      2   \n",
       "4        two red block one space apart on right line          two red      2   \n",
       "\n",
       "   tower  \n",
       "0      0  \n",
       "1      0  \n",
       "2      0  \n",
       "3      0  \n",
       "4      0  "
      ]
     },
     "execution_count": 10,
     "metadata": {},
     "output_type": "execute_result"
    }
   ],
   "source": [
    "# Edit this code to look at the collection of referring expressions identified by raters\n",
    "df_ref_exps[['message','content','block','tower']].head()"
   ]
  },
  {
   "cell_type": "markdown",
   "id": "dfac9f51",
   "metadata": {},
   "source": [
    "**2.1.2** Here we want to convert the `content` column to be of type \"string.\""
   ]
  },
  {
   "cell_type": "code",
   "execution_count": 49,
   "id": "e44a8b82",
   "metadata": {},
   "outputs": [],
   "source": [
    "# Edit this code to conver the content column to be type string\n",
    "df_ref_exps.loc[:,'content'] = df_ref_exps.loc[:,'content'].astype(str)"
   ]
  },
  {
   "cell_type": "markdown",
   "id": "e15d1f0b",
   "metadata": {},
   "source": [
    "## Part 2.2: Data Preprocessing\n",
    "\n",
    "Now, we will preprocess the referring expressions dataframe. We have 3 goals in this section:\n",
    "1. **Remove Stop Words**: Stop words are XXX. In analyzing these referring expressions, the stop words make no difference to our analyses, therefore we want to remove them so as to not add extra noise.\n",
    "2. **Convert Number Words**: Number words are words that are used instead of numbers. For example, if someone said \"two\" instead of using the number 2. We want to convert these number words to numbers because the difference between these words and the actual numbers does not matter in our case for analysis.\n",
    "3. **Lemmatize Words**: Lemmatizing words means sorting or grouping words so as to obtain the stem of the word. For example, we want the phrases *\"two blue block\"* and *\"two blue blocks\"* to be treated the same. To do this, we must convert words into their stem word.\n",
    "\n",
    "Each of these three goals are seen as separate problems below. Please go through each step in order, and read the detailed instructions for that goal before beginning.\n",
    "\n",
    "It is important to note that there exists NLP processing libraries that can be used when preprocessing data. To execute our 3 goals listed above, we will be using `NLTK`, which stands for \"Natural Language Toolkit.\" We downloaded this package in the beginning of the notebook."
   ]
  },
  {
   "cell_type": "markdown",
   "id": "04d5e730",
   "metadata": {},
   "source": [
    "### Goal 1: Remove Stop Words"
   ]
  },
  {
   "cell_type": "markdown",
   "id": "46a7ab5b",
   "metadata": {},
   "source": [
    "**2.2.1** First, we will begin by **removing stop words**."
   ]
  },
  {
   "cell_type": "code",
   "execution_count": 12,
   "id": "ea941bd5",
   "metadata": {},
   "outputs": [
    {
     "data": {
      "text/plain": [
       "0           two blue\n",
       "1    two blue blocks\n",
       "2            two red\n",
       "3      two red block\n",
       "4            two red\n",
       "Name: content, dtype: object"
      ]
     },
     "execution_count": 12,
     "metadata": {},
     "output_type": "execute_result"
    }
   ],
   "source": [
    "# remove stop words\n",
    "from nltk.corpus import stopwords\n",
    "stop = stopwords.words('english')\n",
    "\n",
    "df_ref_exps['content'] = df_ref_exps['content'].apply(lambda x: ' '.join([word for word in x.split() if word not in (stop)]))\n",
    "df_ref_exps['content'].head()"
   ]
  },
  {
   "cell_type": "markdown",
   "id": "9f682bec",
   "metadata": {},
   "source": [
    "### Goal 2: Convert Number Words"
   ]
  },
  {
   "cell_type": "markdown",
   "id": "cbdb503f",
   "metadata": {},
   "source": [
    "**2.2.2** Next, we will **convert number words**."
   ]
  },
  {
   "cell_type": "code",
   "execution_count": 13,
   "id": "2d39ff6b",
   "metadata": {},
   "outputs": [],
   "source": [
    "# convert number words\n",
    "\n",
    "def num_2_words(sentence):\n",
    "    out = \"\"\n",
    "    for word in sentence.split():\n",
    "        try:\n",
    "            o = num2words(word)\n",
    "        except:\n",
    "            o = word\n",
    "        out = out+\" \"+ o\n",
    "    return out\n",
    "\n",
    "df_ref_exps['content'] = df_ref_exps['content'].apply(lambda x: num_2_words(x))"
   ]
  },
  {
   "cell_type": "markdown",
   "id": "65529441",
   "metadata": {},
   "source": [
    "### Goal 3: Lemmatize Words"
   ]
  },
  {
   "cell_type": "markdown",
   "id": "67010909",
   "metadata": {},
   "source": [
    "**2.2.3** Our final step will be to **lemmatize words**."
   ]
  },
  {
   "cell_type": "code",
   "execution_count": 14,
   "id": "c623ce1e",
   "metadata": {},
   "outputs": [
    {
     "data": {
      "text/html": [
       "<div>\n",
       "<style scoped>\n",
       "    .dataframe tbody tr th:only-of-type {\n",
       "        vertical-align: middle;\n",
       "    }\n",
       "\n",
       "    .dataframe tbody tr th {\n",
       "        vertical-align: top;\n",
       "    }\n",
       "\n",
       "    .dataframe thead th {\n",
       "        text-align: right;\n",
       "    }\n",
       "</style>\n",
       "<table border=\"1\" class=\"dataframe\">\n",
       "  <thead>\n",
       "    <tr style=\"text-align: right;\">\n",
       "      <th></th>\n",
       "      <th>message</th>\n",
       "      <th>content</th>\n",
       "      <th>BOW_lemmatized</th>\n",
       "    </tr>\n",
       "  </thead>\n",
       "  <tbody>\n",
       "    <tr>\n",
       "      <th>0</th>\n",
       "      <td>two blue blocks on left and right side of left...</td>\n",
       "      <td>two blue</td>\n",
       "      <td>[TWO, BLUE]</td>\n",
       "    </tr>\n",
       "    <tr>\n",
       "      <th>1</th>\n",
       "      <td>two blue blocks on left and right side of left...</td>\n",
       "      <td>two blue blocks</td>\n",
       "      <td>[TWO, BLUE, BLOCK]</td>\n",
       "    </tr>\n",
       "    <tr>\n",
       "      <th>2</th>\n",
       "      <td>two red block on top of left blue block just p...</td>\n",
       "      <td>two red</td>\n",
       "      <td>[TWO, RED]</td>\n",
       "    </tr>\n",
       "    <tr>\n",
       "      <th>3</th>\n",
       "      <td>two red block on top of left blue block just p...</td>\n",
       "      <td>two red block</td>\n",
       "      <td>[TWO, RED, BLOCK]</td>\n",
       "    </tr>\n",
       "    <tr>\n",
       "      <th>4</th>\n",
       "      <td>two red block one space apart on right line</td>\n",
       "      <td>two red</td>\n",
       "      <td>[TWO, RED]</td>\n",
       "    </tr>\n",
       "  </tbody>\n",
       "</table>\n",
       "</div>"
      ],
      "text/plain": [
       "                                             message           content  \\\n",
       "0  two blue blocks on left and right side of left...          two blue   \n",
       "1  two blue blocks on left and right side of left...   two blue blocks   \n",
       "2  two red block on top of left blue block just p...           two red   \n",
       "3  two red block on top of left blue block just p...     two red block   \n",
       "4        two red block one space apart on right line           two red   \n",
       "\n",
       "       BOW_lemmatized  \n",
       "0         [TWO, BLUE]  \n",
       "1  [TWO, BLUE, BLOCK]  \n",
       "2          [TWO, RED]  \n",
       "3   [TWO, RED, BLOCK]  \n",
       "4          [TWO, RED]  "
      ]
     },
     "execution_count": 14,
     "metadata": {},
     "output_type": "execute_result"
    }
   ],
   "source": [
    "# lemmatize\n",
    "\n",
    "tokenizer = RegexpTokenizer(r'\\w+')\n",
    "w_tokenizer = nltk.tokenize.WhitespaceTokenizer()\n",
    "lemmatizer = nltk.stem.WordNetLemmatizer()\n",
    "\n",
    "def lemmatize_text(text):\n",
    "    return [lemmatizer.lemmatize(w) for w in tokenizer.tokenize(text)]\n",
    "\n",
    "df_ref_exps['BOW_lemmatized'] = df_ref_exps['content'].apply(lemmatize_text)\n",
    "df_ref_exps['BOW_lemmatized'] = df_ref_exps['BOW_lemmatized'].apply(lambda x: [i.upper() for i in x])\n",
    "\n",
    "df_ref_exps[['message','content','BOW_lemmatized']].head()"
   ]
  },
  {
   "cell_type": "code",
   "execution_count": 15,
   "id": "9703d58e",
   "metadata": {},
   "outputs": [
    {
     "data": {
      "text/html": [
       "<div>\n",
       "<style scoped>\n",
       "    .dataframe tbody tr th:only-of-type {\n",
       "        vertical-align: middle;\n",
       "    }\n",
       "\n",
       "    .dataframe tbody tr th {\n",
       "        vertical-align: top;\n",
       "    }\n",
       "\n",
       "    .dataframe thead th {\n",
       "        text-align: right;\n",
       "    }\n",
       "</style>\n",
       "<table border=\"1\" class=\"dataframe\">\n",
       "  <thead>\n",
       "    <tr style=\"text-align: right;\">\n",
       "      <th></th>\n",
       "      <th>Unnamed: 0</th>\n",
       "      <th>dyad_gameid</th>\n",
       "      <th>trial_num</th>\n",
       "      <th>turn_num</th>\n",
       "      <th>message_id</th>\n",
       "      <th>workerID</th>\n",
       "      <th>block</th>\n",
       "      <th>phrases</th>\n",
       "      <th>scene</th>\n",
       "      <th>tower</th>\n",
       "      <th>message_num</th>\n",
       "      <th>message</th>\n",
       "      <th>content</th>\n",
       "      <th>refExps</th>\n",
       "      <th>leftTarget</th>\n",
       "      <th>rightTarget</th>\n",
       "      <th>tower_pair</th>\n",
       "      <th>rep</th>\n",
       "      <th>BOW_lemmatized</th>\n",
       "      <th>word_freq</th>\n",
       "    </tr>\n",
       "  </thead>\n",
       "  <tbody>\n",
       "    <tr>\n",
       "      <th>0</th>\n",
       "      <td>0</td>\n",
       "      <td>0110-5784fec9-109a-4d7a-a343-4820f4d42144</td>\n",
       "      <td>0.0</td>\n",
       "      <td>0</td>\n",
       "      <td>e5b3a67b-aa0e-563e-efe1-633cb87c6dd3</td>\n",
       "      <td>julia</td>\n",
       "      <td>2</td>\n",
       "      <td>two blue</td>\n",
       "      <td>0.0</td>\n",
       "      <td>0</td>\n",
       "      <td>0</td>\n",
       "      <td>two blue blocks on left and right side of left...</td>\n",
       "      <td>two blue</td>\n",
       "      <td>NaN</td>\n",
       "      <td>L</td>\n",
       "      <td>Pi</td>\n",
       "      <td>L_Pi</td>\n",
       "      <td>1</td>\n",
       "      <td>[TWO, BLUE]</td>\n",
       "      <td>{'TWO': 1, 'BLUE': 1}</td>\n",
       "    </tr>\n",
       "    <tr>\n",
       "      <th>1</th>\n",
       "      <td>1</td>\n",
       "      <td>0110-5784fec9-109a-4d7a-a343-4820f4d42144</td>\n",
       "      <td>0.0</td>\n",
       "      <td>0</td>\n",
       "      <td>e5b3a67b-aa0e-563e-efe1-633cb87c6dd3</td>\n",
       "      <td>justin</td>\n",
       "      <td>2</td>\n",
       "      <td>two blue blocks</td>\n",
       "      <td>0.0</td>\n",
       "      <td>0</td>\n",
       "      <td>0</td>\n",
       "      <td>two blue blocks on left and right side of left...</td>\n",
       "      <td>two blue blocks</td>\n",
       "      <td>NaN</td>\n",
       "      <td>L</td>\n",
       "      <td>Pi</td>\n",
       "      <td>L_Pi</td>\n",
       "      <td>1</td>\n",
       "      <td>[TWO, BLUE, BLOCK]</td>\n",
       "      <td>{'TWO': 1, 'BLUE': 1, 'BLOCK': 1}</td>\n",
       "    </tr>\n",
       "    <tr>\n",
       "      <th>2</th>\n",
       "      <td>2</td>\n",
       "      <td>0110-5784fec9-109a-4d7a-a343-4820f4d42144</td>\n",
       "      <td>0.0</td>\n",
       "      <td>2</td>\n",
       "      <td>abbd2fe0-e095-bbfd-4c26-52d8b6eaf241</td>\n",
       "      <td>julia</td>\n",
       "      <td>2</td>\n",
       "      <td>two red</td>\n",
       "      <td>0.0</td>\n",
       "      <td>0</td>\n",
       "      <td>1</td>\n",
       "      <td>two red block on top of left blue block just p...</td>\n",
       "      <td>two red</td>\n",
       "      <td>NaN</td>\n",
       "      <td>L</td>\n",
       "      <td>Pi</td>\n",
       "      <td>L_Pi</td>\n",
       "      <td>1</td>\n",
       "      <td>[TWO, RED]</td>\n",
       "      <td>{'TWO': 1, 'RED': 1}</td>\n",
       "    </tr>\n",
       "    <tr>\n",
       "      <th>3</th>\n",
       "      <td>3</td>\n",
       "      <td>0110-5784fec9-109a-4d7a-a343-4820f4d42144</td>\n",
       "      <td>0.0</td>\n",
       "      <td>2</td>\n",
       "      <td>abbd2fe0-e095-bbfd-4c26-52d8b6eaf241</td>\n",
       "      <td>justin</td>\n",
       "      <td>2</td>\n",
       "      <td>two red block</td>\n",
       "      <td>0.0</td>\n",
       "      <td>0</td>\n",
       "      <td>1</td>\n",
       "      <td>two red block on top of left blue block just p...</td>\n",
       "      <td>two red block</td>\n",
       "      <td>NaN</td>\n",
       "      <td>L</td>\n",
       "      <td>Pi</td>\n",
       "      <td>L_Pi</td>\n",
       "      <td>1</td>\n",
       "      <td>[TWO, RED, BLOCK]</td>\n",
       "      <td>{'TWO': 1, 'RED': 1, 'BLOCK': 1}</td>\n",
       "    </tr>\n",
       "    <tr>\n",
       "      <th>4</th>\n",
       "      <td>4</td>\n",
       "      <td>0110-5784fec9-109a-4d7a-a343-4820f4d42144</td>\n",
       "      <td>0.0</td>\n",
       "      <td>4</td>\n",
       "      <td>d39dd7ca-1fde-56c1-9d41-a10b16b3d17d</td>\n",
       "      <td>julia</td>\n",
       "      <td>2</td>\n",
       "      <td>two red</td>\n",
       "      <td>0.0</td>\n",
       "      <td>0</td>\n",
       "      <td>2</td>\n",
       "      <td>two red block one space apart on right line</td>\n",
       "      <td>two red</td>\n",
       "      <td>NaN</td>\n",
       "      <td>L</td>\n",
       "      <td>Pi</td>\n",
       "      <td>L_Pi</td>\n",
       "      <td>1</td>\n",
       "      <td>[TWO, RED]</td>\n",
       "      <td>{'TWO': 1, 'RED': 1}</td>\n",
       "    </tr>\n",
       "  </tbody>\n",
       "</table>\n",
       "</div>"
      ],
      "text/plain": [
       "   Unnamed: 0                                dyad_gameid  trial_num  turn_num  \\\n",
       "0           0  0110-5784fec9-109a-4d7a-a343-4820f4d42144        0.0         0   \n",
       "1           1  0110-5784fec9-109a-4d7a-a343-4820f4d42144        0.0         0   \n",
       "2           2  0110-5784fec9-109a-4d7a-a343-4820f4d42144        0.0         2   \n",
       "3           3  0110-5784fec9-109a-4d7a-a343-4820f4d42144        0.0         2   \n",
       "4           4  0110-5784fec9-109a-4d7a-a343-4820f4d42144        0.0         4   \n",
       "\n",
       "                             message_id workerID  block          phrases  \\\n",
       "0  e5b3a67b-aa0e-563e-efe1-633cb87c6dd3    julia      2         two blue   \n",
       "1  e5b3a67b-aa0e-563e-efe1-633cb87c6dd3   justin      2  two blue blocks   \n",
       "2  abbd2fe0-e095-bbfd-4c26-52d8b6eaf241    julia      2          two red   \n",
       "3  abbd2fe0-e095-bbfd-4c26-52d8b6eaf241   justin      2    two red block   \n",
       "4  d39dd7ca-1fde-56c1-9d41-a10b16b3d17d    julia      2          two red   \n",
       "\n",
       "   scene  tower  message_num  \\\n",
       "0    0.0      0            0   \n",
       "1    0.0      0            0   \n",
       "2    0.0      0            1   \n",
       "3    0.0      0            1   \n",
       "4    0.0      0            2   \n",
       "\n",
       "                                             message           content  \\\n",
       "0  two blue blocks on left and right side of left...          two blue   \n",
       "1  two blue blocks on left and right side of left...   two blue blocks   \n",
       "2  two red block on top of left blue block just p...           two red   \n",
       "3  two red block on top of left blue block just p...     two red block   \n",
       "4        two red block one space apart on right line           two red   \n",
       "\n",
       "  refExps leftTarget rightTarget tower_pair  rep      BOW_lemmatized  \\\n",
       "0     NaN          L          Pi       L_Pi    1         [TWO, BLUE]   \n",
       "1     NaN          L          Pi       L_Pi    1  [TWO, BLUE, BLOCK]   \n",
       "2     NaN          L          Pi       L_Pi    1          [TWO, RED]   \n",
       "3     NaN          L          Pi       L_Pi    1   [TWO, RED, BLOCK]   \n",
       "4     NaN          L          Pi       L_Pi    1          [TWO, RED]   \n",
       "\n",
       "                           word_freq  \n",
       "0              {'TWO': 1, 'BLUE': 1}  \n",
       "1  {'TWO': 1, 'BLUE': 1, 'BLOCK': 1}  \n",
       "2               {'TWO': 1, 'RED': 1}  \n",
       "3   {'TWO': 1, 'RED': 1, 'BLOCK': 1}  \n",
       "4               {'TWO': 1, 'RED': 1}  "
      ]
     },
     "execution_count": 15,
     "metadata": {},
     "output_type": "execute_result"
    }
   ],
   "source": [
    "df_ref_exps['word_freq'] = df_ref_exps['BOW_lemmatized'].apply(lambda x: Counter(x))\n",
    "df_ref_exps.head()"
   ]
  },
  {
   "cell_type": "code",
   "execution_count": 16,
   "id": "d50d1e12",
   "metadata": {},
   "outputs": [],
   "source": [
    "df_ref_exps['BOW_concat'] = df_ref_exps['BOW_lemmatized'].apply(lambda x: ' '.join(x))"
   ]
  },
  {
   "cell_type": "markdown",
   "id": "fe1ab7b6",
   "metadata": {},
   "source": [
    "## Part 2.3: Creating Distributions of Words"
   ]
  },
  {
   "cell_type": "markdown",
   "id": "d4caa3ea",
   "metadata": {},
   "source": [
    "In Part **2.3**, the goal is to create distributions of words. We will start this process by converting word counts to proportions of words. More specifically, in this step, we will we want to convert the amount of times a word is repeated to a probability distribution. We will then see how the porportion of words changes between trials. Our final goal is to plot this data to understand how these word frequencies change throughout trials."
   ]
  },
  {
   "cell_type": "markdown",
   "id": "1f76e27d",
   "metadata": {},
   "source": [
    "### First, we will begin by converting our word counts to proportions."
   ]
  },
  {
   "cell_type": "markdown",
   "id": "dc6486c8",
   "metadata": {},
   "source": [
    "**2.3.1** Here, our goal is to convert the word frequencies to proportions. Currently, the word counts represent the counts from all 4 of our naive raters. So that we can examine how frequently different words were used, we need to convert these values into proportions."
   ]
  },
  {
   "cell_type": "code",
   "execution_count": 17,
   "id": "169c4b23",
   "metadata": {},
   "outputs": [],
   "source": [
    "# create support\n",
    "split_words = df_ref_exps['BOW_concat'].apply(lambda x: x.split())\n",
    "all_words = list(pd.Series([st for row in split_words for st in row]).unique())\n",
    "support = {}\n",
    "for word in all_words:\n",
    "    support[word] = 0.000000001\n",
    "    \n",
    "def get_pdist(row):\n",
    "    num_words = np.sum(list(row['word_freq'].values()))\n",
    "    pdist = support.copy()\n",
    "    for i, (word, count) in enumerate(row['word_freq'].items()):\n",
    "        pdist[word] = count/num_words\n",
    "    return pdist"
   ]
  },
  {
   "cell_type": "code",
   "execution_count": 18,
   "id": "bc183cf5",
   "metadata": {},
   "outputs": [],
   "source": [
    "df_ref_exps['word_pdist'] = df_ref_exps.apply(get_pdist, axis = 1)\n",
    "df_ref_exps['word_pdist_numeric'] = df_ref_exps['word_pdist'].apply(lambda dist: list(dist.values()))"
   ]
  },
  {
   "cell_type": "code",
   "execution_count": 19,
   "id": "4f62ebea",
   "metadata": {},
   "outputs": [],
   "source": [
    "df_all_words = df_ref_exps[['dyad_gameid', 'rep', 'BOW_concat']]"
   ]
  },
  {
   "cell_type": "code",
   "execution_count": 20,
   "id": "8b5fae72",
   "metadata": {},
   "outputs": [
    {
     "name": "stderr",
     "output_type": "stream",
     "text": [
      "/Users/zoetait/opt/anaconda3/lib/python3.9/site-packages/pandas/core/indexing.py:1667: SettingWithCopyWarning: \n",
      "A value is trying to be set on a copy of a slice from a DataFrame.\n",
      "Try using .loc[row_indexer,col_indexer] = value instead\n",
      "\n",
      "See the caveats in the documentation: https://pandas.pydata.org/pandas-docs/stable/user_guide/indexing.html#returning-a-view-versus-a-copy\n",
      "  self.obj[key] = value\n",
      "/Users/zoetait/opt/anaconda3/lib/python3.9/site-packages/pandas/core/indexing.py:1667: PerformanceWarning: DataFrame is highly fragmented.  This is usually the result of calling `frame.insert` many times, which has poor performance.  Consider joining all columns at once using pd.concat(axis=1) instead.  To get a de-fragmented frame, use `newframe = frame.copy()`\n",
      "  self.obj[key] = value\n"
     ]
    }
   ],
   "source": [
    "for w in all_words:\n",
    "    df_all_words.loc[:,w] = df_all_words['BOW_concat'].apply(lambda row: int(w in row.split()))"
   ]
  },
  {
   "cell_type": "code",
   "execution_count": 21,
   "id": "1aadd1cd",
   "metadata": {},
   "outputs": [
    {
     "data": {
      "text/html": [
       "<div>\n",
       "<style scoped>\n",
       "    .dataframe tbody tr th:only-of-type {\n",
       "        vertical-align: middle;\n",
       "    }\n",
       "\n",
       "    .dataframe tbody tr th {\n",
       "        vertical-align: top;\n",
       "    }\n",
       "\n",
       "    .dataframe thead th {\n",
       "        text-align: right;\n",
       "    }\n",
       "</style>\n",
       "<table border=\"1\" class=\"dataframe\">\n",
       "  <thead>\n",
       "    <tr style=\"text-align: right;\">\n",
       "      <th></th>\n",
       "      <th>TWO</th>\n",
       "      <th>BLUE</th>\n",
       "      <th>BLOCK</th>\n",
       "      <th>RED</th>\n",
       "      <th>ONE</th>\n",
       "      <th>EXACT</th>\n",
       "      <th>CONSTRUCTION</th>\n",
       "      <th>LEFT</th>\n",
       "      <th>RIGHT</th>\n",
       "      <th>SIDE</th>\n",
       "      <th>...</th>\n",
       "      <th>OUSE</th>\n",
       "      <th>TILE</th>\n",
       "      <th>BLOC</th>\n",
       "      <th>SHAP</th>\n",
       "      <th>HORIZTONAL</th>\n",
       "      <th>MAKE</th>\n",
       "      <th>ANGLE</th>\n",
       "      <th>CENTRED</th>\n",
       "      <th>LEFTMOST</th>\n",
       "      <th>TWR</th>\n",
       "    </tr>\n",
       "    <tr>\n",
       "      <th>rep</th>\n",
       "      <th></th>\n",
       "      <th></th>\n",
       "      <th></th>\n",
       "      <th></th>\n",
       "      <th></th>\n",
       "      <th></th>\n",
       "      <th></th>\n",
       "      <th></th>\n",
       "      <th></th>\n",
       "      <th></th>\n",
       "      <th></th>\n",
       "      <th></th>\n",
       "      <th></th>\n",
       "      <th></th>\n",
       "      <th></th>\n",
       "      <th></th>\n",
       "      <th></th>\n",
       "      <th></th>\n",
       "      <th></th>\n",
       "      <th></th>\n",
       "      <th></th>\n",
       "    </tr>\n",
       "  </thead>\n",
       "  <tbody>\n",
       "    <tr>\n",
       "      <th>1</th>\n",
       "      <td>623</td>\n",
       "      <td>1085</td>\n",
       "      <td>1100</td>\n",
       "      <td>1035</td>\n",
       "      <td>224</td>\n",
       "      <td>0</td>\n",
       "      <td>0</td>\n",
       "      <td>3</td>\n",
       "      <td>5</td>\n",
       "      <td>9</td>\n",
       "      <td>...</td>\n",
       "      <td>0</td>\n",
       "      <td>3</td>\n",
       "      <td>1</td>\n",
       "      <td>0</td>\n",
       "      <td>2</td>\n",
       "      <td>1</td>\n",
       "      <td>1</td>\n",
       "      <td>1</td>\n",
       "      <td>0</td>\n",
       "      <td>0</td>\n",
       "    </tr>\n",
       "    <tr>\n",
       "      <th>2</th>\n",
       "      <td>512</td>\n",
       "      <td>1129</td>\n",
       "      <td>499</td>\n",
       "      <td>979</td>\n",
       "      <td>184</td>\n",
       "      <td>5</td>\n",
       "      <td>3</td>\n",
       "      <td>11</td>\n",
       "      <td>10</td>\n",
       "      <td>13</td>\n",
       "      <td>...</td>\n",
       "      <td>0</td>\n",
       "      <td>0</td>\n",
       "      <td>0</td>\n",
       "      <td>1</td>\n",
       "      <td>0</td>\n",
       "      <td>0</td>\n",
       "      <td>0</td>\n",
       "      <td>0</td>\n",
       "      <td>1</td>\n",
       "      <td>1</td>\n",
       "    </tr>\n",
       "    <tr>\n",
       "      <th>3</th>\n",
       "      <td>320</td>\n",
       "      <td>868</td>\n",
       "      <td>181</td>\n",
       "      <td>777</td>\n",
       "      <td>131</td>\n",
       "      <td>0</td>\n",
       "      <td>0</td>\n",
       "      <td>5</td>\n",
       "      <td>7</td>\n",
       "      <td>7</td>\n",
       "      <td>...</td>\n",
       "      <td>1</td>\n",
       "      <td>1</td>\n",
       "      <td>0</td>\n",
       "      <td>0</td>\n",
       "      <td>0</td>\n",
       "      <td>0</td>\n",
       "      <td>0</td>\n",
       "      <td>0</td>\n",
       "      <td>0</td>\n",
       "      <td>0</td>\n",
       "    </tr>\n",
       "    <tr>\n",
       "      <th>4</th>\n",
       "      <td>75</td>\n",
       "      <td>209</td>\n",
       "      <td>35</td>\n",
       "      <td>184</td>\n",
       "      <td>20</td>\n",
       "      <td>0</td>\n",
       "      <td>0</td>\n",
       "      <td>2</td>\n",
       "      <td>1</td>\n",
       "      <td>2</td>\n",
       "      <td>...</td>\n",
       "      <td>0</td>\n",
       "      <td>0</td>\n",
       "      <td>0</td>\n",
       "      <td>0</td>\n",
       "      <td>0</td>\n",
       "      <td>0</td>\n",
       "      <td>0</td>\n",
       "      <td>0</td>\n",
       "      <td>0</td>\n",
       "      <td>0</td>\n",
       "    </tr>\n",
       "  </tbody>\n",
       "</table>\n",
       "<p>4 rows × 249 columns</p>\n",
       "</div>"
      ],
      "text/plain": [
       "     TWO  BLUE  BLOCK   RED  ONE  EXACT  CONSTRUCTION  LEFT  RIGHT  SIDE  ...  \\\n",
       "rep                                                                       ...   \n",
       "1    623  1085   1100  1035  224      0             0     3      5     9  ...   \n",
       "2    512  1129    499   979  184      5             3    11     10    13  ...   \n",
       "3    320   868    181   777  131      0             0     5      7     7  ...   \n",
       "4     75   209     35   184   20      0             0     2      1     2  ...   \n",
       "\n",
       "     OUSE  TILE  BLOC  SHAP  HORIZTONAL  MAKE  ANGLE  CENTRED  LEFTMOST  TWR  \n",
       "rep                                                                           \n",
       "1       0     3     1     0           2     1      1        1         0    0  \n",
       "2       0     0     0     1           0     0      0        0         1    1  \n",
       "3       1     1     0     0           0     0      0        0         0    0  \n",
       "4       0     0     0     0           0     0      0        0         0    0  \n",
       "\n",
       "[4 rows x 249 columns]"
      ]
     },
     "execution_count": 21,
     "metadata": {},
     "output_type": "execute_result"
    }
   ],
   "source": [
    "df_all_words_reps = df_all_words.groupby('rep').agg(sum)\n",
    "df_all_words_reps"
   ]
  },
  {
   "cell_type": "markdown",
   "id": "57e9da79",
   "metadata": {},
   "source": [
    "### Now, we will examine the change in word frequencies between trials."
   ]
  },
  {
   "cell_type": "markdown",
   "id": "32a36356",
   "metadata": {},
   "source": [
    "**2.3.2** We will begin by preparing our data."
   ]
  },
  {
   "cell_type": "code",
   "execution_count": 22,
   "id": "08716f7f",
   "metadata": {},
   "outputs": [],
   "source": [
    "df_ref_exps_rep = df_ref_exps.groupby('rep')['BOW_concat'].apply(lambda group:' '.join(group)).reset_index()\n",
    "df_ref_exps_rep['word_freq'] = df_ref_exps_rep['BOW_concat'].apply(lambda x: Counter(x.split()))\n",
    "df_ref_exps_rep['word_pdist'] = df_ref_exps_rep.apply(get_pdist, axis=1)\n",
    "df_ref_exps_rep['word_pdist_numeric'] = df_ref_exps_rep['word_pdist'].apply(lambda dist: list(dist.values()))\n",
    "df_ref_exps_rep.index=df_ref_exps_rep['rep']"
   ]
  },
  {
   "cell_type": "markdown",
   "id": "797e69a4",
   "metadata": {},
   "source": [
    "**2.3.3** We will now calculate the difference in how frequently words were used between trials by calculating the difference between proportions between trials."
   ]
  },
  {
   "cell_type": "code",
   "execution_count": 23,
   "id": "39439d4e",
   "metadata": {},
   "outputs": [],
   "source": [
    "# calculate difference in proportion between reps\n",
    "\n",
    "rep_a = 1\n",
    "rep_b = 4\n",
    "\n",
    "rep_diff = {}\n",
    "\n",
    "for _, (k, rep_a_v) in enumerate(df_ref_exps_rep.loc[rep_a,'word_pdist'].items()):\n",
    "    rep_diff[k] = df_ref_exps_rep.loc[rep_b,'word_pdist'][k] - rep_a_v"
   ]
  },
  {
   "cell_type": "markdown",
   "id": "1ad7496e",
   "metadata": {},
   "source": [
    "**2.3.4** Now, we will find the top 6 words that have the largest increase in word frequency between trials."
   ]
  },
  {
   "cell_type": "code",
   "execution_count": 24,
   "id": "08326354",
   "metadata": {},
   "outputs": [],
   "source": [
    "# find largest n increase/ decrease in proportion across reps\n",
    "n = 6"
   ]
  },
  {
   "cell_type": "code",
   "execution_count": 25,
   "id": "b621a2f1",
   "metadata": {},
   "outputs": [
    {
     "data": {
      "text/plain": [
       "{'L': 0.05734655611812832,\n",
       " 'C': 0.03298536181665175,\n",
       " 'SHAPE': 0.032698562616607654,\n",
       " 'BLUE': 0.02154686921943194,\n",
       " 'U': 0.020250494326782383,\n",
       " 'TALL': 0.01816359509904137}"
      ]
     },
     "execution_count": 25,
     "metadata": {},
     "output_type": "execute_result"
    }
   ],
   "source": [
    "# find the largest increase in proportion between reps\n",
    "top_n = dict(sorted(rep_diff.items(), key=lambda item: item[1], reverse=True)[:n])\n",
    "\n",
    "top_n"
   ]
  },
  {
   "cell_type": "markdown",
   "id": "07de80b1",
   "metadata": {},
   "source": [
    "**2.3.5** Now, we will find the top 6 words that have the largest decrease in word frequency between trials."
   ]
  },
  {
   "cell_type": "code",
   "execution_count": 26,
   "id": "e615ba17",
   "metadata": {},
   "outputs": [
    {
     "data": {
      "text/plain": [
       "{'BLOCK': -0.15443041001392815,\n",
       " 'TWO': -0.03777088343850854,\n",
       " 'HORIZONTAL': -0.02285785639184289,\n",
       " 'ONE': -0.01672335567019553,\n",
       " 'VERTICAL': -0.01624128327697643,\n",
       " 'RED': -0.009534645383217022}"
      ]
     },
     "execution_count": 26,
     "metadata": {},
     "output_type": "execute_result"
    }
   ],
   "source": [
    "# find the largest decrease in proportion between reps\n",
    "\n",
    "bottom_n = dict(sorted(rep_diff.items(), key=lambda item: item[1], reverse=False)[:n])\n",
    "\n",
    "bottom_n"
   ]
  },
  {
   "cell_type": "code",
   "execution_count": 27,
   "id": "aa25cd67",
   "metadata": {},
   "outputs": [],
   "source": [
    "df_grouped = df_ref_exps.groupby('rep').agg({'BOW_lemmatized': 'sum'})"
   ]
  },
  {
   "cell_type": "markdown",
   "id": "3d953465",
   "metadata": {},
   "source": [
    "### Now, we will plot this change in word frequency."
   ]
  },
  {
   "cell_type": "code",
   "execution_count": 28,
   "id": "2ea2bb48",
   "metadata": {},
   "outputs": [
    {
     "data": {
      "image/png": "[encoded data removed]",
      "text/plain": [
       "<Figure size 560x880 with 1 Axes>"
      ]
     },
     "metadata": {},
     "output_type": "display_data"
    }
   ],
   "source": [
    "from matplotlib.ticker import FormatStrFormatter\n",
    "\n",
    "font = {'fontname':'Helvetica'}\n",
    "sns.set_theme(style='white')\n",
    "\n",
    "x_limit = 6\n",
    "\n",
    "labels, values = zip(*rep_diff.items())\n",
    "\n",
    "# sort your values in descending order\n",
    "indSort_high = np.argsort(values)[::-1]\n",
    "indSort_low = np.argsort(values)\n",
    "\n",
    "# rearrange your data\n",
    "#labels = np.array(labels)[indSort_high][:x_limit][::-1]\n",
    "labels = np.concatenate([np.array(labels)[indSort_low][:x_limit],np.array(labels)[indSort_high][:x_limit][::-1]])\n",
    "#values = np.array(values)[indSort_high][:x_limit][::-1]\n",
    "values = np.concatenate([np.array(values)[indSort_low][:x_limit], np.array(values)[indSort_high][:x_limit][::-1]])\n",
    "\n",
    "indexes = np.arange(len(labels))\n",
    "\n",
    "bar_width = 0.35\n",
    "\n",
    "fig = plt.figure(num=None, figsize=(7, 11), dpi=80, facecolor='w', edgecolor='k')\n",
    "ax = fig.add_subplot(111)\n",
    "ax.bar(indexes, values, color = \"#7D7D7D\")\n",
    "ax.yaxis.set_major_formatter(FormatStrFormatter('%.2f'))\n",
    "\n",
    "# add labels\n",
    "plt.yticks(fontsize=16, **font)\n",
    "plt.xticks(indexes + bar_width, labels,  rotation='vertical', fontsize=16, **font)\n",
    "plt.ylabel(\"change in proportion\", size = 24, **font)\n",
    "plt.yticks(np.arange(-.13,.06, .02))\n",
    "ax.axes.get_xaxis().set_visible(True)\n",
    "#plt.title(\"highest delta words\", size = 24, **font)\n",
    "plt.show()"
   ]
  }
 ],
 "metadata": {
  "kernelspec": {
   "display_name": "Python 3 (ipykernel)",
   "language": "python",
   "name": "python3"
  },
  "language_info": {
   "codemirror_mode": {
    "name": "ipython",
    "version": 3
   },
   "file_extension": ".py",
   "mimetype": "text/x-python",
   "name": "python",
   "nbconvert_exporter": "python",
   "pygments_lexer": "ipython3",
   "version": "3.9.7"
  }
 },
 "nbformat": 4,
 "nbformat_minor": 5
}
