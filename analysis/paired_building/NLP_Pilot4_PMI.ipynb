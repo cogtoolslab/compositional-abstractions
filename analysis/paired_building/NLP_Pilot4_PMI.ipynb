{
 "cells": [
  {
   "cell_type": "markdown",
   "metadata": {},
   "source": [
    "# Exploratory NLP on chat messages in pilot data"
   ]
  },
  {
   "cell_type": "markdown",
   "metadata": {},
   "source": [
    "To do:\n",
    "-- try different tokenizer to deal with punctuation?\n",
    "-- bag of tower model (tower pairs: group L/C and C/L)\n",
    "    for each pair, compare first and last occurance of a specific BOT\n",
    "    interested in words that drop out and words that increase in frequency\n",
    "-- fix dictionary to be union not intersection\n",
    "-- TFIDF for tower specific \n",
    "    what are the specific words we use to describe tower pairs\n",
    "-- condition on rep 1, use same langauge for all three items, do subjects disambiguate by the later trials\n",
    "\n",
    "-- compare probability of words for L-pi and L-C in early and late stages (factor out the \"L\") \n",
    "\n",
    "[X] try tf-idf with LC as doc 1 and LP,CP combined as doc 2 in final rep "
   ]
  },
  {
   "cell_type": "markdown",
   "metadata": {},
   "source": [
    "https://en.wikipedia.org/wiki/Pointwise_mutual_information\n",
    "    \n",
    "calculate PMI for all words for all dyads\n",
    "\n",
    "for each dyad, get PMI distribution for each towerset permutation (compare PL/CP, PL/CL, CP/CL) in first rep \n",
    "take average of this PMI (so three summary measures) then do this again for the last rep\n",
    "\n",
    "TF-IDF first and last\n",
    "\n",
    "-------------------------\n",
    "Spacy lemmatizer, numbers to text\n",
    "\n",
    "Calculate new column (prop of L specifc over all words in rep)\n",
    "\n",
    "Proportion of \"L\" specific words in LP and LC (i.e. changing the denominator to only be towersets with L) -- then average for each dyad across the two towers\n",
    "\n",
    "Also column for raw count of L specifc words\n",
    "\n",
    "plot histogram of differences between rep 0 and rep 3\n",
    "\n"
   ]
  },
  {
   "cell_type": "code",
   "execution_count": null,
   "metadata": {},
   "outputs": [],
   "source": [
    "#!pip install spacy"
   ]
  },
  {
   "cell_type": "markdown",
   "metadata": {},
   "source": [
    "## Import packages"
   ]
  },
  {
   "cell_type": "code",
   "execution_count": 1,
   "metadata": {},
   "outputs": [],
   "source": [
    "from nltk.corpus import stopwords\n",
    "from nltk.tokenize import word_tokenize\n",
    "from nltk.stem import WordNetLemmatizer, SnowballStemmer\n",
    "from nltk.stem.porter import *\n",
    "from collections import Counter\n",
    "from num2words import num2words\n",
    "import gensim\n",
    "from gensim.utils import simple_preprocess\n",
    "from gensim.parsing.preprocessing import STOPWORDS\n",
    "from gensim import matutils, models\n",
    "import matplotlib.pyplot as plt\n",
    "import spacy\n",
    "\n",
    "import nltk\n",
    "import os\n",
    "import string\n",
    "import numpy as np\n",
    "import copy\n",
    "import pandas as pd\n",
    "pd.set_option('display.max_colwidth', 1000)\n",
    "import pickle\n",
    "import re\n",
    "import math\n",
    "\n",
    "\n",
    "stemmer = SnowballStemmer(\"english\")"
   ]
  },
  {
   "cell_type": "markdown",
   "metadata": {},
   "source": [
    "## Import data frames (generated in DF_generator script from mongoDB)"
   ]
  },
  {
   "cell_type": "code",
   "execution_count": 2,
   "metadata": {},
   "outputs": [
    {
     "name": "stdout",
     "output_type": "stream",
     "text": [
      "(3066, 21)\n",
      "Dyads: 71\n"
     ]
    }
   ],
   "source": [
    "df_chat = pd.read_csv('df_chat.csv')\n",
    "print(df_chat.shape)\n",
    "print(\"Dyads:\",len(df_chat.gameid.unique()))"
   ]
  },
  {
   "cell_type": "markdown",
   "metadata": {},
   "source": [
    "### Check exclusion criteria"
   ]
  },
  {
   "cell_type": "code",
   "execution_count": 3,
   "metadata": {},
   "outputs": [
    {
     "name": "stdout",
     "output_type": "stream",
     "text": [
      "Total dyads achieving 75% Accuracy on 75% of trials: 48\n"
     ]
    }
   ],
   "source": [
    "df_trial = pd.read_csv('df_trial.csv')\n",
    "df75 = pd.DataFrame(df_trial.groupby(['gameid', 'trialNum'])['trialScore'].sum()>75).groupby(['gameid']).sum()\n",
    "df75['trials'] = df75['trialScore']\n",
    "\n",
    "#delete rows that aren't greater than 75% in 9 trials\n",
    "df75 = df75[df75['trials']>=9]\n",
    "\n",
    "print(\"Total dyads achieving 75% Accuracy on 75% of trials:\",len(df75))"
   ]
  },
  {
   "cell_type": "markdown",
   "metadata": {},
   "source": [
    "### Remove dyads that did not pass exclusion criteria"
   ]
  },
  {
   "cell_type": "code",
   "execution_count": 4,
   "metadata": {},
   "outputs": [
    {
     "name": "stdout",
     "output_type": "stream",
     "text": [
      "(2223, 21)\n",
      "Passed Dyads: 48\n"
     ]
    }
   ],
   "source": [
    "keep_id = df75.index.tolist()\n",
    "keep_id\n",
    "df = df_chat[df_chat['gameid'].isin(keep_id)]\n",
    "print(df.shape)\n",
    "print(\"Passed Dyads:\",len(df.gameid.unique()))"
   ]
  },
  {
   "cell_type": "code",
   "execution_count": 5,
   "metadata": {},
   "outputs": [
    {
     "data": {
      "text/html": [
       "<div>\n",
       "<style scoped>\n",
       "    .dataframe tbody tr th:only-of-type {\n",
       "        vertical-align: middle;\n",
       "    }\n",
       "\n",
       "    .dataframe tbody tr th {\n",
       "        vertical-align: top;\n",
       "    }\n",
       "\n",
       "    .dataframe thead th {\n",
       "        text-align: right;\n",
       "    }\n",
       "</style>\n",
       "<table border=\"1\" class=\"dataframe\">\n",
       "  <thead>\n",
       "    <tr style=\"text-align: right;\">\n",
       "      <th></th>\n",
       "      <th>gameid</th>\n",
       "      <th>repNum</th>\n",
       "      <th>content</th>\n",
       "      <th>trialNum</th>\n",
       "      <th>C</th>\n",
       "      <th>L</th>\n",
       "      <th>P</th>\n",
       "    </tr>\n",
       "  </thead>\n",
       "  <tbody>\n",
       "    <tr>\n",
       "      <th>2</th>\n",
       "      <td>1494-029e2297-bd3f-4cfe-be00-d06d36724e4e</td>\n",
       "      <td>0</td>\n",
       "      <td>put a blue block three from the left~~~</td>\n",
       "      <td>0</td>\n",
       "      <td>1</td>\n",
       "      <td>0</td>\n",
       "      <td>1</td>\n",
       "    </tr>\n",
       "    <tr>\n",
       "      <th>3</th>\n",
       "      <td>1494-029e2297-bd3f-4cfe-be00-d06d36724e4e</td>\n",
       "      <td>0</td>\n",
       "      <td>place a red block on top of the left side of the blue block and then another red on top of that red</td>\n",
       "      <td>0</td>\n",
       "      <td>1</td>\n",
       "      <td>0</td>\n",
       "      <td>1</td>\n",
       "    </tr>\n",
       "  </tbody>\n",
       "</table>\n",
       "</div>"
      ],
      "text/plain": [
       "                                      gameid  repNum  \\\n",
       "2  1494-029e2297-bd3f-4cfe-be00-d06d36724e4e       0   \n",
       "3  1494-029e2297-bd3f-4cfe-be00-d06d36724e4e       0   \n",
       "\n",
       "                                                                                               content  \\\n",
       "2                                                             put a blue block three from the left~~~    \n",
       "3  place a red block on top of the left side of the blue block and then another red on top of that red   \n",
       "\n",
       "  trialNum  C  L  P  \n",
       "2        0  1  0  1  \n",
       "3        0  1  0  1  "
      ]
     },
     "execution_count": 5,
     "metadata": {},
     "output_type": "execute_result"
    }
   ],
   "source": [
    "df = df[['gameid','repNum','content','trialNum', 'leftTarget', 'rightTarget']]\n",
    "df = df[df.trialNum != 'practice']\n",
    "df = df[df.repNum != 'practice']\n",
    "df['repNum'] = df['repNum'].astype(int)\n",
    "df['C'] = (df['leftTarget'] + df['rightTarget']).apply(lambda x: 1 if 'C' in x   else 0)\n",
    "df['L'] = (df['leftTarget'] + df['rightTarget']).apply(lambda x: 1 if 'L' in x   else 0)\n",
    "df['P'] = (df['leftTarget'] + df['rightTarget']).apply(lambda x: 1 if 'Pi' in x   else 0)\n",
    "df = df.drop(['leftTarget', 'rightTarget'],axis = 1)\n",
    "df.head(2)\n"
   ]
  },
  {
   "cell_type": "markdown",
   "metadata": {},
   "source": [
    "## Create Bag of Words for each repNum by concatenating content\n",
    "create df with column for repnum and column for entire string grouped by repnum"
   ]
  },
  {
   "cell_type": "code",
   "execution_count": 6,
   "metadata": {},
   "outputs": [
    {
     "name": "stdout",
     "output_type": "stream",
     "text": [
      "(576, 6)\n"
     ]
    },
    {
     "data": {
      "text/html": [
       "<div>\n",
       "<style scoped>\n",
       "    .dataframe tbody tr th:only-of-type {\n",
       "        vertical-align: middle;\n",
       "    }\n",
       "\n",
       "    .dataframe tbody tr th {\n",
       "        vertical-align: top;\n",
       "    }\n",
       "\n",
       "    .dataframe thead th {\n",
       "        text-align: right;\n",
       "    }\n",
       "</style>\n",
       "<table border=\"1\" class=\"dataframe\">\n",
       "  <thead>\n",
       "    <tr style=\"text-align: right;\">\n",
       "      <th></th>\n",
       "      <th>gameid</th>\n",
       "      <th>repNum</th>\n",
       "      <th>C</th>\n",
       "      <th>L</th>\n",
       "      <th>P</th>\n",
       "      <th>content</th>\n",
       "    </tr>\n",
       "  </thead>\n",
       "  <tbody>\n",
       "    <tr>\n",
       "      <th>0</th>\n",
       "      <td>0110-5784fec9-109a-4d7a-a343-4820f4d42144</td>\n",
       "      <td>0</td>\n",
       "      <td>0</td>\n",
       "      <td>1</td>\n",
       "      <td>1</td>\n",
       "      <td>two blue blocks on left and right side of left right line  two red block on top of left blue block just placed down  two red block one space apart on right line one blue block on top red block on left red line, on more red block on top of left red block</td>\n",
       "    </tr>\n",
       "    <tr>\n",
       "      <th>1</th>\n",
       "      <td>0110-5784fec9-109a-4d7a-a343-4820f4d42144</td>\n",
       "      <td>0</td>\n",
       "      <td>1</td>\n",
       "      <td>0</td>\n",
       "      <td>1</td>\n",
       "      <td>for left red line, place blue block in the middle then stack two red on left side of that blue block for left red line, place blue block on highest red so it stick out on the right side for right red line, place one red block two space away from that line,  same as step 3, but on the left side, so there is two spaces apart between those two red blocks for right red line, place one blue block on top of each red block so the blue blocks meet/touch</td>\n",
       "    </tr>\n",
       "  </tbody>\n",
       "</table>\n",
       "</div>"
      ],
      "text/plain": [
       "                                      gameid  repNum  C  L  P  \\\n",
       "0  0110-5784fec9-109a-4d7a-a343-4820f4d42144       0  0  1  1   \n",
       "1  0110-5784fec9-109a-4d7a-a343-4820f4d42144       0  1  0  1   \n",
       "\n",
       "                                                                                                                                                                                                                                                                                                                                                                                                                                                              content  \n",
       "0                                                                                                                                                                                                       two blue blocks on left and right side of left right line  two red block on top of left blue block just placed down  two red block one space apart on right line one blue block on top red block on left red line, on more red block on top of left red block  \n",
       "1  for left red line, place blue block in the middle then stack two red on left side of that blue block for left red line, place blue block on highest red so it stick out on the right side for right red line, place one red block two space away from that line,  same as step 3, but on the left side, so there is two spaces apart between those two red blocks for right red line, place one blue block on top of each red block so the blue blocks meet/touch   "
      ]
     },
     "execution_count": 6,
     "metadata": {},
     "output_type": "execute_result"
    }
   ],
   "source": [
    "# df['BOW'] = df[['repNum','C','L','Pi','content']].groupby(['repNum','C','L','Pi'])['content'].transform(lambda x: ' '.join(x))\n",
    "# df = df[['repNum','C','L','Pi','BOW']]\n",
    "df = df.groupby(['gameid','repNum','C','L','P'])['content'].apply(lambda x: ' '.join(x)).reset_index()\n",
    "\n",
    "print(df.shape)\n",
    "df.head(2)"
   ]
  },
  {
   "cell_type": "markdown",
   "metadata": {},
   "source": [
    "### Remove stopwords and punctuation"
   ]
  },
  {
   "cell_type": "code",
   "execution_count": 7,
   "metadata": {},
   "outputs": [],
   "source": [
    "from nltk.corpus import stopwords\n",
    "stop = stopwords.words('english')\n",
    "df['BOW_clean'] = df['content'].apply(lambda x: ' '.join([word for word in x.split() if word not in (stop)]))"
   ]
  },
  {
   "cell_type": "code",
   "execution_count": 11,
   "metadata": {},
   "outputs": [],
   "source": [
    "df['BOW_clean'] = df['BOW_clean'].str.lower()\n",
    "df['BOW_clean'] = df['BOW_clean'].str.replace(r'~', '')\n",
    "df['BOW_clean'] = df['BOW_clean'].str.replace(r'\\(', '')\n",
    "df['BOW_clean'] = df['BOW_clean'].str.replace(r'\\)', '')\n",
    "df['BOW_clean'] = df['BOW_clean'].str.replace(r'\\,', '')\n",
    "df['BOW_clean'] = df['BOW_clean'].str.replace(r\"\\'\", '')\n",
    "df['BOW_clean'] = df['BOW_clean'].str.replace(r\"\\:\", '')\n",
    "df['BOW_clean'] = df['BOW_clean'].str.replace(r'\"', '')\n",
    "df['BOW_clean'] = df['BOW_clean'].str.replace(r\"-\", '')\n",
    "df['BOW_clean'] = df['BOW_clean'].str.replace(r\"/\", ' ')"
   ]
  },
  {
   "cell_type": "markdown",
   "metadata": {},
   "source": [
    "## Convert numbers to words"
   ]
  },
  {
   "cell_type": "code",
   "execution_count": 12,
   "metadata": {},
   "outputs": [],
   "source": [
    "import num2words\n",
    "from num2words import num2words\n",
    "def num_2_words(sentence):\n",
    "    out = \"\"\n",
    "    for word in sentence.split():\n",
    "        try:\n",
    "            o = num2words(word)\n",
    "        except:\n",
    "            o = word\n",
    "        out = out+\" \"+ o\n",
    "    return out\n",
    "\n",
    "    "
   ]
  },
  {
   "cell_type": "code",
   "execution_count": 13,
   "metadata": {},
   "outputs": [
    {
     "data": {
      "text/html": [
       "<div>\n",
       "<style scoped>\n",
       "    .dataframe tbody tr th:only-of-type {\n",
       "        vertical-align: middle;\n",
       "    }\n",
       "\n",
       "    .dataframe tbody tr th {\n",
       "        vertical-align: top;\n",
       "    }\n",
       "\n",
       "    .dataframe thead th {\n",
       "        text-align: right;\n",
       "    }\n",
       "</style>\n",
       "<table border=\"1\" class=\"dataframe\">\n",
       "  <thead>\n",
       "    <tr style=\"text-align: right;\">\n",
       "      <th></th>\n",
       "      <th>gameid</th>\n",
       "      <th>repNum</th>\n",
       "      <th>C</th>\n",
       "      <th>L</th>\n",
       "      <th>P</th>\n",
       "      <th>content</th>\n",
       "      <th>BOW_clean</th>\n",
       "    </tr>\n",
       "  </thead>\n",
       "  <tbody>\n",
       "    <tr>\n",
       "      <th>0</th>\n",
       "      <td>0110-5784fec9-109a-4d7a-a343-4820f4d42144</td>\n",
       "      <td>0</td>\n",
       "      <td>0</td>\n",
       "      <td>1</td>\n",
       "      <td>1</td>\n",
       "      <td>two blue blocks on left and right side of left right line  two red block on top of left blue block just placed down  two red block one space apart on right line one blue block on top red block on left red line, on more red block on top of left red block</td>\n",
       "      <td>two blue blocks left right side left right line two red block top left blue block placed two red block one space apart right line one blue block top red block left red line red block top left red block</td>\n",
       "    </tr>\n",
       "    <tr>\n",
       "      <th>1</th>\n",
       "      <td>0110-5784fec9-109a-4d7a-a343-4820f4d42144</td>\n",
       "      <td>0</td>\n",
       "      <td>1</td>\n",
       "      <td>0</td>\n",
       "      <td>1</td>\n",
       "      <td>for left red line, place blue block in the middle then stack two red on left side of that blue block for left red line, place blue block on highest red so it stick out on the right side for right red line, place one red block two space away from that line,  same as step 3, but on the left side, so there is two spaces apart between those two red blocks for right red line, place one blue block on top of each red block so the blue blocks meet/touch</td>\n",
       "      <td>left red line place blue block middle stack two red left side blue block left red line place blue block highest red stick right side right red line place one red block two space away line step three left side two spaces apart two red blocks right red line place one blue block top red block blue blocks meet touch</td>\n",
       "    </tr>\n",
       "  </tbody>\n",
       "</table>\n",
       "</div>"
      ],
      "text/plain": [
       "                                      gameid  repNum  C  L  P  \\\n",
       "0  0110-5784fec9-109a-4d7a-a343-4820f4d42144       0  0  1  1   \n",
       "1  0110-5784fec9-109a-4d7a-a343-4820f4d42144       0  1  0  1   \n",
       "\n",
       "                                                                                                                                                                                                                                                                                                                                                                                                                                                              content  \\\n",
       "0                                                                                                                                                                                                       two blue blocks on left and right side of left right line  two red block on top of left blue block just placed down  two red block one space apart on right line one blue block on top red block on left red line, on more red block on top of left red block   \n",
       "1  for left red line, place blue block in the middle then stack two red on left side of that blue block for left red line, place blue block on highest red so it stick out on the right side for right red line, place one red block two space away from that line,  same as step 3, but on the left side, so there is two spaces apart between those two red blocks for right red line, place one blue block on top of each red block so the blue blocks meet/touch    \n",
       "\n",
       "                                                                                                                                                                                                                                                                                                                    BOW_clean  \n",
       "0                                                                                                                   two blue blocks left right side left right line two red block top left blue block placed two red block one space apart right line one blue block top red block left red line red block top left red block  \n",
       "1   left red line place blue block middle stack two red left side blue block left red line place blue block highest red stick right side right red line place one red block two space away line step three left side two spaces apart two red blocks right red line place one blue block top red block blue blocks meet touch  "
      ]
     },
     "execution_count": 13,
     "metadata": {},
     "output_type": "execute_result"
    }
   ],
   "source": [
    "df['BOW_clean'] = df['BOW_clean'].apply(lambda x: num_2_words(x))\n",
    "df.head(2)"
   ]
  },
  {
   "cell_type": "code",
   "execution_count": 14,
   "metadata": {},
   "outputs": [],
   "source": [
    "# # Initialize spacy 'en' model, keeping only tagger component needed for lemmatization\n",
    "# nlp = spacy.load('en', disable=['parser', 'ner'])\n",
    "\n",
    "# sentence = \"The striped bats are hanging on their feet for best\"\n",
    "\n",
    "# # Parse the sentence using the loaded 'en' model object `nlp`\n",
    "# doc = nlp(sentence)\n",
    "\n",
    "# # Extract the lemma for each token and join\n",
    "# \" \".join([token.lemma_ for token in doc]).split()"
   ]
  },
  {
   "cell_type": "code",
   "execution_count": 15,
   "metadata": {},
   "outputs": [],
   "source": [
    "# df['BOW_lemmatized'] = df['BOW_clean'].apply(lambda x: \" \".join([token.lemma_ for token in nlp(x)]).split())\n"
   ]
  },
  {
   "cell_type": "code",
   "execution_count": 16,
   "metadata": {},
   "outputs": [
    {
     "name": "stdout",
     "output_type": "stream",
     "text": [
      "(576, 8)\n"
     ]
    },
    {
     "data": {
      "text/html": [
       "<div>\n",
       "<style scoped>\n",
       "    .dataframe tbody tr th:only-of-type {\n",
       "        vertical-align: middle;\n",
       "    }\n",
       "\n",
       "    .dataframe tbody tr th {\n",
       "        vertical-align: top;\n",
       "    }\n",
       "\n",
       "    .dataframe thead th {\n",
       "        text-align: right;\n",
       "    }\n",
       "</style>\n",
       "<table border=\"1\" class=\"dataframe\">\n",
       "  <thead>\n",
       "    <tr style=\"text-align: right;\">\n",
       "      <th></th>\n",
       "      <th>gameid</th>\n",
       "      <th>repNum</th>\n",
       "      <th>C</th>\n",
       "      <th>L</th>\n",
       "      <th>P</th>\n",
       "      <th>content</th>\n",
       "      <th>BOW_clean</th>\n",
       "      <th>BOW_lemmatized</th>\n",
       "    </tr>\n",
       "  </thead>\n",
       "  <tbody>\n",
       "    <tr>\n",
       "      <th>0</th>\n",
       "      <td>0110-5784fec9-109a-4d7a-a343-4820f4d42144</td>\n",
       "      <td>0</td>\n",
       "      <td>0</td>\n",
       "      <td>1</td>\n",
       "      <td>1</td>\n",
       "      <td>two blue blocks on left and right side of left right line  two red block on top of left blue block just placed down  two red block one space apart on right line one blue block on top red block on left red line, on more red block on top of left red block</td>\n",
       "      <td>two blue blocks left right side left right line two red block top left blue block placed two red block one space apart right line one blue block top red block left red line red block top left red block</td>\n",
       "      <td>[two, blue, block, left, right, side, left, right, line, two, red, block, top, left, blue, block, placed, two, red, block, one, space, apart, right, line, one, blue, block, top, red, block, left, red, line, red, block, top, left, red, block]</td>\n",
       "    </tr>\n",
       "    <tr>\n",
       "      <th>1</th>\n",
       "      <td>0110-5784fec9-109a-4d7a-a343-4820f4d42144</td>\n",
       "      <td>0</td>\n",
       "      <td>1</td>\n",
       "      <td>0</td>\n",
       "      <td>1</td>\n",
       "      <td>for left red line, place blue block in the middle then stack two red on left side of that blue block for left red line, place blue block on highest red so it stick out on the right side for right red line, place one red block two space away from that line,  same as step 3, but on the left side, so there is two spaces apart between those two red blocks for right red line, place one blue block on top of each red block so the blue blocks meet/touch</td>\n",
       "      <td>left red line place blue block middle stack two red left side blue block left red line place blue block highest red stick right side right red line place one red block two space away line step three left side two spaces apart two red blocks right red line place one blue block top red block blue blocks meet touch</td>\n",
       "      <td>[left, red, line, place, blue, block, middle, stack, two, red, left, side, blue, block, left, red, line, place, blue, block, highest, red, stick, right, side, right, red, line, place, one, red, block, two, space, away, line, step, three, left, side, two, space, apart, two, red, block, right, red, line, place, one, blue, block, top, red, block, blue, block, meet, touch]</td>\n",
       "    </tr>\n",
       "    <tr>\n",
       "      <th>2</th>\n",
       "      <td>0110-5784fec9-109a-4d7a-a343-4820f4d42144</td>\n",
       "      <td>0</td>\n",
       "      <td>1</td>\n",
       "      <td>1</td>\n",
       "      <td>0</td>\n",
       "      <td>for left red line, two blue block placed right against each other for left red line, on top of far left of left blue block, place two red blocks stacked on each other for right red line, place one blue block in middle of that line  for right red line, place two red blocks stacked on top of each other on left side of blue block for right red line, place blue block on top of highest red block so it sticks on on the left side</td>\n",
       "      <td>left red line two blue block placed right left red line top far left left blue block place two red blocks stacked right red line place one blue block middle line right red line place two red blocks stacked top left side blue block right red line place blue block top highest red block sticks left side</td>\n",
       "      <td>[left, red, line, two, blue, block, placed, right, left, red, line, top, far, left, left, blue, block, place, two, red, block, stacked, right, red, line, place, one, blue, block, middle, line, right, red, line, place, two, red, block, stacked, top, left, side, blue, block, right, red, line, place, blue, block, top, highest, red, block, stick, left, side]</td>\n",
       "    </tr>\n",
       "  </tbody>\n",
       "</table>\n",
       "</div>"
      ],
      "text/plain": [
       "                                      gameid  repNum  C  L  P  \\\n",
       "0  0110-5784fec9-109a-4d7a-a343-4820f4d42144       0  0  1  1   \n",
       "1  0110-5784fec9-109a-4d7a-a343-4820f4d42144       0  1  0  1   \n",
       "2  0110-5784fec9-109a-4d7a-a343-4820f4d42144       0  1  1  0   \n",
       "\n",
       "                                                                                                                                                                                                                                                                                                                                                                                                                                                              content  \\\n",
       "0                                                                                                                                                                                                       two blue blocks on left and right side of left right line  two red block on top of left blue block just placed down  two red block one space apart on right line one blue block on top red block on left red line, on more red block on top of left red block   \n",
       "1  for left red line, place blue block in the middle then stack two red on left side of that blue block for left red line, place blue block on highest red so it stick out on the right side for right red line, place one red block two space away from that line,  same as step 3, but on the left side, so there is two spaces apart between those two red blocks for right red line, place one blue block on top of each red block so the blue blocks meet/touch    \n",
       "2                          for left red line, two blue block placed right against each other for left red line, on top of far left of left blue block, place two red blocks stacked on each other for right red line, place one blue block in middle of that line  for right red line, place two red blocks stacked on top of each other on left side of blue block for right red line, place blue block on top of highest red block so it sticks on on the left side   \n",
       "\n",
       "                                                                                                                                                                                                                                                                                                                    BOW_clean  \\\n",
       "0                                                                                                                   two blue blocks left right side left right line two red block top left blue block placed two red block one space apart right line one blue block top red block left red line red block top left red block   \n",
       "1   left red line place blue block middle stack two red left side blue block left red line place blue block highest red stick right side right red line place one red block two space away line step three left side two spaces apart two red blocks right red line place one blue block top red block blue blocks meet touch   \n",
       "2               left red line two blue block placed right left red line top far left left blue block place two red blocks stacked right red line place one blue block middle line right red line place two red blocks stacked top left side blue block right red line place blue block top highest red block sticks left side   \n",
       "\n",
       "                                                                                                                                                                                                                                                                                                                                                                        BOW_lemmatized  \n",
       "0                                                                                                                                    [two, blue, block, left, right, side, left, right, line, two, red, block, top, left, blue, block, placed, two, red, block, one, space, apart, right, line, one, blue, block, top, red, block, left, red, line, red, block, top, left, red, block]  \n",
       "1  [left, red, line, place, blue, block, middle, stack, two, red, left, side, blue, block, left, red, line, place, blue, block, highest, red, stick, right, side, right, red, line, place, one, red, block, two, space, away, line, step, three, left, side, two, space, apart, two, red, block, right, red, line, place, one, blue, block, top, red, block, blue, block, meet, touch]  \n",
       "2                 [left, red, line, two, blue, block, placed, right, left, red, line, top, far, left, left, blue, block, place, two, red, block, stacked, right, red, line, place, one, blue, block, middle, line, right, red, line, place, two, red, block, stacked, top, left, side, blue, block, right, red, line, place, blue, block, top, highest, red, block, stick, left, side]  "
      ]
     },
     "execution_count": 16,
     "metadata": {},
     "output_type": "execute_result"
    }
   ],
   "source": [
    "import nltk\n",
    "from nltk.tokenize import RegexpTokenizer\n",
    "tokenizer = RegexpTokenizer(r'\\w+')\n",
    "w_tokenizer = nltk.tokenize.WhitespaceTokenizer()\n",
    "lemmatizer = nltk.stem.WordNetLemmatizer()\n",
    "\n",
    "def lemmatize_text(text):\n",
    "    return [lemmatizer.lemmatize(w) for w in tokenizer.tokenize(text)]\n",
    "df['BOW_lemmatized'] = df['BOW_clean'].apply(lemmatize_text)\n",
    "print(df.shape)\n",
    "df.head(3)"
   ]
  },
  {
   "cell_type": "markdown",
   "metadata": {},
   "source": [
    "## Calculate PMI for each rep 0/ rep 3 tower pairing within each dyad\n",
    "For each dyad, get PMI distribution for each towerset permutation (compare PL/CP, PL/CL, CP/CL) in first rep take average of this PMI (so three summary measures) then do this again for the last rep\n",
    "\n",
    "log [ p(word | target ) / p(word) ]"
   ]
  },
  {
   "cell_type": "code",
   "execution_count": null,
   "metadata": {},
   "outputs": [],
   "source": [
    "df.gameid.unique()[:10]"
   ]
  },
  {
   "cell_type": "code",
   "execution_count": null,
   "metadata": {},
   "outputs": [],
   "source": [
    "df_grouped = df.groupby(['gameid','repNum'])['BOW_clean'].apply(lambda x: ' '.join(x)).reset_index()\n",
    "df_grouped.head(1)"
   ]
  },
  {
   "cell_type": "code",
   "execution_count": null,
   "metadata": {},
   "outputs": [],
   "source": [
    "# tower1 = 'C'\n",
    "# tower2 = 'P'\n",
    "# tower3 = 'L'\n",
    "# game = '0208-b497c845-b076-45c9-b958-a62a3ae6e65f'\n",
    "# set1 = df.loc[(df[tower1] == 1) & (df[tower2] == 1) & (df['gameid'] == game), 'BOW_clean'].iloc[0].split()\n",
    "# set2 = df_grouped.loc[(df['gameid'] == game) & (df['repNum'] == 3), 'BOW_clean'].iloc[0].split()\n",
    "\n",
    "# counts1 = Counter(set1)\n",
    "# total = sum(counts1.values())\n",
    "# d1 = {k: v / total for k, v in counts.items()}\n",
    "# #Get word counts for second set\n",
    "# counts2 = Counter(set2)\n",
    "# total = sum(counts2.values())\n",
    "# d2 = {k: v / total for k, v in counts.items()}\n",
    "\n",
    "# counts_combined = Counter(set_combined)\n",
    "# total = sum(counts_combined.values())\n",
    "# d_combined = {k: v / total for k, v in counts.items()}\n"
   ]
  },
  {
   "cell_type": "code",
   "execution_count": null,
   "metadata": {},
   "outputs": [],
   "source": [
    "df.columns"
   ]
  },
  {
   "cell_type": "code",
   "execution_count": null,
   "metadata": {},
   "outputs": [],
   "source": [
    "reps = [0,3]\n",
    "\n",
    "gameids = df['gameid'].unique()\n",
    "\n",
    "set1 = df.loc[(df[tower1] == 1) & (df[tower2] == 1) & (df['gameid'] == game), 'BOW_clean'].iloc[rep].split()\n",
    "set_combined =  df_grouped.loc[(df_grouped['gameid'] == game) & (df_grouped['repNum'] == rep), 'BOW_clean'].iloc[0].split()\n",
    "\n",
    "counts = Counter(set1)\n",
    "total = sum(counts.values())\n",
    "d1 = {k: v / total for k, v in counts.items()}\n",
    "counts = Counter(set_combined)\n",
    "total = sum(counts.values())\n",
    "d2 = {k: v / total for k, v in counts.items()}\n",
    "# countsn = Counter(n)\n",
    "# total = sum(countsn.values())\n",
    "# dn = {k: v / total for k, v in countsn.items()}\n",
    "\n",
    "#d_diff = {key: countsl[key] / countsn.get(key, 0) for key in countsl}\n",
    "out = {key: d1[key] / d2.get(key, 0)  for key in d1}\n",
    "out = {key: np.log(float(out[key])) for key in out}\n",
    "print(sum(out.values()) / float(len(out)))\n",
    "out"
   ]
  },
  {
   "cell_type": "code",
   "execution_count": null,
   "metadata": {},
   "outputs": [],
   "source": [
    "tower1 = 'P'\n",
    "tower2 = 'L'\n",
    "\n",
    "reps = [0,3]\n",
    "gameids = df['gameid'].unique()\n",
    "\n",
    "rep_out = []\n",
    "game_out = []\n",
    "MI_out = []\n",
    "dict_out = []\n",
    "results = []\n",
    "for game in gameids:\n",
    "    for rep in reps:\n",
    "        set1 = df.loc[(df[tower1] == 1) & (df[tower2] == 1) & (df['gameid'] == game), 'BOW_clean'].iloc[rep].split()\n",
    "        set_combined =  df_grouped.loc[(df_grouped['gameid'] == game) & (df_grouped['repNum'] == rep), 'BOW_clean'].iloc[0].split()\n",
    "\n",
    "        counts = Counter(set1)\n",
    "        total = sum(counts.values())\n",
    "        d1 = {k: v / total for k, v in counts.items()}\n",
    "        counts = Counter(set_combined)\n",
    "        total = sum(counts.values())\n",
    "        d2 = {k: v / total for k, v in counts.items()}\n",
    "        # countsn = Counter(n)\n",
    "        # total = sum(countsn.values())\n",
    "        # dn = {k: v / total for k, v in countsn.items()}\n",
    "\n",
    "        #d_diff = {key: countsl[key] / countsn.get(key, 0) for key in countsl}\n",
    "        out = {key: d1[key] / d2.get(key, 0)  for key in d1}\n",
    "        out = {key: np.log(float(out[key])) for key in out}\n",
    "        mutual_information = sum(out.values()) / float(len(out))\n",
    "\n",
    "#         game_out.append(game)\n",
    "#         rep_out.append(rep)\n",
    "#         MI_out.append(mutual_information)\n",
    "#         dict_out.append(out)\n",
    "        results.append([game, rep, mutual_information, out])\n",
    "  \n",
    "  \n",
    "# Create the pandas DataFrame  \n",
    "df_mi = pd.DataFrame(results, columns = ['gameid', 'repNum','MI','PMI'])\n",
    "\n",
    "print(df_mi.shape)\n",
    "df_mi.head(2)"
   ]
  },
  {
   "cell_type": "code",
   "execution_count": null,
   "metadata": {},
   "outputs": [],
   "source": [
    "PMI_0 = []\n",
    "for d in df_mi[df_mi['repNum'] == 0]['PMI']:\n",
    "    PMI_0.append(list(d.values()))\n",
    "PMI_0 = [ item for elem in PMI_0 for item in elem]\n",
    "\n",
    "\n",
    "PMI_3 = []\n",
    "for d in df_mi[df_mi['repNum'] == 3]['PMI']:\n",
    "    PMI_3.append(list(d.values()))\n",
    "PMI_3 = [ item for elem in PMI_3 for item in elem]"
   ]
  },
  {
   "cell_type": "code",
   "execution_count": null,
   "metadata": {},
   "outputs": [],
   "source": [
    "plt.figure(figsize=(8,6))\n",
    "plt.hist(PMI_0, bins=50, alpha=0.5, label=\"PMI_0\")\n",
    "plt.hist(PMI_3, bins=50, alpha=0.5, label=\"PMI_3\")\n",
    "\n",
    "plt.xlabel(\"PMI\", size=14)\n",
    "plt.ylabel(\"Count\", size=14)\n",
    "plt.title(\"PMI for P/L in rep 0 and rep 3\")\n",
    "plt.legend(loc='upper right')"
   ]
  },
  {
   "cell_type": "code",
   "execution_count": null,
   "metadata": {},
   "outputs": [],
   "source": [
    "d = {'repNum':'C/P Towerset Mutual information'}\n",
    "df1 = df_mi.groupby('repNum')['MI'].agg(['mean','sem']).reset_index()\n",
    "\n",
    "fig, ax = plt.subplots()\n",
    "ax.bar(data = df1, x = 'repNum', height = 'mean', yerr='sem')\n",
    "plt.title(\"C/L Towerset Mutual information\")\n",
    "plt.ylabel(\"Mutual Information\")\n",
    "plt.xlabel(\"RepNum\")\n",
    "#plt.errorbar(data = df1, x='repNum', y='MI') \n",
    "\n",
    "# plt.yscale(\"log\") \n",
    "# plt.xlabel(\"Genre\") "
   ]
  },
  {
   "cell_type": "markdown",
   "metadata": {},
   "source": [
    "## Isolate words for specific tower within rep and within dyad"
   ]
  },
  {
   "cell_type": "code",
   "execution_count": null,
   "metadata": {},
   "outputs": [],
   "source": [
    "#ISOLATE TOWER 1\n",
    "tower1 = 'C'\n",
    "tower2 = 'P'\n",
    "tower3 = 'L'\n",
    "\n",
    "reps = [0,3]\n",
    "gameids = df['gameid'].unique()\n",
    "\n",
    "rep_out = []\n",
    "game_out = []\n",
    "MI_out = []\n",
    "dict_out = []\n",
    "results = []\n",
    "for game in gameids:\n",
    "    for rep in reps:\n",
    "        target_words_1 = df.loc[(df[tower1] == 1) & (df[tower2] == 1) & (df['gameid'] == game), 'BOW_clean'].iloc[rep].split()\n",
    "        target_words_2 = df.loc[(df[tower1] == 1) & (df[tower3] == 1) & (df['gameid'] == game), 'BOW_clean'].iloc[rep].split()\n",
    "        non_target_words = df.loc[(df[tower2] == 1) & (df[tower3] == 1) & (df['gameid'] == game), 'BOW_clean'].iloc[rep].split()\n",
    "        \n",
    "        target_specific_1 = list(set(target_words_1) - set(non_target_words))\n",
    "        target_specific_2 = list(set(target_words_2) - set(non_target_words))\n",
    "        specific_words = list(set(target_specific_1) & set(target_specific_2))\n",
    "\n",
    "\n",
    "        results.append([game, rep, tower1, specific_words])\n",
    "  \n",
    "  \n",
    "# # Create the pandas DataFrame  \n",
    "df_intersection = pd.DataFrame(results, columns = ['gameid', 'repNum','tower','words'])\n",
    "\n",
    "print(df_intersection.shape)\n",
    "df_intersection.head(10)\n"
   ]
  },
  {
   "cell_type": "code",
   "execution_count": null,
   "metadata": {
    "scrolled": true
   },
   "outputs": [],
   "source": [
    "s = df_intersection[df_intersection['repNum'] == 3]['words']\n",
    "l = [element for list_ in s for element in list_]\n",
    "counts = Counter(l)\n",
    "print(len(counts.keys()))\n",
    "counts.most_common()\n"
   ]
  },
  {
   "cell_type": "code",
   "execution_count": null,
   "metadata": {},
   "outputs": [],
   "source": [
    "labels, values = zip(*counts.items())\n",
    "\n",
    "# sort your values in descending order\n",
    "indSort = np.argsort(values)[::-1]\n",
    "\n",
    "from matplotlib.pyplot import figure\n",
    "figure(num=None, figsize=(10, 5), dpi=80, facecolor='w', edgecolor='k')\n",
    "x_limit = 30\n",
    "\n",
    "# rearrange your data\n",
    "labels = np.array(labels)[indSort][:x_limit]\n",
    "values = np.array(values)[indSort][:x_limit]\n",
    "\n",
    "indexes = np.arange(len(labels))\n",
    "\n",
    "bar_width = 0.35\n",
    "\n",
    "plt.bar(indexes, values)\n",
    "\n",
    "# add labels\n",
    "plt.xticks(indexes + bar_width, labels,  rotation='vertical')\n",
    "plt.show()"
   ]
  },
  {
   "cell_type": "code",
   "execution_count": null,
   "metadata": {},
   "outputs": [],
   "source": [
    "df1"
   ]
  },
  {
   "cell_type": "markdown",
   "metadata": {},
   "source": [
    "### Build a matrix of each word in the corpus and its TF-IDF for that comment"
   ]
  },
  {
   "cell_type": "code",
   "execution_count": null,
   "metadata": {},
   "outputs": [],
   "source": [
    "from sklearn.feature_extraction.text import TfidfVectorizer\n",
    "corpus = df['BOW_clean']\n",
    "vectorizer = TfidfVectorizer(sublinear_tf = True)\n",
    "vectors = vectorizer.fit_transform(corpus)\n",
    "feature_names = vectorizer.get_feature_names()\n",
    "dense = vectors.todense()\n",
    "denselist = dense.tolist()\n",
    "df_vectors = pd.DataFrame(denselist, columns=feature_names)"
   ]
  },
  {
   "cell_type": "markdown",
   "metadata": {},
   "source": [
    "### Select the top 5 words (TF-IDF) for each comment\n",
    "##### Intuitively, this roughly corresponds to what this person is talking about relatively more than any other person"
   ]
  },
  {
   "cell_type": "code",
   "execution_count": null,
   "metadata": {},
   "outputs": [],
   "source": [
    "Tops = pd.DataFrame(df_vectors.apply(lambda x:list(df_vectors.columns[np.array(x).argsort()[::-1][:15]]), axis=1).to_list())\n",
    "\n",
    "Tops"
   ]
  },
  {
   "cell_type": "markdown",
   "metadata": {},
   "source": [
    "## Okay, that was a dud, let's just plot histograms of word frequency for each repNum"
   ]
  },
  {
   "cell_type": "markdown",
   "metadata": {},
   "source": [
    "## Build Towerset and dyad specific BOW separated by first and last rep"
   ]
  },
  {
   "cell_type": "code",
   "execution_count": null,
   "metadata": {},
   "outputs": [],
   "source": [
    "tower1 = 'C'\n",
    "tower2 = 'L'\n",
    "word_list = []\n",
    "gameid = df['gameid'].unique()\n",
    "for game in gameid:\n",
    "    set1 = df.loc[(df[tower1] == 1) & (df[tower2] == 1) & (df['gameid'] == game), 'BOW_clean'].iloc[0].split()\n",
    "    set2 = df.loc[(df[tower1] == 1) & (df[tower2] == 1) & (df['gameid'] == game), 'BOW_clean'].iloc[3].split()\n",
    "    #Get word counts for first set\n",
    "    counts = Counter(set1)\n",
    "    total = sum(counts.values())\n",
    "    d1 = {k: v / total for k, v in counts.items()}\n",
    "    #Get word counts for second set\n",
    "    counts = Counter(set2)\n",
    "    total = sum(counts.values())\n",
    "    d2 = {k: v / total for k, v in counts.items()}\n",
    "    labels, values = zip(*counts.items())\n",
    "\n",
    "    #Get difference in count dicts\n",
    "    d_diff = {key: d2[key] - d1.get(key, 0) for key in d2}\n",
    "    words = list({k: v for k, v in sorted(d_diff.items(), key=lambda item: item[1], reverse = True)}.items())[:5]\n",
    "    word_list.append(words)\n"
   ]
  },
  {
   "cell_type": "code",
   "execution_count": null,
   "metadata": {},
   "outputs": [],
   "source": [
    "out = pd.DataFrame({'gameid':gameid,'word_list':word_list})"
   ]
  },
  {
   "cell_type": "code",
   "execution_count": null,
   "metadata": {},
   "outputs": [],
   "source": [
    "print(out.shape)\n",
    "out"
   ]
  },
  {
   "cell_type": "markdown",
   "metadata": {},
   "source": [
    "## WORD CLOUD!\n",
    "perhaps pointless, but definitely fun!"
   ]
  },
  {
   "cell_type": "code",
   "execution_count": null,
   "metadata": {},
   "outputs": [],
   "source": [
    "from wordcloud import WordCloud\n",
    "figure(num=None, figsize=(10, 10), dpi=80, facecolor='w', edgecolor='k')\n",
    "wordcloud = WordCloud().generate(df['BOW_clean'].iloc[1])\n",
    "\n",
    "plt.imshow(wordcloud, interpolation='bilinear')\n",
    "plt.axis(\"off\")\n",
    "plt.show()\n"
   ]
  },
  {
   "cell_type": "markdown",
   "metadata": {},
   "source": [
    "## Try TF-IDF with tower specific docs"
   ]
  },
  {
   "cell_type": "code",
   "execution_count": null,
   "metadata": {},
   "outputs": [],
   "source": [
    "CP_3 = df.loc[(df['C'] == 1) & (df['P'] == 1), 'BOW_clean'].iloc[3]\n",
    "CL_3 = df.loc[(df['C'] == 1) & (df['L'] == 1), 'BOW_clean'].iloc[3]\n",
    "LP_3 = df.loc[(df['L'] == 1) & (df['P'] == 1), 'BOW_clean'].iloc[3]\n",
    "\n",
    "doc1 = \"hello this this this this this two five ten\"\n",
    "doc2 = \"Other thing this this this this this two hello else\"\n",
    "\n",
    "vectorizer = TfidfVectorizer(sublinear_tf = True)\n",
    "vectors = vectorizer.fit_transform([doc1,doc2])\n",
    "feature_names = vectorizer.get_feature_names()\n",
    "dense = vectors.todense()\n",
    "denselist = dense.tolist()\n",
    "df_vectors = pd.DataFrame(denselist, columns=feature_names)\n",
    "\n",
    "Tops = pd.DataFrame(df_vectors.apply(lambda x:list(df_vectors.columns[np.array(x).argsort()[::-1][:15]]), axis=1).to_list())\n",
    "\n",
    "Tops"
   ]
  },
  {
   "cell_type": "code",
   "execution_count": null,
   "metadata": {},
   "outputs": [],
   "source": [
    "len(doc1)"
   ]
  },
  {
   "cell_type": "code",
   "execution_count": null,
   "metadata": {},
   "outputs": [],
   "source": []
  }
 ],
 "metadata": {
  "kernelspec": {
   "display_name": "Python 3",
   "language": "python",
   "name": "python3"
  },
  "language_info": {
   "codemirror_mode": {
    "name": "ipython",
    "version": 3
   },
   "file_extension": ".py",
   "mimetype": "text/x-python",
   "name": "python",
   "nbconvert_exporter": "python",
   "pygments_lexer": "ipython3",
   "version": "3.7.6"
  }
 },
 "nbformat": 4,
 "nbformat_minor": 4
}
