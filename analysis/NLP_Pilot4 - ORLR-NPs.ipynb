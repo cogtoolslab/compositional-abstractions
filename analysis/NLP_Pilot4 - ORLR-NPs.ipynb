{
 "cells": [
  {
   "cell_type": "markdown",
   "metadata": {},
   "source": [
    "# Exploratory NLP on chat messages in pilot data"
   ]
  },
  {
   "cell_type": "markdown",
   "metadata": {},
   "source": [
    "\n",
    "-------------------------\n",
    "Spacy lemmatizer, numbers to text\n",
    "\n",
    "Calculate new column (prop of L specifc over all words in rep)\n",
    "\n",
    "Proportion of \"L\" specific words in LP and LC (i.e. changing the denominator to only be towersets with L) -- then average for each dyad across the two towers\n",
    "\n",
    "Also column for raw count of L specifc words\n",
    "\n",
    "plot histogram of differences between rep 0 and rep 3\n",
    "\n"
   ]
  },
  {
   "cell_type": "code",
   "execution_count": 1,
   "metadata": {},
   "outputs": [],
   "source": [
    "#!pip install spacy"
   ]
  },
  {
   "cell_type": "markdown",
   "metadata": {},
   "source": [
    "## Import packages"
   ]
  },
  {
   "cell_type": "code",
   "execution_count": 2,
   "metadata": {},
   "outputs": [],
   "source": [
    "from nltk.corpus import stopwords\n",
    "from nltk.tokenize import word_tokenize\n",
    "from nltk.stem import WordNetLemmatizer, SnowballStemmer\n",
    "from nltk.stem.porter import *\n",
    "from collections import Counter\n",
    "from num2words import num2words\n",
    "import gensim\n",
    "from gensim.utils import simple_preprocess\n",
    "from gensim.parsing.preprocessing import STOPWORDS\n",
    "from gensim import matutils, models\n",
    "import matplotlib.pyplot as plt\n",
    "import spacy\n",
    "\n",
    "import nltk\n",
    "import os\n",
    "import string\n",
    "import numpy as np\n",
    "import copy\n",
    "import pandas as pd\n",
    "pd.set_option('display.max_colwidth', 1000)\n",
    "import pickle\n",
    "import re\n",
    "import math\n",
    "\n",
    "\n",
    "stemmer = SnowballStemmer(\"english\")"
   ]
  },
  {
   "cell_type": "markdown",
   "metadata": {},
   "source": [
    "## Import data frames (generated in DF_generator script from mongoDB)"
   ]
  },
  {
   "cell_type": "code",
   "execution_count": 12,
   "metadata": {},
   "outputs": [
    {
     "name": "stdout",
     "output_type": "stream",
     "text": [
      "(3066, 21)\n",
      "Dyads: 71\n"
     ]
    }
   ],
   "source": [
    "df_chat = pd.read_csv('df_chat.csv')\n",
    "print(df_chat.shape)\n",
    "print(\"Dyads:\",len(df_chat.gameid.unique()))"
   ]
  },
  {
   "cell_type": "markdown",
   "metadata": {},
   "source": [
    "### Check exclusion criteria"
   ]
  },
  {
   "cell_type": "code",
   "execution_count": 17,
   "metadata": {},
   "outputs": [
    {
     "name": "stdout",
     "output_type": "stream",
     "text": [
      "Total dyads achieving 75% Accuracy on 75% of trials: 48\n"
     ]
    }
   ],
   "source": [
    "df_trial = pd.read_csv('df_trial.csv')\n",
    "df75 = pd.DataFrame(df_trial.groupby(['gameid', 'trialNum'])['trialScore'].sum()>75).groupby(['gameid']).sum()\n",
    "df75['trials'] = df75['trialScore']\n",
    "\n",
    "#delete rows that aren't greater than 75% in 9 trials\n",
    "df75 = df75[df75['trials']>=9]\n",
    "\n",
    "print(\"Total dyads achieving 75% Accuracy on 75% of trials:\",len(df75))"
   ]
  },
  {
   "cell_type": "markdown",
   "metadata": {},
   "source": [
    "### Remove dyads that did not pass exclusion criteria"
   ]
  },
  {
   "cell_type": "code",
   "execution_count": 18,
   "metadata": {},
   "outputs": [
    {
     "name": "stdout",
     "output_type": "stream",
     "text": [
      "(2223, 21)\n",
      "Passed Dyads: 48\n"
     ]
    }
   ],
   "source": [
    "keep_id = df75.index.tolist()\n",
    "keep_id\n",
    "df = df_chat[df_chat['gameid'].isin(keep_id)]\n",
    "print(df.shape)\n",
    "print(\"Passed Dyads:\",len(df.gameid.unique()))"
   ]
  },
  {
   "cell_type": "code",
   "execution_count": 19,
   "metadata": {},
   "outputs": [
    {
     "data": {
      "text/html": [
       "<div>\n",
       "<style scoped>\n",
       "    .dataframe tbody tr th:only-of-type {\n",
       "        vertical-align: middle;\n",
       "    }\n",
       "\n",
       "    .dataframe tbody tr th {\n",
       "        vertical-align: top;\n",
       "    }\n",
       "\n",
       "    .dataframe thead th {\n",
       "        text-align: right;\n",
       "    }\n",
       "</style>\n",
       "<table border=\"1\" class=\"dataframe\">\n",
       "  <thead>\n",
       "    <tr style=\"text-align: right;\">\n",
       "      <th></th>\n",
       "      <th>gameid</th>\n",
       "      <th>repNum</th>\n",
       "      <th>content</th>\n",
       "      <th>trialNum</th>\n",
       "      <th>C</th>\n",
       "      <th>L</th>\n",
       "      <th>P</th>\n",
       "    </tr>\n",
       "  </thead>\n",
       "  <tbody>\n",
       "    <tr>\n",
       "      <th>2</th>\n",
       "      <td>1494-029e2297-bd3f-4cfe-be00-d06d36724e4e</td>\n",
       "      <td>0</td>\n",
       "      <td>put a blue block three from the left~~~</td>\n",
       "      <td>0</td>\n",
       "      <td>1</td>\n",
       "      <td>0</td>\n",
       "      <td>1</td>\n",
       "    </tr>\n",
       "    <tr>\n",
       "      <th>3</th>\n",
       "      <td>1494-029e2297-bd3f-4cfe-be00-d06d36724e4e</td>\n",
       "      <td>0</td>\n",
       "      <td>place a red block on top of the left side of the blue block and then another red on top of that red</td>\n",
       "      <td>0</td>\n",
       "      <td>1</td>\n",
       "      <td>0</td>\n",
       "      <td>1</td>\n",
       "    </tr>\n",
       "  </tbody>\n",
       "</table>\n",
       "</div>"
      ],
      "text/plain": [
       "                                      gameid  repNum  \\\n",
       "2  1494-029e2297-bd3f-4cfe-be00-d06d36724e4e       0   \n",
       "3  1494-029e2297-bd3f-4cfe-be00-d06d36724e4e       0   \n",
       "\n",
       "                                                                                               content  \\\n",
       "2                                                             put a blue block three from the left~~~    \n",
       "3  place a red block on top of the left side of the blue block and then another red on top of that red   \n",
       "\n",
       "  trialNum  C  L  P  \n",
       "2        0  1  0  1  \n",
       "3        0  1  0  1  "
      ]
     },
     "execution_count": 19,
     "metadata": {},
     "output_type": "execute_result"
    }
   ],
   "source": [
    "df = df[['gameid','repNum','content','trialNum', 'leftTarget', 'rightTarget']]\n",
    "df = df[df.trialNum != 'practice']\n",
    "df = df[df.repNum != 'practice']\n",
    "df['repNum'] = df['repNum'].astype(int)\n",
    "df['C'] = (df['leftTarget'] + df['rightTarget']).apply(lambda x: 1 if 'C' in x   else 0)\n",
    "df['L'] = (df['leftTarget'] + df['rightTarget']).apply(lambda x: 1 if 'L' in x   else 0)\n",
    "df['P'] = (df['leftTarget'] + df['rightTarget']).apply(lambda x: 1 if 'Pi' in x   else 0)\n",
    "df = df.drop(['leftTarget', 'rightTarget'],axis = 1)\n",
    "df.head(2)\n"
   ]
  },
  {
   "cell_type": "code",
   "execution_count": 20,
   "metadata": {},
   "outputs": [],
   "source": [
    "df['BOW_clean'] = df['content'].str.lower()\n",
    "df['BOW_clean'] = df['BOW_clean'].str.replace(r'~', '')\n",
    "df['BOW_clean'] = df['BOW_clean'].str.replace(r'\\(', '')\n",
    "df['BOW_clean'] = df['BOW_clean'].str.replace(r'\\)', '')\n",
    "df['BOW_clean'] = df['BOW_clean'].str.replace(r'\\,', '')\n",
    "df['BOW_clean'] = df['BOW_clean'].str.replace(r\"\\'\", '')\n",
    "df['BOW_clean'] = df['BOW_clean'].str.replace(r\"\\:\", '')\n",
    "df['BOW_clean'] = df['BOW_clean'].str.replace(r'\"', '')\n",
    "df['BOW_clean'] = df['BOW_clean'].str.replace(r\"-\", '')\n",
    "df['BOW_clean'] = df['BOW_clean'].str.replace(r\"/\", ' ')\n",
    "df['BOW_clean'] = df['BOW_clean'].str.replace(r\".\", ' ')\n",
    "df['BOW_clean'] = df['BOW_clean'].str.replace(r\"!\", ' ')"
   ]
  },
  {
   "cell_type": "code",
   "execution_count": 21,
   "metadata": {},
   "outputs": [],
   "source": [
    "import num2words\n",
    "from num2words import num2words\n",
    "def num_2_words(sentence):\n",
    "    out = \"\"\n",
    "    for word in sentence.split():\n",
    "        try:\n",
    "            o = num2words(word)\n",
    "        except:\n",
    "            o = word\n",
    "        out = out+\" \"+ o\n",
    "    return out"
   ]
  },
  {
   "cell_type": "code",
   "execution_count": 22,
   "metadata": {},
   "outputs": [],
   "source": [
    "df['BOW_clean'] = df['BOW_clean'].apply(lambda x: num_2_words(x))"
   ]
  },
  {
   "cell_type": "code",
   "execution_count": 23,
   "metadata": {},
   "outputs": [
    {
     "data": {
      "text/html": [
       "<div>\n",
       "<style scoped>\n",
       "    .dataframe tbody tr th:only-of-type {\n",
       "        vertical-align: middle;\n",
       "    }\n",
       "\n",
       "    .dataframe tbody tr th {\n",
       "        vertical-align: top;\n",
       "    }\n",
       "\n",
       "    .dataframe thead th {\n",
       "        text-align: right;\n",
       "    }\n",
       "</style>\n",
       "<table border=\"1\" class=\"dataframe\">\n",
       "  <thead>\n",
       "    <tr style=\"text-align: right;\">\n",
       "      <th></th>\n",
       "      <th>gameid</th>\n",
       "      <th>repNum</th>\n",
       "      <th>content</th>\n",
       "      <th>trialNum</th>\n",
       "      <th>C</th>\n",
       "      <th>L</th>\n",
       "      <th>P</th>\n",
       "      <th>BOW_clean</th>\n",
       "      <th>noun_phrases</th>\n",
       "    </tr>\n",
       "  </thead>\n",
       "  <tbody>\n",
       "    <tr>\n",
       "      <th>2</th>\n",
       "      <td>1494-029e2297-bd3f-4cfe-be00-d06d36724e4e</td>\n",
       "      <td>0</td>\n",
       "      <td>put a blue block three from the left~~~</td>\n",
       "      <td>0</td>\n",
       "      <td>1</td>\n",
       "      <td>0</td>\n",
       "      <td>1</td>\n",
       "      <td>put a blue block three from the left</td>\n",
       "      <td>[a blue block, the left]</td>\n",
       "    </tr>\n",
       "    <tr>\n",
       "      <th>3</th>\n",
       "      <td>1494-029e2297-bd3f-4cfe-be00-d06d36724e4e</td>\n",
       "      <td>0</td>\n",
       "      <td>place a red block on top of the left side of the blue block and then another red on top of that red</td>\n",
       "      <td>0</td>\n",
       "      <td>1</td>\n",
       "      <td>0</td>\n",
       "      <td>1</td>\n",
       "      <td>place a red block on top of the left side of the blue block and then another red on top of that red</td>\n",
       "      <td>[a red block, top, the left side, the blue block, then another red, top, that red]</td>\n",
       "    </tr>\n",
       "    <tr>\n",
       "      <th>4</th>\n",
       "      <td>1494-029e2297-bd3f-4cfe-be00-d06d36724e4e</td>\n",
       "      <td>0</td>\n",
       "      <td>Now place a blue block on top of that that lines up with the bottom blue block</td>\n",
       "      <td>0</td>\n",
       "      <td>1</td>\n",
       "      <td>0</td>\n",
       "      <td>1</td>\n",
       "      <td>now place a blue block on top of that that lines up with the bottom blue block</td>\n",
       "      <td>[a blue block, top, that lines, the bottom blue block]</td>\n",
       "    </tr>\n",
       "    <tr>\n",
       "      <th>5</th>\n",
       "      <td>1494-029e2297-bd3f-4cfe-be00-d06d36724e4e</td>\n",
       "      <td>0</td>\n",
       "      <td>remove that last blue block, place it on top of the red blocks</td>\n",
       "      <td>0</td>\n",
       "      <td>1</td>\n",
       "      <td>0</td>\n",
       "      <td>1</td>\n",
       "      <td>remove that last blue block place it on top of the red blocks</td>\n",
       "      <td>[it, top, the red blocks]</td>\n",
       "    </tr>\n",
       "    <tr>\n",
       "      <th>6</th>\n",
       "      <td>1494-029e2297-bd3f-4cfe-be00-d06d36724e4e</td>\n",
       "      <td>0</td>\n",
       "      <td>place a red block on the second grid from the right of the screen\\n</td>\n",
       "      <td>0</td>\n",
       "      <td>1</td>\n",
       "      <td>0</td>\n",
       "      <td>1</td>\n",
       "      <td>place a red block on the second grid from the right of the screen</td>\n",
       "      <td>[a red block, the second grid, the right, the screen]</td>\n",
       "    </tr>\n",
       "  </tbody>\n",
       "</table>\n",
       "</div>"
      ],
      "text/plain": [
       "                                      gameid  repNum  \\\n",
       "2  1494-029e2297-bd3f-4cfe-be00-d06d36724e4e       0   \n",
       "3  1494-029e2297-bd3f-4cfe-be00-d06d36724e4e       0   \n",
       "4  1494-029e2297-bd3f-4cfe-be00-d06d36724e4e       0   \n",
       "5  1494-029e2297-bd3f-4cfe-be00-d06d36724e4e       0   \n",
       "6  1494-029e2297-bd3f-4cfe-be00-d06d36724e4e       0   \n",
       "\n",
       "                                                                                               content  \\\n",
       "2                                                             put a blue block three from the left~~~    \n",
       "3  place a red block on top of the left side of the blue block and then another red on top of that red   \n",
       "4                       Now place a blue block on top of that that lines up with the bottom blue block   \n",
       "5                                       remove that last blue block, place it on top of the red blocks   \n",
       "6                                  place a red block on the second grid from the right of the screen\\n   \n",
       "\n",
       "  trialNum  C  L  P  \\\n",
       "2        0  1  0  1   \n",
       "3        0  1  0  1   \n",
       "4        0  1  0  1   \n",
       "5        0  1  0  1   \n",
       "6        0  1  0  1   \n",
       "\n",
       "                                                                                              BOW_clean  \\\n",
       "2                                                                  put a blue block three from the left   \n",
       "3   place a red block on top of the left side of the blue block and then another red on top of that red   \n",
       "4                        now place a blue block on top of that that lines up with the bottom blue block   \n",
       "5                                         remove that last blue block place it on top of the red blocks   \n",
       "6                                     place a red block on the second grid from the right of the screen   \n",
       "\n",
       "                                                                         noun_phrases  \n",
       "2                                                            [a blue block, the left]  \n",
       "3  [a red block, top, the left side, the blue block, then another red, top, that red]  \n",
       "4                              [a blue block, top, that lines, the bottom blue block]  \n",
       "5                                                           [it, top, the red blocks]  \n",
       "6                               [a red block, the second grid, the right, the screen]  "
      ]
     },
     "execution_count": 23,
     "metadata": {},
     "output_type": "execute_result"
    }
   ],
   "source": [
    "nlp = spacy.load('en', disable=['parser', 'ner'])\n",
    "nlp = spacy.load(\"en_core_web_sm\")\n",
    "df['noun_phrases'] = df['BOW_clean'].apply(lambda x: [chunk.text for chunk in nlp(x).noun_chunks])\n",
    "df.head()"
   ]
  },
  {
   "cell_type": "markdown",
   "metadata": {},
   "source": [
    "## Create Bag of Words for each repNum by concatenating content\n",
    "create df with column for repnum and column for entire string grouped by repnum"
   ]
  },
  {
   "cell_type": "code",
   "execution_count": 24,
   "metadata": {},
   "outputs": [
    {
     "name": "stdout",
     "output_type": "stream",
     "text": [
      "(576, 7)\n"
     ]
    },
    {
     "data": {
      "text/html": [
       "<div>\n",
       "<style scoped>\n",
       "    .dataframe tbody tr th:only-of-type {\n",
       "        vertical-align: middle;\n",
       "    }\n",
       "\n",
       "    .dataframe tbody tr th {\n",
       "        vertical-align: top;\n",
       "    }\n",
       "\n",
       "    .dataframe thead th {\n",
       "        text-align: right;\n",
       "    }\n",
       "</style>\n",
       "<table border=\"1\" class=\"dataframe\">\n",
       "  <thead>\n",
       "    <tr style=\"text-align: right;\">\n",
       "      <th></th>\n",
       "      <th>gameid</th>\n",
       "      <th>repNum</th>\n",
       "      <th>C</th>\n",
       "      <th>L</th>\n",
       "      <th>P</th>\n",
       "      <th>noun_phrases</th>\n",
       "      <th>np_bow</th>\n",
       "    </tr>\n",
       "  </thead>\n",
       "  <tbody>\n",
       "    <tr>\n",
       "      <th>0</th>\n",
       "      <td>0110-5784fec9-109a-4d7a-a343-4820f4d42144</td>\n",
       "      <td>0</td>\n",
       "      <td>0</td>\n",
       "      <td>1</td>\n",
       "      <td>1</td>\n",
       "      <td>[ two blue blocks, left and right side, left right line,  two red block, top, left blue block, right line,  one blue block, top red block, left red line, more red block, top, left red block]</td>\n",
       "      <td>two blue blocks left and right side left right line  two red block top left blue block right line  one blue block top red block left red line more red block top left red block</td>\n",
       "    </tr>\n",
       "    <tr>\n",
       "      <th>1</th>\n",
       "      <td>0110-5784fec9-109a-4d7a-a343-4820f4d42144</td>\n",
       "      <td>0</td>\n",
       "      <td>1</td>\n",
       "      <td>0</td>\n",
       "      <td>1</td>\n",
       "      <td>[left red line place blue block, the middle, two red, left side, that blue block, left red line place blue block, highest red, it, the right side, that line, step, the left side, two spaces, those two red blocks, right red line place, one blue block, top, each red block, the blue blocks, touch]</td>\n",
       "      <td>left red line place blue block the middle two red left side that blue block left red line place blue block highest red it the right side that line step the left side two spaces those two red blocks right red line place one blue block top each red block the blue blocks touch</td>\n",
       "    </tr>\n",
       "  </tbody>\n",
       "</table>\n",
       "</div>"
      ],
      "text/plain": [
       "                                      gameid  repNum  C  L  P  \\\n",
       "0  0110-5784fec9-109a-4d7a-a343-4820f4d42144       0  0  1  1   \n",
       "1  0110-5784fec9-109a-4d7a-a343-4820f4d42144       0  1  0  1   \n",
       "\n",
       "                                                                                                                                                                                                                                                                                              noun_phrases  \\\n",
       "0                                                                                                           [ two blue blocks, left and right side, left right line,  two red block, top, left blue block, right line,  one blue block, top red block, left red line, more red block, top, left red block]   \n",
       "1  [left red line place blue block, the middle, two red, left side, that blue block, left red line place blue block, highest red, it, the right side, that line, step, the left side, two spaces, those two red blocks, right red line place, one blue block, top, each red block, the blue blocks, touch]   \n",
       "\n",
       "                                                                                                                                                                                                                                                                               np_bow  \n",
       "0                                                                                                     two blue blocks left and right side left right line  two red block top left blue block right line  one blue block top red block left red line more red block top left red block  \n",
       "1  left red line place blue block the middle two red left side that blue block left red line place blue block highest red it the right side that line step the left side two spaces those two red blocks right red line place one blue block top each red block the blue blocks touch  "
      ]
     },
     "execution_count": 24,
     "metadata": {},
     "output_type": "execute_result"
    }
   ],
   "source": [
    "# df['BOW'] = df[['repNum','C','L','Pi','content']].groupby(['repNum','C','L','Pi'])['content'].transform(lambda x: ' '.join(x))\n",
    "# df = df[['repNum','C','L','Pi','BOW']]\n",
    "df = df.groupby(['gameid','repNum','C','L','P'])['noun_phrases'].apply(sum).reset_index()\n",
    "# df['instructions'] = df.groupby(['gameid','repNum','C','L','P'])['noun_phrases'].apply(lambda x: ' '.join(x)).reset_index()\n",
    "df['np_bow'] = df['noun_phrases'].apply(lambda x: ' '.join(x))\n",
    "print(df.shape)\n",
    "df.head(2)"
   ]
  },
  {
   "cell_type": "markdown",
   "metadata": {},
   "source": [
    "## Isolate words for specific tower within rep and within dyad"
   ]
  },
  {
   "cell_type": "code",
   "execution_count": 25,
   "metadata": {},
   "outputs": [
    {
     "name": "stdout",
     "output_type": "stream",
     "text": [
      "(96, 8)\n"
     ]
    },
    {
     "data": {
      "text/html": [
       "<div>\n",
       "<style scoped>\n",
       "    .dataframe tbody tr th:only-of-type {\n",
       "        vertical-align: middle;\n",
       "    }\n",
       "\n",
       "    .dataframe tbody tr th {\n",
       "        vertical-align: top;\n",
       "    }\n",
       "\n",
       "    .dataframe thead th {\n",
       "        text-align: right;\n",
       "    }\n",
       "</style>\n",
       "<table border=\"1\" class=\"dataframe\">\n",
       "  <thead>\n",
       "    <tr style=\"text-align: right;\">\n",
       "      <th></th>\n",
       "      <th>gameid</th>\n",
       "      <th>repNum</th>\n",
       "      <th>tower</th>\n",
       "      <th>tower_specific_words</th>\n",
       "      <th>tower_total_words</th>\n",
       "      <th>rep_total_words</th>\n",
       "      <th>tower_specific_length</th>\n",
       "      <th>tower_specific_prop</th>\n",
       "    </tr>\n",
       "  </thead>\n",
       "  <tbody>\n",
       "    <tr>\n",
       "      <th>94</th>\n",
       "      <td>9961-1bd92164-cbe7-4841-8225-7de8486bf84a</td>\n",
       "      <td>0</td>\n",
       "      <td>L</td>\n",
       "      <td>[other]</td>\n",
       "      <td>27</td>\n",
       "      <td>32</td>\n",
       "      <td>1</td>\n",
       "      <td>0.03125</td>\n",
       "    </tr>\n",
       "    <tr>\n",
       "      <th>95</th>\n",
       "      <td>9961-1bd92164-cbe7-4841-8225-7de8486bf84a</td>\n",
       "      <td>3</td>\n",
       "      <td>L</td>\n",
       "      <td>[reds, edge]</td>\n",
       "      <td>23</td>\n",
       "      <td>25</td>\n",
       "      <td>2</td>\n",
       "      <td>0.08000</td>\n",
       "    </tr>\n",
       "  </tbody>\n",
       "</table>\n",
       "</div>"
      ],
      "text/plain": [
       "                                       gameid  repNum tower  \\\n",
       "94  9961-1bd92164-cbe7-4841-8225-7de8486bf84a       0     L   \n",
       "95  9961-1bd92164-cbe7-4841-8225-7de8486bf84a       3     L   \n",
       "\n",
       "   tower_specific_words  tower_total_words  rep_total_words  \\\n",
       "94              [other]                 27               32   \n",
       "95         [reds, edge]                 23               25   \n",
       "\n",
       "    tower_specific_length  tower_specific_prop  \n",
       "94                      1              0.03125  \n",
       "95                      2              0.08000  "
      ]
     },
     "execution_count": 25,
     "metadata": {},
     "output_type": "execute_result"
    }
   ],
   "source": [
    "#ISOLATE TOWER 1\n",
    "target_tower = 'L'\n",
    "tower2 = 'C'\n",
    "tower3 = 'P'\n",
    "\n",
    "reps = [0,3]\n",
    "gameids = df['gameid'].unique()\n",
    "results = []\n",
    "for game in gameids:\n",
    "    for rep in reps:\n",
    "        target_words_1 = df.loc[(df[target_tower] == 1) & (df[tower2] == 1) & (df['gameid'] == game), 'np_bow'].iloc[rep].split()\n",
    "        target_words_2 = df.loc[(df[target_tower] == 1) & (df[tower3] == 1) & (df['gameid'] == game), 'np_bow'].iloc[rep].split()\n",
    "        non_target_words = df.loc[(df[tower2] == 1) & (df[tower3] == 1) & (df['gameid'] == game), 'np_bow'].iloc[rep].split()\n",
    "        \n",
    "        total_words = set(target_words_1 + target_words_2 + non_target_words)\n",
    "        total_target_words = set(target_words_1 + target_words_2)\n",
    "        \n",
    "        target_specific_1 = list(set(target_words_1) - set(non_target_words))\n",
    "        target_specific_2 = list(set(target_words_2) - set(non_target_words))\n",
    "        specific_words = list(set(target_specific_1) & set(target_specific_2))\n",
    "\n",
    "\n",
    "        results.append([game, rep, target_tower, specific_words, len(total_target_words),len(total_words)])\n",
    "  \n",
    "  \n",
    "# # Create the pandas DataFrame  \n",
    "df_intersection = pd.DataFrame(results, columns = ['gameid', 'repNum','tower','tower_specific_words', 'tower_total_words','rep_total_words'])\n",
    "\n",
    "df_intersection['tower_specific_length'] = df_intersection['tower_specific_words'].apply(lambda x: len(x))\n",
    "df_intersection['tower_specific_prop'] = df_intersection['tower_specific_length'] / df_intersection['rep_total_words']\n",
    "print(df_intersection.shape)\n",
    "df_intersection.tail(2)\n"
   ]
  },
  {
   "cell_type": "markdown",
   "metadata": {},
   "source": [
    "### plot histogram of change in prop of tower-specific words"
   ]
  },
  {
   "cell_type": "code",
   "execution_count": 26,
   "metadata": {},
   "outputs": [],
   "source": [
    "diffs = []\n",
    "for game in df_intersection.gameid.unique():\n",
    "    diffs.append(df_intersection.loc[(df_intersection['gameid'] == game), 'tower_specific_prop'].iloc[1] - \n",
    "                df_intersection.loc[(df_intersection['gameid'] == game), 'tower_specific_prop'].iloc[0])"
   ]
  },
  {
   "cell_type": "code",
   "execution_count": 27,
   "metadata": {},
   "outputs": [
    {
     "name": "stdout",
     "output_type": "stream",
     "text": [
      "48\n",
      "22\n"
     ]
    }
   ],
   "source": [
    "print(len(diffs))\n",
    "pos = [element for element in diffs if element>0]\n",
    "print(len(pos))"
   ]
  },
  {
   "cell_type": "code",
   "execution_count": 58,
   "metadata": {},
   "outputs": [
    {
     "data": {
      "text/plain": [
       "[0.0,\n",
       " 0.0,\n",
       " -0.043243243243243246,\n",
       " 0.030303030303030304,\n",
       " 0.034482758620689655,\n",
       " 0.0,\n",
       " -0.07692307692307693,\n",
       " -0.046511627906976744,\n",
       " 0.017045454545454544,\n",
       " -0.07692307692307693,\n",
       " -0.07692307692307693,\n",
       " 0.08333333333333333,\n",
       " -0.1111111111111111,\n",
       " 0.058333333333333334,\n",
       " -0.08333333333333334,\n",
       " -0.07407407407407407,\n",
       " 0.19281045751633985,\n",
       " 0.13333333333333333,\n",
       " 0.0,\n",
       " -0.03333333333333333,\n",
       " 0.1021505376344086,\n",
       " -0.05555555555555555,\n",
       " 0.1865079365079365,\n",
       " -0.24324324324324326,\n",
       " 0.125,\n",
       " -0.08108108108108109,\n",
       " -0.026455026455026454,\n",
       " -0.10185185185185185,\n",
       " -0.013888888888888888,\n",
       " 0.11666666666666665,\n",
       " -0.007246376811594207,\n",
       " 0.013095238095238094,\n",
       " -0.09523809523809523,\n",
       " 0.03968253968253968,\n",
       " 0.03525641025641026,\n",
       " 0.11960132890365448,\n",
       " 0.125,\n",
       " 0.08717948717948719,\n",
       " -0.11428571428571428,\n",
       " 0.19809523809523807,\n",
       " -0.06481481481481481,\n",
       " 0.009153318077803202,\n",
       " 0.05952380952380952,\n",
       " nan,\n",
       " -0.07692307692307693,\n",
       " 0.0,\n",
       " 0.020155038759689922,\n",
       " 0.04875]"
      ]
     },
     "execution_count": 58,
     "metadata": {},
     "output_type": "execute_result"
    }
   ],
   "source": [
    "diffs"
   ]
  },
  {
   "cell_type": "code",
   "execution_count": 59,
   "metadata": {},
   "outputs": [
    {
     "data": {
      "text/plain": [
       "nan"
      ]
     },
     "execution_count": 59,
     "metadata": {},
     "output_type": "execute_result"
    }
   ],
   "source": [
    "np.mean(diffs)"
   ]
  },
  {
   "cell_type": "code",
   "execution_count": 28,
   "metadata": {},
   "outputs": [
    {
     "name": "stderr",
     "output_type": "stream",
     "text": [
      "/Users/choldawa/opt/anaconda3/lib/python3.7/site-packages/numpy/lib/histograms.py:839: RuntimeWarning: invalid value encountered in greater_equal\n",
      "  keep = (tmp_a >= first_edge)\n",
      "/Users/choldawa/opt/anaconda3/lib/python3.7/site-packages/numpy/lib/histograms.py:840: RuntimeWarning: invalid value encountered in less_equal\n",
      "  keep &= (tmp_a <= last_edge)\n"
     ]
    },
    {
     "data": {
      "image/png": "[encoded data removed]",
      "text/plain": [
       "<Figure size 432x288 with 1 Axes>"
      ]
     },
     "metadata": {
      "needs_background": "light"
     },
     "output_type": "display_data"
    }
   ],
   "source": [
    "data = diffs\n",
    "\n",
    "# fixed bin size\n",
    "\n",
    "plt.hist(data, alpha=0.8)\n",
    "plt.title('Diff in proportion of \"L\" tower-specific  words')\n",
    "plt.xlabel('(rep 3 proportion - rep 0 proportion)')\n",
    "plt.ylabel('count')\n",
    "\n",
    "plt.show()"
   ]
  },
  {
   "cell_type": "code",
   "execution_count": 24,
   "metadata": {
    "scrolled": true
   },
   "outputs": [
    {
     "name": "stdout",
     "output_type": "stream",
     "text": [
      "53\n"
     ]
    },
    {
     "data": {
      "text/plain": [
       "[('C', 13), ('blue', 4), ('red', 4), ('third', 3), ('top', 3)]"
      ]
     },
     "execution_count": 24,
     "metadata": {},
     "output_type": "execute_result"
    }
   ],
   "source": [
    "s = df_intersection[df_intersection['repNum'] == 3]['tower_specific_words']\n",
    "l = [element for list_ in s for element in list_]\n",
    "counts = Counter(l)\n",
    "print(len(counts.keys()))\n",
    "counts.most_common()[:5]\n"
   ]
  },
  {
   "cell_type": "code",
   "execution_count": 25,
   "metadata": {},
   "outputs": [
    {
     "data": {
      "image/png": "[encoded data removed]",
      "text/plain": [
       "<Figure size 800x400 with 1 Axes>"
      ]
     },
     "metadata": {},
     "output_type": "display_data"
    }
   ],
   "source": [
    "labels, values = zip(*counts.items())\n",
    "\n",
    "# sort your values in descending order\n",
    "indSort = np.argsort(values)[::-1]\n",
    "\n",
    "from matplotlib.pyplot import figure\n",
    "figure(num=None, figsize=(10, 5), dpi=80, facecolor='w', edgecolor='k')\n",
    "x_limit = 30\n",
    "\n",
    "# rearrange your data\n",
    "labels = np.array(labels)[indSort][:x_limit]\n",
    "values = np.array(values)[indSort][:x_limit]\n",
    "\n",
    "indexes = np.arange(len(labels))\n",
    "\n",
    "bar_width = 0.35\n",
    "\n",
    "plt.bar(indexes, values)\n",
    "\n",
    "# add labels\n",
    "plt.xticks(indexes + bar_width, labels,  rotation='vertical')\n",
    "plt.show()"
   ]
  },
  {
   "cell_type": "code",
   "execution_count": null,
   "metadata": {},
   "outputs": [],
   "source": []
  }
 ],
 "metadata": {
  "kernelspec": {
   "display_name": "Python 3",
   "language": "python",
   "name": "python3"
  },
  "language_info": {
   "codemirror_mode": {
    "name": "ipython",
    "version": 3
   },
   "file_extension": ".py",
   "mimetype": "text/x-python",
   "name": "python",
   "nbconvert_exporter": "python",
   "pygments_lexer": "ipython3",
   "version": "3.7.6"
  }
 },
 "nbformat": 4,
 "nbformat_minor": 4
}
