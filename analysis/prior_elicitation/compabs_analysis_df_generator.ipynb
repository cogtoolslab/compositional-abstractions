{
 "cells": [
  {
   "cell_type": "markdown",
   "metadata": {},
   "source": [
    "# Notebook for Generating dataframes from multiple sessions\n",
    "\n",
    "Pilot 3 added more checks for engagement early in the experiment.\n",
    "Iteration names:\n",
    "'pre-pilot3':"
   ]
  },
  {
   "cell_type": "markdown",
   "metadata": {},
   "source": [
    "## 1. Read in packages and set up server connection\n",
    "This first section will read in necessary packages for anaysis and establish file paths and connections to the mongo db server"
   ]
  },
  {
   "cell_type": "code",
   "execution_count": 1,
   "metadata": {},
   "outputs": [],
   "source": [
    "import os\n",
    "import sys\n",
    "import urllib, io\n",
    "os.getcwd()\n",
    "sys.path.append(\"..\")\n",
    "sys.path.append(\"../utils\")\n",
    "sys.path.append(\"../analysis/utils\")\n",
    "\n",
    "\n",
    "import numpy as np\n",
    "import scipy.stats as stats\n",
    "import pandas as pd\n",
    "\n",
    "import pymongo as pm\n",
    "from collections import Counter\n",
    "import json\n",
    "import re\n",
    "import ast\n",
    "\n",
    "from PIL import Image, ImageOps, ImageDraw, ImageFont \n",
    "\n",
    "from io import BytesIO\n",
    "import base64\n",
    "\n",
    "import  matplotlib\n",
    "from matplotlib import pylab, mlab, pyplot\n",
    "%matplotlib inline\n",
    "from IPython.core.pylabtools import figsize, getfigs\n",
    "plt = pyplot\n",
    "import matplotlib as mpl\n",
    "mpl.rcParams['pdf.fonttype'] = 42\n",
    "\n",
    "import seaborn as sns\n",
    "sns.set_context('talk')\n",
    "sns.set_style('darkgrid')\n",
    "\n",
    "from IPython.display import clear_output\n",
    "\n",
    "import warnings\n",
    "warnings.filterwarnings(\"ignore\", category=DeprecationWarning)\n",
    "warnings.filterwarnings(\"ignore\", message=\"numpy.dtype size changed\")\n",
    "warnings.filterwarnings(\"ignore\", message=\"numpy.ufunc size changed\")\n",
    "\n",
    "import drawing_utils as drawing\n",
    "import importlib\n",
    "import scoring"
   ]
  },
  {
   "cell_type": "code",
   "execution_count": 2,
   "metadata": {},
   "outputs": [],
   "source": [
    "## directory & file hierarchy\n",
    "proj_dir = os.path.abspath('..')\n",
    "datavol_dir = os.path.join(proj_dir,'data')\n",
    "analysis_dir =  os.path.abspath('.')\n",
    "results_dir = os.path.join(proj_dir,'results')\n",
    "plot_dir = os.path.join(results_dir,'plots')\n",
    "csv_dir = os.path.join(results_dir,'csv')\n",
    "json_dir = os.path.join(results_dir,'json')\n",
    "exp_dir = os.path.abspath(os.path.join(proj_dir,'behavioral_experiments'))\n",
    "png_dir = os.path.abspath(os.path.join(datavol_dir,'png'))\n",
    "\n",
    "## add helpers to python path\n",
    "if os.path.join(proj_dir,'stimuli') not in sys.path:\n",
    "    sys.path.append(os.path.join(proj_dir,'stimuli'))\n",
    "    \n",
    "if not os.path.exists(results_dir):\n",
    "    os.makedirs(results_dir)\n",
    "    \n",
    "if not os.path.exists(plot_dir):\n",
    "    os.makedirs(plot_dir)   \n",
    "    \n",
    "if not os.path.exists(csv_dir):\n",
    "    os.makedirs(csv_dir)       "
   ]
  },
  {
   "cell_type": "markdown",
   "metadata": {},
   "source": [
    "### establish connection to mongo\n",
    "First thing you need to do is to establish an ssh tunnel (aka remote port forwarding) to the server, so that requests to the mongodb can be made \"as if\" the mongodb server is running on your local computer. Run this from the command line before you begin data analysis if you plan to fetch data from mongo:\n",
    "\n",
    "`ssh -fNL 27017:127.0.0.1:27017 USERNAME@cogtoolslab.org`"
   ]
  },
  {
   "cell_type": "code",
   "execution_count": 14,
   "metadata": {},
   "outputs": [],
   "source": [
    "# set vars \n",
    "auth = pd.read_csv(os.path.join(analysis_dir,'../auth.txt'), header = None) # this auth.txt file contains the password for the sketchloop user\n",
    "pswd = auth.values[0][0]\n",
    "user = 'sketchloop'\n",
    "host = 'cogtoolslab.org'\n",
    "\n",
    "# have to fix this to be able to analyze from local\n",
    "import pymongo as pm\n",
    "conn = pm.MongoClient('mongodb://sketchloop:' + pswd + '@127.0.0.1')\n",
    "db = conn['compositional-abstractions']\n",
    "coll = db['prior-elicitation']\n",
    "\n",
    "# which iteration name should we use?\n",
    "iterationName = 'testPilot'\n",
    "\n",
    "# ## look up number of trials (including paired-practice)\n",
    "# numTrials = 13"
   ]
  },
  {
   "cell_type": "code",
   "execution_count": 15,
   "metadata": {},
   "outputs": [
    {
     "name": "stdout",
     "output_type": "stream",
     "text": [
      "Index(['_id', 'rt', 'url', 'trial_type', 'trial_index', 'time_elapsed',\n",
      "       'internal_node_id', 'wID', 'aID', 'hitID', 'iterationName', 'stimulus',\n",
      "       'button_pressed', 'test_part', 'utterance', 'target', 'responses',\n",
      "       'competitor_type', 'target_type', 'pptID', 'question_order', 'workerId',\n",
      "       'gameID', 'eventType'],\n",
      "      dtype='object')\n"
     ]
    }
   ],
   "source": [
    "df_all = pd.DataFrame(coll.find())\n",
    "print(df_all.columns)"
   ]
  },
  {
   "cell_type": "code",
   "execution_count": 16,
   "metadata": {},
   "outputs": [
    {
     "name": "stdout",
     "output_type": "stream",
     "text": [
      "(2, 24)\n"
     ]
    },
    {
     "data": {
      "text/html": [
       "<div>\n",
       "<style scoped>\n",
       "    .dataframe tbody tr th:only-of-type {\n",
       "        vertical-align: middle;\n",
       "    }\n",
       "\n",
       "    .dataframe tbody tr th {\n",
       "        vertical-align: top;\n",
       "    }\n",
       "\n",
       "    .dataframe thead th {\n",
       "        text-align: right;\n",
       "    }\n",
       "</style>\n",
       "<table border=\"1\" class=\"dataframe\">\n",
       "  <thead>\n",
       "    <tr style=\"text-align: right;\">\n",
       "      <th></th>\n",
       "      <th>_id</th>\n",
       "      <th>rt</th>\n",
       "      <th>url</th>\n",
       "      <th>trial_type</th>\n",
       "      <th>trial_index</th>\n",
       "      <th>time_elapsed</th>\n",
       "      <th>internal_node_id</th>\n",
       "      <th>wID</th>\n",
       "      <th>aID</th>\n",
       "      <th>hitID</th>\n",
       "      <th>...</th>\n",
       "      <th>utterance</th>\n",
       "      <th>target</th>\n",
       "      <th>responses</th>\n",
       "      <th>competitor_type</th>\n",
       "      <th>target_type</th>\n",
       "      <th>pptID</th>\n",
       "      <th>question_order</th>\n",
       "      <th>workerId</th>\n",
       "      <th>gameID</th>\n",
       "      <th>eventType</th>\n",
       "    </tr>\n",
       "  </thead>\n",
       "  <tbody>\n",
       "    <tr>\n",
       "      <th>235</th>\n",
       "      <td>609086b709bb643db4f5a15a</td>\n",
       "      <td>3021.385</td>\n",
       "      <td>NaN</td>\n",
       "      <td>survey-text</td>\n",
       "      <td>2</td>\n",
       "      <td>8656</td>\n",
       "      <td>0.0-2.0-0.0</td>\n",
       "      <td></td>\n",
       "      <td></td>\n",
       "      <td></td>\n",
       "      <td>...</td>\n",
       "      <td>block</td>\n",
       "      <td>tower_0.png</td>\n",
       "      <td>{\"Q0\":\"block\"}</td>\n",
       "      <td>NaN</td>\n",
       "      <td>NaN</td>\n",
       "      <td>0342-2ca2d145-4e56-61ed-9a56-15f51d3b527a</td>\n",
       "      <td>NaN</td>\n",
       "      <td>NaN</td>\n",
       "      <td>NaN</td>\n",
       "      <td>NaN</td>\n",
       "    </tr>\n",
       "    <tr>\n",
       "      <th>236</th>\n",
       "      <td>609086ba09bb643db4f5a15b</td>\n",
       "      <td>2454.250</td>\n",
       "      <td>NaN</td>\n",
       "      <td>survey-text</td>\n",
       "      <td>3</td>\n",
       "      <td>11618</td>\n",
       "      <td>0.0-2.0-0.1</td>\n",
       "      <td></td>\n",
       "      <td></td>\n",
       "      <td></td>\n",
       "      <td>...</td>\n",
       "      <td>house</td>\n",
       "      <td>tower_1.png</td>\n",
       "      <td>{\"Q0\":\"house\"}</td>\n",
       "      <td>NaN</td>\n",
       "      <td>NaN</td>\n",
       "      <td>7678-0046c019-f8ec-658c-9013-31951db1279e</td>\n",
       "      <td>NaN</td>\n",
       "      <td>NaN</td>\n",
       "      <td>NaN</td>\n",
       "      <td>NaN</td>\n",
       "    </tr>\n",
       "  </tbody>\n",
       "</table>\n",
       "<p>2 rows × 24 columns</p>\n",
       "</div>"
      ],
      "text/plain": [
       "                          _id        rt  url   trial_type  trial_index  \\\n",
       "235  609086b709bb643db4f5a15a  3021.385  NaN  survey-text            2   \n",
       "236  609086ba09bb643db4f5a15b  2454.250  NaN  survey-text            3   \n",
       "\n",
       "     time_elapsed internal_node_id wID aID hitID  ... utterance       target  \\\n",
       "235          8656      0.0-2.0-0.0                ...     block  tower_0.png   \n",
       "236         11618      0.0-2.0-0.1                ...     house  tower_1.png   \n",
       "\n",
       "          responses competitor_type target_type  \\\n",
       "235  {\"Q0\":\"block\"}             NaN         NaN   \n",
       "236  {\"Q0\":\"house\"}             NaN         NaN   \n",
       "\n",
       "                                         pptID question_order workerId gameID  \\\n",
       "235  0342-2ca2d145-4e56-61ed-9a56-15f51d3b527a            NaN      NaN    NaN   \n",
       "236  7678-0046c019-f8ec-658c-9013-31951db1279e            NaN      NaN    NaN   \n",
       "\n",
       "    eventType  \n",
       "235       NaN  \n",
       "236       NaN  \n",
       "\n",
       "[2 rows x 24 columns]"
      ]
     },
     "execution_count": 16,
     "metadata": {},
     "output_type": "execute_result"
    }
   ],
   "source": [
    "df_responses = df_all[(df_all['trial_type'] == 'survey-text') & (df_all['iterationName'] == iterationName)]\n",
    "print(df_responses.shape)\n",
    "df_responses.head()"
   ]
  },
  {
   "cell_type": "code",
   "execution_count": null,
   "metadata": {},
   "outputs": [],
   "source": []
  }
 ],
 "metadata": {
  "kernelspec": {
   "display_name": "Python 3",
   "language": "python",
   "name": "python3"
  },
  "language_info": {
   "codemirror_mode": {
    "name": "ipython",
    "version": 3
   },
   "file_extension": ".py",
   "mimetype": "text/x-python",
   "name": "python",
   "nbconvert_exporter": "python",
   "pygments_lexer": "ipython3",
   "version": "3.7.6"
  }
 },
 "nbformat": 4,
 "nbformat_minor": 2
}
