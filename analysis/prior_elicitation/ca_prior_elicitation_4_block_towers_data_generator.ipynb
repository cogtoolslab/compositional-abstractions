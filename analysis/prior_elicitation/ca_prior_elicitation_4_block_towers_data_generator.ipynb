{
 "cells": [
  {
   "cell_type": "code",
   "execution_count": 528,
   "metadata": {},
   "outputs": [],
   "source": [
    "import os\n",
    "import sys\n",
    "import urllib, io\n",
    "os.getcwd()\n",
    "sys.path.append(\"..\")\n",
    "# sys.path.append(\"../utils\")\n",
    "sys.path.append(\"../../stimuli\")\n",
    "\n",
    "\n",
    "import numpy as np\n",
    "import scipy.stats as stats\n",
    "import pandas as pd\n",
    "\n",
    "import pymongo as pm\n",
    "from collections import Counter\n",
    "from functools import reduce\n",
    "import json\n",
    "import re\n",
    "import ast\n",
    "\n",
    "from PIL import Image, ImageOps, ImageDraw, ImageFont \n",
    "\n",
    "from io import BytesIO\n",
    "import base64\n",
    "\n",
    "import  matplotlib\n",
    "from matplotlib import pylab, mlab, pyplot\n",
    "%matplotlib inline\n",
    "from IPython.core.pylabtools import figsize, getfigs\n",
    "plt = pyplot\n",
    "import matplotlib as mpl\n",
    "mpl.rcParams['pdf.fonttype'] = 42\n",
    "\n",
    "import seaborn as sns\n",
    "sns.set_context('talk')\n",
    "sns.set_style('darkgrid')\n",
    "\n",
    "from IPython.display import clear_output\n",
    "\n",
    "import warnings\n",
    "warnings.filterwarnings(\"ignore\", category=DeprecationWarning)\n",
    "warnings.filterwarnings(\"ignore\", message=\"numpy.dtype size changed\")\n",
    "warnings.filterwarnings(\"ignore\", message=\"numpy.ufunc size changed\")\n",
    "\n",
    "import drawing_utils as drawing\n",
    "import importlib\n",
    "import scoring\n",
    "\n",
    "import blockworld_helpers as utils"
   ]
  },
  {
   "cell_type": "code",
   "execution_count": 130,
   "metadata": {},
   "outputs": [],
   "source": [
    "## directory & file hierarchy\n",
    "proj_dir = os.path.abspath('..')\n",
    "datavol_dir = os.path.join(proj_dir,'data')\n",
    "analysis_dir =  os.path.abspath('.')\n",
    "results_dir = os.path.join(proj_dir,'results')\n",
    "plot_dir = os.path.join(results_dir,'plots')\n",
    "csv_dir = os.path.join(results_dir,'csv')\n",
    "json_dir = os.path.join(results_dir,'json')\n",
    "exp_dir = os.path.abspath(os.path.join(proj_dir,'behavioral_experiments'))\n",
    "png_dir = os.path.abspath(os.path.join(datavol_dir,'png'))\n",
    "\n",
    "## add helpers to python path\n",
    "if os.path.join(proj_dir,'stimuli') not in sys.path:\n",
    "    sys.path.append(os.path.join(proj_dir,'stimuli'))\n",
    "    \n",
    "if not os.path.exists(results_dir):\n",
    "    os.makedirs(results_dir)\n",
    "    \n",
    "if not os.path.exists(plot_dir):\n",
    "    os.makedirs(plot_dir)   \n",
    "    \n",
    "if not os.path.exists(csv_dir):\n",
    "    os.makedirs(csv_dir)       "
   ]
  },
  {
   "cell_type": "code",
   "execution_count": 632,
   "metadata": {},
   "outputs": [],
   "source": [
    "experiment_name = 'prior_elicitation_lax_tower_4_block_unique_silhouettes_procedural'\n",
    "iteration_name = 'pilot-prolific-0'\n",
    "\n",
    "# experiment_name = 'prior_elicitation_lax_tower_4_block_unique_silhouettes_categorization'\n",
    "# iteration_name = 'prolific-pilot-0'"
   ]
  },
  {
   "cell_type": "code",
   "execution_count": 633,
   "metadata": {},
   "outputs": [],
   "source": [
    "# set vars \n",
    "auth = pd.read_csv(os.path.join(analysis_dir,'../auth.txt'), header = None) # this auth.txt file contains the password for the sketchloop user\n",
    "pswd = auth.values[0][0]\n",
    "user = 'sketchloop'\n",
    "host = 'cogtoolslab.org'\n",
    "\n",
    "# have to fix this to be able to analyze from local\n",
    "import pymongo as pm\n",
    "conn = pm.MongoClient('mongodb://sketchloop:' + pswd + '@127.0.0.1')\n",
    "\n",
    "db = conn['lax']\n",
    "coll = db[experiment_name]\n",
    "\n",
    "# ## look up number of trials (including paired-practice)\n",
    "expected_trials = 26"
   ]
  },
  {
   "cell_type": "code",
   "execution_count": 634,
   "metadata": {},
   "outputs": [],
   "source": [
    "# really_run = False;\n",
    "\n",
    "# if really_run:\n",
    "#     db.drop_collection(experiment_name)"
   ]
  },
  {
   "cell_type": "code",
   "execution_count": 635,
   "metadata": {
    "scrolled": false
   },
   "outputs": [],
   "source": [
    "df_all = pd.DataFrame(coll.find({'iterationName': iteration_name}))\n",
    "# all_data[['gameID','trial_index','label']]"
   ]
  },
  {
   "cell_type": "code",
   "execution_count": 636,
   "metadata": {},
   "outputs": [],
   "source": [
    "# # Find people who have completed all trials\n",
    "# query = coll.find({\"$and\":[\n",
    "#                         {'trialType':'normal-trial'},\n",
    "#                         {'eventType':'trialEnd'},\n",
    "#                         {'iterationName': { '$in': [iteration_name] }},\n",
    "#                         {'trialNum': numTrials-1}]\n",
    "#                      })\n",
    "\n",
    "# complete_data_df = pd.DataFrame(query.sort('absoluteTime'))\n",
    "# complete_data_ids = list(complete_data_df['gameID'])\n",
    "# print(str(len(complete_data_ids)) + ' participants found')\n",
    "\n",
    "\n",
    "# pd.DataFrame(coll.find({'iterationName': iteration_name}))"
   ]
  },
  {
   "cell_type": "markdown",
   "metadata": {},
   "source": [
    "## Filter out metadata\n",
    "\n",
    "Info about stimulus set downloaded from mongo.\n",
    "Contains info about tower type."
   ]
  },
  {
   "cell_type": "code",
   "execution_count": 637,
   "metadata": {},
   "outputs": [],
   "source": [
    "df_meta = df_all[(df_all.datatype == 'stim_metadata') &\n",
    "            (df_all.iterationName == iteration_name)]\\\n",
    "        [[\"gameID\",\"partitionFamily\",\"splitNumber\",\"stimNumbers\", \"stimGroups\",\n",
    "          \"numGames\",\"experimentType\",\"experimentName\", \"s3_bucket\", \"versionInd\"]]"
   ]
  },
  {
   "cell_type": "code",
   "execution_count": 638,
   "metadata": {},
   "outputs": [
    {
     "data": {
      "text/html": [
       "<div>\n",
       "<style scoped>\n",
       "    .dataframe tbody tr th:only-of-type {\n",
       "        vertical-align: middle;\n",
       "    }\n",
       "\n",
       "    .dataframe tbody tr th {\n",
       "        vertical-align: top;\n",
       "    }\n",
       "\n",
       "    .dataframe thead th {\n",
       "        text-align: right;\n",
       "    }\n",
       "</style>\n",
       "<table border=\"1\" class=\"dataframe\">\n",
       "  <thead>\n",
       "    <tr style=\"text-align: right;\">\n",
       "      <th></th>\n",
       "      <th>gameID</th>\n",
       "      <th>partitionFamily</th>\n",
       "      <th>splitNumber</th>\n",
       "      <th>stimNumbers</th>\n",
       "      <th>stimGroups</th>\n",
       "      <th>numGames</th>\n",
       "      <th>experimentType</th>\n",
       "      <th>experimentName</th>\n",
       "      <th>s3_bucket</th>\n",
       "      <th>versionInd</th>\n",
       "    </tr>\n",
       "  </thead>\n",
       "  <tbody>\n",
       "    <tr>\n",
       "      <th>0</th>\n",
       "      <td>5182-3b2c0380-6cf6-4b77-8e7b-8ca944a38a26</td>\n",
       "      <td>0.0</td>\n",
       "      <td>0.0</td>\n",
       "      <td>[000, 007, 009, 011, 019, 023, 025, 029, 034, ...</td>\n",
       "      <td>{'100': 'tall', '106': 'neither', '113': 'neit...</td>\n",
       "      <td>0.0</td>\n",
       "      <td>prior_elicitation</td>\n",
       "      <td>ca_prior_elicitation_4_block_unique_silhouette...</td>\n",
       "      <td>lax-tower-4-block-unique-silhouettes-json</td>\n",
       "      <td>0.0</td>\n",
       "    </tr>\n",
       "    <tr>\n",
       "      <th>1</th>\n",
       "      <td>4074-a43b5040-05a9-421f-8716-994e07b3a219</td>\n",
       "      <td>0.0</td>\n",
       "      <td>1.0</td>\n",
       "      <td>[002, 003, 012, 013, 024, 026, 035, 038, 040, ...</td>\n",
       "      <td>{'101': 'tall', '108': 'neither', '110': 'neit...</td>\n",
       "      <td>0.0</td>\n",
       "      <td>prior_elicitation</td>\n",
       "      <td>ca_prior_elicitation_4_block_unique_silhouette...</td>\n",
       "      <td>lax-tower-4-block-unique-silhouettes-json</td>\n",
       "      <td>0.0</td>\n",
       "    </tr>\n",
       "    <tr>\n",
       "      <th>11</th>\n",
       "      <td>0296-0c9a58f8-9b0e-4357-a90c-c23e2088a269</td>\n",
       "      <td>0.0</td>\n",
       "      <td>2.0</td>\n",
       "      <td>[001, 004, 010, 015, 030, 037, 039, 042, 043, ...</td>\n",
       "      <td>{'102': 'tall', '103': 'neither', '109': 'tall...</td>\n",
       "      <td>0.0</td>\n",
       "      <td>prior_elicitation</td>\n",
       "      <td>ca_prior_elicitation_4_block_unique_silhouette...</td>\n",
       "      <td>lax-tower-4-block-unique-silhouettes-json</td>\n",
       "      <td>0.0</td>\n",
       "    </tr>\n",
       "    <tr>\n",
       "      <th>21</th>\n",
       "      <td>4641-c9c6e48b-2f01-4caf-b9b1-f29659c40474</td>\n",
       "      <td>0.0</td>\n",
       "      <td>3.0</td>\n",
       "      <td>[005, 008, 016, 017, 020, 033, 036, 044, 050, ...</td>\n",
       "      <td>{'104': 'neither', '105': 'neither', '107': 'n...</td>\n",
       "      <td>0.0</td>\n",
       "      <td>prior_elicitation</td>\n",
       "      <td>ca_prior_elicitation_4_block_unique_silhouette...</td>\n",
       "      <td>lax-tower-4-block-unique-silhouettes-json</td>\n",
       "      <td>0.0</td>\n",
       "    </tr>\n",
       "    <tr>\n",
       "      <th>29</th>\n",
       "      <td>6101-d74ea1ce-37dd-4444-b4c8-2ece1f13e4bc</td>\n",
       "      <td>0.0</td>\n",
       "      <td>4.0</td>\n",
       "      <td>[006, 014, 018, 021, 022, 027, 028, 031, 032, ...</td>\n",
       "      <td>{'112': 'neither', '117': 'neither', '121': 't...</td>\n",
       "      <td>0.0</td>\n",
       "      <td>prior_elicitation</td>\n",
       "      <td>ca_prior_elicitation_4_block_unique_silhouette...</td>\n",
       "      <td>lax-tower-4-block-unique-silhouettes-json</td>\n",
       "      <td>0.0</td>\n",
       "    </tr>\n",
       "  </tbody>\n",
       "</table>\n",
       "</div>"
      ],
      "text/plain": [
       "                                       gameID  partitionFamily  splitNumber  \\\n",
       "0   5182-3b2c0380-6cf6-4b77-8e7b-8ca944a38a26              0.0          0.0   \n",
       "1   4074-a43b5040-05a9-421f-8716-994e07b3a219              0.0          1.0   \n",
       "11  0296-0c9a58f8-9b0e-4357-a90c-c23e2088a269              0.0          2.0   \n",
       "21  4641-c9c6e48b-2f01-4caf-b9b1-f29659c40474              0.0          3.0   \n",
       "29  6101-d74ea1ce-37dd-4444-b4c8-2ece1f13e4bc              0.0          4.0   \n",
       "\n",
       "                                          stimNumbers  \\\n",
       "0   [000, 007, 009, 011, 019, 023, 025, 029, 034, ...   \n",
       "1   [002, 003, 012, 013, 024, 026, 035, 038, 040, ...   \n",
       "11  [001, 004, 010, 015, 030, 037, 039, 042, 043, ...   \n",
       "21  [005, 008, 016, 017, 020, 033, 036, 044, 050, ...   \n",
       "29  [006, 014, 018, 021, 022, 027, 028, 031, 032, ...   \n",
       "\n",
       "                                           stimGroups  numGames  \\\n",
       "0   {'100': 'tall', '106': 'neither', '113': 'neit...       0.0   \n",
       "1   {'101': 'tall', '108': 'neither', '110': 'neit...       0.0   \n",
       "11  {'102': 'tall', '103': 'neither', '109': 'tall...       0.0   \n",
       "21  {'104': 'neither', '105': 'neither', '107': 'n...       0.0   \n",
       "29  {'112': 'neither', '117': 'neither', '121': 't...       0.0   \n",
       "\n",
       "       experimentType                                     experimentName  \\\n",
       "0   prior_elicitation  ca_prior_elicitation_4_block_unique_silhouette...   \n",
       "1   prior_elicitation  ca_prior_elicitation_4_block_unique_silhouette...   \n",
       "11  prior_elicitation  ca_prior_elicitation_4_block_unique_silhouette...   \n",
       "21  prior_elicitation  ca_prior_elicitation_4_block_unique_silhouette...   \n",
       "29  prior_elicitation  ca_prior_elicitation_4_block_unique_silhouette...   \n",
       "\n",
       "                                    s3_bucket  versionInd  \n",
       "0   lax-tower-4-block-unique-silhouettes-json         0.0  \n",
       "1   lax-tower-4-block-unique-silhouettes-json         0.0  \n",
       "11  lax-tower-4-block-unique-silhouettes-json         0.0  \n",
       "21  lax-tower-4-block-unique-silhouettes-json         0.0  \n",
       "29  lax-tower-4-block-unique-silhouettes-json         0.0  "
      ]
     },
     "execution_count": 638,
     "metadata": {},
     "output_type": "execute_result"
    }
   ],
   "source": [
    "df_meta"
   ]
  },
  {
   "cell_type": "markdown",
   "metadata": {},
   "source": [
    "## Grab trial data"
   ]
  },
  {
   "cell_type": "code",
   "execution_count": 639,
   "metadata": {},
   "outputs": [],
   "source": [
    "df_trial = df_all[(df_all.datatype == 'trial_end') &\n",
    "             (df_all.trial_type == 'stimuli-language-production') &\n",
    "             (df_all.iterationName == iteration_name)]\\\n",
    "            [['datatype', 'iterationName', 'condition',\n",
    "       'config_name', 'workerID', 'gameID', 'shuffle', 'trialOrder', 'rt',\n",
    "       'url', 'trial_type', 'trial_index', 'time_elapsed', 'internal_node_id',\n",
    "       'view_history', 'label', 'stimId', 'stimURL', 'responses']]"
   ]
  },
  {
   "cell_type": "markdown",
   "metadata": {},
   "source": [
    "### Add metadata to trial data"
   ]
  },
  {
   "cell_type": "code",
   "execution_count": 640,
   "metadata": {},
   "outputs": [],
   "source": [
    "# verify stim groups in metadata are correct\n",
    "dicts = list(df_all[df_all.datatype=='stim_metadata']['stimGroups'])\n",
    "\n",
    "stim_groups = reduce(lambda dict1, dict2: {**dict1, **dict2}, dicts)\n",
    "pd.Series(list(stim_groups.values())).value_counts()\n",
    "\n",
    "# assign stim groups from metadata (althoug)\n",
    "df_trial['stim_group'] = df_trial['stimId'].apply(lambda stim: stim_groups[stim])\n",
    "df_trial = df_trial.merge(df_meta, how='left', on='gameID')"
   ]
  },
  {
   "cell_type": "markdown",
   "metadata": {},
   "source": [
    "## Todo: get complete data sets"
   ]
  },
  {
   "cell_type": "code",
   "execution_count": 641,
   "metadata": {},
   "outputs": [
    {
     "data": {
      "text/plain": [
       "gameID\n",
       "0296-0c9a58f8-9b0e-4357-a90c-c23e2088a269     8.0\n",
       "4074-a43b5040-05a9-421f-8716-994e07b3a219     7.0\n",
       "4641-c9c6e48b-2f01-4caf-b9b1-f29659c40474     2.0\n",
       "5182-3b2c0380-6cf6-4b77-8e7b-8ca944a38a26     4.0\n",
       "6101-d74ea1ce-37dd-4444-b4c8-2ece1f13e4bc    25.0\n",
       "Name: trial_index, dtype: float64"
      ]
     },
     "execution_count": 641,
     "metadata": {},
     "output_type": "execute_result"
    }
   ],
   "source": [
    "df_trial.groupby('gameID')['trial_index'].last()"
   ]
  },
  {
   "cell_type": "markdown",
   "metadata": {},
   "source": [
    "## Which batches need re-running? (move to stim_partitioning.ipynb)\n",
    "\n",
    "TODO: Find incomplete datasets that need to be given to another participant and upload to mongo\n",
    "\n",
    "- get each gameID + their partitionFamily splitNumber stimNumbers, \n",
    "- get number of trials\n",
    "- work out which batches need to be re-run"
   ]
  },
  {
   "cell_type": "code",
   "execution_count": 642,
   "metadata": {},
   "outputs": [],
   "source": []
  },
  {
   "cell_type": "code",
   "execution_count": null,
   "metadata": {},
   "outputs": [],
   "source": []
  },
  {
   "cell_type": "code",
   "execution_count": 643,
   "metadata": {},
   "outputs": [
    {
     "data": {
      "text/html": [
       "<div>\n",
       "<style scoped>\n",
       "    .dataframe tbody tr th:only-of-type {\n",
       "        vertical-align: middle;\n",
       "    }\n",
       "\n",
       "    .dataframe tbody tr th {\n",
       "        vertical-align: top;\n",
       "    }\n",
       "\n",
       "    .dataframe thead th {\n",
       "        text-align: right;\n",
       "    }\n",
       "</style>\n",
       "<table border=\"1\" class=\"dataframe\">\n",
       "  <thead>\n",
       "    <tr style=\"text-align: right;\">\n",
       "      <th></th>\n",
       "      <th>datatype</th>\n",
       "      <th>iterationName</th>\n",
       "      <th>condition</th>\n",
       "      <th>config_name</th>\n",
       "      <th>workerID</th>\n",
       "      <th>gameID</th>\n",
       "      <th>shuffle</th>\n",
       "      <th>trialOrder</th>\n",
       "      <th>rt</th>\n",
       "      <th>url</th>\n",
       "      <th>...</th>\n",
       "      <th>stim_group</th>\n",
       "      <th>partitionFamily</th>\n",
       "      <th>splitNumber</th>\n",
       "      <th>stimNumbers</th>\n",
       "      <th>stimGroups</th>\n",
       "      <th>numGames</th>\n",
       "      <th>experimentType</th>\n",
       "      <th>experimentName</th>\n",
       "      <th>s3_bucket</th>\n",
       "      <th>versionInd</th>\n",
       "    </tr>\n",
       "  </thead>\n",
       "  <tbody>\n",
       "    <tr>\n",
       "      <th>0</th>\n",
       "      <td>trial_end</td>\n",
       "      <td>pilot-prolific-0</td>\n",
       "      <td>all</td>\n",
       "      <td>lax-tower-4-block-unique-silhouettes-procedural</td>\n",
       "      <td>60ffb005bafbac5c43cbb053</td>\n",
       "      <td>4074-a43b5040-05a9-421f-8716-994e07b3a219</td>\n",
       "      <td>NaN</td>\n",
       "      <td>NaN</td>\n",
       "      <td>135276.7</td>\n",
       "      <td>NaN</td>\n",
       "      <td>...</td>\n",
       "      <td>wide</td>\n",
       "      <td>0.0</td>\n",
       "      <td>1.0</td>\n",
       "      <td>[002, 003, 012, 013, 024, 026, 035, 038, 040, ...</td>\n",
       "      <td>{'101': 'tall', '108': 'neither', '110': 'neit...</td>\n",
       "      <td>0.0</td>\n",
       "      <td>prior_elicitation</td>\n",
       "      <td>ca_prior_elicitation_4_block_unique_silhouette...</td>\n",
       "      <td>lax-tower-4-block-unique-silhouettes-json</td>\n",
       "      <td>0.0</td>\n",
       "    </tr>\n",
       "    <tr>\n",
       "      <th>1</th>\n",
       "      <td>trial_end</td>\n",
       "      <td>pilot-prolific-0</td>\n",
       "      <td>all</td>\n",
       "      <td>lax-tower-4-block-unique-silhouettes-procedural</td>\n",
       "      <td>6107850120a7fe1e101d17d5</td>\n",
       "      <td>5182-3b2c0380-6cf6-4b77-8e7b-8ca944a38a26</td>\n",
       "      <td>NaN</td>\n",
       "      <td>NaN</td>\n",
       "      <td>223205.2</td>\n",
       "      <td>NaN</td>\n",
       "      <td>...</td>\n",
       "      <td>neither</td>\n",
       "      <td>0.0</td>\n",
       "      <td>0.0</td>\n",
       "      <td>[000, 007, 009, 011, 019, 023, 025, 029, 034, ...</td>\n",
       "      <td>{'100': 'tall', '106': 'neither', '113': 'neit...</td>\n",
       "      <td>0.0</td>\n",
       "      <td>prior_elicitation</td>\n",
       "      <td>ca_prior_elicitation_4_block_unique_silhouette...</td>\n",
       "      <td>lax-tower-4-block-unique-silhouettes-json</td>\n",
       "      <td>0.0</td>\n",
       "    </tr>\n",
       "    <tr>\n",
       "      <th>2</th>\n",
       "      <td>trial_end</td>\n",
       "      <td>pilot-prolific-0</td>\n",
       "      <td>all</td>\n",
       "      <td>lax-tower-4-block-unique-silhouettes-procedural</td>\n",
       "      <td>60ffb005bafbac5c43cbb053</td>\n",
       "      <td>4074-a43b5040-05a9-421f-8716-994e07b3a219</td>\n",
       "      <td>NaN</td>\n",
       "      <td>NaN</td>\n",
       "      <td>154092.0</td>\n",
       "      <td>NaN</td>\n",
       "      <td>...</td>\n",
       "      <td>neither</td>\n",
       "      <td>0.0</td>\n",
       "      <td>1.0</td>\n",
       "      <td>[002, 003, 012, 013, 024, 026, 035, 038, 040, ...</td>\n",
       "      <td>{'101': 'tall', '108': 'neither', '110': 'neit...</td>\n",
       "      <td>0.0</td>\n",
       "      <td>prior_elicitation</td>\n",
       "      <td>ca_prior_elicitation_4_block_unique_silhouette...</td>\n",
       "      <td>lax-tower-4-block-unique-silhouettes-json</td>\n",
       "      <td>0.0</td>\n",
       "    </tr>\n",
       "    <tr>\n",
       "      <th>3</th>\n",
       "      <td>trial_end</td>\n",
       "      <td>pilot-prolific-0</td>\n",
       "      <td>all</td>\n",
       "      <td>lax-tower-4-block-unique-silhouettes-procedural</td>\n",
       "      <td>6107850120a7fe1e101d17d5</td>\n",
       "      <td>5182-3b2c0380-6cf6-4b77-8e7b-8ca944a38a26</td>\n",
       "      <td>NaN</td>\n",
       "      <td>NaN</td>\n",
       "      <td>180096.6</td>\n",
       "      <td>NaN</td>\n",
       "      <td>...</td>\n",
       "      <td>neither</td>\n",
       "      <td>0.0</td>\n",
       "      <td>0.0</td>\n",
       "      <td>[000, 007, 009, 011, 019, 023, 025, 029, 034, ...</td>\n",
       "      <td>{'100': 'tall', '106': 'neither', '113': 'neit...</td>\n",
       "      <td>0.0</td>\n",
       "      <td>prior_elicitation</td>\n",
       "      <td>ca_prior_elicitation_4_block_unique_silhouette...</td>\n",
       "      <td>lax-tower-4-block-unique-silhouettes-json</td>\n",
       "      <td>0.0</td>\n",
       "    </tr>\n",
       "    <tr>\n",
       "      <th>4</th>\n",
       "      <td>trial_end</td>\n",
       "      <td>pilot-prolific-0</td>\n",
       "      <td>all</td>\n",
       "      <td>lax-tower-4-block-unique-silhouettes-procedural</td>\n",
       "      <td>6107850120a7fe1e101d17d5</td>\n",
       "      <td>5182-3b2c0380-6cf6-4b77-8e7b-8ca944a38a26</td>\n",
       "      <td>NaN</td>\n",
       "      <td>NaN</td>\n",
       "      <td>340038.8</td>\n",
       "      <td>NaN</td>\n",
       "      <td>...</td>\n",
       "      <td>neither</td>\n",
       "      <td>0.0</td>\n",
       "      <td>0.0</td>\n",
       "      <td>[000, 007, 009, 011, 019, 023, 025, 029, 034, ...</td>\n",
       "      <td>{'100': 'tall', '106': 'neither', '113': 'neit...</td>\n",
       "      <td>0.0</td>\n",
       "      <td>prior_elicitation</td>\n",
       "      <td>ca_prior_elicitation_4_block_unique_silhouette...</td>\n",
       "      <td>lax-tower-4-block-unique-silhouettes-json</td>\n",
       "      <td>0.0</td>\n",
       "    </tr>\n",
       "    <tr>\n",
       "      <th>5</th>\n",
       "      <td>trial_end</td>\n",
       "      <td>pilot-prolific-0</td>\n",
       "      <td>all</td>\n",
       "      <td>lax-tower-4-block-unique-silhouettes-procedural</td>\n",
       "      <td>56fea1c604254b000f0065a9</td>\n",
       "      <td>0296-0c9a58f8-9b0e-4357-a90c-c23e2088a269</td>\n",
       "      <td>NaN</td>\n",
       "      <td>NaN</td>\n",
       "      <td>125888.0</td>\n",
       "      <td>NaN</td>\n",
       "      <td>...</td>\n",
       "      <td>neither</td>\n",
       "      <td>0.0</td>\n",
       "      <td>2.0</td>\n",
       "      <td>[001, 004, 010, 015, 030, 037, 039, 042, 043, ...</td>\n",
       "      <td>{'102': 'tall', '103': 'neither', '109': 'tall...</td>\n",
       "      <td>0.0</td>\n",
       "      <td>prior_elicitation</td>\n",
       "      <td>ca_prior_elicitation_4_block_unique_silhouette...</td>\n",
       "      <td>lax-tower-4-block-unique-silhouettes-json</td>\n",
       "      <td>0.0</td>\n",
       "    </tr>\n",
       "    <tr>\n",
       "      <th>6</th>\n",
       "      <td>trial_end</td>\n",
       "      <td>pilot-prolific-0</td>\n",
       "      <td>all</td>\n",
       "      <td>lax-tower-4-block-unique-silhouettes-procedural</td>\n",
       "      <td>56fea1c604254b000f0065a9</td>\n",
       "      <td>0296-0c9a58f8-9b0e-4357-a90c-c23e2088a269</td>\n",
       "      <td>NaN</td>\n",
       "      <td>NaN</td>\n",
       "      <td>68761.0</td>\n",
       "      <td>NaN</td>\n",
       "      <td>...</td>\n",
       "      <td>neither</td>\n",
       "      <td>0.0</td>\n",
       "      <td>2.0</td>\n",
       "      <td>[001, 004, 010, 015, 030, 037, 039, 042, 043, ...</td>\n",
       "      <td>{'102': 'tall', '103': 'neither', '109': 'tall...</td>\n",
       "      <td>0.0</td>\n",
       "      <td>prior_elicitation</td>\n",
       "      <td>ca_prior_elicitation_4_block_unique_silhouette...</td>\n",
       "      <td>lax-tower-4-block-unique-silhouettes-json</td>\n",
       "      <td>0.0</td>\n",
       "    </tr>\n",
       "    <tr>\n",
       "      <th>7</th>\n",
       "      <td>trial_end</td>\n",
       "      <td>pilot-prolific-0</td>\n",
       "      <td>all</td>\n",
       "      <td>lax-tower-4-block-unique-silhouettes-procedural</td>\n",
       "      <td>56fea1c604254b000f0065a9</td>\n",
       "      <td>0296-0c9a58f8-9b0e-4357-a90c-c23e2088a269</td>\n",
       "      <td>NaN</td>\n",
       "      <td>NaN</td>\n",
       "      <td>91057.0</td>\n",
       "      <td>NaN</td>\n",
       "      <td>...</td>\n",
       "      <td>wide</td>\n",
       "      <td>0.0</td>\n",
       "      <td>2.0</td>\n",
       "      <td>[001, 004, 010, 015, 030, 037, 039, 042, 043, ...</td>\n",
       "      <td>{'102': 'tall', '103': 'neither', '109': 'tall...</td>\n",
       "      <td>0.0</td>\n",
       "      <td>prior_elicitation</td>\n",
       "      <td>ca_prior_elicitation_4_block_unique_silhouette...</td>\n",
       "      <td>lax-tower-4-block-unique-silhouettes-json</td>\n",
       "      <td>0.0</td>\n",
       "    </tr>\n",
       "    <tr>\n",
       "      <th>8</th>\n",
       "      <td>trial_end</td>\n",
       "      <td>pilot-prolific-0</td>\n",
       "      <td>all</td>\n",
       "      <td>lax-tower-4-block-unique-silhouettes-procedural</td>\n",
       "      <td>56fea1c604254b000f0065a9</td>\n",
       "      <td>0296-0c9a58f8-9b0e-4357-a90c-c23e2088a269</td>\n",
       "      <td>NaN</td>\n",
       "      <td>NaN</td>\n",
       "      <td>73032.0</td>\n",
       "      <td>NaN</td>\n",
       "      <td>...</td>\n",
       "      <td>neither</td>\n",
       "      <td>0.0</td>\n",
       "      <td>2.0</td>\n",
       "      <td>[001, 004, 010, 015, 030, 037, 039, 042, 043, ...</td>\n",
       "      <td>{'102': 'tall', '103': 'neither', '109': 'tall...</td>\n",
       "      <td>0.0</td>\n",
       "      <td>prior_elicitation</td>\n",
       "      <td>ca_prior_elicitation_4_block_unique_silhouette...</td>\n",
       "      <td>lax-tower-4-block-unique-silhouettes-json</td>\n",
       "      <td>0.0</td>\n",
       "    </tr>\n",
       "    <tr>\n",
       "      <th>9</th>\n",
       "      <td>trial_end</td>\n",
       "      <td>pilot-prolific-0</td>\n",
       "      <td>all</td>\n",
       "      <td>lax-tower-4-block-unique-silhouettes-procedural</td>\n",
       "      <td>56fea1c604254b000f0065a9</td>\n",
       "      <td>0296-0c9a58f8-9b0e-4357-a90c-c23e2088a269</td>\n",
       "      <td>NaN</td>\n",
       "      <td>NaN</td>\n",
       "      <td>51761.0</td>\n",
       "      <td>NaN</td>\n",
       "      <td>...</td>\n",
       "      <td>tall</td>\n",
       "      <td>0.0</td>\n",
       "      <td>2.0</td>\n",
       "      <td>[001, 004, 010, 015, 030, 037, 039, 042, 043, ...</td>\n",
       "      <td>{'102': 'tall', '103': 'neither', '109': 'tall...</td>\n",
       "      <td>0.0</td>\n",
       "      <td>prior_elicitation</td>\n",
       "      <td>ca_prior_elicitation_4_block_unique_silhouette...</td>\n",
       "      <td>lax-tower-4-block-unique-silhouettes-json</td>\n",
       "      <td>0.0</td>\n",
       "    </tr>\n",
       "    <tr>\n",
       "      <th>10</th>\n",
       "      <td>trial_end</td>\n",
       "      <td>pilot-prolific-0</td>\n",
       "      <td>all</td>\n",
       "      <td>lax-tower-4-block-unique-silhouettes-procedural</td>\n",
       "      <td>56fea1c604254b000f0065a9</td>\n",
       "      <td>0296-0c9a58f8-9b0e-4357-a90c-c23e2088a269</td>\n",
       "      <td>NaN</td>\n",
       "      <td>NaN</td>\n",
       "      <td>76817.0</td>\n",
       "      <td>NaN</td>\n",
       "      <td>...</td>\n",
       "      <td>neither</td>\n",
       "      <td>0.0</td>\n",
       "      <td>2.0</td>\n",
       "      <td>[001, 004, 010, 015, 030, 037, 039, 042, 043, ...</td>\n",
       "      <td>{'102': 'tall', '103': 'neither', '109': 'tall...</td>\n",
       "      <td>0.0</td>\n",
       "      <td>prior_elicitation</td>\n",
       "      <td>ca_prior_elicitation_4_block_unique_silhouette...</td>\n",
       "      <td>lax-tower-4-block-unique-silhouettes-json</td>\n",
       "      <td>0.0</td>\n",
       "    </tr>\n",
       "    <tr>\n",
       "      <th>11</th>\n",
       "      <td>trial_end</td>\n",
       "      <td>pilot-prolific-0</td>\n",
       "      <td>all</td>\n",
       "      <td>lax-tower-4-block-unique-silhouettes-procedural</td>\n",
       "      <td>56fea1c604254b000f0065a9</td>\n",
       "      <td>0296-0c9a58f8-9b0e-4357-a90c-c23e2088a269</td>\n",
       "      <td>NaN</td>\n",
       "      <td>NaN</td>\n",
       "      <td>74621.0</td>\n",
       "      <td>NaN</td>\n",
       "      <td>...</td>\n",
       "      <td>neither</td>\n",
       "      <td>0.0</td>\n",
       "      <td>2.0</td>\n",
       "      <td>[001, 004, 010, 015, 030, 037, 039, 042, 043, ...</td>\n",
       "      <td>{'102': 'tall', '103': 'neither', '109': 'tall...</td>\n",
       "      <td>0.0</td>\n",
       "      <td>prior_elicitation</td>\n",
       "      <td>ca_prior_elicitation_4_block_unique_silhouette...</td>\n",
       "      <td>lax-tower-4-block-unique-silhouettes-json</td>\n",
       "      <td>0.0</td>\n",
       "    </tr>\n",
       "    <tr>\n",
       "      <th>12</th>\n",
       "      <td>trial_end</td>\n",
       "      <td>pilot-prolific-0</td>\n",
       "      <td>all</td>\n",
       "      <td>lax-tower-4-block-unique-silhouettes-procedural</td>\n",
       "      <td>60ffb005bafbac5c43cbb053</td>\n",
       "      <td>4074-a43b5040-05a9-421f-8716-994e07b3a219</td>\n",
       "      <td>NaN</td>\n",
       "      <td>NaN</td>\n",
       "      <td>1249850.2</td>\n",
       "      <td>NaN</td>\n",
       "      <td>...</td>\n",
       "      <td>neither</td>\n",
       "      <td>0.0</td>\n",
       "      <td>1.0</td>\n",
       "      <td>[002, 003, 012, 013, 024, 026, 035, 038, 040, ...</td>\n",
       "      <td>{'101': 'tall', '108': 'neither', '110': 'neit...</td>\n",
       "      <td>0.0</td>\n",
       "      <td>prior_elicitation</td>\n",
       "      <td>ca_prior_elicitation_4_block_unique_silhouette...</td>\n",
       "      <td>lax-tower-4-block-unique-silhouettes-json</td>\n",
       "      <td>0.0</td>\n",
       "    </tr>\n",
       "    <tr>\n",
       "      <th>13</th>\n",
       "      <td>trial_end</td>\n",
       "      <td>pilot-prolific-0</td>\n",
       "      <td>all</td>\n",
       "      <td>lax-tower-4-block-unique-silhouettes-procedural</td>\n",
       "      <td>60ffb005bafbac5c43cbb053</td>\n",
       "      <td>4074-a43b5040-05a9-421f-8716-994e07b3a219</td>\n",
       "      <td>NaN</td>\n",
       "      <td>NaN</td>\n",
       "      <td>43762.9</td>\n",
       "      <td>NaN</td>\n",
       "      <td>...</td>\n",
       "      <td>neither</td>\n",
       "      <td>0.0</td>\n",
       "      <td>1.0</td>\n",
       "      <td>[002, 003, 012, 013, 024, 026, 035, 038, 040, ...</td>\n",
       "      <td>{'101': 'tall', '108': 'neither', '110': 'neit...</td>\n",
       "      <td>0.0</td>\n",
       "      <td>prior_elicitation</td>\n",
       "      <td>ca_prior_elicitation_4_block_unique_silhouette...</td>\n",
       "      <td>lax-tower-4-block-unique-silhouettes-json</td>\n",
       "      <td>0.0</td>\n",
       "    </tr>\n",
       "    <tr>\n",
       "      <th>14</th>\n",
       "      <td>trial_end</td>\n",
       "      <td>pilot-prolific-0</td>\n",
       "      <td>all</td>\n",
       "      <td>lax-tower-4-block-unique-silhouettes-procedural</td>\n",
       "      <td>61072c961cabdbcde9c0f90d</td>\n",
       "      <td>4641-c9c6e48b-2f01-4caf-b9b1-f29659c40474</td>\n",
       "      <td>NaN</td>\n",
       "      <td>NaN</td>\n",
       "      <td>63374.0</td>\n",
       "      <td>NaN</td>\n",
       "      <td>...</td>\n",
       "      <td>tall</td>\n",
       "      <td>0.0</td>\n",
       "      <td>3.0</td>\n",
       "      <td>[005, 008, 016, 017, 020, 033, 036, 044, 050, ...</td>\n",
       "      <td>{'104': 'neither', '105': 'neither', '107': 'n...</td>\n",
       "      <td>0.0</td>\n",
       "      <td>prior_elicitation</td>\n",
       "      <td>ca_prior_elicitation_4_block_unique_silhouette...</td>\n",
       "      <td>lax-tower-4-block-unique-silhouettes-json</td>\n",
       "      <td>0.0</td>\n",
       "    </tr>\n",
       "    <tr>\n",
       "      <th>15</th>\n",
       "      <td>trial_end</td>\n",
       "      <td>pilot-prolific-0</td>\n",
       "      <td>all</td>\n",
       "      <td>lax-tower-4-block-unique-silhouettes-procedural</td>\n",
       "      <td>60ffb005bafbac5c43cbb053</td>\n",
       "      <td>4074-a43b5040-05a9-421f-8716-994e07b3a219</td>\n",
       "      <td>NaN</td>\n",
       "      <td>NaN</td>\n",
       "      <td>19916.9</td>\n",
       "      <td>NaN</td>\n",
       "      <td>...</td>\n",
       "      <td>neither</td>\n",
       "      <td>0.0</td>\n",
       "      <td>1.0</td>\n",
       "      <td>[002, 003, 012, 013, 024, 026, 035, 038, 040, ...</td>\n",
       "      <td>{'101': 'tall', '108': 'neither', '110': 'neit...</td>\n",
       "      <td>0.0</td>\n",
       "      <td>prior_elicitation</td>\n",
       "      <td>ca_prior_elicitation_4_block_unique_silhouette...</td>\n",
       "      <td>lax-tower-4-block-unique-silhouettes-json</td>\n",
       "      <td>0.0</td>\n",
       "    </tr>\n",
       "    <tr>\n",
       "      <th>16</th>\n",
       "      <td>trial_end</td>\n",
       "      <td>pilot-prolific-0</td>\n",
       "      <td>all</td>\n",
       "      <td>lax-tower-4-block-unique-silhouettes-procedural</td>\n",
       "      <td>60ffb005bafbac5c43cbb053</td>\n",
       "      <td>4074-a43b5040-05a9-421f-8716-994e07b3a219</td>\n",
       "      <td>NaN</td>\n",
       "      <td>NaN</td>\n",
       "      <td>27163.4</td>\n",
       "      <td>NaN</td>\n",
       "      <td>...</td>\n",
       "      <td>neither</td>\n",
       "      <td>0.0</td>\n",
       "      <td>1.0</td>\n",
       "      <td>[002, 003, 012, 013, 024, 026, 035, 038, 040, ...</td>\n",
       "      <td>{'101': 'tall', '108': 'neither', '110': 'neit...</td>\n",
       "      <td>0.0</td>\n",
       "      <td>prior_elicitation</td>\n",
       "      <td>ca_prior_elicitation_4_block_unique_silhouette...</td>\n",
       "      <td>lax-tower-4-block-unique-silhouettes-json</td>\n",
       "      <td>0.0</td>\n",
       "    </tr>\n",
       "    <tr>\n",
       "      <th>17</th>\n",
       "      <td>trial_end</td>\n",
       "      <td>pilot-prolific-0</td>\n",
       "      <td>all</td>\n",
       "      <td>lax-tower-4-block-unique-silhouettes-procedural</td>\n",
       "      <td>610203b1bc07b831633fa676</td>\n",
       "      <td>6101-d74ea1ce-37dd-4444-b4c8-2ece1f13e4bc</td>\n",
       "      <td>NaN</td>\n",
       "      <td>NaN</td>\n",
       "      <td>255399.3</td>\n",
       "      <td>NaN</td>\n",
       "      <td>...</td>\n",
       "      <td>neither</td>\n",
       "      <td>0.0</td>\n",
       "      <td>4.0</td>\n",
       "      <td>[006, 014, 018, 021, 022, 027, 028, 031, 032, ...</td>\n",
       "      <td>{'112': 'neither', '117': 'neither', '121': 't...</td>\n",
       "      <td>0.0</td>\n",
       "      <td>prior_elicitation</td>\n",
       "      <td>ca_prior_elicitation_4_block_unique_silhouette...</td>\n",
       "      <td>lax-tower-4-block-unique-silhouettes-json</td>\n",
       "      <td>0.0</td>\n",
       "    </tr>\n",
       "    <tr>\n",
       "      <th>18</th>\n",
       "      <td>trial_end</td>\n",
       "      <td>pilot-prolific-0</td>\n",
       "      <td>all</td>\n",
       "      <td>lax-tower-4-block-unique-silhouettes-procedural</td>\n",
       "      <td>610203b1bc07b831633fa676</td>\n",
       "      <td>6101-d74ea1ce-37dd-4444-b4c8-2ece1f13e4bc</td>\n",
       "      <td>NaN</td>\n",
       "      <td>NaN</td>\n",
       "      <td>105285.0</td>\n",
       "      <td>NaN</td>\n",
       "      <td>...</td>\n",
       "      <td>neither</td>\n",
       "      <td>0.0</td>\n",
       "      <td>4.0</td>\n",
       "      <td>[006, 014, 018, 021, 022, 027, 028, 031, 032, ...</td>\n",
       "      <td>{'112': 'neither', '117': 'neither', '121': 't...</td>\n",
       "      <td>0.0</td>\n",
       "      <td>prior_elicitation</td>\n",
       "      <td>ca_prior_elicitation_4_block_unique_silhouette...</td>\n",
       "      <td>lax-tower-4-block-unique-silhouettes-json</td>\n",
       "      <td>0.0</td>\n",
       "    </tr>\n",
       "    <tr>\n",
       "      <th>19</th>\n",
       "      <td>trial_end</td>\n",
       "      <td>pilot-prolific-0</td>\n",
       "      <td>all</td>\n",
       "      <td>lax-tower-4-block-unique-silhouettes-procedural</td>\n",
       "      <td>610203b1bc07b831633fa676</td>\n",
       "      <td>6101-d74ea1ce-37dd-4444-b4c8-2ece1f13e4bc</td>\n",
       "      <td>NaN</td>\n",
       "      <td>NaN</td>\n",
       "      <td>58316.4</td>\n",
       "      <td>NaN</td>\n",
       "      <td>...</td>\n",
       "      <td>neither</td>\n",
       "      <td>0.0</td>\n",
       "      <td>4.0</td>\n",
       "      <td>[006, 014, 018, 021, 022, 027, 028, 031, 032, ...</td>\n",
       "      <td>{'112': 'neither', '117': 'neither', '121': 't...</td>\n",
       "      <td>0.0</td>\n",
       "      <td>prior_elicitation</td>\n",
       "      <td>ca_prior_elicitation_4_block_unique_silhouette...</td>\n",
       "      <td>lax-tower-4-block-unique-silhouettes-json</td>\n",
       "      <td>0.0</td>\n",
       "    </tr>\n",
       "    <tr>\n",
       "      <th>20</th>\n",
       "      <td>trial_end</td>\n",
       "      <td>pilot-prolific-0</td>\n",
       "      <td>all</td>\n",
       "      <td>lax-tower-4-block-unique-silhouettes-procedural</td>\n",
       "      <td>610203b1bc07b831633fa676</td>\n",
       "      <td>6101-d74ea1ce-37dd-4444-b4c8-2ece1f13e4bc</td>\n",
       "      <td>NaN</td>\n",
       "      <td>NaN</td>\n",
       "      <td>83178.4</td>\n",
       "      <td>NaN</td>\n",
       "      <td>...</td>\n",
       "      <td>tall</td>\n",
       "      <td>0.0</td>\n",
       "      <td>4.0</td>\n",
       "      <td>[006, 014, 018, 021, 022, 027, 028, 031, 032, ...</td>\n",
       "      <td>{'112': 'neither', '117': 'neither', '121': 't...</td>\n",
       "      <td>0.0</td>\n",
       "      <td>prior_elicitation</td>\n",
       "      <td>ca_prior_elicitation_4_block_unique_silhouette...</td>\n",
       "      <td>lax-tower-4-block-unique-silhouettes-json</td>\n",
       "      <td>0.0</td>\n",
       "    </tr>\n",
       "    <tr>\n",
       "      <th>21</th>\n",
       "      <td>trial_end</td>\n",
       "      <td>pilot-prolific-0</td>\n",
       "      <td>all</td>\n",
       "      <td>lax-tower-4-block-unique-silhouettes-procedural</td>\n",
       "      <td>610203b1bc07b831633fa676</td>\n",
       "      <td>6101-d74ea1ce-37dd-4444-b4c8-2ece1f13e4bc</td>\n",
       "      <td>NaN</td>\n",
       "      <td>NaN</td>\n",
       "      <td>61639.5</td>\n",
       "      <td>NaN</td>\n",
       "      <td>...</td>\n",
       "      <td>wide</td>\n",
       "      <td>0.0</td>\n",
       "      <td>4.0</td>\n",
       "      <td>[006, 014, 018, 021, 022, 027, 028, 031, 032, ...</td>\n",
       "      <td>{'112': 'neither', '117': 'neither', '121': 't...</td>\n",
       "      <td>0.0</td>\n",
       "      <td>prior_elicitation</td>\n",
       "      <td>ca_prior_elicitation_4_block_unique_silhouette...</td>\n",
       "      <td>lax-tower-4-block-unique-silhouettes-json</td>\n",
       "      <td>0.0</td>\n",
       "    </tr>\n",
       "    <tr>\n",
       "      <th>22</th>\n",
       "      <td>trial_end</td>\n",
       "      <td>pilot-prolific-0</td>\n",
       "      <td>all</td>\n",
       "      <td>lax-tower-4-block-unique-silhouettes-procedural</td>\n",
       "      <td>610203b1bc07b831633fa676</td>\n",
       "      <td>6101-d74ea1ce-37dd-4444-b4c8-2ece1f13e4bc</td>\n",
       "      <td>NaN</td>\n",
       "      <td>NaN</td>\n",
       "      <td>88023.6</td>\n",
       "      <td>NaN</td>\n",
       "      <td>...</td>\n",
       "      <td>neither</td>\n",
       "      <td>0.0</td>\n",
       "      <td>4.0</td>\n",
       "      <td>[006, 014, 018, 021, 022, 027, 028, 031, 032, ...</td>\n",
       "      <td>{'112': 'neither', '117': 'neither', '121': 't...</td>\n",
       "      <td>0.0</td>\n",
       "      <td>prior_elicitation</td>\n",
       "      <td>ca_prior_elicitation_4_block_unique_silhouette...</td>\n",
       "      <td>lax-tower-4-block-unique-silhouettes-json</td>\n",
       "      <td>0.0</td>\n",
       "    </tr>\n",
       "    <tr>\n",
       "      <th>23</th>\n",
       "      <td>trial_end</td>\n",
       "      <td>pilot-prolific-0</td>\n",
       "      <td>all</td>\n",
       "      <td>lax-tower-4-block-unique-silhouettes-procedural</td>\n",
       "      <td>610203b1bc07b831633fa676</td>\n",
       "      <td>6101-d74ea1ce-37dd-4444-b4c8-2ece1f13e4bc</td>\n",
       "      <td>NaN</td>\n",
       "      <td>NaN</td>\n",
       "      <td>88674.2</td>\n",
       "      <td>NaN</td>\n",
       "      <td>...</td>\n",
       "      <td>neither</td>\n",
       "      <td>0.0</td>\n",
       "      <td>4.0</td>\n",
       "      <td>[006, 014, 018, 021, 022, 027, 028, 031, 032, ...</td>\n",
       "      <td>{'112': 'neither', '117': 'neither', '121': 't...</td>\n",
       "      <td>0.0</td>\n",
       "      <td>prior_elicitation</td>\n",
       "      <td>ca_prior_elicitation_4_block_unique_silhouette...</td>\n",
       "      <td>lax-tower-4-block-unique-silhouettes-json</td>\n",
       "      <td>0.0</td>\n",
       "    </tr>\n",
       "    <tr>\n",
       "      <th>24</th>\n",
       "      <td>trial_end</td>\n",
       "      <td>pilot-prolific-0</td>\n",
       "      <td>all</td>\n",
       "      <td>lax-tower-4-block-unique-silhouettes-procedural</td>\n",
       "      <td>610203b1bc07b831633fa676</td>\n",
       "      <td>6101-d74ea1ce-37dd-4444-b4c8-2ece1f13e4bc</td>\n",
       "      <td>NaN</td>\n",
       "      <td>NaN</td>\n",
       "      <td>132483.2</td>\n",
       "      <td>NaN</td>\n",
       "      <td>...</td>\n",
       "      <td>neither</td>\n",
       "      <td>0.0</td>\n",
       "      <td>4.0</td>\n",
       "      <td>[006, 014, 018, 021, 022, 027, 028, 031, 032, ...</td>\n",
       "      <td>{'112': 'neither', '117': 'neither', '121': 't...</td>\n",
       "      <td>0.0</td>\n",
       "      <td>prior_elicitation</td>\n",
       "      <td>ca_prior_elicitation_4_block_unique_silhouette...</td>\n",
       "      <td>lax-tower-4-block-unique-silhouettes-json</td>\n",
       "      <td>0.0</td>\n",
       "    </tr>\n",
       "    <tr>\n",
       "      <th>25</th>\n",
       "      <td>trial_end</td>\n",
       "      <td>pilot-prolific-0</td>\n",
       "      <td>all</td>\n",
       "      <td>lax-tower-4-block-unique-silhouettes-procedural</td>\n",
       "      <td>610203b1bc07b831633fa676</td>\n",
       "      <td>6101-d74ea1ce-37dd-4444-b4c8-2ece1f13e4bc</td>\n",
       "      <td>NaN</td>\n",
       "      <td>NaN</td>\n",
       "      <td>135002.2</td>\n",
       "      <td>NaN</td>\n",
       "      <td>...</td>\n",
       "      <td>neither</td>\n",
       "      <td>0.0</td>\n",
       "      <td>4.0</td>\n",
       "      <td>[006, 014, 018, 021, 022, 027, 028, 031, 032, ...</td>\n",
       "      <td>{'112': 'neither', '117': 'neither', '121': 't...</td>\n",
       "      <td>0.0</td>\n",
       "      <td>prior_elicitation</td>\n",
       "      <td>ca_prior_elicitation_4_block_unique_silhouette...</td>\n",
       "      <td>lax-tower-4-block-unique-silhouettes-json</td>\n",
       "      <td>0.0</td>\n",
       "    </tr>\n",
       "    <tr>\n",
       "      <th>26</th>\n",
       "      <td>trial_end</td>\n",
       "      <td>pilot-prolific-0</td>\n",
       "      <td>all</td>\n",
       "      <td>lax-tower-4-block-unique-silhouettes-procedural</td>\n",
       "      <td>610203b1bc07b831633fa676</td>\n",
       "      <td>6101-d74ea1ce-37dd-4444-b4c8-2ece1f13e4bc</td>\n",
       "      <td>NaN</td>\n",
       "      <td>NaN</td>\n",
       "      <td>86462.0</td>\n",
       "      <td>NaN</td>\n",
       "      <td>...</td>\n",
       "      <td>neither</td>\n",
       "      <td>0.0</td>\n",
       "      <td>4.0</td>\n",
       "      <td>[006, 014, 018, 021, 022, 027, 028, 031, 032, ...</td>\n",
       "      <td>{'112': 'neither', '117': 'neither', '121': 't...</td>\n",
       "      <td>0.0</td>\n",
       "      <td>prior_elicitation</td>\n",
       "      <td>ca_prior_elicitation_4_block_unique_silhouette...</td>\n",
       "      <td>lax-tower-4-block-unique-silhouettes-json</td>\n",
       "      <td>0.0</td>\n",
       "    </tr>\n",
       "    <tr>\n",
       "      <th>27</th>\n",
       "      <td>trial_end</td>\n",
       "      <td>pilot-prolific-0</td>\n",
       "      <td>all</td>\n",
       "      <td>lax-tower-4-block-unique-silhouettes-procedural</td>\n",
       "      <td>610203b1bc07b831633fa676</td>\n",
       "      <td>6101-d74ea1ce-37dd-4444-b4c8-2ece1f13e4bc</td>\n",
       "      <td>NaN</td>\n",
       "      <td>NaN</td>\n",
       "      <td>120006.0</td>\n",
       "      <td>NaN</td>\n",
       "      <td>...</td>\n",
       "      <td>neither</td>\n",
       "      <td>0.0</td>\n",
       "      <td>4.0</td>\n",
       "      <td>[006, 014, 018, 021, 022, 027, 028, 031, 032, ...</td>\n",
       "      <td>{'112': 'neither', '117': 'neither', '121': 't...</td>\n",
       "      <td>0.0</td>\n",
       "      <td>prior_elicitation</td>\n",
       "      <td>ca_prior_elicitation_4_block_unique_silhouette...</td>\n",
       "      <td>lax-tower-4-block-unique-silhouettes-json</td>\n",
       "      <td>0.0</td>\n",
       "    </tr>\n",
       "    <tr>\n",
       "      <th>28</th>\n",
       "      <td>trial_end</td>\n",
       "      <td>pilot-prolific-0</td>\n",
       "      <td>all</td>\n",
       "      <td>lax-tower-4-block-unique-silhouettes-procedural</td>\n",
       "      <td>610203b1bc07b831633fa676</td>\n",
       "      <td>6101-d74ea1ce-37dd-4444-b4c8-2ece1f13e4bc</td>\n",
       "      <td>NaN</td>\n",
       "      <td>NaN</td>\n",
       "      <td>125234.5</td>\n",
       "      <td>NaN</td>\n",
       "      <td>...</td>\n",
       "      <td>neither</td>\n",
       "      <td>0.0</td>\n",
       "      <td>4.0</td>\n",
       "      <td>[006, 014, 018, 021, 022, 027, 028, 031, 032, ...</td>\n",
       "      <td>{'112': 'neither', '117': 'neither', '121': 't...</td>\n",
       "      <td>0.0</td>\n",
       "      <td>prior_elicitation</td>\n",
       "      <td>ca_prior_elicitation_4_block_unique_silhouette...</td>\n",
       "      <td>lax-tower-4-block-unique-silhouettes-json</td>\n",
       "      <td>0.0</td>\n",
       "    </tr>\n",
       "    <tr>\n",
       "      <th>29</th>\n",
       "      <td>trial_end</td>\n",
       "      <td>pilot-prolific-0</td>\n",
       "      <td>all</td>\n",
       "      <td>lax-tower-4-block-unique-silhouettes-procedural</td>\n",
       "      <td>610203b1bc07b831633fa676</td>\n",
       "      <td>6101-d74ea1ce-37dd-4444-b4c8-2ece1f13e4bc</td>\n",
       "      <td>NaN</td>\n",
       "      <td>NaN</td>\n",
       "      <td>107335.3</td>\n",
       "      <td>NaN</td>\n",
       "      <td>...</td>\n",
       "      <td>tall</td>\n",
       "      <td>0.0</td>\n",
       "      <td>4.0</td>\n",
       "      <td>[006, 014, 018, 021, 022, 027, 028, 031, 032, ...</td>\n",
       "      <td>{'112': 'neither', '117': 'neither', '121': 't...</td>\n",
       "      <td>0.0</td>\n",
       "      <td>prior_elicitation</td>\n",
       "      <td>ca_prior_elicitation_4_block_unique_silhouette...</td>\n",
       "      <td>lax-tower-4-block-unique-silhouettes-json</td>\n",
       "      <td>0.0</td>\n",
       "    </tr>\n",
       "    <tr>\n",
       "      <th>30</th>\n",
       "      <td>trial_end</td>\n",
       "      <td>pilot-prolific-0</td>\n",
       "      <td>all</td>\n",
       "      <td>lax-tower-4-block-unique-silhouettes-procedural</td>\n",
       "      <td>610203b1bc07b831633fa676</td>\n",
       "      <td>6101-d74ea1ce-37dd-4444-b4c8-2ece1f13e4bc</td>\n",
       "      <td>NaN</td>\n",
       "      <td>NaN</td>\n",
       "      <td>96126.0</td>\n",
       "      <td>NaN</td>\n",
       "      <td>...</td>\n",
       "      <td>neither</td>\n",
       "      <td>0.0</td>\n",
       "      <td>4.0</td>\n",
       "      <td>[006, 014, 018, 021, 022, 027, 028, 031, 032, ...</td>\n",
       "      <td>{'112': 'neither', '117': 'neither', '121': 't...</td>\n",
       "      <td>0.0</td>\n",
       "      <td>prior_elicitation</td>\n",
       "      <td>ca_prior_elicitation_4_block_unique_silhouette...</td>\n",
       "      <td>lax-tower-4-block-unique-silhouettes-json</td>\n",
       "      <td>0.0</td>\n",
       "    </tr>\n",
       "    <tr>\n",
       "      <th>31</th>\n",
       "      <td>trial_end</td>\n",
       "      <td>pilot-prolific-0</td>\n",
       "      <td>all</td>\n",
       "      <td>lax-tower-4-block-unique-silhouettes-procedural</td>\n",
       "      <td>610203b1bc07b831633fa676</td>\n",
       "      <td>6101-d74ea1ce-37dd-4444-b4c8-2ece1f13e4bc</td>\n",
       "      <td>NaN</td>\n",
       "      <td>NaN</td>\n",
       "      <td>89313.8</td>\n",
       "      <td>NaN</td>\n",
       "      <td>...</td>\n",
       "      <td>wide</td>\n",
       "      <td>0.0</td>\n",
       "      <td>4.0</td>\n",
       "      <td>[006, 014, 018, 021, 022, 027, 028, 031, 032, ...</td>\n",
       "      <td>{'112': 'neither', '117': 'neither', '121': 't...</td>\n",
       "      <td>0.0</td>\n",
       "      <td>prior_elicitation</td>\n",
       "      <td>ca_prior_elicitation_4_block_unique_silhouette...</td>\n",
       "      <td>lax-tower-4-block-unique-silhouettes-json</td>\n",
       "      <td>0.0</td>\n",
       "    </tr>\n",
       "    <tr>\n",
       "      <th>32</th>\n",
       "      <td>trial_end</td>\n",
       "      <td>pilot-prolific-0</td>\n",
       "      <td>all</td>\n",
       "      <td>lax-tower-4-block-unique-silhouettes-procedural</td>\n",
       "      <td>610203b1bc07b831633fa676</td>\n",
       "      <td>6101-d74ea1ce-37dd-4444-b4c8-2ece1f13e4bc</td>\n",
       "      <td>NaN</td>\n",
       "      <td>NaN</td>\n",
       "      <td>99966.7</td>\n",
       "      <td>NaN</td>\n",
       "      <td>...</td>\n",
       "      <td>tall</td>\n",
       "      <td>0.0</td>\n",
       "      <td>4.0</td>\n",
       "      <td>[006, 014, 018, 021, 022, 027, 028, 031, 032, ...</td>\n",
       "      <td>{'112': 'neither', '117': 'neither', '121': 't...</td>\n",
       "      <td>0.0</td>\n",
       "      <td>prior_elicitation</td>\n",
       "      <td>ca_prior_elicitation_4_block_unique_silhouette...</td>\n",
       "      <td>lax-tower-4-block-unique-silhouettes-json</td>\n",
       "      <td>0.0</td>\n",
       "    </tr>\n",
       "    <tr>\n",
       "      <th>33</th>\n",
       "      <td>trial_end</td>\n",
       "      <td>pilot-prolific-0</td>\n",
       "      <td>all</td>\n",
       "      <td>lax-tower-4-block-unique-silhouettes-procedural</td>\n",
       "      <td>610203b1bc07b831633fa676</td>\n",
       "      <td>6101-d74ea1ce-37dd-4444-b4c8-2ece1f13e4bc</td>\n",
       "      <td>NaN</td>\n",
       "      <td>NaN</td>\n",
       "      <td>151809.7</td>\n",
       "      <td>NaN</td>\n",
       "      <td>...</td>\n",
       "      <td>neither</td>\n",
       "      <td>0.0</td>\n",
       "      <td>4.0</td>\n",
       "      <td>[006, 014, 018, 021, 022, 027, 028, 031, 032, ...</td>\n",
       "      <td>{'112': 'neither', '117': 'neither', '121': 't...</td>\n",
       "      <td>0.0</td>\n",
       "      <td>prior_elicitation</td>\n",
       "      <td>ca_prior_elicitation_4_block_unique_silhouette...</td>\n",
       "      <td>lax-tower-4-block-unique-silhouettes-json</td>\n",
       "      <td>0.0</td>\n",
       "    </tr>\n",
       "    <tr>\n",
       "      <th>34</th>\n",
       "      <td>trial_end</td>\n",
       "      <td>pilot-prolific-0</td>\n",
       "      <td>all</td>\n",
       "      <td>lax-tower-4-block-unique-silhouettes-procedural</td>\n",
       "      <td>610203b1bc07b831633fa676</td>\n",
       "      <td>6101-d74ea1ce-37dd-4444-b4c8-2ece1f13e4bc</td>\n",
       "      <td>NaN</td>\n",
       "      <td>NaN</td>\n",
       "      <td>95766.6</td>\n",
       "      <td>NaN</td>\n",
       "      <td>...</td>\n",
       "      <td>neither</td>\n",
       "      <td>0.0</td>\n",
       "      <td>4.0</td>\n",
       "      <td>[006, 014, 018, 021, 022, 027, 028, 031, 032, ...</td>\n",
       "      <td>{'112': 'neither', '117': 'neither', '121': 't...</td>\n",
       "      <td>0.0</td>\n",
       "      <td>prior_elicitation</td>\n",
       "      <td>ca_prior_elicitation_4_block_unique_silhouette...</td>\n",
       "      <td>lax-tower-4-block-unique-silhouettes-json</td>\n",
       "      <td>0.0</td>\n",
       "    </tr>\n",
       "    <tr>\n",
       "      <th>35</th>\n",
       "      <td>trial_end</td>\n",
       "      <td>pilot-prolific-0</td>\n",
       "      <td>all</td>\n",
       "      <td>lax-tower-4-block-unique-silhouettes-procedural</td>\n",
       "      <td>610203b1bc07b831633fa676</td>\n",
       "      <td>6101-d74ea1ce-37dd-4444-b4c8-2ece1f13e4bc</td>\n",
       "      <td>NaN</td>\n",
       "      <td>NaN</td>\n",
       "      <td>94546.9</td>\n",
       "      <td>NaN</td>\n",
       "      <td>...</td>\n",
       "      <td>neither</td>\n",
       "      <td>0.0</td>\n",
       "      <td>4.0</td>\n",
       "      <td>[006, 014, 018, 021, 022, 027, 028, 031, 032, ...</td>\n",
       "      <td>{'112': 'neither', '117': 'neither', '121': 't...</td>\n",
       "      <td>0.0</td>\n",
       "      <td>prior_elicitation</td>\n",
       "      <td>ca_prior_elicitation_4_block_unique_silhouette...</td>\n",
       "      <td>lax-tower-4-block-unique-silhouettes-json</td>\n",
       "      <td>0.0</td>\n",
       "    </tr>\n",
       "    <tr>\n",
       "      <th>36</th>\n",
       "      <td>trial_end</td>\n",
       "      <td>pilot-prolific-0</td>\n",
       "      <td>all</td>\n",
       "      <td>lax-tower-4-block-unique-silhouettes-procedural</td>\n",
       "      <td>610203b1bc07b831633fa676</td>\n",
       "      <td>6101-d74ea1ce-37dd-4444-b4c8-2ece1f13e4bc</td>\n",
       "      <td>NaN</td>\n",
       "      <td>NaN</td>\n",
       "      <td>93029.6</td>\n",
       "      <td>NaN</td>\n",
       "      <td>...</td>\n",
       "      <td>neither</td>\n",
       "      <td>0.0</td>\n",
       "      <td>4.0</td>\n",
       "      <td>[006, 014, 018, 021, 022, 027, 028, 031, 032, ...</td>\n",
       "      <td>{'112': 'neither', '117': 'neither', '121': 't...</td>\n",
       "      <td>0.0</td>\n",
       "      <td>prior_elicitation</td>\n",
       "      <td>ca_prior_elicitation_4_block_unique_silhouette...</td>\n",
       "      <td>lax-tower-4-block-unique-silhouettes-json</td>\n",
       "      <td>0.0</td>\n",
       "    </tr>\n",
       "    <tr>\n",
       "      <th>37</th>\n",
       "      <td>trial_end</td>\n",
       "      <td>pilot-prolific-0</td>\n",
       "      <td>all</td>\n",
       "      <td>lax-tower-4-block-unique-silhouettes-procedural</td>\n",
       "      <td>610203b1bc07b831633fa676</td>\n",
       "      <td>6101-d74ea1ce-37dd-4444-b4c8-2ece1f13e4bc</td>\n",
       "      <td>NaN</td>\n",
       "      <td>NaN</td>\n",
       "      <td>118688.1</td>\n",
       "      <td>NaN</td>\n",
       "      <td>...</td>\n",
       "      <td>wide</td>\n",
       "      <td>0.0</td>\n",
       "      <td>4.0</td>\n",
       "      <td>[006, 014, 018, 021, 022, 027, 028, 031, 032, ...</td>\n",
       "      <td>{'112': 'neither', '117': 'neither', '121': 't...</td>\n",
       "      <td>0.0</td>\n",
       "      <td>prior_elicitation</td>\n",
       "      <td>ca_prior_elicitation_4_block_unique_silhouette...</td>\n",
       "      <td>lax-tower-4-block-unique-silhouettes-json</td>\n",
       "      <td>0.0</td>\n",
       "    </tr>\n",
       "    <tr>\n",
       "      <th>38</th>\n",
       "      <td>trial_end</td>\n",
       "      <td>pilot-prolific-0</td>\n",
       "      <td>all</td>\n",
       "      <td>lax-tower-4-block-unique-silhouettes-procedural</td>\n",
       "      <td>610203b1bc07b831633fa676</td>\n",
       "      <td>6101-d74ea1ce-37dd-4444-b4c8-2ece1f13e4bc</td>\n",
       "      <td>NaN</td>\n",
       "      <td>NaN</td>\n",
       "      <td>103012.4</td>\n",
       "      <td>NaN</td>\n",
       "      <td>...</td>\n",
       "      <td>tall</td>\n",
       "      <td>0.0</td>\n",
       "      <td>4.0</td>\n",
       "      <td>[006, 014, 018, 021, 022, 027, 028, 031, 032, ...</td>\n",
       "      <td>{'112': 'neither', '117': 'neither', '121': 't...</td>\n",
       "      <td>0.0</td>\n",
       "      <td>prior_elicitation</td>\n",
       "      <td>ca_prior_elicitation_4_block_unique_silhouette...</td>\n",
       "      <td>lax-tower-4-block-unique-silhouettes-json</td>\n",
       "      <td>0.0</td>\n",
       "    </tr>\n",
       "    <tr>\n",
       "      <th>39</th>\n",
       "      <td>trial_end</td>\n",
       "      <td>pilot-prolific-0</td>\n",
       "      <td>all</td>\n",
       "      <td>lax-tower-4-block-unique-silhouettes-procedural</td>\n",
       "      <td>610203b1bc07b831633fa676</td>\n",
       "      <td>6101-d74ea1ce-37dd-4444-b4c8-2ece1f13e4bc</td>\n",
       "      <td>NaN</td>\n",
       "      <td>NaN</td>\n",
       "      <td>116914.7</td>\n",
       "      <td>NaN</td>\n",
       "      <td>...</td>\n",
       "      <td>neither</td>\n",
       "      <td>0.0</td>\n",
       "      <td>4.0</td>\n",
       "      <td>[006, 014, 018, 021, 022, 027, 028, 031, 032, ...</td>\n",
       "      <td>{'112': 'neither', '117': 'neither', '121': 't...</td>\n",
       "      <td>0.0</td>\n",
       "      <td>prior_elicitation</td>\n",
       "      <td>ca_prior_elicitation_4_block_unique_silhouette...</td>\n",
       "      <td>lax-tower-4-block-unique-silhouettes-json</td>\n",
       "      <td>0.0</td>\n",
       "    </tr>\n",
       "    <tr>\n",
       "      <th>40</th>\n",
       "      <td>trial_end</td>\n",
       "      <td>pilot-prolific-0</td>\n",
       "      <td>all</td>\n",
       "      <td>lax-tower-4-block-unique-silhouettes-procedural</td>\n",
       "      <td>610203b1bc07b831633fa676</td>\n",
       "      <td>6101-d74ea1ce-37dd-4444-b4c8-2ece1f13e4bc</td>\n",
       "      <td>NaN</td>\n",
       "      <td>NaN</td>\n",
       "      <td>111618.7</td>\n",
       "      <td>NaN</td>\n",
       "      <td>...</td>\n",
       "      <td>neither</td>\n",
       "      <td>0.0</td>\n",
       "      <td>4.0</td>\n",
       "      <td>[006, 014, 018, 021, 022, 027, 028, 031, 032, ...</td>\n",
       "      <td>{'112': 'neither', '117': 'neither', '121': 't...</td>\n",
       "      <td>0.0</td>\n",
       "      <td>prior_elicitation</td>\n",
       "      <td>ca_prior_elicitation_4_block_unique_silhouette...</td>\n",
       "      <td>lax-tower-4-block-unique-silhouettes-json</td>\n",
       "      <td>0.0</td>\n",
       "    </tr>\n",
       "  </tbody>\n",
       "</table>\n",
       "<p>41 rows × 29 columns</p>\n",
       "</div>"
      ],
      "text/plain": [
       "     datatype     iterationName condition  \\\n",
       "0   trial_end  pilot-prolific-0       all   \n",
       "1   trial_end  pilot-prolific-0       all   \n",
       "2   trial_end  pilot-prolific-0       all   \n",
       "3   trial_end  pilot-prolific-0       all   \n",
       "4   trial_end  pilot-prolific-0       all   \n",
       "5   trial_end  pilot-prolific-0       all   \n",
       "6   trial_end  pilot-prolific-0       all   \n",
       "7   trial_end  pilot-prolific-0       all   \n",
       "8   trial_end  pilot-prolific-0       all   \n",
       "9   trial_end  pilot-prolific-0       all   \n",
       "10  trial_end  pilot-prolific-0       all   \n",
       "11  trial_end  pilot-prolific-0       all   \n",
       "12  trial_end  pilot-prolific-0       all   \n",
       "13  trial_end  pilot-prolific-0       all   \n",
       "14  trial_end  pilot-prolific-0       all   \n",
       "15  trial_end  pilot-prolific-0       all   \n",
       "16  trial_end  pilot-prolific-0       all   \n",
       "17  trial_end  pilot-prolific-0       all   \n",
       "18  trial_end  pilot-prolific-0       all   \n",
       "19  trial_end  pilot-prolific-0       all   \n",
       "20  trial_end  pilot-prolific-0       all   \n",
       "21  trial_end  pilot-prolific-0       all   \n",
       "22  trial_end  pilot-prolific-0       all   \n",
       "23  trial_end  pilot-prolific-0       all   \n",
       "24  trial_end  pilot-prolific-0       all   \n",
       "25  trial_end  pilot-prolific-0       all   \n",
       "26  trial_end  pilot-prolific-0       all   \n",
       "27  trial_end  pilot-prolific-0       all   \n",
       "28  trial_end  pilot-prolific-0       all   \n",
       "29  trial_end  pilot-prolific-0       all   \n",
       "30  trial_end  pilot-prolific-0       all   \n",
       "31  trial_end  pilot-prolific-0       all   \n",
       "32  trial_end  pilot-prolific-0       all   \n",
       "33  trial_end  pilot-prolific-0       all   \n",
       "34  trial_end  pilot-prolific-0       all   \n",
       "35  trial_end  pilot-prolific-0       all   \n",
       "36  trial_end  pilot-prolific-0       all   \n",
       "37  trial_end  pilot-prolific-0       all   \n",
       "38  trial_end  pilot-prolific-0       all   \n",
       "39  trial_end  pilot-prolific-0       all   \n",
       "40  trial_end  pilot-prolific-0       all   \n",
       "\n",
       "                                        config_name                  workerID  \\\n",
       "0   lax-tower-4-block-unique-silhouettes-procedural  60ffb005bafbac5c43cbb053   \n",
       "1   lax-tower-4-block-unique-silhouettes-procedural  6107850120a7fe1e101d17d5   \n",
       "2   lax-tower-4-block-unique-silhouettes-procedural  60ffb005bafbac5c43cbb053   \n",
       "3   lax-tower-4-block-unique-silhouettes-procedural  6107850120a7fe1e101d17d5   \n",
       "4   lax-tower-4-block-unique-silhouettes-procedural  6107850120a7fe1e101d17d5   \n",
       "5   lax-tower-4-block-unique-silhouettes-procedural  56fea1c604254b000f0065a9   \n",
       "6   lax-tower-4-block-unique-silhouettes-procedural  56fea1c604254b000f0065a9   \n",
       "7   lax-tower-4-block-unique-silhouettes-procedural  56fea1c604254b000f0065a9   \n",
       "8   lax-tower-4-block-unique-silhouettes-procedural  56fea1c604254b000f0065a9   \n",
       "9   lax-tower-4-block-unique-silhouettes-procedural  56fea1c604254b000f0065a9   \n",
       "10  lax-tower-4-block-unique-silhouettes-procedural  56fea1c604254b000f0065a9   \n",
       "11  lax-tower-4-block-unique-silhouettes-procedural  56fea1c604254b000f0065a9   \n",
       "12  lax-tower-4-block-unique-silhouettes-procedural  60ffb005bafbac5c43cbb053   \n",
       "13  lax-tower-4-block-unique-silhouettes-procedural  60ffb005bafbac5c43cbb053   \n",
       "14  lax-tower-4-block-unique-silhouettes-procedural  61072c961cabdbcde9c0f90d   \n",
       "15  lax-tower-4-block-unique-silhouettes-procedural  60ffb005bafbac5c43cbb053   \n",
       "16  lax-tower-4-block-unique-silhouettes-procedural  60ffb005bafbac5c43cbb053   \n",
       "17  lax-tower-4-block-unique-silhouettes-procedural  610203b1bc07b831633fa676   \n",
       "18  lax-tower-4-block-unique-silhouettes-procedural  610203b1bc07b831633fa676   \n",
       "19  lax-tower-4-block-unique-silhouettes-procedural  610203b1bc07b831633fa676   \n",
       "20  lax-tower-4-block-unique-silhouettes-procedural  610203b1bc07b831633fa676   \n",
       "21  lax-tower-4-block-unique-silhouettes-procedural  610203b1bc07b831633fa676   \n",
       "22  lax-tower-4-block-unique-silhouettes-procedural  610203b1bc07b831633fa676   \n",
       "23  lax-tower-4-block-unique-silhouettes-procedural  610203b1bc07b831633fa676   \n",
       "24  lax-tower-4-block-unique-silhouettes-procedural  610203b1bc07b831633fa676   \n",
       "25  lax-tower-4-block-unique-silhouettes-procedural  610203b1bc07b831633fa676   \n",
       "26  lax-tower-4-block-unique-silhouettes-procedural  610203b1bc07b831633fa676   \n",
       "27  lax-tower-4-block-unique-silhouettes-procedural  610203b1bc07b831633fa676   \n",
       "28  lax-tower-4-block-unique-silhouettes-procedural  610203b1bc07b831633fa676   \n",
       "29  lax-tower-4-block-unique-silhouettes-procedural  610203b1bc07b831633fa676   \n",
       "30  lax-tower-4-block-unique-silhouettes-procedural  610203b1bc07b831633fa676   \n",
       "31  lax-tower-4-block-unique-silhouettes-procedural  610203b1bc07b831633fa676   \n",
       "32  lax-tower-4-block-unique-silhouettes-procedural  610203b1bc07b831633fa676   \n",
       "33  lax-tower-4-block-unique-silhouettes-procedural  610203b1bc07b831633fa676   \n",
       "34  lax-tower-4-block-unique-silhouettes-procedural  610203b1bc07b831633fa676   \n",
       "35  lax-tower-4-block-unique-silhouettes-procedural  610203b1bc07b831633fa676   \n",
       "36  lax-tower-4-block-unique-silhouettes-procedural  610203b1bc07b831633fa676   \n",
       "37  lax-tower-4-block-unique-silhouettes-procedural  610203b1bc07b831633fa676   \n",
       "38  lax-tower-4-block-unique-silhouettes-procedural  610203b1bc07b831633fa676   \n",
       "39  lax-tower-4-block-unique-silhouettes-procedural  610203b1bc07b831633fa676   \n",
       "40  lax-tower-4-block-unique-silhouettes-procedural  610203b1bc07b831633fa676   \n",
       "\n",
       "                                       gameID shuffle trialOrder         rt  \\\n",
       "0   4074-a43b5040-05a9-421f-8716-994e07b3a219     NaN        NaN   135276.7   \n",
       "1   5182-3b2c0380-6cf6-4b77-8e7b-8ca944a38a26     NaN        NaN   223205.2   \n",
       "2   4074-a43b5040-05a9-421f-8716-994e07b3a219     NaN        NaN   154092.0   \n",
       "3   5182-3b2c0380-6cf6-4b77-8e7b-8ca944a38a26     NaN        NaN   180096.6   \n",
       "4   5182-3b2c0380-6cf6-4b77-8e7b-8ca944a38a26     NaN        NaN   340038.8   \n",
       "5   0296-0c9a58f8-9b0e-4357-a90c-c23e2088a269     NaN        NaN   125888.0   \n",
       "6   0296-0c9a58f8-9b0e-4357-a90c-c23e2088a269     NaN        NaN    68761.0   \n",
       "7   0296-0c9a58f8-9b0e-4357-a90c-c23e2088a269     NaN        NaN    91057.0   \n",
       "8   0296-0c9a58f8-9b0e-4357-a90c-c23e2088a269     NaN        NaN    73032.0   \n",
       "9   0296-0c9a58f8-9b0e-4357-a90c-c23e2088a269     NaN        NaN    51761.0   \n",
       "10  0296-0c9a58f8-9b0e-4357-a90c-c23e2088a269     NaN        NaN    76817.0   \n",
       "11  0296-0c9a58f8-9b0e-4357-a90c-c23e2088a269     NaN        NaN    74621.0   \n",
       "12  4074-a43b5040-05a9-421f-8716-994e07b3a219     NaN        NaN  1249850.2   \n",
       "13  4074-a43b5040-05a9-421f-8716-994e07b3a219     NaN        NaN    43762.9   \n",
       "14  4641-c9c6e48b-2f01-4caf-b9b1-f29659c40474     NaN        NaN    63374.0   \n",
       "15  4074-a43b5040-05a9-421f-8716-994e07b3a219     NaN        NaN    19916.9   \n",
       "16  4074-a43b5040-05a9-421f-8716-994e07b3a219     NaN        NaN    27163.4   \n",
       "17  6101-d74ea1ce-37dd-4444-b4c8-2ece1f13e4bc     NaN        NaN   255399.3   \n",
       "18  6101-d74ea1ce-37dd-4444-b4c8-2ece1f13e4bc     NaN        NaN   105285.0   \n",
       "19  6101-d74ea1ce-37dd-4444-b4c8-2ece1f13e4bc     NaN        NaN    58316.4   \n",
       "20  6101-d74ea1ce-37dd-4444-b4c8-2ece1f13e4bc     NaN        NaN    83178.4   \n",
       "21  6101-d74ea1ce-37dd-4444-b4c8-2ece1f13e4bc     NaN        NaN    61639.5   \n",
       "22  6101-d74ea1ce-37dd-4444-b4c8-2ece1f13e4bc     NaN        NaN    88023.6   \n",
       "23  6101-d74ea1ce-37dd-4444-b4c8-2ece1f13e4bc     NaN        NaN    88674.2   \n",
       "24  6101-d74ea1ce-37dd-4444-b4c8-2ece1f13e4bc     NaN        NaN   132483.2   \n",
       "25  6101-d74ea1ce-37dd-4444-b4c8-2ece1f13e4bc     NaN        NaN   135002.2   \n",
       "26  6101-d74ea1ce-37dd-4444-b4c8-2ece1f13e4bc     NaN        NaN    86462.0   \n",
       "27  6101-d74ea1ce-37dd-4444-b4c8-2ece1f13e4bc     NaN        NaN   120006.0   \n",
       "28  6101-d74ea1ce-37dd-4444-b4c8-2ece1f13e4bc     NaN        NaN   125234.5   \n",
       "29  6101-d74ea1ce-37dd-4444-b4c8-2ece1f13e4bc     NaN        NaN   107335.3   \n",
       "30  6101-d74ea1ce-37dd-4444-b4c8-2ece1f13e4bc     NaN        NaN    96126.0   \n",
       "31  6101-d74ea1ce-37dd-4444-b4c8-2ece1f13e4bc     NaN        NaN    89313.8   \n",
       "32  6101-d74ea1ce-37dd-4444-b4c8-2ece1f13e4bc     NaN        NaN    99966.7   \n",
       "33  6101-d74ea1ce-37dd-4444-b4c8-2ece1f13e4bc     NaN        NaN   151809.7   \n",
       "34  6101-d74ea1ce-37dd-4444-b4c8-2ece1f13e4bc     NaN        NaN    95766.6   \n",
       "35  6101-d74ea1ce-37dd-4444-b4c8-2ece1f13e4bc     NaN        NaN    94546.9   \n",
       "36  6101-d74ea1ce-37dd-4444-b4c8-2ece1f13e4bc     NaN        NaN    93029.6   \n",
       "37  6101-d74ea1ce-37dd-4444-b4c8-2ece1f13e4bc     NaN        NaN   118688.1   \n",
       "38  6101-d74ea1ce-37dd-4444-b4c8-2ece1f13e4bc     NaN        NaN   103012.4   \n",
       "39  6101-d74ea1ce-37dd-4444-b4c8-2ece1f13e4bc     NaN        NaN   116914.7   \n",
       "40  6101-d74ea1ce-37dd-4444-b4c8-2ece1f13e4bc     NaN        NaN   111618.7   \n",
       "\n",
       "    url  ... stim_group  partitionFamily  splitNumber  \\\n",
       "0   NaN  ...       wide              0.0          1.0   \n",
       "1   NaN  ...    neither              0.0          0.0   \n",
       "2   NaN  ...    neither              0.0          1.0   \n",
       "3   NaN  ...    neither              0.0          0.0   \n",
       "4   NaN  ...    neither              0.0          0.0   \n",
       "5   NaN  ...    neither              0.0          2.0   \n",
       "6   NaN  ...    neither              0.0          2.0   \n",
       "7   NaN  ...       wide              0.0          2.0   \n",
       "8   NaN  ...    neither              0.0          2.0   \n",
       "9   NaN  ...       tall              0.0          2.0   \n",
       "10  NaN  ...    neither              0.0          2.0   \n",
       "11  NaN  ...    neither              0.0          2.0   \n",
       "12  NaN  ...    neither              0.0          1.0   \n",
       "13  NaN  ...    neither              0.0          1.0   \n",
       "14  NaN  ...       tall              0.0          3.0   \n",
       "15  NaN  ...    neither              0.0          1.0   \n",
       "16  NaN  ...    neither              0.0          1.0   \n",
       "17  NaN  ...    neither              0.0          4.0   \n",
       "18  NaN  ...    neither              0.0          4.0   \n",
       "19  NaN  ...    neither              0.0          4.0   \n",
       "20  NaN  ...       tall              0.0          4.0   \n",
       "21  NaN  ...       wide              0.0          4.0   \n",
       "22  NaN  ...    neither              0.0          4.0   \n",
       "23  NaN  ...    neither              0.0          4.0   \n",
       "24  NaN  ...    neither              0.0          4.0   \n",
       "25  NaN  ...    neither              0.0          4.0   \n",
       "26  NaN  ...    neither              0.0          4.0   \n",
       "27  NaN  ...    neither              0.0          4.0   \n",
       "28  NaN  ...    neither              0.0          4.0   \n",
       "29  NaN  ...       tall              0.0          4.0   \n",
       "30  NaN  ...    neither              0.0          4.0   \n",
       "31  NaN  ...       wide              0.0          4.0   \n",
       "32  NaN  ...       tall              0.0          4.0   \n",
       "33  NaN  ...    neither              0.0          4.0   \n",
       "34  NaN  ...    neither              0.0          4.0   \n",
       "35  NaN  ...    neither              0.0          4.0   \n",
       "36  NaN  ...    neither              0.0          4.0   \n",
       "37  NaN  ...       wide              0.0          4.0   \n",
       "38  NaN  ...       tall              0.0          4.0   \n",
       "39  NaN  ...    neither              0.0          4.0   \n",
       "40  NaN  ...    neither              0.0          4.0   \n",
       "\n",
       "                                          stimNumbers  \\\n",
       "0   [002, 003, 012, 013, 024, 026, 035, 038, 040, ...   \n",
       "1   [000, 007, 009, 011, 019, 023, 025, 029, 034, ...   \n",
       "2   [002, 003, 012, 013, 024, 026, 035, 038, 040, ...   \n",
       "3   [000, 007, 009, 011, 019, 023, 025, 029, 034, ...   \n",
       "4   [000, 007, 009, 011, 019, 023, 025, 029, 034, ...   \n",
       "5   [001, 004, 010, 015, 030, 037, 039, 042, 043, ...   \n",
       "6   [001, 004, 010, 015, 030, 037, 039, 042, 043, ...   \n",
       "7   [001, 004, 010, 015, 030, 037, 039, 042, 043, ...   \n",
       "8   [001, 004, 010, 015, 030, 037, 039, 042, 043, ...   \n",
       "9   [001, 004, 010, 015, 030, 037, 039, 042, 043, ...   \n",
       "10  [001, 004, 010, 015, 030, 037, 039, 042, 043, ...   \n",
       "11  [001, 004, 010, 015, 030, 037, 039, 042, 043, ...   \n",
       "12  [002, 003, 012, 013, 024, 026, 035, 038, 040, ...   \n",
       "13  [002, 003, 012, 013, 024, 026, 035, 038, 040, ...   \n",
       "14  [005, 008, 016, 017, 020, 033, 036, 044, 050, ...   \n",
       "15  [002, 003, 012, 013, 024, 026, 035, 038, 040, ...   \n",
       "16  [002, 003, 012, 013, 024, 026, 035, 038, 040, ...   \n",
       "17  [006, 014, 018, 021, 022, 027, 028, 031, 032, ...   \n",
       "18  [006, 014, 018, 021, 022, 027, 028, 031, 032, ...   \n",
       "19  [006, 014, 018, 021, 022, 027, 028, 031, 032, ...   \n",
       "20  [006, 014, 018, 021, 022, 027, 028, 031, 032, ...   \n",
       "21  [006, 014, 018, 021, 022, 027, 028, 031, 032, ...   \n",
       "22  [006, 014, 018, 021, 022, 027, 028, 031, 032, ...   \n",
       "23  [006, 014, 018, 021, 022, 027, 028, 031, 032, ...   \n",
       "24  [006, 014, 018, 021, 022, 027, 028, 031, 032, ...   \n",
       "25  [006, 014, 018, 021, 022, 027, 028, 031, 032, ...   \n",
       "26  [006, 014, 018, 021, 022, 027, 028, 031, 032, ...   \n",
       "27  [006, 014, 018, 021, 022, 027, 028, 031, 032, ...   \n",
       "28  [006, 014, 018, 021, 022, 027, 028, 031, 032, ...   \n",
       "29  [006, 014, 018, 021, 022, 027, 028, 031, 032, ...   \n",
       "30  [006, 014, 018, 021, 022, 027, 028, 031, 032, ...   \n",
       "31  [006, 014, 018, 021, 022, 027, 028, 031, 032, ...   \n",
       "32  [006, 014, 018, 021, 022, 027, 028, 031, 032, ...   \n",
       "33  [006, 014, 018, 021, 022, 027, 028, 031, 032, ...   \n",
       "34  [006, 014, 018, 021, 022, 027, 028, 031, 032, ...   \n",
       "35  [006, 014, 018, 021, 022, 027, 028, 031, 032, ...   \n",
       "36  [006, 014, 018, 021, 022, 027, 028, 031, 032, ...   \n",
       "37  [006, 014, 018, 021, 022, 027, 028, 031, 032, ...   \n",
       "38  [006, 014, 018, 021, 022, 027, 028, 031, 032, ...   \n",
       "39  [006, 014, 018, 021, 022, 027, 028, 031, 032, ...   \n",
       "40  [006, 014, 018, 021, 022, 027, 028, 031, 032, ...   \n",
       "\n",
       "                                           stimGroups numGames  \\\n",
       "0   {'101': 'tall', '108': 'neither', '110': 'neit...      0.0   \n",
       "1   {'100': 'tall', '106': 'neither', '113': 'neit...      0.0   \n",
       "2   {'101': 'tall', '108': 'neither', '110': 'neit...      0.0   \n",
       "3   {'100': 'tall', '106': 'neither', '113': 'neit...      0.0   \n",
       "4   {'100': 'tall', '106': 'neither', '113': 'neit...      0.0   \n",
       "5   {'102': 'tall', '103': 'neither', '109': 'tall...      0.0   \n",
       "6   {'102': 'tall', '103': 'neither', '109': 'tall...      0.0   \n",
       "7   {'102': 'tall', '103': 'neither', '109': 'tall...      0.0   \n",
       "8   {'102': 'tall', '103': 'neither', '109': 'tall...      0.0   \n",
       "9   {'102': 'tall', '103': 'neither', '109': 'tall...      0.0   \n",
       "10  {'102': 'tall', '103': 'neither', '109': 'tall...      0.0   \n",
       "11  {'102': 'tall', '103': 'neither', '109': 'tall...      0.0   \n",
       "12  {'101': 'tall', '108': 'neither', '110': 'neit...      0.0   \n",
       "13  {'101': 'tall', '108': 'neither', '110': 'neit...      0.0   \n",
       "14  {'104': 'neither', '105': 'neither', '107': 'n...      0.0   \n",
       "15  {'101': 'tall', '108': 'neither', '110': 'neit...      0.0   \n",
       "16  {'101': 'tall', '108': 'neither', '110': 'neit...      0.0   \n",
       "17  {'112': 'neither', '117': 'neither', '121': 't...      0.0   \n",
       "18  {'112': 'neither', '117': 'neither', '121': 't...      0.0   \n",
       "19  {'112': 'neither', '117': 'neither', '121': 't...      0.0   \n",
       "20  {'112': 'neither', '117': 'neither', '121': 't...      0.0   \n",
       "21  {'112': 'neither', '117': 'neither', '121': 't...      0.0   \n",
       "22  {'112': 'neither', '117': 'neither', '121': 't...      0.0   \n",
       "23  {'112': 'neither', '117': 'neither', '121': 't...      0.0   \n",
       "24  {'112': 'neither', '117': 'neither', '121': 't...      0.0   \n",
       "25  {'112': 'neither', '117': 'neither', '121': 't...      0.0   \n",
       "26  {'112': 'neither', '117': 'neither', '121': 't...      0.0   \n",
       "27  {'112': 'neither', '117': 'neither', '121': 't...      0.0   \n",
       "28  {'112': 'neither', '117': 'neither', '121': 't...      0.0   \n",
       "29  {'112': 'neither', '117': 'neither', '121': 't...      0.0   \n",
       "30  {'112': 'neither', '117': 'neither', '121': 't...      0.0   \n",
       "31  {'112': 'neither', '117': 'neither', '121': 't...      0.0   \n",
       "32  {'112': 'neither', '117': 'neither', '121': 't...      0.0   \n",
       "33  {'112': 'neither', '117': 'neither', '121': 't...      0.0   \n",
       "34  {'112': 'neither', '117': 'neither', '121': 't...      0.0   \n",
       "35  {'112': 'neither', '117': 'neither', '121': 't...      0.0   \n",
       "36  {'112': 'neither', '117': 'neither', '121': 't...      0.0   \n",
       "37  {'112': 'neither', '117': 'neither', '121': 't...      0.0   \n",
       "38  {'112': 'neither', '117': 'neither', '121': 't...      0.0   \n",
       "39  {'112': 'neither', '117': 'neither', '121': 't...      0.0   \n",
       "40  {'112': 'neither', '117': 'neither', '121': 't...      0.0   \n",
       "\n",
       "       experimentType                                     experimentName  \\\n",
       "0   prior_elicitation  ca_prior_elicitation_4_block_unique_silhouette...   \n",
       "1   prior_elicitation  ca_prior_elicitation_4_block_unique_silhouette...   \n",
       "2   prior_elicitation  ca_prior_elicitation_4_block_unique_silhouette...   \n",
       "3   prior_elicitation  ca_prior_elicitation_4_block_unique_silhouette...   \n",
       "4   prior_elicitation  ca_prior_elicitation_4_block_unique_silhouette...   \n",
       "5   prior_elicitation  ca_prior_elicitation_4_block_unique_silhouette...   \n",
       "6   prior_elicitation  ca_prior_elicitation_4_block_unique_silhouette...   \n",
       "7   prior_elicitation  ca_prior_elicitation_4_block_unique_silhouette...   \n",
       "8   prior_elicitation  ca_prior_elicitation_4_block_unique_silhouette...   \n",
       "9   prior_elicitation  ca_prior_elicitation_4_block_unique_silhouette...   \n",
       "10  prior_elicitation  ca_prior_elicitation_4_block_unique_silhouette...   \n",
       "11  prior_elicitation  ca_prior_elicitation_4_block_unique_silhouette...   \n",
       "12  prior_elicitation  ca_prior_elicitation_4_block_unique_silhouette...   \n",
       "13  prior_elicitation  ca_prior_elicitation_4_block_unique_silhouette...   \n",
       "14  prior_elicitation  ca_prior_elicitation_4_block_unique_silhouette...   \n",
       "15  prior_elicitation  ca_prior_elicitation_4_block_unique_silhouette...   \n",
       "16  prior_elicitation  ca_prior_elicitation_4_block_unique_silhouette...   \n",
       "17  prior_elicitation  ca_prior_elicitation_4_block_unique_silhouette...   \n",
       "18  prior_elicitation  ca_prior_elicitation_4_block_unique_silhouette...   \n",
       "19  prior_elicitation  ca_prior_elicitation_4_block_unique_silhouette...   \n",
       "20  prior_elicitation  ca_prior_elicitation_4_block_unique_silhouette...   \n",
       "21  prior_elicitation  ca_prior_elicitation_4_block_unique_silhouette...   \n",
       "22  prior_elicitation  ca_prior_elicitation_4_block_unique_silhouette...   \n",
       "23  prior_elicitation  ca_prior_elicitation_4_block_unique_silhouette...   \n",
       "24  prior_elicitation  ca_prior_elicitation_4_block_unique_silhouette...   \n",
       "25  prior_elicitation  ca_prior_elicitation_4_block_unique_silhouette...   \n",
       "26  prior_elicitation  ca_prior_elicitation_4_block_unique_silhouette...   \n",
       "27  prior_elicitation  ca_prior_elicitation_4_block_unique_silhouette...   \n",
       "28  prior_elicitation  ca_prior_elicitation_4_block_unique_silhouette...   \n",
       "29  prior_elicitation  ca_prior_elicitation_4_block_unique_silhouette...   \n",
       "30  prior_elicitation  ca_prior_elicitation_4_block_unique_silhouette...   \n",
       "31  prior_elicitation  ca_prior_elicitation_4_block_unique_silhouette...   \n",
       "32  prior_elicitation  ca_prior_elicitation_4_block_unique_silhouette...   \n",
       "33  prior_elicitation  ca_prior_elicitation_4_block_unique_silhouette...   \n",
       "34  prior_elicitation  ca_prior_elicitation_4_block_unique_silhouette...   \n",
       "35  prior_elicitation  ca_prior_elicitation_4_block_unique_silhouette...   \n",
       "36  prior_elicitation  ca_prior_elicitation_4_block_unique_silhouette...   \n",
       "37  prior_elicitation  ca_prior_elicitation_4_block_unique_silhouette...   \n",
       "38  prior_elicitation  ca_prior_elicitation_4_block_unique_silhouette...   \n",
       "39  prior_elicitation  ca_prior_elicitation_4_block_unique_silhouette...   \n",
       "40  prior_elicitation  ca_prior_elicitation_4_block_unique_silhouette...   \n",
       "\n",
       "                                    s3_bucket versionInd  \n",
       "0   lax-tower-4-block-unique-silhouettes-json        0.0  \n",
       "1   lax-tower-4-block-unique-silhouettes-json        0.0  \n",
       "2   lax-tower-4-block-unique-silhouettes-json        0.0  \n",
       "3   lax-tower-4-block-unique-silhouettes-json        0.0  \n",
       "4   lax-tower-4-block-unique-silhouettes-json        0.0  \n",
       "5   lax-tower-4-block-unique-silhouettes-json        0.0  \n",
       "6   lax-tower-4-block-unique-silhouettes-json        0.0  \n",
       "7   lax-tower-4-block-unique-silhouettes-json        0.0  \n",
       "8   lax-tower-4-block-unique-silhouettes-json        0.0  \n",
       "9   lax-tower-4-block-unique-silhouettes-json        0.0  \n",
       "10  lax-tower-4-block-unique-silhouettes-json        0.0  \n",
       "11  lax-tower-4-block-unique-silhouettes-json        0.0  \n",
       "12  lax-tower-4-block-unique-silhouettes-json        0.0  \n",
       "13  lax-tower-4-block-unique-silhouettes-json        0.0  \n",
       "14  lax-tower-4-block-unique-silhouettes-json        0.0  \n",
       "15  lax-tower-4-block-unique-silhouettes-json        0.0  \n",
       "16  lax-tower-4-block-unique-silhouettes-json        0.0  \n",
       "17  lax-tower-4-block-unique-silhouettes-json        0.0  \n",
       "18  lax-tower-4-block-unique-silhouettes-json        0.0  \n",
       "19  lax-tower-4-block-unique-silhouettes-json        0.0  \n",
       "20  lax-tower-4-block-unique-silhouettes-json        0.0  \n",
       "21  lax-tower-4-block-unique-silhouettes-json        0.0  \n",
       "22  lax-tower-4-block-unique-silhouettes-json        0.0  \n",
       "23  lax-tower-4-block-unique-silhouettes-json        0.0  \n",
       "24  lax-tower-4-block-unique-silhouettes-json        0.0  \n",
       "25  lax-tower-4-block-unique-silhouettes-json        0.0  \n",
       "26  lax-tower-4-block-unique-silhouettes-json        0.0  \n",
       "27  lax-tower-4-block-unique-silhouettes-json        0.0  \n",
       "28  lax-tower-4-block-unique-silhouettes-json        0.0  \n",
       "29  lax-tower-4-block-unique-silhouettes-json        0.0  \n",
       "30  lax-tower-4-block-unique-silhouettes-json        0.0  \n",
       "31  lax-tower-4-block-unique-silhouettes-json        0.0  \n",
       "32  lax-tower-4-block-unique-silhouettes-json        0.0  \n",
       "33  lax-tower-4-block-unique-silhouettes-json        0.0  \n",
       "34  lax-tower-4-block-unique-silhouettes-json        0.0  \n",
       "35  lax-tower-4-block-unique-silhouettes-json        0.0  \n",
       "36  lax-tower-4-block-unique-silhouettes-json        0.0  \n",
       "37  lax-tower-4-block-unique-silhouettes-json        0.0  \n",
       "38  lax-tower-4-block-unique-silhouettes-json        0.0  \n",
       "39  lax-tower-4-block-unique-silhouettes-json        0.0  \n",
       "40  lax-tower-4-block-unique-silhouettes-json        0.0  \n",
       "\n",
       "[41 rows x 29 columns]"
      ]
     },
     "execution_count": 643,
     "metadata": {},
     "output_type": "execute_result"
    }
   ],
   "source": [
    "df_trial"
   ]
  },
  {
   "cell_type": "markdown",
   "metadata": {},
   "source": [
    "## Data preprocessing"
   ]
  },
  {
   "cell_type": "code",
   "execution_count": 644,
   "metadata": {},
   "outputs": [
    {
     "data": {
      "text/plain": [
       "['First I would draw two blue horizontal rectangles of the same size one on the bottom one on top, perfectly aligned so it looks like a square in the middle of the page. Then I would draw one rust orange vertical rectangle on the left side of the blue rectangles, making it the same height as the square is so the rust orange rectangle is the exact same size of the blue rectangle but just turned vertically. Then I would do the exact same thing with another rust orange rectangle on the right side.',\n",
       " \"place a horizontal blue block...then I would place a red block vertically aligning with the end of the first blue block...then I would place another blue block horizontally aligning with the topmost end of the red block...then I would vertically place a red block so that it aligns with the empty end of the blue block to make an almost 'n' shape\",\n",
       " 'to make this image i would create a blue rectangle to the right laying hamburger way, then i would out another blue hamburger rectangle and lay it on top and moved towards the right, then i would put a red rectangle laying hot dog wise on the first blue retangle, and another to the right of them.\\n',\n",
       " 'to make this image i would place two blue blocks side by side horizontally. then I would put one vertical red block on each by aligning their left sides.',\n",
       " 'to make this image i would place a horizontal blue block. then i would place a vertical red block on top so that their right sides are aligned. Then i would place a vertical red block to the left of the blue block. then i would place a horizontal blue block on top the second red block so that their right sides are aligned.',\n",
       " 'to make this image i would place two vertical red blocks with the distance of another red block between them. then id place a horizontal blue block on each by aligning the right sides of each blue and their corresponding red block.',\n",
       " 'to make this image i would place a horizontal blue block. then i would place a vertical red block to the left of it. then i would place a second horizontal blue block on top the first by having its right side float and left side touch. then i would place a vertical red block on top the second blue block by having their right sides align.',\n",
       " 'to make this image i would stack two vertical red blocks. then i would place a horizontal blue block to the left of them. then i would stack a second blue block on the first so that its left half is floating and right half is touching.',\n",
       " 'to make this image i would place a horizontal blue block. then i would place a horizontal blue block on top by having its left half float and right half be on the block. then i would place a vertical red block on the second blue block by aligning their right sides. then i would place a vertical red block on the right side of the blocks so that it is touching the left side of the second blue block.',\n",
       " 'to make this image i would horizontally stack two blue blocks. Then I would place a vertical red block on their left side. Then I would place a vertical red block on top to the two blue blocks by aligning their right sides.',\n",
       " 'connect two blue rectangles laying in a staircase form, and then I would lay one on top of the stair shape and another to the left of them.',\n",
       " 'create a fish braid pattern with two red on the right and two blue on the lefft.',\n",
       " \"draw a blue horizontal rectangle on the bottom. Then I would draw another blue horizontal rectangle of the exact same size sitting on top of the first blue rectangle centered to the left so there is half of the second rectangle sitting on the first one and half of it hanging off the side. Then I would draw a rust orange vertical rectangle the same size as the other rectangles and have it sitting on the first blue rectangle, the bottom would be touching the first blue rectangle and the left side would be touching the second blue rectangle on the left edge. Lastly I would draw another rust orange vertical rectangle the same size as the others, and place it sitting on top of the second blue rectangle centered to the right so it's edge is touching the first rust orange rectangle.\",\n",
       " 'place a horizontal blue block...then I would place a vertical red block at its end...then I would place another vertical red block on the end of and on top of the blue block...then I would place a horizontal blue block on top of the secondmost placed red block',\n",
       " 'to make this image i would place a horizontal blue block. then i would place another horizontal blue block on top so that its right half is floating and left half is touching. then i would place two vertical red blocks side by side on top of the second blue block.',\n",
       " 'to make this image i would place to vertical red blocks touching together. Then i would place to horizontal blocks on top of the red block on the right.',\n",
       " 'to make this image i would place two vertical red blocks side by side. then i would place a horizontal blue block on the left red block. then i would place a second horizontal blue block on the first so that its right half is floating and left half is touching.',\n",
       " 'to make this block i would place a blue block horizontally. then I would place to red blocks vertically touching together on top. then I would place a blue block horizontally aligned with the red block on the right.',\n",
       " \"to make this image i would stack two red blocks vertically. then i would place a blue block horizontally the distance of one block's length away  . Then i'd stack another blue block horizontally on the first and align this block to touch the red ones. \",\n",
       " 'to make this image i would horizontally place a blue block. then i would vertically place a red block to the left of it. then i would place a vertical red block on top of the blue block so that it is touching the other red block. then i would place a horizontal blue block on the second red block. then i would align the right sides of those two final blocks.',\n",
       " 'place one blue block horizontally...then I would place both red blocks lengthways aligned to the blue block...then I would place a blue block horizontally so that it aligns with the red blocks',\n",
       " \"to make this image i would lay two horizontal blue blocks side by side. then i would stack two vertical red blocks and place them on the blue block on the right so that these three blocks' left sides are aligning.\",\n",
       " \"place the two blue blocks together to make a 'z' shape...then I would place a vertical red block at the back of the 'z' shape...then I would place a vertical red block underneath the blue block on the opposite side of the other red block\",\n",
       " 'place two red blocks vertically to form a line...then I would place a horizontal blue block aligning with the lowest end of the line of red blocks...then I would shift the topmost red block upwards to form a gap...then I would place a horizontal blue block in this gap aligning with the edge of the red blocks',\n",
       " 'draw a blue horizontal rectangle on the bottom, then draw a rust orange rectangle (the same size) vertically touching the left side of the blue rectangle, then I would draw another blue horizontal rectangle (the same size) on top of the rust orange rectangle but center it so the edges line up and there is half of the rectangle hanging off to the right, lastly I would draw another rust orange vertical rectangle sitting on top of the previous blue rectangle on the right side with the edges lines up flush.',\n",
       " 'start with a red rectangle laying hotdog, and put two hamburger rectangles laying like a staircase, and the last rectangle laying hotdog on the right corner of the second rectangle.\\n',\n",
       " 'to make this image i would place a vertical red block. then I would place a horizontal blue block on top so that that their left sides are aligned. then i would place a vertical red block on top of both so that all their left sides are aligned. then i would place a horizontal blue block on the remaining space  of the first blue block.',\n",
       " 'put two red rectangles together, and make a stair going up the the right underneath them. ',\n",
       " 'to make this image i would place a vertical red block. then i would put a horizontal blue block on top by aligning their left sides. then I would place a horizontal blue block on top of the other so that its left half is on the block and right half is floating. Then I would place a vertical red block on top of the right side of the second blue block.',\n",
       " 'to make this image i would place a horizontal blue block. then i would lay another blue block on top so that it is half way on the other, but its right half is not. then id place two vertically stacked red blocks on the left side of the second blue block.',\n",
       " 'to make this image i would place a vertical red block. then i would place a horizontal blue block on top and have their right sides align. then i would place another blue block on top the first so that its right half is floating and left half is touching. then i would place a vertical red block on top so that its left side is aligned with the second blue blocks left.',\n",
       " 'Place two red blocks lengthways...then I would intercept with two blue blocks horizontally...then I would shift the topmost blue block to the left until its rightmost end aligns with the end of the top red block...then I would shift the bottommost blue block to the right until its leftmost end aligns with the end of the bottom red block',\n",
       " 'place two vertical red blocks together forming a line...then I would place two blue blocks horiztonally together...then I would join the blue blocks to the end of the red blocks',\n",
       " 'connect two flat rectangles with the red rectangles. ',\n",
       " 'to make this image i would put a vertical red block. then i would place a horizontal blue block on top so that their right sides are alined. then i would put another horizontal blue block on top of the first so that its right half is on the block and left half is floating. then i would put a vertical red block on the left side of the second blue block. ',\n",
       " 'to make this image i would put a horizontal blue block. Then i would stack two vertical red blocks and place them on top of the blue by aligning all of their left sides. Then I would place a horizontal blue block on top of the red by aligning their right sides.',\n",
       " 'to make this image i would place a vertical red block. then i would put a horizontal blue block by aligning their right sides. then i would put a vertical red block on top by aligning right sides. then i would place another horizontal blue block by aligning their right sides.',\n",
       " 'to make this image i would place a vertical red block. Then I would place a horizontal blue block so that their left sides align. Then i would place a vertical red block on the blue one so that their right sides align. then i would place a horizontal blue block on the second red so that their right sides align. ',\n",
       " 'To make this image i would put a blue rectangle horizontally on top of two red rectangles. I would then put a blue rectangle horizontally on the bottom.',\n",
       " 'to make this image i would place a vertical red block. then i would place a horizontal blue block on top by having their left sides align. then i would place a vertical red block on top by having their left sides align. then i would place a horizontal blue block by having their left sides align.',\n",
       " 'to make this image i would vertically stack two red blocks. then I would place two horizontal blue blocks on top by alining their right sides.']"
      ]
     },
     "execution_count": 644,
     "metadata": {},
     "output_type": "execute_result"
    }
   ],
   "source": [
    "list(df_trial.groupby('stimId').first()['label'])"
   ]
  },
  {
   "cell_type": "markdown",
   "metadata": {},
   "source": [
    "## Basic plots to test data"
   ]
  },
  {
   "cell_type": "markdown",
   "metadata": {},
   "source": [
    "  - Make some simple plots\n",
    "\t- Description length over trial num\n",
    "\t- For each tower:\n",
    "\t\t- display responses\n",
    "\t\t- variance in desc length\n",
    "\t\t- mean desc length"
   ]
  },
  {
   "cell_type": "code",
   "execution_count": 645,
   "metadata": {},
   "outputs": [],
   "source": [
    "# setup block display\n",
    "block_dims = [(2,1),(1,2)]\n",
    "block_colors = ['#0A2FB3','#B32F0A']\n",
    "black = ['#000000','#000000'] # used to display silhouettes\n",
    "grey = ['#333333','#333333']\n",
    "world_width = 8\n",
    "world_height = 8\n",
    "world_center = int((world_width-1)/2)"
   ]
  },
  {
   "cell_type": "code",
   "execution_count": 646,
   "metadata": {},
   "outputs": [],
   "source": [
    "towers = pd.read_pickle(\"../../stimuli/tower_4_block_unique_silhouettes/tower_4_block_unique_silhouettes.pkl\")"
   ]
  },
  {
   "cell_type": "code",
   "execution_count": 647,
   "metadata": {},
   "outputs": [],
   "source": [
    "towers_with_labels = df_trial[['stimId','label','gameID']].groupby('stimId')\n",
    "# tower_ids = towers_with_labels.first().reset_index()['stimId']"
   ]
  },
  {
   "cell_type": "code",
   "execution_count": 648,
   "metadata": {
    "scrolled": true
   },
   "outputs": [
    {
     "data": {
      "image/png": "[encoded data removed]",
      "text/plain": [
       "<Figure size 144x216 with 1 Axes>"
      ]
     },
     "metadata": {},
     "output_type": "display_data"
    },
    {
     "name": "stdout",
     "output_type": "stream",
     "text": [
      "000\n",
      "['First I would draw two blue horizontal rectangles of the same size one on the bottom one on top, perfectly aligned so it looks like a square in the middle of the page. Then I would draw one rust orange vertical rectangle on the left side of the blue rectangles, making it the same height as the square is so the rust orange rectangle is the exact same size of the blue rectangle but just turned vertically. Then I would do the exact same thing with another rust orange rectangle on the right side.']\n"
     ]
    },
    {
     "data": {
      "image/png": "[encoded data removed]",
      "text/plain": [
       "<Figure size 144x216 with 1 Axes>"
      ]
     },
     "metadata": {},
     "output_type": "display_data"
    },
    {
     "name": "stdout",
     "output_type": "stream",
     "text": [
      "010\n",
      "[\"place a horizontal blue block...then I would place a red block vertically aligning with the end of the first blue block...then I would place another blue block horizontally aligning with the topmost end of the red block...then I would vertically place a red block so that it aligns with the empty end of the blue block to make an almost 'n' shape\"]\n"
     ]
    },
    {
     "data": {
      "image/png": "[encoded data removed]",
      "text/plain": [
       "<Figure size 144x216 with 1 Axes>"
      ]
     },
     "metadata": {},
     "output_type": "display_data"
    },
    {
     "name": "stdout",
     "output_type": "stream",
     "text": [
      "012\n",
      "['to make this image i would create a blue rectangle to the right laying hamburger way, then i would out another blue hamburger rectangle and lay it on top and moved towards the right, then i would put a red rectangle laying hot dog wise on the first blue retangle, and another to the right of them.\\n']\n"
     ]
    },
    {
     "data": {
      "image/png": "[encoded data removed]",
      "text/plain": [
       "<Figure size 144x216 with 1 Axes>"
      ]
     },
     "metadata": {},
     "output_type": "display_data"
    },
    {
     "name": "stdout",
     "output_type": "stream",
     "text": [
      "014\n",
      "['to make this image i would place two blue blocks side by side horizontally. then I would put one vertical red block on each by aligning their left sides.']\n"
     ]
    },
    {
     "data": {
      "image/png": "[encoded data removed]",
      "text/plain": [
       "<Figure size 144x216 with 1 Axes>"
      ]
     },
     "metadata": {},
     "output_type": "display_data"
    },
    {
     "name": "stdout",
     "output_type": "stream",
     "text": [
      "018\n",
      "['to make this image i would place a horizontal blue block. then i would place a vertical red block on top so that their right sides are aligned. Then i would place a vertical red block to the left of the blue block. then i would place a horizontal blue block on top the second red block so that their right sides are aligned.']\n"
     ]
    },
    {
     "data": {
      "image/png": "[encoded data removed]",
      "text/plain": [
       "<Figure size 144x216 with 1 Axes>"
      ]
     },
     "metadata": {},
     "output_type": "display_data"
    },
    {
     "name": "stdout",
     "output_type": "stream",
     "text": [
      "022\n",
      "['to make this image i would place two vertical red blocks with the distance of another red block between them. then id place a horizontal blue block on each by aligning the right sides of each blue and their corresponding red block.']\n"
     ]
    },
    {
     "data": {
      "image/png": "[encoded data removed]",
      "text/plain": [
       "<Figure size 144x216 with 1 Axes>"
      ]
     },
     "metadata": {},
     "output_type": "display_data"
    },
    {
     "name": "stdout",
     "output_type": "stream",
     "text": [
      "027\n",
      "['to make this image i would place a horizontal blue block. then i would place a vertical red block to the left of it. then i would place a second horizontal blue block on top the first by having its right side float and left side touch. then i would place a vertical red block on top the second blue block by having their right sides align.']\n"
     ]
    },
    {
     "data": {
      "image/png": "[encoded data removed]",
      "text/plain": [
       "<Figure size 144x216 with 1 Axes>"
      ]
     },
     "metadata": {},
     "output_type": "display_data"
    },
    {
     "name": "stdout",
     "output_type": "stream",
     "text": [
      "028\n",
      "['to make this image i would stack two vertical red blocks. then i would place a horizontal blue block to the left of them. then i would stack a second blue block on the first so that its left half is floating and right half is touching.']\n"
     ]
    },
    {
     "data": {
      "image/png": "[encoded data removed]",
      "text/plain": [
       "<Figure size 144x216 with 1 Axes>"
      ]
     },
     "metadata": {},
     "output_type": "display_data"
    },
    {
     "name": "stdout",
     "output_type": "stream",
     "text": [
      "031\n",
      "['to make this image i would place a horizontal blue block. then i would place a horizontal blue block on top by having its left half float and right half be on the block. then i would place a vertical red block on the second blue block by aligning their right sides. then i would place a vertical red block on the right side of the blocks so that it is touching the left side of the second blue block.']\n"
     ]
    },
    {
     "data": {
      "image/png": "[encoded data removed]",
      "text/plain": [
       "<Figure size 144x216 with 1 Axes>"
      ]
     },
     "metadata": {},
     "output_type": "display_data"
    },
    {
     "name": "stdout",
     "output_type": "stream",
     "text": [
      "032\n",
      "['to make this image i would horizontally stack two blue blocks. Then I would place a vertical red block on their left side. Then I would place a vertical red block on top to the two blue blocks by aligning their right sides.']\n"
     ]
    },
    {
     "data": {
      "image/png": "[encoded data removed]",
      "text/plain": [
       "<Figure size 144x216 with 1 Axes>"
      ]
     },
     "metadata": {},
     "output_type": "display_data"
    },
    {
     "name": "stdout",
     "output_type": "stream",
     "text": [
      "038\n",
      "['connect two blue rectangles laying in a staircase form, and then I would lay one on top of the stair shape and another to the left of them.']\n"
     ]
    },
    {
     "data": {
      "image/png": "[encoded data removed]",
      "text/plain": [
       "<Figure size 144x216 with 1 Axes>"
      ]
     },
     "metadata": {},
     "output_type": "display_data"
    },
    {
     "name": "stdout",
     "output_type": "stream",
     "text": [
      "040\n",
      "['create a fish braid pattern with two red on the right and two blue on the lefft.']\n"
     ]
    },
    {
     "data": {
      "image/png": "[encoded data removed]",
      "text/plain": [
       "<Figure size 144x216 with 1 Axes>"
      ]
     },
     "metadata": {},
     "output_type": "display_data"
    },
    {
     "name": "stdout",
     "output_type": "stream",
     "text": [
      "041\n",
      "[\"draw a blue horizontal rectangle on the bottom. Then I would draw another blue horizontal rectangle of the exact same size sitting on top of the first blue rectangle centered to the left so there is half of the second rectangle sitting on the first one and half of it hanging off the side. Then I would draw a rust orange vertical rectangle the same size as the other rectangles and have it sitting on the first blue rectangle, the bottom would be touching the first blue rectangle and the left side would be touching the second blue rectangle on the left edge. Lastly I would draw another rust orange vertical rectangle the same size as the others, and place it sitting on top of the second blue rectangle centered to the right so it's edge is touching the first rust orange rectangle.\"]\n"
     ]
    },
    {
     "data": {
      "image/png": "[encoded data removed]",
      "text/plain": [
       "<Figure size 144x216 with 1 Axes>"
      ]
     },
     "metadata": {},
     "output_type": "display_data"
    },
    {
     "name": "stdout",
     "output_type": "stream",
     "text": [
      "043\n",
      "['place a horizontal blue block...then I would place a vertical red block at its end...then I would place another vertical red block on the end of and on top of the blue block...then I would place a horizontal blue block on top of the secondmost placed red block']\n"
     ]
    },
    {
     "data": {
      "image/png": "[encoded data removed]",
      "text/plain": [
       "<Figure size 144x216 with 1 Axes>"
      ]
     },
     "metadata": {},
     "output_type": "display_data"
    },
    {
     "name": "stdout",
     "output_type": "stream",
     "text": [
      "045\n",
      "['to make this image i would place a horizontal blue block. then i would place another horizontal blue block on top so that its right half is floating and left half is touching. then i would place two vertical red blocks side by side on top of the second blue block.']\n"
     ]
    },
    {
     "data": {
      "image/png": "[encoded data removed]",
      "text/plain": [
       "<Figure size 144x216 with 1 Axes>"
      ]
     },
     "metadata": {},
     "output_type": "display_data"
    },
    {
     "name": "stdout",
     "output_type": "stream",
     "text": [
      "046\n",
      "['to make this image i would place to vertical red blocks touching together. Then i would place to horizontal blocks on top of the red block on the right.']\n"
     ]
    },
    {
     "data": {
      "image/png": "[encoded data removed]",
      "text/plain": [
       "<Figure size 144x216 with 1 Axes>"
      ]
     },
     "metadata": {},
     "output_type": "display_data"
    },
    {
     "name": "stdout",
     "output_type": "stream",
     "text": [
      "047\n",
      "['to make this image i would place two vertical red blocks side by side. then i would place a horizontal blue block on the left red block. then i would place a second horizontal blue block on the first so that its right half is floating and left half is touching.']\n"
     ]
    },
    {
     "data": {
      "image/png": "[encoded data removed]",
      "text/plain": [
       "<Figure size 144x216 with 1 Axes>"
      ]
     },
     "metadata": {},
     "output_type": "display_data"
    },
    {
     "name": "stdout",
     "output_type": "stream",
     "text": [
      "048\n",
      "['to make this block i would place a blue block horizontally. then I would place to red blocks vertically touching together on top. then I would place a blue block horizontally aligned with the red block on the right.']\n"
     ]
    },
    {
     "data": {
      "image/png": "[encoded data removed]",
      "text/plain": [
       "<Figure size 144x216 with 1 Axes>"
      ]
     },
     "metadata": {},
     "output_type": "display_data"
    },
    {
     "name": "stdout",
     "output_type": "stream",
     "text": [
      "051\n",
      "[\"to make this image i would stack two red blocks vertically. then i would place a blue block horizontally the distance of one block's length away  . Then i'd stack another blue block horizontally on the first and align this block to touch the red ones. \"]\n"
     ]
    },
    {
     "data": {
      "image/png": "[encoded data removed]",
      "text/plain": [
       "<Figure size 144x216 with 1 Axes>"
      ]
     },
     "metadata": {},
     "output_type": "display_data"
    },
    {
     "name": "stdout",
     "output_type": "stream",
     "text": [
      "056\n",
      "['to make this image i would horizontally place a blue block. then i would vertically place a red block to the left of it. then i would place a vertical red block on top of the blue block so that it is touching the other red block. then i would place a horizontal blue block on the second red block. then i would align the right sides of those two final blocks.']\n"
     ]
    },
    {
     "data": {
      "image/png": "[encoded data removed]",
      "text/plain": [
       "<Figure size 144x216 with 1 Axes>"
      ]
     },
     "metadata": {},
     "output_type": "display_data"
    },
    {
     "name": "stdout",
     "output_type": "stream",
     "text": [
      "063\n",
      "['place one blue block horizontally...then I would place both red blocks lengthways aligned to the blue block...then I would place a blue block horizontally so that it aligns with the red blocks']\n"
     ]
    },
    {
     "data": {
      "image/png": "[encoded data removed]",
      "text/plain": [
       "<Figure size 144x216 with 1 Axes>"
      ]
     },
     "metadata": {},
     "output_type": "display_data"
    },
    {
     "name": "stdout",
     "output_type": "stream",
     "text": [
      "066\n",
      "[\"to make this image i would lay two horizontal blue blocks side by side. then i would stack two vertical red blocks and place them on the blue block on the right so that these three blocks' left sides are aligning.\"]\n"
     ]
    },
    {
     "data": {
      "image/png": "[encoded data removed]",
      "text/plain": [
       "<Figure size 144x216 with 1 Axes>"
      ]
     },
     "metadata": {},
     "output_type": "display_data"
    },
    {
     "name": "stdout",
     "output_type": "stream",
     "text": [
      "071\n",
      "[\"place the two blue blocks together to make a 'z' shape...then I would place a vertical red block at the back of the 'z' shape...then I would place a vertical red block underneath the blue block on the opposite side of the other red block\"]\n"
     ]
    },
    {
     "data": {
      "image/png": "[encoded data removed]",
      "text/plain": [
       "<Figure size 144x216 with 1 Axes>"
      ]
     },
     "metadata": {},
     "output_type": "display_data"
    },
    {
     "name": "stdout",
     "output_type": "stream",
     "text": [
      "075\n",
      "['place two red blocks vertically to form a line...then I would place a horizontal blue block aligning with the lowest end of the line of red blocks...then I would shift the topmost red block upwards to form a gap...then I would place a horizontal blue block in this gap aligning with the edge of the red blocks']\n"
     ]
    },
    {
     "data": {
      "image/png": "[encoded data removed]",
      "text/plain": [
       "<Figure size 144x216 with 1 Axes>"
      ]
     },
     "metadata": {},
     "output_type": "display_data"
    },
    {
     "name": "stdout",
     "output_type": "stream",
     "text": [
      "076\n",
      "['draw a blue horizontal rectangle on the bottom, then draw a rust orange rectangle (the same size) vertically touching the left side of the blue rectangle, then I would draw another blue horizontal rectangle (the same size) on top of the rust orange rectangle but center it so the edges line up and there is half of the rectangle hanging off to the right, lastly I would draw another rust orange vertical rectangle sitting on top of the previous blue rectangle on the right side with the edges lines up flush.']\n"
     ]
    },
    {
     "data": {
      "image/png": "[encoded data removed]",
      "text/plain": [
       "<Figure size 144x216 with 1 Axes>"
      ]
     },
     "metadata": {},
     "output_type": "display_data"
    },
    {
     "name": "stdout",
     "output_type": "stream",
     "text": [
      "082\n",
      "['start with a red rectangle laying hotdog, and put two hamburger rectangles laying like a staircase, and the last rectangle laying hotdog on the right corner of the second rectangle.\\n']\n"
     ]
    },
    {
     "data": {
      "image/png": "[encoded data removed]",
      "text/plain": [
       "<Figure size 144x216 with 1 Axes>"
      ]
     },
     "metadata": {},
     "output_type": "display_data"
    },
    {
     "name": "stdout",
     "output_type": "stream",
     "text": [
      "083\n",
      "['to make this image i would place a vertical red block. then I would place a horizontal blue block on top so that that their left sides are aligned. then i would place a vertical red block on top of both so that all their left sides are aligned. then i would place a horizontal blue block on the remaining space  of the first blue block.']\n"
     ]
    },
    {
     "data": {
      "image/png": "[encoded data removed]",
      "text/plain": [
       "<Figure size 144x216 with 1 Axes>"
      ]
     },
     "metadata": {},
     "output_type": "display_data"
    },
    {
     "name": "stdout",
     "output_type": "stream",
     "text": [
      "086\n",
      "['put two red rectangles together, and make a stair going up the the right underneath them. ']\n"
     ]
    },
    {
     "data": {
      "image/png": "[encoded data removed]",
      "text/plain": [
       "<Figure size 144x216 with 1 Axes>"
      ]
     },
     "metadata": {},
     "output_type": "display_data"
    },
    {
     "name": "stdout",
     "output_type": "stream",
     "text": [
      "089\n",
      "['to make this image i would place a vertical red block. then i would put a horizontal blue block on top by aligning their left sides. then I would place a horizontal blue block on top of the other so that its left half is on the block and right half is floating. Then I would place a vertical red block on top of the right side of the second blue block.']\n"
     ]
    },
    {
     "data": {
      "image/png": "[encoded data removed]",
      "text/plain": [
       "<Figure size 144x216 with 1 Axes>"
      ]
     },
     "metadata": {},
     "output_type": "display_data"
    },
    {
     "name": "stdout",
     "output_type": "stream",
     "text": [
      "090\n",
      "['to make this image i would place a horizontal blue block. then i would lay another blue block on top so that it is half way on the other, but its right half is not. then id place two vertically stacked red blocks on the left side of the second blue block.']\n"
     ]
    },
    {
     "data": {
      "image/png": "[encoded data removed]",
      "text/plain": [
       "<Figure size 144x216 with 1 Axes>"
      ]
     },
     "metadata": {},
     "output_type": "display_data"
    },
    {
     "name": "stdout",
     "output_type": "stream",
     "text": [
      "094\n",
      "['to make this image i would place a vertical red block. then i would place a horizontal blue block on top and have their right sides align. then i would place another blue block on top the first so that its right half is floating and left half is touching. then i would place a vertical red block on top so that its left side is aligned with the second blue blocks left.']\n"
     ]
    },
    {
     "data": {
      "image/png": "[encoded data removed]",
      "text/plain": [
       "<Figure size 144x216 with 1 Axes>"
      ]
     },
     "metadata": {},
     "output_type": "display_data"
    },
    {
     "name": "stdout",
     "output_type": "stream",
     "text": [
      "099\n",
      "['Place two red blocks lengthways...then I would intercept with two blue blocks horizontally...then I would shift the topmost blue block to the left until its rightmost end aligns with the end of the top red block...then I would shift the bottommost blue block to the right until its leftmost end aligns with the end of the bottom red block']\n"
     ]
    },
    {
     "data": {
      "image/png": "[encoded data removed]",
      "text/plain": [
       "<Figure size 144x216 with 1 Axes>"
      ]
     },
     "metadata": {},
     "output_type": "display_data"
    },
    {
     "name": "stdout",
     "output_type": "stream",
     "text": [
      "109\n",
      "['place two vertical red blocks together forming a line...then I would place two blue blocks horiztonally together...then I would join the blue blocks to the end of the red blocks']\n"
     ]
    },
    {
     "data": {
      "image/png": "[encoded data removed]",
      "text/plain": [
       "<Figure size 144x216 with 1 Axes>"
      ]
     },
     "metadata": {},
     "output_type": "display_data"
    },
    {
     "name": "stdout",
     "output_type": "stream",
     "text": [
      "110\n",
      "['connect two flat rectangles with the red rectangles. ']\n"
     ]
    },
    {
     "data": {
      "image/png": "[encoded data removed]",
      "text/plain": [
       "<Figure size 144x216 with 1 Axes>"
      ]
     },
     "metadata": {},
     "output_type": "display_data"
    },
    {
     "name": "stdout",
     "output_type": "stream",
     "text": [
      "112\n",
      "['to make this image i would put a vertical red block. then i would place a horizontal blue block on top so that their right sides are alined. then i would put another horizontal blue block on top of the first so that its right half is on the block and left half is floating. then i would put a vertical red block on the left side of the second blue block. ']\n"
     ]
    },
    {
     "data": {
      "image/png": "[encoded data removed]",
      "text/plain": [
       "<Figure size 144x216 with 1 Axes>"
      ]
     },
     "metadata": {},
     "output_type": "display_data"
    },
    {
     "name": "stdout",
     "output_type": "stream",
     "text": [
      "117\n",
      "['to make this image i would put a horizontal blue block. Then i would stack two vertical red blocks and place them on top of the blue by aligning all of their left sides. Then I would place a horizontal blue block on top of the red by aligning their right sides.']\n"
     ]
    },
    {
     "data": {
      "image/png": "[encoded data removed]",
      "text/plain": [
       "<Figure size 144x216 with 1 Axes>"
      ]
     },
     "metadata": {},
     "output_type": "display_data"
    },
    {
     "name": "stdout",
     "output_type": "stream",
     "text": [
      "121\n",
      "['to make this image i would place a vertical red block. then i would put a horizontal blue block by aligning their right sides. then i would put a vertical red block on top by aligning right sides. then i would place another horizontal blue block by aligning their right sides.']\n"
     ]
    },
    {
     "data": {
      "image/png": "[encoded data removed]",
      "text/plain": [
       "<Figure size 144x216 with 1 Axes>"
      ]
     },
     "metadata": {},
     "output_type": "display_data"
    },
    {
     "name": "stdout",
     "output_type": "stream",
     "text": [
      "122\n",
      "['to make this image i would place a vertical red block. Then I would place a horizontal blue block so that their left sides align. Then i would place a vertical red block on the blue one so that their right sides align. then i would place a horizontal blue block on the second red so that their right sides align. ']\n"
     ]
    },
    {
     "data": {
      "image/png": "[encoded data removed]",
      "text/plain": [
       "<Figure size 144x216 with 1 Axes>"
      ]
     },
     "metadata": {},
     "output_type": "display_data"
    },
    {
     "name": "stdout",
     "output_type": "stream",
     "text": [
      "125\n",
      "['To make this image i would put a blue rectangle horizontally on top of two red rectangles. I would then put a blue rectangle horizontally on the bottom.']\n"
     ]
    },
    {
     "data": {
      "image/png": "[encoded data removed]",
      "text/plain": [
       "<Figure size 144x216 with 1 Axes>"
      ]
     },
     "metadata": {},
     "output_type": "display_data"
    },
    {
     "name": "stdout",
     "output_type": "stream",
     "text": [
      "127\n",
      "['to make this image i would place a vertical red block. then i would place a horizontal blue block on top by having their left sides align. then i would place a vertical red block on top by having their left sides align. then i would place a horizontal blue block by having their left sides align.']\n"
     ]
    },
    {
     "data": {
      "image/png": "[encoded data removed]",
      "text/plain": [
       "<Figure size 144x216 with 1 Axes>"
      ]
     },
     "metadata": {},
     "output_type": "display_data"
    },
    {
     "name": "stdout",
     "output_type": "stream",
     "text": [
      "128\n",
      "['to make this image i would vertically stack two red blocks. then I would place two horizontal blue blocks on top by alining their right sides.']\n"
     ]
    }
   ],
   "source": [
    "for towerId, group_df in towers_with_labels:\n",
    "    utils.draw_tower(utils.worldify(list(towers[towers.tower_number_str == towerId]['stim'])[0],\n",
    "                                    block_dims = block_dims, \n",
    "                                    block_colors = block_colors))\n",
    "    print(towerId)\n",
    "    print(list(group_df['label']))"
   ]
  },
  {
   "cell_type": "code",
   "execution_count": 649,
   "metadata": {},
   "outputs": [
    {
     "data": {
      "text/plain": [
       "<function blockworld_helpers.draw_world(world)>"
      ]
     },
     "execution_count": 649,
     "metadata": {},
     "output_type": "execute_result"
    }
   ],
   "source": [
    "utils.draw_world"
   ]
  },
  {
   "cell_type": "code",
   "execution_count": 650,
   "metadata": {
    "scrolled": false
   },
   "outputs": [
    {
     "name": "stdout",
     "output_type": "stream",
     "text": [
      "2.0\n",
      "['to make this image i would create a blue rectangle to the right laying hamburger way, then i would out another blue hamburger rectangle and lay it on top and moved towards the right, then i would put a red rectangle laying hot dog wise on the first blue retangle, and another to the right of them.\\n', 'draw a blue horizontal rectangle on the bottom, then draw a rust orange rectangle (the same size) vertically touching the left side of the blue rectangle, then I would draw another blue horizontal rectangle (the same size) on top of the rust orange rectangle but center it so the edges line up and there is half of the rectangle hanging off to the right, lastly I would draw another rust orange vertical rectangle sitting on top of the previous blue rectangle on the right side with the edges lines up flush.', 'Place two red blocks lengthways...then I would intercept with two blue blocks horizontally...then I would shift the topmost blue block to the left until its rightmost end aligns with the end of the top red block...then I would shift the bottommost blue block to the right until its leftmost end aligns with the end of the bottom red block', 'To make this image i would put a blue rectangle horizontally on top of two red rectangles. I would then put a blue rectangle horizontally on the bottom.', \"to make this image i would stack two red blocks vertically. then i would place a blue block horizontally the distance of one block's length away  . Then i'd stack another blue block horizontally on the first and align this block to touch the red ones. \"]\n",
      "\n",
      "\n",
      "3.0\n",
      "['start with a red rectangle laying hotdog, and put two hamburger rectangles laying like a staircase, and the last rectangle laying hotdog on the right corner of the second rectangle.\\n', 'First I would draw two blue horizontal rectangles of the same size one on the bottom one on top, perfectly aligned so it looks like a square in the middle of the page. Then I would draw one rust orange vertical rectangle on the left side of the blue rectangles, making it the same height as the square is so the rust orange rectangle is the exact same size of the blue rectangle but just turned vertically. Then I would do the exact same thing with another rust orange rectangle on the right side.', 'place one blue block horizontally...then I would place both red blocks lengthways aligned to the blue block...then I would place a blue block horizontally so that it aligns with the red blocks', 'to make this block i would place a blue block horizontally. then I would place to red blocks vertically touching together on top. then I would place a blue block horizontally aligned with the red block on the right.']\n",
      "\n",
      "\n",
      "4.0\n",
      "[\"draw a blue horizontal rectangle on the bottom. Then I would draw another blue horizontal rectangle of the exact same size sitting on top of the first blue rectangle centered to the left so there is half of the second rectangle sitting on the first one and half of it hanging off the side. Then I would draw a rust orange vertical rectangle the same size as the other rectangles and have it sitting on the first blue rectangle, the bottom would be touching the first blue rectangle and the left side would be touching the second blue rectangle on the left edge. Lastly I would draw another rust orange vertical rectangle the same size as the others, and place it sitting on top of the second blue rectangle centered to the right so it's edge is touching the first rust orange rectangle.\", \"place a horizontal blue block...then I would place a red block vertically aligning with the end of the first blue block...then I would place another blue block horizontally aligning with the topmost end of the red block...then I would vertically place a red block so that it aligns with the empty end of the blue block to make an almost 'n' shape\", 'connect two blue rectangles laying in a staircase form, and then I would lay one on top of the stair shape and another to the left of them.', 'to make this image i would place to vertical red blocks touching together. Then i would place to horizontal blocks on top of the red block on the right.']\n",
      "\n",
      "\n",
      "5.0\n",
      "[\"place the two blue blocks together to make a 'z' shape...then I would place a vertical red block at the back of the 'z' shape...then I would place a vertical red block underneath the blue block on the opposite side of the other red block\", 'put two red rectangles together, and make a stair going up the the right underneath them. ', 'to make this image i would vertically stack two red blocks. then I would place two horizontal blue blocks on top by alining their right sides.']\n",
      "\n",
      "\n",
      "6.0\n",
      "['place two vertical red blocks together forming a line...then I would place two blue blocks horiztonally together...then I would join the blue blocks to the end of the red blocks', 'connect two flat rectangles with the red rectangles. ', 'to make this image i would place two blue blocks side by side horizontally. then I would put one vertical red block on each by aligning their left sides.']\n",
      "\n",
      "\n",
      "7.0\n",
      "['place a horizontal blue block...then I would place a vertical red block at its end...then I would place another vertical red block on the end of and on top of the blue block...then I would place a horizontal blue block on top of the secondmost placed red block', 'create a fish braid pattern with two red on the right and two blue on the lefft.', 'to make this image i would horizontally stack two blue blocks. Then I would place a vertical red block on their left side. Then I would place a vertical red block on top to the two blue blocks by aligning their right sides.']\n",
      "\n",
      "\n",
      "8.0\n",
      "['place two red blocks vertically to form a line...then I would place a horizontal blue block aligning with the lowest end of the line of red blocks...then I would shift the topmost red block upwards to form a gap...then I would place a horizontal blue block in this gap aligning with the edge of the red blocks', 'to make this image i would place a horizontal blue block. then i would lay another blue block on top so that it is half way on the other, but its right half is not. then id place two vertically stacked red blocks on the left side of the second blue block.']\n",
      "\n",
      "\n",
      "9.0\n",
      "['to make this image i would place a vertical red block. then i would put a horizontal blue block on top by aligning their left sides. then I would place a horizontal blue block on top of the other so that its left half is on the block and right half is floating. Then I would place a vertical red block on top of the right side of the second blue block.']\n",
      "\n",
      "\n",
      "10.0\n",
      "['to make this image i would place a vertical red block. then I would place a horizontal blue block on top so that that their left sides are aligned. then i would place a vertical red block on top of both so that all their left sides are aligned. then i would place a horizontal blue block on the remaining space  of the first blue block.']\n",
      "\n",
      "\n",
      "11.0\n",
      "[\"to make this image i would lay two horizontal blue blocks side by side. then i would stack two vertical red blocks and place them on the blue block on the right so that these three blocks' left sides are aligning.\"]\n",
      "\n",
      "\n",
      "12.0\n",
      "['to make this image i would put a vertical red block. then i would place a horizontal blue block on top so that their right sides are alined. then i would put another horizontal blue block on top of the first so that its right half is on the block and left half is floating. then i would put a vertical red block on the left side of the second blue block. ']\n",
      "\n",
      "\n",
      "13.0\n",
      "['to make this image i would horizontally place a blue block. then i would vertically place a red block to the left of it. then i would place a vertical red block on top of the blue block so that it is touching the other red block. then i would place a horizontal blue block on the second red block. then i would align the right sides of those two final blocks.']\n",
      "\n",
      "\n",
      "14.0\n",
      "['to make this image i would place a vertical red block. Then I would place a horizontal blue block so that their left sides align. Then i would place a vertical red block on the blue one so that their right sides align. then i would place a horizontal blue block on the second red so that their right sides align. ']\n",
      "\n",
      "\n",
      "15.0\n",
      "['to make this image i would put a horizontal blue block. Then i would stack two vertical red blocks and place them on top of the blue by aligning all of their left sides. Then I would place a horizontal blue block on top of the red by aligning their right sides.']\n",
      "\n",
      "\n",
      "16.0\n",
      "['to make this image i would place two vertical red blocks with the distance of another red block between them. then id place a horizontal blue block on each by aligning the right sides of each blue and their corresponding red block.']\n",
      "\n",
      "\n",
      "17.0\n",
      "['to make this image i would place a vertical red block. then i would put a horizontal blue block by aligning their right sides. then i would put a vertical red block on top by aligning right sides. then i would place another horizontal blue block by aligning their right sides.']\n",
      "\n",
      "\n",
      "18.0\n",
      "['to make this image i would place a horizontal blue block. then i would place a horizontal blue block on top by having its left half float and right half be on the block. then i would place a vertical red block on the second blue block by aligning their right sides. then i would place a vertical red block on the right side of the blocks so that it is touching the left side of the second blue block.']\n",
      "\n",
      "\n",
      "19.0\n",
      "['to make this image i would stack two vertical red blocks. then i would place a horizontal blue block to the left of them. then i would stack a second blue block on the first so that its left half is floating and right half is touching.']\n",
      "\n",
      "\n",
      "20.0\n",
      "['to make this image i would place two vertical red blocks side by side. then i would place a horizontal blue block on the left red block. then i would place a second horizontal blue block on the first so that its right half is floating and left half is touching.']\n",
      "\n",
      "\n",
      "21.0\n",
      "['to make this image i would place a horizontal blue block. then i would place another horizontal blue block on top so that its right half is floating and left half is touching. then i would place two vertical red blocks side by side on top of the second blue block.']\n",
      "\n",
      "\n",
      "22.0\n",
      "['to make this image i would place a horizontal blue block. then i would place a vertical red block on top so that their right sides are aligned. Then i would place a vertical red block to the left of the blue block. then i would place a horizontal blue block on top the second red block so that their right sides are aligned.']\n",
      "\n",
      "\n",
      "23.0\n",
      "['to make this image i would place a vertical red block. then i would place a horizontal blue block on top by having their left sides align. then i would place a vertical red block on top by having their left sides align. then i would place a horizontal blue block by having their left sides align.']\n",
      "\n",
      "\n",
      "24.0\n",
      "['to make this image i would place a vertical red block. then i would place a horizontal blue block on top and have their right sides align. then i would place another blue block on top the first so that its right half is floating and left half is touching. then i would place a vertical red block on top so that its left side is aligned with the second blue blocks left.']\n",
      "\n",
      "\n",
      "25.0\n",
      "['to make this image i would place a horizontal blue block. then i would place a vertical red block to the left of it. then i would place a second horizontal blue block on top the first by having its right side float and left side touch. then i would place a vertical red block on top the second blue block by having their right sides align.']\n",
      "\n",
      "\n"
     ]
    }
   ],
   "source": [
    "labels_by_trial_num = df_trial[['stimId','label','gameID','trial_index']].groupby('trial_index')\n",
    "\n",
    "for trial_num, group_df in labels_by_trial_num:\n",
    "    print(trial_num)\n",
    "    print(list(group_df['label']))\n",
    "    print('\\n')\n",
    "    \n",
    "    "
   ]
  },
  {
   "cell_type": "code",
   "execution_count": 651,
   "metadata": {},
   "outputs": [
    {
     "data": {
      "text/plain": [
       "[<matplotlib.lines.Line2D at 0x7f941a856e10>]"
      ]
     },
     "execution_count": 651,
     "metadata": {},
     "output_type": "execute_result"
    },
    {
     "data": {
      "image/png": "[encoded data removed]",
      "text/plain": [
       "<Figure size 432x288 with 1 Axes>"
      ]
     },
     "metadata": {},
     "output_type": "display_data"
    }
   ],
   "source": [
    "lengths = df_trial[['stimId','label','gameID','trial_index']].groupby('trial_index')['label']\\\n",
    "                    .apply(lambda labels: np.mean([len(label) for label in labels]))\n",
    "plt.plot(lengths)"
   ]
  },
  {
   "cell_type": "code",
   "execution_count": null,
   "metadata": {},
   "outputs": [],
   "source": []
  },
  {
   "cell_type": "code",
   "execution_count": null,
   "metadata": {},
   "outputs": [],
   "source": []
  }
 ],
 "metadata": {
  "kernelspec": {
   "display_name": "Python 3",
   "language": "python",
   "name": "python3"
  },
  "language_info": {
   "codemirror_mode": {
    "name": "ipython",
    "version": 3
   },
   "file_extension": ".py",
   "mimetype": "text/x-python",
   "name": "python",
   "nbconvert_exporter": "python",
   "pygments_lexer": "ipython3",
   "version": "3.7.4"
  }
 },
 "nbformat": 4,
 "nbformat_minor": 2
}
