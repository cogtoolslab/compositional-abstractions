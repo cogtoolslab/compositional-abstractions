{
 "cells": [
  {
   "cell_type": "markdown",
   "metadata": {},
   "source": [
    "### WARNGING: OLD VERSION- Now moved to cogtoolslab/lax repo"
   ]
  },
  {
   "cell_type": "code",
   "execution_count": 744,
   "metadata": {},
   "outputs": [],
   "source": [
    "import os\n",
    "import sys\n",
    "import urllib, io\n",
    "os.getcwd()\n",
    "sys.path.append(\"..\")\n",
    "# sys.path.append(\"../utils\")\n",
    "sys.path.append(\"../../stimuli\")\n",
    "sys.path.append(\"../../stimuli/block_utils/\")\n",
    "\n",
    "\n",
    "import numpy as np\n",
    "import scipy.stats as stats\n",
    "import pandas as pd\n",
    "\n",
    "import pymongo as pm\n",
    "from collections import Counter\n",
    "from functools import reduce\n",
    "import json\n",
    "import re\n",
    "import ast\n",
    "\n",
    "from PIL import Image, ImageOps, ImageDraw, ImageFont \n",
    "\n",
    "from io import BytesIO\n",
    "import base64\n",
    "\n",
    "import  matplotlib\n",
    "from matplotlib import pylab, mlab, pyplot\n",
    "%matplotlib inline\n",
    "from IPython.core.pylabtools import figsize, getfigs\n",
    "plt = pyplot\n",
    "import matplotlib as mpl\n",
    "mpl.rcParams['pdf.fonttype'] = 42\n",
    "\n",
    "import seaborn as sns\n",
    "sns.set_context('talk')\n",
    "sns.set_style('darkgrid')\n",
    "\n",
    "from IPython.display import clear_output\n",
    "\n",
    "import warnings\n",
    "warnings.filterwarnings(\"ignore\", category=DeprecationWarning)\n",
    "warnings.filterwarnings(\"ignore\", message=\"numpy.dtype size changed\")\n",
    "warnings.filterwarnings(\"ignore\", message=\"numpy.ufunc size changed\")\n",
    "\n",
    "import drawing_utils as drawing\n",
    "import importlib\n",
    "import scoring\n",
    "\n",
    "import blockworld_utils as utils"
   ]
  },
  {
   "cell_type": "code",
   "execution_count": 703,
   "metadata": {},
   "outputs": [],
   "source": [
    "## directory & file hierarchy\n",
    "proj_dir = os.path.abspath('..')\n",
    "datavol_dir = os.path.join(proj_dir,'data')\n",
    "analysis_dir =  os.path.abspath('.')\n",
    "results_dir = os.path.join(proj_dir,'results')\n",
    "plot_dir = os.path.join(results_dir,'plots')\n",
    "csv_dir = os.path.join(results_dir,'csv')\n",
    "json_dir = os.path.join(results_dir,'json')\n",
    "exp_dir = os.path.abspath(os.path.join(proj_dir,'behavioral_experiments'))\n",
    "png_dir = os.path.abspath(os.path.join(datavol_dir,'png'))\n",
    "\n",
    "## add helpers to python path\n",
    "if os.path.join(proj_dir,'stimuli') not in sys.path:\n",
    "    sys.path.append(os.path.join(proj_dir,'stimuli'))\n",
    "    \n",
    "if not os.path.exists(results_dir):\n",
    "    os.makedirs(results_dir)\n",
    "    \n",
    "if not os.path.exists(plot_dir):\n",
    "    os.makedirs(plot_dir)   \n",
    "    \n",
    "if not os.path.exists(csv_dir):\n",
    "    os.makedirs(csv_dir)       "
   ]
  },
  {
   "cell_type": "code",
   "execution_count": 731,
   "metadata": {},
   "outputs": [],
   "source": [
    "# experiment_name = 'prior_elicitation_lax_tower_4_block_unique_silhouettes_procedural'\n",
    "experiment_name = 'prior_elicitation_lax_tower_4_block_unique_silhouettes_categorization'\n",
    "\n",
    "iteration_name = 'pilot_1'"
   ]
  },
  {
   "cell_type": "code",
   "execution_count": 732,
   "metadata": {},
   "outputs": [],
   "source": [
    "# set vars \n",
    "auth = pd.read_csv(os.path.join(analysis_dir,'../auth.txt'), header = None) # this auth.txt file contains the password for the sketchloop user\n",
    "pswd = auth.values[0][0]\n",
    "user = 'sketchloop'\n",
    "host = 'cogtoolslab.org'\n",
    "\n",
    "# have to fix this to be able to analyze from local\n",
    "import pymongo as pm\n",
    "conn = pm.MongoClient('mongodb://sketchloop:' + pswd + '@127.0.0.1')\n",
    "\n",
    "db = conn['lax']\n",
    "coll = db[experiment_name]\n",
    "\n",
    "# ## look up number of trials (including paired-practice)\n",
    "expected_trials = 26"
   ]
  },
  {
   "cell_type": "code",
   "execution_count": 733,
   "metadata": {},
   "outputs": [],
   "source": [
    "# really_run = False;\n",
    "\n",
    "# if really_run:\n",
    "#     db.drop_collection(experiment_name)"
   ]
  },
  {
   "cell_type": "code",
   "execution_count": 734,
   "metadata": {
    "scrolled": false
   },
   "outputs": [],
   "source": [
    "df_all = pd.DataFrame(coll.find({'iterationName': iteration_name}))\n",
    "# all_data[['gameID','trial_index','label']]"
   ]
  },
  {
   "cell_type": "code",
   "execution_count": 735,
   "metadata": {},
   "outputs": [],
   "source": [
    "# # Find people who have completed all trials\n",
    "# query = coll.find({\"$and\":[\n",
    "#                         {'trialType':'normal-trial'},\n",
    "#                         {'eventType':'trialEnd'},\n",
    "#                         {'iterationName': { '$in': [iteration_name] }},\n",
    "#                         {'trialNum': numTrials-1}]\n",
    "#                      })\n",
    "\n",
    "# complete_data_df = pd.DataFrame(query.sort('absoluteTime'))\n",
    "# complete_data_ids = list(complete_data_df['gameID'])\n",
    "# print(str(len(complete_data_ids)) + ' participants found')\n",
    "\n",
    "\n",
    "# pd.DataFrame(coll.find({'iterationName': iteration_name}))"
   ]
  },
  {
   "cell_type": "markdown",
   "metadata": {},
   "source": [
    "## Filter out metadata\n",
    "\n",
    "Info about stimulus set downloaded from mongo.\n",
    "Contains info about tower type."
   ]
  },
  {
   "cell_type": "code",
   "execution_count": 736,
   "metadata": {},
   "outputs": [],
   "source": [
    "df_meta = df_all[(df_all.datatype == 'stim_metadata') &\n",
    "            (df_all.iterationName == iteration_name)]\\\n",
    "        [[\"gameID\",\"partitionFamily\",\"splitNumber\",\"stimNumbers\", \"stimGroups\",\n",
    "          \"numGames\",\"experimentType\",\"experimentName\", \"s3_bucket\", \"versionInd\"]]"
   ]
  },
  {
   "cell_type": "code",
   "execution_count": 737,
   "metadata": {},
   "outputs": [
    {
     "data": {
      "text/html": [
       "<div>\n",
       "<style scoped>\n",
       "    .dataframe tbody tr th:only-of-type {\n",
       "        vertical-align: middle;\n",
       "    }\n",
       "\n",
       "    .dataframe tbody tr th {\n",
       "        vertical-align: top;\n",
       "    }\n",
       "\n",
       "    .dataframe thead th {\n",
       "        text-align: right;\n",
       "    }\n",
       "</style>\n",
       "<table border=\"1\" class=\"dataframe\">\n",
       "  <thead>\n",
       "    <tr style=\"text-align: right;\">\n",
       "      <th></th>\n",
       "      <th>gameID</th>\n",
       "      <th>partitionFamily</th>\n",
       "      <th>splitNumber</th>\n",
       "      <th>stimNumbers</th>\n",
       "      <th>stimGroups</th>\n",
       "      <th>numGames</th>\n",
       "      <th>experimentType</th>\n",
       "      <th>experimentName</th>\n",
       "      <th>s3_bucket</th>\n",
       "      <th>versionInd</th>\n",
       "    </tr>\n",
       "  </thead>\n",
       "  <tbody>\n",
       "    <tr>\n",
       "      <th>0</th>\n",
       "      <td>2546-d9762c31-f5f0-42a2-ae55-5cd1c8c8cd99</td>\n",
       "      <td>0.0</td>\n",
       "      <td>0.0</td>\n",
       "      <td>[000, 011, 025, 029, 034, 041, 049, 060, 065, ...</td>\n",
       "      <td>{'100': 'tall', '113': 'neither', '000': 'neit...</td>\n",
       "      <td>0.0</td>\n",
       "      <td>prior_elicitation</td>\n",
       "      <td>ca_prior_elicitation_4_block_unique_silhouette...</td>\n",
       "      <td>lax-tower-4-block-unique-silhouettes-json</td>\n",
       "      <td>0.0</td>\n",
       "    </tr>\n",
       "    <tr>\n",
       "      <th>1</th>\n",
       "      <td>6673-9ae0e16d-f5f5-4f1b-a958-03bbb4d201c9</td>\n",
       "      <td>0.0</td>\n",
       "      <td>1.0</td>\n",
       "      <td>[007, 009, 019, 023, 053, 061, 062, 072, 076, ...</td>\n",
       "      <td>{'106': 'neither', '115': 'tall', '007': 'neit...</td>\n",
       "      <td>0.0</td>\n",
       "      <td>prior_elicitation</td>\n",
       "      <td>ca_prior_elicitation_4_block_unique_silhouette...</td>\n",
       "      <td>lax-tower-4-block-unique-silhouettes-json</td>\n",
       "      <td>0.0</td>\n",
       "    </tr>\n",
       "    <tr>\n",
       "      <th>32</th>\n",
       "      <td>5571-1dc04e90-c59c-4740-949b-b95bedcca1e3</td>\n",
       "      <td>0.0</td>\n",
       "      <td>2.0</td>\n",
       "      <td>[024, 035, 038, 040, 052, 070, 074, 087, 093, ...</td>\n",
       "      <td>{'110': 'neither', '126': 'tall', '129': 'tall...</td>\n",
       "      <td>0.0</td>\n",
       "      <td>prior_elicitation</td>\n",
       "      <td>ca_prior_elicitation_4_block_unique_silhouette...</td>\n",
       "      <td>lax-tower-4-block-unique-silhouettes-json</td>\n",
       "      <td>0.0</td>\n",
       "    </tr>\n",
       "    <tr>\n",
       "      <th>33</th>\n",
       "      <td>1339-85b9aee1-fa55-4087-8e52-fad4b7a4cb0f</td>\n",
       "      <td>0.0</td>\n",
       "      <td>3.0</td>\n",
       "      <td>[003, 012, 026, 064, 069, 073, 077, 082, 098, ...</td>\n",
       "      <td>{'101': 'tall', '103': 'neither', '108': 'neit...</td>\n",
       "      <td>0.0</td>\n",
       "      <td>prior_elicitation</td>\n",
       "      <td>ca_prior_elicitation_4_block_unique_silhouette...</td>\n",
       "      <td>lax-tower-4-block-unique-silhouettes-json</td>\n",
       "      <td>0.0</td>\n",
       "    </tr>\n",
       "    <tr>\n",
       "      <th>35</th>\n",
       "      <td>3672-92b7414c-1a5c-4879-bc1a-8865c53a05a5</td>\n",
       "      <td>0.0</td>\n",
       "      <td>4.0</td>\n",
       "      <td>[002, 013, 037, 039, 042, 043, 059, 063, 092, ...</td>\n",
       "      <td>{'102': 'tall', '123': 'neither', '124': 'neit...</td>\n",
       "      <td>0.0</td>\n",
       "      <td>prior_elicitation</td>\n",
       "      <td>ca_prior_elicitation_4_block_unique_silhouette...</td>\n",
       "      <td>lax-tower-4-block-unique-silhouettes-json</td>\n",
       "      <td>0.0</td>\n",
       "    </tr>\n",
       "  </tbody>\n",
       "</table>\n",
       "</div>"
      ],
      "text/plain": [
       "                                       gameID  partitionFamily  splitNumber  \\\n",
       "0   2546-d9762c31-f5f0-42a2-ae55-5cd1c8c8cd99              0.0          0.0   \n",
       "1   6673-9ae0e16d-f5f5-4f1b-a958-03bbb4d201c9              0.0          1.0   \n",
       "32  5571-1dc04e90-c59c-4740-949b-b95bedcca1e3              0.0          2.0   \n",
       "33  1339-85b9aee1-fa55-4087-8e52-fad4b7a4cb0f              0.0          3.0   \n",
       "35  3672-92b7414c-1a5c-4879-bc1a-8865c53a05a5              0.0          4.0   \n",
       "\n",
       "                                          stimNumbers  \\\n",
       "0   [000, 011, 025, 029, 034, 041, 049, 060, 065, ...   \n",
       "1   [007, 009, 019, 023, 053, 061, 062, 072, 076, ...   \n",
       "32  [024, 035, 038, 040, 052, 070, 074, 087, 093, ...   \n",
       "33  [003, 012, 026, 064, 069, 073, 077, 082, 098, ...   \n",
       "35  [002, 013, 037, 039, 042, 043, 059, 063, 092, ...   \n",
       "\n",
       "                                           stimGroups  numGames  \\\n",
       "0   {'100': 'tall', '113': 'neither', '000': 'neit...       0.0   \n",
       "1   {'106': 'neither', '115': 'tall', '007': 'neit...       0.0   \n",
       "32  {'110': 'neither', '126': 'tall', '129': 'tall...       0.0   \n",
       "33  {'101': 'tall', '103': 'neither', '108': 'neit...       0.0   \n",
       "35  {'102': 'tall', '123': 'neither', '124': 'neit...       0.0   \n",
       "\n",
       "       experimentType                                     experimentName  \\\n",
       "0   prior_elicitation  ca_prior_elicitation_4_block_unique_silhouette...   \n",
       "1   prior_elicitation  ca_prior_elicitation_4_block_unique_silhouette...   \n",
       "32  prior_elicitation  ca_prior_elicitation_4_block_unique_silhouette...   \n",
       "33  prior_elicitation  ca_prior_elicitation_4_block_unique_silhouette...   \n",
       "35  prior_elicitation  ca_prior_elicitation_4_block_unique_silhouette...   \n",
       "\n",
       "                                    s3_bucket  versionInd  \n",
       "0   lax-tower-4-block-unique-silhouettes-json         0.0  \n",
       "1   lax-tower-4-block-unique-silhouettes-json         0.0  \n",
       "32  lax-tower-4-block-unique-silhouettes-json         0.0  \n",
       "33  lax-tower-4-block-unique-silhouettes-json         0.0  \n",
       "35  lax-tower-4-block-unique-silhouettes-json         0.0  "
      ]
     },
     "execution_count": 737,
     "metadata": {},
     "output_type": "execute_result"
    }
   ],
   "source": [
    "df_meta"
   ]
  },
  {
   "cell_type": "markdown",
   "metadata": {},
   "source": [
    "## Grab trial data"
   ]
  },
  {
   "cell_type": "code",
   "execution_count": 738,
   "metadata": {},
   "outputs": [],
   "source": [
    "df_trial = df_all[(df_all.datatype == 'trial_end') &\n",
    "             (df_all.trial_type == 'stimuli-language-production') &\n",
    "             (df_all.iterationName == iteration_name)]\\\n",
    "            [['datatype', 'iterationName', 'condition',\n",
    "       'config_name', 'workerID', 'gameID', 'shuffle', 'trialOrder', 'rt',\n",
    "       'url', 'trial_type', 'trial_index', 'time_elapsed', 'internal_node_id',\n",
    "       'view_history', 'label', 'stimId', 'stimURL', 'responses']]"
   ]
  },
  {
   "cell_type": "markdown",
   "metadata": {},
   "source": [
    "### Add metadata to trial data"
   ]
  },
  {
   "cell_type": "code",
   "execution_count": 739,
   "metadata": {},
   "outputs": [],
   "source": [
    "# verify stim groups in metadata are correct\n",
    "dicts = list(df_all[df_all.datatype=='stim_metadata']['stimGroups'])\n",
    "\n",
    "stim_groups = reduce(lambda dict1, dict2: {**dict1, **dict2}, dicts)\n",
    "pd.Series(list(stim_groups.values())).value_counts()\n",
    "\n",
    "# assign stim groups from metadata (althoug)\n",
    "df_trial['stim_group'] = df_trial['stimId'].apply(lambda stim: stim_groups[stim])\n",
    "df_trial = df_trial.merge(df_meta, how='left', on='gameID')"
   ]
  },
  {
   "cell_type": "markdown",
   "metadata": {},
   "source": [
    "## Todo: get complete data sets"
   ]
  },
  {
   "cell_type": "code",
   "execution_count": 740,
   "metadata": {},
   "outputs": [
    {
     "data": {
      "text/plain": [
       "gameID\n",
       "1339-85b9aee1-fa55-4087-8e52-fad4b7a4cb0f    14.0\n",
       "2546-d9762c31-f5f0-42a2-ae55-5cd1c8c8cd99    14.0\n",
       "3672-92b7414c-1a5c-4879-bc1a-8865c53a05a5    14.0\n",
       "5571-1dc04e90-c59c-4740-949b-b95bedcca1e3    14.0\n",
       "6673-9ae0e16d-f5f5-4f1b-a958-03bbb4d201c9    14.0\n",
       "Name: trial_index, dtype: float64"
      ]
     },
     "execution_count": 740,
     "metadata": {},
     "output_type": "execute_result"
    }
   ],
   "source": [
    "df_trial.groupby('gameID')['trial_index'].last()"
   ]
  },
  {
   "cell_type": "markdown",
   "metadata": {},
   "source": [
    "## Which batches need re-running? (move to stim_partitioning.ipynb)\n",
    "\n",
    "TODO: Find incomplete datasets that need to be given to another participant and upload to mongo\n",
    "\n",
    "- get each gameID + their partitionFamily splitNumber stimNumbers, \n",
    "- get number of trials\n",
    "- work out which batches need to be re-run"
   ]
  },
  {
   "cell_type": "code",
   "execution_count": null,
   "metadata": {},
   "outputs": [],
   "source": []
  },
  {
   "cell_type": "code",
   "execution_count": null,
   "metadata": {},
   "outputs": [],
   "source": []
  },
  {
   "cell_type": "code",
   "execution_count": 741,
   "metadata": {},
   "outputs": [
    {
     "data": {
      "text/html": [
       "<div>\n",
       "<style scoped>\n",
       "    .dataframe tbody tr th:only-of-type {\n",
       "        vertical-align: middle;\n",
       "    }\n",
       "\n",
       "    .dataframe tbody tr th {\n",
       "        vertical-align: top;\n",
       "    }\n",
       "\n",
       "    .dataframe thead th {\n",
       "        text-align: right;\n",
       "    }\n",
       "</style>\n",
       "<table border=\"1\" class=\"dataframe\">\n",
       "  <thead>\n",
       "    <tr style=\"text-align: right;\">\n",
       "      <th></th>\n",
       "      <th>datatype</th>\n",
       "      <th>iterationName</th>\n",
       "      <th>condition</th>\n",
       "      <th>config_name</th>\n",
       "      <th>workerID</th>\n",
       "      <th>gameID</th>\n",
       "      <th>shuffle</th>\n",
       "      <th>trialOrder</th>\n",
       "      <th>rt</th>\n",
       "      <th>url</th>\n",
       "      <th>...</th>\n",
       "      <th>stim_group</th>\n",
       "      <th>partitionFamily</th>\n",
       "      <th>splitNumber</th>\n",
       "      <th>stimNumbers</th>\n",
       "      <th>stimGroups</th>\n",
       "      <th>numGames</th>\n",
       "      <th>experimentType</th>\n",
       "      <th>experimentName</th>\n",
       "      <th>s3_bucket</th>\n",
       "      <th>versionInd</th>\n",
       "    </tr>\n",
       "  </thead>\n",
       "  <tbody>\n",
       "    <tr>\n",
       "      <th>0</th>\n",
       "      <td>trial_end</td>\n",
       "      <td>pilot_1</td>\n",
       "      <td>all</td>\n",
       "      <td>lax-tower-4-block-unique-silhouettes-categoriz...</td>\n",
       "      <td>61083aaf80d3f6135717fa38</td>\n",
       "      <td>6673-9ae0e16d-f5f5-4f1b-a958-03bbb4d201c9</td>\n",
       "      <td>NaN</td>\n",
       "      <td>NaN</td>\n",
       "      <td>40648.0</td>\n",
       "      <td>NaN</td>\n",
       "      <td>...</td>\n",
       "      <td>tall</td>\n",
       "      <td>0.0</td>\n",
       "      <td>1.0</td>\n",
       "      <td>[007, 009, 019, 023, 053, 061, 062, 072, 076, ...</td>\n",
       "      <td>{'106': 'neither', '115': 'tall', '007': 'neit...</td>\n",
       "      <td>0.0</td>\n",
       "      <td>prior_elicitation</td>\n",
       "      <td>ca_prior_elicitation_4_block_unique_silhouette...</td>\n",
       "      <td>lax-tower-4-block-unique-silhouettes-json</td>\n",
       "      <td>0.0</td>\n",
       "    </tr>\n",
       "    <tr>\n",
       "      <th>1</th>\n",
       "      <td>trial_end</td>\n",
       "      <td>pilot_1</td>\n",
       "      <td>all</td>\n",
       "      <td>lax-tower-4-block-unique-silhouettes-categoriz...</td>\n",
       "      <td>61083aaf80d3f6135717fa38</td>\n",
       "      <td>6673-9ae0e16d-f5f5-4f1b-a958-03bbb4d201c9</td>\n",
       "      <td>NaN</td>\n",
       "      <td>NaN</td>\n",
       "      <td>73182.3</td>\n",
       "      <td>NaN</td>\n",
       "      <td>...</td>\n",
       "      <td>neither</td>\n",
       "      <td>0.0</td>\n",
       "      <td>1.0</td>\n",
       "      <td>[007, 009, 019, 023, 053, 061, 062, 072, 076, ...</td>\n",
       "      <td>{'106': 'neither', '115': 'tall', '007': 'neit...</td>\n",
       "      <td>0.0</td>\n",
       "      <td>prior_elicitation</td>\n",
       "      <td>ca_prior_elicitation_4_block_unique_silhouette...</td>\n",
       "      <td>lax-tower-4-block-unique-silhouettes-json</td>\n",
       "      <td>0.0</td>\n",
       "    </tr>\n",
       "    <tr>\n",
       "      <th>2</th>\n",
       "      <td>trial_end</td>\n",
       "      <td>pilot_1</td>\n",
       "      <td>all</td>\n",
       "      <td>lax-tower-4-block-unique-silhouettes-categoriz...</td>\n",
       "      <td>61083aaf80d3f6135717fa38</td>\n",
       "      <td>6673-9ae0e16d-f5f5-4f1b-a958-03bbb4d201c9</td>\n",
       "      <td>NaN</td>\n",
       "      <td>NaN</td>\n",
       "      <td>15059.1</td>\n",
       "      <td>NaN</td>\n",
       "      <td>...</td>\n",
       "      <td>neither</td>\n",
       "      <td>0.0</td>\n",
       "      <td>1.0</td>\n",
       "      <td>[007, 009, 019, 023, 053, 061, 062, 072, 076, ...</td>\n",
       "      <td>{'106': 'neither', '115': 'tall', '007': 'neit...</td>\n",
       "      <td>0.0</td>\n",
       "      <td>prior_elicitation</td>\n",
       "      <td>ca_prior_elicitation_4_block_unique_silhouette...</td>\n",
       "      <td>lax-tower-4-block-unique-silhouettes-json</td>\n",
       "      <td>0.0</td>\n",
       "    </tr>\n",
       "    <tr>\n",
       "      <th>3</th>\n",
       "      <td>trial_end</td>\n",
       "      <td>pilot_1</td>\n",
       "      <td>all</td>\n",
       "      <td>lax-tower-4-block-unique-silhouettes-categoriz...</td>\n",
       "      <td>61083aaf80d3f6135717fa38</td>\n",
       "      <td>6673-9ae0e16d-f5f5-4f1b-a958-03bbb4d201c9</td>\n",
       "      <td>NaN</td>\n",
       "      <td>NaN</td>\n",
       "      <td>8634.5</td>\n",
       "      <td>NaN</td>\n",
       "      <td>...</td>\n",
       "      <td>wide</td>\n",
       "      <td>0.0</td>\n",
       "      <td>1.0</td>\n",
       "      <td>[007, 009, 019, 023, 053, 061, 062, 072, 076, ...</td>\n",
       "      <td>{'106': 'neither', '115': 'tall', '007': 'neit...</td>\n",
       "      <td>0.0</td>\n",
       "      <td>prior_elicitation</td>\n",
       "      <td>ca_prior_elicitation_4_block_unique_silhouette...</td>\n",
       "      <td>lax-tower-4-block-unique-silhouettes-json</td>\n",
       "      <td>0.0</td>\n",
       "    </tr>\n",
       "    <tr>\n",
       "      <th>4</th>\n",
       "      <td>trial_end</td>\n",
       "      <td>pilot_1</td>\n",
       "      <td>all</td>\n",
       "      <td>lax-tower-4-block-unique-silhouettes-categoriz...</td>\n",
       "      <td>61083aaf80d3f6135717fa38</td>\n",
       "      <td>6673-9ae0e16d-f5f5-4f1b-a958-03bbb4d201c9</td>\n",
       "      <td>NaN</td>\n",
       "      <td>NaN</td>\n",
       "      <td>31539.9</td>\n",
       "      <td>NaN</td>\n",
       "      <td>...</td>\n",
       "      <td>neither</td>\n",
       "      <td>0.0</td>\n",
       "      <td>1.0</td>\n",
       "      <td>[007, 009, 019, 023, 053, 061, 062, 072, 076, ...</td>\n",
       "      <td>{'106': 'neither', '115': 'tall', '007': 'neit...</td>\n",
       "      <td>0.0</td>\n",
       "      <td>prior_elicitation</td>\n",
       "      <td>ca_prior_elicitation_4_block_unique_silhouette...</td>\n",
       "      <td>lax-tower-4-block-unique-silhouettes-json</td>\n",
       "      <td>0.0</td>\n",
       "    </tr>\n",
       "    <tr>\n",
       "      <th>...</th>\n",
       "      <td>...</td>\n",
       "      <td>...</td>\n",
       "      <td>...</td>\n",
       "      <td>...</td>\n",
       "      <td>...</td>\n",
       "      <td>...</td>\n",
       "      <td>...</td>\n",
       "      <td>...</td>\n",
       "      <td>...</td>\n",
       "      <td>...</td>\n",
       "      <td>...</td>\n",
       "      <td>...</td>\n",
       "      <td>...</td>\n",
       "      <td>...</td>\n",
       "      <td>...</td>\n",
       "      <td>...</td>\n",
       "      <td>...</td>\n",
       "      <td>...</td>\n",
       "      <td>...</td>\n",
       "      <td>...</td>\n",
       "      <td>...</td>\n",
       "    </tr>\n",
       "    <tr>\n",
       "      <th>60</th>\n",
       "      <td>trial_end</td>\n",
       "      <td>pilot_1</td>\n",
       "      <td>all</td>\n",
       "      <td>lax-tower-4-block-unique-silhouettes-categoriz...</td>\n",
       "      <td>61093130bd622cd1d115d81d</td>\n",
       "      <td>1339-85b9aee1-fa55-4087-8e52-fad4b7a4cb0f</td>\n",
       "      <td>NaN</td>\n",
       "      <td>NaN</td>\n",
       "      <td>71344.7</td>\n",
       "      <td>NaN</td>\n",
       "      <td>...</td>\n",
       "      <td>neither</td>\n",
       "      <td>0.0</td>\n",
       "      <td>3.0</td>\n",
       "      <td>[003, 012, 026, 064, 069, 073, 077, 082, 098, ...</td>\n",
       "      <td>{'101': 'tall', '103': 'neither', '108': 'neit...</td>\n",
       "      <td>0.0</td>\n",
       "      <td>prior_elicitation</td>\n",
       "      <td>ca_prior_elicitation_4_block_unique_silhouette...</td>\n",
       "      <td>lax-tower-4-block-unique-silhouettes-json</td>\n",
       "      <td>0.0</td>\n",
       "    </tr>\n",
       "    <tr>\n",
       "      <th>61</th>\n",
       "      <td>trial_end</td>\n",
       "      <td>pilot_1</td>\n",
       "      <td>all</td>\n",
       "      <td>lax-tower-4-block-unique-silhouettes-categoriz...</td>\n",
       "      <td>61093130bd622cd1d115d81d</td>\n",
       "      <td>1339-85b9aee1-fa55-4087-8e52-fad4b7a4cb0f</td>\n",
       "      <td>NaN</td>\n",
       "      <td>NaN</td>\n",
       "      <td>60465.0</td>\n",
       "      <td>NaN</td>\n",
       "      <td>...</td>\n",
       "      <td>neither</td>\n",
       "      <td>0.0</td>\n",
       "      <td>3.0</td>\n",
       "      <td>[003, 012, 026, 064, 069, 073, 077, 082, 098, ...</td>\n",
       "      <td>{'101': 'tall', '103': 'neither', '108': 'neit...</td>\n",
       "      <td>0.0</td>\n",
       "      <td>prior_elicitation</td>\n",
       "      <td>ca_prior_elicitation_4_block_unique_silhouette...</td>\n",
       "      <td>lax-tower-4-block-unique-silhouettes-json</td>\n",
       "      <td>0.0</td>\n",
       "    </tr>\n",
       "    <tr>\n",
       "      <th>62</th>\n",
       "      <td>trial_end</td>\n",
       "      <td>pilot_1</td>\n",
       "      <td>all</td>\n",
       "      <td>lax-tower-4-block-unique-silhouettes-categoriz...</td>\n",
       "      <td>61093130bd622cd1d115d81d</td>\n",
       "      <td>1339-85b9aee1-fa55-4087-8e52-fad4b7a4cb0f</td>\n",
       "      <td>NaN</td>\n",
       "      <td>NaN</td>\n",
       "      <td>37529.4</td>\n",
       "      <td>NaN</td>\n",
       "      <td>...</td>\n",
       "      <td>neither</td>\n",
       "      <td>0.0</td>\n",
       "      <td>3.0</td>\n",
       "      <td>[003, 012, 026, 064, 069, 073, 077, 082, 098, ...</td>\n",
       "      <td>{'101': 'tall', '103': 'neither', '108': 'neit...</td>\n",
       "      <td>0.0</td>\n",
       "      <td>prior_elicitation</td>\n",
       "      <td>ca_prior_elicitation_4_block_unique_silhouette...</td>\n",
       "      <td>lax-tower-4-block-unique-silhouettes-json</td>\n",
       "      <td>0.0</td>\n",
       "    </tr>\n",
       "    <tr>\n",
       "      <th>63</th>\n",
       "      <td>trial_end</td>\n",
       "      <td>pilot_1</td>\n",
       "      <td>all</td>\n",
       "      <td>lax-tower-4-block-unique-silhouettes-categoriz...</td>\n",
       "      <td>61093130bd622cd1d115d81d</td>\n",
       "      <td>1339-85b9aee1-fa55-4087-8e52-fad4b7a4cb0f</td>\n",
       "      <td>NaN</td>\n",
       "      <td>NaN</td>\n",
       "      <td>39244.3</td>\n",
       "      <td>NaN</td>\n",
       "      <td>...</td>\n",
       "      <td>neither</td>\n",
       "      <td>0.0</td>\n",
       "      <td>3.0</td>\n",
       "      <td>[003, 012, 026, 064, 069, 073, 077, 082, 098, ...</td>\n",
       "      <td>{'101': 'tall', '103': 'neither', '108': 'neit...</td>\n",
       "      <td>0.0</td>\n",
       "      <td>prior_elicitation</td>\n",
       "      <td>ca_prior_elicitation_4_block_unique_silhouette...</td>\n",
       "      <td>lax-tower-4-block-unique-silhouettes-json</td>\n",
       "      <td>0.0</td>\n",
       "    </tr>\n",
       "    <tr>\n",
       "      <th>64</th>\n",
       "      <td>trial_end</td>\n",
       "      <td>pilot_1</td>\n",
       "      <td>all</td>\n",
       "      <td>lax-tower-4-block-unique-silhouettes-categoriz...</td>\n",
       "      <td>61093130bd622cd1d115d81d</td>\n",
       "      <td>1339-85b9aee1-fa55-4087-8e52-fad4b7a4cb0f</td>\n",
       "      <td>NaN</td>\n",
       "      <td>NaN</td>\n",
       "      <td>58309.9</td>\n",
       "      <td>NaN</td>\n",
       "      <td>...</td>\n",
       "      <td>neither</td>\n",
       "      <td>0.0</td>\n",
       "      <td>3.0</td>\n",
       "      <td>[003, 012, 026, 064, 069, 073, 077, 082, 098, ...</td>\n",
       "      <td>{'101': 'tall', '103': 'neither', '108': 'neit...</td>\n",
       "      <td>0.0</td>\n",
       "      <td>prior_elicitation</td>\n",
       "      <td>ca_prior_elicitation_4_block_unique_silhouette...</td>\n",
       "      <td>lax-tower-4-block-unique-silhouettes-json</td>\n",
       "      <td>0.0</td>\n",
       "    </tr>\n",
       "  </tbody>\n",
       "</table>\n",
       "<p>65 rows × 29 columns</p>\n",
       "</div>"
      ],
      "text/plain": [
       "     datatype iterationName condition  \\\n",
       "0   trial_end       pilot_1       all   \n",
       "1   trial_end       pilot_1       all   \n",
       "2   trial_end       pilot_1       all   \n",
       "3   trial_end       pilot_1       all   \n",
       "4   trial_end       pilot_1       all   \n",
       "..        ...           ...       ...   \n",
       "60  trial_end       pilot_1       all   \n",
       "61  trial_end       pilot_1       all   \n",
       "62  trial_end       pilot_1       all   \n",
       "63  trial_end       pilot_1       all   \n",
       "64  trial_end       pilot_1       all   \n",
       "\n",
       "                                          config_name  \\\n",
       "0   lax-tower-4-block-unique-silhouettes-categoriz...   \n",
       "1   lax-tower-4-block-unique-silhouettes-categoriz...   \n",
       "2   lax-tower-4-block-unique-silhouettes-categoriz...   \n",
       "3   lax-tower-4-block-unique-silhouettes-categoriz...   \n",
       "4   lax-tower-4-block-unique-silhouettes-categoriz...   \n",
       "..                                                ...   \n",
       "60  lax-tower-4-block-unique-silhouettes-categoriz...   \n",
       "61  lax-tower-4-block-unique-silhouettes-categoriz...   \n",
       "62  lax-tower-4-block-unique-silhouettes-categoriz...   \n",
       "63  lax-tower-4-block-unique-silhouettes-categoriz...   \n",
       "64  lax-tower-4-block-unique-silhouettes-categoriz...   \n",
       "\n",
       "                    workerID                                     gameID  \\\n",
       "0   61083aaf80d3f6135717fa38  6673-9ae0e16d-f5f5-4f1b-a958-03bbb4d201c9   \n",
       "1   61083aaf80d3f6135717fa38  6673-9ae0e16d-f5f5-4f1b-a958-03bbb4d201c9   \n",
       "2   61083aaf80d3f6135717fa38  6673-9ae0e16d-f5f5-4f1b-a958-03bbb4d201c9   \n",
       "3   61083aaf80d3f6135717fa38  6673-9ae0e16d-f5f5-4f1b-a958-03bbb4d201c9   \n",
       "4   61083aaf80d3f6135717fa38  6673-9ae0e16d-f5f5-4f1b-a958-03bbb4d201c9   \n",
       "..                       ...                                        ...   \n",
       "60  61093130bd622cd1d115d81d  1339-85b9aee1-fa55-4087-8e52-fad4b7a4cb0f   \n",
       "61  61093130bd622cd1d115d81d  1339-85b9aee1-fa55-4087-8e52-fad4b7a4cb0f   \n",
       "62  61093130bd622cd1d115d81d  1339-85b9aee1-fa55-4087-8e52-fad4b7a4cb0f   \n",
       "63  61093130bd622cd1d115d81d  1339-85b9aee1-fa55-4087-8e52-fad4b7a4cb0f   \n",
       "64  61093130bd622cd1d115d81d  1339-85b9aee1-fa55-4087-8e52-fad4b7a4cb0f   \n",
       "\n",
       "   shuffle trialOrder       rt  url  ... stim_group  partitionFamily  \\\n",
       "0      NaN        NaN  40648.0  NaN  ...       tall              0.0   \n",
       "1      NaN        NaN  73182.3  NaN  ...    neither              0.0   \n",
       "2      NaN        NaN  15059.1  NaN  ...    neither              0.0   \n",
       "3      NaN        NaN   8634.5  NaN  ...       wide              0.0   \n",
       "4      NaN        NaN  31539.9  NaN  ...    neither              0.0   \n",
       "..     ...        ...      ...  ...  ...        ...              ...   \n",
       "60     NaN        NaN  71344.7  NaN  ...    neither              0.0   \n",
       "61     NaN        NaN  60465.0  NaN  ...    neither              0.0   \n",
       "62     NaN        NaN  37529.4  NaN  ...    neither              0.0   \n",
       "63     NaN        NaN  39244.3  NaN  ...    neither              0.0   \n",
       "64     NaN        NaN  58309.9  NaN  ...    neither              0.0   \n",
       "\n",
       "    splitNumber                                        stimNumbers  \\\n",
       "0           1.0  [007, 009, 019, 023, 053, 061, 062, 072, 076, ...   \n",
       "1           1.0  [007, 009, 019, 023, 053, 061, 062, 072, 076, ...   \n",
       "2           1.0  [007, 009, 019, 023, 053, 061, 062, 072, 076, ...   \n",
       "3           1.0  [007, 009, 019, 023, 053, 061, 062, 072, 076, ...   \n",
       "4           1.0  [007, 009, 019, 023, 053, 061, 062, 072, 076, ...   \n",
       "..          ...                                                ...   \n",
       "60          3.0  [003, 012, 026, 064, 069, 073, 077, 082, 098, ...   \n",
       "61          3.0  [003, 012, 026, 064, 069, 073, 077, 082, 098, ...   \n",
       "62          3.0  [003, 012, 026, 064, 069, 073, 077, 082, 098, ...   \n",
       "63          3.0  [003, 012, 026, 064, 069, 073, 077, 082, 098, ...   \n",
       "64          3.0  [003, 012, 026, 064, 069, 073, 077, 082, 098, ...   \n",
       "\n",
       "                                           stimGroups numGames  \\\n",
       "0   {'106': 'neither', '115': 'tall', '007': 'neit...      0.0   \n",
       "1   {'106': 'neither', '115': 'tall', '007': 'neit...      0.0   \n",
       "2   {'106': 'neither', '115': 'tall', '007': 'neit...      0.0   \n",
       "3   {'106': 'neither', '115': 'tall', '007': 'neit...      0.0   \n",
       "4   {'106': 'neither', '115': 'tall', '007': 'neit...      0.0   \n",
       "..                                                ...      ...   \n",
       "60  {'101': 'tall', '103': 'neither', '108': 'neit...      0.0   \n",
       "61  {'101': 'tall', '103': 'neither', '108': 'neit...      0.0   \n",
       "62  {'101': 'tall', '103': 'neither', '108': 'neit...      0.0   \n",
       "63  {'101': 'tall', '103': 'neither', '108': 'neit...      0.0   \n",
       "64  {'101': 'tall', '103': 'neither', '108': 'neit...      0.0   \n",
       "\n",
       "       experimentType                                     experimentName  \\\n",
       "0   prior_elicitation  ca_prior_elicitation_4_block_unique_silhouette...   \n",
       "1   prior_elicitation  ca_prior_elicitation_4_block_unique_silhouette...   \n",
       "2   prior_elicitation  ca_prior_elicitation_4_block_unique_silhouette...   \n",
       "3   prior_elicitation  ca_prior_elicitation_4_block_unique_silhouette...   \n",
       "4   prior_elicitation  ca_prior_elicitation_4_block_unique_silhouette...   \n",
       "..                ...                                                ...   \n",
       "60  prior_elicitation  ca_prior_elicitation_4_block_unique_silhouette...   \n",
       "61  prior_elicitation  ca_prior_elicitation_4_block_unique_silhouette...   \n",
       "62  prior_elicitation  ca_prior_elicitation_4_block_unique_silhouette...   \n",
       "63  prior_elicitation  ca_prior_elicitation_4_block_unique_silhouette...   \n",
       "64  prior_elicitation  ca_prior_elicitation_4_block_unique_silhouette...   \n",
       "\n",
       "                                    s3_bucket versionInd  \n",
       "0   lax-tower-4-block-unique-silhouettes-json        0.0  \n",
       "1   lax-tower-4-block-unique-silhouettes-json        0.0  \n",
       "2   lax-tower-4-block-unique-silhouettes-json        0.0  \n",
       "3   lax-tower-4-block-unique-silhouettes-json        0.0  \n",
       "4   lax-tower-4-block-unique-silhouettes-json        0.0  \n",
       "..                                        ...        ...  \n",
       "60  lax-tower-4-block-unique-silhouettes-json        0.0  \n",
       "61  lax-tower-4-block-unique-silhouettes-json        0.0  \n",
       "62  lax-tower-4-block-unique-silhouettes-json        0.0  \n",
       "63  lax-tower-4-block-unique-silhouettes-json        0.0  \n",
       "64  lax-tower-4-block-unique-silhouettes-json        0.0  \n",
       "\n",
       "[65 rows x 29 columns]"
      ]
     },
     "execution_count": 741,
     "metadata": {},
     "output_type": "execute_result"
    }
   ],
   "source": [
    "df_trial"
   ]
  },
  {
   "cell_type": "markdown",
   "metadata": {},
   "source": [
    "## Data preprocessing"
   ]
  },
  {
   "cell_type": "code",
   "execution_count": 742,
   "metadata": {
    "scrolled": false
   },
   "outputs": [
    {
     "data": {
      "text/plain": [
       "['h with red and blue\\n',\n",
       " 'Chairs stacked perfectly',\n",
       " 'a sideways thumbs up, thumb and base of hand blue, two fingers are red',\n",
       " 'a chair tipped over on its side',\n",
       " 'a creature (maybe an insect?) lifting its leg up in the air',\n",
       " 'two ls one upside down',\n",
       " 'a sideways view of a bed looking right. red headboard, blue mattress, red vertical bar at foot of bed. blue horizontal bar at the bottom of the head of bed',\n",
       " 'A U',\n",
       " 'a whirlpool viewed from above',\n",
       " 'a podium or table of some sort',\n",
       " 'a table. ',\n",
       " 'republican ',\n",
       " 'backwards lowercase \"h\". red bars as the vertical line, 2 horizontal blue lines as the curve in the h',\n",
       " 'two red up two blue down',\n",
       " 'an S',\n",
       " 'Looks like a staircase on a dock. ',\n",
       " 'Sitting uncomfortably on a car',\n",
       " 'Looks like a door on a staircase.',\n",
       " 'the middle finger',\n",
       " 'a dragon head with two spikes.',\n",
       " \"two l's spooning\\n\",\n",
       " 'A backwards G',\n",
       " 'a sexual position',\n",
       " 'two red up and down two blue sideways',\n",
       " 'a seat. ',\n",
       " 'the top of a pitchfork',\n",
       " 'A Jenga piece being pulled out',\n",
       " 'half 0',\n",
       " 'A blue box about to tip over a red box',\n",
       " \"the tip of a dinosaur's tail\",\n",
       " 'A little blue man with a red sweater',\n",
       " 'backwards L, red on top, blue on bottom',\n",
       " 'l sideways l backwards',\n",
       " 'l sideways l normal',\n",
       " 'upside down F, vertical is red, horizontal lines blue',\n",
       " 'a person shooting a gun to the left.',\n",
       " 'A snake sitting upright',\n",
       " 'upside down T.  2 horizontal blue bars are the top of the T, 2 vertical reds, starting on the right side of the first horizontal blue, are the line in the T',\n",
       " 'a movie theater chair. ',\n",
       " 'an upside down pirate hook',\n",
       " 'u shaped curve with the inside of the curve facing left. Top is a horizontal blue line, then two vertical red lines on top of one another, then a horizontal blue line directly to the left of the bottom red line',\n",
       " 'the twitter logo\\n',\n",
       " '1 red vertical bar with 2 horizonal blue bars. one coming out from the bottom right of the red bar, the other along the bottom of the red bar starting all the way at the left side of the red bar. another vertical red bar under the bottom horizontal blue bar on the right',\n",
       " 'A snake standing upright, facing to the left',\n",
       " 'a staircase leading up to a door',\n",
       " 'a person kneeling to the right while holding a rectangle. ',\n",
       " 'A flag pole on a box',\n",
       " 'a person kneeling to the right while holding their arms out.',\n",
       " 'a person kneeling to the left while holding their arms out ',\n",
       " 'vertical red with horizontal blue under it starting at the right, then horizontal blue under that starting at the left of the red bar. Vertical red bar starting at the right of the 2nd blue',\n",
       " 'hands facing out in either direction',\n",
       " 'c with a topper',\n",
       " 'vertical red line, 2 horizontal blue lines, then a vertical red line on the bottom',\n",
       " 'A handshake',\n",
       " 'the letter S, red in the middle, blue on top and bottom',\n",
       " 'two blue bricks on top of a pole',\n",
       " '2 vertical red bars on top of each other, horizontal blue starting at the bottom left of red. then horizontal blue under that starting at right of red bar',\n",
       " 'a person kneeling while holding a rectangle. ',\n",
       " 'normal l and upside down l',\n",
       " \"Two L's back to back with each other, but the stems are on opposite sides of each other.\",\n",
       " 'vertical red line, 2 horizontal blue lines, then 1 vertical red line all stacked together. vertical red lines are on the left side',\n",
       " 'Two pieces from Tetris stacked on top of each other',\n",
       " \"A children's toy that spins around and makes noise\",\n",
       " 'Looks like a hook. ',\n",
       " 'a treehouse']"
      ]
     },
     "execution_count": 742,
     "metadata": {},
     "output_type": "execute_result"
    }
   ],
   "source": [
    "list(df_trial.groupby('stimId').first()['label'])"
   ]
  },
  {
   "cell_type": "markdown",
   "metadata": {},
   "source": [
    "## Basic plots to test data"
   ]
  },
  {
   "cell_type": "markdown",
   "metadata": {},
   "source": [
    "  - Make some simple plots\n",
    "\t- Description length over trial num\n",
    "\t- For each tower:\n",
    "\t\t- display responses\n",
    "\t\t- variance in desc length\n",
    "\t\t- mean desc length"
   ]
  },
  {
   "cell_type": "code",
   "execution_count": 686,
   "metadata": {},
   "outputs": [],
   "source": [
    "# setup block display\n",
    "block_dims = [(2,1),(1,2)]\n",
    "block_colors = ['#0A2FB3','#B32F0A']\n",
    "black = ['#000000','#000000'] # used to display silhouettes\n",
    "grey = ['#333333','#333333']\n",
    "world_width = 8\n",
    "world_height = 8\n",
    "world_center = int((world_width-1)/2)"
   ]
  },
  {
   "cell_type": "code",
   "execution_count": 687,
   "metadata": {},
   "outputs": [],
   "source": [
    "towers = pd.read_pickle(\"../../stimuli/tower_4_block_unique_silhouettes/tower_4_block_unique_silhouettes.pkl\")"
   ]
  },
  {
   "cell_type": "code",
   "execution_count": 688,
   "metadata": {},
   "outputs": [],
   "source": [
    "towers_with_labels = df_trial[['stimId','label','gameID']].groupby('stimId')\n",
    "# tower_ids = towers_with_labels.first().reset_index()['stimId']"
   ]
  },
  {
   "cell_type": "code",
   "execution_count": 689,
   "metadata": {
    "scrolled": true
   },
   "outputs": [
    {
     "data": {
      "image/png": "[encoded data removed]",
      "text/plain": [
       "<Figure size 144x216 with 1 Axes>"
      ]
     },
     "metadata": {},
     "output_type": "display_data"
    },
    {
     "name": "stdout",
     "output_type": "stream",
     "text": [
      "000\n",
      "['h with red and blue\\n']\n"
     ]
    },
    {
     "data": {
      "image/png": "[encoded data removed]",
      "text/plain": [
       "<Figure size 144x216 with 1 Axes>"
      ]
     },
     "metadata": {},
     "output_type": "display_data"
    },
    {
     "name": "stdout",
     "output_type": "stream",
     "text": [
      "007\n",
      "['a chair tipped over on its side']\n"
     ]
    },
    {
     "data": {
      "image/png": "[encoded data removed]",
      "text/plain": [
       "<Figure size 144x216 with 1 Axes>"
      ]
     },
     "metadata": {},
     "output_type": "display_data"
    },
    {
     "name": "stdout",
     "output_type": "stream",
     "text": [
      "009\n",
      "['a creature (maybe an insect?) lifting its leg up in the air']\n"
     ]
    },
    {
     "data": {
      "image/png": "[encoded data removed]",
      "text/plain": [
       "<Figure size 144x216 with 1 Axes>"
      ]
     },
     "metadata": {},
     "output_type": "display_data"
    },
    {
     "name": "stdout",
     "output_type": "stream",
     "text": [
      "011\n",
      "['two ls one upside down']\n"
     ]
    },
    {
     "data": {
      "image/png": "[encoded data removed]",
      "text/plain": [
       "<Figure size 144x216 with 1 Axes>"
      ]
     },
     "metadata": {},
     "output_type": "display_data"
    },
    {
     "name": "stdout",
     "output_type": "stream",
     "text": [
      "019\n",
      "['a whirlpool viewed from above']\n"
     ]
    },
    {
     "data": {
      "image/png": "[encoded data removed]",
      "text/plain": [
       "<Figure size 144x216 with 1 Axes>"
      ]
     },
     "metadata": {},
     "output_type": "display_data"
    },
    {
     "name": "stdout",
     "output_type": "stream",
     "text": [
      "023\n",
      "['a podium or table of some sort']\n"
     ]
    },
    {
     "data": {
      "image/png": "[encoded data removed]",
      "text/plain": [
       "<Figure size 144x216 with 1 Axes>"
      ]
     },
     "metadata": {},
     "output_type": "display_data"
    },
    {
     "name": "stdout",
     "output_type": "stream",
     "text": [
      "025\n",
      "['republican ']\n"
     ]
    },
    {
     "data": {
      "image/png": "[encoded data removed]",
      "text/plain": [
       "<Figure size 144x216 with 1 Axes>"
      ]
     },
     "metadata": {},
     "output_type": "display_data"
    },
    {
     "name": "stdout",
     "output_type": "stream",
     "text": [
      "029\n",
      "['two red up two blue down']\n"
     ]
    },
    {
     "data": {
      "image/png": "[encoded data removed]",
      "text/plain": [
       "<Figure size 144x216 with 1 Axes>"
      ]
     },
     "metadata": {},
     "output_type": "display_data"
    },
    {
     "name": "stdout",
     "output_type": "stream",
     "text": [
      "034\n",
      "['an S']\n"
     ]
    },
    {
     "data": {
      "image/png": "[encoded data removed]",
      "text/plain": [
       "<Figure size 144x216 with 1 Axes>"
      ]
     },
     "metadata": {},
     "output_type": "display_data"
    },
    {
     "name": "stdout",
     "output_type": "stream",
     "text": [
      "041\n",
      "[\"two l's spooning\\n\"]\n"
     ]
    },
    {
     "data": {
      "image/png": "[encoded data removed]",
      "text/plain": [
       "<Figure size 144x216 with 1 Axes>"
      ]
     },
     "metadata": {},
     "output_type": "display_data"
    },
    {
     "name": "stdout",
     "output_type": "stream",
     "text": [
      "049\n",
      "['two red up and down two blue sideways']\n"
     ]
    },
    {
     "data": {
      "image/png": "[encoded data removed]",
      "text/plain": [
       "<Figure size 144x216 with 1 Axes>"
      ]
     },
     "metadata": {},
     "output_type": "display_data"
    },
    {
     "name": "stdout",
     "output_type": "stream",
     "text": [
      "053\n",
      "['the top of a pitchfork']\n"
     ]
    },
    {
     "data": {
      "image/png": "[encoded data removed]",
      "text/plain": [
       "<Figure size 144x216 with 1 Axes>"
      ]
     },
     "metadata": {},
     "output_type": "display_data"
    },
    {
     "name": "stdout",
     "output_type": "stream",
     "text": [
      "060\n",
      "['half 0']\n"
     ]
    },
    {
     "data": {
      "image/png": "[encoded data removed]",
      "text/plain": [
       "<Figure size 144x216 with 1 Axes>"
      ]
     },
     "metadata": {},
     "output_type": "display_data"
    },
    {
     "name": "stdout",
     "output_type": "stream",
     "text": [
      "061\n",
      "['A blue box about to tip over a red box']\n"
     ]
    },
    {
     "data": {
      "image/png": "[encoded data removed]",
      "text/plain": [
       "<Figure size 144x216 with 1 Axes>"
      ]
     },
     "metadata": {},
     "output_type": "display_data"
    },
    {
     "name": "stdout",
     "output_type": "stream",
     "text": [
      "062\n",
      "[\"the tip of a dinosaur's tail\"]\n"
     ]
    },
    {
     "data": {
      "image/png": "[encoded data removed]",
      "text/plain": [
       "<Figure size 144x216 with 1 Axes>"
      ]
     },
     "metadata": {},
     "output_type": "display_data"
    },
    {
     "name": "stdout",
     "output_type": "stream",
     "text": [
      "065\n",
      "['l sideways l backwards']\n"
     ]
    },
    {
     "data": {
      "image/png": "[encoded data removed]",
      "text/plain": [
       "<Figure size 144x216 with 1 Axes>"
      ]
     },
     "metadata": {},
     "output_type": "display_data"
    },
    {
     "name": "stdout",
     "output_type": "stream",
     "text": [
      "068\n",
      "['l sideways l normal']\n"
     ]
    },
    {
     "data": {
      "image/png": "[encoded data removed]",
      "text/plain": [
       "<Figure size 144x216 with 1 Axes>"
      ]
     },
     "metadata": {},
     "output_type": "display_data"
    },
    {
     "name": "stdout",
     "output_type": "stream",
     "text": [
      "072\n",
      "['A snake sitting upright']\n"
     ]
    },
    {
     "data": {
      "image/png": "[encoded data removed]",
      "text/plain": [
       "<Figure size 144x216 with 1 Axes>"
      ]
     },
     "metadata": {},
     "output_type": "display_data"
    },
    {
     "name": "stdout",
     "output_type": "stream",
     "text": [
      "076\n",
      "['an upside down pirate hook']\n"
     ]
    },
    {
     "data": {
      "image/png": "[encoded data removed]",
      "text/plain": [
       "<Figure size 144x216 with 1 Axes>"
      ]
     },
     "metadata": {},
     "output_type": "display_data"
    },
    {
     "name": "stdout",
     "output_type": "stream",
     "text": [
      "084\n",
      "['A snake standing upright, facing to the left']\n"
     ]
    },
    {
     "data": {
      "image/png": "[encoded data removed]",
      "text/plain": [
       "<Figure size 144x216 with 1 Axes>"
      ]
     },
     "metadata": {},
     "output_type": "display_data"
    },
    {
     "name": "stdout",
     "output_type": "stream",
     "text": [
      "086\n",
      "['a staircase leading up to a door']\n"
     ]
    },
    {
     "data": {
      "image/png": "[encoded data removed]",
      "text/plain": [
       "<Figure size 144x216 with 1 Axes>"
      ]
     },
     "metadata": {},
     "output_type": "display_data"
    },
    {
     "name": "stdout",
     "output_type": "stream",
     "text": [
      "100\n",
      "['c with a topper']\n"
     ]
    },
    {
     "data": {
      "image/png": "[encoded data removed]",
      "text/plain": [
       "<Figure size 144x216 with 1 Axes>"
      ]
     },
     "metadata": {},
     "output_type": "display_data"
    },
    {
     "name": "stdout",
     "output_type": "stream",
     "text": [
      "106\n",
      "['two blue bricks on top of a pole']\n"
     ]
    },
    {
     "data": {
      "image/png": "[encoded data removed]",
      "text/plain": [
       "<Figure size 144x216 with 1 Axes>"
      ]
     },
     "metadata": {},
     "output_type": "display_data"
    },
    {
     "name": "stdout",
     "output_type": "stream",
     "text": [
      "113\n",
      "['normal l and upside down l']\n"
     ]
    },
    {
     "data": {
      "image/png": "[encoded data removed]",
      "text/plain": [
       "<Figure size 144x216 with 1 Axes>"
      ]
     },
     "metadata": {},
     "output_type": "display_data"
    },
    {
     "name": "stdout",
     "output_type": "stream",
     "text": [
      "115\n",
      "[\"Two L's back to back with each other, but the stems are on opposite sides of each other.\"]\n"
     ]
    }
   ],
   "source": [
    "for towerId, group_df in towers_with_labels:\n",
    "    utils.draw_tower(utils.worldify(list(towers[towers.tower_number_str == towerId]['stim'])[0],\n",
    "                                    block_dims = block_dims, \n",
    "                                    block_colors = block_colors))\n",
    "    print(towerId)\n",
    "    print(list(group_df['label']))"
   ]
  },
  {
   "cell_type": "code",
   "execution_count": 649,
   "metadata": {},
   "outputs": [
    {
     "data": {
      "text/plain": [
       "<function blockworld_helpers.draw_world(world)>"
      ]
     },
     "execution_count": 649,
     "metadata": {},
     "output_type": "execute_result"
    }
   ],
   "source": [
    "utils.draw_world"
   ]
  },
  {
   "cell_type": "code",
   "execution_count": 650,
   "metadata": {
    "scrolled": false
   },
   "outputs": [
    {
     "name": "stdout",
     "output_type": "stream",
     "text": [
      "2.0\n",
      "['to make this image i would create a blue rectangle to the right laying hamburger way, then i would out another blue hamburger rectangle and lay it on top and moved towards the right, then i would put a red rectangle laying hot dog wise on the first blue retangle, and another to the right of them.\\n', 'draw a blue horizontal rectangle on the bottom, then draw a rust orange rectangle (the same size) vertically touching the left side of the blue rectangle, then I would draw another blue horizontal rectangle (the same size) on top of the rust orange rectangle but center it so the edges line up and there is half of the rectangle hanging off to the right, lastly I would draw another rust orange vertical rectangle sitting on top of the previous blue rectangle on the right side with the edges lines up flush.', 'Place two red blocks lengthways...then I would intercept with two blue blocks horizontally...then I would shift the topmost blue block to the left until its rightmost end aligns with the end of the top red block...then I would shift the bottommost blue block to the right until its leftmost end aligns with the end of the bottom red block', 'To make this image i would put a blue rectangle horizontally on top of two red rectangles. I would then put a blue rectangle horizontally on the bottom.', \"to make this image i would stack two red blocks vertically. then i would place a blue block horizontally the distance of one block's length away  . Then i'd stack another blue block horizontally on the first and align this block to touch the red ones. \"]\n",
      "\n",
      "\n",
      "3.0\n",
      "['start with a red rectangle laying hotdog, and put two hamburger rectangles laying like a staircase, and the last rectangle laying hotdog on the right corner of the second rectangle.\\n', 'First I would draw two blue horizontal rectangles of the same size one on the bottom one on top, perfectly aligned so it looks like a square in the middle of the page. Then I would draw one rust orange vertical rectangle on the left side of the blue rectangles, making it the same height as the square is so the rust orange rectangle is the exact same size of the blue rectangle but just turned vertically. Then I would do the exact same thing with another rust orange rectangle on the right side.', 'place one blue block horizontally...then I would place both red blocks lengthways aligned to the blue block...then I would place a blue block horizontally so that it aligns with the red blocks', 'to make this block i would place a blue block horizontally. then I would place to red blocks vertically touching together on top. then I would place a blue block horizontally aligned with the red block on the right.']\n",
      "\n",
      "\n",
      "4.0\n",
      "[\"draw a blue horizontal rectangle on the bottom. Then I would draw another blue horizontal rectangle of the exact same size sitting on top of the first blue rectangle centered to the left so there is half of the second rectangle sitting on the first one and half of it hanging off the side. Then I would draw a rust orange vertical rectangle the same size as the other rectangles and have it sitting on the first blue rectangle, the bottom would be touching the first blue rectangle and the left side would be touching the second blue rectangle on the left edge. Lastly I would draw another rust orange vertical rectangle the same size as the others, and place it sitting on top of the second blue rectangle centered to the right so it's edge is touching the first rust orange rectangle.\", \"place a horizontal blue block...then I would place a red block vertically aligning with the end of the first blue block...then I would place another blue block horizontally aligning with the topmost end of the red block...then I would vertically place a red block so that it aligns with the empty end of the blue block to make an almost 'n' shape\", 'connect two blue rectangles laying in a staircase form, and then I would lay one on top of the stair shape and another to the left of them.', 'to make this image i would place to vertical red blocks touching together. Then i would place to horizontal blocks on top of the red block on the right.']\n",
      "\n",
      "\n",
      "5.0\n",
      "[\"place the two blue blocks together to make a 'z' shape...then I would place a vertical red block at the back of the 'z' shape...then I would place a vertical red block underneath the blue block on the opposite side of the other red block\", 'put two red rectangles together, and make a stair going up the the right underneath them. ', 'to make this image i would vertically stack two red blocks. then I would place two horizontal blue blocks on top by alining their right sides.']\n",
      "\n",
      "\n",
      "6.0\n",
      "['place two vertical red blocks together forming a line...then I would place two blue blocks horiztonally together...then I would join the blue blocks to the end of the red blocks', 'connect two flat rectangles with the red rectangles. ', 'to make this image i would place two blue blocks side by side horizontally. then I would put one vertical red block on each by aligning their left sides.']\n",
      "\n",
      "\n",
      "7.0\n",
      "['place a horizontal blue block...then I would place a vertical red block at its end...then I would place another vertical red block on the end of and on top of the blue block...then I would place a horizontal blue block on top of the secondmost placed red block', 'create a fish braid pattern with two red on the right and two blue on the lefft.', 'to make this image i would horizontally stack two blue blocks. Then I would place a vertical red block on their left side. Then I would place a vertical red block on top to the two blue blocks by aligning their right sides.']\n",
      "\n",
      "\n",
      "8.0\n",
      "['place two red blocks vertically to form a line...then I would place a horizontal blue block aligning with the lowest end of the line of red blocks...then I would shift the topmost red block upwards to form a gap...then I would place a horizontal blue block in this gap aligning with the edge of the red blocks', 'to make this image i would place a horizontal blue block. then i would lay another blue block on top so that it is half way on the other, but its right half is not. then id place two vertically stacked red blocks on the left side of the second blue block.']\n",
      "\n",
      "\n",
      "9.0\n",
      "['to make this image i would place a vertical red block. then i would put a horizontal blue block on top by aligning their left sides. then I would place a horizontal blue block on top of the other so that its left half is on the block and right half is floating. Then I would place a vertical red block on top of the right side of the second blue block.']\n",
      "\n",
      "\n",
      "10.0\n",
      "['to make this image i would place a vertical red block. then I would place a horizontal blue block on top so that that their left sides are aligned. then i would place a vertical red block on top of both so that all their left sides are aligned. then i would place a horizontal blue block on the remaining space  of the first blue block.']\n",
      "\n",
      "\n",
      "11.0\n",
      "[\"to make this image i would lay two horizontal blue blocks side by side. then i would stack two vertical red blocks and place them on the blue block on the right so that these three blocks' left sides are aligning.\"]\n",
      "\n",
      "\n",
      "12.0\n",
      "['to make this image i would put a vertical red block. then i would place a horizontal blue block on top so that their right sides are alined. then i would put another horizontal blue block on top of the first so that its right half is on the block and left half is floating. then i would put a vertical red block on the left side of the second blue block. ']\n",
      "\n",
      "\n",
      "13.0\n",
      "['to make this image i would horizontally place a blue block. then i would vertically place a red block to the left of it. then i would place a vertical red block on top of the blue block so that it is touching the other red block. then i would place a horizontal blue block on the second red block. then i would align the right sides of those two final blocks.']\n",
      "\n",
      "\n",
      "14.0\n",
      "['to make this image i would place a vertical red block. Then I would place a horizontal blue block so that their left sides align. Then i would place a vertical red block on the blue one so that their right sides align. then i would place a horizontal blue block on the second red so that their right sides align. ']\n",
      "\n",
      "\n",
      "15.0\n",
      "['to make this image i would put a horizontal blue block. Then i would stack two vertical red blocks and place them on top of the blue by aligning all of their left sides. Then I would place a horizontal blue block on top of the red by aligning their right sides.']\n",
      "\n",
      "\n",
      "16.0\n",
      "['to make this image i would place two vertical red blocks with the distance of another red block between them. then id place a horizontal blue block on each by aligning the right sides of each blue and their corresponding red block.']\n",
      "\n",
      "\n",
      "17.0\n",
      "['to make this image i would place a vertical red block. then i would put a horizontal blue block by aligning their right sides. then i would put a vertical red block on top by aligning right sides. then i would place another horizontal blue block by aligning their right sides.']\n",
      "\n",
      "\n",
      "18.0\n",
      "['to make this image i would place a horizontal blue block. then i would place a horizontal blue block on top by having its left half float and right half be on the block. then i would place a vertical red block on the second blue block by aligning their right sides. then i would place a vertical red block on the right side of the blocks so that it is touching the left side of the second blue block.']\n",
      "\n",
      "\n",
      "19.0\n",
      "['to make this image i would stack two vertical red blocks. then i would place a horizontal blue block to the left of them. then i would stack a second blue block on the first so that its left half is floating and right half is touching.']\n",
      "\n",
      "\n",
      "20.0\n",
      "['to make this image i would place two vertical red blocks side by side. then i would place a horizontal blue block on the left red block. then i would place a second horizontal blue block on the first so that its right half is floating and left half is touching.']\n",
      "\n",
      "\n",
      "21.0\n",
      "['to make this image i would place a horizontal blue block. then i would place another horizontal blue block on top so that its right half is floating and left half is touching. then i would place two vertical red blocks side by side on top of the second blue block.']\n",
      "\n",
      "\n",
      "22.0\n",
      "['to make this image i would place a horizontal blue block. then i would place a vertical red block on top so that their right sides are aligned. Then i would place a vertical red block to the left of the blue block. then i would place a horizontal blue block on top the second red block so that their right sides are aligned.']\n",
      "\n",
      "\n",
      "23.0\n",
      "['to make this image i would place a vertical red block. then i would place a horizontal blue block on top by having their left sides align. then i would place a vertical red block on top by having their left sides align. then i would place a horizontal blue block by having their left sides align.']\n",
      "\n",
      "\n",
      "24.0\n",
      "['to make this image i would place a vertical red block. then i would place a horizontal blue block on top and have their right sides align. then i would place another blue block on top the first so that its right half is floating and left half is touching. then i would place a vertical red block on top so that its left side is aligned with the second blue blocks left.']\n",
      "\n",
      "\n",
      "25.0\n",
      "['to make this image i would place a horizontal blue block. then i would place a vertical red block to the left of it. then i would place a second horizontal blue block on top the first by having its right side float and left side touch. then i would place a vertical red block on top the second blue block by having their right sides align.']\n",
      "\n",
      "\n"
     ]
    }
   ],
   "source": [
    "labels_by_trial_num = df_trial[['stimId','label','gameID','trial_index']].groupby('trial_index')\n",
    "\n",
    "for trial_num, group_df in labels_by_trial_num:\n",
    "    print(trial_num)\n",
    "    print(list(group_df['label']))\n",
    "    print('\\n')\n",
    "    \n",
    "    "
   ]
  },
  {
   "cell_type": "code",
   "execution_count": 651,
   "metadata": {},
   "outputs": [
    {
     "data": {
      "text/plain": [
       "[<matplotlib.lines.Line2D at 0x7f941a856e10>]"
      ]
     },
     "execution_count": 651,
     "metadata": {},
     "output_type": "execute_result"
    },
    {
     "data": {
      "image/png": "[encoded data removed]",
      "text/plain": [
       "<Figure size 432x288 with 1 Axes>"
      ]
     },
     "metadata": {},
     "output_type": "display_data"
    }
   ],
   "source": [
    "lengths = df_trial[['stimId','label','gameID','trial_index']].groupby('trial_index')['label']\\\n",
    "                    .apply(lambda labels: np.mean([len(label) for label in labels]))\n",
    "plt.plot(lengths)"
   ]
  },
  {
   "cell_type": "code",
   "execution_count": null,
   "metadata": {},
   "outputs": [],
   "source": []
  },
  {
   "cell_type": "code",
   "execution_count": null,
   "metadata": {},
   "outputs": [],
   "source": []
  }
 ],
 "metadata": {
  "kernelspec": {
   "display_name": "Python 3",
   "language": "python",
   "name": "python3"
  },
  "language_info": {
   "codemirror_mode": {
    "name": "ipython",
    "version": 3
   },
   "file_extension": ".py",
   "mimetype": "text/x-python",
   "name": "python",
   "nbconvert_exporter": "python",
   "pygments_lexer": "ipython3",
   "version": "3.7.4"
  }
 },
 "nbformat": 4,
 "nbformat_minor": 2
}
