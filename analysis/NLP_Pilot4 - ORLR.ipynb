{
 "cells": [
  {
   "cell_type": "markdown",
   "metadata": {},
   "source": [
    "# Exploratory NLP on chat messages in pilot data"
   ]
  },
  {
   "cell_type": "markdown",
   "metadata": {},
   "source": [
    "\n",
    "-------------------------\n",
    "Spacy lemmatizer, numbers to text\n",
    "\n",
    "Calculate new column (prop of L specifc over all words in rep)\n",
    "\n",
    "Proportion of \"L\" specific words in LP and LC (i.e. changing the denominator to only be towersets with L) -- then average for each dyad across the two towers\n",
    "\n",
    "Also column for raw count of L specifc words\n",
    "\n",
    "plot histogram of differences between rep 0 and rep 3\n",
    "\n"
   ]
  },
  {
   "cell_type": "code",
   "execution_count": 33,
   "metadata": {},
   "outputs": [],
   "source": [
    "#!pip install spacy"
   ]
  },
  {
   "cell_type": "markdown",
   "metadata": {},
   "source": [
    "## Import packages"
   ]
  },
  {
   "cell_type": "code",
   "execution_count": 1,
   "metadata": {},
   "outputs": [],
   "source": [
    "from nltk.corpus import stopwords\n",
    "from nltk.tokenize import word_tokenize\n",
    "from nltk.stem import WordNetLemmatizer, SnowballStemmer\n",
    "from nltk.stem.porter import *\n",
    "from collections import Counter\n",
    "from num2words import num2words\n",
    "import gensim\n",
    "from gensim.utils import simple_preprocess\n",
    "from gensim.parsing.preprocessing import STOPWORDS\n",
    "from gensim import matutils, models\n",
    "import matplotlib.pyplot as plt\n",
    "import spacy\n",
    "\n",
    "import nltk\n",
    "import os\n",
    "import string\n",
    "import numpy as np\n",
    "import copy\n",
    "import pandas as pd\n",
    "pd.set_option('display.max_colwidth', 1000)\n",
    "import pickle\n",
    "import re\n",
    "import math\n",
    "\n",
    "\n",
    "stemmer = SnowballStemmer(\"english\")"
   ]
  },
  {
   "cell_type": "markdown",
   "metadata": {},
   "source": [
    "## Import data frames (generated in DF_generator script from mongoDB)"
   ]
  },
  {
   "cell_type": "code",
   "execution_count": 2,
   "metadata": {},
   "outputs": [
    {
     "name": "stdout",
     "output_type": "stream",
     "text": [
      "(3066, 21)\n",
      "Dyads: 71\n"
     ]
    }
   ],
   "source": [
    "df_chat = pd.read_csv('df_chat.csv')\n",
    "print(df_chat.shape)\n",
    "print(\"Dyads:\",len(df_chat.gameid.unique()))"
   ]
  },
  {
   "cell_type": "markdown",
   "metadata": {},
   "source": [
    "### Check exclusion criteria"
   ]
  },
  {
   "cell_type": "code",
   "execution_count": 3,
   "metadata": {},
   "outputs": [
    {
     "name": "stdout",
     "output_type": "stream",
     "text": [
      "Total dyads achieving 75% Accuracy on 75% of trials: 48\n"
     ]
    }
   ],
   "source": [
    "df_trial = pd.read_csv('df_trial.csv')\n",
    "df75 = pd.DataFrame(df_trial.groupby(['gameid', 'trialNum'])['trialScore'].sum()>75).groupby(['gameid']).sum()\n",
    "df75['trials'] = df75['trialScore']\n",
    "\n",
    "#delete rows that aren't greater than 75% in 9 trials\n",
    "df75 = df75[df75['trials']>=9]\n",
    "\n",
    "print(\"Total dyads achieving 75% Accuracy on 75% of trials:\",len(df75))"
   ]
  },
  {
   "cell_type": "markdown",
   "metadata": {},
   "source": [
    "### Remove dyads that did not pass exclusion criteria"
   ]
  },
  {
   "cell_type": "code",
   "execution_count": 4,
   "metadata": {},
   "outputs": [
    {
     "name": "stdout",
     "output_type": "stream",
     "text": [
      "(2223, 21)\n",
      "Passed Dyads: 48\n"
     ]
    }
   ],
   "source": [
    "keep_id = df75.index.tolist()\n",
    "keep_id\n",
    "df = df_chat[df_chat['gameid'].isin(keep_id)]\n",
    "print(df.shape)\n",
    "print(\"Passed Dyads:\",len(df.gameid.unique()))"
   ]
  },
  {
   "cell_type": "code",
   "execution_count": 5,
   "metadata": {},
   "outputs": [
    {
     "data": {
      "text/html": [
       "<div>\n",
       "<style scoped>\n",
       "    .dataframe tbody tr th:only-of-type {\n",
       "        vertical-align: middle;\n",
       "    }\n",
       "\n",
       "    .dataframe tbody tr th {\n",
       "        vertical-align: top;\n",
       "    }\n",
       "\n",
       "    .dataframe thead th {\n",
       "        text-align: right;\n",
       "    }\n",
       "</style>\n",
       "<table border=\"1\" class=\"dataframe\">\n",
       "  <thead>\n",
       "    <tr style=\"text-align: right;\">\n",
       "      <th></th>\n",
       "      <th>gameid</th>\n",
       "      <th>repNum</th>\n",
       "      <th>content</th>\n",
       "      <th>trialNum</th>\n",
       "      <th>C</th>\n",
       "      <th>L</th>\n",
       "      <th>P</th>\n",
       "    </tr>\n",
       "  </thead>\n",
       "  <tbody>\n",
       "    <tr>\n",
       "      <th>2</th>\n",
       "      <td>1494-029e2297-bd3f-4cfe-be00-d06d36724e4e</td>\n",
       "      <td>0</td>\n",
       "      <td>put a blue block three from the left~~~</td>\n",
       "      <td>0</td>\n",
       "      <td>1</td>\n",
       "      <td>0</td>\n",
       "      <td>1</td>\n",
       "    </tr>\n",
       "    <tr>\n",
       "      <th>3</th>\n",
       "      <td>1494-029e2297-bd3f-4cfe-be00-d06d36724e4e</td>\n",
       "      <td>0</td>\n",
       "      <td>place a red block on top of the left side of the blue block and then another red on top of that red</td>\n",
       "      <td>0</td>\n",
       "      <td>1</td>\n",
       "      <td>0</td>\n",
       "      <td>1</td>\n",
       "    </tr>\n",
       "  </tbody>\n",
       "</table>\n",
       "</div>"
      ],
      "text/plain": [
       "                                      gameid  repNum  \\\n",
       "2  1494-029e2297-bd3f-4cfe-be00-d06d36724e4e       0   \n",
       "3  1494-029e2297-bd3f-4cfe-be00-d06d36724e4e       0   \n",
       "\n",
       "                                                                                               content  \\\n",
       "2                                                             put a blue block three from the left~~~    \n",
       "3  place a red block on top of the left side of the blue block and then another red on top of that red   \n",
       "\n",
       "  trialNum  C  L  P  \n",
       "2        0  1  0  1  \n",
       "3        0  1  0  1  "
      ]
     },
     "execution_count": 5,
     "metadata": {},
     "output_type": "execute_result"
    }
   ],
   "source": [
    "df = df[['gameid','repNum','content','trialNum', 'leftTarget', 'rightTarget']]\n",
    "df = df[df.trialNum != 'practice']\n",
    "df = df[df.repNum != 'practice']\n",
    "df['repNum'] = df['repNum'].astype(int)\n",
    "df['C'] = (df['leftTarget'] + df['rightTarget']).apply(lambda x: 1 if 'C' in x   else 0)\n",
    "df['L'] = (df['leftTarget'] + df['rightTarget']).apply(lambda x: 1 if 'L' in x   else 0)\n",
    "df['P'] = (df['leftTarget'] + df['rightTarget']).apply(lambda x: 1 if 'Pi' in x   else 0)\n",
    "df = df.drop(['leftTarget', 'rightTarget'],axis = 1)\n",
    "df.head(2)\n"
   ]
  },
  {
   "cell_type": "markdown",
   "metadata": {},
   "source": [
    "## Create Bag of Words for each repNum by concatenating content\n",
    "create df with column for repnum and column for entire string grouped by repnum"
   ]
  },
  {
   "cell_type": "code",
   "execution_count": 6,
   "metadata": {},
   "outputs": [
    {
     "name": "stdout",
     "output_type": "stream",
     "text": [
      "(576, 6)\n"
     ]
    },
    {
     "data": {
      "text/html": [
       "<div>\n",
       "<style scoped>\n",
       "    .dataframe tbody tr th:only-of-type {\n",
       "        vertical-align: middle;\n",
       "    }\n",
       "\n",
       "    .dataframe tbody tr th {\n",
       "        vertical-align: top;\n",
       "    }\n",
       "\n",
       "    .dataframe thead th {\n",
       "        text-align: right;\n",
       "    }\n",
       "</style>\n",
       "<table border=\"1\" class=\"dataframe\">\n",
       "  <thead>\n",
       "    <tr style=\"text-align: right;\">\n",
       "      <th></th>\n",
       "      <th>gameid</th>\n",
       "      <th>repNum</th>\n",
       "      <th>C</th>\n",
       "      <th>L</th>\n",
       "      <th>P</th>\n",
       "      <th>content</th>\n",
       "    </tr>\n",
       "  </thead>\n",
       "  <tbody>\n",
       "    <tr>\n",
       "      <th>0</th>\n",
       "      <td>0110-5784fec9-109a-4d7a-a343-4820f4d42144</td>\n",
       "      <td>0</td>\n",
       "      <td>0</td>\n",
       "      <td>1</td>\n",
       "      <td>1</td>\n",
       "      <td>two blue blocks on left and right side of left right line  two red block on top of left blue block just placed down  two red block one space apart on right line one blue block on top red block on left red line, on more red block on top of left red block</td>\n",
       "    </tr>\n",
       "    <tr>\n",
       "      <th>1</th>\n",
       "      <td>0110-5784fec9-109a-4d7a-a343-4820f4d42144</td>\n",
       "      <td>0</td>\n",
       "      <td>1</td>\n",
       "      <td>0</td>\n",
       "      <td>1</td>\n",
       "      <td>for left red line, place blue block in the middle then stack two red on left side of that blue block for left red line, place blue block on highest red so it stick out on the right side for right red line, place one red block two space away from that line,  same as step 3, but on the left side, so there is two spaces apart between those two red blocks for right red line, place one blue block on top of each red block so the blue blocks meet/touch</td>\n",
       "    </tr>\n",
       "  </tbody>\n",
       "</table>\n",
       "</div>"
      ],
      "text/plain": [
       "                                      gameid  repNum  C  L  P  \\\n",
       "0  0110-5784fec9-109a-4d7a-a343-4820f4d42144       0  0  1  1   \n",
       "1  0110-5784fec9-109a-4d7a-a343-4820f4d42144       0  1  0  1   \n",
       "\n",
       "                                                                                                                                                                                                                                                                                                                                                                                                                                                              content  \n",
       "0                                                                                                                                                                                                       two blue blocks on left and right side of left right line  two red block on top of left blue block just placed down  two red block one space apart on right line one blue block on top red block on left red line, on more red block on top of left red block  \n",
       "1  for left red line, place blue block in the middle then stack two red on left side of that blue block for left red line, place blue block on highest red so it stick out on the right side for right red line, place one red block two space away from that line,  same as step 3, but on the left side, so there is two spaces apart between those two red blocks for right red line, place one blue block on top of each red block so the blue blocks meet/touch   "
      ]
     },
     "execution_count": 6,
     "metadata": {},
     "output_type": "execute_result"
    }
   ],
   "source": [
    "# df['BOW'] = df[['repNum','C','L','Pi','content']].groupby(['repNum','C','L','Pi'])['content'].transform(lambda x: ' '.join(x))\n",
    "# df = df[['repNum','C','L','Pi','BOW']]\n",
    "df = df.groupby(['gameid','repNum','C','L','P'])['content'].apply(lambda x: ' '.join(x)).reset_index()\n",
    "\n",
    "print(df.shape)\n",
    "df.head(2)"
   ]
  },
  {
   "cell_type": "markdown",
   "metadata": {},
   "source": [
    "### Remove stopwords and punctuation"
   ]
  },
  {
   "cell_type": "code",
   "execution_count": 7,
   "metadata": {},
   "outputs": [],
   "source": [
    "from nltk.corpus import stopwords\n",
    "stop = stopwords.words('english')\n",
    "df['BOW_clean'] = df['content'].apply(lambda x: ' '.join([word for word in x.split() if word not in (stop)]))"
   ]
  },
  {
   "cell_type": "code",
   "execution_count": 8,
   "metadata": {},
   "outputs": [],
   "source": [
    "df['BOW_clean'] = df['BOW_clean'].str.lower()\n",
    "df['BOW_clean'] = df['BOW_clean'].str.replace(r'~', '')\n",
    "df['BOW_clean'] = df['BOW_clean'].str.replace(r'\\(', '')\n",
    "df['BOW_clean'] = df['BOW_clean'].str.replace(r'\\)', '')\n",
    "df['BOW_clean'] = df['BOW_clean'].str.replace(r'\\,', '')\n",
    "df['BOW_clean'] = df['BOW_clean'].str.replace(r\"\\'\", '')\n",
    "df['BOW_clean'] = df['BOW_clean'].str.replace(r\"\\:\", '')\n",
    "df['BOW_clean'] = df['BOW_clean'].str.replace(r'\"', '')\n",
    "df['BOW_clean'] = df['BOW_clean'].str.replace(r\"-\", '')\n",
    "df['BOW_clean'] = df['BOW_clean'].str.replace(r\"/\", ' ')\n",
    "df['BOW_clean'] = df['BOW_clean'].str.replace(r\".\", ' ')\n",
    "df['BOW_clean'] = df['BOW_clean'].str.replace(r\"!\", ' ')"
   ]
  },
  {
   "cell_type": "markdown",
   "metadata": {},
   "source": [
    "## Convert numbers to words"
   ]
  },
  {
   "cell_type": "code",
   "execution_count": 9,
   "metadata": {},
   "outputs": [],
   "source": [
    "import num2words\n",
    "from num2words import num2words\n",
    "def num_2_words(sentence):\n",
    "    out = \"\"\n",
    "    for word in sentence.split():\n",
    "        try:\n",
    "            o = num2words(word)\n",
    "        except:\n",
    "            o = word\n",
    "        out = out+\" \"+ o\n",
    "    return out\n",
    "\n",
    "    "
   ]
  },
  {
   "cell_type": "code",
   "execution_count": 10,
   "metadata": {},
   "outputs": [
    {
     "data": {
      "text/html": [
       "<div>\n",
       "<style scoped>\n",
       "    .dataframe tbody tr th:only-of-type {\n",
       "        vertical-align: middle;\n",
       "    }\n",
       "\n",
       "    .dataframe tbody tr th {\n",
       "        vertical-align: top;\n",
       "    }\n",
       "\n",
       "    .dataframe thead th {\n",
       "        text-align: right;\n",
       "    }\n",
       "</style>\n",
       "<table border=\"1\" class=\"dataframe\">\n",
       "  <thead>\n",
       "    <tr style=\"text-align: right;\">\n",
       "      <th></th>\n",
       "      <th>gameid</th>\n",
       "      <th>repNum</th>\n",
       "      <th>C</th>\n",
       "      <th>L</th>\n",
       "      <th>P</th>\n",
       "      <th>content</th>\n",
       "      <th>BOW_clean</th>\n",
       "    </tr>\n",
       "  </thead>\n",
       "  <tbody>\n",
       "    <tr>\n",
       "      <th>0</th>\n",
       "      <td>0110-5784fec9-109a-4d7a-a343-4820f4d42144</td>\n",
       "      <td>0</td>\n",
       "      <td>0</td>\n",
       "      <td>1</td>\n",
       "      <td>1</td>\n",
       "      <td>two blue blocks on left and right side of left right line  two red block on top of left blue block just placed down  two red block one space apart on right line one blue block on top red block on left red line, on more red block on top of left red block</td>\n",
       "      <td>two blue blocks left right side left right line two red block top left blue block placed two red block one space apart right line one blue block top red block left red line red block top left red block</td>\n",
       "    </tr>\n",
       "    <tr>\n",
       "      <th>1</th>\n",
       "      <td>0110-5784fec9-109a-4d7a-a343-4820f4d42144</td>\n",
       "      <td>0</td>\n",
       "      <td>1</td>\n",
       "      <td>0</td>\n",
       "      <td>1</td>\n",
       "      <td>for left red line, place blue block in the middle then stack two red on left side of that blue block for left red line, place blue block on highest red so it stick out on the right side for right red line, place one red block two space away from that line,  same as step 3, but on the left side, so there is two spaces apart between those two red blocks for right red line, place one blue block on top of each red block so the blue blocks meet/touch</td>\n",
       "      <td>left red line place blue block middle stack two red left side blue block left red line place blue block highest red stick right side right red line place one red block two space away line step three left side two spaces apart two red blocks right red line place one blue block top red block blue blocks meet touch</td>\n",
       "    </tr>\n",
       "  </tbody>\n",
       "</table>\n",
       "</div>"
      ],
      "text/plain": [
       "                                      gameid  repNum  C  L  P  \\\n",
       "0  0110-5784fec9-109a-4d7a-a343-4820f4d42144       0  0  1  1   \n",
       "1  0110-5784fec9-109a-4d7a-a343-4820f4d42144       0  1  0  1   \n",
       "\n",
       "                                                                                                                                                                                                                                                                                                                                                                                                                                                              content  \\\n",
       "0                                                                                                                                                                                                       two blue blocks on left and right side of left right line  two red block on top of left blue block just placed down  two red block one space apart on right line one blue block on top red block on left red line, on more red block on top of left red block   \n",
       "1  for left red line, place blue block in the middle then stack two red on left side of that blue block for left red line, place blue block on highest red so it stick out on the right side for right red line, place one red block two space away from that line,  same as step 3, but on the left side, so there is two spaces apart between those two red blocks for right red line, place one blue block on top of each red block so the blue blocks meet/touch    \n",
       "\n",
       "                                                                                                                                                                                                                                                                                                                    BOW_clean  \n",
       "0                                                                                                                   two blue blocks left right side left right line two red block top left blue block placed two red block one space apart right line one blue block top red block left red line red block top left red block  \n",
       "1   left red line place blue block middle stack two red left side blue block left red line place blue block highest red stick right side right red line place one red block two space away line step three left side two spaces apart two red blocks right red line place one blue block top red block blue blocks meet touch  "
      ]
     },
     "execution_count": 10,
     "metadata": {},
     "output_type": "execute_result"
    }
   ],
   "source": [
    "df['BOW_clean'] = df['BOW_clean'].apply(lambda x: num_2_words(x))\n",
    "df.head(2)"
   ]
  },
  {
   "cell_type": "code",
   "execution_count": 11,
   "metadata": {},
   "outputs": [],
   "source": [
    "# # Initialize spacy 'en' model, keeping only tagger component needed for lemmatization\n",
    "# nlp = spacy.load('en', disable=['parser', 'ner'])\n",
    "\n",
    "# sentence = \"The striped bats are hanging on their feet for best\"\n",
    "\n",
    "# # Parse the sentence using the loaded 'en' model object `nlp`\n",
    "# doc = nlp(sentence)\n",
    "\n",
    "# # Extract the lemma for each token and join\n",
    "# \" \".join([token.lemma_ for token in doc]).split()"
   ]
  },
  {
   "cell_type": "code",
   "execution_count": 12,
   "metadata": {},
   "outputs": [],
   "source": [
    "# df['BOW_lemmatized'] = df['BOW_clean'].apply(lambda x: \" \".join([token.lemma_ for token in nlp(x)]).split())\n"
   ]
  },
  {
   "cell_type": "code",
   "execution_count": 13,
   "metadata": {},
   "outputs": [
    {
     "name": "stdout",
     "output_type": "stream",
     "text": [
      "(576, 8)\n"
     ]
    },
    {
     "data": {
      "text/html": [
       "<div>\n",
       "<style scoped>\n",
       "    .dataframe tbody tr th:only-of-type {\n",
       "        vertical-align: middle;\n",
       "    }\n",
       "\n",
       "    .dataframe tbody tr th {\n",
       "        vertical-align: top;\n",
       "    }\n",
       "\n",
       "    .dataframe thead th {\n",
       "        text-align: right;\n",
       "    }\n",
       "</style>\n",
       "<table border=\"1\" class=\"dataframe\">\n",
       "  <thead>\n",
       "    <tr style=\"text-align: right;\">\n",
       "      <th></th>\n",
       "      <th>gameid</th>\n",
       "      <th>repNum</th>\n",
       "      <th>C</th>\n",
       "      <th>L</th>\n",
       "      <th>P</th>\n",
       "      <th>content</th>\n",
       "      <th>BOW_clean</th>\n",
       "      <th>BOW_lemmatized</th>\n",
       "    </tr>\n",
       "  </thead>\n",
       "  <tbody>\n",
       "    <tr>\n",
       "      <th>0</th>\n",
       "      <td>0110-5784fec9-109a-4d7a-a343-4820f4d42144</td>\n",
       "      <td>0</td>\n",
       "      <td>0</td>\n",
       "      <td>1</td>\n",
       "      <td>1</td>\n",
       "      <td>two blue blocks on left and right side of left right line  two red block on top of left blue block just placed down  two red block one space apart on right line one blue block on top red block on left red line, on more red block on top of left red block</td>\n",
       "      <td>two blue blocks left right side left right line two red block top left blue block placed two red block one space apart right line one blue block top red block left red line red block top left red block</td>\n",
       "      <td>[two, blue, block, left, right, side, left, right, line, two, red, block, top, left, blue, block, placed, two, red, block, one, space, apart, right, line, one, blue, block, top, red, block, left, red, line, red, block, top, left, red, block]</td>\n",
       "    </tr>\n",
       "    <tr>\n",
       "      <th>1</th>\n",
       "      <td>0110-5784fec9-109a-4d7a-a343-4820f4d42144</td>\n",
       "      <td>0</td>\n",
       "      <td>1</td>\n",
       "      <td>0</td>\n",
       "      <td>1</td>\n",
       "      <td>for left red line, place blue block in the middle then stack two red on left side of that blue block for left red line, place blue block on highest red so it stick out on the right side for right red line, place one red block two space away from that line,  same as step 3, but on the left side, so there is two spaces apart between those two red blocks for right red line, place one blue block on top of each red block so the blue blocks meet/touch</td>\n",
       "      <td>left red line place blue block middle stack two red left side blue block left red line place blue block highest red stick right side right red line place one red block two space away line step three left side two spaces apart two red blocks right red line place one blue block top red block blue blocks meet touch</td>\n",
       "      <td>[left, red, line, place, blue, block, middle, stack, two, red, left, side, blue, block, left, red, line, place, blue, block, highest, red, stick, right, side, right, red, line, place, one, red, block, two, space, away, line, step, three, left, side, two, space, apart, two, red, block, right, red, line, place, one, blue, block, top, red, block, blue, block, meet, touch]</td>\n",
       "    </tr>\n",
       "    <tr>\n",
       "      <th>2</th>\n",
       "      <td>0110-5784fec9-109a-4d7a-a343-4820f4d42144</td>\n",
       "      <td>0</td>\n",
       "      <td>1</td>\n",
       "      <td>1</td>\n",
       "      <td>0</td>\n",
       "      <td>for left red line, two blue block placed right against each other for left red line, on top of far left of left blue block, place two red blocks stacked on each other for right red line, place one blue block in middle of that line  for right red line, place two red blocks stacked on top of each other on left side of blue block for right red line, place blue block on top of highest red block so it sticks on on the left side</td>\n",
       "      <td>left red line two blue block placed right left red line top far left left blue block place two red blocks stacked right red line place one blue block middle line right red line place two red blocks stacked top left side blue block right red line place blue block top highest red block sticks left side</td>\n",
       "      <td>[left, red, line, two, blue, block, placed, right, left, red, line, top, far, left, left, blue, block, place, two, red, block, stacked, right, red, line, place, one, blue, block, middle, line, right, red, line, place, two, red, block, stacked, top, left, side, blue, block, right, red, line, place, blue, block, top, highest, red, block, stick, left, side]</td>\n",
       "    </tr>\n",
       "  </tbody>\n",
       "</table>\n",
       "</div>"
      ],
      "text/plain": [
       "                                      gameid  repNum  C  L  P  \\\n",
       "0  0110-5784fec9-109a-4d7a-a343-4820f4d42144       0  0  1  1   \n",
       "1  0110-5784fec9-109a-4d7a-a343-4820f4d42144       0  1  0  1   \n",
       "2  0110-5784fec9-109a-4d7a-a343-4820f4d42144       0  1  1  0   \n",
       "\n",
       "                                                                                                                                                                                                                                                                                                                                                                                                                                                              content  \\\n",
       "0                                                                                                                                                                                                       two blue blocks on left and right side of left right line  two red block on top of left blue block just placed down  two red block one space apart on right line one blue block on top red block on left red line, on more red block on top of left red block   \n",
       "1  for left red line, place blue block in the middle then stack two red on left side of that blue block for left red line, place blue block on highest red so it stick out on the right side for right red line, place one red block two space away from that line,  same as step 3, but on the left side, so there is two spaces apart between those two red blocks for right red line, place one blue block on top of each red block so the blue blocks meet/touch    \n",
       "2                          for left red line, two blue block placed right against each other for left red line, on top of far left of left blue block, place two red blocks stacked on each other for right red line, place one blue block in middle of that line  for right red line, place two red blocks stacked on top of each other on left side of blue block for right red line, place blue block on top of highest red block so it sticks on on the left side   \n",
       "\n",
       "                                                                                                                                                                                                                                                                                                                    BOW_clean  \\\n",
       "0                                                                                                                   two blue blocks left right side left right line two red block top left blue block placed two red block one space apart right line one blue block top red block left red line red block top left red block   \n",
       "1   left red line place blue block middle stack two red left side blue block left red line place blue block highest red stick right side right red line place one red block two space away line step three left side two spaces apart two red blocks right red line place one blue block top red block blue blocks meet touch   \n",
       "2               left red line two blue block placed right left red line top far left left blue block place two red blocks stacked right red line place one blue block middle line right red line place two red blocks stacked top left side blue block right red line place blue block top highest red block sticks left side   \n",
       "\n",
       "                                                                                                                                                                                                                                                                                                                                                                        BOW_lemmatized  \n",
       "0                                                                                                                                    [two, blue, block, left, right, side, left, right, line, two, red, block, top, left, blue, block, placed, two, red, block, one, space, apart, right, line, one, blue, block, top, red, block, left, red, line, red, block, top, left, red, block]  \n",
       "1  [left, red, line, place, blue, block, middle, stack, two, red, left, side, blue, block, left, red, line, place, blue, block, highest, red, stick, right, side, right, red, line, place, one, red, block, two, space, away, line, step, three, left, side, two, space, apart, two, red, block, right, red, line, place, one, blue, block, top, red, block, blue, block, meet, touch]  \n",
       "2                 [left, red, line, two, blue, block, placed, right, left, red, line, top, far, left, left, blue, block, place, two, red, block, stacked, right, red, line, place, one, blue, block, middle, line, right, red, line, place, two, red, block, stacked, top, left, side, blue, block, right, red, line, place, blue, block, top, highest, red, block, stick, left, side]  "
      ]
     },
     "execution_count": 13,
     "metadata": {},
     "output_type": "execute_result"
    }
   ],
   "source": [
    "import nltk\n",
    "from nltk.tokenize import RegexpTokenizer\n",
    "tokenizer = RegexpTokenizer(r'\\w+')\n",
    "w_tokenizer = nltk.tokenize.WhitespaceTokenizer()\n",
    "lemmatizer = nltk.stem.WordNetLemmatizer()\n",
    "\n",
    "def lemmatize_text(text):\n",
    "    return [lemmatizer.lemmatize(w) for w in tokenizer.tokenize(text)]\n",
    "df['BOW_lemmatized'] = df['BOW_clean'].apply(lemmatize_text)\n",
    "print(df.shape)\n",
    "df.head(3)"
   ]
  },
  {
   "cell_type": "markdown",
   "metadata": {},
   "source": [
    "## Calculate PMI for each rep 0/ rep 3 tower pairing within each dyad\n",
    "For each dyad, get PMI distribution for each towerset permutation (compare PL/CP, PL/CL, CP/CL) in first rep take average of this PMI (so three summary measures) then do this again for the last rep\n",
    "\n",
    "log [ p(word | target ) / p(word) ]"
   ]
  },
  {
   "cell_type": "code",
   "execution_count": 14,
   "metadata": {},
   "outputs": [
    {
     "data": {
      "text/html": [
       "<div>\n",
       "<style scoped>\n",
       "    .dataframe tbody tr th:only-of-type {\n",
       "        vertical-align: middle;\n",
       "    }\n",
       "\n",
       "    .dataframe tbody tr th {\n",
       "        vertical-align: top;\n",
       "    }\n",
       "\n",
       "    .dataframe thead th {\n",
       "        text-align: right;\n",
       "    }\n",
       "</style>\n",
       "<table border=\"1\" class=\"dataframe\">\n",
       "  <thead>\n",
       "    <tr style=\"text-align: right;\">\n",
       "      <th></th>\n",
       "      <th>gameid</th>\n",
       "      <th>repNum</th>\n",
       "      <th>BOW_clean</th>\n",
       "    </tr>\n",
       "  </thead>\n",
       "  <tbody>\n",
       "    <tr>\n",
       "      <th>0</th>\n",
       "      <td>0110-5784fec9-109a-4d7a-a343-4820f4d42144</td>\n",
       "      <td>0</td>\n",
       "      <td>two blue blocks left right side left right line two red block top left blue block placed two red block one space apart right line one blue block top red block left red line red block top left red block  left red line place blue block middle stack two red left side blue block left red line place blue block highest red stick right side right red line place one red block two space away line step three left side two spaces apart two red blocks right red line place one blue block top red block blue blocks meet touch  left red line two blue block placed right left red line top far left left blue block place two red blocks stacked right red line place one blue block middle line right red line place two red blocks stacked top left side blue block right red line place blue block top highest red block sticks left side</td>\n",
       "    </tr>\n",
       "  </tbody>\n",
       "</table>\n",
       "</div>"
      ],
      "text/plain": [
       "                                      gameid  repNum  \\\n",
       "0  0110-5784fec9-109a-4d7a-a343-4820f4d42144       0   \n",
       "\n",
       "                                                                                                                                                                                                                                                                                                                                                                                                                                                                                                                                                                                                                                                                                                                                                                                                                                              BOW_clean  \n",
       "0   two blue blocks left right side left right line two red block top left blue block placed two red block one space apart right line one blue block top red block left red line red block top left red block  left red line place blue block middle stack two red left side blue block left red line place blue block highest red stick right side right red line place one red block two space away line step three left side two spaces apart two red blocks right red line place one blue block top red block blue blocks meet touch  left red line two blue block placed right left red line top far left left blue block place two red blocks stacked right red line place one blue block middle line right red line place two red blocks stacked top left side blue block right red line place blue block top highest red block sticks left side  "
      ]
     },
     "execution_count": 14,
     "metadata": {},
     "output_type": "execute_result"
    }
   ],
   "source": [
    "df_grouped = df.groupby(['gameid','repNum'])['BOW_clean'].apply(lambda x: ' '.join(x)).reset_index()\n",
    "df_grouped.head(1)"
   ]
  },
  {
   "cell_type": "markdown",
   "metadata": {},
   "source": [
    "## Isolate words for specific tower within rep and within dyad"
   ]
  },
  {
   "cell_type": "code",
   "execution_count": 19,
   "metadata": {},
   "outputs": [
    {
     "name": "stdout",
     "output_type": "stream",
     "text": [
      "(96, 8)\n"
     ]
    },
    {
     "data": {
      "text/html": [
       "<div>\n",
       "<style scoped>\n",
       "    .dataframe tbody tr th:only-of-type {\n",
       "        vertical-align: middle;\n",
       "    }\n",
       "\n",
       "    .dataframe tbody tr th {\n",
       "        vertical-align: top;\n",
       "    }\n",
       "\n",
       "    .dataframe thead th {\n",
       "        text-align: right;\n",
       "    }\n",
       "</style>\n",
       "<table border=\"1\" class=\"dataframe\">\n",
       "  <thead>\n",
       "    <tr style=\"text-align: right;\">\n",
       "      <th></th>\n",
       "      <th>gameid</th>\n",
       "      <th>repNum</th>\n",
       "      <th>tower</th>\n",
       "      <th>tower_specific_words</th>\n",
       "      <th>tower_total_words</th>\n",
       "      <th>rep_total_words</th>\n",
       "      <th>tower_specific_length</th>\n",
       "      <th>tower_specific_prop</th>\n",
       "    </tr>\n",
       "  </thead>\n",
       "  <tbody>\n",
       "    <tr>\n",
       "      <th>0</th>\n",
       "      <td>0110-5784fec9-109a-4d7a-a343-4820f4d42144</td>\n",
       "      <td>0</td>\n",
       "      <td>C</td>\n",
       "      <td>[place, highest, middle]</td>\n",
       "      <td>28</td>\n",
       "      <td>28</td>\n",
       "      <td>3</td>\n",
       "      <td>0.107143</td>\n",
       "    </tr>\n",
       "    <tr>\n",
       "      <th>1</th>\n",
       "      <td>0110-5784fec9-109a-4d7a-a343-4820f4d42144</td>\n",
       "      <td>3</td>\n",
       "      <td>C</td>\n",
       "      <td>[highest, faces]</td>\n",
       "      <td>19</td>\n",
       "      <td>19</td>\n",
       "      <td>2</td>\n",
       "      <td>0.105263</td>\n",
       "    </tr>\n",
       "    <tr>\n",
       "      <th>2</th>\n",
       "      <td>0208-b497c845-b076-45c9-b958-a62a3ae6e65f</td>\n",
       "      <td>0</td>\n",
       "      <td>C</td>\n",
       "      <td>[]</td>\n",
       "      <td>26</td>\n",
       "      <td>29</td>\n",
       "      <td>0</td>\n",
       "      <td>0.000000</td>\n",
       "    </tr>\n",
       "    <tr>\n",
       "      <th>3</th>\n",
       "      <td>0208-b497c845-b076-45c9-b958-a62a3ae6e65f</td>\n",
       "      <td>3</td>\n",
       "      <td>C</td>\n",
       "      <td>[one, c, tall]</td>\n",
       "      <td>12</td>\n",
       "      <td>14</td>\n",
       "      <td>3</td>\n",
       "      <td>0.214286</td>\n",
       "    </tr>\n",
       "    <tr>\n",
       "      <th>4</th>\n",
       "      <td>0662-7a9212c9-5aa7-44de-9ed7-4663c56562d2</td>\n",
       "      <td>0</td>\n",
       "      <td>C</td>\n",
       "      <td>[vert, c, three]</td>\n",
       "      <td>32</td>\n",
       "      <td>44</td>\n",
       "      <td>3</td>\n",
       "      <td>0.068182</td>\n",
       "    </tr>\n",
       "    <tr>\n",
       "      <th>5</th>\n",
       "      <td>0662-7a9212c9-5aa7-44de-9ed7-4663c56562d2</td>\n",
       "      <td>3</td>\n",
       "      <td>C</td>\n",
       "      <td>[c, long, three]</td>\n",
       "      <td>12</td>\n",
       "      <td>13</td>\n",
       "      <td>3</td>\n",
       "      <td>0.230769</td>\n",
       "    </tr>\n",
       "    <tr>\n",
       "      <th>6</th>\n",
       "      <td>0738-513adaa7-2548-44a4-8d01-7e2fb3ecbfd4</td>\n",
       "      <td>0</td>\n",
       "      <td>C</td>\n",
       "      <td>[that]</td>\n",
       "      <td>34</td>\n",
       "      <td>38</td>\n",
       "      <td>1</td>\n",
       "      <td>0.026316</td>\n",
       "    </tr>\n",
       "    <tr>\n",
       "      <th>7</th>\n",
       "      <td>0738-513adaa7-2548-44a4-8d01-7e2fb3ecbfd4</td>\n",
       "      <td>3</td>\n",
       "      <td>C</td>\n",
       "      <td>[c, tall]</td>\n",
       "      <td>12</td>\n",
       "      <td>12</td>\n",
       "      <td>2</td>\n",
       "      <td>0.166667</td>\n",
       "    </tr>\n",
       "    <tr>\n",
       "      <th>8</th>\n",
       "      <td>0741-0d5c3f38-e1fa-4a05-9f35-4a81c7cdbd71</td>\n",
       "      <td>0</td>\n",
       "      <td>C</td>\n",
       "      <td>[go, middle]</td>\n",
       "      <td>26</td>\n",
       "      <td>32</td>\n",
       "      <td>2</td>\n",
       "      <td>0.062500</td>\n",
       "    </tr>\n",
       "    <tr>\n",
       "      <th>9</th>\n",
       "      <td>0741-0d5c3f38-e1fa-4a05-9f35-4a81c7cdbd71</td>\n",
       "      <td>3</td>\n",
       "      <td>C</td>\n",
       "      <td>[going, middle]</td>\n",
       "      <td>27</td>\n",
       "      <td>31</td>\n",
       "      <td>2</td>\n",
       "      <td>0.064516</td>\n",
       "    </tr>\n",
       "    <tr>\n",
       "      <th>10</th>\n",
       "      <td>1494-029e2297-bd3f-4cfe-be00-d06d36724e4e</td>\n",
       "      <td>0</td>\n",
       "      <td>C</td>\n",
       "      <td>[grid, second, bottom]</td>\n",
       "      <td>32</td>\n",
       "      <td>41</td>\n",
       "      <td>3</td>\n",
       "      <td>0.073171</td>\n",
       "    </tr>\n",
       "    <tr>\n",
       "      <th>11</th>\n",
       "      <td>1494-029e2297-bd3f-4cfe-be00-d06d36724e4e</td>\n",
       "      <td>3</td>\n",
       "      <td>C</td>\n",
       "      <td>[third, cshape]</td>\n",
       "      <td>11</td>\n",
       "      <td>11</td>\n",
       "      <td>2</td>\n",
       "      <td>0.181818</td>\n",
       "    </tr>\n",
       "    <tr>\n",
       "      <th>12</th>\n",
       "      <td>1690-8f854c73-420c-4820-b76f-2c2ac28a3035</td>\n",
       "      <td>0</td>\n",
       "      <td>C</td>\n",
       "      <td>[centered, stacked, hanging, bottom, placed, perfectly, direction, edge]</td>\n",
       "      <td>27</td>\n",
       "      <td>34</td>\n",
       "      <td>8</td>\n",
       "      <td>0.235294</td>\n",
       "    </tr>\n",
       "    <tr>\n",
       "      <th>13</th>\n",
       "      <td>1690-8f854c73-420c-4820-b76f-2c2ac28a3035</td>\n",
       "      <td>3</td>\n",
       "      <td>C</td>\n",
       "      <td>[centered, direction]</td>\n",
       "      <td>20</td>\n",
       "      <td>20</td>\n",
       "      <td>2</td>\n",
       "      <td>0.100000</td>\n",
       "    </tr>\n",
       "    <tr>\n",
       "      <th>14</th>\n",
       "      <td>2083-6615b44d-57a8-4953-beca-afa15df0c195</td>\n",
       "      <td>0</td>\n",
       "      <td>C</td>\n",
       "      <td>[dash, block, red, middle, stack]</td>\n",
       "      <td>40</td>\n",
       "      <td>44</td>\n",
       "      <td>5</td>\n",
       "      <td>0.113636</td>\n",
       "    </tr>\n",
       "    <tr>\n",
       "      <th>15</th>\n",
       "      <td>2083-6615b44d-57a8-4953-beca-afa15df0c195</td>\n",
       "      <td>3</td>\n",
       "      <td>C</td>\n",
       "      <td>[shape, c, blocks, gameboard, two]</td>\n",
       "      <td>19</td>\n",
       "      <td>22</td>\n",
       "      <td>5</td>\n",
       "      <td>0.227273</td>\n",
       "    </tr>\n",
       "    <tr>\n",
       "      <th>16</th>\n",
       "      <td>2391-2f396ec8-517f-4681-b366-51f930bcac22</td>\n",
       "      <td>0</td>\n",
       "      <td>C</td>\n",
       "      <td>[going, side, leftward]</td>\n",
       "      <td>22</td>\n",
       "      <td>26</td>\n",
       "      <td>3</td>\n",
       "      <td>0.115385</td>\n",
       "    </tr>\n",
       "    <tr>\n",
       "      <th>17</th>\n",
       "      <td>2391-2f396ec8-517f-4681-b366-51f930bcac22</td>\n",
       "      <td>3</td>\n",
       "      <td>C</td>\n",
       "      <td>[]</td>\n",
       "      <td>19</td>\n",
       "      <td>20</td>\n",
       "      <td>0</td>\n",
       "      <td>0.000000</td>\n",
       "    </tr>\n",
       "    <tr>\n",
       "      <th>18</th>\n",
       "      <td>2409-8e3cd70d-3066-4782-9d23-e3fecd179ac1</td>\n",
       "      <td>0</td>\n",
       "      <td>C</td>\n",
       "      <td>[]</td>\n",
       "      <td>23</td>\n",
       "      <td>32</td>\n",
       "      <td>0</td>\n",
       "      <td>0.000000</td>\n",
       "    </tr>\n",
       "    <tr>\n",
       "      <th>19</th>\n",
       "      <td>2409-8e3cd70d-3066-4782-9d23-e3fecd179ac1</td>\n",
       "      <td>3</td>\n",
       "      <td>C</td>\n",
       "      <td>[six]</td>\n",
       "      <td>13</td>\n",
       "      <td>13</td>\n",
       "      <td>1</td>\n",
       "      <td>0.076923</td>\n",
       "    </tr>\n",
       "  </tbody>\n",
       "</table>\n",
       "</div>"
      ],
      "text/plain": [
       "                                       gameid  repNum tower  \\\n",
       "0   0110-5784fec9-109a-4d7a-a343-4820f4d42144       0     C   \n",
       "1   0110-5784fec9-109a-4d7a-a343-4820f4d42144       3     C   \n",
       "2   0208-b497c845-b076-45c9-b958-a62a3ae6e65f       0     C   \n",
       "3   0208-b497c845-b076-45c9-b958-a62a3ae6e65f       3     C   \n",
       "4   0662-7a9212c9-5aa7-44de-9ed7-4663c56562d2       0     C   \n",
       "5   0662-7a9212c9-5aa7-44de-9ed7-4663c56562d2       3     C   \n",
       "6   0738-513adaa7-2548-44a4-8d01-7e2fb3ecbfd4       0     C   \n",
       "7   0738-513adaa7-2548-44a4-8d01-7e2fb3ecbfd4       3     C   \n",
       "8   0741-0d5c3f38-e1fa-4a05-9f35-4a81c7cdbd71       0     C   \n",
       "9   0741-0d5c3f38-e1fa-4a05-9f35-4a81c7cdbd71       3     C   \n",
       "10  1494-029e2297-bd3f-4cfe-be00-d06d36724e4e       0     C   \n",
       "11  1494-029e2297-bd3f-4cfe-be00-d06d36724e4e       3     C   \n",
       "12  1690-8f854c73-420c-4820-b76f-2c2ac28a3035       0     C   \n",
       "13  1690-8f854c73-420c-4820-b76f-2c2ac28a3035       3     C   \n",
       "14  2083-6615b44d-57a8-4953-beca-afa15df0c195       0     C   \n",
       "15  2083-6615b44d-57a8-4953-beca-afa15df0c195       3     C   \n",
       "16  2391-2f396ec8-517f-4681-b366-51f930bcac22       0     C   \n",
       "17  2391-2f396ec8-517f-4681-b366-51f930bcac22       3     C   \n",
       "18  2409-8e3cd70d-3066-4782-9d23-e3fecd179ac1       0     C   \n",
       "19  2409-8e3cd70d-3066-4782-9d23-e3fecd179ac1       3     C   \n",
       "\n",
       "                                                        tower_specific_words  \\\n",
       "0                                                   [place, highest, middle]   \n",
       "1                                                           [highest, faces]   \n",
       "2                                                                         []   \n",
       "3                                                             [one, c, tall]   \n",
       "4                                                           [vert, c, three]   \n",
       "5                                                           [c, long, three]   \n",
       "6                                                                     [that]   \n",
       "7                                                                  [c, tall]   \n",
       "8                                                               [go, middle]   \n",
       "9                                                            [going, middle]   \n",
       "10                                                    [grid, second, bottom]   \n",
       "11                                                           [third, cshape]   \n",
       "12  [centered, stacked, hanging, bottom, placed, perfectly, direction, edge]   \n",
       "13                                                     [centered, direction]   \n",
       "14                                         [dash, block, red, middle, stack]   \n",
       "15                                        [shape, c, blocks, gameboard, two]   \n",
       "16                                                   [going, side, leftward]   \n",
       "17                                                                        []   \n",
       "18                                                                        []   \n",
       "19                                                                     [six]   \n",
       "\n",
       "    tower_total_words  rep_total_words  tower_specific_length  \\\n",
       "0                  28               28                      3   \n",
       "1                  19               19                      2   \n",
       "2                  26               29                      0   \n",
       "3                  12               14                      3   \n",
       "4                  32               44                      3   \n",
       "5                  12               13                      3   \n",
       "6                  34               38                      1   \n",
       "7                  12               12                      2   \n",
       "8                  26               32                      2   \n",
       "9                  27               31                      2   \n",
       "10                 32               41                      3   \n",
       "11                 11               11                      2   \n",
       "12                 27               34                      8   \n",
       "13                 20               20                      2   \n",
       "14                 40               44                      5   \n",
       "15                 19               22                      5   \n",
       "16                 22               26                      3   \n",
       "17                 19               20                      0   \n",
       "18                 23               32                      0   \n",
       "19                 13               13                      1   \n",
       "\n",
       "    tower_specific_prop  \n",
       "0              0.107143  \n",
       "1              0.105263  \n",
       "2              0.000000  \n",
       "3              0.214286  \n",
       "4              0.068182  \n",
       "5              0.230769  \n",
       "6              0.026316  \n",
       "7              0.166667  \n",
       "8              0.062500  \n",
       "9              0.064516  \n",
       "10             0.073171  \n",
       "11             0.181818  \n",
       "12             0.235294  \n",
       "13             0.100000  \n",
       "14             0.113636  \n",
       "15             0.227273  \n",
       "16             0.115385  \n",
       "17             0.000000  \n",
       "18             0.000000  \n",
       "19             0.076923  "
      ]
     },
     "execution_count": 19,
     "metadata": {},
     "output_type": "execute_result"
    }
   ],
   "source": [
    "#ISOLATE TOWER 1\n",
    "target_tower = 'C'\n",
    "tower2 = 'L'\n",
    "tower3 = 'P'\n",
    "\n",
    "reps = [0,3]\n",
    "gameids = df['gameid'].unique()\n",
    "results = []\n",
    "for game in gameids:\n",
    "    for rep in reps:\n",
    "        target_words_1 = df.loc[(df[target_tower] == 1) & (df[tower2] == 1) & (df['gameid'] == game), 'BOW_clean'].iloc[rep].split()\n",
    "        target_words_2 = df.loc[(df[target_tower] == 1) & (df[tower3] == 1) & (df['gameid'] == game), 'BOW_clean'].iloc[rep].split()\n",
    "        non_target_words = df.loc[(df[tower2] == 1) & (df[tower3] == 1) & (df['gameid'] == game), 'BOW_clean'].iloc[rep].split()\n",
    "        \n",
    "        total_words = set(target_words_1 + target_words_2 + non_target_words)\n",
    "        total_target_words = set(target_words_1 + target_words_2)\n",
    "        \n",
    "        target_specific_1 = list(set(target_words_1) - set(non_target_words))\n",
    "        target_specific_2 = list(set(target_words_2) - set(non_target_words))\n",
    "        specific_words = list(set(target_specific_1) & set(target_specific_2))\n",
    "\n",
    "\n",
    "        results.append([game, rep, target_tower, specific_words, len(total_target_words),len(total_words)])\n",
    "  \n",
    "  \n",
    "# # Create the pandas DataFrame  \n",
    "df_intersection = pd.DataFrame(results, columns = ['gameid', 'repNum','tower','tower_specific_words', 'tower_total_words','rep_total_words'])\n",
    "\n",
    "df_intersection['tower_specific_length'] = df_intersection['tower_specific_words'].apply(lambda x: len(x))\n",
    "df_intersection['tower_specific_prop'] = df_intersection['tower_specific_length'] / df_intersection['rep_total_words']\n",
    "print(df_intersection.shape)\n",
    "df_intersection.head(20)\n"
   ]
  },
  {
   "cell_type": "markdown",
   "metadata": {},
   "source": [
    "### plot histogram of change in prop of tower-specific words"
   ]
  },
  {
   "cell_type": "code",
   "execution_count": 57,
   "metadata": {},
   "outputs": [],
   "source": [
    "diffs = []\n",
    "for game in df_intersection.gameid.unique():\n",
    "    diffs.append(df_intersection.loc[(df_intersection['gameid'] == game), 'tower_specific_prop'].iloc[1] - \n",
    "                df_intersection.loc[(df_intersection['gameid'] == game), 'tower_specific_prop'].iloc[0])"
   ]
  },
  {
   "cell_type": "code",
   "execution_count": 58,
   "metadata": {},
   "outputs": [
    {
     "name": "stdout",
     "output_type": "stream",
     "text": [
      "48\n",
      "28\n"
     ]
    }
   ],
   "source": [
    "print(len(diffs))\n",
    "pos = [element for element in diffs if element>0]\n",
    "print(len(pos))"
   ]
  },
  {
   "cell_type": "code",
   "execution_count": 59,
   "metadata": {},
   "outputs": [
    {
     "data": {
      "text/plain": [
       "0.028245967292116262"
      ]
     },
     "execution_count": 59,
     "metadata": {},
     "output_type": "execute_result"
    }
   ],
   "source": [
    "np.mean(diffs)"
   ]
  },
  {
   "cell_type": "code",
   "execution_count": 60,
   "metadata": {},
   "outputs": [
    {
     "data": {
      "image/png": "[encoded data removed]",
      "text/plain": [
       "<Figure size 432x288 with 1 Axes>"
      ]
     },
     "metadata": {
      "needs_background": "light"
     },
     "output_type": "display_data"
    }
   ],
   "source": [
    "data = diffs\n",
    "\n",
    "# fixed bin size\n",
    "\n",
    "plt.hist(data, alpha=0.8)\n",
    "plt.title('Diff in proportion of \"L\" tower-specific  words')\n",
    "plt.xlabel('(rep 3 proportion - rep 0 proportion)')\n",
    "plt.ylabel('count')\n",
    "\n",
    "plt.show()"
   ]
  },
  {
   "cell_type": "code",
   "execution_count": 24,
   "metadata": {
    "scrolled": true
   },
   "outputs": [
    {
     "name": "stdout",
     "output_type": "stream",
     "text": [
      "53\n"
     ]
    },
    {
     "data": {
      "text/plain": [
       "[('C', 13), ('blue', 4), ('red', 4), ('third', 3), ('top', 3)]"
      ]
     },
     "execution_count": 24,
     "metadata": {},
     "output_type": "execute_result"
    }
   ],
   "source": [
    "s = df_intersection[df_intersection['repNum'] == 3]['tower_specific_words']\n",
    "l = [element for list_ in s for element in list_]\n",
    "counts = Counter(l)\n",
    "print(len(counts.keys()))\n",
    "counts.most_common()[:5]\n"
   ]
  },
  {
   "cell_type": "code",
   "execution_count": 25,
   "metadata": {},
   "outputs": [
    {
     "data": {
      "image/png": "[encoded data removed]",
      "text/plain": [
       "<Figure size 800x400 with 1 Axes>"
      ]
     },
     "metadata": {},
     "output_type": "display_data"
    }
   ],
   "source": [
    "labels, values = zip(*counts.items())\n",
    "\n",
    "# sort your values in descending order\n",
    "indSort = np.argsort(values)[::-1]\n",
    "\n",
    "from matplotlib.pyplot import figure\n",
    "figure(num=None, figsize=(10, 5), dpi=80, facecolor='w', edgecolor='k')\n",
    "x_limit = 30\n",
    "\n",
    "# rearrange your data\n",
    "labels = np.array(labels)[indSort][:x_limit]\n",
    "values = np.array(values)[indSort][:x_limit]\n",
    "\n",
    "indexes = np.arange(len(labels))\n",
    "\n",
    "bar_width = 0.35\n",
    "\n",
    "plt.bar(indexes, values)\n",
    "\n",
    "# add labels\n",
    "plt.xticks(indexes + bar_width, labels,  rotation='vertical')\n",
    "plt.show()"
   ]
  },
  {
   "cell_type": "code",
   "execution_count": null,
   "metadata": {},
   "outputs": [],
   "source": []
  }
 ],
 "metadata": {
  "kernelspec": {
   "display_name": "Python 3",
   "language": "python",
   "name": "python3"
  },
  "language_info": {
   "codemirror_mode": {
    "name": "ipython",
    "version": 3
   },
   "file_extension": ".py",
   "mimetype": "text/x-python",
   "name": "python",
   "nbconvert_exporter": "python",
   "pygments_lexer": "ipython3",
   "version": "3.7.6"
  }
 },
 "nbformat": 4,
 "nbformat_minor": 4
}
