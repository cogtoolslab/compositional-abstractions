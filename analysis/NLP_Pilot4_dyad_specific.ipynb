{
 "cells": [
  {
   "cell_type": "markdown",
   "metadata": {},
   "source": [
    "# Exploratory NLP on chat messages in pilot data"
   ]
  },
  {
   "cell_type": "markdown",
   "metadata": {},
   "source": [
    "To do:\n",
    "-- try different tokenizer to deal with punctuation?\n",
    "-- bag of tower model (tower pairs: group L/C and C/L)\n",
    "    for each pair, compare first and last occurance of a specific BOT\n",
    "    interested in words that drop out and words that increase in frequency\n",
    "-- fix dictionary to be union not intersection\n",
    "-- TFIDF for tower specific \n",
    "    what are the specific words we use to describe tower pairs\n",
    "-- condition on rep 1, use same langauge for all three items, do subjects disambiguate by the later trials\n",
    "\n",
    "-- compare probability of words for L-pi and L-C in early and late stages (factor out the \"L\") \n",
    "\n",
    "[X] try tf-idf with LC as doc 1 and LP,CP combined as doc 2 in final rep "
   ]
  },
  {
   "cell_type": "markdown",
   "metadata": {},
   "source": [
    "https://en.wikipedia.org/wiki/Pointwise_mutual_information\n",
    "    \n",
    "calculate PMI for all words for all dyads\n",
    "\n",
    "for each dyad, get PMI distribution for each towerset permutation (compare PL/CP, PL/CL, CP/CL) in first rep \n",
    "take average of this PMI (so three summary measures) then do this again for the last rep\n",
    "\n",
    "TF-IDF first and last\n",
    "\n",
    "-------------------------\n",
    "Spacy lemmatizer, numbers to text\n",
    "\n",
    "Calculate new column (prop of L specifc over all words in rep)\n",
    "\n",
    "Proportion of \"L\" specific words in LP and LC (i.e. changing the denominator to only be towersets with L) -- then average for each dyad across the two towers\n",
    "\n",
    "Also column for raw count of L specifc words\n",
    "\n",
    "plot histogram of differences between rep 0 and rep 3\n",
    "\n"
   ]
  },
  {
   "cell_type": "markdown",
   "metadata": {},
   "source": [
    "## Import packages"
   ]
  },
  {
   "cell_type": "code",
   "execution_count": 9,
   "metadata": {},
   "outputs": [],
   "source": [
    "from nltk.corpus import stopwords\n",
    "from nltk.tokenize import word_tokenize\n",
    "from nltk.stem import WordNetLemmatizer, SnowballStemmer\n",
    "from nltk.stem.porter import *\n",
    "from collections import Counter\n",
    "from num2words import num2words\n",
    "import gensim\n",
    "from gensim.utils import simple_preprocess\n",
    "from gensim.parsing.preprocessing import STOPWORDS\n",
    "from gensim import matutils, models\n",
    "import matplotlib.pyplot as plt\n",
    "\n",
    "import nltk\n",
    "import os\n",
    "import string\n",
    "import numpy as np\n",
    "import copy\n",
    "import pandas as pd\n",
    "pd.set_option('display.max_colwidth', 1000)\n",
    "import pickle\n",
    "import re\n",
    "import math\n",
    "\n",
    "\n",
    "stemmer = SnowballStemmer(\"english\")"
   ]
  },
  {
   "cell_type": "markdown",
   "metadata": {},
   "source": [
    "## Import data frames (generated in DF_generator script from mongoDB)"
   ]
  },
  {
   "cell_type": "code",
   "execution_count": 10,
   "metadata": {},
   "outputs": [
    {
     "name": "stdout",
     "output_type": "stream",
     "text": [
      "(3066, 21)\n",
      "Dyads: 71\n"
     ]
    }
   ],
   "source": [
    "df_chat = pd.read_csv('df_chat.csv')\n",
    "print(df_chat.shape)\n",
    "print(\"Dyads:\",len(df_chat.gameid.unique()))"
   ]
  },
  {
   "cell_type": "markdown",
   "metadata": {},
   "source": [
    "### Check exclusion criteria"
   ]
  },
  {
   "cell_type": "code",
   "execution_count": 11,
   "metadata": {},
   "outputs": [
    {
     "name": "stdout",
     "output_type": "stream",
     "text": [
      "Total dyads achieving 75% Accuracy on 75% of trials: 48\n"
     ]
    }
   ],
   "source": [
    "df_trial = pd.read_csv('df_trial.csv')\n",
    "df75 = pd.DataFrame(df_trial.groupby(['gameid', 'trialNum'])['trialScore'].sum()>75).groupby(['gameid']).sum()\n",
    "df75['trials'] = df75['trialScore']\n",
    "\n",
    "#delete rows that aren't greater than 75% in 9 trials\n",
    "df75 = df75[df75['trials']>=9]\n",
    "\n",
    "print(\"Total dyads achieving 75% Accuracy on 75% of trials:\",len(df75))"
   ]
  },
  {
   "cell_type": "markdown",
   "metadata": {},
   "source": [
    "### Remove dyads that did not pass exclusion criteria"
   ]
  },
  {
   "cell_type": "code",
   "execution_count": 12,
   "metadata": {},
   "outputs": [
    {
     "name": "stdout",
     "output_type": "stream",
     "text": [
      "(2223, 21)\n",
      "Passed Dyads: 48\n"
     ]
    }
   ],
   "source": [
    "keep_id = df75.index.tolist()\n",
    "keep_id\n",
    "df = df_chat[df_chat['gameid'].isin(keep_id)]\n",
    "print(df.shape)\n",
    "print(\"Passed Dyads:\",len(df.gameid.unique()))"
   ]
  },
  {
   "cell_type": "code",
   "execution_count": 13,
   "metadata": {},
   "outputs": [
    {
     "data": {
      "text/html": [
       "<div>\n",
       "<style scoped>\n",
       "    .dataframe tbody tr th:only-of-type {\n",
       "        vertical-align: middle;\n",
       "    }\n",
       "\n",
       "    .dataframe tbody tr th {\n",
       "        vertical-align: top;\n",
       "    }\n",
       "\n",
       "    .dataframe thead th {\n",
       "        text-align: right;\n",
       "    }\n",
       "</style>\n",
       "<table border=\"1\" class=\"dataframe\">\n",
       "  <thead>\n",
       "    <tr style=\"text-align: right;\">\n",
       "      <th></th>\n",
       "      <th>gameid</th>\n",
       "      <th>repNum</th>\n",
       "      <th>content</th>\n",
       "      <th>trialNum</th>\n",
       "      <th>C</th>\n",
       "      <th>L</th>\n",
       "      <th>P</th>\n",
       "    </tr>\n",
       "  </thead>\n",
       "  <tbody>\n",
       "    <tr>\n",
       "      <th>2</th>\n",
       "      <td>1494-029e2297-bd3f-4cfe-be00-d06d36724e4e</td>\n",
       "      <td>0</td>\n",
       "      <td>put a blue block three from the left~~~</td>\n",
       "      <td>0</td>\n",
       "      <td>1</td>\n",
       "      <td>0</td>\n",
       "      <td>1</td>\n",
       "    </tr>\n",
       "    <tr>\n",
       "      <th>3</th>\n",
       "      <td>1494-029e2297-bd3f-4cfe-be00-d06d36724e4e</td>\n",
       "      <td>0</td>\n",
       "      <td>place a red block on top of the left side of the blue block and then another red on top of that red</td>\n",
       "      <td>0</td>\n",
       "      <td>1</td>\n",
       "      <td>0</td>\n",
       "      <td>1</td>\n",
       "    </tr>\n",
       "  </tbody>\n",
       "</table>\n",
       "</div>"
      ],
      "text/plain": [
       "                                      gameid  repNum  \\\n",
       "2  1494-029e2297-bd3f-4cfe-be00-d06d36724e4e       0   \n",
       "3  1494-029e2297-bd3f-4cfe-be00-d06d36724e4e       0   \n",
       "\n",
       "                                                                                               content  \\\n",
       "2                                                             put a blue block three from the left~~~    \n",
       "3  place a red block on top of the left side of the blue block and then another red on top of that red   \n",
       "\n",
       "  trialNum  C  L  P  \n",
       "2        0  1  0  1  \n",
       "3        0  1  0  1  "
      ]
     },
     "execution_count": 13,
     "metadata": {},
     "output_type": "execute_result"
    }
   ],
   "source": [
    "df = df[['gameid','repNum','content','trialNum', 'leftTarget', 'rightTarget']]\n",
    "df = df[df.trialNum != 'practice']\n",
    "df = df[df.repNum != 'practice']\n",
    "df['repNum'] = df['repNum'].astype(int)\n",
    "df['C'] = (df['leftTarget'] + df['rightTarget']).apply(lambda x: 1 if 'C' in x   else 0)\n",
    "df['L'] = (df['leftTarget'] + df['rightTarget']).apply(lambda x: 1 if 'L' in x   else 0)\n",
    "df['P'] = (df['leftTarget'] + df['rightTarget']).apply(lambda x: 1 if 'Pi' in x   else 0)\n",
    "df = df.drop(['leftTarget', 'rightTarget'],axis = 1)\n",
    "df.head(2)\n"
   ]
  },
  {
   "cell_type": "markdown",
   "metadata": {},
   "source": [
    "## Create Bag of Words for each repNum by concatenating content\n",
    "create df with column for repnum and column for entire string grouped by repnum"
   ]
  },
  {
   "cell_type": "code",
   "execution_count": 14,
   "metadata": {},
   "outputs": [
    {
     "name": "stdout",
     "output_type": "stream",
     "text": [
      "(576, 6)\n"
     ]
    },
    {
     "data": {
      "text/html": [
       "<div>\n",
       "<style scoped>\n",
       "    .dataframe tbody tr th:only-of-type {\n",
       "        vertical-align: middle;\n",
       "    }\n",
       "\n",
       "    .dataframe tbody tr th {\n",
       "        vertical-align: top;\n",
       "    }\n",
       "\n",
       "    .dataframe thead th {\n",
       "        text-align: right;\n",
       "    }\n",
       "</style>\n",
       "<table border=\"1\" class=\"dataframe\">\n",
       "  <thead>\n",
       "    <tr style=\"text-align: right;\">\n",
       "      <th></th>\n",
       "      <th>gameid</th>\n",
       "      <th>repNum</th>\n",
       "      <th>C</th>\n",
       "      <th>L</th>\n",
       "      <th>P</th>\n",
       "      <th>content</th>\n",
       "    </tr>\n",
       "  </thead>\n",
       "  <tbody>\n",
       "    <tr>\n",
       "      <th>0</th>\n",
       "      <td>0110-5784fec9-109a-4d7a-a343-4820f4d42144</td>\n",
       "      <td>0</td>\n",
       "      <td>0</td>\n",
       "      <td>1</td>\n",
       "      <td>1</td>\n",
       "      <td>two blue blocks on left and right side of left right line  two red block on top of left blue block just placed down  two red block one space apart on right line one blue block on top red block on left red line, on more red block on top of left red block</td>\n",
       "    </tr>\n",
       "    <tr>\n",
       "      <th>1</th>\n",
       "      <td>0110-5784fec9-109a-4d7a-a343-4820f4d42144</td>\n",
       "      <td>0</td>\n",
       "      <td>1</td>\n",
       "      <td>0</td>\n",
       "      <td>1</td>\n",
       "      <td>for left red line, place blue block in the middle then stack two red on left side of that blue block for left red line, place blue block on highest red so it stick out on the right side for right red line, place one red block two space away from that line,  same as step 3, but on the left side, so there is two spaces apart between those two red blocks for right red line, place one blue block on top of each red block so the blue blocks meet/touch</td>\n",
       "    </tr>\n",
       "  </tbody>\n",
       "</table>\n",
       "</div>"
      ],
      "text/plain": [
       "                                      gameid  repNum  C  L  P  \\\n",
       "0  0110-5784fec9-109a-4d7a-a343-4820f4d42144       0  0  1  1   \n",
       "1  0110-5784fec9-109a-4d7a-a343-4820f4d42144       0  1  0  1   \n",
       "\n",
       "                                                                                                                                                                                                                                                                                                                                                                                                                                                              content  \n",
       "0                                                                                                                                                                                                       two blue blocks on left and right side of left right line  two red block on top of left blue block just placed down  two red block one space apart on right line one blue block on top red block on left red line, on more red block on top of left red block  \n",
       "1  for left red line, place blue block in the middle then stack two red on left side of that blue block for left red line, place blue block on highest red so it stick out on the right side for right red line, place one red block two space away from that line,  same as step 3, but on the left side, so there is two spaces apart between those two red blocks for right red line, place one blue block on top of each red block so the blue blocks meet/touch   "
      ]
     },
     "execution_count": 14,
     "metadata": {},
     "output_type": "execute_result"
    }
   ],
   "source": [
    "# df['BOW'] = df[['repNum','C','L','Pi','content']].groupby(['repNum','C','L','Pi'])['content'].transform(lambda x: ' '.join(x))\n",
    "# df = df[['repNum','C','L','Pi','BOW']]\n",
    "df = df.groupby(['gameid','repNum','C','L','P'])['content'].apply(lambda x: ' '.join(x)).reset_index()\n",
    "\n",
    "print(df.shape)\n",
    "df.head(2)"
   ]
  },
  {
   "cell_type": "markdown",
   "metadata": {},
   "source": [
    "### Remove stopwords"
   ]
  },
  {
   "cell_type": "code",
   "execution_count": 15,
   "metadata": {},
   "outputs": [],
   "source": [
    "from nltk.corpus import stopwords\n",
    "stop = stopwords.words('english')\n",
    "df['BOW_clean'] = df['content'].apply(lambda x: ' '.join([word for word in x.split() if word not in (stop)]))"
   ]
  },
  {
   "cell_type": "code",
   "execution_count": 95,
   "metadata": {},
   "outputs": [
    {
     "data": {
      "text/html": [
       "<div>\n",
       "<style scoped>\n",
       "    .dataframe tbody tr th:only-of-type {\n",
       "        vertical-align: middle;\n",
       "    }\n",
       "\n",
       "    .dataframe tbody tr th {\n",
       "        vertical-align: top;\n",
       "    }\n",
       "\n",
       "    .dataframe thead th {\n",
       "        text-align: right;\n",
       "    }\n",
       "</style>\n",
       "<table border=\"1\" class=\"dataframe\">\n",
       "  <thead>\n",
       "    <tr style=\"text-align: right;\">\n",
       "      <th></th>\n",
       "      <th>gameid</th>\n",
       "      <th>repNum</th>\n",
       "      <th>C</th>\n",
       "      <th>L</th>\n",
       "      <th>P</th>\n",
       "      <th>content</th>\n",
       "      <th>BOW_clean</th>\n",
       "      <th>BOW_lemmatized</th>\n",
       "    </tr>\n",
       "  </thead>\n",
       "  <tbody>\n",
       "    <tr>\n",
       "      <th>0</th>\n",
       "      <td>0110-5784fec9-109a-4d7a-a343-4820f4d42144</td>\n",
       "      <td>0</td>\n",
       "      <td>0</td>\n",
       "      <td>1</td>\n",
       "      <td>1</td>\n",
       "      <td>two blue blocks on left and right side of left right line  two red block on top of left blue block just placed down  two red block one space apart on right line one blue block on top red block on left red line, on more red block on top of left red block</td>\n",
       "      <td>two blue blocks left right side left right line two red block top left blue block placed two red block one space apart right line one blue block top red block left red line red block top left red block</td>\n",
       "      <td>[two, blue, block, left, right, side, left, right, line, two, red, block, top, left, blue, block, placed, two, red, block, one, space, apart, right, line, one, blue, block, top, red, block, left, red, line, red, block, top, left, red, block]</td>\n",
       "    </tr>\n",
       "    <tr>\n",
       "      <th>1</th>\n",
       "      <td>0110-5784fec9-109a-4d7a-a343-4820f4d42144</td>\n",
       "      <td>0</td>\n",
       "      <td>1</td>\n",
       "      <td>0</td>\n",
       "      <td>1</td>\n",
       "      <td>for left red line, place blue block in the middle then stack two red on left side of that blue block for left red line, place blue block on highest red so it stick out on the right side for right red line, place one red block two space away from that line,  same as step 3, but on the left side, so there is two spaces apart between those two red blocks for right red line, place one blue block on top of each red block so the blue blocks meet/touch</td>\n",
       "      <td>left red line place blue block middle stack two red left side blue block left red line place blue block highest red stick right side right red line place one red block two space away line step 3 left side two spaces apart two red blocks right red line place one blue block top red block blue blocks meet/touch</td>\n",
       "      <td>[left, red, line, place, blue, block, middle, stack, two, red, left, side, blue, block, left, red, line, place, blue, block, highest, red, stick, right, side, right, red, line, place, one, red, block, two, space, away, line, step, 3, left, side, two, space, apart, two, red, block, right, red, line, place, one, blue, block, top, red, block, blue, block, meet, touch]</td>\n",
       "    </tr>\n",
       "  </tbody>\n",
       "</table>\n",
       "</div>"
      ],
      "text/plain": [
       "                                      gameid  repNum  C  L  P  \\\n",
       "0  0110-5784fec9-109a-4d7a-a343-4820f4d42144       0  0  1  1   \n",
       "1  0110-5784fec9-109a-4d7a-a343-4820f4d42144       0  1  0  1   \n",
       "\n",
       "                                                                                                                                                                                                                                                                                                                                                                                                                                                              content  \\\n",
       "0                                                                                                                                                                                                       two blue blocks on left and right side of left right line  two red block on top of left blue block just placed down  two red block one space apart on right line one blue block on top red block on left red line, on more red block on top of left red block   \n",
       "1  for left red line, place blue block in the middle then stack two red on left side of that blue block for left red line, place blue block on highest red so it stick out on the right side for right red line, place one red block two space away from that line,  same as step 3, but on the left side, so there is two spaces apart between those two red blocks for right red line, place one blue block on top of each red block so the blue blocks meet/touch    \n",
       "\n",
       "                                                                                                                                                                                                                                                                                                               BOW_clean  \\\n",
       "0                                                                                                              two blue blocks left right side left right line two red block top left blue block placed two red block one space apart right line one blue block top red block left red line red block top left red block   \n",
       "1  left red line place blue block middle stack two red left side blue block left red line place blue block highest red stick right side right red line place one red block two space away line step 3 left side two spaces apart two red blocks right red line place one blue block top red block blue blocks meet/touch   \n",
       "\n",
       "                                                                                                                                                                                                                                                                                                                                                                    BOW_lemmatized  \n",
       "0                                                                                                                                [two, blue, block, left, right, side, left, right, line, two, red, block, top, left, blue, block, placed, two, red, block, one, space, apart, right, line, one, blue, block, top, red, block, left, red, line, red, block, top, left, red, block]  \n",
       "1  [left, red, line, place, blue, block, middle, stack, two, red, left, side, blue, block, left, red, line, place, blue, block, highest, red, stick, right, side, right, red, line, place, one, red, block, two, space, away, line, step, 3, left, side, two, space, apart, two, red, block, right, red, line, place, one, blue, block, top, red, block, blue, block, meet, touch]  "
      ]
     },
     "execution_count": 95,
     "metadata": {},
     "output_type": "execute_result"
    }
   ],
   "source": [
    "df['BOW_clean'] = df['BOW_clean'].str.lower()\n",
    "df['BOW_clean'] = df['BOW_clean'].str.replace(r'~', '')\n",
    "df['BOW_clean'] = df['BOW_clean'].str.replace(r'\\(', '')\n",
    "df['BOW_clean'] = df['BOW_clean'].str.replace(r'\\)', '')\n",
    "df['BOW_clean'] = df['BOW_clean'].str.replace(r'\\,', '')\n",
    "df['BOW_clean'] = df['BOW_clean'].str.replace(r\"\\'\", '')\n",
    "df['BOW_clean'] = df['BOW_clean'].str.replace(r\"\\:\", '')\n",
    "df['BOW_clean'] = df['BOW_clean'].str.replace(r'\"', '')\n",
    "df['BOW_clean'] = df['BOW_clean'].str.replace(r\"-\", '')\n",
    "df.head(2)"
   ]
  },
  {
   "cell_type": "code",
   "execution_count": 96,
   "metadata": {},
   "outputs": [
    {
     "name": "stdout",
     "output_type": "stream",
     "text": [
      "(576, 8)\n"
     ]
    },
    {
     "data": {
      "text/html": [
       "<div>\n",
       "<style scoped>\n",
       "    .dataframe tbody tr th:only-of-type {\n",
       "        vertical-align: middle;\n",
       "    }\n",
       "\n",
       "    .dataframe tbody tr th {\n",
       "        vertical-align: top;\n",
       "    }\n",
       "\n",
       "    .dataframe thead th {\n",
       "        text-align: right;\n",
       "    }\n",
       "</style>\n",
       "<table border=\"1\" class=\"dataframe\">\n",
       "  <thead>\n",
       "    <tr style=\"text-align: right;\">\n",
       "      <th></th>\n",
       "      <th>gameid</th>\n",
       "      <th>repNum</th>\n",
       "      <th>C</th>\n",
       "      <th>L</th>\n",
       "      <th>P</th>\n",
       "      <th>content</th>\n",
       "      <th>BOW_clean</th>\n",
       "      <th>BOW_lemmatized</th>\n",
       "    </tr>\n",
       "  </thead>\n",
       "  <tbody>\n",
       "    <tr>\n",
       "      <th>0</th>\n",
       "      <td>0110-5784fec9-109a-4d7a-a343-4820f4d42144</td>\n",
       "      <td>0</td>\n",
       "      <td>0</td>\n",
       "      <td>1</td>\n",
       "      <td>1</td>\n",
       "      <td>two blue blocks on left and right side of left right line  two red block on top of left blue block just placed down  two red block one space apart on right line one blue block on top red block on left red line, on more red block on top of left red block</td>\n",
       "      <td>two blue blocks left right side left right line two red block top left blue block placed two red block one space apart right line one blue block top red block left red line red block top left red block</td>\n",
       "      <td>[two, blue, block, left, right, side, left, right, line, two, red, block, top, left, blue, block, placed, two, red, block, one, space, apart, right, line, one, blue, block, top, red, block, left, red, line, red, block, top, left, red, block]</td>\n",
       "    </tr>\n",
       "    <tr>\n",
       "      <th>1</th>\n",
       "      <td>0110-5784fec9-109a-4d7a-a343-4820f4d42144</td>\n",
       "      <td>0</td>\n",
       "      <td>1</td>\n",
       "      <td>0</td>\n",
       "      <td>1</td>\n",
       "      <td>for left red line, place blue block in the middle then stack two red on left side of that blue block for left red line, place blue block on highest red so it stick out on the right side for right red line, place one red block two space away from that line,  same as step 3, but on the left side, so there is two spaces apart between those two red blocks for right red line, place one blue block on top of each red block so the blue blocks meet/touch</td>\n",
       "      <td>left red line place blue block middle stack two red left side blue block left red line place blue block highest red stick right side right red line place one red block two space away line step 3 left side two spaces apart two red blocks right red line place one blue block top red block blue blocks meet/touch</td>\n",
       "      <td>[left, red, line, place, blue, block, middle, stack, two, red, left, side, blue, block, left, red, line, place, blue, block, highest, red, stick, right, side, right, red, line, place, one, red, block, two, space, away, line, step, 3, left, side, two, space, apart, two, red, block, right, red, line, place, one, blue, block, top, red, block, blue, block, meet, touch]</td>\n",
       "    </tr>\n",
       "    <tr>\n",
       "      <th>2</th>\n",
       "      <td>0110-5784fec9-109a-4d7a-a343-4820f4d42144</td>\n",
       "      <td>0</td>\n",
       "      <td>1</td>\n",
       "      <td>1</td>\n",
       "      <td>0</td>\n",
       "      <td>for left red line, two blue block placed right against each other for left red line, on top of far left of left blue block, place two red blocks stacked on each other for right red line, place one blue block in middle of that line  for right red line, place two red blocks stacked on top of each other on left side of blue block for right red line, place blue block on top of highest red block so it sticks on on the left side</td>\n",
       "      <td>left red line two blue block placed right left red line top far left left blue block place two red blocks stacked right red line place one blue block middle line right red line place two red blocks stacked top left side blue block right red line place blue block top highest red block sticks left side</td>\n",
       "      <td>[left, red, line, two, blue, block, placed, right, left, red, line, top, far, left, left, blue, block, place, two, red, block, stacked, right, red, line, place, one, blue, block, middle, line, right, red, line, place, two, red, block, stacked, top, left, side, blue, block, right, red, line, place, blue, block, top, highest, red, block, stick, left, side]</td>\n",
       "    </tr>\n",
       "  </tbody>\n",
       "</table>\n",
       "</div>"
      ],
      "text/plain": [
       "                                      gameid  repNum  C  L  P  \\\n",
       "0  0110-5784fec9-109a-4d7a-a343-4820f4d42144       0  0  1  1   \n",
       "1  0110-5784fec9-109a-4d7a-a343-4820f4d42144       0  1  0  1   \n",
       "2  0110-5784fec9-109a-4d7a-a343-4820f4d42144       0  1  1  0   \n",
       "\n",
       "                                                                                                                                                                                                                                                                                                                                                                                                                                                              content  \\\n",
       "0                                                                                                                                                                                                       two blue blocks on left and right side of left right line  two red block on top of left blue block just placed down  two red block one space apart on right line one blue block on top red block on left red line, on more red block on top of left red block   \n",
       "1  for left red line, place blue block in the middle then stack two red on left side of that blue block for left red line, place blue block on highest red so it stick out on the right side for right red line, place one red block two space away from that line,  same as step 3, but on the left side, so there is two spaces apart between those two red blocks for right red line, place one blue block on top of each red block so the blue blocks meet/touch    \n",
       "2                          for left red line, two blue block placed right against each other for left red line, on top of far left of left blue block, place two red blocks stacked on each other for right red line, place one blue block in middle of that line  for right red line, place two red blocks stacked on top of each other on left side of blue block for right red line, place blue block on top of highest red block so it sticks on on the left side   \n",
       "\n",
       "                                                                                                                                                                                                                                                                                                               BOW_clean  \\\n",
       "0                                                                                                              two blue blocks left right side left right line two red block top left blue block placed two red block one space apart right line one blue block top red block left red line red block top left red block   \n",
       "1  left red line place blue block middle stack two red left side blue block left red line place blue block highest red stick right side right red line place one red block two space away line step 3 left side two spaces apart two red blocks right red line place one blue block top red block blue blocks meet/touch   \n",
       "2          left red line two blue block placed right left red line top far left left blue block place two red blocks stacked right red line place one blue block middle line right red line place two red blocks stacked top left side blue block right red line place blue block top highest red block sticks left side   \n",
       "\n",
       "                                                                                                                                                                                                                                                                                                                                                                    BOW_lemmatized  \n",
       "0                                                                                                                                [two, blue, block, left, right, side, left, right, line, two, red, block, top, left, blue, block, placed, two, red, block, one, space, apart, right, line, one, blue, block, top, red, block, left, red, line, red, block, top, left, red, block]  \n",
       "1  [left, red, line, place, blue, block, middle, stack, two, red, left, side, blue, block, left, red, line, place, blue, block, highest, red, stick, right, side, right, red, line, place, one, red, block, two, space, away, line, step, 3, left, side, two, space, apart, two, red, block, right, red, line, place, one, blue, block, top, red, block, blue, block, meet, touch]  \n",
       "2             [left, red, line, two, blue, block, placed, right, left, red, line, top, far, left, left, blue, block, place, two, red, block, stacked, right, red, line, place, one, blue, block, middle, line, right, red, line, place, two, red, block, stacked, top, left, side, blue, block, right, red, line, place, blue, block, top, highest, red, block, stick, left, side]  "
      ]
     },
     "execution_count": 96,
     "metadata": {},
     "output_type": "execute_result"
    }
   ],
   "source": [
    "import nltk\n",
    "from nltk.tokenize import RegexpTokenizer\n",
    "tokenizer = RegexpTokenizer(r'\\w+')\n",
    "w_tokenizer = nltk.tokenize.WhitespaceTokenizer()\n",
    "lemmatizer = nltk.stem.WordNetLemmatizer()\n",
    "\n",
    "def lemmatize_text(text):\n",
    "    return [lemmatizer.lemmatize(w) for w in tokenizer.tokenize(text)]\n",
    "df['BOW_lemmatized'] = df['BOW_clean'].apply(lemmatize_text)\n",
    "print(df.shape)\n",
    "df.head(3)"
   ]
  },
  {
   "cell_type": "markdown",
   "metadata": {},
   "source": [
    "## Calculate PMI for each rep 0/ rep 3 tower pairing within each dyad\n",
    "For each dyad, get PMI distribution for each towerset permutation (compare PL/CP, PL/CL, CP/CL) in first rep take average of this PMI (so three summary measures) then do this again for the last rep\n",
    "\n",
    "log [ p(word | target ) / p(word) ]"
   ]
  },
  {
   "cell_type": "code",
   "execution_count": 97,
   "metadata": {},
   "outputs": [
    {
     "data": {
      "text/plain": [
       "array(['0110-5784fec9-109a-4d7a-a343-4820f4d42144',\n",
       "       '0208-b497c845-b076-45c9-b958-a62a3ae6e65f',\n",
       "       '0662-7a9212c9-5aa7-44de-9ed7-4663c56562d2',\n",
       "       '0738-513adaa7-2548-44a4-8d01-7e2fb3ecbfd4',\n",
       "       '0741-0d5c3f38-e1fa-4a05-9f35-4a81c7cdbd71',\n",
       "       '1494-029e2297-bd3f-4cfe-be00-d06d36724e4e',\n",
       "       '1690-8f854c73-420c-4820-b76f-2c2ac28a3035',\n",
       "       '2083-6615b44d-57a8-4953-beca-afa15df0c195',\n",
       "       '2391-2f396ec8-517f-4681-b366-51f930bcac22',\n",
       "       '2409-8e3cd70d-3066-4782-9d23-e3fecd179ac1'], dtype=object)"
      ]
     },
     "execution_count": 97,
     "metadata": {},
     "output_type": "execute_result"
    }
   ],
   "source": [
    "df.gameid.unique()[:10]"
   ]
  },
  {
   "cell_type": "code",
   "execution_count": 98,
   "metadata": {},
   "outputs": [
    {
     "data": {
      "text/html": [
       "<div>\n",
       "<style scoped>\n",
       "    .dataframe tbody tr th:only-of-type {\n",
       "        vertical-align: middle;\n",
       "    }\n",
       "\n",
       "    .dataframe tbody tr th {\n",
       "        vertical-align: top;\n",
       "    }\n",
       "\n",
       "    .dataframe thead th {\n",
       "        text-align: right;\n",
       "    }\n",
       "</style>\n",
       "<table border=\"1\" class=\"dataframe\">\n",
       "  <thead>\n",
       "    <tr style=\"text-align: right;\">\n",
       "      <th></th>\n",
       "      <th>gameid</th>\n",
       "      <th>repNum</th>\n",
       "      <th>BOW_clean</th>\n",
       "    </tr>\n",
       "  </thead>\n",
       "  <tbody>\n",
       "    <tr>\n",
       "      <th>0</th>\n",
       "      <td>0110-5784fec9-109a-4d7a-a343-4820f4d42144</td>\n",
       "      <td>0</td>\n",
       "      <td>two blue blocks left right side left right line two red block top left blue block placed two red block one space apart right line one blue block top red block left red line red block top left red block left red line place blue block middle stack two red left side blue block left red line place blue block highest red stick right side right red line place one red block two space away line step 3 left side two spaces apart two red blocks right red line place one blue block top red block blue blocks meet/touch left red line two blue block placed right left red line top far left left blue block place two red blocks stacked right red line place one blue block middle line right red line place two red blocks stacked top left side blue block right red line place blue block top highest red block sticks left side</td>\n",
       "    </tr>\n",
       "  </tbody>\n",
       "</table>\n",
       "</div>"
      ],
      "text/plain": [
       "                                      gameid  repNum  \\\n",
       "0  0110-5784fec9-109a-4d7a-a343-4820f4d42144       0   \n",
       "\n",
       "                                                                                                                                                                                                                                                                                                                                                                                                                                                                                                                                                                                                                                                                                                                                                                                                                                       BOW_clean  \n",
       "0  two blue blocks left right side left right line two red block top left blue block placed two red block one space apart right line one blue block top red block left red line red block top left red block left red line place blue block middle stack two red left side blue block left red line place blue block highest red stick right side right red line place one red block two space away line step 3 left side two spaces apart two red blocks right red line place one blue block top red block blue blocks meet/touch left red line two blue block placed right left red line top far left left blue block place two red blocks stacked right red line place one blue block middle line right red line place two red blocks stacked top left side blue block right red line place blue block top highest red block sticks left side  "
      ]
     },
     "execution_count": 98,
     "metadata": {},
     "output_type": "execute_result"
    }
   ],
   "source": [
    "df_grouped = df.groupby(['gameid','repNum'])['BOW_clean'].apply(lambda x: ' '.join(x)).reset_index()\n",
    "df_grouped.head(1)"
   ]
  },
  {
   "cell_type": "code",
   "execution_count": 99,
   "metadata": {},
   "outputs": [],
   "source": [
    "# tower1 = 'C'\n",
    "# tower2 = 'P'\n",
    "# tower3 = 'L'\n",
    "# game = '0208-b497c845-b076-45c9-b958-a62a3ae6e65f'\n",
    "# set1 = df.loc[(df[tower1] == 1) & (df[tower2] == 1) & (df['gameid'] == game), 'BOW_clean'].iloc[0].split()\n",
    "# set2 = df_grouped.loc[(df['gameid'] == game) & (df['repNum'] == 3), 'BOW_clean'].iloc[0].split()\n",
    "\n",
    "# counts1 = Counter(set1)\n",
    "# total = sum(counts1.values())\n",
    "# d1 = {k: v / total for k, v in counts.items()}\n",
    "# #Get word counts for second set\n",
    "# counts2 = Counter(set2)\n",
    "# total = sum(counts2.values())\n",
    "# d2 = {k: v / total for k, v in counts.items()}\n",
    "\n",
    "# counts_combined = Counter(set_combined)\n",
    "# total = sum(counts_combined.values())\n",
    "# d_combined = {k: v / total for k, v in counts.items()}\n"
   ]
  },
  {
   "cell_type": "code",
   "execution_count": 100,
   "metadata": {},
   "outputs": [
    {
     "data": {
      "text/plain": [
       "Index(['gameid', 'repNum', 'C', 'L', 'P', 'content', 'BOW_clean',\n",
       "       'BOW_lemmatized'],\n",
       "      dtype='object')"
      ]
     },
     "execution_count": 100,
     "metadata": {},
     "output_type": "execute_result"
    }
   ],
   "source": [
    "df.columns"
   ]
  },
  {
   "cell_type": "code",
   "execution_count": 101,
   "metadata": {},
   "outputs": [
    {
     "name": "stdout",
     "output_type": "stream",
     "text": [
      "0.40962930860576896\n"
     ]
    },
    {
     "data": {
      "text/plain": [
       "{'red': 0.5031035776720805,\n",
       " 'two': 0.2154215052202995,\n",
       " 'squares': 0.5031035776720805,\n",
       " 'left': -0.3078266385442483,\n",
       " 'tick': 0.09763846956391607,\n",
       " 'mark': -0.19004360288786487,\n",
       " 'do': 1.1962507582320259,\n",
       " 'oppoiste': 1.1962507582320259,\n",
       " 'side': 0.5031035776720805,\n",
       " 'close': 0.5031035776720805,\n",
       " 'blues': 0.5031035776720805,\n",
       " 'blue': -0.056512210263342334,\n",
       " 'ion': 1.1962507582320259,\n",
       " 'center': 0.5031035776720805,\n",
       " 'right': 0.09763846956391607,\n",
       " 'reds': -0.19004360288786487,\n",
       " 'stack': 0.5031035776720805,\n",
       " 'top': -0.19004360288786487,\n",
       " 'hanging': 1.1962507582320259}"
      ]
     },
     "execution_count": 101,
     "metadata": {},
     "output_type": "execute_result"
    }
   ],
   "source": [
    "reps = [0,3]\n",
    "\n",
    "gameids = df['gameid'].unique()\n",
    "\n",
    "set1 = df.loc[(df[tower1] == 1) & (df[tower2] == 1) & (df['gameid'] == game), 'BOW_clean'].iloc[rep].split()\n",
    "set_combined =  df_grouped.loc[(df_grouped['gameid'] == game) & (df_grouped['repNum'] == rep), 'BOW_clean'].iloc[0].split()\n",
    "\n",
    "counts = Counter(set1)\n",
    "total = sum(counts.values())\n",
    "d1 = {k: v / total for k, v in counts.items()}\n",
    "counts = Counter(set_combined)\n",
    "total = sum(counts.values())\n",
    "d2 = {k: v / total for k, v in counts.items()}\n",
    "# countsn = Counter(n)\n",
    "# total = sum(countsn.values())\n",
    "# dn = {k: v / total for k, v in countsn.items()}\n",
    "\n",
    "#d_diff = {key: countsl[key] / countsn.get(key, 0) for key in countsl}\n",
    "out = {key: d1[key] / d2.get(key, 0)  for key in d1}\n",
    "out = {key: np.log(float(out[key])) for key in out}\n",
    "print(sum(out.values()) / float(len(out)))\n",
    "out"
   ]
  },
  {
   "cell_type": "code",
   "execution_count": 102,
   "metadata": {},
   "outputs": [
    {
     "name": "stdout",
     "output_type": "stream",
     "text": [
      "(96, 4)\n"
     ]
    },
    {
     "data": {
      "text/html": [
       "<div>\n",
       "<style scoped>\n",
       "    .dataframe tbody tr th:only-of-type {\n",
       "        vertical-align: middle;\n",
       "    }\n",
       "\n",
       "    .dataframe tbody tr th {\n",
       "        vertical-align: top;\n",
       "    }\n",
       "\n",
       "    .dataframe thead th {\n",
       "        text-align: right;\n",
       "    }\n",
       "</style>\n",
       "<table border=\"1\" class=\"dataframe\">\n",
       "  <thead>\n",
       "    <tr style=\"text-align: right;\">\n",
       "      <th></th>\n",
       "      <th>gameid</th>\n",
       "      <th>repNum</th>\n",
       "      <th>MI</th>\n",
       "      <th>PMI</th>\n",
       "    </tr>\n",
       "  </thead>\n",
       "  <tbody>\n",
       "    <tr>\n",
       "      <th>0</th>\n",
       "      <td>0110-5784fec9-109a-4d7a-a343-4820f4d42144</td>\n",
       "      <td>0</td>\n",
       "      <td>0.210989</td>\n",
       "      <td>{'two': 0.1570037488096649, 'blue': -0.10536051565782628, 'blocks': -0.24846135929849947, 'left': 0.2623642644674909, 'right': 0.1570037488096649, 'side': -0.4307829160924542, 'line': -0.17946848781154828, 'red': 0.017241806434505954, 'block': 0.3624477230244736, 'top': 0.5136786927483971, 'placed': 0.6678293725756556, 'one': 0.44468582126144585, 'space': 0.6678293725756556, 'apart': 0.6678293725756556}</td>\n",
       "    </tr>\n",
       "    <tr>\n",
       "      <th>1</th>\n",
       "      <td>0110-5784fec9-109a-4d7a-a343-4820f4d42144</td>\n",
       "      <td>3</td>\n",
       "      <td>0.079847</td>\n",
       "      <td>{'left': 0.09819202617921363, 'red': 0.08635756853221083, 'line': 0.02919915469226235, 'one': -0.2584829177595186, 'block': 0.02919915469226235, 'right': -0.0761613609655639, 'side': -0.2584829177595186, 'two': 0.14698219034864565, 'spaces': 0.43466426280042675, 'apart': 0.43466426280042675, 'blue': -0.1249515251349959, 'blocks': 0.4346642628004266, 'touch/meet': 0.43466426280042675, 'placed': 0.43466426280042675, 'meet': 0.43466426280042675, 'middle': -0.2584829177595186, 'top': -0.663948025867683}</td>\n",
       "    </tr>\n",
       "  </tbody>\n",
       "</table>\n",
       "</div>"
      ],
      "text/plain": [
       "                                      gameid  repNum        MI  \\\n",
       "0  0110-5784fec9-109a-4d7a-a343-4820f4d42144       0  0.210989   \n",
       "1  0110-5784fec9-109a-4d7a-a343-4820f4d42144       3  0.079847   \n",
       "\n",
       "                                                                                                                                                                                                                                                                                                                                                                                                                                                                                                                        PMI  \n",
       "0                                                                                                    {'two': 0.1570037488096649, 'blue': -0.10536051565782628, 'blocks': -0.24846135929849947, 'left': 0.2623642644674909, 'right': 0.1570037488096649, 'side': -0.4307829160924542, 'line': -0.17946848781154828, 'red': 0.017241806434505954, 'block': 0.3624477230244736, 'top': 0.5136786927483971, 'placed': 0.6678293725756556, 'one': 0.44468582126144585, 'space': 0.6678293725756556, 'apart': 0.6678293725756556}  \n",
       "1  {'left': 0.09819202617921363, 'red': 0.08635756853221083, 'line': 0.02919915469226235, 'one': -0.2584829177595186, 'block': 0.02919915469226235, 'right': -0.0761613609655639, 'side': -0.2584829177595186, 'two': 0.14698219034864565, 'spaces': 0.43466426280042675, 'apart': 0.43466426280042675, 'blue': -0.1249515251349959, 'blocks': 0.4346642628004266, 'touch/meet': 0.43466426280042675, 'placed': 0.43466426280042675, 'meet': 0.43466426280042675, 'middle': -0.2584829177595186, 'top': -0.663948025867683}  "
      ]
     },
     "execution_count": 102,
     "metadata": {},
     "output_type": "execute_result"
    }
   ],
   "source": [
    "tower1 = 'P'\n",
    "tower2 = 'L'\n",
    "\n",
    "reps = [0,3]\n",
    "gameids = df['gameid'].unique()\n",
    "\n",
    "rep_out = []\n",
    "game_out = []\n",
    "MI_out = []\n",
    "dict_out = []\n",
    "results = []\n",
    "for game in gameids:\n",
    "    for rep in reps:\n",
    "        set1 = df.loc[(df[tower1] == 1) & (df[tower2] == 1) & (df['gameid'] == game), 'BOW_clean'].iloc[rep].split()\n",
    "        set_combined =  df_grouped.loc[(df_grouped['gameid'] == game) & (df_grouped['repNum'] == rep), 'BOW_clean'].iloc[0].split()\n",
    "\n",
    "        counts = Counter(set1)\n",
    "        total = sum(counts.values())\n",
    "        d1 = {k: v / total for k, v in counts.items()}\n",
    "        counts = Counter(set_combined)\n",
    "        total = sum(counts.values())\n",
    "        d2 = {k: v / total for k, v in counts.items()}\n",
    "        # countsn = Counter(n)\n",
    "        # total = sum(countsn.values())\n",
    "        # dn = {k: v / total for k, v in countsn.items()}\n",
    "\n",
    "        #d_diff = {key: countsl[key] / countsn.get(key, 0) for key in countsl}\n",
    "        out = {key: d1[key] / d2.get(key, 0)  for key in d1}\n",
    "        out = {key: np.log(float(out[key])) for key in out}\n",
    "        mutual_information = sum(out.values()) / float(len(out))\n",
    "\n",
    "#         game_out.append(game)\n",
    "#         rep_out.append(rep)\n",
    "#         MI_out.append(mutual_information)\n",
    "#         dict_out.append(out)\n",
    "        results.append([game, rep, mutual_information, out])\n",
    "  \n",
    "  \n",
    "# Create the pandas DataFrame  \n",
    "df_mi = pd.DataFrame(results, columns = ['gameid', 'repNum','MI','PMI'])\n",
    "\n",
    "print(df_mi.shape)\n",
    "df_mi.head(2)"
   ]
  },
  {
   "cell_type": "code",
   "execution_count": 103,
   "metadata": {},
   "outputs": [],
   "source": [
    "PMI_0 = []\n",
    "for d in df_mi[df_mi['repNum'] == 0]['PMI']:\n",
    "    PMI_0.append(list(d.values()))\n",
    "PMI_0 = [ item for elem in PMI_0 for item in elem]\n",
    "\n",
    "\n",
    "PMI_3 = []\n",
    "for d in df_mi[df_mi['repNum'] == 3]['PMI']:\n",
    "    PMI_3.append(list(d.values()))\n",
    "PMI_3 = [ item for elem in PMI_3 for item in elem]"
   ]
  },
  {
   "cell_type": "code",
   "execution_count": 104,
   "metadata": {},
   "outputs": [
    {
     "data": {
      "text/plain": [
       "<matplotlib.legend.Legend at 0x1a25320250>"
      ]
     },
     "execution_count": 104,
     "metadata": {},
     "output_type": "execute_result"
    },
    {
     "data": {
      "image/png": "[encoded data removed]",
      "text/plain": [
       "<Figure size 576x432 with 1 Axes>"
      ]
     },
     "metadata": {
      "needs_background": "light"
     },
     "output_type": "display_data"
    }
   ],
   "source": [
    "plt.figure(figsize=(8,6))\n",
    "plt.hist(PMI_0, bins=50, alpha=0.5, label=\"PMI_0\")\n",
    "plt.hist(PMI_3, bins=50, alpha=0.5, label=\"PMI_3\")\n",
    "\n",
    "plt.xlabel(\"PMI\", size=14)\n",
    "plt.ylabel(\"Count\", size=14)\n",
    "plt.title(\"PMI for P/L in rep 0 and rep 3\")\n",
    "plt.legend(loc='upper right')"
   ]
  },
  {
   "cell_type": "code",
   "execution_count": 105,
   "metadata": {},
   "outputs": [
    {
     "data": {
      "text/plain": [
       "Text(0.5, 0, 'RepNum')"
      ]
     },
     "execution_count": 105,
     "metadata": {},
     "output_type": "execute_result"
    },
    {
     "data": {
      "image/png": "[encoded data removed]",
      "text/plain": [
       "<Figure size 432x288 with 1 Axes>"
      ]
     },
     "metadata": {
      "needs_background": "light"
     },
     "output_type": "display_data"
    }
   ],
   "source": [
    "d = {'repNum':'C/P Towerset Mutual information'}\n",
    "df1 = df_mi.groupby('repNum')['MI'].agg(['mean','sem']).reset_index()\n",
    "\n",
    "fig, ax = plt.subplots()\n",
    "ax.bar(data = df1, x = 'repNum', height = 'mean', yerr='sem')\n",
    "plt.title(\"C/L Towerset Mutual information\")\n",
    "plt.ylabel(\"Mutual Information\")\n",
    "plt.xlabel(\"RepNum\")\n",
    "#plt.errorbar(data = df1, x='repNum', y='MI') \n",
    "\n",
    "# plt.yscale(\"log\") \n",
    "# plt.xlabel(\"Genre\") "
   ]
  },
  {
   "cell_type": "markdown",
   "metadata": {},
   "source": [
    "## Isolate words for specific tower within rep and within dyad"
   ]
  },
  {
   "cell_type": "code",
   "execution_count": 114,
   "metadata": {},
   "outputs": [
    {
     "name": "stdout",
     "output_type": "stream",
     "text": [
      "(96, 4)\n"
     ]
    },
    {
     "data": {
      "text/html": [
       "<div>\n",
       "<style scoped>\n",
       "    .dataframe tbody tr th:only-of-type {\n",
       "        vertical-align: middle;\n",
       "    }\n",
       "\n",
       "    .dataframe tbody tr th {\n",
       "        vertical-align: top;\n",
       "    }\n",
       "\n",
       "    .dataframe thead th {\n",
       "        text-align: right;\n",
       "    }\n",
       "</style>\n",
       "<table border=\"1\" class=\"dataframe\">\n",
       "  <thead>\n",
       "    <tr style=\"text-align: right;\">\n",
       "      <th></th>\n",
       "      <th>gameid</th>\n",
       "      <th>repNum</th>\n",
       "      <th>tower</th>\n",
       "      <th>words</th>\n",
       "    </tr>\n",
       "  </thead>\n",
       "  <tbody>\n",
       "    <tr>\n",
       "      <th>0</th>\n",
       "      <td>0110-5784fec9-109a-4d7a-a343-4820f4d42144</td>\n",
       "      <td>0</td>\n",
       "      <td>C</td>\n",
       "      <td>[highest, middle, place]</td>\n",
       "    </tr>\n",
       "    <tr>\n",
       "      <th>1</th>\n",
       "      <td>0110-5784fec9-109a-4d7a-a343-4820f4d42144</td>\n",
       "      <td>3</td>\n",
       "      <td>C</td>\n",
       "      <td>[highest, faces]</td>\n",
       "    </tr>\n",
       "    <tr>\n",
       "      <th>2</th>\n",
       "      <td>0208-b497c845-b076-45c9-b958-a62a3ae6e65f</td>\n",
       "      <td>0</td>\n",
       "      <td>C</td>\n",
       "      <td>[]</td>\n",
       "    </tr>\n",
       "    <tr>\n",
       "      <th>3</th>\n",
       "      <td>0208-b497c845-b076-45c9-b958-a62a3ae6e65f</td>\n",
       "      <td>3</td>\n",
       "      <td>C</td>\n",
       "      <td>[c, tall, 1]</td>\n",
       "    </tr>\n",
       "    <tr>\n",
       "      <th>4</th>\n",
       "      <td>0662-7a9212c9-5aa7-44de-9ed7-4663c56562d2</td>\n",
       "      <td>0</td>\n",
       "      <td>C</td>\n",
       "      <td>[3, c, vert]</td>\n",
       "    </tr>\n",
       "    <tr>\n",
       "      <th>5</th>\n",
       "      <td>0662-7a9212c9-5aa7-44de-9ed7-4663c56562d2</td>\n",
       "      <td>3</td>\n",
       "      <td>C</td>\n",
       "      <td>[3, c, long]</td>\n",
       "    </tr>\n",
       "    <tr>\n",
       "      <th>6</th>\n",
       "      <td>0738-513adaa7-2548-44a4-8d01-7e2fb3ecbfd4</td>\n",
       "      <td>0</td>\n",
       "      <td>C</td>\n",
       "      <td>[that]</td>\n",
       "    </tr>\n",
       "    <tr>\n",
       "      <th>7</th>\n",
       "      <td>0738-513adaa7-2548-44a4-8d01-7e2fb3ecbfd4</td>\n",
       "      <td>3</td>\n",
       "      <td>C</td>\n",
       "      <td>[c, tall]</td>\n",
       "    </tr>\n",
       "    <tr>\n",
       "      <th>8</th>\n",
       "      <td>0741-0d5c3f38-e1fa-4a05-9f35-4a81c7cdbd71</td>\n",
       "      <td>0</td>\n",
       "      <td>C</td>\n",
       "      <td>[middle, go]</td>\n",
       "    </tr>\n",
       "    <tr>\n",
       "      <th>9</th>\n",
       "      <td>0741-0d5c3f38-e1fa-4a05-9f35-4a81c7cdbd71</td>\n",
       "      <td>3</td>\n",
       "      <td>C</td>\n",
       "      <td>[middle, going]</td>\n",
       "    </tr>\n",
       "  </tbody>\n",
       "</table>\n",
       "</div>"
      ],
      "text/plain": [
       "                                      gameid  repNum tower  \\\n",
       "0  0110-5784fec9-109a-4d7a-a343-4820f4d42144       0     C   \n",
       "1  0110-5784fec9-109a-4d7a-a343-4820f4d42144       3     C   \n",
       "2  0208-b497c845-b076-45c9-b958-a62a3ae6e65f       0     C   \n",
       "3  0208-b497c845-b076-45c9-b958-a62a3ae6e65f       3     C   \n",
       "4  0662-7a9212c9-5aa7-44de-9ed7-4663c56562d2       0     C   \n",
       "5  0662-7a9212c9-5aa7-44de-9ed7-4663c56562d2       3     C   \n",
       "6  0738-513adaa7-2548-44a4-8d01-7e2fb3ecbfd4       0     C   \n",
       "7  0738-513adaa7-2548-44a4-8d01-7e2fb3ecbfd4       3     C   \n",
       "8  0741-0d5c3f38-e1fa-4a05-9f35-4a81c7cdbd71       0     C   \n",
       "9  0741-0d5c3f38-e1fa-4a05-9f35-4a81c7cdbd71       3     C   \n",
       "\n",
       "                      words  \n",
       "0  [highest, middle, place]  \n",
       "1          [highest, faces]  \n",
       "2                        []  \n",
       "3              [c, tall, 1]  \n",
       "4              [3, c, vert]  \n",
       "5              [3, c, long]  \n",
       "6                    [that]  \n",
       "7                 [c, tall]  \n",
       "8              [middle, go]  \n",
       "9           [middle, going]  "
      ]
     },
     "execution_count": 114,
     "metadata": {},
     "output_type": "execute_result"
    }
   ],
   "source": [
    "#ISOLATE TOWER 1\n",
    "tower1 = 'C'\n",
    "tower2 = 'P'\n",
    "tower3 = 'L'\n",
    "\n",
    "reps = [0,3]\n",
    "gameids = df['gameid'].unique()\n",
    "\n",
    "rep_out = []\n",
    "game_out = []\n",
    "MI_out = []\n",
    "dict_out = []\n",
    "results = []\n",
    "for game in gameids:\n",
    "    for rep in reps:\n",
    "        target_words_1 = df.loc[(df[tower1] == 1) & (df[tower2] == 1) & (df['gameid'] == game), 'BOW_clean'].iloc[rep].split()\n",
    "        target_words_2 = df.loc[(df[tower1] == 1) & (df[tower3] == 1) & (df['gameid'] == game), 'BOW_clean'].iloc[rep].split()\n",
    "        non_target_words = df.loc[(df[tower2] == 1) & (df[tower3] == 1) & (df['gameid'] == game), 'BOW_clean'].iloc[rep].split()\n",
    "        \n",
    "        target_specific_1 = list(set(target_words_1) - set(non_target_words))\n",
    "        target_specific_2 = list(set(target_words_2) - set(non_target_words))\n",
    "        specific_words = list(set(target_specific_1) & set(target_specific_2))\n",
    "\n",
    "\n",
    "        results.append([game, rep, tower1, specific_words])\n",
    "  \n",
    "  \n",
    "# # Create the pandas DataFrame  \n",
    "df_intersection = pd.DataFrame(results, columns = ['gameid', 'repNum','tower','words'])\n",
    "\n",
    "print(df_intersection.shape)\n",
    "df_intersection.head(10)\n"
   ]
  },
  {
   "cell_type": "code",
   "execution_count": 117,
   "metadata": {
    "scrolled": true
   },
   "outputs": [
    {
     "name": "stdout",
     "output_type": "stream",
     "text": [
      "48\n"
     ]
    },
    {
     "data": {
      "text/plain": [
       "[('c', 19),\n",
       " ('tall', 6),\n",
       " ('third', 3),\n",
       " ('3rd', 3),\n",
       " ('red', 3),\n",
       " ('blue', 3),\n",
       " ('top', 3),\n",
       " ('1', 2),\n",
       " ('3', 2),\n",
       " ('long', 2),\n",
       " ('middle', 2),\n",
       " ('shape', 2),\n",
       " ('block', 2),\n",
       " ('highest', 1),\n",
       " ('faces', 1),\n",
       " ('going', 1),\n",
       " ('cshape', 1),\n",
       " ('direction', 1),\n",
       " ('centered', 1),\n",
       " ('blocks', 1),\n",
       " ('gameboard', 1),\n",
       " ('two', 1),\n",
       " ('6', 1),\n",
       " ('hanging', 1),\n",
       " ('4', 1),\n",
       " ('sixth', 1),\n",
       " ('6th', 1),\n",
       " ('half', 1),\n",
       " ('skinny', 1),\n",
       " ('high', 1),\n",
       " ('build', 1),\n",
       " ('round', 1),\n",
       " ('hash', 1),\n",
       " ('left', 1),\n",
       " ('sticking', 1),\n",
       " ('3/4', 1),\n",
       " ('2', 1),\n",
       " ('one', 1),\n",
       " ('tower', 1),\n",
       " ('3&4', 1),\n",
       " ('column', 1),\n",
       " ('[', 1),\n",
       " ('good', 1),\n",
       " ('mirror', 1),\n",
       " ('side', 1),\n",
       " ('reds', 1),\n",
       " ('fourth', 1),\n",
       " ('center', 1)]"
      ]
     },
     "execution_count": 117,
     "metadata": {},
     "output_type": "execute_result"
    }
   ],
   "source": [
    "s = df_intersection[df_intersection['repNum'] == 3]['words']\n",
    "l = [element for list_ in s for element in list_]\n",
    "counts = Counter(l)\n",
    "print(len(counts.keys()))\n",
    "counts.most_common()\n"
   ]
  },
  {
   "cell_type": "code",
   "execution_count": 118,
   "metadata": {},
   "outputs": [
    {
     "data": {
      "image/png": "[encoded data removed]",
      "text/plain": [
       "<Figure size 800x400 with 1 Axes>"
      ]
     },
     "metadata": {},
     "output_type": "display_data"
    }
   ],
   "source": [
    "labels, values = zip(*counts.items())\n",
    "\n",
    "# sort your values in descending order\n",
    "indSort = np.argsort(values)[::-1]\n",
    "\n",
    "from matplotlib.pyplot import figure\n",
    "figure(num=None, figsize=(10, 5), dpi=80, facecolor='w', edgecolor='k')\n",
    "x_limit = 30\n",
    "\n",
    "# rearrange your data\n",
    "labels = np.array(labels)[indSort][:x_limit]\n",
    "values = np.array(values)[indSort][:x_limit]\n",
    "\n",
    "indexes = np.arange(len(labels))\n",
    "\n",
    "bar_width = 0.35\n",
    "\n",
    "plt.bar(indexes, values)\n",
    "\n",
    "# add labels\n",
    "plt.xticks(indexes + bar_width, labels,  rotation='vertical')\n",
    "plt.show()"
   ]
  },
  {
   "cell_type": "code",
   "execution_count": 166,
   "metadata": {},
   "outputs": [
    {
     "data": {
      "text/html": [
       "<div>\n",
       "<style scoped>\n",
       "    .dataframe tbody tr th:only-of-type {\n",
       "        vertical-align: middle;\n",
       "    }\n",
       "\n",
       "    .dataframe tbody tr th {\n",
       "        vertical-align: top;\n",
       "    }\n",
       "\n",
       "    .dataframe thead th {\n",
       "        text-align: right;\n",
       "    }\n",
       "</style>\n",
       "<table border=\"1\" class=\"dataframe\">\n",
       "  <thead>\n",
       "    <tr style=\"text-align: right;\">\n",
       "      <th></th>\n",
       "      <th>repNum</th>\n",
       "      <th>mean</th>\n",
       "      <th>sem</th>\n",
       "    </tr>\n",
       "  </thead>\n",
       "  <tbody>\n",
       "    <tr>\n",
       "      <th>0</th>\n",
       "      <td>0</td>\n",
       "      <td>0.440992</td>\n",
       "      <td>0.042765</td>\n",
       "    </tr>\n",
       "    <tr>\n",
       "      <th>1</th>\n",
       "      <td>3</td>\n",
       "      <td>0.288055</td>\n",
       "      <td>0.030938</td>\n",
       "    </tr>\n",
       "  </tbody>\n",
       "</table>\n",
       "</div>"
      ],
      "text/plain": [
       "   repNum      mean       sem\n",
       "0       0  0.440992  0.042765\n",
       "1       3  0.288055  0.030938"
      ]
     },
     "execution_count": 166,
     "metadata": {},
     "output_type": "execute_result"
    }
   ],
   "source": [
    "df1"
   ]
  },
  {
   "cell_type": "markdown",
   "metadata": {},
   "source": [
    "### Build a matrix of each word in the corpus and its TF-IDF for that comment"
   ]
  },
  {
   "cell_type": "code",
   "execution_count": 151,
   "metadata": {},
   "outputs": [],
   "source": [
    "from sklearn.feature_extraction.text import TfidfVectorizer\n",
    "corpus = df['BOW_clean']\n",
    "vectorizer = TfidfVectorizer(sublinear_tf = True)\n",
    "vectors = vectorizer.fit_transform(corpus)\n",
    "feature_names = vectorizer.get_feature_names()\n",
    "dense = vectors.todense()\n",
    "denselist = dense.tolist()\n",
    "df_vectors = pd.DataFrame(denselist, columns=feature_names)"
   ]
  },
  {
   "cell_type": "markdown",
   "metadata": {},
   "source": [
    "### Select the top 5 words (TF-IDF) for each comment\n",
    "##### Intuitively, this roughly corresponds to what this person is talking about relatively more than any other person"
   ]
  },
  {
   "cell_type": "code",
   "execution_count": null,
   "metadata": {},
   "outputs": [],
   "source": [
    "Tops = pd.DataFrame(df_vectors.apply(lambda x:list(df_vectors.columns[np.array(x).argsort()[::-1][:15]]), axis=1).to_list())\n",
    "\n",
    "Tops"
   ]
  },
  {
   "cell_type": "markdown",
   "metadata": {},
   "source": [
    "## Okay, that was a dud, let's just plot histograms of word frequency for each repNum"
   ]
  },
  {
   "cell_type": "markdown",
   "metadata": {},
   "source": [
    "## Build Towerset and dyad specific BOW separated by first and last rep"
   ]
  },
  {
   "cell_type": "code",
   "execution_count": null,
   "metadata": {},
   "outputs": [],
   "source": [
    "tower1 = 'C'\n",
    "tower2 = 'L'\n",
    "word_list = []\n",
    "gameid = df['gameid'].unique()\n",
    "for game in gameid:\n",
    "    set1 = df.loc[(df[tower1] == 1) & (df[tower2] == 1) & (df['gameid'] == game), 'BOW_clean'].iloc[0].split()\n",
    "    set2 = df.loc[(df[tower1] == 1) & (df[tower2] == 1) & (df['gameid'] == game), 'BOW_clean'].iloc[3].split()\n",
    "    #Get word counts for first set\n",
    "    counts = Counter(set1)\n",
    "    total = sum(counts.values())\n",
    "    d1 = {k: v / total for k, v in counts.items()}\n",
    "    #Get word counts for second set\n",
    "    counts = Counter(set2)\n",
    "    total = sum(counts.values())\n",
    "    d2 = {k: v / total for k, v in counts.items()}\n",
    "    labels, values = zip(*counts.items())\n",
    "\n",
    "    #Get difference in count dicts\n",
    "    d_diff = {key: d2[key] - d1.get(key, 0) for key in d2}\n",
    "    words = list({k: v for k, v in sorted(d_diff.items(), key=lambda item: item[1], reverse = True)}.items())[:5]\n",
    "    word_list.append(words)\n"
   ]
  },
  {
   "cell_type": "code",
   "execution_count": null,
   "metadata": {},
   "outputs": [],
   "source": [
    "out = pd.DataFrame({'gameid':gameid,'word_list':word_list})"
   ]
  },
  {
   "cell_type": "code",
   "execution_count": null,
   "metadata": {},
   "outputs": [],
   "source": [
    "print(out.shape)\n",
    "out"
   ]
  },
  {
   "cell_type": "markdown",
   "metadata": {},
   "source": [
    "## WORD CLOUD!\n",
    "perhaps pointless, but definitely fun!"
   ]
  },
  {
   "cell_type": "code",
   "execution_count": null,
   "metadata": {},
   "outputs": [],
   "source": [
    "from wordcloud import WordCloud\n",
    "figure(num=None, figsize=(10, 10), dpi=80, facecolor='w', edgecolor='k')\n",
    "wordcloud = WordCloud().generate(df['BOW_clean'].iloc[1])\n",
    "\n",
    "plt.imshow(wordcloud, interpolation='bilinear')\n",
    "plt.axis(\"off\")\n",
    "plt.show()\n"
   ]
  },
  {
   "cell_type": "markdown",
   "metadata": {},
   "source": [
    "## Try TF-IDF with tower specific docs"
   ]
  },
  {
   "cell_type": "code",
   "execution_count": null,
   "metadata": {},
   "outputs": [],
   "source": [
    "CP_3 = df.loc[(df['C'] == 1) & (df['P'] == 1), 'BOW_clean'].iloc[3]\n",
    "CL_3 = df.loc[(df['C'] == 1) & (df['L'] == 1), 'BOW_clean'].iloc[3]\n",
    "LP_3 = df.loc[(df['L'] == 1) & (df['P'] == 1), 'BOW_clean'].iloc[3]\n",
    "\n",
    "doc1 = \"hello this this this this this two five ten\"\n",
    "doc2 = \"Other thing this this this this this two hello else\"\n",
    "\n",
    "vectorizer = TfidfVectorizer(sublinear_tf = True)\n",
    "vectors = vectorizer.fit_transform([doc1,doc2])\n",
    "feature_names = vectorizer.get_feature_names()\n",
    "dense = vectors.todense()\n",
    "denselist = dense.tolist()\n",
    "df_vectors = pd.DataFrame(denselist, columns=feature_names)\n",
    "\n",
    "Tops = pd.DataFrame(df_vectors.apply(lambda x:list(df_vectors.columns[np.array(x).argsort()[::-1][:15]]), axis=1).to_list())\n",
    "\n",
    "Tops"
   ]
  },
  {
   "cell_type": "code",
   "execution_count": null,
   "metadata": {},
   "outputs": [],
   "source": [
    "len(doc1)"
   ]
  },
  {
   "cell_type": "code",
   "execution_count": null,
   "metadata": {},
   "outputs": [],
   "source": []
  }
 ],
 "metadata": {
  "kernelspec": {
   "display_name": "Python 3",
   "language": "python",
   "name": "python3"
  },
  "language_info": {
   "codemirror_mode": {
    "name": "ipython",
    "version": 3
   },
   "file_extension": ".py",
   "mimetype": "text/x-python",
   "name": "python",
   "nbconvert_exporter": "python",
   "pygments_lexer": "ipython3",
   "version": "3.7.6"
  }
 },
 "nbformat": 4,
 "nbformat_minor": 4
}
